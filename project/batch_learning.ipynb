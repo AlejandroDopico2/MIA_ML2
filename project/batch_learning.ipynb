{
 "cells": [
  {
   "cell_type": "markdown",
   "metadata": {},
   "source": [
    "# Batch Learning"
   ]
  },
  {
   "cell_type": "markdown",
   "metadata": {},
   "source": [
    "# Import Libraries"
   ]
  },
  {
   "cell_type": "code",
   "execution_count": 285,
   "metadata": {},
   "outputs": [],
   "source": [
    "from sklearn.model_selection import GridSearchCV\n",
    "from sklearn.metrics import mean_absolute_error\n",
    "from sklearn.tree import DecisionTreeRegressor\n",
    "from sklearn.ensemble import RandomForestRegressor\n",
    "from sklearn.preprocessing import LabelEncoder, StandardScaler\n",
    "from sklearn.compose import make_column_transformer\n",
    "from sklearn.pipeline import make_pipeline\n",
    "\n",
    "import numpy as np\n",
    "from rich import print\n",
    "\n",
    "import pandas as pd"
   ]
  },
  {
   "cell_type": "markdown",
   "metadata": {},
   "source": [
    "## Split data"
   ]
  },
  {
   "cell_type": "code",
   "execution_count": 286,
   "metadata": {},
   "outputs": [
    {
     "data": {
      "text/html": [
       "<div>\n",
       "<style scoped>\n",
       "    .dataframe tbody tr th:only-of-type {\n",
       "        vertical-align: middle;\n",
       "    }\n",
       "\n",
       "    .dataframe tbody tr th {\n",
       "        vertical-align: top;\n",
       "    }\n",
       "\n",
       "    .dataframe thead th {\n",
       "        text-align: right;\n",
       "    }\n",
       "</style>\n",
       "<table border=\"1\" class=\"dataframe\">\n",
       "  <thead>\n",
       "    <tr style=\"text-align: right;\">\n",
       "      <th></th>\n",
       "      <th>CO(GT)</th>\n",
       "      <th>PT08.S1(CO)</th>\n",
       "      <th>NMHC(GT)</th>\n",
       "      <th>C6H6(GT)</th>\n",
       "      <th>PT08.S2(NMHC)</th>\n",
       "      <th>NOx(GT)</th>\n",
       "      <th>PT08.S3(NOx)</th>\n",
       "      <th>NO2(GT)</th>\n",
       "      <th>PT08.S4(NO2)</th>\n",
       "      <th>PT08.S5(O3)</th>\n",
       "      <th>RH</th>\n",
       "      <th>AH</th>\n",
       "    </tr>\n",
       "  </thead>\n",
       "  <tbody>\n",
       "    <tr>\n",
       "      <th>count</th>\n",
       "      <td>9357.000000</td>\n",
       "      <td>9357.000000</td>\n",
       "      <td>9357.000000</td>\n",
       "      <td>9357.000000</td>\n",
       "      <td>9357.000000</td>\n",
       "      <td>9357.000000</td>\n",
       "      <td>9357.000000</td>\n",
       "      <td>9357.000000</td>\n",
       "      <td>9357.000000</td>\n",
       "      <td>9357.000000</td>\n",
       "      <td>9357.000000</td>\n",
       "      <td>9357.000000</td>\n",
       "    </tr>\n",
       "    <tr>\n",
       "      <th>mean</th>\n",
       "      <td>-34.207524</td>\n",
       "      <td>1048.990061</td>\n",
       "      <td>-159.090093</td>\n",
       "      <td>1.865683</td>\n",
       "      <td>894.595276</td>\n",
       "      <td>168.616971</td>\n",
       "      <td>794.990168</td>\n",
       "      <td>58.148873</td>\n",
       "      <td>1391.479641</td>\n",
       "      <td>975.072032</td>\n",
       "      <td>39.485380</td>\n",
       "      <td>-6.837604</td>\n",
       "    </tr>\n",
       "    <tr>\n",
       "      <th>std</th>\n",
       "      <td>77.657170</td>\n",
       "      <td>329.832710</td>\n",
       "      <td>139.789093</td>\n",
       "      <td>41.380206</td>\n",
       "      <td>342.333252</td>\n",
       "      <td>257.433866</td>\n",
       "      <td>321.993552</td>\n",
       "      <td>126.940455</td>\n",
       "      <td>467.210125</td>\n",
       "      <td>456.938184</td>\n",
       "      <td>51.216145</td>\n",
       "      <td>38.976670</td>\n",
       "    </tr>\n",
       "    <tr>\n",
       "      <th>min</th>\n",
       "      <td>-200.000000</td>\n",
       "      <td>-200.000000</td>\n",
       "      <td>-200.000000</td>\n",
       "      <td>-200.000000</td>\n",
       "      <td>-200.000000</td>\n",
       "      <td>-200.000000</td>\n",
       "      <td>-200.000000</td>\n",
       "      <td>-200.000000</td>\n",
       "      <td>-200.000000</td>\n",
       "      <td>-200.000000</td>\n",
       "      <td>-200.000000</td>\n",
       "      <td>-200.000000</td>\n",
       "    </tr>\n",
       "    <tr>\n",
       "      <th>25%</th>\n",
       "      <td>0.600000</td>\n",
       "      <td>921.000000</td>\n",
       "      <td>-200.000000</td>\n",
       "      <td>4.000000</td>\n",
       "      <td>711.000000</td>\n",
       "      <td>50.000000</td>\n",
       "      <td>637.000000</td>\n",
       "      <td>53.000000</td>\n",
       "      <td>1185.000000</td>\n",
       "      <td>700.000000</td>\n",
       "      <td>34.100000</td>\n",
       "      <td>0.692300</td>\n",
       "    </tr>\n",
       "    <tr>\n",
       "      <th>50%</th>\n",
       "      <td>1.500000</td>\n",
       "      <td>1053.000000</td>\n",
       "      <td>-200.000000</td>\n",
       "      <td>7.900000</td>\n",
       "      <td>895.000000</td>\n",
       "      <td>141.000000</td>\n",
       "      <td>794.000000</td>\n",
       "      <td>96.000000</td>\n",
       "      <td>1446.000000</td>\n",
       "      <td>942.000000</td>\n",
       "      <td>48.600000</td>\n",
       "      <td>0.976800</td>\n",
       "    </tr>\n",
       "    <tr>\n",
       "      <th>75%</th>\n",
       "      <td>2.600000</td>\n",
       "      <td>1221.000000</td>\n",
       "      <td>-200.000000</td>\n",
       "      <td>13.600000</td>\n",
       "      <td>1105.000000</td>\n",
       "      <td>284.000000</td>\n",
       "      <td>960.000000</td>\n",
       "      <td>133.000000</td>\n",
       "      <td>1662.000000</td>\n",
       "      <td>1255.000000</td>\n",
       "      <td>61.900000</td>\n",
       "      <td>1.296200</td>\n",
       "    </tr>\n",
       "    <tr>\n",
       "      <th>max</th>\n",
       "      <td>11.900000</td>\n",
       "      <td>2040.000000</td>\n",
       "      <td>1189.000000</td>\n",
       "      <td>63.700000</td>\n",
       "      <td>2214.000000</td>\n",
       "      <td>1479.000000</td>\n",
       "      <td>2683.000000</td>\n",
       "      <td>340.000000</td>\n",
       "      <td>2775.000000</td>\n",
       "      <td>2523.000000</td>\n",
       "      <td>88.700000</td>\n",
       "      <td>2.231000</td>\n",
       "    </tr>\n",
       "  </tbody>\n",
       "</table>\n",
       "</div>"
      ],
      "text/plain": [
       "            CO(GT)  PT08.S1(CO)     NMHC(GT)     C6H6(GT)  PT08.S2(NMHC)  \\\n",
       "count  9357.000000  9357.000000  9357.000000  9357.000000    9357.000000   \n",
       "mean    -34.207524  1048.990061  -159.090093     1.865683     894.595276   \n",
       "std      77.657170   329.832710   139.789093    41.380206     342.333252   \n",
       "min    -200.000000  -200.000000  -200.000000  -200.000000    -200.000000   \n",
       "25%       0.600000   921.000000  -200.000000     4.000000     711.000000   \n",
       "50%       1.500000  1053.000000  -200.000000     7.900000     895.000000   \n",
       "75%       2.600000  1221.000000  -200.000000    13.600000    1105.000000   \n",
       "max      11.900000  2040.000000  1189.000000    63.700000    2214.000000   \n",
       "\n",
       "           NOx(GT)  PT08.S3(NOx)      NO2(GT)  PT08.S4(NO2)  PT08.S5(O3)  \\\n",
       "count  9357.000000   9357.000000  9357.000000   9357.000000  9357.000000   \n",
       "mean    168.616971    794.990168    58.148873   1391.479641   975.072032   \n",
       "std     257.433866    321.993552   126.940455    467.210125   456.938184   \n",
       "min    -200.000000   -200.000000  -200.000000   -200.000000  -200.000000   \n",
       "25%      50.000000    637.000000    53.000000   1185.000000   700.000000   \n",
       "50%     141.000000    794.000000    96.000000   1446.000000   942.000000   \n",
       "75%     284.000000    960.000000   133.000000   1662.000000  1255.000000   \n",
       "max    1479.000000   2683.000000   340.000000   2775.000000  2523.000000   \n",
       "\n",
       "                RH           AH  \n",
       "count  9357.000000  9357.000000  \n",
       "mean     39.485380    -6.837604  \n",
       "std      51.216145    38.976670  \n",
       "min    -200.000000  -200.000000  \n",
       "25%      34.100000     0.692300  \n",
       "50%      48.600000     0.976800  \n",
       "75%      61.900000     1.296200  \n",
       "max      88.700000     2.231000  "
      ]
     },
     "execution_count": 286,
     "metadata": {},
     "output_type": "execute_result"
    }
   ],
   "source": [
    "data = pd.read_csv(\"./air.csv\")\n",
    "targets = data.pop(\"T\")\n",
    "\n",
    "data.describe()"
   ]
  },
  {
   "cell_type": "code",
   "execution_count": 287,
   "metadata": {},
   "outputs": [],
   "source": [
    "# TODO: Test if its really necessary to do the preprocess\n",
    "\n",
    "encoder = LabelEncoder()\n",
    "\n",
    "# data[\"Time\"] = encoder.fit_transform(data[\"Time\"])\n",
    "# data[\"Month\"] = data.Date.map(lambda x: int(x.split(\"/\")[1]))\n",
    "# data[\"Season\"] = (data.Month % 12)//3\n",
    "# data[\"Time_cos\"] = data.Time.map(np.cos)\n",
    "# data[\"Time_sin\"] = data.Time.map(np.sin)\n",
    "\n",
    "# data = pd.get_dummies(data, columns = [\"Month\", \"Season\"])\n",
    "# data = pd.get_dummies(data, columns = [\"Season\"])\n",
    "data.drop(columns = ['Date'], inplace = True)\n"
   ]
  },
  {
   "cell_type": "code",
   "execution_count": 294,
   "metadata": {},
   "outputs": [
    {
     "data": {
      "text/html": [
       "<div>\n",
       "<style scoped>\n",
       "    .dataframe tbody tr th:only-of-type {\n",
       "        vertical-align: middle;\n",
       "    }\n",
       "\n",
       "    .dataframe tbody tr th {\n",
       "        vertical-align: top;\n",
       "    }\n",
       "\n",
       "    .dataframe thead th {\n",
       "        text-align: right;\n",
       "    }\n",
       "</style>\n",
       "<table border=\"1\" class=\"dataframe\">\n",
       "  <thead>\n",
       "    <tr style=\"text-align: right;\">\n",
       "      <th></th>\n",
       "      <th>Time</th>\n",
       "      <th>CO(GT)</th>\n",
       "      <th>PT08.S1(CO)</th>\n",
       "      <th>NMHC(GT)</th>\n",
       "      <th>C6H6(GT)</th>\n",
       "      <th>PT08.S2(NMHC)</th>\n",
       "      <th>NOx(GT)</th>\n",
       "      <th>PT08.S3(NOx)</th>\n",
       "      <th>NO2(GT)</th>\n",
       "      <th>PT08.S4(NO2)</th>\n",
       "      <th>PT08.S5(O3)</th>\n",
       "      <th>RH</th>\n",
       "      <th>AH</th>\n",
       "    </tr>\n",
       "  </thead>\n",
       "  <tbody>\n",
       "    <tr>\n",
       "      <th>0</th>\n",
       "      <td>18:00:00</td>\n",
       "      <td>2.6</td>\n",
       "      <td>1360.0</td>\n",
       "      <td>150.0</td>\n",
       "      <td>11.9</td>\n",
       "      <td>1046.0</td>\n",
       "      <td>166.0</td>\n",
       "      <td>1056.0</td>\n",
       "      <td>113.0</td>\n",
       "      <td>1692.0</td>\n",
       "      <td>1268.0</td>\n",
       "      <td>48.9</td>\n",
       "      <td>0.7578</td>\n",
       "    </tr>\n",
       "    <tr>\n",
       "      <th>1</th>\n",
       "      <td>19:00:00</td>\n",
       "      <td>2.0</td>\n",
       "      <td>1292.0</td>\n",
       "      <td>112.0</td>\n",
       "      <td>9.4</td>\n",
       "      <td>955.0</td>\n",
       "      <td>103.0</td>\n",
       "      <td>1174.0</td>\n",
       "      <td>92.0</td>\n",
       "      <td>1559.0</td>\n",
       "      <td>972.0</td>\n",
       "      <td>47.7</td>\n",
       "      <td>0.7255</td>\n",
       "    </tr>\n",
       "    <tr>\n",
       "      <th>2</th>\n",
       "      <td>20:00:00</td>\n",
       "      <td>2.2</td>\n",
       "      <td>1402.0</td>\n",
       "      <td>88.0</td>\n",
       "      <td>9.0</td>\n",
       "      <td>939.0</td>\n",
       "      <td>131.0</td>\n",
       "      <td>1140.0</td>\n",
       "      <td>114.0</td>\n",
       "      <td>1555.0</td>\n",
       "      <td>1074.0</td>\n",
       "      <td>54.0</td>\n",
       "      <td>0.7502</td>\n",
       "    </tr>\n",
       "    <tr>\n",
       "      <th>3</th>\n",
       "      <td>21:00:00</td>\n",
       "      <td>2.2</td>\n",
       "      <td>1376.0</td>\n",
       "      <td>80.0</td>\n",
       "      <td>9.2</td>\n",
       "      <td>948.0</td>\n",
       "      <td>172.0</td>\n",
       "      <td>1092.0</td>\n",
       "      <td>122.0</td>\n",
       "      <td>1584.0</td>\n",
       "      <td>1203.0</td>\n",
       "      <td>60.0</td>\n",
       "      <td>0.7867</td>\n",
       "    </tr>\n",
       "    <tr>\n",
       "      <th>4</th>\n",
       "      <td>22:00:00</td>\n",
       "      <td>1.6</td>\n",
       "      <td>1272.0</td>\n",
       "      <td>51.0</td>\n",
       "      <td>6.5</td>\n",
       "      <td>836.0</td>\n",
       "      <td>131.0</td>\n",
       "      <td>1205.0</td>\n",
       "      <td>116.0</td>\n",
       "      <td>1490.0</td>\n",
       "      <td>1110.0</td>\n",
       "      <td>59.6</td>\n",
       "      <td>0.7888</td>\n",
       "    </tr>\n",
       "  </tbody>\n",
       "</table>\n",
       "</div>"
      ],
      "text/plain": [
       "       Time  CO(GT)  PT08.S1(CO)  NMHC(GT)  C6H6(GT)  PT08.S2(NMHC)  NOx(GT)  \\\n",
       "0  18:00:00     2.6       1360.0     150.0      11.9         1046.0    166.0   \n",
       "1  19:00:00     2.0       1292.0     112.0       9.4          955.0    103.0   \n",
       "2  20:00:00     2.2       1402.0      88.0       9.0          939.0    131.0   \n",
       "3  21:00:00     2.2       1376.0      80.0       9.2          948.0    172.0   \n",
       "4  22:00:00     1.6       1272.0      51.0       6.5          836.0    131.0   \n",
       "\n",
       "   PT08.S3(NOx)  NO2(GT)  PT08.S4(NO2)  PT08.S5(O3)    RH      AH  \n",
       "0        1056.0    113.0        1692.0       1268.0  48.9  0.7578  \n",
       "1        1174.0     92.0        1559.0        972.0  47.7  0.7255  \n",
       "2        1140.0    114.0        1555.0       1074.0  54.0  0.7502  \n",
       "3        1092.0    122.0        1584.0       1203.0  60.0  0.7867  \n",
       "4        1205.0    116.0        1490.0       1110.0  59.6  0.7888  "
      ]
     },
     "execution_count": 294,
     "metadata": {},
     "output_type": "execute_result"
    }
   ],
   "source": [
    "data.head()"
   ]
  },
  {
   "cell_type": "code",
   "execution_count": 289,
   "metadata": {},
   "outputs": [],
   "source": [
    "len_train_set = int(len(targets) * 0.75)\n",
    "\n",
    "X_train = data[:len_train_set]\n",
    "X_test = data[len_train_set:]\n",
    "y_train = targets[:len_train_set]\n",
    "y_test = targets[len_train_set:]"
   ]
  },
  {
   "cell_type": "markdown",
   "metadata": {},
   "source": [
    "### Decision Tree Regressor "
   ]
  },
  {
   "cell_type": "code",
   "execution_count": 290,
   "metadata": {},
   "outputs": [
    {
     "data": {
      "text/html": [
       "<style>#sk-container-id-45 {color: black;}#sk-container-id-45 pre{padding: 0;}#sk-container-id-45 div.sk-toggleable {background-color: white;}#sk-container-id-45 label.sk-toggleable__label {cursor: pointer;display: block;width: 100%;margin-bottom: 0;padding: 0.3em;box-sizing: border-box;text-align: center;}#sk-container-id-45 label.sk-toggleable__label-arrow:before {content: \"▸\";float: left;margin-right: 0.25em;color: #696969;}#sk-container-id-45 label.sk-toggleable__label-arrow:hover:before {color: black;}#sk-container-id-45 div.sk-estimator:hover label.sk-toggleable__label-arrow:before {color: black;}#sk-container-id-45 div.sk-toggleable__content {max-height: 0;max-width: 0;overflow: hidden;text-align: left;background-color: #f0f8ff;}#sk-container-id-45 div.sk-toggleable__content pre {margin: 0.2em;color: black;border-radius: 0.25em;background-color: #f0f8ff;}#sk-container-id-45 input.sk-toggleable__control:checked~div.sk-toggleable__content {max-height: 200px;max-width: 100%;overflow: auto;}#sk-container-id-45 input.sk-toggleable__control:checked~label.sk-toggleable__label-arrow:before {content: \"▾\";}#sk-container-id-45 div.sk-estimator input.sk-toggleable__control:checked~label.sk-toggleable__label {background-color: #d4ebff;}#sk-container-id-45 div.sk-label input.sk-toggleable__control:checked~label.sk-toggleable__label {background-color: #d4ebff;}#sk-container-id-45 input.sk-hidden--visually {border: 0;clip: rect(1px 1px 1px 1px);clip: rect(1px, 1px, 1px, 1px);height: 1px;margin: -1px;overflow: hidden;padding: 0;position: absolute;width: 1px;}#sk-container-id-45 div.sk-estimator {font-family: monospace;background-color: #f0f8ff;border: 1px dotted black;border-radius: 0.25em;box-sizing: border-box;margin-bottom: 0.5em;}#sk-container-id-45 div.sk-estimator:hover {background-color: #d4ebff;}#sk-container-id-45 div.sk-parallel-item::after {content: \"\";width: 100%;border-bottom: 1px solid gray;flex-grow: 1;}#sk-container-id-45 div.sk-label:hover label.sk-toggleable__label {background-color: #d4ebff;}#sk-container-id-45 div.sk-serial::before {content: \"\";position: absolute;border-left: 1px solid gray;box-sizing: border-box;top: 0;bottom: 0;left: 50%;z-index: 0;}#sk-container-id-45 div.sk-serial {display: flex;flex-direction: column;align-items: center;background-color: white;padding-right: 0.2em;padding-left: 0.2em;position: relative;}#sk-container-id-45 div.sk-item {position: relative;z-index: 1;}#sk-container-id-45 div.sk-parallel {display: flex;align-items: stretch;justify-content: center;background-color: white;position: relative;}#sk-container-id-45 div.sk-item::before, #sk-container-id-45 div.sk-parallel-item::before {content: \"\";position: absolute;border-left: 1px solid gray;box-sizing: border-box;top: 0;bottom: 0;left: 50%;z-index: -1;}#sk-container-id-45 div.sk-parallel-item {display: flex;flex-direction: column;z-index: 1;position: relative;background-color: white;}#sk-container-id-45 div.sk-parallel-item:first-child::after {align-self: flex-end;width: 50%;}#sk-container-id-45 div.sk-parallel-item:last-child::after {align-self: flex-start;width: 50%;}#sk-container-id-45 div.sk-parallel-item:only-child::after {width: 0;}#sk-container-id-45 div.sk-dashed-wrapped {border: 1px dashed gray;margin: 0 0.4em 0.5em 0.4em;box-sizing: border-box;padding-bottom: 0.4em;background-color: white;}#sk-container-id-45 div.sk-label label {font-family: monospace;font-weight: bold;display: inline-block;line-height: 1.2em;}#sk-container-id-45 div.sk-label-container {text-align: center;}#sk-container-id-45 div.sk-container {/* jupyter's `normalize.less` sets `[hidden] { display: none; }` but bootstrap.min.css set `[hidden] { display: none !important; }` so we also need the `!important` here to be able to override the default hidden behavior on the sphinx rendered scikit-learn.org. See: https://github.com/scikit-learn/scikit-learn/issues/21755 */display: inline-block !important;position: relative;}#sk-container-id-45 div.sk-text-repr-fallback {display: none;}</style><div id=\"sk-container-id-45\" class=\"sk-top-container\"><div class=\"sk-text-repr-fallback\"><pre>Pipeline(steps=[(&#x27;columntransformer&#x27;,\n",
       "                 ColumnTransformer(transformers=[(&#x27;pipeline&#x27;,\n",
       "                                                  Pipeline(steps=[(&#x27;standardscaler&#x27;,\n",
       "                                                                   StandardScaler())]),\n",
       "                                                  [&#x27;CO(GT)&#x27;, &#x27;PT08.S1(CO)&#x27;,\n",
       "                                                   &#x27;NMHC(GT)&#x27;, &#x27;C6H6(GT)&#x27;,\n",
       "                                                   &#x27;PT08.S2(NMHC)&#x27;, &#x27;NOx(GT)&#x27;,\n",
       "                                                   &#x27;PT08.S3(NOx)&#x27;, &#x27;NO2(GT)&#x27;,\n",
       "                                                   &#x27;PT08.S4(NO2)&#x27;,\n",
       "                                                   &#x27;PT08.S5(O3)&#x27;, &#x27;RH&#x27;,\n",
       "                                                   &#x27;AH&#x27;])])),\n",
       "                (&#x27;decisiontreeregressor&#x27;,\n",
       "                 DecisionTreeRegressor(random_state=42))])</pre><b>In a Jupyter environment, please rerun this cell to show the HTML representation or trust the notebook. <br />On GitHub, the HTML representation is unable to render, please try loading this page with nbviewer.org.</b></div><div class=\"sk-container\" hidden><div class=\"sk-item sk-dashed-wrapped\"><div class=\"sk-label-container\"><div class=\"sk-label sk-toggleable\"><input class=\"sk-toggleable__control sk-hidden--visually\" id=\"sk-estimator-id-226\" type=\"checkbox\" ><label for=\"sk-estimator-id-226\" class=\"sk-toggleable__label sk-toggleable__label-arrow\">Pipeline</label><div class=\"sk-toggleable__content\"><pre>Pipeline(steps=[(&#x27;columntransformer&#x27;,\n",
       "                 ColumnTransformer(transformers=[(&#x27;pipeline&#x27;,\n",
       "                                                  Pipeline(steps=[(&#x27;standardscaler&#x27;,\n",
       "                                                                   StandardScaler())]),\n",
       "                                                  [&#x27;CO(GT)&#x27;, &#x27;PT08.S1(CO)&#x27;,\n",
       "                                                   &#x27;NMHC(GT)&#x27;, &#x27;C6H6(GT)&#x27;,\n",
       "                                                   &#x27;PT08.S2(NMHC)&#x27;, &#x27;NOx(GT)&#x27;,\n",
       "                                                   &#x27;PT08.S3(NOx)&#x27;, &#x27;NO2(GT)&#x27;,\n",
       "                                                   &#x27;PT08.S4(NO2)&#x27;,\n",
       "                                                   &#x27;PT08.S5(O3)&#x27;, &#x27;RH&#x27;,\n",
       "                                                   &#x27;AH&#x27;])])),\n",
       "                (&#x27;decisiontreeregressor&#x27;,\n",
       "                 DecisionTreeRegressor(random_state=42))])</pre></div></div></div><div class=\"sk-serial\"><div class=\"sk-item sk-dashed-wrapped\"><div class=\"sk-label-container\"><div class=\"sk-label sk-toggleable\"><input class=\"sk-toggleable__control sk-hidden--visually\" id=\"sk-estimator-id-227\" type=\"checkbox\" ><label for=\"sk-estimator-id-227\" class=\"sk-toggleable__label sk-toggleable__label-arrow\">columntransformer: ColumnTransformer</label><div class=\"sk-toggleable__content\"><pre>ColumnTransformer(transformers=[(&#x27;pipeline&#x27;,\n",
       "                                 Pipeline(steps=[(&#x27;standardscaler&#x27;,\n",
       "                                                  StandardScaler())]),\n",
       "                                 [&#x27;CO(GT)&#x27;, &#x27;PT08.S1(CO)&#x27;, &#x27;NMHC(GT)&#x27;,\n",
       "                                  &#x27;C6H6(GT)&#x27;, &#x27;PT08.S2(NMHC)&#x27;, &#x27;NOx(GT)&#x27;,\n",
       "                                  &#x27;PT08.S3(NOx)&#x27;, &#x27;NO2(GT)&#x27;, &#x27;PT08.S4(NO2)&#x27;,\n",
       "                                  &#x27;PT08.S5(O3)&#x27;, &#x27;RH&#x27;, &#x27;AH&#x27;])])</pre></div></div></div><div class=\"sk-parallel\"><div class=\"sk-parallel-item\"><div class=\"sk-item\"><div class=\"sk-label-container\"><div class=\"sk-label sk-toggleable\"><input class=\"sk-toggleable__control sk-hidden--visually\" id=\"sk-estimator-id-228\" type=\"checkbox\" ><label for=\"sk-estimator-id-228\" class=\"sk-toggleable__label sk-toggleable__label-arrow\">pipeline</label><div class=\"sk-toggleable__content\"><pre>[&#x27;CO(GT)&#x27;, &#x27;PT08.S1(CO)&#x27;, &#x27;NMHC(GT)&#x27;, &#x27;C6H6(GT)&#x27;, &#x27;PT08.S2(NMHC)&#x27;, &#x27;NOx(GT)&#x27;, &#x27;PT08.S3(NOx)&#x27;, &#x27;NO2(GT)&#x27;, &#x27;PT08.S4(NO2)&#x27;, &#x27;PT08.S5(O3)&#x27;, &#x27;RH&#x27;, &#x27;AH&#x27;]</pre></div></div></div><div class=\"sk-serial\"><div class=\"sk-item\"><div class=\"sk-serial\"><div class=\"sk-item\"><div class=\"sk-estimator sk-toggleable\"><input class=\"sk-toggleable__control sk-hidden--visually\" id=\"sk-estimator-id-229\" type=\"checkbox\" ><label for=\"sk-estimator-id-229\" class=\"sk-toggleable__label sk-toggleable__label-arrow\">StandardScaler</label><div class=\"sk-toggleable__content\"><pre>StandardScaler()</pre></div></div></div></div></div></div></div></div></div></div><div class=\"sk-item\"><div class=\"sk-estimator sk-toggleable\"><input class=\"sk-toggleable__control sk-hidden--visually\" id=\"sk-estimator-id-230\" type=\"checkbox\" ><label for=\"sk-estimator-id-230\" class=\"sk-toggleable__label sk-toggleable__label-arrow\">DecisionTreeRegressor</label><div class=\"sk-toggleable__content\"><pre>DecisionTreeRegressor(random_state=42)</pre></div></div></div></div></div></div></div>"
      ],
      "text/plain": [
       "Pipeline(steps=[('columntransformer',\n",
       "                 ColumnTransformer(transformers=[('pipeline',\n",
       "                                                  Pipeline(steps=[('standardscaler',\n",
       "                                                                   StandardScaler())]),\n",
       "                                                  ['CO(GT)', 'PT08.S1(CO)',\n",
       "                                                   'NMHC(GT)', 'C6H6(GT)',\n",
       "                                                   'PT08.S2(NMHC)', 'NOx(GT)',\n",
       "                                                   'PT08.S3(NOx)', 'NO2(GT)',\n",
       "                                                   'PT08.S4(NO2)',\n",
       "                                                   'PT08.S5(O3)', 'RH',\n",
       "                                                   'AH'])])),\n",
       "                ('decisiontreeregressor',\n",
       "                 DecisionTreeRegressor(random_state=42))])"
      ]
     },
     "execution_count": 290,
     "metadata": {},
     "output_type": "execute_result"
    }
   ],
   "source": [
    "numeric_features = X_train.select_dtypes(include=[\"int\", \"float\"]).columns.tolist()\n",
    "\n",
    "numeric_transformer = make_pipeline(StandardScaler())\n",
    "\n",
    "preprocessor = make_column_transformer((numeric_transformer, numeric_features))\n",
    "\n",
    "pipeline = make_pipeline(preprocessor, DecisionTreeRegressor(random_state=42))\n",
    "pipeline"
   ]
  },
  {
   "cell_type": "code",
   "execution_count": 291,
   "metadata": {},
   "outputs": [
    {
     "data": {
      "text/html": [
       "<pre style=\"white-space:pre;overflow-x:auto;line-height:normal;font-family:Menlo,'DejaVu Sans Mono',consolas,'Courier New',monospace\">MAE is <span style=\"color: #008080; text-decoration-color: #008080; font-weight: bold\">0.7111538461538461</span>\n",
       "</pre>\n"
      ],
      "text/plain": [
       "MAE is \u001b[1;36m0.7111538461538461\u001b[0m\n"
      ]
     },
     "metadata": {},
     "output_type": "display_data"
    },
    {
     "data": {
      "text/html": [
       "<pre style=\"white-space:pre;overflow-x:auto;line-height:normal;font-family:Menlo,'DejaVu Sans Mono',consolas,'Courier New',monospace\">Best model: <span style=\"color: #800080; text-decoration-color: #800080; font-weight: bold\">Pipeline</span><span style=\"font-weight: bold\">(</span><span style=\"color: #808000; text-decoration-color: #808000\">steps</span>=<span style=\"font-weight: bold\">[(</span><span style=\"color: #008000; text-decoration-color: #008000\">'columntransformer'</span>,\n",
       "                 <span style=\"color: #800080; text-decoration-color: #800080; font-weight: bold\">ColumnTransformer</span><span style=\"font-weight: bold\">(</span><span style=\"color: #808000; text-decoration-color: #808000\">transformers</span>=<span style=\"font-weight: bold\">[(</span><span style=\"color: #008000; text-decoration-color: #008000\">'pipeline'</span>,\n",
       "                                                  <span style=\"color: #800080; text-decoration-color: #800080; font-weight: bold\">Pipeline</span><span style=\"font-weight: bold\">(</span><span style=\"color: #808000; text-decoration-color: #808000\">steps</span>=<span style=\"font-weight: bold\">[(</span><span style=\"color: #008000; text-decoration-color: #008000\">'standardscaler'</span>,\n",
       "                                                                   <span style=\"color: #800080; text-decoration-color: #800080; font-weight: bold\">StandardScaler</span><span style=\"font-weight: bold\">())])</span>,\n",
       "                                                  <span style=\"font-weight: bold\">[</span><span style=\"color: #008000; text-decoration-color: #008000\">'CO(GT)'</span>, <span style=\"color: #008000; text-decoration-color: #008000\">'PT08.S1(CO)'</span>,\n",
       "                                                   <span style=\"color: #008000; text-decoration-color: #008000\">'NMHC(GT)'</span>, <span style=\"color: #008000; text-decoration-color: #008000\">'C6H6(GT)'</span>,\n",
       "                                                   <span style=\"color: #008000; text-decoration-color: #008000\">'PT08.S2(NMHC)'</span>, <span style=\"color: #008000; text-decoration-color: #008000\">'NOx(GT)'</span>,\n",
       "                                                   <span style=\"color: #008000; text-decoration-color: #008000\">'PT08.S3(NOx)'</span>, <span style=\"color: #008000; text-decoration-color: #008000\">'NO2(GT)'</span>,\n",
       "                                                   <span style=\"color: #008000; text-decoration-color: #008000\">'PT08.S4(NO2)'</span>,\n",
       "                                                   <span style=\"color: #008000; text-decoration-color: #008000\">'PT08.S5(O3)'</span>, <span style=\"color: #008000; text-decoration-color: #008000\">'RH'</span>,\n",
       "                                                   <span style=\"color: #008000; text-decoration-color: #008000\">'AH'</span><span style=\"font-weight: bold\">])]))</span>,\n",
       "                <span style=\"font-weight: bold\">(</span><span style=\"color: #008000; text-decoration-color: #008000\">'decisiontreeregressor'</span>,\n",
       "                 <span style=\"color: #800080; text-decoration-color: #800080; font-weight: bold\">DecisionTreeRegressor</span><span style=\"font-weight: bold\">(</span><span style=\"color: #808000; text-decoration-color: #808000\">min_samples_split</span>=<span style=\"color: #008080; text-decoration-color: #008080; font-weight: bold\">5</span>, <span style=\"color: #808000; text-decoration-color: #808000\">random_state</span>=<span style=\"color: #008080; text-decoration-color: #008080; font-weight: bold\">42</span><span style=\"font-weight: bold\">))])</span>\n",
       "</pre>\n"
      ],
      "text/plain": [
       "Best model: \u001b[1;35mPipeline\u001b[0m\u001b[1m(\u001b[0m\u001b[33msteps\u001b[0m=\u001b[1m[\u001b[0m\u001b[1m(\u001b[0m\u001b[32m'columntransformer'\u001b[0m,\n",
       "                 \u001b[1;35mColumnTransformer\u001b[0m\u001b[1m(\u001b[0m\u001b[33mtransformers\u001b[0m=\u001b[1m[\u001b[0m\u001b[1m(\u001b[0m\u001b[32m'pipeline'\u001b[0m,\n",
       "                                                  \u001b[1;35mPipeline\u001b[0m\u001b[1m(\u001b[0m\u001b[33msteps\u001b[0m=\u001b[1m[\u001b[0m\u001b[1m(\u001b[0m\u001b[32m'standardscaler'\u001b[0m,\n",
       "                                                                   \u001b[1;35mStandardScaler\u001b[0m\u001b[1m(\u001b[0m\u001b[1m)\u001b[0m\u001b[1m)\u001b[0m\u001b[1m]\u001b[0m\u001b[1m)\u001b[0m,\n",
       "                                                  \u001b[1m[\u001b[0m\u001b[32m'CO\u001b[0m\u001b[32m(\u001b[0m\u001b[32mGT\u001b[0m\u001b[32m)\u001b[0m\u001b[32m'\u001b[0m, \u001b[32m'PT08.S1\u001b[0m\u001b[32m(\u001b[0m\u001b[32mCO\u001b[0m\u001b[32m)\u001b[0m\u001b[32m'\u001b[0m,\n",
       "                                                   \u001b[32m'NMHC\u001b[0m\u001b[32m(\u001b[0m\u001b[32mGT\u001b[0m\u001b[32m)\u001b[0m\u001b[32m'\u001b[0m, \u001b[32m'C6H6\u001b[0m\u001b[32m(\u001b[0m\u001b[32mGT\u001b[0m\u001b[32m)\u001b[0m\u001b[32m'\u001b[0m,\n",
       "                                                   \u001b[32m'PT08.S2\u001b[0m\u001b[32m(\u001b[0m\u001b[32mNMHC\u001b[0m\u001b[32m)\u001b[0m\u001b[32m'\u001b[0m, \u001b[32m'NOx\u001b[0m\u001b[32m(\u001b[0m\u001b[32mGT\u001b[0m\u001b[32m)\u001b[0m\u001b[32m'\u001b[0m,\n",
       "                                                   \u001b[32m'PT08.S3\u001b[0m\u001b[32m(\u001b[0m\u001b[32mNOx\u001b[0m\u001b[32m)\u001b[0m\u001b[32m'\u001b[0m, \u001b[32m'NO2\u001b[0m\u001b[32m(\u001b[0m\u001b[32mGT\u001b[0m\u001b[32m)\u001b[0m\u001b[32m'\u001b[0m,\n",
       "                                                   \u001b[32m'PT08.S4\u001b[0m\u001b[32m(\u001b[0m\u001b[32mNO2\u001b[0m\u001b[32m)\u001b[0m\u001b[32m'\u001b[0m,\n",
       "                                                   \u001b[32m'PT08.S5\u001b[0m\u001b[32m(\u001b[0m\u001b[32mO3\u001b[0m\u001b[32m)\u001b[0m\u001b[32m'\u001b[0m, \u001b[32m'RH'\u001b[0m,\n",
       "                                                   \u001b[32m'AH'\u001b[0m\u001b[1m]\u001b[0m\u001b[1m)\u001b[0m\u001b[1m]\u001b[0m\u001b[1m)\u001b[0m\u001b[1m)\u001b[0m,\n",
       "                \u001b[1m(\u001b[0m\u001b[32m'decisiontreeregressor'\u001b[0m,\n",
       "                 \u001b[1;35mDecisionTreeRegressor\u001b[0m\u001b[1m(\u001b[0m\u001b[33mmin_samples_split\u001b[0m=\u001b[1;36m5\u001b[0m, \u001b[33mrandom_state\u001b[0m=\u001b[1;36m42\u001b[0m\u001b[1m)\u001b[0m\u001b[1m)\u001b[0m\u001b[1m]\u001b[0m\u001b[1m)\u001b[0m\n"
      ]
     },
     "metadata": {},
     "output_type": "display_data"
    },
    {
     "data": {
      "text/html": [
       "<pre style=\"white-space:pre;overflow-x:auto;line-height:normal;font-family:Menlo,'DejaVu Sans Mono',consolas,'Courier New',monospace\">Best hyperparameters:\n",
       "<span style=\"font-weight: bold\">{</span><span style=\"color: #008000; text-decoration-color: #008000\">'decisiontreeregressor__max_depth'</span>: <span style=\"color: #800080; text-decoration-color: #800080; font-style: italic\">None</span>, <span style=\"color: #008000; text-decoration-color: #008000\">'decisiontreeregressor__min_samples_split'</span>: <span style=\"color: #008080; text-decoration-color: #008080; font-weight: bold\">5</span><span style=\"font-weight: bold\">}</span>\n",
       "</pre>\n"
      ],
      "text/plain": [
       "Best hyperparameters:\n",
       "\u001b[1m{\u001b[0m\u001b[32m'decisiontreeregressor__max_depth'\u001b[0m: \u001b[3;35mNone\u001b[0m, \u001b[32m'decisiontreeregressor__min_samples_split'\u001b[0m: \u001b[1;36m5\u001b[0m\u001b[1m}\u001b[0m\n"
      ]
     },
     "metadata": {},
     "output_type": "display_data"
    }
   ],
   "source": [
    "param_grid = {\n",
    "    \"decisiontreeregressor__max_depth\": [None, 10, 50],\n",
    "    \"decisiontreeregressor__min_samples_split\": [2, 5],\n",
    "}\n",
    "\n",
    "grid_search = GridSearchCV(pipeline, param_grid, cv=5, scoring='neg_mean_absolute_error')\n",
    "grid_search.fit(X_train, y_train)\n",
    "\n",
    "best_pipeline = grid_search.best_estimator_\n",
    "best_params = grid_search.best_params_\n",
    "\n",
    "y_pred = best_pipeline.predict(X_test)\n",
    "\n",
    "print(f\"MAE is {mean_absolute_error(y_test, y_pred)}\")\n",
    "print(\"Best model:\", best_pipeline)\n",
    "print(\"Best hyperparameters:\", best_params)"
   ]
  },
  {
   "cell_type": "markdown",
   "metadata": {},
   "source": [
    "### Random Forest Regressor"
   ]
  },
  {
   "cell_type": "code",
   "execution_count": 292,
   "metadata": {},
   "outputs": [
    {
     "data": {
      "text/html": [
       "<style>#sk-container-id-46 {color: black;}#sk-container-id-46 pre{padding: 0;}#sk-container-id-46 div.sk-toggleable {background-color: white;}#sk-container-id-46 label.sk-toggleable__label {cursor: pointer;display: block;width: 100%;margin-bottom: 0;padding: 0.3em;box-sizing: border-box;text-align: center;}#sk-container-id-46 label.sk-toggleable__label-arrow:before {content: \"▸\";float: left;margin-right: 0.25em;color: #696969;}#sk-container-id-46 label.sk-toggleable__label-arrow:hover:before {color: black;}#sk-container-id-46 div.sk-estimator:hover label.sk-toggleable__label-arrow:before {color: black;}#sk-container-id-46 div.sk-toggleable__content {max-height: 0;max-width: 0;overflow: hidden;text-align: left;background-color: #f0f8ff;}#sk-container-id-46 div.sk-toggleable__content pre {margin: 0.2em;color: black;border-radius: 0.25em;background-color: #f0f8ff;}#sk-container-id-46 input.sk-toggleable__control:checked~div.sk-toggleable__content {max-height: 200px;max-width: 100%;overflow: auto;}#sk-container-id-46 input.sk-toggleable__control:checked~label.sk-toggleable__label-arrow:before {content: \"▾\";}#sk-container-id-46 div.sk-estimator input.sk-toggleable__control:checked~label.sk-toggleable__label {background-color: #d4ebff;}#sk-container-id-46 div.sk-label input.sk-toggleable__control:checked~label.sk-toggleable__label {background-color: #d4ebff;}#sk-container-id-46 input.sk-hidden--visually {border: 0;clip: rect(1px 1px 1px 1px);clip: rect(1px, 1px, 1px, 1px);height: 1px;margin: -1px;overflow: hidden;padding: 0;position: absolute;width: 1px;}#sk-container-id-46 div.sk-estimator {font-family: monospace;background-color: #f0f8ff;border: 1px dotted black;border-radius: 0.25em;box-sizing: border-box;margin-bottom: 0.5em;}#sk-container-id-46 div.sk-estimator:hover {background-color: #d4ebff;}#sk-container-id-46 div.sk-parallel-item::after {content: \"\";width: 100%;border-bottom: 1px solid gray;flex-grow: 1;}#sk-container-id-46 div.sk-label:hover label.sk-toggleable__label {background-color: #d4ebff;}#sk-container-id-46 div.sk-serial::before {content: \"\";position: absolute;border-left: 1px solid gray;box-sizing: border-box;top: 0;bottom: 0;left: 50%;z-index: 0;}#sk-container-id-46 div.sk-serial {display: flex;flex-direction: column;align-items: center;background-color: white;padding-right: 0.2em;padding-left: 0.2em;position: relative;}#sk-container-id-46 div.sk-item {position: relative;z-index: 1;}#sk-container-id-46 div.sk-parallel {display: flex;align-items: stretch;justify-content: center;background-color: white;position: relative;}#sk-container-id-46 div.sk-item::before, #sk-container-id-46 div.sk-parallel-item::before {content: \"\";position: absolute;border-left: 1px solid gray;box-sizing: border-box;top: 0;bottom: 0;left: 50%;z-index: -1;}#sk-container-id-46 div.sk-parallel-item {display: flex;flex-direction: column;z-index: 1;position: relative;background-color: white;}#sk-container-id-46 div.sk-parallel-item:first-child::after {align-self: flex-end;width: 50%;}#sk-container-id-46 div.sk-parallel-item:last-child::after {align-self: flex-start;width: 50%;}#sk-container-id-46 div.sk-parallel-item:only-child::after {width: 0;}#sk-container-id-46 div.sk-dashed-wrapped {border: 1px dashed gray;margin: 0 0.4em 0.5em 0.4em;box-sizing: border-box;padding-bottom: 0.4em;background-color: white;}#sk-container-id-46 div.sk-label label {font-family: monospace;font-weight: bold;display: inline-block;line-height: 1.2em;}#sk-container-id-46 div.sk-label-container {text-align: center;}#sk-container-id-46 div.sk-container {/* jupyter's `normalize.less` sets `[hidden] { display: none; }` but bootstrap.min.css set `[hidden] { display: none !important; }` so we also need the `!important` here to be able to override the default hidden behavior on the sphinx rendered scikit-learn.org. See: https://github.com/scikit-learn/scikit-learn/issues/21755 */display: inline-block !important;position: relative;}#sk-container-id-46 div.sk-text-repr-fallback {display: none;}</style><div id=\"sk-container-id-46\" class=\"sk-top-container\"><div class=\"sk-text-repr-fallback\"><pre>Pipeline(steps=[(&#x27;columntransformer&#x27;,\n",
       "                 ColumnTransformer(transformers=[(&#x27;pipeline&#x27;,\n",
       "                                                  Pipeline(steps=[(&#x27;standardscaler&#x27;,\n",
       "                                                                   StandardScaler())]),\n",
       "                                                  [&#x27;CO(GT)&#x27;, &#x27;PT08.S1(CO)&#x27;,\n",
       "                                                   &#x27;NMHC(GT)&#x27;, &#x27;C6H6(GT)&#x27;,\n",
       "                                                   &#x27;PT08.S2(NMHC)&#x27;, &#x27;NOx(GT)&#x27;,\n",
       "                                                   &#x27;PT08.S3(NOx)&#x27;, &#x27;NO2(GT)&#x27;,\n",
       "                                                   &#x27;PT08.S4(NO2)&#x27;,\n",
       "                                                   &#x27;PT08.S5(O3)&#x27;, &#x27;RH&#x27;,\n",
       "                                                   &#x27;AH&#x27;])])),\n",
       "                (&#x27;randomforestregressor&#x27;,\n",
       "                 RandomForestRegressor(random_state=42))])</pre><b>In a Jupyter environment, please rerun this cell to show the HTML representation or trust the notebook. <br />On GitHub, the HTML representation is unable to render, please try loading this page with nbviewer.org.</b></div><div class=\"sk-container\" hidden><div class=\"sk-item sk-dashed-wrapped\"><div class=\"sk-label-container\"><div class=\"sk-label sk-toggleable\"><input class=\"sk-toggleable__control sk-hidden--visually\" id=\"sk-estimator-id-231\" type=\"checkbox\" ><label for=\"sk-estimator-id-231\" class=\"sk-toggleable__label sk-toggleable__label-arrow\">Pipeline</label><div class=\"sk-toggleable__content\"><pre>Pipeline(steps=[(&#x27;columntransformer&#x27;,\n",
       "                 ColumnTransformer(transformers=[(&#x27;pipeline&#x27;,\n",
       "                                                  Pipeline(steps=[(&#x27;standardscaler&#x27;,\n",
       "                                                                   StandardScaler())]),\n",
       "                                                  [&#x27;CO(GT)&#x27;, &#x27;PT08.S1(CO)&#x27;,\n",
       "                                                   &#x27;NMHC(GT)&#x27;, &#x27;C6H6(GT)&#x27;,\n",
       "                                                   &#x27;PT08.S2(NMHC)&#x27;, &#x27;NOx(GT)&#x27;,\n",
       "                                                   &#x27;PT08.S3(NOx)&#x27;, &#x27;NO2(GT)&#x27;,\n",
       "                                                   &#x27;PT08.S4(NO2)&#x27;,\n",
       "                                                   &#x27;PT08.S5(O3)&#x27;, &#x27;RH&#x27;,\n",
       "                                                   &#x27;AH&#x27;])])),\n",
       "                (&#x27;randomforestregressor&#x27;,\n",
       "                 RandomForestRegressor(random_state=42))])</pre></div></div></div><div class=\"sk-serial\"><div class=\"sk-item sk-dashed-wrapped\"><div class=\"sk-label-container\"><div class=\"sk-label sk-toggleable\"><input class=\"sk-toggleable__control sk-hidden--visually\" id=\"sk-estimator-id-232\" type=\"checkbox\" ><label for=\"sk-estimator-id-232\" class=\"sk-toggleable__label sk-toggleable__label-arrow\">columntransformer: ColumnTransformer</label><div class=\"sk-toggleable__content\"><pre>ColumnTransformer(transformers=[(&#x27;pipeline&#x27;,\n",
       "                                 Pipeline(steps=[(&#x27;standardscaler&#x27;,\n",
       "                                                  StandardScaler())]),\n",
       "                                 [&#x27;CO(GT)&#x27;, &#x27;PT08.S1(CO)&#x27;, &#x27;NMHC(GT)&#x27;,\n",
       "                                  &#x27;C6H6(GT)&#x27;, &#x27;PT08.S2(NMHC)&#x27;, &#x27;NOx(GT)&#x27;,\n",
       "                                  &#x27;PT08.S3(NOx)&#x27;, &#x27;NO2(GT)&#x27;, &#x27;PT08.S4(NO2)&#x27;,\n",
       "                                  &#x27;PT08.S5(O3)&#x27;, &#x27;RH&#x27;, &#x27;AH&#x27;])])</pre></div></div></div><div class=\"sk-parallel\"><div class=\"sk-parallel-item\"><div class=\"sk-item\"><div class=\"sk-label-container\"><div class=\"sk-label sk-toggleable\"><input class=\"sk-toggleable__control sk-hidden--visually\" id=\"sk-estimator-id-233\" type=\"checkbox\" ><label for=\"sk-estimator-id-233\" class=\"sk-toggleable__label sk-toggleable__label-arrow\">pipeline</label><div class=\"sk-toggleable__content\"><pre>[&#x27;CO(GT)&#x27;, &#x27;PT08.S1(CO)&#x27;, &#x27;NMHC(GT)&#x27;, &#x27;C6H6(GT)&#x27;, &#x27;PT08.S2(NMHC)&#x27;, &#x27;NOx(GT)&#x27;, &#x27;PT08.S3(NOx)&#x27;, &#x27;NO2(GT)&#x27;, &#x27;PT08.S4(NO2)&#x27;, &#x27;PT08.S5(O3)&#x27;, &#x27;RH&#x27;, &#x27;AH&#x27;]</pre></div></div></div><div class=\"sk-serial\"><div class=\"sk-item\"><div class=\"sk-serial\"><div class=\"sk-item\"><div class=\"sk-estimator sk-toggleable\"><input class=\"sk-toggleable__control sk-hidden--visually\" id=\"sk-estimator-id-234\" type=\"checkbox\" ><label for=\"sk-estimator-id-234\" class=\"sk-toggleable__label sk-toggleable__label-arrow\">StandardScaler</label><div class=\"sk-toggleable__content\"><pre>StandardScaler()</pre></div></div></div></div></div></div></div></div></div></div><div class=\"sk-item\"><div class=\"sk-estimator sk-toggleable\"><input class=\"sk-toggleable__control sk-hidden--visually\" id=\"sk-estimator-id-235\" type=\"checkbox\" ><label for=\"sk-estimator-id-235\" class=\"sk-toggleable__label sk-toggleable__label-arrow\">RandomForestRegressor</label><div class=\"sk-toggleable__content\"><pre>RandomForestRegressor(random_state=42)</pre></div></div></div></div></div></div></div>"
      ],
      "text/plain": [
       "Pipeline(steps=[('columntransformer',\n",
       "                 ColumnTransformer(transformers=[('pipeline',\n",
       "                                                  Pipeline(steps=[('standardscaler',\n",
       "                                                                   StandardScaler())]),\n",
       "                                                  ['CO(GT)', 'PT08.S1(CO)',\n",
       "                                                   'NMHC(GT)', 'C6H6(GT)',\n",
       "                                                   'PT08.S2(NMHC)', 'NOx(GT)',\n",
       "                                                   'PT08.S3(NOx)', 'NO2(GT)',\n",
       "                                                   'PT08.S4(NO2)',\n",
       "                                                   'PT08.S5(O3)', 'RH',\n",
       "                                                   'AH'])])),\n",
       "                ('randomforestregressor',\n",
       "                 RandomForestRegressor(random_state=42))])"
      ]
     },
     "execution_count": 292,
     "metadata": {},
     "output_type": "execute_result"
    }
   ],
   "source": [
    "numeric_features = X_train.select_dtypes(include=[\"int\", \"float\"]).columns.tolist()\n",
    "\n",
    "numeric_transformer = make_pipeline(StandardScaler())\n",
    "\n",
    "preprocessor = make_column_transformer((numeric_transformer, numeric_features))\n",
    "\n",
    "pipeline = make_pipeline(preprocessor, RandomForestRegressor(random_state=42))\n",
    "pipeline"
   ]
  },
  {
   "cell_type": "code",
   "execution_count": 293,
   "metadata": {},
   "outputs": [
    {
     "data": {
      "text/html": [
       "<pre style=\"white-space:pre;overflow-x:auto;line-height:normal;font-family:Menlo,'DejaVu Sans Mono',consolas,'Courier New',monospace\">MAE is <span style=\"color: #008080; text-decoration-color: #008080; font-weight: bold\">0.7111538461538461</span>\n",
       "</pre>\n"
      ],
      "text/plain": [
       "MAE is \u001b[1;36m0.7111538461538461\u001b[0m\n"
      ]
     },
     "metadata": {},
     "output_type": "display_data"
    }
   ],
   "source": [
    "pipeline.fit(X_train, y_train)\n",
    "y_pred = best_pipeline.predict(X_test)\n",
    "\n",
    "print(f\"MAE is {mean_absolute_error(y_test, y_pred)}\")"
   ]
  },
  {
   "cell_type": "code",
   "execution_count": 110,
   "metadata": {},
   "outputs": [
    {
     "data": {
      "text/html": [
       "<pre style=\"white-space:pre;overflow-x:auto;line-height:normal;font-family:Menlo,'DejaVu Sans Mono',consolas,'Courier New',monospace\">MAE is <span style=\"color: #008080; text-decoration-color: #008080; font-weight: bold\">0.5225794871794873</span>\n",
       "</pre>\n"
      ],
      "text/plain": [
       "MAE is \u001b[1;36m0.5225794871794873\u001b[0m\n"
      ]
     },
     "metadata": {},
     "output_type": "display_data"
    },
    {
     "data": {
      "text/html": [
       "<pre style=\"white-space:pre;overflow-x:auto;line-height:normal;font-family:Menlo,'DejaVu Sans Mono',consolas,'Courier New',monospace\">Best model: <span style=\"color: #800080; text-decoration-color: #800080; font-weight: bold\">Pipeline</span><span style=\"font-weight: bold\">(</span><span style=\"color: #808000; text-decoration-color: #808000\">steps</span>=<span style=\"font-weight: bold\">[(</span><span style=\"color: #008000; text-decoration-color: #008000\">'columntransformer'</span>,\n",
       "                 <span style=\"color: #800080; text-decoration-color: #800080; font-weight: bold\">ColumnTransformer</span><span style=\"font-weight: bold\">(</span><span style=\"color: #808000; text-decoration-color: #808000\">transformers</span>=<span style=\"font-weight: bold\">[(</span><span style=\"color: #008000; text-decoration-color: #008000\">'pipeline'</span>,\n",
       "                                                  <span style=\"color: #800080; text-decoration-color: #800080; font-weight: bold\">Pipeline</span><span style=\"font-weight: bold\">(</span><span style=\"color: #808000; text-decoration-color: #808000\">steps</span>=<span style=\"font-weight: bold\">[(</span><span style=\"color: #008000; text-decoration-color: #008000\">'standardscaler'</span>,\n",
       "                                                                   <span style=\"color: #800080; text-decoration-color: #800080; font-weight: bold\">StandardScaler</span><span style=\"font-weight: bold\">())])</span>,\n",
       "                                                  <span style=\"font-weight: bold\">[</span><span style=\"color: #008000; text-decoration-color: #008000\">'CO(GT)'</span>, <span style=\"color: #008000; text-decoration-color: #008000\">'PT08.S1(CO)'</span>,\n",
       "                                                   <span style=\"color: #008000; text-decoration-color: #008000\">'NMHC(GT)'</span>, <span style=\"color: #008000; text-decoration-color: #008000\">'C6H6(GT)'</span>,\n",
       "                                                   <span style=\"color: #008000; text-decoration-color: #008000\">'PT08.S2(NMHC)'</span>, <span style=\"color: #008000; text-decoration-color: #008000\">'NOx(GT)'</span>,\n",
       "                                                   <span style=\"color: #008000; text-decoration-color: #008000\">'PT08.S3(NOx)'</span>, <span style=\"color: #008000; text-decoration-color: #008000\">'NO2(GT)'</span>,\n",
       "                                                   <span style=\"color: #008000; text-decoration-color: #008000\">'PT08.S4(NO2)'</span>,\n",
       "                                                   <span style=\"color: #008000; text-decoration-color: #008000\">'PT08.S5(O3)'</span>, <span style=\"color: #008000; text-decoration-color: #008000\">'RH'</span>,\n",
       "                                                   <span style=\"color: #008000; text-decoration-color: #008000\">'AH'</span><span style=\"font-weight: bold\">])]))</span>,\n",
       "                <span style=\"font-weight: bold\">(</span><span style=\"color: #008000; text-decoration-color: #008000\">'randomforestregressor'</span>,\n",
       "                 <span style=\"color: #800080; text-decoration-color: #800080; font-weight: bold\">RandomForestRegressor</span><span style=\"font-weight: bold\">(</span><span style=\"color: #808000; text-decoration-color: #808000\">random_state</span>=<span style=\"color: #008080; text-decoration-color: #008080; font-weight: bold\">42</span><span style=\"font-weight: bold\">))])</span>\n",
       "</pre>\n"
      ],
      "text/plain": [
       "Best model: \u001b[1;35mPipeline\u001b[0m\u001b[1m(\u001b[0m\u001b[33msteps\u001b[0m=\u001b[1m[\u001b[0m\u001b[1m(\u001b[0m\u001b[32m'columntransformer'\u001b[0m,\n",
       "                 \u001b[1;35mColumnTransformer\u001b[0m\u001b[1m(\u001b[0m\u001b[33mtransformers\u001b[0m=\u001b[1m[\u001b[0m\u001b[1m(\u001b[0m\u001b[32m'pipeline'\u001b[0m,\n",
       "                                                  \u001b[1;35mPipeline\u001b[0m\u001b[1m(\u001b[0m\u001b[33msteps\u001b[0m=\u001b[1m[\u001b[0m\u001b[1m(\u001b[0m\u001b[32m'standardscaler'\u001b[0m,\n",
       "                                                                   \u001b[1;35mStandardScaler\u001b[0m\u001b[1m(\u001b[0m\u001b[1m)\u001b[0m\u001b[1m)\u001b[0m\u001b[1m]\u001b[0m\u001b[1m)\u001b[0m,\n",
       "                                                  \u001b[1m[\u001b[0m\u001b[32m'CO\u001b[0m\u001b[32m(\u001b[0m\u001b[32mGT\u001b[0m\u001b[32m)\u001b[0m\u001b[32m'\u001b[0m, \u001b[32m'PT08.S1\u001b[0m\u001b[32m(\u001b[0m\u001b[32mCO\u001b[0m\u001b[32m)\u001b[0m\u001b[32m'\u001b[0m,\n",
       "                                                   \u001b[32m'NMHC\u001b[0m\u001b[32m(\u001b[0m\u001b[32mGT\u001b[0m\u001b[32m)\u001b[0m\u001b[32m'\u001b[0m, \u001b[32m'C6H6\u001b[0m\u001b[32m(\u001b[0m\u001b[32mGT\u001b[0m\u001b[32m)\u001b[0m\u001b[32m'\u001b[0m,\n",
       "                                                   \u001b[32m'PT08.S2\u001b[0m\u001b[32m(\u001b[0m\u001b[32mNMHC\u001b[0m\u001b[32m)\u001b[0m\u001b[32m'\u001b[0m, \u001b[32m'NOx\u001b[0m\u001b[32m(\u001b[0m\u001b[32mGT\u001b[0m\u001b[32m)\u001b[0m\u001b[32m'\u001b[0m,\n",
       "                                                   \u001b[32m'PT08.S3\u001b[0m\u001b[32m(\u001b[0m\u001b[32mNOx\u001b[0m\u001b[32m)\u001b[0m\u001b[32m'\u001b[0m, \u001b[32m'NO2\u001b[0m\u001b[32m(\u001b[0m\u001b[32mGT\u001b[0m\u001b[32m)\u001b[0m\u001b[32m'\u001b[0m,\n",
       "                                                   \u001b[32m'PT08.S4\u001b[0m\u001b[32m(\u001b[0m\u001b[32mNO2\u001b[0m\u001b[32m)\u001b[0m\u001b[32m'\u001b[0m,\n",
       "                                                   \u001b[32m'PT08.S5\u001b[0m\u001b[32m(\u001b[0m\u001b[32mO3\u001b[0m\u001b[32m)\u001b[0m\u001b[32m'\u001b[0m, \u001b[32m'RH'\u001b[0m,\n",
       "                                                   \u001b[32m'AH'\u001b[0m\u001b[1m]\u001b[0m\u001b[1m)\u001b[0m\u001b[1m]\u001b[0m\u001b[1m)\u001b[0m\u001b[1m)\u001b[0m,\n",
       "                \u001b[1m(\u001b[0m\u001b[32m'randomforestregressor'\u001b[0m,\n",
       "                 \u001b[1;35mRandomForestRegressor\u001b[0m\u001b[1m(\u001b[0m\u001b[33mrandom_state\u001b[0m=\u001b[1;36m42\u001b[0m\u001b[1m)\u001b[0m\u001b[1m)\u001b[0m\u001b[1m]\u001b[0m\u001b[1m)\u001b[0m\n"
      ]
     },
     "metadata": {},
     "output_type": "display_data"
    },
    {
     "data": {
      "text/html": [
       "<pre style=\"white-space:pre;overflow-x:auto;line-height:normal;font-family:Menlo,'DejaVu Sans Mono',consolas,'Courier New',monospace\">Best hyperparameters:\n",
       "<span style=\"font-weight: bold\">{</span>\n",
       "    <span style=\"color: #008000; text-decoration-color: #008000\">'randomforestregressor__max_depth'</span>: <span style=\"color: #800080; text-decoration-color: #800080; font-style: italic\">None</span>,\n",
       "    <span style=\"color: #008000; text-decoration-color: #008000\">'randomforestregressor__min_samples_leaf'</span>: <span style=\"color: #008080; text-decoration-color: #008080; font-weight: bold\">1</span>,\n",
       "    <span style=\"color: #008000; text-decoration-color: #008000\">'randomforestregressor__min_samples_split'</span>: <span style=\"color: #008080; text-decoration-color: #008080; font-weight: bold\">2</span>,\n",
       "    <span style=\"color: #008000; text-decoration-color: #008000\">'randomforestregressor__n_estimators'</span>: <span style=\"color: #008080; text-decoration-color: #008080; font-weight: bold\">100</span>\n",
       "<span style=\"font-weight: bold\">}</span>\n",
       "</pre>\n"
      ],
      "text/plain": [
       "Best hyperparameters:\n",
       "\u001b[1m{\u001b[0m\n",
       "    \u001b[32m'randomforestregressor__max_depth'\u001b[0m: \u001b[3;35mNone\u001b[0m,\n",
       "    \u001b[32m'randomforestregressor__min_samples_leaf'\u001b[0m: \u001b[1;36m1\u001b[0m,\n",
       "    \u001b[32m'randomforestregressor__min_samples_split'\u001b[0m: \u001b[1;36m2\u001b[0m,\n",
       "    \u001b[32m'randomforestregressor__n_estimators'\u001b[0m: \u001b[1;36m100\u001b[0m\n",
       "\u001b[1m}\u001b[0m\n"
      ]
     },
     "metadata": {},
     "output_type": "display_data"
    }
   ],
   "source": [
    "param_grid = {\n",
    "    \"randomforestregressor__n_estimators\": [50, 100],\n",
    "    \"randomforestregressor__max_depth\": [None, 10],\n",
    "    \"randomforestregressor__min_samples_split\": [2, 5],\n",
    "    \"randomforestregressor__min_samples_leaf\": [1, 2]\n",
    "}\n",
    "\n",
    "grid_search = GridSearchCV(pipeline, param_grid, cv=5, scoring='neg_mean_absolute_error')\n",
    "grid_search.fit(X_train, y_train)\n",
    "\n",
    "best_pipeline = grid_search.best_estimator_\n",
    "best_params = grid_search.best_params_\n",
    "\n",
    "y_pred = best_pipeline.predict(X_test)\n",
    "\n",
    "print(f\"MAE is {mean_absolute_error(y_test, y_pred)}\")\n",
    "print(\"Best model:\", best_pipeline)\n",
    "print(\"Best hyperparameters:\", best_params)"
   ]
  },
  {
   "cell_type": "code",
   "execution_count": null,
   "metadata": {},
   "outputs": [],
   "source": []
  }
 ],
 "metadata": {
  "kernelspec": {
   "display_name": "ML2",
   "language": "python",
   "name": "python3"
  },
  "language_info": {
   "codemirror_mode": {
    "name": "ipython",
    "version": 3
   },
   "file_extension": ".py",
   "mimetype": "text/x-python",
   "name": "python",
   "nbconvert_exporter": "python",
   "pygments_lexer": "ipython3",
   "version": "3.9.18"
  }
 },
 "nbformat": 4,
 "nbformat_minor": 2
}
