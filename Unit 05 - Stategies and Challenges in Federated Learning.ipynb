{
 "cells": [
  {
   "cell_type": "markdown",
   "id": "ec90de6c",
   "metadata": {},
   "source": [
    "# Revisiting the Strategies in Federated Learning\n",
    "\n",
    "This notebook contains the solution to the two exercises proposed in the practical Unit 5 of the Machine Learning II course. "
   ]
  },
  {
   "cell_type": "markdown",
   "id": "bbdc2de3",
   "metadata": {},
   "source": [
    "## Custom functions"
   ]
  },
  {
   "cell_type": "code",
   "execution_count": 4,
   "id": "4d5d8daf",
   "metadata": {},
   "outputs": [
    {
     "name": "stderr",
     "output_type": "stream",
     "text": [
      "/home/ana/Documents/ml2-labs/.venv/lib/python3.10/site-packages/keras/src/layers/convolutional/base_conv.py:99: UserWarning: Do not pass an `input_shape`/`input_dim` argument to a layer. When using Sequential models, prefer using an `Input(shape)` object as the first layer in the model instead.\n",
      "  super().__init__(\n"
     ]
    }
   ],
   "source": [
    "import numpy as np\n",
    "import tensorflow as tf\n",
    "from tensorflow.keras import Sequential\n",
    "from typing import List, Dict, Optional, Tuple, Union\n",
    "from tensorflow.keras.layers import Dense, Flatten, Conv2D, MaxPooling2D, Dropout, BatchNormalization\n",
    "import flwr as fl\n",
    "import numpy as np\n",
    "from flwr.common import EvaluateRes, FitRes, Scalar\n",
    "from flwr.common import Metrics\n",
    "from flwr.server.client_proxy import ClientProxy\n",
    "\n",
    "def generate_ann(lr: float = 5e-4):\n",
    "    model = tf.keras.Sequential([\n",
    "        Conv2D(32, 5, activation='relu', input_shape=(32, 32, 3)),\n",
    "        Conv2D(32, 5, activation='relu'),\n",
    "        MaxPooling2D((2, 2)),\n",
    "        Conv2D(64, 3, activation='relu'),\n",
    "        Conv2D(64, 3, activation='relu'),\n",
    "        MaxPooling2D((2, 2)),\n",
    "        Flatten(),\n",
    "        Dense(10, activation='softmax')\n",
    "    ])\n",
    "    model.compile(\n",
    "        loss=tf.keras.losses.sparse_categorical_crossentropy,\n",
    "        optimizer=tf.keras.optimizers.Adam(lr),\n",
    "        metrics=['accuracy']\n",
    "    )\n",
    "    return model\n",
    "\n",
    "def unison_shuffled_copies(a, b):\n",
    "    assert len(a) == len(b)\n",
    "    p = np.random.permutation(len(a))\n",
    "    return a[p], b[p]\n",
    "\n",
    "def split_index(a, n):\n",
    "    s = np.array_split(np.arange(len(a)), n)\n",
    "    return s\n",
    "\n",
    "def load_datasets(num_clients: int):\n",
    "    # Distribute it to train and test set\n",
    "    (x_train, y_train), (x_test, y_test) = tf.keras.datasets.cifar10.load_data()\n",
    "    # Normalize data\n",
    "    x_train = x_train.astype(\"float32\") / 255.0\n",
    "    x_test = x_test.astype(\"float32\") / 255.0\n",
    "\n",
    "    x_train, y_train = x_train[:10_000], y_train[:10_000]\n",
    "    x_test, y_test = x_test[:1000], y_test[:1000]\n",
    "\n",
    "    # Randomize the datasets\n",
    "    x_train, y_train = unison_shuffled_copies(x_train, y_train)\n",
    "    x_test, y_test = unison_shuffled_copies(x_test, y_test)\n",
    "\n",
    "    # Split training set into 'num_clients' partitions to simulate the individual dataset\n",
    "    train_index = split_index(x_train, num_clients)\n",
    "    test_index = split_index(x_test, num_clients)\n",
    "\n",
    "    # Split each partition\n",
    "    train_ds = []\n",
    "    val_ds = []\n",
    "    test_ds = []\n",
    "    for cid in range(num_clients):\n",
    "        val_size = len(train_index[cid]) // 10\n",
    "        train_input_data, train_output_data = x_train[train_index[cid]], y_train[train_index[cid]]\n",
    "        val_input_data, val_output_data = train_input_data[:val_size], train_output_data[:val_size]\n",
    "        train_input_data, train_output_data = train_input_data[val_size:], train_output_data[val_size:]\n",
    "        train_dataset = (train_input_data, train_output_data)\n",
    "        val_dataset = (val_input_data, val_output_data)\n",
    "        test_dataset = (x_test[test_index[cid]], y_test[test_index[cid]])\n",
    "        train_ds.append(train_dataset)\n",
    "        val_ds.append(val_dataset)\n",
    "        test_ds.append(test_dataset)\n",
    "    \n",
    "    return train_ds, val_ds, test_ds\n",
    "\n",
    "def get_parameters(net) -> List[np.array]:\n",
    "    return net.get_weights()\n",
    "\n",
    "def set_parameters(net, parameters: List[np.ndarray]):\n",
    "    net.set_weights(parameters)\n",
    "    return net\n",
    "\n",
    "def train(net, trainloader, epochs: int = 10):\n",
    "    net.fit(trainloader[0], trainloader[1], epochs=epochs, batch_size=100)\n",
    "    return net\n",
    "\n",
    "\n",
    "def test(net, testloader):\n",
    "    loss, accuracy = net.evaluate(testloader[0], testloader[1])\n",
    "    return loss, accuracy\n",
    "\n",
    "class FlowerClient(fl.client.NumPyClient):\n",
    "    def __init__(self, cid, net, trainloader, valloader):\n",
    "        self.cid = cid\n",
    "        self.net = net\n",
    "        self.trainloader = trainloader\n",
    "        self.valloader = valloader\n",
    "\n",
    "    def get_parameters(self, config):\n",
    "        print(f\"[Client {self.cid}] get_parameters\")\n",
    "        return get_parameters(self.net)\n",
    "\n",
    "    def fit(self, parameters, config):\n",
    "        print(f\"[Client {self.cid}] fit, config: {config}\")\n",
    "        self.net = set_parameters(self.net, parameters)\n",
    "        print('this is the config', config)\n",
    "        self.net = train(self.net, self.trainloader)\n",
    "        return get_parameters(self.net), len(self.trainloader), {}\n",
    "\n",
    "    def evaluate(self, parameters, config):\n",
    "        print(f\"[Client {self.cid}] evaluate, config: {config}\")\n",
    "        self.net = set_parameters(self.net, parameters)\n",
    "        loss, accuracy = test(self.net, self.valloader)\n",
    "        print(f\"[Client {self.cid}] loss:{loss}, Client {self.cid} accuracy:{accuracy}\")\n",
    "        return float(loss), len(self.valloader), {\"accuracy\": float(accuracy)}\n",
    "    \n",
    "\n",
    "NUM_CLIENTS = 5\n",
    "trainloaders, valloaders, testloader = load_datasets(NUM_CLIENTS)\n",
    "\n",
    "def client_fn(cid) -> FlowerClient:\n",
    "    net = generate_ann()\n",
    "    trainloader = trainloaders[int(cid)]\n",
    "    valloader = valloaders[int(cid)]\n",
    "    return FlowerClient(cid, net, trainloader, valloader)\n",
    "\n",
    "\n",
    "def weighted_average(metrics: List[Tuple[int, Metrics]]) -> Metrics:\n",
    "    # Multiply accuracy of each client by number of examples used\n",
    "    accuracies = [num_examples * m[\"accuracy\"] for num_examples, m in metrics]\n",
    "    examples = [num_examples for num_examples, _ in metrics]\n",
    "    # Aggregate and return custom metric (weighted average)\n",
    "    return {\"accuracy\": sum(accuracies) / sum(examples)}\n",
    "\n",
    "def fit_config(server_round: int):\n",
    "    return dict(server_round=server_round, local_epochs=3)\n",
    "\n",
    "model = generate_ann()\n",
    "params = get_parameters(model)\n",
    "del model "
   ]
  },
  {
   "cell_type": "markdown",
   "id": "32bc13d6",
   "metadata": {},
   "source": [
    "## Architectures\n",
    "\n",
    "We tested an improved architecture (see `generate_ann()` function) and launch 4 experiments with different fractions fits ($p= [0.1, 0.3, 0.6, 1.0]$). The results obtained were:\n",
    "\n",
    "- $p=0.1$: 48%.\n",
    "- $p=0.3$: 50.5%.\n",
    "- $p=0.6$: 52.5%.\n",
    "- $p=1$: 53.25%.\n",
    "\n",
    "We fixed the number of clients to `NUM_CLIENTS=5` to allow each client to have enough images to train with. We increased the number of rounds to propagate the distributed dataset to `NUM_ROUNDS=10`. The convolutional architecture clearly increases the performance from the original baseline (which only uses dense layers) and increasing the `fraction_fit` parameter results in a slight improvement of the validation accuracy. This behavior is mainly due to the number of instances that are being used to train each round of the system. By using $p=0.1$ we are only allowing the system to use 10% of the image data to learn classification visual features. When increasing the value of $p$ we see a performance boost."
   ]
  },
  {
   "cell_type": "code",
   "execution_count": 6,
   "id": "e4e97ec3",
   "metadata": {},
   "outputs": [
    {
     "name": "stderr",
     "output_type": "stream",
     "text": [
      "INFO flwr 2024-03-14 19:39:41,183 | app.py:178 | Starting Flower simulation, config: ServerConfig(num_rounds=10, round_timeout=None)\n",
      "2024-03-14 19:39:44,499\tINFO worker.py:1621 -- Started a local Ray instance.\n",
      "INFO flwr 2024-03-14 19:39:45,344 | app.py:213 | Flower VCE: Ray initialized with resources: {'node:__internal_head__': 1.0, 'node:10.68.58.17': 1.0, 'memory': 30465422132.0, 'object_store_memory': 15232711065.0, 'CPU': 20.0, 'accelerator_type:G': 1.0, 'GPU': 2.0}\n",
      "INFO flwr 2024-03-14 19:39:45,345 | app.py:219 | Optimize your simulation with Flower VCE: https://flower.dev/docs/framework/how-to-run-simulations.html\n",
      "INFO flwr 2024-03-14 19:39:45,345 | app.py:227 | No `client_resources` specified. Using minimal resources for clients.\n",
      "INFO flwr 2024-03-14 19:39:45,346 | app.py:242 | Flower VCE: Resources for each Virtual Client: {'num_cpus': 1, 'num_gpus': 0.0}\n",
      "INFO flwr 2024-03-14 19:39:45,356 | app.py:288 | Flower VCE: Creating VirtualClientEngineActorPool with 20 actors\n",
      "INFO flwr 2024-03-14 19:39:45,357 | server.py:89 | Initializing global parameters\n",
      "INFO flwr 2024-03-14 19:39:45,357 | server.py:272 | Using initial parameters provided by strategy\n",
      "INFO flwr 2024-03-14 19:39:45,357 | server.py:91 | Evaluating initial parameters\n",
      "INFO flwr 2024-03-14 19:39:45,358 | server.py:104 | FL starting\n",
      "DEBUG flwr 2024-03-14 19:39:45,358 | server.py:222 | fit_round 1: strategy sampled 5 clients (out of 5)\n",
      "\u001b[2m\u001b[36m(pid=3389304)\u001b[0m 2024-03-14 19:39:46.502751: I tensorflow/core/util/port.cc:113] oneDNN custom operations are on. You may see slightly different numerical results due to floating-point round-off errors from different computation orders. To turn them off, set the environment variable `TF_ENABLE_ONEDNN_OPTS=0`.\n",
      "\u001b[2m\u001b[36m(pid=3389304)\u001b[0m 2024-03-14 19:39:46.503366: I external/local_tsl/tsl/cuda/cudart_stub.cc:32] Could not find cuda drivers on your machine, GPU will not be used.\n",
      "\u001b[2m\u001b[36m(pid=3389304)\u001b[0m 2024-03-14 19:39:46.507081: I external/local_tsl/tsl/cuda/cudart_stub.cc:32] Could not find cuda drivers on your machine, GPU will not be used.\n",
      "\u001b[2m\u001b[36m(pid=3389303)\u001b[0m 2024-03-14 19:39:46.606276: I tensorflow/core/platform/cpu_feature_guard.cc:210] This TensorFlow binary is optimized to use available CPU instructions in performance-critical operations.\n",
      "\u001b[2m\u001b[36m(pid=3389303)\u001b[0m To enable the following instructions: AVX2 AVX512F AVX512_VNNI FMA, in other operations, rebuild TensorFlow with the appropriate compiler flags.\n",
      "\u001b[2m\u001b[36m(pid=3389308)\u001b[0m 2024-03-14 19:39:47.889681: W tensorflow/compiler/tf2tensorrt/utils/py_utils.cc:38] TF-TRT Warning: Could not find TensorRT\n",
      "\u001b[2m\u001b[36m(DefaultActor pid=3389326)\u001b[0m /home/ana/Documents/ml2-labs/.venv/lib/python3.10/site-packages/keras/src/layers/convolutional/base_conv.py:99: UserWarning: Do not pass an `input_shape`/`input_dim` argument to a layer. When using Sequential models, prefer using an `Input(shape)` object as the first layer in the model instead.\n",
      "\u001b[2m\u001b[36m(DefaultActor pid=3389326)\u001b[0m   super().__init__(\n",
      "\u001b[2m\u001b[36m(DefaultActor pid=3389326)\u001b[0m 2024-03-14 19:39:48.836030: E external/local_xla/xla/stream_executor/cuda/cuda_driver.cc:282] failed call to cuInit: CUDA_ERROR_NO_DEVICE: no CUDA-capable device is detected\n",
      "\u001b[2m\u001b[36m(DefaultActor pid=3389326)\u001b[0m 2024-03-14 19:39:48.836065: I external/local_xla/xla/stream_executor/cuda/cuda_diagnostics.cc:134] retrieving CUDA diagnostic information for host: byte\n",
      "\u001b[2m\u001b[36m(DefaultActor pid=3389326)\u001b[0m 2024-03-14 19:39:48.836070: I external/local_xla/xla/stream_executor/cuda/cuda_diagnostics.cc:141] hostname: byte\n",
      "\u001b[2m\u001b[36m(DefaultActor pid=3389326)\u001b[0m 2024-03-14 19:39:48.836145: I external/local_xla/xla/stream_executor/cuda/cuda_diagnostics.cc:165] libcuda reported version is: 535.161.7\n",
      "\u001b[2m\u001b[36m(DefaultActor pid=3389326)\u001b[0m 2024-03-14 19:39:48.836162: I external/local_xla/xla/stream_executor/cuda/cuda_diagnostics.cc:169] kernel reported version is: 535.161.7\n",
      "\u001b[2m\u001b[36m(DefaultActor pid=3389326)\u001b[0m 2024-03-14 19:39:48.836166: I external/local_xla/xla/stream_executor/cuda/cuda_diagnostics.cc:248] kernel version seems to match DSO: 535.161.7\n",
      "\u001b[2m\u001b[36m(DefaultActor pid=3389326)\u001b[0m /home/ana/Documents/ml2-labs/.venv/lib/python3.10/site-packages/flwr/simulation/ray_transport/ray_actor.py:72: DeprecationWarning:  Ensure your client is of type `flwr.client.Client`. Please convert it using the `.to_client()` method before returning it in the `client_fn` you pass to `start_simulation`. We have applied this conversion on your behalf. Not returning a `Client` might trigger an error in future versions of Flower.\n",
      "\u001b[2m\u001b[36m(DefaultActor pid=3389326)\u001b[0m   client = check_clientfn_returns_client(client_fn(cid))\n"
     ]
    },
    {
     "name": "stdout",
     "output_type": "stream",
     "text": [
      "\u001b[2m\u001b[36m(DefaultActor pid=3389325)\u001b[0m [Client 0] fit, config: {'server_round': 1, 'local_epochs': 3}\n",
      "\u001b[2m\u001b[36m(DefaultActor pid=3389326)\u001b[0m this is the config {'server_round': 1, 'local_epochs': 3}\n",
      "\u001b[2m\u001b[36m(DefaultActor pid=3389329)\u001b[0m Epoch 1/10\n",
      "\u001b[1m 1/18\u001b[0m \u001b[32m━\u001b[0m\u001b[37m━━━━━━━━━━━━━━━━━━━\u001b[0m \u001b[1m15s\u001b[0m 920ms/step - accuracy: 0.1500 - loss: 2.2951\n",
      "\u001b[1m 3/18\u001b[0m \u001b[32m━━━\u001b[0m\u001b[37m━━━━━━━━━━━━━━━━━\u001b[0m \u001b[1m0s\u001b[0m 29ms/step - accuracy: 0.1361 - loss: 2.3012  \n",
      "\u001b[1m 5/18\u001b[0m \u001b[32m━━━━━\u001b[0m\u001b[37m━━━━━━━━━━━━━━━\u001b[0m \u001b[1m0s\u001b[0m 35ms/step - accuracy: 0.1226 - loss: 2.2977 \n",
      "\u001b[1m 7/18\u001b[0m \u001b[32m━━━━━━━\u001b[0m\u001b[37m━━━━━━━━━━━━━\u001b[0m \u001b[1m0s\u001b[0m 32ms/step - accuracy: 0.1245 - loss: 2.3014\n",
      "\u001b[1m 3/18\u001b[0m \u001b[32m━━━\u001b[0m\u001b[37m━━━━━━━━━━━━━━━━━\u001b[0m \u001b[1m0s\u001b[0m 44ms/step - accuracy: 0.1300 - loss: 2.2995  \n",
      "\u001b[1m 7/18\u001b[0m \u001b[32m━━━━━━━\u001b[0m\u001b[37m━━━━━━━━━━━━━\u001b[0m \u001b[1m0s\u001b[0m 36ms/step - accuracy: 0.1235 - loss: 2.2986\n",
      "\u001b[1m 3/18\u001b[0m \u001b[32m━━━\u001b[0m\u001b[37m━━━━━━━━━━━━━━━━━\u001b[0m \u001b[1m0s\u001b[0m 39ms/step - accuracy: 0.2344 - loss: 2.0954 \n",
      "\u001b[1m18/18\u001b[0m \u001b[32m━━━━━━━━━━━━━━━━━━━━\u001b[0m\u001b[37m\u001b[0m \u001b[1m1s\u001b[0m 46ms/step - accuracy: 0.2096 - loss: 2.2335\n",
      "\u001b[2m\u001b[36m(DefaultActor pid=3389327)\u001b[0m [Client 3] fit, config: {'server_round': 1, 'local_epochs': 3}\u001b[32m [repeated 4x across cluster]\u001b[0m\n",
      "\u001b[2m\u001b[36m(DefaultActor pid=3389327)\u001b[0m this is the config {'server_round': 1, 'local_epochs': 3}\u001b[32m [repeated 4x across cluster]\u001b[0m\n",
      "\u001b[2m\u001b[36m(DefaultActor pid=3389327)\u001b[0m Epoch 5/10\u001b[32m [repeated 24x across cluster]\u001b[0m\n",
      "\u001b[1m 1/18\u001b[0m \u001b[32m━\u001b[0m\u001b[37m━━━━━━━━━━━━━━━━━━━\u001b[0m \u001b[1m1s\u001b[0m 78ms/step - accuracy: 0.3400 - loss: 1.7371\u001b[32m [repeated 25x across cluster]\u001b[0m\n",
      "\u001b[1m 2/18\u001b[0m \u001b[32m━━\u001b[0m\u001b[37m━━━━━━━━━━━━━━━━━━\u001b[0m \u001b[1m0s\u001b[0m 53ms/step - accuracy: 0.2900 - loss: 1.8428\u001b[32m [repeated 6x across cluster]\u001b[0m\n",
      "\u001b[1m 5/18\u001b[0m \u001b[32m━━━━━\u001b[0m\u001b[37m━━━━━━━━━━━━━━━\u001b[0m \u001b[1m0s\u001b[0m 37ms/step - accuracy: 0.1302 - loss: 2.3012 \n",
      "\u001b[1m 5/18\u001b[0m \u001b[32m━━━━━\u001b[0m\u001b[37m━━━━━━━━━━━━━━━\u001b[0m \u001b[1m0s\u001b[0m 44ms/step - accuracy: 0.3072 - loss: 1.8481\u001b[32m [repeated 69x across cluster]\u001b[0m\n",
      "\u001b[1m 5/18\u001b[0m \u001b[32m━━━━━\u001b[0m\u001b[37m━━━━━━━━━━━━━━━\u001b[0m \u001b[1m0s\u001b[0m 45ms/step - accuracy: 0.3581 - loss: 1.7389\u001b[32m [repeated 144x across cluster]\u001b[0m\n",
      "\u001b[1m18/18\u001b[0m \u001b[32m━━━━━━━━━━━━━━━━━━━━\u001b[0m\u001b[37m\u001b[0m \u001b[1m1s\u001b[0m 46ms/step - accuracy: 0.3610 - loss: 1.7371\u001b[32m [repeated 3x across cluster]\u001b[0m\n"
     ]
    },
    {
     "name": "stderr",
     "output_type": "stream",
     "text": [
      "DEBUG flwr 2024-03-14 19:39:58,499 | server.py:236 | fit_round 1 received 5 results and 0 failures\n",
      "WARNING flwr 2024-03-14 19:39:58,503 | fedavg.py:250 | No fit_metrics_aggregation_fn provided\n",
      "DEBUG flwr 2024-03-14 19:39:58,504 | server.py:173 | evaluate_round 1: strategy sampled 2 clients (out of 5)\n"
     ]
    },
    {
     "name": "stdout",
     "output_type": "stream",
     "text": [
      "\u001b[2m\u001b[36m(DefaultActor pid=3389327)\u001b[0m [Client 3] evaluate, config: {}\n",
      "\u001b[2m\u001b[36m(DefaultActor pid=3389327)\u001b[0m [Client 3] loss:1.752123475074768, Client 3 accuracy:0.35499998927116394\n",
      "\u001b[2m\u001b[36m(DefaultActor pid=3389327)\u001b[0m Epoch 10/10\u001b[32m [repeated 25x across cluster]\u001b[0m\n"
     ]
    },
    {
     "name": "stderr",
     "output_type": "stream",
     "text": [
      "DEBUG flwr 2024-03-14 19:39:59,413 | server.py:187 | evaluate_round 1 received 2 results and 0 failures\n",
      "DEBUG flwr 2024-03-14 19:39:59,414 | server.py:222 | fit_round 2: strategy sampled 5 clients (out of 5)\n"
     ]
    },
    {
     "name": "stdout",
     "output_type": "stream",
     "text": [
      "\u001b[2m\u001b[36m(DefaultActor pid=3389329)\u001b[0m [Client 4] fit, config: {'server_round': 2, 'local_epochs': 3}\n",
      "\u001b[2m\u001b[36m(DefaultActor pid=3389329)\u001b[0m this is the config {'server_round': 2, 'local_epochs': 3}\n",
      "\u001b[1m 1/18\u001b[0m \u001b[32m━\u001b[0m\u001b[37m━━━━━━━━━━━━━━━━━━━\u001b[0m \u001b[1m1s\u001b[0m 78ms/step - accuracy: 0.4700 - loss: 1.5356\u001b[32m [repeated 11x across cluster]\u001b[0m\n",
      "\u001b[1m7/7\u001b[0m \u001b[32m━━━━━━━━━━━━━━━━━━━━\u001b[0m\u001b[37m\u001b[0m \u001b[1m0s\u001b[0m 3ms/step - accuracy: 0.3811 - loss: 1.7409  \u001b[32m [repeated 8x across cluster]\u001b[0m\n",
      "\u001b[1m18/18\u001b[0m \u001b[32m━━━━━━━━━━━━━━━━━━━━\u001b[0m\u001b[37m\u001b[0m \u001b[1m0s\u001b[0m 16ms/step - accuracy: 0.4135 - loss: 1.6408\u001b[32m [repeated 47x across cluster]\u001b[0m\n",
      "\u001b[1m18/18\u001b[0m \u001b[32m━━━━━━━━━━━━━━━━━━━━\u001b[0m\u001b[37m\u001b[0m \u001b[1m1s\u001b[0m 42ms/step - accuracy: 0.4233 - loss: 1.6126\u001b[32m [repeated 97x across cluster]\u001b[0m\n",
      "\u001b[1m 5/18\u001b[0m \u001b[32m━━━━━\u001b[0m\u001b[37m━━━━━━━━━━━━━━━\u001b[0m \u001b[1m0s\u001b[0m 15ms/step - accuracy: 0.4174 - loss: 1.7923  \n",
      "\u001b[1m18/18\u001b[0m \u001b[32m━━━━━━━━━━━━━━━━━━━━\u001b[0m\u001b[37m\u001b[0m \u001b[1m2s\u001b[0m 22ms/step - accuracy: 0.3659 - loss: 1.7581\u001b[32m [repeated 2x across cluster]\u001b[0m\n",
      "\u001b[1m 5/18\u001b[0m \u001b[32m━━━━━\u001b[0m\u001b[37m━━━━━━━━━━━━━━━\u001b[0m \u001b[1m0s\u001b[0m 37ms/step - accuracy: 0.3455 - loss: 1.9040\n",
      "\u001b[1m 2/18\u001b[0m \u001b[32m━━\u001b[0m\u001b[37m━━━━━━━━━━━━━━━━━━\u001b[0m \u001b[1m0s\u001b[0m 53ms/step - accuracy: 0.3425 - loss: 1.8093\n",
      "\u001b[2m\u001b[36m(DefaultActor pid=3389329)\u001b[0m [Client 1] evaluate, config: {}\n",
      "\u001b[2m\u001b[36m(DefaultActor pid=3389329)\u001b[0m [Client 1] loss:1.7829227447509766, Client 1 accuracy:0.38499999046325684\n",
      "\u001b[2m\u001b[36m(DefaultActor pid=3389329)\u001b[0m Epoch 7/10\u001b[32m [repeated 21x across cluster]\u001b[0m\n",
      "\u001b[2m\u001b[36m(DefaultActor pid=3389328)\u001b[0m [Client 1] fit, config: {'server_round': 2, 'local_epochs': 3}\u001b[32m [repeated 4x across cluster]\u001b[0m\n",
      "\u001b[2m\u001b[36m(DefaultActor pid=3389328)\u001b[0m this is the config {'server_round': 2, 'local_epochs': 3}\u001b[32m [repeated 4x across cluster]\u001b[0m\n",
      "\u001b[1m 1/18\u001b[0m \u001b[32m━\u001b[0m\u001b[37m━━━━━━━━━━━━━━━━━━━\u001b[0m \u001b[1m1s\u001b[0m 93ms/step - accuracy: 0.3900 - loss: 1.4906\u001b[32m [repeated 22x across cluster]\u001b[0m\n",
      "\u001b[1m 3/18\u001b[0m \u001b[32m━━━\u001b[0m\u001b[37m━━━━━━━━━━━━━━━━━\u001b[0m \u001b[1m0s\u001b[0m 48ms/step - accuracy: 0.4800 - loss: 1.4709\u001b[32m [repeated 4x across cluster]\u001b[0m\n",
      "\u001b[1m 5/18\u001b[0m \u001b[32m━━━━━\u001b[0m\u001b[37m━━━━━━━━━━━━━━━\u001b[0m \u001b[1m0s\u001b[0m 45ms/step - accuracy: 0.4531 - loss: 1.4465\u001b[32m [repeated 43x across cluster]\u001b[0m\n",
      "\u001b[1m11/18\u001b[0m \u001b[32m━━━━━━━━━━━━\u001b[0m\u001b[37m━━━━━━━━\u001b[0m \u001b[1m0s\u001b[0m 49ms/step - accuracy: 0.5243 - loss: 1.3371\u001b[32m [repeated 110x across cluster]\u001b[0m\n",
      "\u001b[1m18/18\u001b[0m \u001b[32m━━━━━━━━━━━━━━━━━━━━\u001b[0m\u001b[37m\u001b[0m \u001b[1m1s\u001b[0m 45ms/step - accuracy: 0.4368 - loss: 1.5792\u001b[32m [repeated 3x across cluster]\u001b[0m\n",
      "\u001b[2m\u001b[36m(DefaultActor pid=3389325)\u001b[0m Epoch 10/10\u001b[32m [repeated 28x across cluster]\u001b[0m\n"
     ]
    },
    {
     "name": "stderr",
     "output_type": "stream",
     "text": [
      "DEBUG flwr 2024-03-14 19:40:09,785 | server.py:236 | fit_round 2 received 5 results and 0 failures\n",
      "DEBUG flwr 2024-03-14 19:40:09,789 | server.py:173 | evaluate_round 2: strategy sampled 2 clients (out of 5)\n"
     ]
    },
    {
     "name": "stdout",
     "output_type": "stream",
     "text": [
      "\u001b[2m\u001b[36m(DefaultActor pid=3389328)\u001b[0m [Client 3] evaluate, config: {}\n",
      "\u001b[1m 1/18\u001b[0m \u001b[32m━\u001b[0m\u001b[37m━━━━━━━━━━━━━━━━━━━\u001b[0m \u001b[1m0s\u001b[0m 58ms/step - accuracy: 0.4500 - loss: 1.4215\u001b[32m [repeated 18x across cluster]\u001b[0m\n",
      "\u001b[1m 4/18\u001b[0m \u001b[32m━━━━\u001b[0m\u001b[37m━━━━━━━━━━━━━━━━\u001b[0m \u001b[1m0s\u001b[0m 17ms/step - accuracy: 0.4992 - loss: 1.3760\u001b[32m [repeated 6x across cluster]\u001b[0m\n",
      "\u001b[1m14/18\u001b[0m \u001b[32m━━━━━━━━━━━━━━━\u001b[0m\u001b[37m━━━━━\u001b[0m \u001b[1m0s\u001b[0m 13ms/step - accuracy: 0.5049 - loss: 1.3711\u001b[32m [repeated 65x across cluster]\u001b[0m\n",
      "\u001b[2m\u001b[36m(DefaultActor pid=3389328)\u001b[0m [Client 3] loss:1.5496636629104614, Client 3 accuracy:0.41499999165534973\n"
     ]
    },
    {
     "name": "stderr",
     "output_type": "stream",
     "text": [
      "DEBUG flwr 2024-03-14 19:40:10,547 | server.py:187 | evaluate_round 2 received 2 results and 0 failures\n",
      "DEBUG flwr 2024-03-14 19:40:10,548 | server.py:222 | fit_round 3: strategy sampled 5 clients (out of 5)\n"
     ]
    },
    {
     "name": "stdout",
     "output_type": "stream",
     "text": [
      "\u001b[1m18/18\u001b[0m \u001b[32m━━━━━━━━━━━━━━━━━━━━\u001b[0m\u001b[37m\u001b[0m \u001b[1m0s\u001b[0m 13ms/step - accuracy: 0.5104 - loss: 1.3624\u001b[32m [repeated 102x across cluster]\u001b[0m\n",
      "\u001b[2m\u001b[36m(DefaultActor pid=3389325)\u001b[0m [Client 1] fit, config: {'server_round': 3, 'local_epochs': 3}\n",
      "\u001b[2m\u001b[36m(DefaultActor pid=3389325)\u001b[0m this is the config {'server_round': 3, 'local_epochs': 3}\n",
      "\u001b[1m 5/18\u001b[0m \u001b[32m━━━━━\u001b[0m\u001b[37m━━━━━━━━━━━━━━━\u001b[0m \u001b[1m0s\u001b[0m 15ms/step - accuracy: 0.3967 - loss: 1.8688  \n",
      "\u001b[1m18/18\u001b[0m \u001b[32m━━━━━━━━━━━━━━━━━━━━\u001b[0m\u001b[37m\u001b[0m \u001b[1m1s\u001b[0m 15ms/step - accuracy: 0.4055 - loss: 1.7522\u001b[32m [repeated 3x across cluster]\u001b[0m\n",
      "\u001b[1m 4/18\u001b[0m \u001b[32m━━━━\u001b[0m\u001b[37m━━━━━━━━━━━━━━━━\u001b[0m \u001b[1m0s\u001b[0m 24ms/step - accuracy: 0.4333 - loss: 1.6665\n",
      "\u001b[2m\u001b[36m(DefaultActor pid=3389326)\u001b[0m Epoch 3/10\u001b[32m [repeated 17x across cluster]\u001b[0m\n",
      "\u001b[2m\u001b[36m(DefaultActor pid=3389325)\u001b[0m [Client 0] evaluate, config: {}\n",
      "\u001b[1m 1/18\u001b[0m \u001b[32m━\u001b[0m\u001b[37m━━━━━━━━━━━━━━━━━━━\u001b[0m \u001b[1m1s\u001b[0m 80ms/step - accuracy: 0.5400 - loss: 1.3593\u001b[32m [repeated 13x across cluster]\u001b[0m\n",
      "\u001b[1m 3/18\u001b[0m \u001b[32m━━━\u001b[0m\u001b[37m━━━━━━━━━━━━━━━━━\u001b[0m \u001b[1m0s\u001b[0m 42ms/step - accuracy: 0.5117 - loss: 1.3709\u001b[32m [repeated 10x across cluster]\u001b[0m\n",
      "\u001b[1m12/18\u001b[0m \u001b[32m━━━━━━━━━━━━━\u001b[0m\u001b[37m━━━━━━━\u001b[0m \u001b[1m0s\u001b[0m 46ms/step - accuracy: 0.5555 - loss: 1.3252\u001b[32m [repeated 43x across cluster]\u001b[0m\n",
      "\u001b[2m\u001b[36m(DefaultActor pid=3389325)\u001b[0m [Client 0] loss:1.3712629079818726, Client 0 accuracy:0.48500001430511475\n",
      "\u001b[1m15/18\u001b[0m \u001b[32m━━━━━━━━━━━━━━━━\u001b[0m\u001b[37m━━━━\u001b[0m \u001b[1m0s\u001b[0m 47ms/step - accuracy: 0.5557 - loss: 1.2580\u001b[32m [repeated 64x across cluster]\u001b[0m\n",
      "\u001b[2m\u001b[36m(DefaultActor pid=3389329)\u001b[0m [Client 2] fit, config: {'server_round': 3, 'local_epochs': 3}\u001b[32m [repeated 4x across cluster]\u001b[0m\n",
      "\u001b[2m\u001b[36m(DefaultActor pid=3389329)\u001b[0m this is the config {'server_round': 3, 'local_epochs': 3}\u001b[32m [repeated 4x across cluster]\u001b[0m\n",
      "\u001b[1m18/18\u001b[0m \u001b[32m━━━━━━━━━━━━━━━━━━━━\u001b[0m\u001b[37m\u001b[0m \u001b[1m1s\u001b[0m 45ms/step - accuracy: 0.5634 - loss: 1.2814\u001b[32m [repeated 3x across cluster]\u001b[0m\n",
      "\u001b[1m 3/18\u001b[0m \u001b[32m━━━\u001b[0m\u001b[37m━━━━━━━━━━━━━━━━━\u001b[0m \u001b[1m0s\u001b[0m 44ms/step - accuracy: 0.4133 - loss: 1.7861\u001b[32m [repeated 2x across cluster]\u001b[0m\n",
      "\u001b[2m\u001b[36m(DefaultActor pid=3389327)\u001b[0m Epoch 8/10\u001b[32m [repeated 28x across cluster]\u001b[0m\n",
      "\u001b[1m 1/18\u001b[0m \u001b[32m━\u001b[0m\u001b[37m━━━━━━━━━━━━━━━━━━━\u001b[0m \u001b[1m1s\u001b[0m 60ms/step - accuracy: 0.4600 - loss: 1.3256\u001b[32m [repeated 19x across cluster]\u001b[0m\n",
      "\u001b[1m 4/18\u001b[0m \u001b[32m━━━━\u001b[0m\u001b[37m━━━━━━━━━━━━━━━━\u001b[0m \u001b[1m0s\u001b[0m 21ms/step - accuracy: 0.5813 - loss: 1.1643\u001b[32m [repeated 9x across cluster]\u001b[0m\n",
      "\u001b[1m12/18\u001b[0m \u001b[32m━━━━━━━━━━━━━\u001b[0m\u001b[37m━━━━━━━\u001b[0m \u001b[1m0s\u001b[0m 23ms/step - accuracy: 0.5494 - loss: 1.2781\u001b[32m [repeated 73x across cluster]\u001b[0m\n"
     ]
    },
    {
     "name": "stderr",
     "output_type": "stream",
     "text": [
      "DEBUG flwr 2024-03-14 19:40:20,774 | server.py:236 | fit_round 3 received 5 results and 0 failures\n",
      "DEBUG flwr 2024-03-14 19:40:20,778 | server.py:173 | evaluate_round 3: strategy sampled 2 clients (out of 5)\n"
     ]
    },
    {
     "name": "stdout",
     "output_type": "stream",
     "text": [
      "\u001b[1m 6/18\u001b[0m \u001b[32m━━━━━━\u001b[0m\u001b[37m━━━━━━━━━━━━━━\u001b[0m \u001b[1m0s\u001b[0m 27ms/step - accuracy: 0.5553 - loss: 1.2613\u001b[32m [repeated 107x across cluster]\u001b[0m\n",
      "\u001b[2m\u001b[36m(DefaultActor pid=3389329)\u001b[0m [Client 3] evaluate, config: {}\n",
      "\u001b[2m\u001b[36m(DefaultActor pid=3389329)\u001b[0m [Client 3] loss:1.4814320802688599, Client 3 accuracy:0.44999998807907104\n"
     ]
    },
    {
     "name": "stderr",
     "output_type": "stream",
     "text": [
      "DEBUG flwr 2024-03-14 19:40:21,620 | server.py:187 | evaluate_round 3 received 2 results and 0 failures\n",
      "DEBUG flwr 2024-03-14 19:40:21,620 | server.py:222 | fit_round 4: strategy sampled 5 clients (out of 5)\n"
     ]
    },
    {
     "name": "stdout",
     "output_type": "stream",
     "text": [
      "\u001b[2m\u001b[36m(DefaultActor pid=3389327)\u001b[0m [Client 2] fit, config: {'server_round': 4, 'local_epochs': 3}\n",
      "\u001b[2m\u001b[36m(DefaultActor pid=3389327)\u001b[0m this is the config {'server_round': 4, 'local_epochs': 3}\n",
      "\u001b[1m18/18\u001b[0m \u001b[32m━━━━━━━━━━━━━━━━━━━━\u001b[0m\u001b[37m\u001b[0m \u001b[1m0s\u001b[0m 22ms/step - accuracy: 0.5453 - loss: 1.2831\u001b[32m [repeated 5x across cluster]\u001b[0m\n",
      "\u001b[2m\u001b[36m(DefaultActor pid=3389327)\u001b[0m Epoch 5/10\u001b[32m [repeated 17x across cluster]\u001b[0m\n",
      "\u001b[1m 3/18\u001b[0m \u001b[32m━━━\u001b[0m\u001b[37m━━━━━━━━━━━━━━━━━\u001b[0m \u001b[1m0s\u001b[0m 45ms/step - accuracy: 0.5172 - loss: 1.3228\n",
      "\u001b[1m 1/18\u001b[0m \u001b[32m━\u001b[0m\u001b[37m━━━━━━━━━━━━━━━━━━━\u001b[0m \u001b[1m1s\u001b[0m 74ms/step - accuracy: 0.6400 - loss: 1.1539\u001b[32m [repeated 10x across cluster]\u001b[0m\n",
      "\u001b[1m 3/18\u001b[0m \u001b[32m━━━\u001b[0m\u001b[37m━━━━━━━━━━━━━━━━━\u001b[0m \u001b[1m0s\u001b[0m 36ms/step - accuracy: 0.4917 - loss: 1.3538\u001b[32m [repeated 9x across cluster]\u001b[0m\n",
      "\u001b[1m15/18\u001b[0m \u001b[32m━━━━━━━━━━━━━━━━\u001b[0m\u001b[37m━━━━\u001b[0m \u001b[1m0s\u001b[0m 46ms/step - accuracy: 0.5055 - loss: 1.3481\u001b[32m [repeated 35x across cluster]\u001b[0m\n",
      "\u001b[1m12/18\u001b[0m \u001b[32m━━━━━━━━━━━━━\u001b[0m\u001b[37m━━━━━━━\u001b[0m \u001b[1m0s\u001b[0m 49ms/step - accuracy: 0.4541 - loss: 1.5439\u001b[32m [repeated 37x across cluster]\u001b[0m\n",
      "\u001b[1m 7/18\u001b[0m \u001b[32m━━━━━━━\u001b[0m\u001b[37m━━━━━━━━━━━━━\u001b[0m \u001b[1m0s\u001b[0m 42ms/step - accuracy: 0.5883 - loss: 1.2117\n",
      "\u001b[2m\u001b[36m(DefaultActor pid=3389327)\u001b[0m [Client 2] evaluate, config: {}\n",
      "\u001b[2m\u001b[36m(DefaultActor pid=3389327)\u001b[0m [Client 2] loss:1.5037860870361328, Client 2 accuracy:0.4699999988079071\n",
      "\u001b[2m\u001b[36m(DefaultActor pid=3389325)\u001b[0m [Client 1] fit, config: {'server_round': 4, 'local_epochs': 3}\u001b[32m [repeated 4x across cluster]\u001b[0m\n",
      "\u001b[2m\u001b[36m(DefaultActor pid=3389325)\u001b[0m this is the config {'server_round': 4, 'local_epochs': 3}\u001b[32m [repeated 4x across cluster]\u001b[0m\n",
      "\u001b[1m18/18\u001b[0m \u001b[32m━━━━━━━━━━━━━━━━━━━━\u001b[0m\u001b[37m\u001b[0m \u001b[1m0s\u001b[0m 26ms/step - accuracy: 0.4725 - loss: 1.4633\n",
      "\u001b[2m\u001b[36m(DefaultActor pid=3389325)\u001b[0m Epoch 6/10\u001b[32m [repeated 27x across cluster]\u001b[0m\n",
      "\u001b[1m18/18\u001b[0m \u001b[32m━━━━━━━━━━━━━━━━━━━━\u001b[0m\u001b[37m\u001b[0m \u001b[1m1s\u001b[0m 42ms/step - accuracy: 0.5832 - loss: 1.1596\n",
      "\u001b[1m 3/18\u001b[0m \u001b[32m━━━\u001b[0m\u001b[37m━━━━━━━━━━━━━━━━━\u001b[0m \u001b[1m0s\u001b[0m 48ms/step - accuracy: 0.4733 - loss: 1.4713\n",
      "\u001b[1m 1/18\u001b[0m \u001b[32m━\u001b[0m\u001b[37m━━━━━━━━━━━━━━━━━━━\u001b[0m \u001b[1m1s\u001b[0m 62ms/step - accuracy: 0.7400 - loss: 0.9174\u001b[32m [repeated 17x across cluster]\u001b[0m\n",
      "\u001b[1m 3/18\u001b[0m \u001b[32m━━━\u001b[0m\u001b[37m━━━━━━━━━━━━━━━━━\u001b[0m \u001b[1m0s\u001b[0m 40ms/step - accuracy: 0.5994 - loss: 1.1399\u001b[32m [repeated 11x across cluster]\u001b[0m\n",
      "\u001b[1m18/18\u001b[0m \u001b[32m━━━━━━━━━━━━━━━━━━━━\u001b[0m\u001b[37m\u001b[0m \u001b[1m1s\u001b[0m 36ms/step - accuracy: 0.6067 - loss: 1.0995\u001b[32m [repeated 77x across cluster]\u001b[0m\n",
      "\u001b[1m15/18\u001b[0m \u001b[32m━━━━━━━━━━━━━━━━\u001b[0m\u001b[37m━━━━\u001b[0m \u001b[1m0s\u001b[0m 36ms/step - accuracy: 0.5933 - loss: 1.1238\u001b[32m [repeated 135x across cluster]\u001b[0m\n"
     ]
    },
    {
     "name": "stderr",
     "output_type": "stream",
     "text": [
      "DEBUG flwr 2024-03-14 19:40:32,025 | server.py:236 | fit_round 4 received 5 results and 0 failures\n",
      "DEBUG flwr 2024-03-14 19:40:32,029 | server.py:173 | evaluate_round 4: strategy sampled 2 clients (out of 5)\n"
     ]
    },
    {
     "name": "stdout",
     "output_type": "stream",
     "text": [
      "\u001b[2m\u001b[36m(DefaultActor pid=3389325)\u001b[0m [Client 0] evaluate, config: {}\n",
      "\u001b[2m\u001b[36m(DefaultActor pid=3389325)\u001b[0m [Client 0] loss:1.2231874465942383, Client 0 accuracy:0.5350000262260437\n"
     ]
    },
    {
     "name": "stderr",
     "output_type": "stream",
     "text": [
      "DEBUG flwr 2024-03-14 19:40:32,890 | server.py:187 | evaluate_round 4 received 2 results and 0 failures\n",
      "DEBUG flwr 2024-03-14 19:40:32,891 | server.py:222 | fit_round 5: strategy sampled 5 clients (out of 5)\n"
     ]
    },
    {
     "name": "stdout",
     "output_type": "stream",
     "text": [
      "\u001b[1m7/7\u001b[0m \u001b[32m━━━━━━━━━━━━━━━━━━━━\u001b[0m\u001b[37m\u001b[0m \u001b[1m0s\u001b[0m 3ms/step - accuracy: 0.4864 - loss: 1.4285  \n",
      "\u001b[2m\u001b[36m(DefaultActor pid=3389328)\u001b[0m [Client 3] fit, config: {'server_round': 5, 'local_epochs': 3}\n",
      "\u001b[2m\u001b[36m(DefaultActor pid=3389328)\u001b[0m this is the config {'server_round': 5, 'local_epochs': 3}\n",
      "\u001b[1m 5/18\u001b[0m \u001b[32m━━━━━\u001b[0m\u001b[37m━━━━━━━━━━━━━━━\u001b[0m \u001b[1m0s\u001b[0m 16ms/step - accuracy: 0.4816 - loss: 1.4965  \n",
      "\u001b[2m\u001b[36m(DefaultActor pid=3389328)\u001b[0m Epoch 2/10\u001b[32m [repeated 17x across cluster]\u001b[0m\n",
      "\u001b[1m18/18\u001b[0m \u001b[32m━━━━━━━━━━━━━━━━━━━━\u001b[0m\u001b[37m\u001b[0m \u001b[1m0s\u001b[0m 15ms/step - accuracy: 0.6370 - loss: 1.0610\u001b[32m [repeated 2x across cluster]\u001b[0m\n",
      "\u001b[1m 5/18\u001b[0m \u001b[32m━━━━━\u001b[0m\u001b[37m━━━━━━━━━━━━━━━\u001b[0m \u001b[1m0s\u001b[0m 32ms/step - accuracy: 0.4733 - loss: 1.5756\n",
      "\u001b[1m 1/18\u001b[0m \u001b[32m━\u001b[0m\u001b[37m━━━━━━━━━━━━━━━━━━━\u001b[0m \u001b[1m23s\u001b[0m 1s/step - accuracy: 0.5900 - loss: 1.1672\u001b[32m [repeated 9x across cluster]\u001b[0m\n",
      "\u001b[1m 3/18\u001b[0m \u001b[32m━━━\u001b[0m\u001b[37m━━━━━━━━━━━━━━━━━\u001b[0m \u001b[1m0s\u001b[0m 30ms/step - accuracy: 0.5556 - loss: 1.1763\u001b[32m [repeated 7x across cluster]\u001b[0m\n",
      "\u001b[1m15/18\u001b[0m \u001b[32m━━━━━━━━━━━━━━━━\u001b[0m\u001b[37m━━━━\u001b[0m \u001b[1m0s\u001b[0m 31ms/step - accuracy: 0.5710 - loss: 1.1637\u001b[32m [repeated 36x across cluster]\u001b[0m\n",
      "\u001b[1m17/18\u001b[0m \u001b[32m━━━━━━━━━━━━━━━━━━\u001b[0m\u001b[37m━━\u001b[0m \u001b[1m0s\u001b[0m 30ms/step - accuracy: 0.4434 - loss: 1.6011\u001b[32m [repeated 19x across cluster]\u001b[0m\n",
      "\u001b[2m\u001b[36m(DefaultActor pid=3389328)\u001b[0m [Client 3] evaluate, config: {}\n",
      "\u001b[2m\u001b[36m(DefaultActor pid=3389328)\u001b[0m [Client 3] loss:1.4681187868118286, Client 3 accuracy:0.48500001430511475\n",
      "\u001b[1m 3/18\u001b[0m \u001b[32m━━━\u001b[0m\u001b[37m━━━━━━━━━━━━━━━━━\u001b[0m \u001b[1m0s\u001b[0m 39ms/step - accuracy: 0.4906 - loss: 1.3989\n",
      "\u001b[2m\u001b[36m(DefaultActor pid=3389327)\u001b[0m [Client 0] fit, config: {'server_round': 5, 'local_epochs': 3}\u001b[32m [repeated 4x across cluster]\u001b[0m\n",
      "\u001b[2m\u001b[36m(DefaultActor pid=3389327)\u001b[0m this is the config {'server_round': 5, 'local_epochs': 3}\u001b[32m [repeated 4x across cluster]\u001b[0m\n",
      "\u001b[2m\u001b[36m(DefaultActor pid=3389326)\u001b[0m Epoch 6/10\u001b[32m [repeated 26x across cluster]\u001b[0m\n",
      "\u001b[1m18/18\u001b[0m \u001b[32m━━━━━━━━━━━━━━━━━━━━\u001b[0m\u001b[37m\u001b[0m \u001b[1m1s\u001b[0m 44ms/step - accuracy: 0.5868 - loss: 1.1548\u001b[32m [repeated 2x across cluster]\u001b[0m\n",
      "\u001b[1m 1/18\u001b[0m \u001b[32m━\u001b[0m\u001b[37m━━━━━━━━━━━━━━━━━━━\u001b[0m \u001b[1m1s\u001b[0m 84ms/step - accuracy: 0.6000 - loss: 1.1516\u001b[32m [repeated 23x across cluster]\u001b[0m\n",
      "\u001b[1m 2/18\u001b[0m \u001b[32m━━\u001b[0m\u001b[37m━━━━━━━━━━━━━━━━━━\u001b[0m \u001b[1m0s\u001b[0m 52ms/step - accuracy: 0.6250 - loss: 1.0252\u001b[32m [repeated 7x across cluster]\u001b[0m\n",
      "\u001b[1m15/18\u001b[0m \u001b[32m━━━━━━━━━━━━━━━━\u001b[0m\u001b[37m━━━━\u001b[0m \u001b[1m0s\u001b[0m 44ms/step - accuracy: 0.6698 - loss: 0.9455\u001b[32m [repeated 69x across cluster]\u001b[0m\n",
      "\u001b[1m 3/18\u001b[0m \u001b[32m━━━\u001b[0m\u001b[37m━━━━━━━━━━━━━━━━━\u001b[0m \u001b[1m0s\u001b[0m 42ms/step - accuracy: 0.6200 - loss: 1.0928\u001b[32m [repeated 149x across cluster]\u001b[0m\n"
     ]
    },
    {
     "name": "stderr",
     "output_type": "stream",
     "text": [
      "DEBUG flwr 2024-03-14 19:40:43,225 | server.py:236 | fit_round 5 received 5 results and 0 failures\n",
      "DEBUG flwr 2024-03-14 19:40:43,229 | server.py:173 | evaluate_round 5: strategy sampled 2 clients (out of 5)\n"
     ]
    },
    {
     "name": "stdout",
     "output_type": "stream",
     "text": [
      "\u001b[2m\u001b[36m(DefaultActor pid=3389327)\u001b[0m [Client 1] evaluate, config: {}\n",
      "\u001b[2m\u001b[36m(DefaultActor pid=3389327)\u001b[0m [Client 1] loss:1.2615748643875122, Client 1 accuracy:0.5649999976158142\n"
     ]
    },
    {
     "name": "stderr",
     "output_type": "stream",
     "text": [
      "DEBUG flwr 2024-03-14 19:40:44,053 | server.py:187 | evaluate_round 5 received 2 results and 0 failures\n",
      "DEBUG flwr 2024-03-14 19:40:44,054 | server.py:222 | fit_round 6: strategy sampled 5 clients (out of 5)\n"
     ]
    },
    {
     "name": "stdout",
     "output_type": "stream",
     "text": [
      "\u001b[2m\u001b[36m(DefaultActor pid=3389329)\u001b[0m [Client 1] fit, config: {'server_round': 6, 'local_epochs': 3}\n",
      "\u001b[2m\u001b[36m(DefaultActor pid=3389329)\u001b[0m this is the config {'server_round': 6, 'local_epochs': 3}\n",
      "\u001b[2m\u001b[36m(DefaultActor pid=3389327)\u001b[0m Epoch 1/10\u001b[32m [repeated 21x across cluster]\u001b[0m\n",
      "\u001b[1m18/18\u001b[0m \u001b[32m━━━━━━━━━━━━━━━━━━━━\u001b[0m\u001b[37m\u001b[0m \u001b[1m0s\u001b[0m 21ms/step - accuracy: 0.6970 - loss: 0.9332\u001b[32m [repeated 3x across cluster]\u001b[0m\n",
      "\u001b[1m 9/18\u001b[0m \u001b[32m━━━━━━━━━━\u001b[0m\u001b[37m━━━━━━━━━━\u001b[0m \u001b[1m0s\u001b[0m 16ms/step - accuracy: 0.5340 - loss: 1.3753\n",
      "\u001b[1m 1/18\u001b[0m \u001b[32m━\u001b[0m\u001b[37m━━━━━━━━━━━━━━━━━━━\u001b[0m \u001b[1m0s\u001b[0m 30ms/step - accuracy: 0.6200 - loss: 1.1806\u001b[32m [repeated 10x across cluster]\u001b[0m\n",
      "\u001b[1m7/7\u001b[0m \u001b[32m━━━━━━━━━━━━━━━━━━━━\u001b[0m\u001b[37m\u001b[0m \u001b[1m0s\u001b[0m 2ms/step - accuracy: 0.5061 - loss: 1.5107  \u001b[32m [repeated 6x across cluster]\u001b[0m\n",
      "\u001b[1m18/18\u001b[0m \u001b[32m━━━━━━━━━━━━━━━━━━━━\u001b[0m\u001b[37m\u001b[0m \u001b[1m1s\u001b[0m 16ms/step - accuracy: 0.5393 - loss: 1.3513\u001b[32m [repeated 37x across cluster]\u001b[0m\n",
      "\u001b[1m13/18\u001b[0m \u001b[32m━━━━━━━━━━━━━━\u001b[0m\u001b[37m━━━━━━\u001b[0m \u001b[1m0s\u001b[0m 16ms/step - accuracy: 0.5350 - loss: 1.3699\u001b[32m [repeated 30x across cluster]\u001b[0m\n",
      "\u001b[1m 3/18\u001b[0m \u001b[32m━━━\u001b[0m\u001b[37m━━━━━━━━━━━━━━━━━\u001b[0m \u001b[1m0s\u001b[0m 34ms/step - accuracy: 0.4117 - loss: 1.6257\n",
      "\u001b[2m\u001b[36m(DefaultActor pid=3389329)\u001b[0m [Client 2] evaluate, config: {}\n",
      "\u001b[2m\u001b[36m(DefaultActor pid=3389329)\u001b[0m [Client 2] loss:1.5405570268630981, Client 2 accuracy:0.4699999988079071\n",
      "\u001b[2m\u001b[36m(DefaultActor pid=3389328)\u001b[0m [Client 4] fit, config: {'server_round': 6, 'local_epochs': 3}\u001b[32m [repeated 4x across cluster]\u001b[0m\n",
      "\u001b[2m\u001b[36m(DefaultActor pid=3389328)\u001b[0m this is the config {'server_round': 6, 'local_epochs': 3}\u001b[32m [repeated 4x across cluster]\u001b[0m\n",
      "\u001b[2m\u001b[36m(DefaultActor pid=3389325)\u001b[0m Epoch 4/10\u001b[32m [repeated 22x across cluster]\u001b[0m\n",
      "\u001b[1m18/18\u001b[0m \u001b[32m━━━━━━━━━━━━━━━━━━━━\u001b[0m\u001b[37m\u001b[0m \u001b[1m1s\u001b[0m 46ms/step - accuracy: 0.6206 - loss: 1.0924\n",
      "\u001b[1m18/18\u001b[0m \u001b[32m━━━━━━━━━━━━━━━━━━━━\u001b[0m\u001b[37m\u001b[0m \u001b[1m1s\u001b[0m 47ms/step - accuracy: 0.6977 - loss: 0.8911\n",
      "\u001b[1m 4/18\u001b[0m \u001b[32m━━━━\u001b[0m\u001b[37m━━━━━━━━━━━━━━━━\u001b[0m \u001b[1m0s\u001b[0m 53ms/step - accuracy: 0.5194 - loss: 1.3569\n",
      "\u001b[1m 1/18\u001b[0m \u001b[32m━\u001b[0m\u001b[37m━━━━━━━━━━━━━━━━━━━\u001b[0m \u001b[1m1s\u001b[0m 83ms/step - accuracy: 0.6900 - loss: 1.0028\u001b[32m [repeated 23x across cluster]\u001b[0m\n",
      "\u001b[1m 2/18\u001b[0m \u001b[32m━━\u001b[0m\u001b[37m━━━━━━━━━━━━━━━━━━\u001b[0m \u001b[1m0s\u001b[0m 54ms/step - accuracy: 0.6550 - loss: 1.0228\u001b[32m [repeated 7x across cluster]\u001b[0m\n",
      "\u001b[1m18/18\u001b[0m \u001b[32m━━━━━━━━━━━━━━━━━━━━\u001b[0m\u001b[37m\u001b[0m \u001b[1m1s\u001b[0m 45ms/step - accuracy: 0.6748 - loss: 0.9324\u001b[32m [repeated 67x across cluster]\u001b[0m\n",
      "\u001b[1m 3/18\u001b[0m \u001b[32m━━━\u001b[0m\u001b[37m━━━━━━━━━━━━━━━━━\u001b[0m \u001b[1m0s\u001b[0m 47ms/step - accuracy: 0.6994 - loss: 0.9613\u001b[32m [repeated 109x across cluster]\u001b[0m\n"
     ]
    },
    {
     "name": "stderr",
     "output_type": "stream",
     "text": [
      "DEBUG flwr 2024-03-14 19:40:54,650 | server.py:236 | fit_round 6 received 5 results and 0 failures\n",
      "DEBUG flwr 2024-03-14 19:40:54,654 | server.py:173 | evaluate_round 6: strategy sampled 2 clients (out of 5)\n"
     ]
    },
    {
     "name": "stdout",
     "output_type": "stream",
     "text": [
      "\u001b[2m\u001b[36m(DefaultActor pid=3389328)\u001b[0m [Client 0] evaluate, config: {}\n",
      "\u001b[2m\u001b[36m(DefaultActor pid=3389328)\u001b[0m Epoch 10/10\u001b[32m [repeated 26x across cluster]\u001b[0m\n",
      "\u001b[2m\u001b[36m(DefaultActor pid=3389328)\u001b[0m [Client 0] loss:1.2379248142242432, Client 0 accuracy:0.5600000023841858\n"
     ]
    },
    {
     "name": "stderr",
     "output_type": "stream",
     "text": [
      "DEBUG flwr 2024-03-14 19:40:55,417 | server.py:187 | evaluate_round 6 received 2 results and 0 failures\n",
      "DEBUG flwr 2024-03-14 19:40:55,417 | server.py:222 | fit_round 7: strategy sampled 5 clients (out of 5)\n"
     ]
    },
    {
     "name": "stdout",
     "output_type": "stream",
     "text": [
      "\u001b[2m\u001b[36m(DefaultActor pid=3389325)\u001b[0m [Client 1] fit, config: {'server_round': 7, 'local_epochs': 3}\n",
      "\u001b[2m\u001b[36m(DefaultActor pid=3389325)\u001b[0m this is the config {'server_round': 7, 'local_epochs': 3}\n",
      "\u001b[1m18/18\u001b[0m \u001b[32m━━━━━━━━━━━━━━━━━━━━\u001b[0m\u001b[37m\u001b[0m \u001b[1m1s\u001b[0m 48ms/step - accuracy: 0.6444 - loss: 1.0248\n",
      "\u001b[1m 1/18\u001b[0m \u001b[32m━\u001b[0m\u001b[37m━━━━━━━━━━━━━━━━━━━\u001b[0m \u001b[1m0s\u001b[0m 49ms/step - accuracy: 0.6800 - loss: 1.0279\u001b[32m [repeated 12x across cluster]\u001b[0m\n",
      "\u001b[1m7/7\u001b[0m \u001b[32m━━━━━━━━━━━━━━━━━━━━\u001b[0m\u001b[37m\u001b[0m \u001b[1m0s\u001b[0m 3ms/step - accuracy: 0.4837 - loss: 1.5834  \u001b[32m [repeated 8x across cluster]\u001b[0m\n",
      "\u001b[1m18/18\u001b[0m \u001b[32m━━━━━━━━━━━━━━━━━━━━\u001b[0m\u001b[37m\u001b[0m \u001b[1m0s\u001b[0m 15ms/step - accuracy: 0.7258 - loss: 0.8125\u001b[32m [repeated 60x across cluster]\u001b[0m\n",
      "\u001b[1m18/18\u001b[0m \u001b[32m━━━━━━━━━━━━━━━━━━━━\u001b[0m\u001b[37m\u001b[0m \u001b[1m0s\u001b[0m 20ms/step - accuracy: 0.7114 - loss: 0.8358\u001b[32m [repeated 70x across cluster]\u001b[0m\n",
      "\u001b[1m 5/18\u001b[0m \u001b[32m━━━━━\u001b[0m\u001b[37m━━━━━━━━━━━━━━━\u001b[0m \u001b[1m0s\u001b[0m 16ms/step - accuracy: 0.5929 - loss: 1.2508  \n",
      "\u001b[1m 4/18\u001b[0m \u001b[32m━━━━\u001b[0m\u001b[37m━━━━━━━━━━━━━━━━\u001b[0m \u001b[1m0s\u001b[0m 23ms/step - accuracy: 0.5817 - loss: 1.2805\n",
      "\u001b[1m18/18\u001b[0m \u001b[32m━━━━━━━━━━━━━━━━━━━━\u001b[0m\u001b[37m\u001b[0m \u001b[1m0s\u001b[0m 23ms/step - accuracy: 0.6404 - loss: 1.0238\n",
      "\u001b[2m\u001b[36m(DefaultActor pid=3389325)\u001b[0m [Client 2] evaluate, config: {}\n",
      "\u001b[2m\u001b[36m(DefaultActor pid=3389329)\u001b[0m Epoch 3/10\u001b[32m [repeated 21x across cluster]\u001b[0m\n",
      "\u001b[2m\u001b[36m(DefaultActor pid=3389325)\u001b[0m [Client 2] loss:1.5991287231445312, Client 2 accuracy:0.45500001311302185\n",
      "\u001b[2m\u001b[36m(DefaultActor pid=3389329)\u001b[0m [Client 3] fit, config: {'server_round': 7, 'local_epochs': 3}\u001b[32m [repeated 4x across cluster]\u001b[0m\n",
      "\u001b[2m\u001b[36m(DefaultActor pid=3389329)\u001b[0m this is the config {'server_round': 7, 'local_epochs': 3}\u001b[32m [repeated 4x across cluster]\u001b[0m\n",
      "\u001b[1m 1/18\u001b[0m \u001b[32m━\u001b[0m\u001b[37m━━━━━━━━━━━━━━━━━━━\u001b[0m \u001b[1m1s\u001b[0m 89ms/step - accuracy: 0.5900 - loss: 1.1632\u001b[32m [repeated 20x across cluster]\u001b[0m\n",
      "\u001b[1m 3/18\u001b[0m \u001b[32m━━━\u001b[0m\u001b[37m━━━━━━━━━━━━━━━━━\u001b[0m \u001b[1m0s\u001b[0m 42ms/step - accuracy: 0.6967 - loss: 0.9026\u001b[32m [repeated 6x across cluster]\u001b[0m\n",
      "\u001b[1m 4/18\u001b[0m \u001b[32m━━━━\u001b[0m\u001b[37m━━━━━━━━━━━━━━━━\u001b[0m \u001b[1m0s\u001b[0m 42ms/step - accuracy: 0.6167 - loss: 1.0507\u001b[32m [repeated 49x across cluster]\u001b[0m\n",
      "\u001b[1m11/18\u001b[0m \u001b[32m━━━━━━━━━━━━\u001b[0m\u001b[37m━━━━━━━━\u001b[0m \u001b[1m0s\u001b[0m 45ms/step - accuracy: 0.6544 - loss: 0.9854\u001b[32m [repeated 87x across cluster]\u001b[0m\n",
      "\u001b[1m 3/18\u001b[0m \u001b[32m━━━\u001b[0m\u001b[37m━━━━━━━━━━━━━━━━━\u001b[0m \u001b[1m0s\u001b[0m 45ms/step - accuracy: 0.5561 - loss: 1.2272\u001b[32m [repeated 3x across cluster]\u001b[0m\n",
      "\u001b[1m18/18\u001b[0m \u001b[32m━━━━━━━━━━━━━━━━━━━━\u001b[0m\u001b[37m\u001b[0m \u001b[1m1s\u001b[0m 45ms/step - accuracy: 0.6715 - loss: 0.9561\u001b[32m [repeated 5x across cluster]\u001b[0m\n",
      "\u001b[2m\u001b[36m(DefaultActor pid=3389329)\u001b[0m Epoch 10/10\u001b[32m [repeated 28x across cluster]\u001b[0m\n"
     ]
    },
    {
     "name": "stderr",
     "output_type": "stream",
     "text": [
      "DEBUG flwr 2024-03-14 19:41:05,647 | server.py:236 | fit_round 7 received 5 results and 0 failures\n",
      "DEBUG flwr 2024-03-14 19:41:05,651 | server.py:173 | evaluate_round 7: strategy sampled 2 clients (out of 5)\n"
     ]
    },
    {
     "name": "stdout",
     "output_type": "stream",
     "text": [
      "\u001b[2m\u001b[36m(DefaultActor pid=3389326)\u001b[0m [Client 4] evaluate, config: {}\n",
      "\u001b[1m 1/18\u001b[0m \u001b[32m━\u001b[0m\u001b[37m━━━━━━━━━━━━━━━━━━━\u001b[0m \u001b[1m0s\u001b[0m 49ms/step - accuracy: 0.7400 - loss: 0.8401\u001b[32m [repeated 19x across cluster]\u001b[0m\n",
      "\u001b[1m 3/18\u001b[0m \u001b[32m━━━\u001b[0m\u001b[37m━━━━━━━━━━━━━━━━━\u001b[0m \u001b[1m0s\u001b[0m 31ms/step - accuracy: 0.7900 - loss: 0.6744\u001b[32m [repeated 5x across cluster]\u001b[0m\n",
      "\u001b[1m16/18\u001b[0m \u001b[32m━━━━━━━━━━━━━━━━━\u001b[0m\u001b[37m━━━\u001b[0m \u001b[1m0s\u001b[0m 25ms/step - accuracy: 0.7548 - loss: 0.7609\u001b[32m [repeated 64x across cluster]\u001b[0m\n",
      "\u001b[1m18/18\u001b[0m \u001b[32m━━━━━━━━━━━━━━━━━━━━\u001b[0m\u001b[37m\u001b[0m \u001b[1m0s\u001b[0m 24ms/step - accuracy: 0.7534 - loss: 0.7595\u001b[32m [repeated 101x across cluster]\u001b[0m\n",
      "\u001b[2m\u001b[36m(DefaultActor pid=3389326)\u001b[0m [Client 4] loss:1.3498791456222534, Client 4 accuracy:0.4950000047683716\n"
     ]
    },
    {
     "name": "stderr",
     "output_type": "stream",
     "text": [
      "DEBUG flwr 2024-03-14 19:41:06,447 | server.py:187 | evaluate_round 7 received 2 results and 0 failures\n",
      "DEBUG flwr 2024-03-14 19:41:06,448 | server.py:222 | fit_round 8: strategy sampled 5 clients (out of 5)\n"
     ]
    },
    {
     "name": "stdout",
     "output_type": "stream",
     "text": [
      "\u001b[2m\u001b[36m(DefaultActor pid=3389329)\u001b[0m [Client 0] fit, config: {'server_round': 8, 'local_epochs': 3}\n",
      "\u001b[2m\u001b[36m(DefaultActor pid=3389329)\u001b[0m this is the config {'server_round': 8, 'local_epochs': 3}\n",
      "\u001b[1m18/18\u001b[0m \u001b[32m━━━━━━━━━━━━━━━━━━━━\u001b[0m\u001b[37m\u001b[0m \u001b[1m1s\u001b[0m 29ms/step - accuracy: 0.7524 - loss: 0.7484\u001b[32m [repeated 6x across cluster]\u001b[0m\n",
      "\u001b[1m 9/18\u001b[0m \u001b[32m━━━━━━━━━━\u001b[0m\u001b[37m━━━━━━━━━━\u001b[0m \u001b[1m0s\u001b[0m 15ms/step - accuracy: 0.5344 - loss: 1.5089 \n",
      "\u001b[1m 4/18\u001b[0m \u001b[32m━━━━\u001b[0m\u001b[37m━━━━━━━━━━━━━━━━\u001b[0m \u001b[1m0s\u001b[0m 24ms/step - accuracy: 0.5763 - loss: 1.2538\n",
      "\u001b[2m\u001b[36m(DefaultActor pid=3389327)\u001b[0m Epoch 3/10\u001b[32m [repeated 16x across cluster]\u001b[0m\n",
      "\u001b[1m 3/18\u001b[0m \u001b[32m━━━\u001b[0m\u001b[37m━━━━━━━━━━━━━━━━━\u001b[0m \u001b[1m0s\u001b[0m 42ms/step - accuracy: 0.7111 - loss: 0.8670 \n",
      "\u001b[2m\u001b[36m(DefaultActor pid=3389329)\u001b[0m [Client 0] evaluate, config: {}\n",
      "\u001b[1m 1/18\u001b[0m \u001b[32m━\u001b[0m\u001b[37m━━━━━━━━━━━━━━━━━━━\u001b[0m \u001b[1m1s\u001b[0m 83ms/step - accuracy: 0.7000 - loss: 0.8512\u001b[32m [repeated 16x across cluster]\u001b[0m\n",
      "\u001b[1m 2/18\u001b[0m \u001b[32m━━\u001b[0m\u001b[37m━━━━━━━━━━━━━━━━━━\u001b[0m \u001b[1m0s\u001b[0m 59ms/step - accuracy: 0.7175 - loss: 0.8093\u001b[32m [repeated 7x across cluster]\u001b[0m\n",
      "\u001b[1m12/18\u001b[0m \u001b[32m━━━━━━━━━━━━━\u001b[0m\u001b[37m━━━━━━━\u001b[0m \u001b[1m0s\u001b[0m 48ms/step - accuracy: 0.6782 - loss: 0.9554\u001b[32m [repeated 35x across cluster]\u001b[0m\n",
      "\u001b[1m 4/18\u001b[0m \u001b[32m━━━━\u001b[0m\u001b[37m━━━━━━━━━━━━━━━━\u001b[0m \u001b[1m0s\u001b[0m 52ms/step - accuracy: 0.7431 - loss: 0.7456\u001b[32m [repeated 74x across cluster]\u001b[0m\n",
      "\u001b[2m\u001b[36m(DefaultActor pid=3389329)\u001b[0m [Client 0] loss:1.261147141456604, Client 0 accuracy:0.550000011920929\n",
      "\u001b[2m\u001b[36m(DefaultActor pid=3389325)\u001b[0m [Client 2] fit, config: {'server_round': 8, 'local_epochs': 3}\u001b[32m [repeated 4x across cluster]\u001b[0m\n",
      "\u001b[2m\u001b[36m(DefaultActor pid=3389325)\u001b[0m this is the config {'server_round': 8, 'local_epochs': 3}\u001b[32m [repeated 4x across cluster]\u001b[0m\n",
      "\u001b[1m18/18\u001b[0m \u001b[32m━━━━━━━━━━━━━━━━━━━━\u001b[0m\u001b[37m\u001b[0m \u001b[1m1s\u001b[0m 45ms/step - accuracy: 0.6799 - loss: 0.9261\u001b[32m [repeated 4x across cluster]\u001b[0m\n",
      "\u001b[1m 2/18\u001b[0m \u001b[32m━━\u001b[0m\u001b[37m━━━━━━━━━━━━━━━━━━\u001b[0m \u001b[1m0s\u001b[0m 62ms/step - accuracy: 0.5300 - loss: 1.2605\n",
      "\u001b[2m\u001b[36m(DefaultActor pid=3389327)\u001b[0m Epoch 9/10\u001b[32m [repeated 29x across cluster]\u001b[0m\n",
      "\u001b[1m 1/18\u001b[0m \u001b[32m━\u001b[0m\u001b[37m━━━━━━━━━━━━━━━━━━━\u001b[0m \u001b[1m1s\u001b[0m 63ms/step - accuracy: 0.8200 - loss: 0.6378\u001b[32m [repeated 19x across cluster]\u001b[0m\n",
      "\u001b[1m 3/18\u001b[0m \u001b[32m━━━\u001b[0m\u001b[37m━━━━━━━━━━━━━━━━━\u001b[0m \u001b[1m0s\u001b[0m 25ms/step - accuracy: 0.7444 - loss: 0.7199\u001b[32m [repeated 9x across cluster]\u001b[0m\n",
      "\u001b[1m11/18\u001b[0m \u001b[32m━━━━━━━━━━━━\u001b[0m\u001b[37m━━━━━━━━\u001b[0m \u001b[1m0s\u001b[0m 24ms/step - accuracy: 0.7515 - loss: 0.7039\u001b[32m [repeated 67x across cluster]\u001b[0m\n",
      "\u001b[1m 5/18\u001b[0m \u001b[32m━━━━━\u001b[0m\u001b[37m━━━━━━━━━━━━━━━\u001b[0m \u001b[1m0s\u001b[0m 28ms/step - accuracy: 0.7478 - loss: 0.7121\u001b[32m [repeated 125x across cluster]\u001b[0m\n"
     ]
    },
    {
     "name": "stderr",
     "output_type": "stream",
     "text": [
      "DEBUG flwr 2024-03-14 19:41:16,683 | server.py:236 | fit_round 8 received 5 results and 0 failures\n",
      "DEBUG flwr 2024-03-14 19:41:16,687 | server.py:173 | evaluate_round 8: strategy sampled 2 clients (out of 5)\n"
     ]
    },
    {
     "name": "stdout",
     "output_type": "stream",
     "text": [
      "\u001b[2m\u001b[36m(DefaultActor pid=3389325)\u001b[0m [Client 3] evaluate, config: {}\n",
      "\u001b[2m\u001b[36m(DefaultActor pid=3389325)\u001b[0m [Client 3] loss:1.5246257781982422, Client 3 accuracy:0.5400000214576721\n"
     ]
    },
    {
     "name": "stderr",
     "output_type": "stream",
     "text": [
      "DEBUG flwr 2024-03-14 19:41:17,412 | server.py:187 | evaluate_round 8 received 2 results and 0 failures\n",
      "DEBUG flwr 2024-03-14 19:41:17,413 | server.py:222 | fit_round 9: strategy sampled 5 clients (out of 5)\n"
     ]
    },
    {
     "name": "stdout",
     "output_type": "stream",
     "text": [
      "\u001b[2m\u001b[36m(DefaultActor pid=3389328)\u001b[0m [Client 1] fit, config: {'server_round': 9, 'local_epochs': 3}\n",
      "\u001b[2m\u001b[36m(DefaultActor pid=3389328)\u001b[0m this is the config {'server_round': 9, 'local_epochs': 3}\n",
      "\u001b[1m18/18\u001b[0m \u001b[32m━━━━━━━━━━━━━━━━━━━━\u001b[0m\u001b[37m\u001b[0m \u001b[1m1s\u001b[0m 28ms/step - accuracy: 0.8080 - loss: 0.6169\u001b[32m [repeated 5x across cluster]\u001b[0m\n",
      "\u001b[1m 5/18\u001b[0m \u001b[32m━━━━━\u001b[0m\u001b[37m━━━━━━━━━━━━━━━\u001b[0m \u001b[1m0s\u001b[0m 16ms/step - accuracy: 0.5671 - loss: 1.2183  \n",
      "\u001b[1m 7/18\u001b[0m \u001b[32m━━━━━━━\u001b[0m\u001b[37m━━━━━━━━━━━━━\u001b[0m \u001b[1m0s\u001b[0m 22ms/step - accuracy: 0.5832 - loss: 1.1377\n",
      "\u001b[1m 3/18\u001b[0m \u001b[32m━━━\u001b[0m\u001b[37m━━━━━━━━━━━━━━━━━\u001b[0m \u001b[1m0s\u001b[0m 32ms/step - accuracy: 0.5533 - loss: 1.3195\n",
      "\u001b[2m\u001b[36m(DefaultActor pid=3389328)\u001b[0m Epoch 5/10\u001b[32m [repeated 18x across cluster]\u001b[0m\n",
      "\u001b[1m 1/18\u001b[0m \u001b[32m━\u001b[0m\u001b[37m━━━━━━━━━━━━━━━━━━━\u001b[0m \u001b[1m1s\u001b[0m 82ms/step - accuracy: 0.5900 - loss: 1.0607\u001b[32m [repeated 14x across cluster]\u001b[0m\n",
      "\u001b[1m 3/18\u001b[0m \u001b[32m━━━\u001b[0m\u001b[37m━━━━━━━━━━━━━━━━━\u001b[0m \u001b[1m0s\u001b[0m 46ms/step - accuracy: 0.6333 - loss: 0.9345\u001b[32m [repeated 6x across cluster]\u001b[0m\n",
      "\u001b[1m18/18\u001b[0m \u001b[32m━━━━━━━━━━━━━━━━━━━━\u001b[0m\u001b[37m\u001b[0m \u001b[1m2s\u001b[0m 44ms/step - accuracy: 0.5378 - loss: 1.4042\u001b[32m [repeated 37x across cluster]\u001b[0m\n",
      "\u001b[1m10/18\u001b[0m \u001b[32m━━━━━━━━━━━\u001b[0m\u001b[37m━━━━━━━━━\u001b[0m \u001b[1m0s\u001b[0m 43ms/step - accuracy: 0.7366 - loss: 0.7987\u001b[32m [repeated 41x across cluster]\u001b[0m\n",
      "\u001b[2m\u001b[36m(DefaultActor pid=3389328)\u001b[0m [Client 0] evaluate, config: {}\n",
      "\u001b[2m\u001b[36m(DefaultActor pid=3389328)\u001b[0m [Client 0] loss:1.2772763967514038, Client 0 accuracy:0.5550000071525574\n",
      "\u001b[2m\u001b[36m(DefaultActor pid=3389329)\u001b[0m [Client 3] fit, config: {'server_round': 9, 'local_epochs': 3}\u001b[32m [repeated 4x across cluster]\u001b[0m\n",
      "\u001b[2m\u001b[36m(DefaultActor pid=3389329)\u001b[0m this is the config {'server_round': 9, 'local_epochs': 3}\u001b[32m [repeated 4x across cluster]\u001b[0m\n",
      "\u001b[1m18/18\u001b[0m \u001b[32m━━━━━━━━━━━━━━━━━━━━\u001b[0m\u001b[37m\u001b[0m \u001b[1m1s\u001b[0m 45ms/step - accuracy: 0.6536 - loss: 0.9506\u001b[32m [repeated 2x across cluster]\u001b[0m\n",
      "\u001b[1m 3/18\u001b[0m \u001b[32m━━━\u001b[0m\u001b[37m━━━━━━━━━━━━━━━━━\u001b[0m \u001b[1m0s\u001b[0m 48ms/step - accuracy: 0.6172 - loss: 1.2032\u001b[32m [repeated 2x across cluster]\u001b[0m\n",
      "\u001b[2m\u001b[36m(DefaultActor pid=3389327)\u001b[0m Epoch 8/10\u001b[32m [repeated 28x across cluster]\u001b[0m\n",
      "\u001b[1m 1/18\u001b[0m \u001b[32m━\u001b[0m\u001b[37m━━━━━━━━━━━━━━━━━━━\u001b[0m \u001b[1m0s\u001b[0m 56ms/step - accuracy: 0.7300 - loss: 0.7995\u001b[32m [repeated 23x across cluster]\u001b[0m\n",
      "\u001b[1m 2/18\u001b[0m \u001b[32m━━\u001b[0m\u001b[37m━━━━━━━━━━━━━━━━━━\u001b[0m \u001b[1m0s\u001b[0m 58ms/step - accuracy: 0.8250 - loss: 0.7113\u001b[32m [repeated 4x across cluster]\u001b[0m\n",
      "\u001b[1m16/18\u001b[0m \u001b[32m━━━━━━━━━━━━━━━━━\u001b[0m\u001b[37m━━━\u001b[0m \u001b[1m0s\u001b[0m 29ms/step - accuracy: 0.8391 - loss: 0.5289\u001b[32m [repeated 81x across cluster]\u001b[0m\n",
      "\u001b[1m 8/18\u001b[0m \u001b[32m━━━━━━━━\u001b[0m\u001b[37m━━━━━━━━━━━━\u001b[0m \u001b[1m0s\u001b[0m 29ms/step - accuracy: 0.7802 - loss: 0.6879\u001b[32m [repeated 129x across cluster]\u001b[0m\n"
     ]
    },
    {
     "name": "stderr",
     "output_type": "stream",
     "text": [
      "DEBUG flwr 2024-03-14 19:41:27,588 | server.py:236 | fit_round 9 received 5 results and 0 failures\n",
      "DEBUG flwr 2024-03-14 19:41:27,592 | server.py:173 | evaluate_round 9: strategy sampled 2 clients (out of 5)\n"
     ]
    },
    {
     "name": "stdout",
     "output_type": "stream",
     "text": [
      "\u001b[2m\u001b[36m(DefaultActor pid=3389326)\u001b[0m [Client 4] evaluate, config: {}\n",
      "\u001b[1m18/18\u001b[0m \u001b[32m━━━━━━━━━━━━━━━━━━━━\u001b[0m\u001b[37m\u001b[0m \u001b[1m0s\u001b[0m 18ms/step - accuracy: 0.8207 - loss: 0.5690\u001b[32m [repeated 3x across cluster]\u001b[0m\n",
      "\u001b[2m\u001b[36m(DefaultActor pid=3389326)\u001b[0m [Client 4] loss:1.4377758502960205, Client 4 accuracy:0.49000000953674316\n"
     ]
    },
    {
     "name": "stderr",
     "output_type": "stream",
     "text": [
      "DEBUG flwr 2024-03-14 19:41:28,347 | server.py:187 | evaluate_round 9 received 2 results and 0 failures\n",
      "DEBUG flwr 2024-03-14 19:41:28,348 | server.py:222 | fit_round 10: strategy sampled 5 clients (out of 5)\n"
     ]
    },
    {
     "name": "stdout",
     "output_type": "stream",
     "text": [
      "\u001b[2m\u001b[36m(DefaultActor pid=3389329)\u001b[0m [Client 3] fit, config: {'server_round': 10, 'local_epochs': 3}\n",
      "\u001b[2m\u001b[36m(DefaultActor pid=3389329)\u001b[0m this is the config {'server_round': 10, 'local_epochs': 3}\n",
      "\u001b[1m 4/18\u001b[0m \u001b[32m━━━━\u001b[0m\u001b[37m━━━━━━━━━━━━━━━━\u001b[0m \u001b[1m0s\u001b[0m 21ms/step - accuracy: 0.6090 - loss: 1.1371  \n",
      "\u001b[2m\u001b[36m(DefaultActor pid=3389326)\u001b[0m Epoch 2/10\u001b[32m [repeated 17x across cluster]\u001b[0m\n",
      "\u001b[1m 1/18\u001b[0m \u001b[32m━\u001b[0m\u001b[37m━━━━━━━━━━━━━━━━━━━\u001b[0m \u001b[1m1s\u001b[0m 64ms/step - accuracy: 0.6200 - loss: 1.1045\u001b[32m [repeated 8x across cluster]\u001b[0m\n",
      "\u001b[1m 4/18\u001b[0m \u001b[32m━━━━\u001b[0m\u001b[37m━━━━━━━━━━━━━━━━\u001b[0m \u001b[1m0s\u001b[0m 23ms/step - accuracy: 0.7531 - loss: 0.7349\u001b[32m [repeated 8x across cluster]\u001b[0m\n",
      "\u001b[1m18/18\u001b[0m \u001b[32m━━━━━━━━━━━━━━━━━━━━\u001b[0m\u001b[37m\u001b[0m \u001b[1m1s\u001b[0m 31ms/step - accuracy: 0.7499 - loss: 0.7655\u001b[32m [repeated 39x across cluster]\u001b[0m\n",
      "\u001b[1m15/18\u001b[0m \u001b[32m━━━━━━━━━━━━━━━━\u001b[0m\u001b[37m━━━━\u001b[0m \u001b[1m0s\u001b[0m 30ms/step - accuracy: 0.7569 - loss: 0.7552\u001b[32m [repeated 26x across cluster]\u001b[0m\n",
      "\u001b[1m 3/18\u001b[0m \u001b[32m━━━\u001b[0m\u001b[37m━━━━━━━━━━━━━━━━━\u001b[0m \u001b[1m0s\u001b[0m 50ms/step - accuracy: 0.6483 - loss: 1.0527\n",
      "\u001b[2m\u001b[36m(DefaultActor pid=3389329)\u001b[0m [Client 0] evaluate, config: {}\n",
      "\u001b[1m18/18\u001b[0m \u001b[32m━━━━━━━━━━━━━━━━━━━━\u001b[0m\u001b[37m\u001b[0m \u001b[1m1s\u001b[0m 45ms/step - accuracy: 0.7098 - loss: 0.8592\u001b[32m [repeated 3x across cluster]\u001b[0m\n",
      "\u001b[2m\u001b[36m(DefaultActor pid=3389329)\u001b[0m [Client 0] loss:1.2881200313568115, Client 0 accuracy:0.5799999833106995\n",
      "\u001b[2m\u001b[36m(DefaultActor pid=3389328)\u001b[0m [Client 0] fit, config: {'server_round': 10, 'local_epochs': 3}\u001b[32m [repeated 4x across cluster]\u001b[0m\n",
      "\u001b[2m\u001b[36m(DefaultActor pid=3389328)\u001b[0m this is the config {'server_round': 10, 'local_epochs': 3}\u001b[32m [repeated 4x across cluster]\u001b[0m\n",
      "\u001b[2m\u001b[36m(DefaultActor pid=3389328)\u001b[0m Epoch 5/10\u001b[32m [repeated 26x across cluster]\u001b[0m\n",
      "\u001b[1m 1/18\u001b[0m \u001b[32m━\u001b[0m\u001b[37m━━━━━━━━━━━━━━━━━━━\u001b[0m \u001b[1m1s\u001b[0m 75ms/step - accuracy: 0.8100 - loss: 0.5515\u001b[32m [repeated 23x across cluster]\u001b[0m\n",
      "\u001b[1m 3/18\u001b[0m \u001b[32m━━━\u001b[0m\u001b[37m━━━━━━━━━━━━━━━━━\u001b[0m \u001b[1m0s\u001b[0m 40ms/step - accuracy: 0.8456 - loss: 0.5075\u001b[32m [repeated 8x across cluster]\u001b[0m\n",
      "\u001b[1m18/18\u001b[0m \u001b[32m━━━━━━━━━━━━━━━━━━━━\u001b[0m\u001b[37m\u001b[0m \u001b[1m1s\u001b[0m 46ms/step - accuracy: 0.8576 - loss: 0.4873\u001b[32m [repeated 61x across cluster]\u001b[0m\n",
      "\u001b[1m17/18\u001b[0m \u001b[32m━━━━━━━━━━━━━━━━━━\u001b[0m\u001b[37m━━\u001b[0m \u001b[1m0s\u001b[0m 46ms/step - accuracy: 0.8513 - loss: 0.4904\u001b[32m [repeated 149x across cluster]\u001b[0m\n",
      "\u001b[1m18/18\u001b[0m \u001b[32m━━━━━━━━━━━━━━━━━━━━\u001b[0m\u001b[37m\u001b[0m \u001b[1m1s\u001b[0m 46ms/step - accuracy: 0.8207 - loss: 0.5484\u001b[32m [repeated 5x across cluster]\u001b[0m\n"
     ]
    },
    {
     "name": "stderr",
     "output_type": "stream",
     "text": [
      "DEBUG flwr 2024-03-14 19:41:38,695 | server.py:236 | fit_round 10 received 5 results and 0 failures\n",
      "DEBUG flwr 2024-03-14 19:41:38,699 | server.py:173 | evaluate_round 10: strategy sampled 2 clients (out of 5)\n"
     ]
    },
    {
     "name": "stdout",
     "output_type": "stream",
     "text": [
      "\u001b[2m\u001b[36m(DefaultActor pid=3389328)\u001b[0m [Client 4] evaluate, config: {}\n",
      "\u001b[2m\u001b[36m(DefaultActor pid=3389328)\u001b[0m [Client 4] loss:1.5812214612960815, Client 4 accuracy:0.5149999856948853\n"
     ]
    },
    {
     "name": "stderr",
     "output_type": "stream",
     "text": [
      "DEBUG flwr 2024-03-14 19:41:39,387 | server.py:187 | evaluate_round 10 received 2 results and 0 failures\n",
      "INFO flwr 2024-03-14 19:41:39,387 | server.py:153 | FL finished in 114.02943027898436\n",
      "INFO flwr 2024-03-14 19:41:39,388 | app.py:226 | app_fit: losses_distributed [(1, 1.7675231099128723), (2, 1.460463285446167), (3, 1.4926090836524963), (4, 1.3456531167030334), (5, 1.4010659456253052), (6, 1.4185267686843872), (7, 1.3055131435394287), (8, 1.400951087474823), (9, 1.362947940826416), (10, 1.8049861788749695)]\n",
      "INFO flwr 2024-03-14 19:41:39,388 | app.py:227 | app_fit: metrics_distributed_fit {}\n",
      "INFO flwr 2024-03-14 19:41:39,388 | app.py:228 | app_fit: metrics_distributed {'accuracy': [(1, 0.3699999898672104), (2, 0.45000000298023224), (3, 0.4599999934434891), (4, 0.5100000202655792), (5, 0.5174999982118607), (6, 0.5075000077486038), (7, 0.5225000083446503), (8, 0.5475000143051147), (9, 0.5349999964237213), (10, 0.47999998927116394)]}\n",
      "INFO flwr 2024-03-14 19:41:39,389 | app.py:229 | app_fit: losses_centralized []\n",
      "INFO flwr 2024-03-14 19:41:39,389 | app.py:230 | app_fit: metrics_centralized {}\n"
     ]
    }
   ],
   "source": [
    "NUM_ROUNDS = 10\n",
    "FRACTION_FIT = 0.1\n",
    "\n",
    "strategy = fl.server.strategy.FedAvg(\n",
    "    fraction_fit=FRACTION_FIT, \n",
    "    fraction_evaluate=0.5,  # Sample 50% of available clients for evaluation\n",
    "    min_fit_clients=NUM_CLIENTS,  # Never sample less than NUM_CLIENTS clients for training\n",
    "    min_evaluate_clients=NUM_CLIENTS//2,  # Never sample less than NUM_CLIENTS//2 clients for evaluation\n",
    "    min_available_clients=NUM_CLIENTS,  # Wait until all NUM_CLIENTS clients are available\n",
    "    initial_parameters=fl.common.ndarrays_to_parameters(params), # Initial parameters\n",
    "    on_fit_config_fn=fit_config,\n",
    "    evaluate_metrics_aggregation_fn=weighted_average\n",
    "\n",
    ")\n",
    "\n",
    "# Start simulation\n",
    "res = fl.simulation.start_simulation(\n",
    "    client_fn=client_fn,\n",
    "    num_clients=NUM_CLIENTS,\n",
    "    config=fl.server.ServerConfig(num_rounds=NUM_ROUNDS),\n",
    "    strategy=strategy,\n",
    ")"
   ]
  },
  {
   "cell_type": "code",
   "execution_count": 7,
   "id": "dfc98505",
   "metadata": {},
   "outputs": [
    {
     "name": "stderr",
     "output_type": "stream",
     "text": [
      "INFO flwr 2024-03-14 19:41:39,399 | app.py:178 | Starting Flower simulation, config: ServerConfig(num_rounds=10, round_timeout=None)\n",
      "2024-03-14 19:41:42,650\tINFO worker.py:1621 -- Started a local Ray instance.\n",
      "INFO flwr 2024-03-14 19:41:43,523 | app.py:213 | Flower VCE: Ray initialized with resources: {'object_store_memory': 15218146099.0, 'node:10.68.58.17': 1.0, 'node:__internal_head__': 1.0, 'GPU': 2.0, 'accelerator_type:G': 1.0, 'CPU': 20.0, 'memory': 30436292199.0}\n",
      "INFO flwr 2024-03-14 19:41:43,524 | app.py:219 | Optimize your simulation with Flower VCE: https://flower.dev/docs/framework/how-to-run-simulations.html\n",
      "INFO flwr 2024-03-14 19:41:43,525 | app.py:227 | No `client_resources` specified. Using minimal resources for clients.\n",
      "INFO flwr 2024-03-14 19:41:43,525 | app.py:242 | Flower VCE: Resources for each Virtual Client: {'num_cpus': 1, 'num_gpus': 0.0}\n",
      "INFO flwr 2024-03-14 19:41:43,536 | app.py:288 | Flower VCE: Creating VirtualClientEngineActorPool with 20 actors\n",
      "INFO flwr 2024-03-14 19:41:43,537 | server.py:89 | Initializing global parameters\n",
      "INFO flwr 2024-03-14 19:41:43,537 | server.py:272 | Using initial parameters provided by strategy\n",
      "INFO flwr 2024-03-14 19:41:43,538 | server.py:91 | Evaluating initial parameters\n",
      "INFO flwr 2024-03-14 19:41:43,538 | server.py:104 | FL starting\n",
      "DEBUG flwr 2024-03-14 19:41:43,538 | server.py:222 | fit_round 1: strategy sampled 5 clients (out of 5)\n",
      "\u001b[2m\u001b[36m(pid=3403354)\u001b[0m 2024-03-14 19:41:44.666452: I tensorflow/core/util/port.cc:113] oneDNN custom operations are on. You may see slightly different numerical results due to floating-point round-off errors from different computation orders. To turn them off, set the environment variable `TF_ENABLE_ONEDNN_OPTS=0`.\n",
      "\u001b[2m\u001b[36m(pid=3403354)\u001b[0m 2024-03-14 19:41:44.667032: I external/local_tsl/tsl/cuda/cudart_stub.cc:32] Could not find cuda drivers on your machine, GPU will not be used.\n",
      "\u001b[2m\u001b[36m(pid=3403354)\u001b[0m 2024-03-14 19:41:44.671295: I external/local_tsl/tsl/cuda/cudart_stub.cc:32] Could not find cuda drivers on your machine, GPU will not be used.\n",
      "\u001b[2m\u001b[36m(pid=3403354)\u001b[0m 2024-03-14 19:41:44.730622: I tensorflow/core/platform/cpu_feature_guard.cc:210] This TensorFlow binary is optimized to use available CPU instructions in performance-critical operations.\n",
      "\u001b[2m\u001b[36m(pid=3403354)\u001b[0m To enable the following instructions: AVX2 AVX512F AVX512_VNNI FMA, in other operations, rebuild TensorFlow with the appropriate compiler flags.\n",
      "\u001b[2m\u001b[36m(pid=3403354)\u001b[0m 2024-03-14 19:41:46.059356: W tensorflow/compiler/tf2tensorrt/utils/py_utils.cc:38] TF-TRT Warning: Could not find TensorRT\n",
      "\u001b[2m\u001b[36m(DefaultActor pid=3403378)\u001b[0m /home/ana/Documents/ml2-labs/.venv/lib/python3.10/site-packages/keras/src/layers/convolutional/base_conv.py:99: UserWarning: Do not pass an `input_shape`/`input_dim` argument to a layer. When using Sequential models, prefer using an `Input(shape)` object as the first layer in the model instead.\n",
      "\u001b[2m\u001b[36m(DefaultActor pid=3403378)\u001b[0m   super().__init__(\n",
      "\u001b[2m\u001b[36m(DefaultActor pid=3403378)\u001b[0m 2024-03-14 19:41:46.918552: E external/local_xla/xla/stream_executor/cuda/cuda_driver.cc:282] failed call to cuInit: CUDA_ERROR_NO_DEVICE: no CUDA-capable device is detected\n",
      "\u001b[2m\u001b[36m(DefaultActor pid=3403378)\u001b[0m 2024-03-14 19:41:46.918588: I external/local_xla/xla/stream_executor/cuda/cuda_diagnostics.cc:134] retrieving CUDA diagnostic information for host: byte\n",
      "\u001b[2m\u001b[36m(DefaultActor pid=3403378)\u001b[0m 2024-03-14 19:41:46.918593: I external/local_xla/xla/stream_executor/cuda/cuda_diagnostics.cc:141] hostname: byte\n",
      "\u001b[2m\u001b[36m(DefaultActor pid=3403378)\u001b[0m 2024-03-14 19:41:46.918678: I external/local_xla/xla/stream_executor/cuda/cuda_diagnostics.cc:165] libcuda reported version is: 535.161.7\n",
      "\u001b[2m\u001b[36m(DefaultActor pid=3403378)\u001b[0m 2024-03-14 19:41:46.918696: I external/local_xla/xla/stream_executor/cuda/cuda_diagnostics.cc:169] kernel reported version is: 535.161.7\n",
      "\u001b[2m\u001b[36m(DefaultActor pid=3403378)\u001b[0m 2024-03-14 19:41:46.918700: I external/local_xla/xla/stream_executor/cuda/cuda_diagnostics.cc:248] kernel version seems to match DSO: 535.161.7\n",
      "\u001b[2m\u001b[36m(DefaultActor pid=3403378)\u001b[0m /home/ana/Documents/ml2-labs/.venv/lib/python3.10/site-packages/flwr/simulation/ray_transport/ray_actor.py:72: DeprecationWarning:  Ensure your client is of type `flwr.client.Client`. Please convert it using the `.to_client()` method before returning it in the `client_fn` you pass to `start_simulation`. We have applied this conversion on your behalf. Not returning a `Client` might trigger an error in future versions of Flower.\n",
      "\u001b[2m\u001b[36m(DefaultActor pid=3403378)\u001b[0m   client = check_clientfn_returns_client(client_fn(cid))\n"
     ]
    },
    {
     "name": "stdout",
     "output_type": "stream",
     "text": [
      "\u001b[2m\u001b[36m(DefaultActor pid=3403378)\u001b[0m [Client 0] fit, config: {'server_round': 1, 'local_epochs': 3}\n",
      "\u001b[2m\u001b[36m(DefaultActor pid=3403378)\u001b[0m this is the config {'server_round': 1, 'local_epochs': 3}\n",
      "\u001b[2m\u001b[36m(DefaultActor pid=3403378)\u001b[0m Epoch 1/10\n",
      "\u001b[1m 4/18\u001b[0m \u001b[32m━━━━\u001b[0m\u001b[37m━━━━━━━━━━━━━━━━\u001b[0m \u001b[1m0s\u001b[0m 20ms/step - accuracy: 0.1342 - loss: 2.3002  \n",
      "\u001b[1m 1/18\u001b[0m \u001b[32m━\u001b[0m\u001b[37m━━━━━━━━━━━━━━━━━━━\u001b[0m \u001b[1m16s\u001b[0m 971ms/step - accuracy: 0.1100 - loss: 2.2979\n",
      "\u001b[1m 7/18\u001b[0m \u001b[32m━━━━━━━\u001b[0m\u001b[37m━━━━━━━━━━━━━\u001b[0m \u001b[1m0s\u001b[0m 21ms/step - accuracy: 0.1315 - loss: 2.2981\n",
      "\u001b[1m 5/18\u001b[0m \u001b[32m━━━━━\u001b[0m\u001b[37m━━━━━━━━━━━━━━━\u001b[0m \u001b[1m0s\u001b[0m 27ms/step - accuracy: 0.0921 - loss: 2.3059 \n",
      "\u001b[1m 3/18\u001b[0m \u001b[32m━━━\u001b[0m\u001b[37m━━━━━━━━━━━━━━━━━\u001b[0m \u001b[1m0s\u001b[0m 34ms/step - accuracy: 0.1044 - loss: 2.2964  \n",
      "\u001b[1m11/18\u001b[0m \u001b[32m━━━━━━━━━━━━\u001b[0m\u001b[37m━━━━━━━━\u001b[0m \u001b[1m0s\u001b[0m 24ms/step - accuracy: 0.1291 - loss: 2.2969\n",
      "\u001b[1m 3/18\u001b[0m \u001b[32m━━━\u001b[0m\u001b[37m━━━━━━━━━━━━━━━━━\u001b[0m \u001b[1m0s\u001b[0m 32ms/step - accuracy: 0.1772 - loss: 2.2453\n",
      "\u001b[1m 2/18\u001b[0m \u001b[32m━━\u001b[0m\u001b[37m━━━━━━━━━━━━━━━━━━\u001b[0m \u001b[1m1s\u001b[0m 66ms/step - accuracy: 0.0800 - loss: 2.3017\n",
      "\u001b[1m18/18\u001b[0m \u001b[32m━━━━━━━━━━━━━━━━━━━━\u001b[0m\u001b[37m\u001b[0m \u001b[1m1s\u001b[0m 45ms/step - accuracy: 0.1603 - loss: 2.2335\n",
      "\u001b[2m\u001b[36m(DefaultActor pid=3403379)\u001b[0m [Client 2] fit, config: {'server_round': 1, 'local_epochs': 3}\u001b[32m [repeated 4x across cluster]\u001b[0m\n",
      "\u001b[2m\u001b[36m(DefaultActor pid=3403379)\u001b[0m this is the config {'server_round': 1, 'local_epochs': 3}\u001b[32m [repeated 4x across cluster]\u001b[0m\n",
      "\u001b[2m\u001b[36m(DefaultActor pid=3403376)\u001b[0m Epoch 6/10\u001b[32m [repeated 25x across cluster]\u001b[0m\n",
      "\u001b[1m 2/18\u001b[0m \u001b[32m━━\u001b[0m\u001b[37m━━━━━━━━━━━━━━━━━━\u001b[0m \u001b[1m0s\u001b[0m 53ms/step - accuracy: 0.3825 - loss: 1.7689\u001b[32m [repeated 7x across cluster]\u001b[0m\n",
      "\u001b[1m 1/18\u001b[0m \u001b[32m━\u001b[0m\u001b[37m━━━━━━━━━━━━━━━━━━━\u001b[0m \u001b[1m1s\u001b[0m 80ms/step - accuracy: 0.3800 - loss: 1.6959\u001b[32m [repeated 21x across cluster]\u001b[0m\n",
      "\u001b[1m 5/18\u001b[0m \u001b[32m━━━━━\u001b[0m\u001b[37m━━━━━━━━━━━━━━━\u001b[0m \u001b[1m0s\u001b[0m 43ms/step - accuracy: 0.3629 - loss: 1.7929\u001b[32m [repeated 129x across cluster]\u001b[0m\n",
      "\u001b[1m10/18\u001b[0m \u001b[32m━━━━━━━━━━━\u001b[0m\u001b[37m━━━━━━━━━\u001b[0m \u001b[1m0s\u001b[0m 45ms/step - accuracy: 0.3663 - loss: 1.7934\u001b[32m [repeated 78x across cluster]\u001b[0m\n",
      "\u001b[1m18/18\u001b[0m \u001b[32m━━━━━━━━━━━━━━━━━━━━\u001b[0m\u001b[37m\u001b[0m \u001b[1m1s\u001b[0m 46ms/step - accuracy: 0.3532 - loss: 1.7662\n",
      "\u001b[1m18/18\u001b[0m \u001b[32m━━━━━━━━━━━━━━━━━━━━\u001b[0m\u001b[37m\u001b[0m \u001b[1m1s\u001b[0m 36ms/step - accuracy: 0.4019 - loss: 1.6972\n"
     ]
    },
    {
     "name": "stderr",
     "output_type": "stream",
     "text": [
      "DEBUG flwr 2024-03-14 19:41:56,706 | server.py:236 | fit_round 1 received 5 results and 0 failures\n",
      "WARNING flwr 2024-03-14 19:41:56,710 | fedavg.py:250 | No fit_metrics_aggregation_fn provided\n",
      "DEBUG flwr 2024-03-14 19:41:56,711 | server.py:173 | evaluate_round 1: strategy sampled 2 clients (out of 5)\n"
     ]
    },
    {
     "name": "stdout",
     "output_type": "stream",
     "text": [
      "\u001b[2m\u001b[36m(DefaultActor pid=3403379)\u001b[0m [Client 2] evaluate, config: {}\n",
      "\u001b[2m\u001b[36m(DefaultActor pid=3403379)\u001b[0m Epoch 10/10\u001b[32m [repeated 24x across cluster]\u001b[0m\n",
      "\u001b[2m\u001b[36m(DefaultActor pid=3403379)\u001b[0m [Client 2] loss:1.8390014171600342, Client 2 accuracy:0.3499999940395355\n"
     ]
    },
    {
     "name": "stderr",
     "output_type": "stream",
     "text": [
      "DEBUG flwr 2024-03-14 19:41:57,583 | server.py:187 | evaluate_round 1 received 2 results and 0 failures\n",
      "DEBUG flwr 2024-03-14 19:41:57,583 | server.py:222 | fit_round 2: strategy sampled 5 clients (out of 5)\n"
     ]
    },
    {
     "name": "stdout",
     "output_type": "stream",
     "text": [
      "\u001b[2m\u001b[36m(DefaultActor pid=3403377)\u001b[0m [Client 1] fit, config: {'server_round': 2, 'local_epochs': 3}\n",
      "\u001b[2m\u001b[36m(DefaultActor pid=3403377)\u001b[0m this is the config {'server_round': 2, 'local_epochs': 3}\n",
      "\u001b[1m7/7\u001b[0m \u001b[32m━━━━━━━━━━━━━━━━━━━━\u001b[0m\u001b[37m\u001b[0m \u001b[1m0s\u001b[0m 3ms/step - accuracy: 0.3023 - loss: 1.7934  \u001b[32m [repeated 9x across cluster]\u001b[0m\n",
      "\u001b[1m 1/18\u001b[0m \u001b[32m━\u001b[0m\u001b[37m━━━━━━━━━━━━━━━━━━━\u001b[0m \u001b[1m0s\u001b[0m 46ms/step - accuracy: 0.3900 - loss: 1.7174\u001b[32m [repeated 11x across cluster]\u001b[0m\n",
      "\u001b[1m13/18\u001b[0m \u001b[32m━━━━━━━━━━━━━━\u001b[0m\u001b[37m━━━━━━\u001b[0m \u001b[1m0s\u001b[0m 20ms/step - accuracy: 0.3905 - loss: 1.6818\u001b[32m [repeated 88x across cluster]\u001b[0m\n",
      "\u001b[1m18/18\u001b[0m \u001b[32m━━━━━━━━━━━━━━━━━━━━\u001b[0m\u001b[37m\u001b[0m \u001b[1m0s\u001b[0m 19ms/step - accuracy: 0.4281 - loss: 1.5966\u001b[32m [repeated 52x across cluster]\u001b[0m\n",
      "\u001b[1m 9/18\u001b[0m \u001b[32m━━━━━━━━━━\u001b[0m\u001b[37m━━━━━━━━━━\u001b[0m \u001b[1m0s\u001b[0m 16ms/step - accuracy: 0.3410 - loss: 1.8552 \n",
      "\u001b[1m 7/18\u001b[0m \u001b[32m━━━━━━━\u001b[0m\u001b[37m━━━━━━━━━━━━━\u001b[0m \u001b[1m0s\u001b[0m 21ms/step - accuracy: 0.3333 - loss: 1.8431\n",
      "\u001b[1m 3/18\u001b[0m \u001b[32m━━━\u001b[0m\u001b[37m━━━━━━━━━━━━━━━━━\u001b[0m \u001b[1m0s\u001b[0m 34ms/step - accuracy: 0.3061 - loss: 1.9149\n",
      "\u001b[2m\u001b[36m(DefaultActor pid=3403377)\u001b[0m [Client 3] evaluate, config: {}\n",
      "\u001b[2m\u001b[36m(DefaultActor pid=3403381)\u001b[0m Epoch 3/10\u001b[32m [repeated 20x across cluster]\u001b[0m\n",
      "\u001b[1m18/18\u001b[0m \u001b[32m━━━━━━━━━━━━━━━━━━━━\u001b[0m\u001b[37m\u001b[0m \u001b[1m1s\u001b[0m 43ms/step - accuracy: 0.4671 - loss: 1.4858\n",
      "\u001b[2m\u001b[36m(DefaultActor pid=3403377)\u001b[0m [Client 3] loss:1.7913533449172974, Client 3 accuracy:0.3149999976158142\n",
      "\u001b[2m\u001b[36m(DefaultActor pid=3403378)\u001b[0m [Client 0] fit, config: {'server_round': 2, 'local_epochs': 3}\u001b[32m [repeated 4x across cluster]\u001b[0m\n",
      "\u001b[2m\u001b[36m(DefaultActor pid=3403378)\u001b[0m this is the config {'server_round': 2, 'local_epochs': 3}\u001b[32m [repeated 4x across cluster]\u001b[0m\n",
      "\u001b[1m 2/18\u001b[0m \u001b[32m━━\u001b[0m\u001b[37m━━━━━━━━━━━━━━━━━━\u001b[0m \u001b[1m0s\u001b[0m 58ms/step - accuracy: 0.5325 - loss: 1.3938\u001b[32m [repeated 5x across cluster]\u001b[0m\n",
      "\u001b[1m 1/18\u001b[0m \u001b[32m━\u001b[0m\u001b[37m━━━━━━━━━━━━━━━━━━━\u001b[0m \u001b[1m1s\u001b[0m 85ms/step - accuracy: 0.4300 - loss: 1.6273\u001b[32m [repeated 21x across cluster]\u001b[0m\n",
      "\u001b[1m 7/18\u001b[0m \u001b[32m━━━━━━━\u001b[0m\u001b[37m━━━━━━━━━━━━━\u001b[0m \u001b[1m0s\u001b[0m 41ms/step - accuracy: 0.4699 - loss: 1.4301\u001b[32m [repeated 82x across cluster]\u001b[0m\n",
      "\u001b[1m15/18\u001b[0m \u001b[32m━━━━━━━━━━━━━━━━\u001b[0m\u001b[37m━━━━\u001b[0m \u001b[1m0s\u001b[0m 47ms/step - accuracy: 0.4457 - loss: 1.5522\u001b[32m [repeated 59x across cluster]\u001b[0m\n",
      "\u001b[1m 5/18\u001b[0m \u001b[32m━━━━━\u001b[0m\u001b[37m━━━━━━━━━━━━━━━\u001b[0m \u001b[1m0s\u001b[0m 41ms/step - accuracy: 0.2879 - loss: 1.9620\u001b[32m [repeated 2x across cluster]\u001b[0m\n",
      "\u001b[1m18/18\u001b[0m \u001b[32m━━━━━━━━━━━━━━━━━━━━\u001b[0m\u001b[37m\u001b[0m \u001b[1m1s\u001b[0m 46ms/step - accuracy: 0.4996 - loss: 1.3891\n",
      "\u001b[2m\u001b[36m(DefaultActor pid=3403381)\u001b[0m Epoch 9/10\u001b[32m [repeated 27x across cluster]\u001b[0m\n",
      "\u001b[1m18/18\u001b[0m \u001b[32m━━━━━━━━━━━━━━━━━━━━\u001b[0m\u001b[37m\u001b[0m \u001b[1m1s\u001b[0m 28ms/step - accuracy: 0.5166 - loss: 1.3872\n"
     ]
    },
    {
     "name": "stderr",
     "output_type": "stream",
     "text": [
      "DEBUG flwr 2024-03-14 19:42:08,028 | server.py:236 | fit_round 2 received 5 results and 0 failures\n",
      "DEBUG flwr 2024-03-14 19:42:08,032 | server.py:173 | evaluate_round 2: strategy sampled 2 clients (out of 5)\n"
     ]
    },
    {
     "name": "stdout",
     "output_type": "stream",
     "text": [
      "\u001b[1m18/18\u001b[0m \u001b[32m━━━━━━━━━━━━━━━━━━━━\u001b[0m\u001b[37m\u001b[0m \u001b[1m0s\u001b[0m 19ms/step - accuracy: 0.5186 - loss: 1.3659\n",
      "\u001b[2m\u001b[36m(DefaultActor pid=3403378)\u001b[0m [Client 4] evaluate, config: {}\n",
      "\u001b[1m 3/18\u001b[0m \u001b[32m━━━\u001b[0m\u001b[37m━━━━━━━━━━━━━━━━━\u001b[0m \u001b[1m0s\u001b[0m 26ms/step - accuracy: 0.5111 - loss: 1.3480\u001b[32m [repeated 4x across cluster]\u001b[0m\n",
      "\u001b[1m 1/18\u001b[0m \u001b[32m━\u001b[0m\u001b[37m━━━━━━━━━━━━━━━━━━━\u001b[0m \u001b[1m0s\u001b[0m 49ms/step - accuracy: 0.5900 - loss: 1.3377\u001b[32m [repeated 20x across cluster]\u001b[0m\n",
      "\u001b[1m18/18\u001b[0m \u001b[32m━━━━━━━━━━━━━━━━━━━━\u001b[0m\u001b[37m\u001b[0m \u001b[1m0s\u001b[0m 16ms/step - accuracy: 0.5393 - loss: 1.3254\u001b[32m [repeated 110x across cluster]\u001b[0m\n",
      "\u001b[2m\u001b[36m(DefaultActor pid=3403378)\u001b[0m [Client 4] loss:1.508261799812317, Client 4 accuracy:0.4399999976158142\n"
     ]
    },
    {
     "name": "stderr",
     "output_type": "stream",
     "text": [
      "DEBUG flwr 2024-03-14 19:42:08,815 | server.py:187 | evaluate_round 2 received 2 results and 0 failures\n",
      "DEBUG flwr 2024-03-14 19:42:08,815 | server.py:222 | fit_round 3: strategy sampled 5 clients (out of 5)\n"
     ]
    },
    {
     "name": "stdout",
     "output_type": "stream",
     "text": [
      "\u001b[1m16/18\u001b[0m \u001b[32m━━━━━━━━━━━━━━━━━\u001b[0m\u001b[37m━━━\u001b[0m \u001b[1m0s\u001b[0m 16ms/step - accuracy: 0.5408 - loss: 1.3254\u001b[32m [repeated 62x across cluster]\u001b[0m\n",
      "\u001b[2m\u001b[36m(DefaultActor pid=3403381)\u001b[0m [Client 2] fit, config: {'server_round': 3, 'local_epochs': 3}\n",
      "\u001b[2m\u001b[36m(DefaultActor pid=3403381)\u001b[0m this is the config {'server_round': 3, 'local_epochs': 3}\n",
      "\u001b[1m 9/18\u001b[0m \u001b[32m━━━━━━━━━━\u001b[0m\u001b[37m━━━━━━━━━━\u001b[0m \u001b[1m0s\u001b[0m 16ms/step - accuracy: 0.3335 - loss: 1.7392 \n",
      "\u001b[1m 3/18\u001b[0m \u001b[32m━━━\u001b[0m\u001b[37m━━━━━━━━━━━━━━━━━\u001b[0m \u001b[1m0s\u001b[0m 34ms/step - accuracy: 0.4028 - loss: 1.7365\n",
      "\u001b[1m 5/18\u001b[0m \u001b[32m━━━━━\u001b[0m\u001b[37m━━━━━━━━━━━━━━━\u001b[0m \u001b[1m0s\u001b[0m 40ms/step - accuracy: 0.3979 - loss: 1.7486\n",
      "\u001b[2m\u001b[36m(DefaultActor pid=3403376)\u001b[0m Epoch 3/10\u001b[32m [repeated 18x across cluster]\u001b[0m\n",
      "\u001b[1m18/18\u001b[0m \u001b[32m━━━━━━━━━━━━━━━━━━━━\u001b[0m\u001b[37m\u001b[0m \u001b[1m2s\u001b[0m 41ms/step - accuracy: 0.4091 - loss: 1.6912\n",
      "\u001b[2m\u001b[36m(DefaultActor pid=3403381)\u001b[0m [Client 3] evaluate, config: {}\n",
      "\u001b[1m 3/18\u001b[0m \u001b[32m━━━\u001b[0m\u001b[37m━━━━━━━━━━━━━━━━━\u001b[0m \u001b[1m0s\u001b[0m 40ms/step - accuracy: 0.4817 - loss: 1.5464\u001b[32m [repeated 7x across cluster]\u001b[0m\n",
      "\u001b[1m 1/18\u001b[0m \u001b[32m━\u001b[0m\u001b[37m━━━━━━━━━━━━━━━━━━━\u001b[0m \u001b[1m1s\u001b[0m 89ms/step - accuracy: 0.5300 - loss: 1.4819\u001b[32m [repeated 16x across cluster]\u001b[0m\n",
      "\u001b[1m12/18\u001b[0m \u001b[32m━━━━━━━━━━━━━\u001b[0m\u001b[37m━━━━━━━\u001b[0m \u001b[1m0s\u001b[0m 42ms/step - accuracy: 0.5415 - loss: 1.3551\u001b[32m [repeated 62x across cluster]\u001b[0m\n",
      "\u001b[2m\u001b[36m(DefaultActor pid=3403381)\u001b[0m [Client 3] loss:1.5392944812774658, Client 3 accuracy:0.4099999964237213\n",
      "\u001b[1m18/18\u001b[0m \u001b[32m━━━━━━━━━━━━━━━━━━━━\u001b[0m\u001b[37m\u001b[0m \u001b[1m1s\u001b[0m 45ms/step - accuracy: 0.5423 - loss: 1.3441\n",
      "\u001b[1m16/18\u001b[0m \u001b[32m━━━━━━━━━━━━━━━━━\u001b[0m\u001b[37m━━━\u001b[0m \u001b[1m0s\u001b[0m 45ms/step - accuracy: 0.5502 - loss: 1.2652\u001b[32m [repeated 43x across cluster]\u001b[0m\n",
      "\u001b[2m\u001b[36m(DefaultActor pid=3403377)\u001b[0m [Client 1] fit, config: {'server_round': 3, 'local_epochs': 3}\u001b[32m [repeated 4x across cluster]\u001b[0m\n",
      "\u001b[2m\u001b[36m(DefaultActor pid=3403377)\u001b[0m this is the config {'server_round': 3, 'local_epochs': 3}\u001b[32m [repeated 4x across cluster]\u001b[0m\n",
      "\u001b[1m 3/18\u001b[0m \u001b[32m━━━\u001b[0m\u001b[37m━━━━━━━━━━━━━━━━━\u001b[0m \u001b[1m0s\u001b[0m 46ms/step - accuracy: 0.4072 - loss: 1.5796\n",
      "\u001b[2m\u001b[36m(DefaultActor pid=3403376)\u001b[0m Epoch 9/10\u001b[32m [repeated 28x across cluster]\u001b[0m\n",
      "\u001b[1m 3/18\u001b[0m \u001b[32m━━━\u001b[0m\u001b[37m━━━━━━━━━━━━━━━━━\u001b[0m \u001b[1m0s\u001b[0m 29ms/step - accuracy: 0.5739 - loss: 1.1780\u001b[32m [repeated 6x across cluster]\u001b[0m\n",
      "\u001b[1m 1/18\u001b[0m \u001b[32m━\u001b[0m\u001b[37m━━━━━━━━━━━━━━━━━━━\u001b[0m \u001b[1m0s\u001b[0m 57ms/step - accuracy: 0.5200 - loss: 1.2204\u001b[32m [repeated 21x across cluster]\u001b[0m\n",
      "\u001b[1m18/18\u001b[0m \u001b[32m━━━━━━━━━━━━━━━━━━━━\u001b[0m\u001b[37m\u001b[0m \u001b[1m1s\u001b[0m 27ms/step - accuracy: 0.5667 - loss: 1.2198\u001b[32m [repeated 114x across cluster]\u001b[0m\n",
      "\u001b[1m18/18\u001b[0m \u001b[32m━━━━━━━━━━━━━━━━━━━━\u001b[0m\u001b[37m\u001b[0m \u001b[1m0s\u001b[0m 20ms/step - accuracy: 0.5650 - loss: 1.1917\u001b[32m [repeated 6x across cluster]\u001b[0m\n"
     ]
    },
    {
     "name": "stderr",
     "output_type": "stream",
     "text": [
      "DEBUG flwr 2024-03-14 19:42:19,018 | server.py:236 | fit_round 3 received 5 results and 0 failures\n",
      "DEBUG flwr 2024-03-14 19:42:19,022 | server.py:173 | evaluate_round 3: strategy sampled 2 clients (out of 5)\n"
     ]
    },
    {
     "name": "stdout",
     "output_type": "stream",
     "text": [
      "\u001b[1m18/18\u001b[0m \u001b[32m━━━━━━━━━━━━━━━━━━━━\u001b[0m\u001b[37m\u001b[0m \u001b[1m0s\u001b[0m 15ms/step - accuracy: 0.5812 - loss: 1.1759\u001b[32m [repeated 76x across cluster]\u001b[0m\n",
      "\u001b[2m\u001b[36m(DefaultActor pid=3403377)\u001b[0m [Client 2] evaluate, config: {}\n",
      "\u001b[2m\u001b[36m(DefaultActor pid=3403377)\u001b[0m [Client 2] loss:1.540364146232605, Client 2 accuracy:0.4650000035762787\n"
     ]
    },
    {
     "name": "stderr",
     "output_type": "stream",
     "text": [
      "DEBUG flwr 2024-03-14 19:42:19,880 | server.py:187 | evaluate_round 3 received 2 results and 0 failures\n",
      "DEBUG flwr 2024-03-14 19:42:19,880 | server.py:222 | fit_round 4: strategy sampled 5 clients (out of 5)\n"
     ]
    },
    {
     "name": "stdout",
     "output_type": "stream",
     "text": [
      "\u001b[1m7/7\u001b[0m \u001b[32m━━━━━━━━━━━━━━━━━━━━\u001b[0m\u001b[37m\u001b[0m \u001b[1m0s\u001b[0m 3ms/step - accuracy: 0.4856 - loss: 1.4755  \n",
      "\u001b[2m\u001b[36m(DefaultActor pid=3403379)\u001b[0m [Client 2] fit, config: {'server_round': 4, 'local_epochs': 3}\n",
      "\u001b[2m\u001b[36m(DefaultActor pid=3403379)\u001b[0m this is the config {'server_round': 4, 'local_epochs': 3}\n",
      "\u001b[1m 9/18\u001b[0m \u001b[32m━━━━━━━━━━\u001b[0m\u001b[37m━━━━━━━━━━\u001b[0m \u001b[1m0s\u001b[0m 15ms/step - accuracy: 0.4077 - loss: 1.7138 \n",
      "\u001b[2m\u001b[36m(DefaultActor pid=3403379)\u001b[0m Epoch 4/10\u001b[32m [repeated 16x across cluster]\u001b[0m\n",
      "\u001b[1m 5/18\u001b[0m \u001b[32m━━━━━\u001b[0m\u001b[37m━━━━━━━━━━━━━━━\u001b[0m \u001b[1m0s\u001b[0m 39ms/step - accuracy: 0.4200 - loss: 1.7240\n",
      "\u001b[1m 3/18\u001b[0m \u001b[32m━━━\u001b[0m\u001b[37m━━━━━━━━━━━━━━━━━\u001b[0m \u001b[1m0s\u001b[0m 40ms/step - accuracy: 0.5872 - loss: 1.1649\u001b[32m [repeated 7x across cluster]\u001b[0m\n",
      "\u001b[1m 1/18\u001b[0m \u001b[32m━\u001b[0m\u001b[37m━━━━━━━━━━━━━━━━━━━\u001b[0m \u001b[1m29s\u001b[0m 2s/step - accuracy: 0.5400 - loss: 1.3530\u001b[32m [repeated 11x across cluster]\u001b[0m\n",
      "\u001b[1m 5/18\u001b[0m \u001b[32m━━━━━\u001b[0m\u001b[37m━━━━━━━━━━━━━━━\u001b[0m \u001b[1m0s\u001b[0m 41ms/step - accuracy: 0.5771 - loss: 1.1836\u001b[32m [repeated 22x across cluster]\u001b[0m\n",
      "\u001b[1m18/18\u001b[0m \u001b[32m━━━━━━━━━━━━━━━━━━━━\u001b[0m\u001b[37m\u001b[0m \u001b[1m2s\u001b[0m 40ms/step - accuracy: 0.4233 - loss: 1.7259\u001b[32m [repeated 3x across cluster]\u001b[0m\n",
      "\u001b[1m 9/18\u001b[0m \u001b[32m━━━━━━━━━━\u001b[0m\u001b[37m━━━━━━━━━━\u001b[0m \u001b[1m0s\u001b[0m 46ms/step - accuracy: 0.5526 - loss: 1.2716\u001b[32m [repeated 31x across cluster]\u001b[0m\n",
      "\u001b[2m\u001b[36m(DefaultActor pid=3403379)\u001b[0m [Client 3] evaluate, config: {}\n",
      "\u001b[1m 3/18\u001b[0m \u001b[32m━━━\u001b[0m\u001b[37m━━━━━━━━━━━━━━━━━\u001b[0m \u001b[1m0s\u001b[0m 46ms/step - accuracy: 0.5878 - loss: 1.2216 \n",
      "\u001b[2m\u001b[36m(DefaultActor pid=3403379)\u001b[0m [Client 3] loss:1.4841454029083252, Client 3 accuracy:0.4650000035762787\n",
      "\u001b[1m 3/18\u001b[0m \u001b[32m━━━\u001b[0m\u001b[37m━━━━━━━━━━━━━━━━━\u001b[0m \u001b[1m0s\u001b[0m 30ms/step - accuracy: 0.5106 - loss: 1.4872\u001b[32m [repeated 2x across cluster]\u001b[0m\n",
      "\u001b[2m\u001b[36m(DefaultActor pid=3403381)\u001b[0m [Client 0] fit, config: {'server_round': 4, 'local_epochs': 3}\u001b[32m [repeated 4x across cluster]\u001b[0m\n",
      "\u001b[2m\u001b[36m(DefaultActor pid=3403381)\u001b[0m this is the config {'server_round': 4, 'local_epochs': 3}\u001b[32m [repeated 4x across cluster]\u001b[0m\n",
      "\u001b[2m\u001b[36m(DefaultActor pid=3403378)\u001b[0m Epoch 6/10\u001b[32m [repeated 27x across cluster]\u001b[0m\n",
      "\u001b[1m 5/18\u001b[0m \u001b[32m━━━━━\u001b[0m\u001b[37m━━━━━━━━━━━━━━━\u001b[0m \u001b[1m0s\u001b[0m 44ms/step - accuracy: 0.4540 - loss: 1.6929\n",
      "\u001b[1m 3/18\u001b[0m \u001b[32m━━━\u001b[0m\u001b[37m━━━━━━━━━━━━━━━━━\u001b[0m \u001b[1m0s\u001b[0m 35ms/step - accuracy: 0.5961 - loss: 1.2007\u001b[32m [repeated 8x across cluster]\u001b[0m\n",
      "\u001b[1m 1/18\u001b[0m \u001b[32m━\u001b[0m\u001b[37m━━━━━━━━━━━━━━━━━━━\u001b[0m \u001b[1m1s\u001b[0m 75ms/step - accuracy: 0.5500 - loss: 1.3020\u001b[32m [repeated 22x across cluster]\u001b[0m\n",
      "\u001b[1m 3/18\u001b[0m \u001b[32m━━━\u001b[0m\u001b[37m━━━━━━━━━━━━━━━━━\u001b[0m \u001b[1m0s\u001b[0m 35ms/step - accuracy: 0.5639 - loss: 1.2386\u001b[32m [repeated 144x across cluster]\u001b[0m\n",
      "\u001b[1m18/18\u001b[0m \u001b[32m━━━━━━━━━━━━━━━━━━━━\u001b[0m\u001b[37m\u001b[0m \u001b[1m1s\u001b[0m 44ms/step - accuracy: 0.5208 - loss: 1.3435\n",
      "\u001b[1m18/18\u001b[0m \u001b[32m━━━━━━━━━━━━━━━━━━━━\u001b[0m\u001b[37m\u001b[0m \u001b[1m1s\u001b[0m 31ms/step - accuracy: 0.5987 - loss: 1.1704\n",
      "\u001b[1m18/18\u001b[0m \u001b[32m━━━━━━━━━━━━━━━━━━━━\u001b[0m\u001b[37m\u001b[0m \u001b[1m1s\u001b[0m 34ms/step - accuracy: 0.6026 - loss: 1.1124\u001b[32m [repeated 69x across cluster]\u001b[0m\n",
      "\u001b[1m18/18\u001b[0m \u001b[32m━━━━━━━━━━━━━━━━━━━━\u001b[0m\u001b[37m\u001b[0m \u001b[1m1s\u001b[0m 28ms/step - accuracy: 0.6354 - loss: 1.0536\n"
     ]
    },
    {
     "name": "stderr",
     "output_type": "stream",
     "text": [
      "DEBUG flwr 2024-03-14 19:42:30,181 | server.py:236 | fit_round 4 received 5 results and 0 failures\n",
      "DEBUG flwr 2024-03-14 19:42:30,187 | server.py:173 | evaluate_round 4: strategy sampled 2 clients (out of 5)\n"
     ]
    },
    {
     "name": "stdout",
     "output_type": "stream",
     "text": [
      "\u001b[2m\u001b[36m(DefaultActor pid=3403381)\u001b[0m [Client 4] evaluate, config: {}\n",
      "\u001b[2m\u001b[36m(DefaultActor pid=3403381)\u001b[0m [Client 4] loss:1.3988558053970337, Client 4 accuracy:0.4650000035762787\n"
     ]
    },
    {
     "name": "stderr",
     "output_type": "stream",
     "text": [
      "DEBUG flwr 2024-03-14 19:42:31,075 | server.py:187 | evaluate_round 4 received 2 results and 0 failures\n",
      "DEBUG flwr 2024-03-14 19:42:31,076 | server.py:222 | fit_round 5: strategy sampled 5 clients (out of 5)\n"
     ]
    },
    {
     "name": "stdout",
     "output_type": "stream",
     "text": [
      "\u001b[2m\u001b[36m(DefaultActor pid=3403378)\u001b[0m [Client 3] fit, config: {'server_round': 5, 'local_epochs': 3}\n",
      "\u001b[2m\u001b[36m(DefaultActor pid=3403378)\u001b[0m this is the config {'server_round': 5, 'local_epochs': 3}\n",
      "\u001b[2m\u001b[36m(DefaultActor pid=3403378)\u001b[0m Epoch 2/10\u001b[32m [repeated 19x across cluster]\u001b[0m\n",
      "\u001b[1m 4/18\u001b[0m \u001b[32m━━━━\u001b[0m\u001b[37m━━━━━━━━━━━━━━━━\u001b[0m \u001b[1m0s\u001b[0m 24ms/step - accuracy: 0.4956 - loss: 1.5495\n",
      "\u001b[1m 3/18\u001b[0m \u001b[32m━━━\u001b[0m\u001b[37m━━━━━━━━━━━━━━━━━\u001b[0m \u001b[1m0s\u001b[0m 30ms/step - accuracy: 0.4922 - loss: 1.4747\u001b[32m [repeated 7x across cluster]\u001b[0m\n",
      "\u001b[1m 1/18\u001b[0m \u001b[32m━\u001b[0m\u001b[37m━━━━━━━━━━━━━━━━━━━\u001b[0m \u001b[1m1s\u001b[0m 61ms/step - accuracy: 0.6500 - loss: 0.9975\u001b[32m [repeated 8x across cluster]\u001b[0m\n",
      "\u001b[1m 9/18\u001b[0m \u001b[32m━━━━━━━━━━\u001b[0m\u001b[37m━━━━━━━━━━\u001b[0m \u001b[1m0s\u001b[0m 33ms/step - accuracy: 0.4646 - loss: 1.5986\u001b[32m [repeated 18x across cluster]\u001b[0m\n",
      "\u001b[1m18/18\u001b[0m \u001b[32m━━━━━━━━━━━━━━━━━━━━\u001b[0m\u001b[37m\u001b[0m \u001b[1m0s\u001b[0m 12ms/step - accuracy: 0.6448 - loss: 1.0341\u001b[32m [repeated 2x across cluster]\u001b[0m\n",
      "\u001b[1m 5/18\u001b[0m \u001b[32m━━━━━\u001b[0m\u001b[37m━━━━━━━━━━━━━━━\u001b[0m \u001b[1m0s\u001b[0m 35ms/step - accuracy: 0.4963 - loss: 1.3252\u001b[32m [repeated 34x across cluster]\u001b[0m\n",
      "\u001b[1m 5/18\u001b[0m \u001b[32m━━━━━\u001b[0m\u001b[37m━━━━━━━━━━━━━━━\u001b[0m \u001b[1m0s\u001b[0m 40ms/step - accuracy: 0.4551 - loss: 1.6625\n",
      "\u001b[1m 3/18\u001b[0m \u001b[32m━━━\u001b[0m\u001b[37m━━━━━━━━━━━━━━━━━\u001b[0m \u001b[1m0s\u001b[0m 42ms/step - accuracy: 0.5206 - loss: 1.3104 \n",
      "\u001b[2m\u001b[36m(DefaultActor pid=3403378)\u001b[0m [Client 1] evaluate, config: {}\n",
      "\u001b[2m\u001b[36m(DefaultActor pid=3403378)\u001b[0m [Client 1] loss:1.3496183156967163, Client 1 accuracy:0.5600000023841858\n",
      "\u001b[2m\u001b[36m(DefaultActor pid=3403379)\u001b[0m [Client 2] fit, config: {'server_round': 5, 'local_epochs': 3}\u001b[32m [repeated 4x across cluster]\u001b[0m\n",
      "\u001b[2m\u001b[36m(DefaultActor pid=3403379)\u001b[0m this is the config {'server_round': 5, 'local_epochs': 3}\u001b[32m [repeated 4x across cluster]\u001b[0m\n",
      "\u001b[2m\u001b[36m(DefaultActor pid=3403377)\u001b[0m Epoch 5/10\u001b[32m [repeated 26x across cluster]\u001b[0m\n",
      "\u001b[1m 2/18\u001b[0m \u001b[32m━━\u001b[0m\u001b[37m━━━━━━━━━━━━━━━━━━\u001b[0m \u001b[1m0s\u001b[0m 50ms/step - accuracy: 0.6500 - loss: 1.1171\u001b[32m [repeated 7x across cluster]\u001b[0m\n",
      "\u001b[1m 1/18\u001b[0m \u001b[32m━\u001b[0m\u001b[37m━━━━━━━━━━━━━━━━━━━\u001b[0m \u001b[1m1s\u001b[0m 99ms/step - accuracy: 0.7300 - loss: 0.8338\u001b[32m [repeated 22x across cluster]\u001b[0m\n",
      "\u001b[1m15/18\u001b[0m \u001b[32m━━━━━━━━━━━━━━━━\u001b[0m\u001b[37m━━━━\u001b[0m \u001b[1m0s\u001b[0m 49ms/step - accuracy: 0.6072 - loss: 1.1338\u001b[32m [repeated 135x across cluster]\u001b[0m\n",
      "\u001b[1m14/18\u001b[0m \u001b[32m━━━━━━━━━━━━━━━\u001b[0m\u001b[37m━━━━━\u001b[0m \u001b[1m0s\u001b[0m 45ms/step - accuracy: 0.6196 - loss: 1.1002\u001b[32m [repeated 3x across cluster]\u001b[0m\n",
      "\u001b[1m11/18\u001b[0m \u001b[32m━━━━━━━━━━━━\u001b[0m\u001b[37m━━━━━━━━\u001b[0m \u001b[1m0s\u001b[0m 35ms/step - accuracy: 0.6649 - loss: 0.9271\u001b[32m [repeated 74x across cluster]\u001b[0m\n",
      "\u001b[1m 3/18\u001b[0m \u001b[32m━━━\u001b[0m\u001b[37m━━━━━━━━━━━━━━━━━\u001b[0m \u001b[1m0s\u001b[0m 53ms/step - accuracy: 0.5189 - loss: 1.3050\n"
     ]
    },
    {
     "name": "stderr",
     "output_type": "stream",
     "text": [
      "DEBUG flwr 2024-03-14 19:42:41,368 | server.py:236 | fit_round 5 received 5 results and 0 failures\n",
      "DEBUG flwr 2024-03-14 19:42:41,373 | server.py:173 | evaluate_round 5: strategy sampled 2 clients (out of 5)\n"
     ]
    },
    {
     "name": "stdout",
     "output_type": "stream",
     "text": [
      "\u001b[2m\u001b[36m(DefaultActor pid=3403379)\u001b[0m [Client 1] evaluate, config: {}\n",
      "\u001b[2m\u001b[36m(DefaultActor pid=3403379)\u001b[0m [Client 1] loss:1.3615370988845825, Client 1 accuracy:0.5550000071525574\n"
     ]
    },
    {
     "name": "stderr",
     "output_type": "stream",
     "text": [
      "DEBUG flwr 2024-03-14 19:42:42,232 | server.py:187 | evaluate_round 5 received 2 results and 0 failures\n",
      "DEBUG flwr 2024-03-14 19:42:42,233 | server.py:222 | fit_round 6: strategy sampled 5 clients (out of 5)\n"
     ]
    },
    {
     "name": "stdout",
     "output_type": "stream",
     "text": [
      "\u001b[2m\u001b[36m(DefaultActor pid=3403377)\u001b[0m [Client 3] fit, config: {'server_round': 6, 'local_epochs': 3}\n",
      "\u001b[2m\u001b[36m(DefaultActor pid=3403377)\u001b[0m this is the config {'server_round': 6, 'local_epochs': 3}\n",
      "\u001b[2m\u001b[36m(DefaultActor pid=3403377)\u001b[0m Epoch 1/10\u001b[32m [repeated 20x across cluster]\u001b[0m\n",
      "\u001b[1m 5/18\u001b[0m \u001b[32m━━━━━\u001b[0m\u001b[37m━━━━━━━━━━━━━━━\u001b[0m \u001b[1m0s\u001b[0m 15ms/step - accuracy: 0.4882 - loss: 1.3820\n",
      "\u001b[1m7/7\u001b[0m \u001b[32m━━━━━━━━━━━━━━━━━━━━\u001b[0m\u001b[37m\u001b[0m \u001b[1m0s\u001b[0m 3ms/step - accuracy: 0.5541 - loss: 1.4473  \u001b[32m [repeated 6x across cluster]\u001b[0m\n",
      "\u001b[1m 1/18\u001b[0m \u001b[32m━\u001b[0m\u001b[37m━━━━━━━━━━━━━━━━━━━\u001b[0m \u001b[1m18s\u001b[0m 1s/step - accuracy: 0.4700 - loss: 1.2993\u001b[32m [repeated 11x across cluster]\u001b[0m\n",
      "\u001b[1m18/18\u001b[0m \u001b[32m━━━━━━━━━━━━━━━━━━━━\u001b[0m\u001b[37m\u001b[0m \u001b[1m0s\u001b[0m 12ms/step - accuracy: 0.6893 - loss: 0.9210\u001b[32m [repeated 37x across cluster]\u001b[0m\n",
      "\u001b[1m 9/18\u001b[0m \u001b[32m━━━━━━━━━━\u001b[0m\u001b[37m━━━━━━━━━━\u001b[0m \u001b[1m0s\u001b[0m 15ms/step - accuracy: 0.5647 - loss: 1.2119\u001b[32m [repeated 35x across cluster]\u001b[0m\n",
      "\u001b[1m 5/18\u001b[0m \u001b[32m━━━━━\u001b[0m\u001b[37m━━━━━━━━━━━━━━━\u001b[0m \u001b[1m0s\u001b[0m 34ms/step - accuracy: 0.5328 - loss: 1.4425\n",
      "\u001b[1m18/18\u001b[0m \u001b[32m━━━━━━━━━━━━━━━━━━━━\u001b[0m\u001b[37m\u001b[0m \u001b[1m2s\u001b[0m 29ms/step - accuracy: 0.5582 - loss: 1.2638\n",
      "\u001b[2m\u001b[36m(DefaultActor pid=3403377)\u001b[0m [Client 3] evaluate, config: {}\n",
      "\u001b[2m\u001b[36m(DefaultActor pid=3403377)\u001b[0m [Client 3] loss:1.4472955465316772, Client 3 accuracy:0.5400000214576721\n",
      "\u001b[2m\u001b[36m(DefaultActor pid=3403378)\u001b[0m [Client 1] fit, config: {'server_round': 6, 'local_epochs': 3}\u001b[32m [repeated 4x across cluster]\u001b[0m\n",
      "\u001b[2m\u001b[36m(DefaultActor pid=3403378)\u001b[0m this is the config {'server_round': 6, 'local_epochs': 3}\u001b[32m [repeated 4x across cluster]\u001b[0m\n",
      "\u001b[2m\u001b[36m(DefaultActor pid=3403376)\u001b[0m Epoch 6/10\u001b[32m [repeated 23x across cluster]\u001b[0m\n",
      "\u001b[1m 3/18\u001b[0m \u001b[32m━━━\u001b[0m\u001b[37m━━━━━━━━━━━━━━━━━\u001b[0m \u001b[1m0s\u001b[0m 37ms/step - accuracy: 0.5194 - loss: 1.4658\n",
      "\u001b[1m 3/18\u001b[0m \u001b[32m━━━\u001b[0m\u001b[37m━━━━━━━━━━━━━━━━━\u001b[0m \u001b[1m0s\u001b[0m 47ms/step - accuracy: 0.6272 - loss: 1.0988\u001b[32m [repeated 6x across cluster]\u001b[0m\n",
      "\u001b[1m 1/18\u001b[0m \u001b[32m━\u001b[0m\u001b[37m━━━━━━━━━━━━━━━━━━━\u001b[0m \u001b[1m1s\u001b[0m 84ms/step - accuracy: 0.6700 - loss: 0.8758\u001b[32m [repeated 22x across cluster]\u001b[0m\n",
      "\u001b[1m17/18\u001b[0m \u001b[32m━━━━━━━━━━━━━━━━━━\u001b[0m\u001b[37m━━\u001b[0m \u001b[1m0s\u001b[0m 46ms/step - accuracy: 0.6847 - loss: 0.8755\u001b[32m [repeated 105x across cluster]\u001b[0m\n",
      "\u001b[1m 4/18\u001b[0m \u001b[32m━━━━\u001b[0m\u001b[37m━━━━━━━━━━━━━━━━\u001b[0m \u001b[1m0s\u001b[0m 47ms/step - accuracy: 0.7292 - loss: 0.8263\n",
      "\u001b[1m18/18\u001b[0m \u001b[32m━━━━━━━━━━━━━━━━━━━━\u001b[0m\u001b[37m\u001b[0m \u001b[1m1s\u001b[0m 43ms/step - accuracy: 0.6400 - loss: 1.0321\u001b[32m [repeated 71x across cluster]\u001b[0m\n",
      "\u001b[1m18/18\u001b[0m \u001b[32m━━━━━━━━━━━━━━━━━━━━\u001b[0m\u001b[37m\u001b[0m \u001b[1m1s\u001b[0m 47ms/step - accuracy: 0.6537 - loss: 1.0044\u001b[32m [repeated 2x across cluster]\u001b[0m\n"
     ]
    },
    {
     "name": "stderr",
     "output_type": "stream",
     "text": [
      "DEBUG flwr 2024-03-14 19:42:52,775 | server.py:236 | fit_round 6 received 5 results and 0 failures\n",
      "DEBUG flwr 2024-03-14 19:42:52,781 | server.py:173 | evaluate_round 6: strategy sampled 2 clients (out of 5)\n"
     ]
    },
    {
     "name": "stdout",
     "output_type": "stream",
     "text": [
      "\u001b[2m\u001b[36m(DefaultActor pid=3403378)\u001b[0m Epoch 10/10\u001b[32m [repeated 26x across cluster]\u001b[0m\n",
      "\u001b[2m\u001b[36m(DefaultActor pid=3403378)\u001b[0m [Client 1] evaluate, config: {}\n",
      "\u001b[2m\u001b[36m(DefaultActor pid=3403378)\u001b[0m [Client 1] loss:1.3829654455184937, Client 1 accuracy:0.550000011920929\n"
     ]
    },
    {
     "name": "stderr",
     "output_type": "stream",
     "text": [
      "DEBUG flwr 2024-03-14 19:42:53,545 | server.py:187 | evaluate_round 6 received 2 results and 0 failures\n",
      "DEBUG flwr 2024-03-14 19:42:53,546 | server.py:222 | fit_round 7: strategy sampled 5 clients (out of 5)\n"
     ]
    },
    {
     "name": "stdout",
     "output_type": "stream",
     "text": [
      "\u001b[2m\u001b[36m(DefaultActor pid=3403381)\u001b[0m [Client 4] fit, config: {'server_round': 7, 'local_epochs': 3}\n",
      "\u001b[2m\u001b[36m(DefaultActor pid=3403381)\u001b[0m this is the config {'server_round': 7, 'local_epochs': 3}\n",
      "\u001b[1m7/7\u001b[0m \u001b[32m━━━━━━━━━━━━━━━━━━━━\u001b[0m\u001b[37m\u001b[0m \u001b[1m0s\u001b[0m 3ms/step - accuracy: 0.4634 - loss: 1.5910  \u001b[32m [repeated 5x across cluster]\u001b[0m\n",
      "\u001b[1m 1/18\u001b[0m \u001b[32m━\u001b[0m\u001b[37m━━━━━━━━━━━━━━━━━━━\u001b[0m \u001b[1m0s\u001b[0m 50ms/step - accuracy: 0.7300 - loss: 0.7483\u001b[32m [repeated 18x across cluster]\u001b[0m\n",
      "\u001b[1m18/18\u001b[0m \u001b[32m━━━━━━━━━━━━━━━━━━━━\u001b[0m\u001b[37m\u001b[0m \u001b[1m0s\u001b[0m 20ms/step - accuracy: 0.7203 - loss: 0.8390\u001b[32m [repeated 80x across cluster]\u001b[0m\n",
      "\u001b[1m18/18\u001b[0m \u001b[32m━━━━━━━━━━━━━━━━━━━━\u001b[0m\u001b[37m\u001b[0m \u001b[1m0s\u001b[0m 19ms/step - accuracy: 0.7386 - loss: 0.8034\u001b[32m [repeated 45x across cluster]\u001b[0m\n",
      "\u001b[1m 9/18\u001b[0m \u001b[32m━━━━━━━━━━\u001b[0m\u001b[37m━━━━━━━━━━\u001b[0m \u001b[1m0s\u001b[0m 16ms/step - accuracy: 0.5466 - loss: 1.2114 \n",
      "\u001b[1m18/18\u001b[0m \u001b[32m━━━━━━━━━━━━━━━━━━━━\u001b[0m\u001b[37m\u001b[0m \u001b[1m0s\u001b[0m 14ms/step - accuracy: 0.7262 - loss: 0.7907\u001b[32m [repeated 5x across cluster]\u001b[0m\n",
      "\u001b[1m 4/18\u001b[0m \u001b[32m━━━━\u001b[0m\u001b[37m━━━━━━━━━━━━━━━━\u001b[0m \u001b[1m0s\u001b[0m 23ms/step - accuracy: 0.5823 - loss: 1.2622\n",
      "\u001b[1m 5/18\u001b[0m \u001b[32m━━━━━\u001b[0m\u001b[37m━━━━━━━━━━━━━━━\u001b[0m \u001b[1m0s\u001b[0m 30ms/step - accuracy: 0.5173 - loss: 1.3419\n",
      "\u001b[2m\u001b[36m(DefaultActor pid=3403379)\u001b[0m Epoch 4/10\u001b[32m [repeated 19x across cluster]\u001b[0m\n",
      "\u001b[2m\u001b[36m(DefaultActor pid=3403381)\u001b[0m [Client 2] evaluate, config: {}\n",
      "\u001b[2m\u001b[36m(DefaultActor pid=3403381)\u001b[0m [Client 2] loss:1.6095030307769775, Client 2 accuracy:0.4699999988079071\n",
      "\u001b[2m\u001b[36m(DefaultActor pid=3403377)\u001b[0m [Client 1] fit, config: {'server_round': 7, 'local_epochs': 3}\u001b[32m [repeated 4x across cluster]\u001b[0m\n",
      "\u001b[2m\u001b[36m(DefaultActor pid=3403377)\u001b[0m this is the config {'server_round': 7, 'local_epochs': 3}\u001b[32m [repeated 4x across cluster]\u001b[0m\n",
      "\u001b[1m 2/18\u001b[0m \u001b[32m━━\u001b[0m\u001b[37m━━━━━━━━━━━━━━━━━━\u001b[0m \u001b[1m0s\u001b[0m 54ms/step - accuracy: 0.7275 - loss: 0.8567\u001b[32m [repeated 6x across cluster]\u001b[0m\n",
      "\u001b[1m 1/18\u001b[0m \u001b[32m━\u001b[0m\u001b[37m━━━━━━━━━━━━━━━━━━━\u001b[0m \u001b[1m1s\u001b[0m 93ms/step - accuracy: 0.7000 - loss: 1.1198\u001b[32m [repeated 18x across cluster]\u001b[0m\n",
      "\u001b[1m 8/18\u001b[0m \u001b[32m━━━━━━━━\u001b[0m\u001b[37m━━━━━━━━━━━━\u001b[0m \u001b[1m0s\u001b[0m 46ms/step - accuracy: 0.7407 - loss: 0.8149\u001b[32m [repeated 76x across cluster]\u001b[0m\n",
      "\u001b[1m 7/18\u001b[0m \u001b[32m━━━━━━━\u001b[0m\u001b[37m━━━━━━━━━━━━━\u001b[0m \u001b[1m0s\u001b[0m 45ms/step - accuracy: 0.6905 - loss: 0.9068\u001b[32m [repeated 60x across cluster]\u001b[0m\n",
      "\u001b[1m18/18\u001b[0m \u001b[32m━━━━━━━━━━━━━━━━━━━━\u001b[0m\u001b[37m\u001b[0m \u001b[1m1s\u001b[0m 44ms/step - accuracy: 0.6770 - loss: 0.9798\u001b[32m [repeated 5x across cluster]\u001b[0m\n",
      "\u001b[1m 3/18\u001b[0m \u001b[32m━━━\u001b[0m\u001b[37m━━━━━━━━━━━━━━━━━\u001b[0m \u001b[1m0s\u001b[0m 42ms/step - accuracy: 0.5439 - loss: 1.3545\u001b[32m [repeated 2x across cluster]\u001b[0m\n",
      "\u001b[2m\u001b[36m(DefaultActor pid=3403379)\u001b[0m Epoch 10/10\u001b[32m [repeated 27x across cluster]\u001b[0m\n"
     ]
    },
    {
     "name": "stderr",
     "output_type": "stream",
     "text": [
      "DEBUG flwr 2024-03-14 19:43:03,771 | server.py:236 | fit_round 7 received 5 results and 0 failures\n",
      "DEBUG flwr 2024-03-14 19:43:03,775 | server.py:173 | evaluate_round 7: strategy sampled 2 clients (out of 5)\n"
     ]
    },
    {
     "name": "stdout",
     "output_type": "stream",
     "text": [
      "\u001b[2m\u001b[36m(DefaultActor pid=3403377)\u001b[0m [Client 2] evaluate, config: {}\n",
      "\u001b[1m 4/18\u001b[0m \u001b[32m━━━━\u001b[0m\u001b[37m━━━━━━━━━━━━━━━━\u001b[0m \u001b[1m0s\u001b[0m 18ms/step - accuracy: 0.7925 - loss: 0.6737\u001b[32m [repeated 7x across cluster]\u001b[0m\n",
      "\u001b[1m 1/18\u001b[0m \u001b[32m━\u001b[0m\u001b[37m━━━━━━━━━━━━━━━━━━━\u001b[0m \u001b[1m0s\u001b[0m 49ms/step - accuracy: 0.7300 - loss: 0.7795\u001b[32m [repeated 19x across cluster]\u001b[0m\n",
      "\u001b[1m13/18\u001b[0m \u001b[32m━━━━━━━━━━━━━━\u001b[0m\u001b[37m━━━━━━\u001b[0m \u001b[1m0s\u001b[0m 20ms/step - accuracy: 0.7833 - loss: 0.6754\u001b[32m [repeated 104x across cluster]\u001b[0m\n"
     ]
    },
    {
     "name": "stderr",
     "output_type": "stream",
     "text": [
      "DEBUG flwr 2024-03-14 19:43:04,589 | server.py:187 | evaluate_round 7 received 2 results and 0 failures\n",
      "DEBUG flwr 2024-03-14 19:43:04,590 | server.py:222 | fit_round 8: strategy sampled 5 clients (out of 5)\n"
     ]
    },
    {
     "name": "stdout",
     "output_type": "stream",
     "text": [
      "\u001b[2m\u001b[36m(DefaultActor pid=3403377)\u001b[0m [Client 2] loss:1.6474695205688477, Client 2 accuracy:0.47999998927116394\n",
      "\u001b[1m18/18\u001b[0m \u001b[32m━━━━━━━━━━━━━━━━━━━━\u001b[0m\u001b[37m\u001b[0m \u001b[1m0s\u001b[0m 20ms/step - accuracy: 0.7695 - loss: 0.6888\u001b[32m [repeated 62x across cluster]\u001b[0m\n",
      "\u001b[2m\u001b[36m(DefaultActor pid=3403376)\u001b[0m [Client 3] fit, config: {'server_round': 8, 'local_epochs': 3}\n",
      "\u001b[2m\u001b[36m(DefaultActor pid=3403376)\u001b[0m this is the config {'server_round': 8, 'local_epochs': 3}\n",
      "\u001b[1m18/18\u001b[0m \u001b[32m━━━━━━━━━━━━━━━━━━━━\u001b[0m\u001b[37m\u001b[0m \u001b[1m0s\u001b[0m 22ms/step - accuracy: 0.7750 - loss: 0.7051\u001b[32m [repeated 4x across cluster]\u001b[0m\n",
      "\u001b[1m7/7\u001b[0m \u001b[32m━━━━━━━━━━━━━━━━━━━━\u001b[0m\u001b[37m\u001b[0m \u001b[1m0s\u001b[0m 3ms/step - accuracy: 0.4705 - loss: 1.6502  \n",
      "\u001b[1m 5/18\u001b[0m \u001b[32m━━━━━\u001b[0m\u001b[37m━━━━━━━━━━━━━━━\u001b[0m \u001b[1m0s\u001b[0m 31ms/step - accuracy: 0.5714 - loss: 1.2741\n",
      "\u001b[1m 3/18\u001b[0m \u001b[32m━━━\u001b[0m\u001b[37m━━━━━━━━━━━━━━━━━\u001b[0m \u001b[1m0s\u001b[0m 45ms/step - accuracy: 0.5783 - loss: 1.2691\n",
      "\u001b[2m\u001b[36m(DefaultActor pid=3403376)\u001b[0m Epoch 5/10\u001b[32m [repeated 16x across cluster]\u001b[0m\n",
      "\u001b[2m\u001b[36m(DefaultActor pid=3403376)\u001b[0m [Client 4] evaluate, config: {}\n",
      "\u001b[1m 2/18\u001b[0m \u001b[32m━━\u001b[0m\u001b[37m━━━━━━━━━━━━━━━━━━\u001b[0m \u001b[1m0s\u001b[0m 55ms/step - accuracy: 0.6625 - loss: 0.9790\u001b[32m [repeated 7x across cluster]\u001b[0m\n",
      "\u001b[1m 1/18\u001b[0m \u001b[32m━\u001b[0m\u001b[37m━━━━━━━━━━━━━━━━━━━\u001b[0m \u001b[1m1s\u001b[0m 84ms/step - accuracy: 0.7400 - loss: 0.8985\u001b[32m [repeated 15x across cluster]\u001b[0m\n",
      "\u001b[1m 2/18\u001b[0m \u001b[32m━━\u001b[0m\u001b[37m━━━━━━━━━━━━━━━━━━\u001b[0m \u001b[1m0s\u001b[0m 52ms/step - accuracy: 0.7300 - loss: 0.8702\u001b[32m [repeated 52x across cluster]\u001b[0m\n",
      "\u001b[2m\u001b[36m(DefaultActor pid=3403376)\u001b[0m [Client 4] loss:1.4775340557098389, Client 4 accuracy:0.5\n",
      "\u001b[1m12/18\u001b[0m \u001b[32m━━━━━━━━━━━━━\u001b[0m\u001b[37m━━━━━━━\u001b[0m \u001b[1m0s\u001b[0m 45ms/step - accuracy: 0.7617 - loss: 0.6915\u001b[32m [repeated 49x across cluster]\u001b[0m\n",
      "\u001b[2m\u001b[36m(DefaultActor pid=3403381)\u001b[0m [Client 4] fit, config: {'server_round': 8, 'local_epochs': 3}\u001b[32m [repeated 4x across cluster]\u001b[0m\n",
      "\u001b[2m\u001b[36m(DefaultActor pid=3403381)\u001b[0m this is the config {'server_round': 8, 'local_epochs': 3}\u001b[32m [repeated 4x across cluster]\u001b[0m\n",
      "\u001b[1m18/18\u001b[0m \u001b[32m━━━━━━━━━━━━━━━━━━━━\u001b[0m\u001b[37m\u001b[0m \u001b[1m1s\u001b[0m 43ms/step - accuracy: 0.7070 - loss: 0.8662\u001b[32m [repeated 5x across cluster]\u001b[0m\n",
      "\u001b[2m\u001b[36m(DefaultActor pid=3403381)\u001b[0m Epoch 7/10\u001b[32m [repeated 30x across cluster]\u001b[0m\n",
      "\u001b[1m 3/18\u001b[0m \u001b[32m━━━\u001b[0m\u001b[37m━━━━━━━━━━━━━━━━━\u001b[0m \u001b[1m0s\u001b[0m 26ms/step - accuracy: 0.8394 - loss: 0.5441\u001b[32m [repeated 8x across cluster]\u001b[0m\n",
      "\u001b[1m 1/18\u001b[0m \u001b[32m━\u001b[0m\u001b[37m━━━━━━━━━━━━━━━━━━━\u001b[0m \u001b[1m1s\u001b[0m 65ms/step - accuracy: 0.8600 - loss: 0.5341\u001b[32m [repeated 20x across cluster]\u001b[0m\n",
      "\u001b[1m12/18\u001b[0m \u001b[32m━━━━━━━━━━━━━\u001b[0m\u001b[37m━━━━━━━\u001b[0m \u001b[1m0s\u001b[0m 27ms/step - accuracy: 0.7738 - loss: 0.6709\u001b[32m [repeated 116x across cluster]\u001b[0m\n"
     ]
    },
    {
     "name": "stderr",
     "output_type": "stream",
     "text": [
      "DEBUG flwr 2024-03-14 19:43:14,802 | server.py:236 | fit_round 8 received 5 results and 0 failures\n",
      "DEBUG flwr 2024-03-14 19:43:14,808 | server.py:173 | evaluate_round 8: strategy sampled 2 clients (out of 5)\n"
     ]
    },
    {
     "name": "stdout",
     "output_type": "stream",
     "text": [
      "\u001b[1m18/18\u001b[0m \u001b[32m━━━━━━━━━━━━━━━━━━━━\u001b[0m\u001b[37m\u001b[0m \u001b[1m0s\u001b[0m 15ms/step - accuracy: 0.8133 - loss: 0.5499\u001b[32m [repeated 79x across cluster]\u001b[0m\n",
      "\u001b[2m\u001b[36m(DefaultActor pid=3403381)\u001b[0m [Client 0] evaluate, config: {}\n",
      "\u001b[1m18/18\u001b[0m \u001b[32m━━━━━━━━━━━━━━━━━━━━\u001b[0m\u001b[37m\u001b[0m \u001b[1m1s\u001b[0m 33ms/step - accuracy: 0.7740 - loss: 0.6653\u001b[32m [repeated 4x across cluster]\u001b[0m\n",
      "\u001b[2m\u001b[36m(DefaultActor pid=3403381)\u001b[0m [Client 0] loss:1.2544587850570679, Client 0 accuracy:0.5600000023841858\n"
     ]
    },
    {
     "name": "stderr",
     "output_type": "stream",
     "text": [
      "DEBUG flwr 2024-03-14 19:43:15,583 | server.py:187 | evaluate_round 8 received 2 results and 0 failures\n",
      "DEBUG flwr 2024-03-14 19:43:15,584 | server.py:222 | fit_round 9: strategy sampled 5 clients (out of 5)\n"
     ]
    },
    {
     "name": "stdout",
     "output_type": "stream",
     "text": [
      "\u001b[1m7/7\u001b[0m \u001b[32m━━━━━━━━━━━━━━━━━━━━\u001b[0m\u001b[37m\u001b[0m \u001b[1m0s\u001b[0m 2ms/step - accuracy: 0.5587 - loss: 1.3899  \n",
      "\u001b[2m\u001b[36m(DefaultActor pid=3403378)\u001b[0m [Client 0] fit, config: {'server_round': 9, 'local_epochs': 3}\n",
      "\u001b[2m\u001b[36m(DefaultActor pid=3403378)\u001b[0m this is the config {'server_round': 9, 'local_epochs': 3}\n",
      "\u001b[2m\u001b[36m(DefaultActor pid=3403378)\u001b[0m Epoch 4/10\u001b[32m [repeated 17x across cluster]\u001b[0m\n",
      "\u001b[1m 5/18\u001b[0m \u001b[32m━━━━━\u001b[0m\u001b[37m━━━━━━━━━━━━━━━\u001b[0m \u001b[1m0s\u001b[0m 45ms/step - accuracy: 0.5915 - loss: 1.2193\n",
      "\u001b[1m 3/18\u001b[0m \u001b[32m━━━\u001b[0m\u001b[37m━━━━━━━━━━━━━━━━━\u001b[0m \u001b[1m0s\u001b[0m 38ms/step - accuracy: 0.6578 - loss: 1.1205\u001b[32m [repeated 9x across cluster]\u001b[0m\n",
      "\u001b[1m 1/18\u001b[0m \u001b[32m━\u001b[0m\u001b[37m━━━━━━━━━━━━━━━━━━━\u001b[0m \u001b[1m1s\u001b[0m 87ms/step - accuracy: 0.7300 - loss: 0.8495\u001b[32m [repeated 10x across cluster]\u001b[0m\n",
      "\u001b[1m 5/18\u001b[0m \u001b[32m━━━━━\u001b[0m\u001b[37m━━━━━━━━━━━━━━━\u001b[0m \u001b[1m0s\u001b[0m 46ms/step - accuracy: 0.7185 - loss: 0.8032\u001b[32m [repeated 32x across cluster]\u001b[0m\n",
      "\u001b[1m18/18\u001b[0m \u001b[32m━━━━━━━━━━━━━━━━━━━━\u001b[0m\u001b[37m\u001b[0m \u001b[1m1s\u001b[0m 46ms/step - accuracy: 0.7244 - loss: 0.8178\u001b[32m [repeated 43x across cluster]\u001b[0m\n",
      "\u001b[2m\u001b[36m(DefaultActor pid=3403378)\u001b[0m [Client 1] evaluate, config: {}\n",
      "\u001b[1m18/18\u001b[0m \u001b[32m━━━━━━━━━━━━━━━━━━━━\u001b[0m\u001b[37m\u001b[0m \u001b[1m1s\u001b[0m 35ms/step - accuracy: 0.7615 - loss: 0.7343\n",
      "\u001b[2m\u001b[36m(DefaultActor pid=3403378)\u001b[0m [Client 1] loss:1.3976479768753052, Client 1 accuracy:0.5699999928474426\n",
      "\u001b[2m\u001b[36m(DefaultActor pid=3403376)\u001b[0m [Client 2] fit, config: {'server_round': 9, 'local_epochs': 3}\u001b[32m [repeated 4x across cluster]\u001b[0m\n",
      "\u001b[2m\u001b[36m(DefaultActor pid=3403376)\u001b[0m this is the config {'server_round': 9, 'local_epochs': 3}\u001b[32m [repeated 4x across cluster]\u001b[0m\n",
      "\u001b[1m18/18\u001b[0m \u001b[32m━━━━━━━━━━━━━━━━━━━━\u001b[0m\u001b[37m\u001b[0m \u001b[1m1s\u001b[0m 48ms/step - accuracy: 0.7142 - loss: 0.8256\n",
      "\u001b[2m\u001b[36m(DefaultActor pid=3403376)\u001b[0m Epoch 6/10\u001b[32m [repeated 28x across cluster]\u001b[0m\n",
      "\u001b[1m 3/18\u001b[0m \u001b[32m━━━\u001b[0m\u001b[37m━━━━━━━━━━━━━━━━━\u001b[0m \u001b[1m0s\u001b[0m 27ms/step - accuracy: 0.8039 - loss: 0.5955\u001b[32m [repeated 6x across cluster]\u001b[0m\n",
      "\u001b[1m 1/18\u001b[0m \u001b[32m━\u001b[0m\u001b[37m━━━━━━━━━━━━━━━━━━━\u001b[0m \u001b[1m1s\u001b[0m 68ms/step - accuracy: 0.8800 - loss: 0.4687\u001b[32m [repeated 23x across cluster]\u001b[0m\n",
      "\u001b[1m11/18\u001b[0m \u001b[32m━━━━━━━━━━━━\u001b[0m\u001b[37m━━━━━━━━\u001b[0m \u001b[1m0s\u001b[0m 33ms/step - accuracy: 0.8053 - loss: 0.6171\u001b[32m [repeated 137x across cluster]\u001b[0m\n",
      "\u001b[1m 7/18\u001b[0m \u001b[32m━━━━━━━\u001b[0m\u001b[37m━━━━━━━━━━━━━\u001b[0m \u001b[1m0s\u001b[0m 30ms/step - accuracy: 0.8516 - loss: 0.5001\u001b[32m [repeated 76x across cluster]\u001b[0m\n"
     ]
    },
    {
     "name": "stderr",
     "output_type": "stream",
     "text": [
      "DEBUG flwr 2024-03-14 19:43:25,769 | server.py:236 | fit_round 9 received 5 results and 0 failures\n",
      "DEBUG flwr 2024-03-14 19:43:25,773 | server.py:173 | evaluate_round 9: strategy sampled 2 clients (out of 5)\n"
     ]
    },
    {
     "name": "stdout",
     "output_type": "stream",
     "text": [
      "\u001b[2m\u001b[36m(DefaultActor pid=3403376)\u001b[0m [Client 1] evaluate, config: {}\n",
      "\u001b[2m\u001b[36m(DefaultActor pid=3403376)\u001b[0m [Client 1] loss:1.4516584873199463, Client 1 accuracy:0.5550000071525574\n",
      "\u001b[1m18/18\u001b[0m \u001b[32m━━━━━━━━━━━━━━━━━━━━\u001b[0m\u001b[37m\u001b[0m \u001b[1m1s\u001b[0m 45ms/step - accuracy: 0.7487 - loss: 0.6891\n"
     ]
    },
    {
     "name": "stderr",
     "output_type": "stream",
     "text": [
      "DEBUG flwr 2024-03-14 19:43:26,560 | server.py:187 | evaluate_round 9 received 2 results and 0 failures\n",
      "DEBUG flwr 2024-03-14 19:43:26,561 | server.py:222 | fit_round 10: strategy sampled 5 clients (out of 5)\n"
     ]
    },
    {
     "name": "stdout",
     "output_type": "stream",
     "text": [
      "\u001b[2m\u001b[36m(DefaultActor pid=3403377)\u001b[0m [Client 4] fit, config: {'server_round': 10, 'local_epochs': 3}\n",
      "\u001b[2m\u001b[36m(DefaultActor pid=3403377)\u001b[0m this is the config {'server_round': 10, 'local_epochs': 3}\n",
      "\u001b[1m 5/18\u001b[0m \u001b[32m━━━━━\u001b[0m\u001b[37m━━━━━━━━━━━━━━━\u001b[0m \u001b[1m0s\u001b[0m 18ms/step - accuracy: 0.6402 - loss: 1.0774  \n",
      "\u001b[2m\u001b[36m(DefaultActor pid=3403378)\u001b[0m Epoch 1/10\u001b[32m [repeated 18x across cluster]\u001b[0m\n",
      "\u001b[1m 3/18\u001b[0m \u001b[32m━━━\u001b[0m\u001b[37m━━━━━━━━━━━━━━━━━\u001b[0m \u001b[1m0s\u001b[0m 30ms/step - accuracy: 0.6656 - loss: 0.9539\u001b[32m [repeated 5x across cluster]\u001b[0m\n",
      "\u001b[1m 1/18\u001b[0m \u001b[32m━\u001b[0m\u001b[37m━━━━━━━━━━━━━━━━━━━\u001b[0m \u001b[1m0s\u001b[0m 58ms/step - accuracy: 0.7500 - loss: 0.8013\u001b[32m [repeated 11x across cluster]\u001b[0m\n",
      "\u001b[1m 7/18\u001b[0m \u001b[32m━━━━━━━\u001b[0m\u001b[37m━━━━━━━━━━━━━\u001b[0m \u001b[1m0s\u001b[0m 32ms/step - accuracy: 0.7327 - loss: 0.7683\u001b[32m [repeated 31x across cluster]\u001b[0m\n",
      "\u001b[1m 5/18\u001b[0m \u001b[32m━━━━━\u001b[0m\u001b[37m━━━━━━━━━━━━━━━\u001b[0m \u001b[1m0s\u001b[0m 39ms/step - accuracy: 0.6319 - loss: 1.0415\n",
      "\u001b[1m18/18\u001b[0m \u001b[32m━━━━━━━━━━━━━━━━━━━━\u001b[0m\u001b[37m\u001b[0m \u001b[1m1s\u001b[0m 34ms/step - accuracy: 0.8007 - loss: 0.6137\u001b[32m [repeated 40x across cluster]\u001b[0m\n",
      "\u001b[2m\u001b[36m(DefaultActor pid=3403377)\u001b[0m [Client 0] evaluate, config: {}\n",
      "\u001b[2m\u001b[36m(DefaultActor pid=3403377)\u001b[0m [Client 0] loss:1.3065807819366455, Client 0 accuracy:0.5149999856948853\n",
      "\u001b[2m\u001b[36m(DefaultActor pid=3403378)\u001b[0m [Client 1] fit, config: {'server_round': 10, 'local_epochs': 3}\u001b[32m [repeated 4x across cluster]\u001b[0m\n",
      "\u001b[2m\u001b[36m(DefaultActor pid=3403378)\u001b[0m this is the config {'server_round': 10, 'local_epochs': 3}\u001b[32m [repeated 4x across cluster]\u001b[0m\n",
      "\u001b[2m\u001b[36m(DefaultActor pid=3403381)\u001b[0m Epoch 5/10\u001b[32m [repeated 27x across cluster]\u001b[0m\n",
      "\u001b[1m 3/18\u001b[0m \u001b[32m━━━\u001b[0m\u001b[37m━━━━━━━━━━━━━━━━━\u001b[0m \u001b[1m0s\u001b[0m 44ms/step - accuracy: 0.8800 - loss: 0.4032\u001b[32m [repeated 8x across cluster]\u001b[0m\n",
      "\u001b[1m 1/18\u001b[0m \u001b[32m━\u001b[0m\u001b[37m━━━━━━━━━━━━━━━━━━━\u001b[0m \u001b[1m1s\u001b[0m 85ms/step - accuracy: 0.8500 - loss: 0.5137\u001b[32m [repeated 21x across cluster]\u001b[0m\n",
      "\u001b[1m11/18\u001b[0m \u001b[32m━━━━━━━━━━━━\u001b[0m\u001b[37m━━━━━━━━\u001b[0m \u001b[1m0s\u001b[0m 46ms/step - accuracy: 0.8031 - loss: 0.5595\u001b[32m [repeated 133x across cluster]\u001b[0m\n",
      "\u001b[1m 5/18\u001b[0m \u001b[32m━━━━━\u001b[0m\u001b[37m━━━━━━━━━━━━━━━\u001b[0m \u001b[1m0s\u001b[0m 43ms/step - accuracy: 0.6340 - loss: 1.0996\n",
      "\u001b[1m 9/18\u001b[0m \u001b[32m━━━━━━━━━━\u001b[0m\u001b[37m━━━━━━━━━━\u001b[0m \u001b[1m0s\u001b[0m 46ms/step - accuracy: 0.8572 - loss: 0.4802\u001b[32m [repeated 78x across cluster]\u001b[0m\n",
      "\u001b[1m18/18\u001b[0m \u001b[32m━━━━━━━━━━━━━━━━━━━━\u001b[0m\u001b[37m\u001b[0m \u001b[1m1s\u001b[0m 46ms/step - accuracy: 0.8062 - loss: 0.5759\n",
      "\u001b[1m18/18\u001b[0m \u001b[32m━━━━━━━━━━━━━━━━━━━━\u001b[0m\u001b[37m\u001b[0m \u001b[1m1s\u001b[0m 27ms/step - accuracy: 0.8382 - loss: 0.5233\n"
     ]
    },
    {
     "name": "stderr",
     "output_type": "stream",
     "text": [
      "DEBUG flwr 2024-03-14 19:43:36,949 | server.py:236 | fit_round 10 received 5 results and 0 failures\n",
      "DEBUG flwr 2024-03-14 19:43:36,958 | server.py:173 | evaluate_round 10: strategy sampled 2 clients (out of 5)\n"
     ]
    },
    {
     "name": "stdout",
     "output_type": "stream",
     "text": [
      "\u001b[2m\u001b[36m(DefaultActor pid=3403378)\u001b[0m [Client 3] evaluate, config: {}\n",
      "\u001b[2m\u001b[36m(DefaultActor pid=3403378)\u001b[0m [Client 3] loss:1.628924012184143, Client 3 accuracy:0.5199999809265137\n"
     ]
    },
    {
     "name": "stderr",
     "output_type": "stream",
     "text": [
      "DEBUG flwr 2024-03-14 19:43:37,693 | server.py:187 | evaluate_round 10 received 2 results and 0 failures\n",
      "INFO flwr 2024-03-14 19:43:37,693 | server.py:153 | FL finished in 114.15497612897889\n",
      "INFO flwr 2024-03-14 19:43:37,695 | app.py:226 | app_fit: losses_distributed [(1, 1.8151773810386658), (2, 1.5237781405448914), (3, 1.512254774570465), (4, 1.374237060546875), (5, 1.4044163227081299), (6, 1.4962342381477356), (7, 1.5625017881393433), (8, 1.3260533809661865), (9, 1.379119634628296), (10, 1.8153515458106995)]\n",
      "INFO flwr 2024-03-14 19:43:37,696 | app.py:227 | app_fit: metrics_distributed_fit {}\n",
      "INFO flwr 2024-03-14 19:43:37,696 | app.py:228 | app_fit: metrics_distributed {'accuracy': [(1, 0.33249999582767487), (2, 0.42499999701976776), (3, 0.4650000035762787), (4, 0.5125000029802322), (5, 0.5475000143051147), (6, 0.510000005364418), (7, 0.48999999463558197), (8, 0.5649999976158142), (9, 0.5349999964237213), (10, 0.5049999952316284)]}\n",
      "INFO flwr 2024-03-14 19:43:37,696 | app.py:229 | app_fit: losses_centralized []\n",
      "INFO flwr 2024-03-14 19:43:37,696 | app.py:230 | app_fit: metrics_centralized {}\n"
     ]
    }
   ],
   "source": [
    "NUM_ROUNDS = 10\n",
    "FRACTION_FIT = 0.3\n",
    "\n",
    "strategy = fl.server.strategy.FedAvg(\n",
    "    fraction_fit=FRACTION_FIT, \n",
    "    fraction_evaluate=0.5,  # Sample 50% of available clients for evaluation\n",
    "    min_fit_clients=NUM_CLIENTS,  # Never sample less than NUM_CLIENTS clients for training\n",
    "    min_evaluate_clients=NUM_CLIENTS//2,  # Never sample less than NUM_CLIENTS//2 clients for evaluation\n",
    "    min_available_clients=NUM_CLIENTS,  # Wait until all NUM_CLIENTS clients are available\n",
    "    initial_parameters=fl.common.ndarrays_to_parameters(params), # Initial parameters\n",
    "    on_fit_config_fn=fit_config,\n",
    "    evaluate_metrics_aggregation_fn=weighted_average\n",
    "\n",
    ")\n",
    "\n",
    "# Start simulation\n",
    "res = fl.simulation.start_simulation(\n",
    "    client_fn=client_fn,\n",
    "    num_clients=NUM_CLIENTS,\n",
    "    config=fl.server.ServerConfig(num_rounds=NUM_ROUNDS),\n",
    "    strategy=strategy,\n",
    ")"
   ]
  },
  {
   "cell_type": "code",
   "execution_count": 8,
   "id": "cd95739a",
   "metadata": {},
   "outputs": [
    {
     "name": "stderr",
     "output_type": "stream",
     "text": [
      "INFO flwr 2024-03-14 19:43:37,705 | app.py:178 | Starting Flower simulation, config: ServerConfig(num_rounds=10, round_timeout=None)\n",
      "2024-03-14 19:43:41,039\tINFO worker.py:1621 -- Started a local Ray instance.\n",
      "INFO flwr 2024-03-14 19:43:41,884 | app.py:213 | Flower VCE: Ray initialized with resources: {'GPU': 2.0, 'accelerator_type:G': 1.0, 'memory': 30356491470.0, 'CPU': 20.0, 'node:__internal_head__': 1.0, 'node:10.68.58.17': 1.0, 'object_store_memory': 15178245734.0}\n",
      "INFO flwr 2024-03-14 19:43:41,884 | app.py:219 | Optimize your simulation with Flower VCE: https://flower.dev/docs/framework/how-to-run-simulations.html\n",
      "INFO flwr 2024-03-14 19:43:41,885 | app.py:227 | No `client_resources` specified. Using minimal resources for clients.\n",
      "INFO flwr 2024-03-14 19:43:41,885 | app.py:242 | Flower VCE: Resources for each Virtual Client: {'num_cpus': 1, 'num_gpus': 0.0}\n",
      "INFO flwr 2024-03-14 19:43:41,896 | app.py:288 | Flower VCE: Creating VirtualClientEngineActorPool with 20 actors\n",
      "INFO flwr 2024-03-14 19:43:41,897 | server.py:89 | Initializing global parameters\n",
      "INFO flwr 2024-03-14 19:43:41,897 | server.py:272 | Using initial parameters provided by strategy\n",
      "INFO flwr 2024-03-14 19:43:41,898 | server.py:91 | Evaluating initial parameters\n",
      "INFO flwr 2024-03-14 19:43:41,898 | server.py:104 | FL starting\n",
      "DEBUG flwr 2024-03-14 19:43:41,898 | server.py:222 | fit_round 1: strategy sampled 5 clients (out of 5)\n",
      "\u001b[2m\u001b[36m(pid=3417351)\u001b[0m 2024-03-14 19:43:43.021892: I tensorflow/core/util/port.cc:113] oneDNN custom operations are on. You may see slightly different numerical results due to floating-point round-off errors from different computation orders. To turn them off, set the environment variable `TF_ENABLE_ONEDNN_OPTS=0`.\n",
      "\u001b[2m\u001b[36m(pid=3417351)\u001b[0m 2024-03-14 19:43:43.022568: I external/local_tsl/tsl/cuda/cudart_stub.cc:32] Could not find cuda drivers on your machine, GPU will not be used.\n",
      "\u001b[2m\u001b[36m(pid=3417351)\u001b[0m 2024-03-14 19:43:43.026676: I external/local_tsl/tsl/cuda/cudart_stub.cc:32] Could not find cuda drivers on your machine, GPU will not be used.\n",
      "\u001b[2m\u001b[36m(pid=3417351)\u001b[0m 2024-03-14 19:43:43.143625: I tensorflow/core/platform/cpu_feature_guard.cc:210] This TensorFlow binary is optimized to use available CPU instructions in performance-critical operations.\n",
      "\u001b[2m\u001b[36m(pid=3417351)\u001b[0m To enable the following instructions: AVX2 AVX512F AVX512_VNNI FMA, in other operations, rebuild TensorFlow with the appropriate compiler flags.\n",
      "\u001b[2m\u001b[36m(pid=3417355)\u001b[0m 2024-03-14 19:43:44.344566: W tensorflow/compiler/tf2tensorrt/utils/py_utils.cc:38] TF-TRT Warning: Could not find TensorRT\n",
      "\u001b[2m\u001b[36m(DefaultActor pid=3417378)\u001b[0m /home/ana/Documents/ml2-labs/.venv/lib/python3.10/site-packages/keras/src/layers/convolutional/base_conv.py:99: UserWarning: Do not pass an `input_shape`/`input_dim` argument to a layer. When using Sequential models, prefer using an `Input(shape)` object as the first layer in the model instead.\n",
      "\u001b[2m\u001b[36m(DefaultActor pid=3417378)\u001b[0m   super().__init__(\n",
      "\u001b[2m\u001b[36m(DefaultActor pid=3417378)\u001b[0m 2024-03-14 19:43:45.190151: E external/local_xla/xla/stream_executor/cuda/cuda_driver.cc:282] failed call to cuInit: CUDA_ERROR_NO_DEVICE: no CUDA-capable device is detected\n",
      "\u001b[2m\u001b[36m(DefaultActor pid=3417378)\u001b[0m 2024-03-14 19:43:45.190194: I external/local_xla/xla/stream_executor/cuda/cuda_diagnostics.cc:134] retrieving CUDA diagnostic information for host: byte\n",
      "\u001b[2m\u001b[36m(DefaultActor pid=3417378)\u001b[0m 2024-03-14 19:43:45.190201: I external/local_xla/xla/stream_executor/cuda/cuda_diagnostics.cc:141] hostname: byte\n",
      "\u001b[2m\u001b[36m(DefaultActor pid=3417378)\u001b[0m 2024-03-14 19:43:45.190303: I external/local_xla/xla/stream_executor/cuda/cuda_diagnostics.cc:165] libcuda reported version is: 535.161.7\n",
      "\u001b[2m\u001b[36m(DefaultActor pid=3417378)\u001b[0m 2024-03-14 19:43:45.190328: I external/local_xla/xla/stream_executor/cuda/cuda_diagnostics.cc:169] kernel reported version is: 535.161.7\n",
      "\u001b[2m\u001b[36m(DefaultActor pid=3417378)\u001b[0m 2024-03-14 19:43:45.190335: I external/local_xla/xla/stream_executor/cuda/cuda_diagnostics.cc:248] kernel version seems to match DSO: 535.161.7\n",
      "\u001b[2m\u001b[36m(DefaultActor pid=3417378)\u001b[0m /home/ana/Documents/ml2-labs/.venv/lib/python3.10/site-packages/flwr/simulation/ray_transport/ray_actor.py:72: DeprecationWarning:  Ensure your client is of type `flwr.client.Client`. Please convert it using the `.to_client()` method before returning it in the `client_fn` you pass to `start_simulation`. We have applied this conversion on your behalf. Not returning a `Client` might trigger an error in future versions of Flower.\n",
      "\u001b[2m\u001b[36m(DefaultActor pid=3417378)\u001b[0m   client = check_clientfn_returns_client(client_fn(cid))\n"
     ]
    },
    {
     "name": "stdout",
     "output_type": "stream",
     "text": [
      "\u001b[1m7/7\u001b[0m \u001b[32m━━━━━━━━━━━━━━━━━━━━\u001b[0m\u001b[37m\u001b[0m \u001b[1m0s\u001b[0m 3ms/step - accuracy: 0.5069 - loss: 1.9366  \n",
      "\u001b[2m\u001b[36m(DefaultActor pid=3403381)\u001b[0m [Client 2] loss:2.001779079437256, Client 2 accuracy:0.49000000953674316\n"
     ]
    },
    {
     "name": "stdout",
     "output_type": "stream",
     "text": [
      "\u001b[2m\u001b[36m(DefaultActor pid=3417378)\u001b[0m [Client 0] fit, config: {'server_round': 1, 'local_epochs': 3}\n",
      "\u001b[2m\u001b[36m(DefaultActor pid=3417378)\u001b[0m this is the config {'server_round': 1, 'local_epochs': 3}\n",
      "\u001b[2m\u001b[36m(DefaultActor pid=3417378)\u001b[0m Epoch 1/10\n",
      "\u001b[1m 1/18\u001b[0m \u001b[32m━\u001b[0m\u001b[37m━━━━━━━━━━━━━━━━━━━\u001b[0m \u001b[1m15s\u001b[0m 909ms/step - accuracy: 0.1300 - loss: 2.3035\n",
      "\u001b[1m 8/18\u001b[0m \u001b[32m━━━━━━━━\u001b[0m\u001b[37m━━━━━━━━━━━━\u001b[0m \u001b[1m0s\u001b[0m 17ms/step - accuracy: 0.1229 - loss: 2.2969 \n",
      "\u001b[1m12/18\u001b[0m \u001b[32m━━━━━━━━━━━━━\u001b[0m\u001b[37m━━━━━━━\u001b[0m \u001b[1m0s\u001b[0m 17ms/step - accuracy: 0.1197 - loss: 2.2964\n",
      "\u001b[1m16/18\u001b[0m \u001b[32m━━━━━━━━━━━━━━━━━\u001b[0m\u001b[37m━━━\u001b[0m \u001b[1m0s\u001b[0m 16ms/step - accuracy: 0.1178 - loss: 2.2951\n",
      "\u001b[1m18/18\u001b[0m \u001b[32m━━━━━━━━━━━━━━━━━━━━\u001b[0m\u001b[37m\u001b[0m \u001b[1m1s\u001b[0m 16ms/step - accuracy: 0.1165 - loss: 2.2943\n",
      "\u001b[1m 1/18\u001b[0m \u001b[32m━\u001b[0m\u001b[37m━━━━━━━━━━━━━━━━━━━\u001b[0m \u001b[1m0s\u001b[0m 29ms/step - accuracy: 0.1000 - loss: 2.2582\n",
      "\u001b[1m 7/18\u001b[0m \u001b[32m━━━━━━━\u001b[0m\u001b[37m━━━━━━━━━━━━━\u001b[0m \u001b[1m0s\u001b[0m 18ms/step - accuracy: 0.1345 - loss: 2.2404\n",
      "\u001b[1m 3/18\u001b[0m \u001b[32m━━━\u001b[0m\u001b[37m━━━━━━━━━━━━━━━━━\u001b[0m \u001b[1m0s\u001b[0m 44ms/step - accuracy: 0.1250 - loss: 2.2946\n",
      "\u001b[1m 9/18\u001b[0m \u001b[32m━━━━━━━━━━\u001b[0m\u001b[37m━━━━━━━━━━\u001b[0m \u001b[1m0s\u001b[0m 21ms/step - accuracy: 0.1403 - loss: 2.2354\n",
      "\u001b[1m 2/18\u001b[0m \u001b[32m━━\u001b[0m\u001b[37m━━━━━━━━━━━━━━━━━━\u001b[0m \u001b[1m0s\u001b[0m 53ms/step - accuracy: 0.1250 - loss: 2.3067\n",
      "\u001b[1m11/18\u001b[0m \u001b[32m━━━━━━━━━━━━\u001b[0m\u001b[37m━━━━━━━━\u001b[0m \u001b[1m0s\u001b[0m 25ms/step - accuracy: 0.1439 - loss: 2.2311\n",
      "\u001b[1m 3/18\u001b[0m \u001b[32m━━━\u001b[0m\u001b[37m━━━━━━━━━━━━━━━━━\u001b[0m \u001b[1m0s\u001b[0m 46ms/step - accuracy: 0.1817 - loss: 2.2581\n",
      "\u001b[1m18/18\u001b[0m \u001b[32m━━━━━━━━━━━━━━━━━━━━\u001b[0m\u001b[37m\u001b[0m \u001b[1m1s\u001b[0m 48ms/step - accuracy: 0.1861 - loss: 2.1984\n",
      "\u001b[2m\u001b[36m(DefaultActor pid=3417377)\u001b[0m [Client 1] fit, config: {'server_round': 1, 'local_epochs': 3}\u001b[32m [repeated 4x across cluster]\u001b[0m\n",
      "\u001b[2m\u001b[36m(DefaultActor pid=3417377)\u001b[0m this is the config {'server_round': 1, 'local_epochs': 3}\u001b[32m [repeated 4x across cluster]\u001b[0m\n",
      "\u001b[2m\u001b[36m(DefaultActor pid=3417377)\u001b[0m Epoch 5/10\u001b[32m [repeated 25x across cluster]\u001b[0m\n",
      "\u001b[1m 1/18\u001b[0m \u001b[32m━\u001b[0m\u001b[37m━━━━━━━━━━━━━━━━━━━\u001b[0m \u001b[1m1s\u001b[0m 66ms/step - accuracy: 0.3500 - loss: 1.7728\u001b[32m [repeated 22x across cluster]\u001b[0m\n",
      "\u001b[1m11/18\u001b[0m \u001b[32m━━━━━━━━━━━━\u001b[0m\u001b[37m━━━━━━━━\u001b[0m \u001b[1m0s\u001b[0m 48ms/step - accuracy: 0.3460 - loss: 1.7916\u001b[32m [repeated 138x across cluster]\u001b[0m\n",
      "\u001b[1m17/18\u001b[0m \u001b[32m━━━━━━━━━━━━━━━━━━\u001b[0m\u001b[37m━━\u001b[0m \u001b[1m0s\u001b[0m 48ms/step - accuracy: 0.3426 - loss: 1.7990\u001b[32m [repeated 64x across cluster]\u001b[0m\n",
      "\u001b[1m 2/18\u001b[0m \u001b[32m━━\u001b[0m\u001b[37m━━━━━━━━━━━━━━━━━━\u001b[0m \u001b[1m0s\u001b[0m 55ms/step - accuracy: 0.0975 - loss: 2.3021\u001b[32m [repeated 2x across cluster]\u001b[0m\n",
      "\u001b[1m 3/18\u001b[0m \u001b[32m━━━\u001b[0m\u001b[37m━━━━━━━━━━━━━━━━━\u001b[0m \u001b[1m0s\u001b[0m 46ms/step - accuracy: 0.3589 - loss: 1.7337\u001b[32m [repeated 5x across cluster]\u001b[0m\n",
      "\u001b[1m18/18\u001b[0m \u001b[32m━━━━━━━━━━━━━━━━━━━━\u001b[0m\u001b[37m\u001b[0m \u001b[1m1s\u001b[0m 46ms/step - accuracy: 0.3815 - loss: 1.7190\u001b[32m [repeated 6x across cluster]\u001b[0m\n"
     ]
    },
    {
     "name": "stderr",
     "output_type": "stream",
     "text": [
      "DEBUG flwr 2024-03-14 19:43:55,055 | server.py:236 | fit_round 1 received 5 results and 0 failures\n",
      "WARNING flwr 2024-03-14 19:43:55,059 | fedavg.py:250 | No fit_metrics_aggregation_fn provided\n",
      "DEBUG flwr 2024-03-14 19:43:55,060 | server.py:173 | evaluate_round 1: strategy sampled 2 clients (out of 5)\n"
     ]
    },
    {
     "name": "stdout",
     "output_type": "stream",
     "text": [
      "\u001b[2m\u001b[36m(DefaultActor pid=3417377)\u001b[0m [Client 2] evaluate, config: {}\n",
      "\u001b[2m\u001b[36m(DefaultActor pid=3417377)\u001b[0m Epoch 10/10\u001b[32m [repeated 24x across cluster]\u001b[0m\n"
     ]
    },
    {
     "name": "stderr",
     "output_type": "stream",
     "text": [
      "DEBUG flwr 2024-03-14 19:43:55,948 | server.py:187 | evaluate_round 1 received 2 results and 0 failures\n",
      "DEBUG flwr 2024-03-14 19:43:55,949 | server.py:222 | fit_round 2: strategy sampled 5 clients (out of 5)\n"
     ]
    },
    {
     "name": "stdout",
     "output_type": "stream",
     "text": [
      "\u001b[2m\u001b[36m(DefaultActor pid=3417377)\u001b[0m [Client 2] loss:1.8229819536209106, Client 2 accuracy:0.33500000834465027\n",
      "\u001b[2m\u001b[36m(DefaultActor pid=3417375)\u001b[0m [Client 0] fit, config: {'server_round': 2, 'local_epochs': 3}\n",
      "\u001b[2m\u001b[36m(DefaultActor pid=3417375)\u001b[0m this is the config {'server_round': 2, 'local_epochs': 3}\n",
      "\u001b[1m1/7\u001b[0m \u001b[32m━━\u001b[0m\u001b[37m━━━━━━━━━━━━━━━━━━\u001b[0m \u001b[1m1s\u001b[0m 170ms/step - accuracy: 0.3750 - loss: 1.6595\u001b[32m [repeated 13x across cluster]\u001b[0m\n",
      "\u001b[1m18/18\u001b[0m \u001b[32m━━━━━━━━━━━━━━━━━━━━\u001b[0m\u001b[37m\u001b[0m \u001b[1m1s\u001b[0m 34ms/step - accuracy: 0.4038 - loss: 1.6472\u001b[32m [repeated 90x across cluster]\u001b[0m\n",
      "\u001b[1m17/18\u001b[0m \u001b[32m━━━━━━━━━━━━━━━━━━\u001b[0m\u001b[37m━━\u001b[0m \u001b[1m0s\u001b[0m 35ms/step - accuracy: 0.4051 - loss: 1.6436\u001b[32m [repeated 48x across cluster]\u001b[0m\n",
      "\u001b[1m7/7\u001b[0m \u001b[32m━━━━━━━━━━━━━━━━━━━━\u001b[0m\u001b[37m\u001b[0m \u001b[1m0s\u001b[0m 3ms/step - accuracy: 0.3550 - loss: 1.8011  \n",
      "\u001b[1m7/7\u001b[0m \u001b[32m━━━━━━━━━━━━━━━━━━━━\u001b[0m\u001b[37m\u001b[0m \u001b[1m0s\u001b[0m 3ms/step - accuracy: 0.3567 - loss: 1.7570  \u001b[32m [repeated 8x across cluster]\u001b[0m\n",
      "\u001b[1m 9/18\u001b[0m \u001b[32m━━━━━━━━━━\u001b[0m\u001b[37m━━━━━━━━━━\u001b[0m \u001b[1m0s\u001b[0m 15ms/step - accuracy: 0.3030 - loss: 1.9479 \n",
      "\u001b[1m 3/18\u001b[0m \u001b[32m━━━\u001b[0m\u001b[37m━━━━━━━━━━━━━━━━━\u001b[0m \u001b[1m0s\u001b[0m 32ms/step - accuracy: 0.3461 - loss: 1.8904\n",
      "\u001b[1m18/18\u001b[0m \u001b[32m━━━━━━━━━━━━━━━━━━━━\u001b[0m\u001b[37m\u001b[0m \u001b[1m0s\u001b[0m 15ms/step - accuracy: 0.3569 - loss: 1.7504\u001b[32m [repeated 2x across cluster]\u001b[0m\n",
      "\u001b[1m 5/18\u001b[0m \u001b[32m━━━━━\u001b[0m\u001b[37m━━━━━━━━━━━━━━━\u001b[0m \u001b[1m0s\u001b[0m 46ms/step - accuracy: 0.3194 - loss: 1.9381\n",
      "\u001b[2m\u001b[36m(DefaultActor pid=3417375)\u001b[0m [Client 3] evaluate, config: {}\n",
      "\u001b[2m\u001b[36m(DefaultActor pid=3417380)\u001b[0m Epoch 3/10\u001b[32m [repeated 21x across cluster]\u001b[0m\n",
      "\u001b[2m\u001b[36m(DefaultActor pid=3417375)\u001b[0m [Client 3] loss:1.7575799226760864, Client 3 accuracy:0.36000001430511475\n",
      "\u001b[2m\u001b[36m(DefaultActor pid=3417378)\u001b[0m [Client 3] fit, config: {'server_round': 2, 'local_epochs': 3}\u001b[32m [repeated 4x across cluster]\u001b[0m\n",
      "\u001b[2m\u001b[36m(DefaultActor pid=3417378)\u001b[0m this is the config {'server_round': 2, 'local_epochs': 3}\u001b[32m [repeated 4x across cluster]\u001b[0m\n",
      "\u001b[1m 1/18\u001b[0m \u001b[32m━\u001b[0m\u001b[37m━━━━━━━━━━━━━━━━━━━\u001b[0m \u001b[1m1s\u001b[0m 72ms/step - accuracy: 0.3900 - loss: 1.4476\u001b[32m [repeated 19x across cluster]\u001b[0m\n",
      "\u001b[1m14/18\u001b[0m \u001b[32m━━━━━━━━━━━━━━━\u001b[0m\u001b[37m━━━━━\u001b[0m \u001b[1m0s\u001b[0m 45ms/step - accuracy: 0.4258 - loss: 1.6114\u001b[32m [repeated 77x across cluster]\u001b[0m\n",
      "\u001b[1m14/18\u001b[0m \u001b[32m━━━━━━━━━━━━━━━\u001b[0m\u001b[37m━━━━━\u001b[0m \u001b[1m0s\u001b[0m 46ms/step - accuracy: 0.4743 - loss: 1.4492\u001b[32m [repeated 62x across cluster]\u001b[0m\n",
      "\u001b[1m 3/18\u001b[0m \u001b[32m━━━\u001b[0m\u001b[37m━━━━━━━━━━━━━━━━━\u001b[0m \u001b[1m0s\u001b[0m 41ms/step - accuracy: 0.4706 - loss: 1.4917\u001b[32m [repeated 5x across cluster]\u001b[0m\n",
      "\u001b[1m18/18\u001b[0m \u001b[32m━━━━━━━━━━━━━━━━━━━━\u001b[0m\u001b[37m\u001b[0m \u001b[1m1s\u001b[0m 45ms/step - accuracy: 0.4427 - loss: 1.5257\u001b[32m [repeated 6x across cluster]\u001b[0m\n",
      "\u001b[2m\u001b[36m(DefaultActor pid=3417378)\u001b[0m Epoch 9/10\u001b[32m [repeated 27x across cluster]\u001b[0m\n"
     ]
    },
    {
     "name": "stderr",
     "output_type": "stream",
     "text": [
      "DEBUG flwr 2024-03-14 19:44:06,373 | server.py:236 | fit_round 2 received 5 results and 0 failures\n",
      "DEBUG flwr 2024-03-14 19:44:06,377 | server.py:173 | evaluate_round 2: strategy sampled 2 clients (out of 5)\n"
     ]
    },
    {
     "name": "stdout",
     "output_type": "stream",
     "text": [
      "\u001b[1m 1/18\u001b[0m \u001b[32m━\u001b[0m\u001b[37m━━━━━━━━━━━━━━━━━━━\u001b[0m \u001b[1m0s\u001b[0m 44ms/step - accuracy: 0.4700 - loss: 1.4739\u001b[32m [repeated 18x across cluster]\u001b[0m\n",
      "\u001b[2m\u001b[36m(DefaultActor pid=3417378)\u001b[0m [Client 0] evaluate, config: {}\n",
      "\u001b[2m\u001b[36m(DefaultActor pid=3417378)\u001b[0m [Client 0] loss:1.3693902492523193, Client 0 accuracy:0.5099999904632568\n",
      "\u001b[1m 4/18\u001b[0m \u001b[32m━━━━\u001b[0m\u001b[37m━━━━━━━━━━━━━━━━\u001b[0m \u001b[1m0s\u001b[0m 21ms/step - accuracy: 0.4800 - loss: 1.4163\u001b[32m [repeated 105x across cluster]\u001b[0m\n"
     ]
    },
    {
     "name": "stderr",
     "output_type": "stream",
     "text": [
      "DEBUG flwr 2024-03-14 19:44:07,146 | server.py:187 | evaluate_round 2 received 2 results and 0 failures\n",
      "DEBUG flwr 2024-03-14 19:44:07,147 | server.py:222 | fit_round 3: strategy sampled 5 clients (out of 5)\n"
     ]
    },
    {
     "name": "stdout",
     "output_type": "stream",
     "text": [
      "\u001b[1m18/18\u001b[0m \u001b[32m━━━━━━━━━━━━━━━━━━━━\u001b[0m\u001b[37m\u001b[0m \u001b[1m0s\u001b[0m 16ms/step - accuracy: 0.4943 - loss: 1.3871\u001b[32m [repeated 56x across cluster]\u001b[0m\n",
      "\u001b[1m7/7\u001b[0m \u001b[32m━━━━━━━━━━━━━━━━━━━━\u001b[0m\u001b[37m\u001b[0m \u001b[1m0s\u001b[0m 3ms/step - accuracy: 0.4639 - loss: 1.5587  \u001b[32m [repeated 10x across cluster]\u001b[0m\n",
      "\u001b[2m\u001b[36m(DefaultActor pid=3417380)\u001b[0m [Client 3] fit, config: {'server_round': 3, 'local_epochs': 3}\n",
      "\u001b[2m\u001b[36m(DefaultActor pid=3417380)\u001b[0m this is the config {'server_round': 3, 'local_epochs': 3}\n",
      "\u001b[1m 5/18\u001b[0m \u001b[32m━━━━━\u001b[0m\u001b[37m━━━━━━━━━━━━━━━\u001b[0m \u001b[1m0s\u001b[0m 16ms/step - accuracy: 0.3809 - loss: 1.8829  \n",
      "\u001b[1m18/18\u001b[0m \u001b[32m━━━━━━━━━━━━━━━━━━━━\u001b[0m\u001b[37m\u001b[0m \u001b[1m1s\u001b[0m 28ms/step - accuracy: 0.5396 - loss: 1.3058\u001b[32m [repeated 5x across cluster]\u001b[0m\n",
      "\u001b[1m 7/18\u001b[0m \u001b[32m━━━━━━━\u001b[0m\u001b[37m━━━━━━━━━━━━━\u001b[0m \u001b[1m0s\u001b[0m 22ms/step - accuracy: 0.3931 - loss: 1.6710\n",
      "\u001b[1m 3/18\u001b[0m \u001b[32m━━━\u001b[0m\u001b[37m━━━━━━━━━━━━━━━━━\u001b[0m \u001b[1m0s\u001b[0m 42ms/step - accuracy: 0.4128 - loss: 1.5319\n",
      "\u001b[2m\u001b[36m(DefaultActor pid=3417377)\u001b[0m Epoch 2/10\u001b[32m [repeated 18x across cluster]\u001b[0m\n",
      "\u001b[1m 1/18\u001b[0m \u001b[32m━\u001b[0m\u001b[37m━━━━━━━━━━━━━━━━━━━\u001b[0m \u001b[1m1s\u001b[0m 83ms/step - accuracy: 0.4700 - loss: 1.5436\u001b[32m [repeated 12x across cluster]\u001b[0m\n",
      "\u001b[2m\u001b[36m(DefaultActor pid=3417380)\u001b[0m [Client 4] evaluate, config: {}\n",
      "\u001b[2m\u001b[36m(DefaultActor pid=3417380)\u001b[0m [Client 4] loss:1.5225075483322144, Client 4 accuracy:0.4449999928474426\n",
      "\u001b[1m14/18\u001b[0m \u001b[32m━━━━━━━━━━━━━━━\u001b[0m\u001b[37m━━━━━\u001b[0m \u001b[1m0s\u001b[0m 45ms/step - accuracy: 0.4658 - loss: 1.5058\u001b[32m [repeated 60x across cluster]\u001b[0m\n",
      "\u001b[1m18/18\u001b[0m \u001b[32m━━━━━━━━━━━━━━━━━━━━\u001b[0m\u001b[37m\u001b[0m \u001b[1m1s\u001b[0m 45ms/step - accuracy: 0.4694 - loss: 1.4968\u001b[32m [repeated 48x across cluster]\u001b[0m\n",
      "\u001b[1m 3/18\u001b[0m \u001b[32m━━━\u001b[0m\u001b[37m━━━━━━━━━━━━━━━━━\u001b[0m \u001b[1m0s\u001b[0m 43ms/step - accuracy: 0.5494 - loss: 1.2908\u001b[32m [repeated 6x across cluster]\u001b[0m\n",
      "\u001b[2m\u001b[36m(DefaultActor pid=3417375)\u001b[0m [Client 1] fit, config: {'server_round': 3, 'local_epochs': 3}\u001b[32m [repeated 4x across cluster]\u001b[0m\n",
      "\u001b[2m\u001b[36m(DefaultActor pid=3417375)\u001b[0m this is the config {'server_round': 3, 'local_epochs': 3}\u001b[32m [repeated 4x across cluster]\u001b[0m\n",
      "\u001b[1m18/18\u001b[0m \u001b[32m━━━━━━━━━━━━━━━━━━━━\u001b[0m\u001b[37m\u001b[0m \u001b[1m1s\u001b[0m 27ms/step - accuracy: 0.4554 - loss: 1.4880\n",
      "\u001b[1m18/18\u001b[0m \u001b[32m━━━━━━━━━━━━━━━━━━━━\u001b[0m\u001b[37m\u001b[0m \u001b[1m1s\u001b[0m 44ms/step - accuracy: 0.5409 - loss: 1.2453\n",
      "\u001b[1m 3/18\u001b[0m \u001b[32m━━━\u001b[0m\u001b[37m━━━━━━━━━━━━━━━━━\u001b[0m \u001b[1m0s\u001b[0m 39ms/step - accuracy: 0.4172 - loss: 1.6674\n",
      "\u001b[2m\u001b[36m(DefaultActor pid=3417379)\u001b[0m Epoch 9/10\u001b[32m [repeated 28x across cluster]\u001b[0m\n",
      "\u001b[1m 1/18\u001b[0m \u001b[32m━\u001b[0m\u001b[37m━━━━━━━━━━━━━━━━━━━\u001b[0m \u001b[1m1s\u001b[0m 62ms/step - accuracy: 0.5400 - loss: 1.1790\u001b[32m [repeated 22x across cluster]\u001b[0m\n",
      "\u001b[1m14/18\u001b[0m \u001b[32m━━━━━━━━━━━━━━━\u001b[0m\u001b[37m━━━━━\u001b[0m \u001b[1m0s\u001b[0m 24ms/step - accuracy: 0.5559 - loss: 1.2835\u001b[32m [repeated 133x across cluster]\u001b[0m\n"
     ]
    },
    {
     "name": "stderr",
     "output_type": "stream",
     "text": [
      "DEBUG flwr 2024-03-14 19:44:17,338 | server.py:236 | fit_round 3 received 5 results and 0 failures\n",
      "DEBUG flwr 2024-03-14 19:44:17,342 | server.py:173 | evaluate_round 3: strategy sampled 2 clients (out of 5)\n"
     ]
    },
    {
     "name": "stdout",
     "output_type": "stream",
     "text": [
      "\u001b[1m13/18\u001b[0m \u001b[32m━━━━━━━━━━━━━━\u001b[0m\u001b[37m━━━━━━\u001b[0m \u001b[1m0s\u001b[0m 19ms/step - accuracy: 0.6230 - loss: 1.1408\u001b[32m [repeated 68x across cluster]\u001b[0m\n",
      "\u001b[1m 4/18\u001b[0m \u001b[32m━━━━\u001b[0m\u001b[37m━━━━━━━━━━━━━━━━\u001b[0m \u001b[1m0s\u001b[0m 20ms/step - accuracy: 0.6248 - loss: 1.0951\u001b[32m [repeated 8x across cluster]\u001b[0m\n",
      "\u001b[2m\u001b[36m(DefaultActor pid=3417375)\u001b[0m [Client 4] evaluate, config: {}\n",
      "\u001b[2m\u001b[36m(DefaultActor pid=3417375)\u001b[0m [Client 4] loss:1.4945958852767944, Client 4 accuracy:0.45500001311302185\n"
     ]
    },
    {
     "name": "stderr",
     "output_type": "stream",
     "text": [
      "DEBUG flwr 2024-03-14 19:44:18,215 | server.py:187 | evaluate_round 3 received 2 results and 0 failures\n",
      "DEBUG flwr 2024-03-14 19:44:18,215 | server.py:222 | fit_round 4: strategy sampled 5 clients (out of 5)\n"
     ]
    },
    {
     "name": "stdout",
     "output_type": "stream",
     "text": [
      "\u001b[2m\u001b[36m(DefaultActor pid=3417377)\u001b[0m [Client 4] fit, config: {'server_round': 4, 'local_epochs': 3}\n",
      "\u001b[2m\u001b[36m(DefaultActor pid=3417377)\u001b[0m this is the config {'server_round': 4, 'local_epochs': 3}\n",
      "\u001b[1m18/18\u001b[0m \u001b[32m━━━━━━━━━━━━━━━━━━━━\u001b[0m\u001b[37m\u001b[0m \u001b[1m1s\u001b[0m 28ms/step - accuracy: 0.6219 - loss: 1.1574\u001b[32m [repeated 2x across cluster]\u001b[0m\n",
      "\u001b[1m 5/18\u001b[0m \u001b[32m━━━━━\u001b[0m\u001b[37m━━━━━━━━━━━━━━━\u001b[0m \u001b[1m0s\u001b[0m 15ms/step - accuracy: 0.4696 - loss: 1.4266  \n",
      "\u001b[1m 5/18\u001b[0m \u001b[32m━━━━━\u001b[0m\u001b[37m━━━━━━━━━━━━━━━\u001b[0m \u001b[1m0s\u001b[0m 31ms/step - accuracy: 0.4987 - loss: 1.4894\n",
      "\u001b[2m\u001b[36m(DefaultActor pid=3417375)\u001b[0m Epoch 3/10\u001b[32m [repeated 16x across cluster]\u001b[0m\n",
      "\u001b[1m 3/18\u001b[0m \u001b[32m━━━\u001b[0m\u001b[37m━━━━━━━━━━━━━━━━━\u001b[0m \u001b[1m0s\u001b[0m 39ms/step - accuracy: 0.4994 - loss: 1.4546\n",
      "\u001b[1m 1/18\u001b[0m \u001b[32m━\u001b[0m\u001b[37m━━━━━━━━━━━━━━━━━━━\u001b[0m \u001b[1m28s\u001b[0m 2s/step - accuracy: 0.5500 - loss: 1.2506\u001b[32m [repeated 12x across cluster]\u001b[0m\n",
      "\u001b[1m 6/18\u001b[0m \u001b[32m━━━━━━\u001b[0m\u001b[37m━━━━━━━━━━━━━━\u001b[0m \u001b[1m0s\u001b[0m 46ms/step - accuracy: 0.6351 - loss: 1.1013\u001b[32m [repeated 41x across cluster]\u001b[0m\n",
      "\u001b[1m 3/18\u001b[0m \u001b[32m━━━\u001b[0m\u001b[37m━━━━━━━━━━━━━━━━━\u001b[0m \u001b[1m0s\u001b[0m 53ms/step - accuracy: 0.5511 - loss: 1.3457\u001b[32m [repeated 29x across cluster]\u001b[0m\n",
      "\u001b[1m 4/18\u001b[0m \u001b[32m━━━━\u001b[0m\u001b[37m━━━━━━━━━━━━━━━━\u001b[0m \u001b[1m0s\u001b[0m 24ms/step - accuracy: 0.4927 - loss: 1.3905\u001b[32m [repeated 3x across cluster]\u001b[0m\n",
      "\u001b[2m\u001b[36m(DefaultActor pid=3417377)\u001b[0m [Client 3] evaluate, config: {}\n",
      "\u001b[2m\u001b[36m(DefaultActor pid=3417377)\u001b[0m [Client 3] loss:1.4723117351531982, Client 3 accuracy:0.4650000035762787\n",
      "\u001b[2m\u001b[36m(DefaultActor pid=3417380)\u001b[0m [Client 2] fit, config: {'server_round': 4, 'local_epochs': 3}\u001b[32m [repeated 4x across cluster]\u001b[0m\n",
      "\u001b[2m\u001b[36m(DefaultActor pid=3417380)\u001b[0m this is the config {'server_round': 4, 'local_epochs': 3}\u001b[32m [repeated 4x across cluster]\u001b[0m\n",
      "\u001b[1m18/18\u001b[0m \u001b[32m━━━━━━━━━━━━━━━━━━━━\u001b[0m\u001b[37m\u001b[0m \u001b[1m1s\u001b[0m 47ms/step - accuracy: 0.5622 - loss: 1.2598\u001b[32m [repeated 5x across cluster]\u001b[0m\n",
      "\u001b[2m\u001b[36m(DefaultActor pid=3417375)\u001b[0m Epoch 9/10\u001b[32m [repeated 28x across cluster]\u001b[0m\n",
      "\u001b[1m 3/18\u001b[0m \u001b[32m━━━\u001b[0m\u001b[37m━━━━━━━━━━━━━━━━━\u001b[0m \u001b[1m0s\u001b[0m 47ms/step - accuracy: 0.4756 - loss: 1.5637\n",
      "\u001b[1m 1/18\u001b[0m \u001b[32m━\u001b[0m\u001b[37m━━━━━━━━━━━━━━━━━━━\u001b[0m \u001b[1m1s\u001b[0m 81ms/step - accuracy: 0.6900 - loss: 0.8940\u001b[32m [repeated 25x across cluster]\u001b[0m\n",
      "\u001b[1m 5/18\u001b[0m \u001b[32m━━━━━\u001b[0m\u001b[37m━━━━━━━━━━━━━━━\u001b[0m \u001b[1m0s\u001b[0m 38ms/step - accuracy: 0.6249 - loss: 1.0447\u001b[32m [repeated 123x across cluster]\u001b[0m\n",
      "\u001b[1m17/18\u001b[0m \u001b[32m━━━━━━━━━━━━━━━━━━\u001b[0m\u001b[37m━━\u001b[0m \u001b[1m0s\u001b[0m 35ms/step - accuracy: 0.6607 - loss: 0.9835\u001b[32m [repeated 81x across cluster]\u001b[0m\n",
      "\u001b[1m 3/18\u001b[0m \u001b[32m━━━\u001b[0m\u001b[37m━━━━━━━━━━━━━━━━━\u001b[0m \u001b[1m0s\u001b[0m 38ms/step - accuracy: 0.6356 - loss: 1.1243\u001b[32m [repeated 6x across cluster]\u001b[0m\n"
     ]
    },
    {
     "name": "stderr",
     "output_type": "stream",
     "text": [
      "DEBUG flwr 2024-03-14 19:44:28,512 | server.py:236 | fit_round 4 received 5 results and 0 failures\n",
      "DEBUG flwr 2024-03-14 19:44:28,517 | server.py:173 | evaluate_round 4: strategy sampled 2 clients (out of 5)\n"
     ]
    },
    {
     "name": "stdout",
     "output_type": "stream",
     "text": [
      "\u001b[2m\u001b[36m(DefaultActor pid=3417380)\u001b[0m [Client 3] evaluate, config: {}\n",
      "\u001b[2m\u001b[36m(DefaultActor pid=3417380)\u001b[0m [Client 3] loss:1.4433567523956299, Client 3 accuracy:0.5049999952316284\n",
      "\u001b[1m18/18\u001b[0m \u001b[32m━━━━━━━━━━━━━━━━━━━━\u001b[0m\u001b[37m\u001b[0m \u001b[1m0s\u001b[0m 19ms/step - accuracy: 0.6390 - loss: 1.0646\u001b[32m [repeated 4x across cluster]\u001b[0m\n"
     ]
    },
    {
     "name": "stderr",
     "output_type": "stream",
     "text": [
      "DEBUG flwr 2024-03-14 19:44:29,356 | server.py:187 | evaluate_round 4 received 2 results and 0 failures\n",
      "DEBUG flwr 2024-03-14 19:44:29,357 | server.py:222 | fit_round 5: strategy sampled 5 clients (out of 5)\n"
     ]
    },
    {
     "name": "stdout",
     "output_type": "stream",
     "text": [
      "\u001b[2m\u001b[36m(DefaultActor pid=3417378)\u001b[0m [Client 2] fit, config: {'server_round': 5, 'local_epochs': 3}\n",
      "\u001b[2m\u001b[36m(DefaultActor pid=3417378)\u001b[0m this is the config {'server_round': 5, 'local_epochs': 3}\n",
      "\u001b[1m 9/18\u001b[0m \u001b[32m━━━━━━━━━━\u001b[0m\u001b[37m━━━━━━━━━━\u001b[0m \u001b[1m0s\u001b[0m 15ms/step - accuracy: 0.4980 - loss: 1.4612 \n",
      "\u001b[2m\u001b[36m(DefaultActor pid=3417378)\u001b[0m Epoch 3/10\u001b[32m [repeated 18x across cluster]\u001b[0m\n",
      "\u001b[1m 7/18\u001b[0m \u001b[32m━━━━━━━\u001b[0m\u001b[37m━━━━━━━━━━━━━\u001b[0m \u001b[1m0s\u001b[0m 23ms/step - accuracy: 0.4896 - loss: 1.4873\n",
      "\u001b[1m 1/18\u001b[0m \u001b[32m━\u001b[0m\u001b[37m━━━━━━━━━━━━━━━━━━━\u001b[0m \u001b[1m23s\u001b[0m 1s/step - accuracy: 0.5400 - loss: 1.2687\u001b[32m [repeated 9x across cluster]\u001b[0m\n",
      "\u001b[1m 3/18\u001b[0m \u001b[32m━━━\u001b[0m\u001b[37m━━━━━━━━━━━━━━━━━\u001b[0m \u001b[1m0s\u001b[0m 36ms/step - accuracy: 0.4794 - loss: 1.4869\n",
      "\u001b[1m 3/18\u001b[0m \u001b[32m━━━\u001b[0m\u001b[37m━━━━━━━━━━━━━━━━━\u001b[0m \u001b[1m0s\u001b[0m 26ms/step - accuracy: 0.6356 - loss: 1.1530\u001b[32m [repeated 25x across cluster]\u001b[0m\n",
      "\u001b[1m 5/18\u001b[0m \u001b[32m━━━━━\u001b[0m\u001b[37m━━━━━━━━━━━━━━━\u001b[0m \u001b[1m0s\u001b[0m 30ms/step - accuracy: 0.5778 - loss: 1.2271\u001b[32m [repeated 32x across cluster]\u001b[0m\n",
      "\u001b[1m 3/18\u001b[0m \u001b[32m━━━\u001b[0m\u001b[37m━━━━━━━━━━━━━━━━━\u001b[0m \u001b[1m0s\u001b[0m 38ms/step - accuracy: 0.5783 - loss: 1.1895\u001b[32m [repeated 9x across cluster]\u001b[0m\n",
      "\u001b[2m\u001b[36m(DefaultActor pid=3417378)\u001b[0m [Client 0] evaluate, config: {}\n",
      "\u001b[2m\u001b[36m(DefaultActor pid=3417378)\u001b[0m [Client 0] loss:1.2196300029754639, Client 0 accuracy:0.5450000166893005\n",
      "\u001b[1m18/18\u001b[0m \u001b[32m━━━━━━━━━━━━━━━━━━━━\u001b[0m\u001b[37m\u001b[0m \u001b[1m2s\u001b[0m 44ms/step - accuracy: 0.4806 - loss: 1.4994\u001b[32m [repeated 5x across cluster]\u001b[0m\n",
      "\u001b[2m\u001b[36m(DefaultActor pid=3417377)\u001b[0m [Client 0] fit, config: {'server_round': 5, 'local_epochs': 3}\u001b[32m [repeated 4x across cluster]\u001b[0m\n",
      "\u001b[2m\u001b[36m(DefaultActor pid=3417377)\u001b[0m this is the config {'server_round': 5, 'local_epochs': 3}\u001b[32m [repeated 4x across cluster]\u001b[0m\n",
      "\u001b[2m\u001b[36m(DefaultActor pid=3417378)\u001b[0m Epoch 10/10\u001b[32m [repeated 26x across cluster]\u001b[0m\n",
      "\u001b[1m 5/18\u001b[0m \u001b[32m━━━━━\u001b[0m\u001b[37m━━━━━━━━━━━━━━━\u001b[0m \u001b[1m0s\u001b[0m 43ms/step - accuracy: 0.6352 - loss: 1.0585\n",
      "\u001b[1m 1/18\u001b[0m \u001b[32m━\u001b[0m\u001b[37m━━━━━━━━━━━━━━━━━━━\u001b[0m \u001b[1m1s\u001b[0m 81ms/step - accuracy: 0.6600 - loss: 0.9821\u001b[32m [repeated 21x across cluster]\u001b[0m\n",
      "\u001b[1m 3/18\u001b[0m \u001b[32m━━━\u001b[0m\u001b[37m━━━━━━━━━━━━━━━━━\u001b[0m \u001b[1m0s\u001b[0m 44ms/step - accuracy: 0.4583 - loss: 1.4983\n",
      "\u001b[1m14/18\u001b[0m \u001b[32m━━━━━━━━━━━━━━━\u001b[0m\u001b[37m━━━━━\u001b[0m \u001b[1m0s\u001b[0m 44ms/step - accuracy: 0.6506 - loss: 0.9909\u001b[32m [repeated 134x across cluster]\u001b[0m\n",
      "\u001b[1m15/18\u001b[0m \u001b[32m━━━━━━━━━━━━━━━━\u001b[0m\u001b[37m━━━━\u001b[0m \u001b[1m0s\u001b[0m 35ms/step - accuracy: 0.6394 - loss: 1.0535\u001b[32m [repeated 60x across cluster]\u001b[0m\n",
      "\u001b[1m 3/18\u001b[0m \u001b[32m━━━\u001b[0m\u001b[37m━━━━━━━━━━━━━━━━━\u001b[0m \u001b[1m0s\u001b[0m 35ms/step - accuracy: 0.6817 - loss: 0.9133\u001b[32m [repeated 8x across cluster]\u001b[0m\n",
      "\u001b[1m18/18\u001b[0m \u001b[32m━━━━━━━━━━━━━━━━━━━━\u001b[0m\u001b[37m\u001b[0m \u001b[1m1s\u001b[0m 43ms/step - accuracy: 0.6460 - loss: 1.0058\u001b[32m [repeated 5x across cluster]\u001b[0m\n"
     ]
    },
    {
     "name": "stderr",
     "output_type": "stream",
     "text": [
      "DEBUG flwr 2024-03-14 19:44:39,691 | server.py:236 | fit_round 5 received 5 results and 0 failures\n",
      "DEBUG flwr 2024-03-14 19:44:39,696 | server.py:173 | evaluate_round 5: strategy sampled 2 clients (out of 5)\n"
     ]
    },
    {
     "name": "stdout",
     "output_type": "stream",
     "text": [
      "\u001b[2m\u001b[36m(DefaultActor pid=3417377)\u001b[0m [Client 4] evaluate, config: {}\n",
      "\u001b[2m\u001b[36m(DefaultActor pid=3417377)\u001b[0m [Client 4] loss:1.4360895156860352, Client 4 accuracy:0.46000000834465027\n"
     ]
    },
    {
     "name": "stderr",
     "output_type": "stream",
     "text": [
      "DEBUG flwr 2024-03-14 19:44:40,531 | server.py:187 | evaluate_round 5 received 2 results and 0 failures\n",
      "DEBUG flwr 2024-03-14 19:44:40,531 | server.py:222 | fit_round 6: strategy sampled 5 clients (out of 5)\n"
     ]
    },
    {
     "name": "stdout",
     "output_type": "stream",
     "text": [
      "\u001b[2m\u001b[36m(DefaultActor pid=3417375)\u001b[0m [Client 2] fit, config: {'server_round': 6, 'local_epochs': 3}\n",
      "\u001b[2m\u001b[36m(DefaultActor pid=3417375)\u001b[0m this is the config {'server_round': 6, 'local_epochs': 3}\n",
      "\u001b[2m\u001b[36m(DefaultActor pid=3417377)\u001b[0m Epoch 1/10\u001b[32m [repeated 20x across cluster]\u001b[0m\n",
      "\u001b[1m 1/18\u001b[0m \u001b[32m━\u001b[0m\u001b[37m━━━━━━━━━━━━━━━━━━━\u001b[0m \u001b[1m0s\u001b[0m 47ms/step - accuracy: 0.8100 - loss: 0.7310\u001b[32m [repeated 10x across cluster]\u001b[0m\n",
      "\u001b[1m 9/18\u001b[0m \u001b[32m━━━━━━━━━━\u001b[0m\u001b[37m━━━━━━━━━━\u001b[0m \u001b[1m0s\u001b[0m 15ms/step - accuracy: 0.4953 - loss: 1.4783\u001b[32m [repeated 38x across cluster]\u001b[0m\n",
      "\u001b[1m13/18\u001b[0m \u001b[32m━━━━━━━━━━━━━━\u001b[0m\u001b[37m━━━━━━\u001b[0m \u001b[1m0s\u001b[0m 15ms/step - accuracy: 0.5941 - loss: 1.1972\u001b[32m [repeated 35x across cluster]\u001b[0m\n",
      "\u001b[1m 5/18\u001b[0m \u001b[32m━━━━━\u001b[0m\u001b[37m━━━━━━━━━━━━━━━\u001b[0m \u001b[1m0s\u001b[0m 15ms/step - accuracy: 0.5899 - loss: 1.2233\u001b[32m [repeated 7x across cluster]\u001b[0m\n",
      "\u001b[1m 4/18\u001b[0m \u001b[32m━━━━\u001b[0m\u001b[37m━━━━━━━━━━━━━━━━\u001b[0m \u001b[1m0s\u001b[0m 26ms/step - accuracy: 0.5573 - loss: 1.3155\n",
      "\u001b[1m18/18\u001b[0m \u001b[32m━━━━━━━━━━━━━━━━━━━━\u001b[0m\u001b[37m\u001b[0m \u001b[1m2s\u001b[0m 32ms/step - accuracy: 0.5495 - loss: 1.3208\u001b[32m [repeated 5x across cluster]\u001b[0m\n",
      "\u001b[2m\u001b[36m(DefaultActor pid=3417375)\u001b[0m [Client 1] evaluate, config: {}\n",
      "\u001b[2m\u001b[36m(DefaultActor pid=3417375)\u001b[0m [Client 1] loss:1.3212149143218994, Client 1 accuracy:0.5099999904632568\n",
      "\u001b[2m\u001b[36m(DefaultActor pid=3417378)\u001b[0m [Client 1] fit, config: {'server_round': 6, 'local_epochs': 3}\u001b[32m [repeated 4x across cluster]\u001b[0m\n",
      "\u001b[2m\u001b[36m(DefaultActor pid=3417378)\u001b[0m this is the config {'server_round': 6, 'local_epochs': 3}\u001b[32m [repeated 4x across cluster]\u001b[0m\n",
      "\u001b[2m\u001b[36m(DefaultActor pid=3417375)\u001b[0m Epoch 8/10\u001b[32m [repeated 24x across cluster]\u001b[0m\n",
      "\u001b[1m 1/18\u001b[0m \u001b[32m━\u001b[0m\u001b[37m━━━━━━━━━━━━━━━━━━━\u001b[0m \u001b[1m1s\u001b[0m 74ms/step - accuracy: 0.6700 - loss: 1.0264\u001b[32m [repeated 17x across cluster]\u001b[0m\n",
      "\u001b[1m 3/18\u001b[0m \u001b[32m━━━\u001b[0m\u001b[37m━━━━━━━━━━━━━━━━━\u001b[0m \u001b[1m0s\u001b[0m 54ms/step - accuracy: 0.7489 - loss: 0.7540\u001b[32m [repeated 115x across cluster]\u001b[0m\n",
      "\u001b[1m 7/18\u001b[0m \u001b[32m━━━━━━━\u001b[0m\u001b[37m━━━━━━━━━━━━━\u001b[0m \u001b[1m0s\u001b[0m 49ms/step - accuracy: 0.7300 - loss: 0.8700\u001b[32m [repeated 63x across cluster]\u001b[0m\n",
      "\u001b[1m 3/18\u001b[0m \u001b[32m━━━\u001b[0m\u001b[37m━━━━━━━━━━━━━━━━━\u001b[0m \u001b[1m0s\u001b[0m 49ms/step - accuracy: 0.7633 - loss: 0.8167\u001b[32m [repeated 10x across cluster]\u001b[0m\n",
      "\u001b[1m 2/18\u001b[0m \u001b[32m━━\u001b[0m\u001b[37m━━━━━━━━━━━━━━━━━━\u001b[0m \u001b[1m0s\u001b[0m 51ms/step - accuracy: 0.5325 - loss: 1.3342\n",
      "\u001b[1m18/18\u001b[0m \u001b[32m━━━━━━━━━━━━━━━━━━━━\u001b[0m\u001b[37m\u001b[0m \u001b[1m1s\u001b[0m 47ms/step - accuracy: 0.7142 - loss: 0.8355\u001b[32m [repeated 4x across cluster]\u001b[0m\n"
     ]
    },
    {
     "name": "stderr",
     "output_type": "stream",
     "text": [
      "DEBUG flwr 2024-03-14 19:44:51,111 | server.py:236 | fit_round 6 received 5 results and 0 failures\n",
      "DEBUG flwr 2024-03-14 19:44:51,115 | server.py:173 | evaluate_round 6: strategy sampled 2 clients (out of 5)\n"
     ]
    },
    {
     "name": "stdout",
     "output_type": "stream",
     "text": [
      "\u001b[2m\u001b[36m(DefaultActor pid=3417378)\u001b[0m [Client 2] evaluate, config: {}\n",
      "\u001b[2m\u001b[36m(DefaultActor pid=3417378)\u001b[0m Epoch 10/10\u001b[32m [repeated 24x across cluster]\u001b[0m\n",
      "\u001b[2m\u001b[36m(DefaultActor pid=3417378)\u001b[0m [Client 2] loss:1.6160465478897095, Client 2 accuracy:0.47999998927116394\n"
     ]
    },
    {
     "name": "stderr",
     "output_type": "stream",
     "text": [
      "DEBUG flwr 2024-03-14 19:44:51,866 | server.py:187 | evaluate_round 6 received 2 results and 0 failures\n",
      "DEBUG flwr 2024-03-14 19:44:51,867 | server.py:222 | fit_round 7: strategy sampled 5 clients (out of 5)\n"
     ]
    },
    {
     "name": "stdout",
     "output_type": "stream",
     "text": [
      "\u001b[1m 1/18\u001b[0m \u001b[32m━\u001b[0m\u001b[37m━━━━━━━━━━━━━━━━━━━\u001b[0m \u001b[1m0s\u001b[0m 51ms/step - accuracy: 0.7400 - loss: 0.8351\u001b[32m [repeated 15x across cluster]\u001b[0m\n",
      "\u001b[2m\u001b[36m(DefaultActor pid=3417380)\u001b[0m [Client 4] fit, config: {'server_round': 7, 'local_epochs': 3}\n",
      "\u001b[2m\u001b[36m(DefaultActor pid=3417380)\u001b[0m this is the config {'server_round': 7, 'local_epochs': 3}\n",
      "\u001b[1m18/18\u001b[0m \u001b[32m━━━━━━━━━━━━━━━━━━━━\u001b[0m\u001b[37m\u001b[0m \u001b[1m0s\u001b[0m 19ms/step - accuracy: 0.7081 - loss: 0.8467\u001b[32m [repeated 85x across cluster]\u001b[0m\n",
      "\u001b[1m18/18\u001b[0m \u001b[32m━━━━━━━━━━━━━━━━━━━━\u001b[0m\u001b[37m\u001b[0m \u001b[1m0s\u001b[0m 15ms/step - accuracy: 0.7327 - loss: 0.8009\u001b[32m [repeated 49x across cluster]\u001b[0m\n",
      "\u001b[1m7/7\u001b[0m \u001b[32m━━━━━━━━━━━━━━━━━━━━\u001b[0m\u001b[37m\u001b[0m \u001b[1m0s\u001b[0m 3ms/step - accuracy: 0.4791 - loss: 1.3145  \u001b[32m [repeated 8x across cluster]\u001b[0m\n",
      "\u001b[1m 9/18\u001b[0m \u001b[32m━━━━━━━━━━\u001b[0m\u001b[37m━━━━━━━━━━\u001b[0m \u001b[1m0s\u001b[0m 15ms/step - accuracy: 0.5696 - loss: 1.3202 \n",
      "\u001b[1m 5/18\u001b[0m \u001b[32m━━━━━\u001b[0m\u001b[37m━━━━━━━━━━━━━━━\u001b[0m \u001b[1m0s\u001b[0m 31ms/step - accuracy: 0.5929 - loss: 1.1699\n",
      "\u001b[2m\u001b[36m(DefaultActor pid=3417380)\u001b[0m [Client 1] evaluate, config: {}\n",
      "\u001b[2m\u001b[36m(DefaultActor pid=3417379)\u001b[0m Epoch 3/10\u001b[32m [repeated 20x across cluster]\u001b[0m\n",
      "\u001b[2m\u001b[36m(DefaultActor pid=3417380)\u001b[0m [Client 1] loss:1.28856360912323, Client 1 accuracy:0.5249999761581421\n",
      "\u001b[1m 1/18\u001b[0m \u001b[32m━\u001b[0m\u001b[37m━━━━━━━━━━━━━━━━━━━\u001b[0m \u001b[1m1s\u001b[0m 70ms/step - accuracy: 0.6300 - loss: 0.9173\u001b[32m [repeated 14x across cluster]\u001b[0m\n",
      "\u001b[1m18/18\u001b[0m \u001b[32m━━━━━━━━━━━━━━━━━━━━\u001b[0m\u001b[37m\u001b[0m \u001b[1m1s\u001b[0m 44ms/step - accuracy: 0.7300 - loss: 0.7901\n",
      "\u001b[2m\u001b[36m(DefaultActor pid=3417375)\u001b[0m [Client 0] fit, config: {'server_round': 7, 'local_epochs': 3}\u001b[32m [repeated 4x across cluster]\u001b[0m\n",
      "\u001b[2m\u001b[36m(DefaultActor pid=3417375)\u001b[0m this is the config {'server_round': 7, 'local_epochs': 3}\u001b[32m [repeated 4x across cluster]\u001b[0m\n",
      "\u001b[1m18/18\u001b[0m \u001b[32m━━━━━━━━━━━━━━━━━━━━\u001b[0m\u001b[37m\u001b[0m \u001b[1m1s\u001b[0m 46ms/step - accuracy: 0.7298 - loss: 0.8167\u001b[32m [repeated 99x across cluster]\u001b[0m\n",
      "\u001b[1m17/18\u001b[0m \u001b[32m━━━━━━━━━━━━━━━━━━\u001b[0m\u001b[37m━━\u001b[0m \u001b[1m0s\u001b[0m 46ms/step - accuracy: 0.6724 - loss: 0.9219\u001b[32m [repeated 53x across cluster]\u001b[0m\n",
      "\u001b[1m 3/18\u001b[0m \u001b[32m━━━\u001b[0m\u001b[37m━━━━━━━━━━━━━━━━━\u001b[0m \u001b[1m0s\u001b[0m 37ms/step - accuracy: 0.7244 - loss: 0.7798\u001b[32m [repeated 8x across cluster]\u001b[0m\n",
      "\u001b[1m 3/18\u001b[0m \u001b[32m━━━\u001b[0m\u001b[37m━━━━━━━━━━━━━━━━━\u001b[0m \u001b[1m0s\u001b[0m 52ms/step - accuracy: 0.5789 - loss: 1.2035\n",
      "\u001b[2m\u001b[36m(DefaultActor pid=3417379)\u001b[0m Epoch 10/10\u001b[32m [repeated 29x across cluster]\u001b[0m\n"
     ]
    },
    {
     "name": "stderr",
     "output_type": "stream",
     "text": [
      "DEBUG flwr 2024-03-14 19:45:02,084 | server.py:236 | fit_round 7 received 5 results and 0 failures\n",
      "DEBUG flwr 2024-03-14 19:45:02,088 | server.py:173 | evaluate_round 7: strategy sampled 2 clients (out of 5)\n"
     ]
    },
    {
     "name": "stdout",
     "output_type": "stream",
     "text": [
      "\u001b[1m 1/18\u001b[0m \u001b[32m━\u001b[0m\u001b[37m━━━━━━━━━━━━━━━━━━━\u001b[0m \u001b[1m1s\u001b[0m 74ms/step - accuracy: 0.7100 - loss: 0.8603\u001b[32m [repeated 17x across cluster]\u001b[0m\n",
      "\u001b[1m18/18\u001b[0m \u001b[32m━━━━━━━━━━━━━━━━━━━━\u001b[0m\u001b[37m\u001b[0m \u001b[1m1s\u001b[0m 28ms/step - accuracy: 0.7663 - loss: 0.7304\u001b[32m [repeated 3x across cluster]\u001b[0m\n",
      "\u001b[2m\u001b[36m(DefaultActor pid=3417375)\u001b[0m [Client 4] evaluate, config: {}\n",
      "\u001b[2m\u001b[36m(DefaultActor pid=3417375)\u001b[0m [Client 4] loss:1.4131094217300415, Client 4 accuracy:0.48500001430511475\n",
      "\u001b[1m18/18\u001b[0m \u001b[32m━━━━━━━━━━━━━━━━━━━━\u001b[0m\u001b[37m\u001b[0m \u001b[1m1s\u001b[0m 26ms/step - accuracy: 0.7611 - loss: 0.7401\u001b[32m [repeated 108x across cluster]\u001b[0m\n"
     ]
    },
    {
     "name": "stderr",
     "output_type": "stream",
     "text": [
      "DEBUG flwr 2024-03-14 19:45:02,861 | server.py:187 | evaluate_round 7 received 2 results and 0 failures\n",
      "DEBUG flwr 2024-03-14 19:45:02,862 | server.py:222 | fit_round 8: strategy sampled 5 clients (out of 5)\n"
     ]
    },
    {
     "name": "stdout",
     "output_type": "stream",
     "text": [
      "\u001b[1m7/7\u001b[0m \u001b[32m━━━━━━━━━━━━━━━━━━━━\u001b[0m\u001b[37m\u001b[0m \u001b[1m0s\u001b[0m 3ms/step - accuracy: 0.5348 - loss: 1.4711  \n",
      "\u001b[1m18/18\u001b[0m \u001b[32m━━━━━━━━━━━━━━━━━━━━\u001b[0m\u001b[37m\u001b[0m \u001b[1m0s\u001b[0m 15ms/step - accuracy: 0.8073 - loss: 0.5972\u001b[32m [repeated 58x across cluster]\u001b[0m\n",
      "\u001b[1m7/7\u001b[0m \u001b[32m━━━━━━━━━━━━━━━━━━━━\u001b[0m\u001b[37m\u001b[0m \u001b[1m0s\u001b[0m 3ms/step - accuracy: 0.5280 - loss: 1.4310  \u001b[32m [repeated 12x across cluster]\u001b[0m\n",
      "\u001b[2m\u001b[36m(DefaultActor pid=3417379)\u001b[0m [Client 4] fit, config: {'server_round': 8, 'local_epochs': 3}\n",
      "\u001b[2m\u001b[36m(DefaultActor pid=3417379)\u001b[0m this is the config {'server_round': 8, 'local_epochs': 3}\n",
      "\u001b[2m\u001b[36m(DefaultActor pid=3417377)\u001b[0m Epoch 3/10\u001b[32m [repeated 16x across cluster]\u001b[0m\n",
      "\u001b[1m 1/18\u001b[0m \u001b[32m━\u001b[0m\u001b[37m━━━━━━━━━━━━━━━━━━━\u001b[0m \u001b[1m1s\u001b[0m 72ms/step - accuracy: 0.5700 - loss: 1.1422\u001b[32m [repeated 13x across cluster]\u001b[0m\n",
      "\u001b[2m\u001b[36m(DefaultActor pid=3417379)\u001b[0m [Client 3] evaluate, config: {}\n",
      "\u001b[1m18/18\u001b[0m \u001b[32m━━━━━━━━━━━━━━━━━━━━\u001b[0m\u001b[37m\u001b[0m \u001b[1m1s\u001b[0m 45ms/step - accuracy: 0.6345 - loss: 1.0444\n",
      "\u001b[2m\u001b[36m(DefaultActor pid=3417379)\u001b[0m [Client 3] loss:1.4847891330718994, Client 3 accuracy:0.5299999713897705\n",
      "\u001b[1m11/18\u001b[0m \u001b[32m━━━━━━━━━━━━\u001b[0m\u001b[37m━━━━━━━━\u001b[0m \u001b[1m0s\u001b[0m 44ms/step - accuracy: 0.7458 - loss: 0.7642\u001b[32m [repeated 68x across cluster]\u001b[0m\n",
      "\u001b[1m 3/18\u001b[0m \u001b[32m━━━\u001b[0m\u001b[37m━━━━━━━━━━━━━━━━━\u001b[0m \u001b[1m0s\u001b[0m 35ms/step - accuracy: 0.5967 - loss: 1.2159\u001b[32m [repeated 2x across cluster]\u001b[0m\n",
      "\u001b[1m18/18\u001b[0m \u001b[32m━━━━━━━━━━━━━━━━━━━━\u001b[0m\u001b[37m\u001b[0m \u001b[1m1s\u001b[0m 45ms/step - accuracy: 0.7474 - loss: 0.7639\u001b[32m [repeated 51x across cluster]\u001b[0m\n",
      "\u001b[1m 3/18\u001b[0m \u001b[32m━━━\u001b[0m\u001b[37m━━━━━━━━━━━━━━━━━\u001b[0m \u001b[1m0s\u001b[0m 45ms/step - accuracy: 0.7822 - loss: 0.7122\u001b[32m [repeated 7x across cluster]\u001b[0m\n",
      "\u001b[2m\u001b[36m(DefaultActor pid=3417380)\u001b[0m [Client 3] fit, config: {'server_round': 8, 'local_epochs': 3}\u001b[32m [repeated 4x across cluster]\u001b[0m\n",
      "\u001b[2m\u001b[36m(DefaultActor pid=3417380)\u001b[0m this is the config {'server_round': 8, 'local_epochs': 3}\u001b[32m [repeated 4x across cluster]\u001b[0m\n",
      "\u001b[2m\u001b[36m(DefaultActor pid=3417377)\u001b[0m Epoch 9/10\u001b[32m [repeated 29x across cluster]\u001b[0m\n",
      "\u001b[1m 1/18\u001b[0m \u001b[32m━\u001b[0m\u001b[37m━━━━━━━━━━━━━━━━━━━\u001b[0m \u001b[1m1s\u001b[0m 71ms/step - accuracy: 0.7900 - loss: 0.6327\u001b[32m [repeated 24x across cluster]\u001b[0m\n",
      "\u001b[1m18/18\u001b[0m \u001b[32m━━━━━━━━━━━━━━━━━━━━\u001b[0m\u001b[37m\u001b[0m \u001b[1m1s\u001b[0m 39ms/step - accuracy: 0.7754 - loss: 0.6785\u001b[32m [repeated 4x across cluster]\u001b[0m\n",
      "\u001b[1m12/18\u001b[0m \u001b[32m━━━━━━━━━━━━━\u001b[0m\u001b[37m━━━━━━━\u001b[0m \u001b[1m0s\u001b[0m 27ms/step - accuracy: 0.8130 - loss: 0.5796\u001b[32m [repeated 143x across cluster]\u001b[0m\n"
     ]
    },
    {
     "name": "stderr",
     "output_type": "stream",
     "text": [
      "DEBUG flwr 2024-03-14 19:45:13,049 | server.py:236 | fit_round 8 received 5 results and 0 failures\n",
      "DEBUG flwr 2024-03-14 19:45:13,053 | server.py:173 | evaluate_round 8: strategy sampled 2 clients (out of 5)\n"
     ]
    },
    {
     "name": "stdout",
     "output_type": "stream",
     "text": [
      "\u001b[1m18/18\u001b[0m \u001b[32m━━━━━━━━━━━━━━━━━━━━\u001b[0m\u001b[37m\u001b[0m \u001b[1m0s\u001b[0m 16ms/step - accuracy: 0.8348 - loss: 0.5465\u001b[32m [repeated 63x across cluster]\u001b[0m\n",
      "\u001b[1m 4/18\u001b[0m \u001b[32m━━━━\u001b[0m\u001b[37m━━━━━━━━━━━━━━━━\u001b[0m \u001b[1m0s\u001b[0m 21ms/step - accuracy: 0.8450 - loss: 0.5197\u001b[32m [repeated 4x across cluster]\u001b[0m\n",
      "\u001b[2m\u001b[36m(DefaultActor pid=3417380)\u001b[0m [Client 2] evaluate, config: {}\n",
      "\u001b[2m\u001b[36m(DefaultActor pid=3417380)\u001b[0m [Client 2] loss:1.8162869215011597, Client 2 accuracy:0.48500001430511475\n"
     ]
    },
    {
     "name": "stderr",
     "output_type": "stream",
     "text": [
      "DEBUG flwr 2024-03-14 19:45:13,807 | server.py:187 | evaluate_round 8 received 2 results and 0 failures\n",
      "DEBUG flwr 2024-03-14 19:45:13,808 | server.py:222 | fit_round 9: strategy sampled 5 clients (out of 5)\n"
     ]
    },
    {
     "name": "stdout",
     "output_type": "stream",
     "text": [
      "\u001b[1m7/7\u001b[0m \u001b[32m━━━━━━━━━━━━━━━━━━━━\u001b[0m\u001b[37m\u001b[0m \u001b[1m0s\u001b[0m 2ms/step - accuracy: 0.4979 - loss: 1.3453  \n",
      "\u001b[2m\u001b[36m(DefaultActor pid=3417378)\u001b[0m [Client 0] fit, config: {'server_round': 9, 'local_epochs': 3}\n",
      "\u001b[2m\u001b[36m(DefaultActor pid=3417378)\u001b[0m this is the config {'server_round': 9, 'local_epochs': 3}\n",
      "\u001b[1m 5/18\u001b[0m \u001b[32m━━━━━\u001b[0m\u001b[37m━━━━━━━━━━━━━━━\u001b[0m \u001b[1m0s\u001b[0m 16ms/step - accuracy: 0.6323 - loss: 1.1980  \n",
      "\u001b[2m\u001b[36m(DefaultActor pid=3417377)\u001b[0m Epoch 2/10\u001b[32m [repeated 17x across cluster]\u001b[0m\n",
      "\u001b[1m 1/18\u001b[0m \u001b[32m━\u001b[0m\u001b[37m━━━━━━━━━━━━━━━━━━━\u001b[0m \u001b[1m1s\u001b[0m 74ms/step - accuracy: 0.7500 - loss: 0.7103\u001b[32m [repeated 9x across cluster]\u001b[0m\n",
      "\u001b[1m18/18\u001b[0m \u001b[32m━━━━━━━━━━━━━━━━━━━━\u001b[0m\u001b[37m\u001b[0m \u001b[1m2s\u001b[0m 44ms/step - accuracy: 0.5608 - loss: 1.2337\u001b[32m [repeated 4x across cluster]\u001b[0m\n",
      "\u001b[1m11/18\u001b[0m \u001b[32m━━━━━━━━━━━━\u001b[0m\u001b[37m━━━━━━━━\u001b[0m \u001b[1m0s\u001b[0m 45ms/step - accuracy: 0.6761 - loss: 0.9352\u001b[32m [repeated 40x across cluster]\u001b[0m\n",
      "\u001b[1m18/18\u001b[0m \u001b[32m━━━━━━━━━━━━━━━━━━━━\u001b[0m\u001b[37m\u001b[0m \u001b[1m1s\u001b[0m 45ms/step - accuracy: 0.6706 - loss: 0.9364\u001b[32m [repeated 36x across cluster]\u001b[0m\n",
      "\u001b[1m 2/18\u001b[0m \u001b[32m━━\u001b[0m\u001b[37m━━━━━━━━━━━━━━━━━━\u001b[0m \u001b[1m0s\u001b[0m 51ms/step - accuracy: 0.6950 - loss: 0.9278\u001b[32m [repeated 10x across cluster]\u001b[0m\n",
      "\u001b[2m\u001b[36m(DefaultActor pid=3417378)\u001b[0m [Client 1] evaluate, config: {}\n",
      "\u001b[2m\u001b[36m(DefaultActor pid=3417378)\u001b[0m [Client 1] loss:1.3641053438186646, Client 1 accuracy:0.5149999856948853\n",
      "\u001b[1m 3/18\u001b[0m \u001b[32m━━━\u001b[0m\u001b[37m━━━━━━━━━━━━━━━━━\u001b[0m \u001b[1m0s\u001b[0m 41ms/step - accuracy: 0.5661 - loss: 1.2426\n",
      "\u001b[2m\u001b[36m(DefaultActor pid=3417379)\u001b[0m [Client 4] fit, config: {'server_round': 9, 'local_epochs': 3}\u001b[32m [repeated 4x across cluster]\u001b[0m\n",
      "\u001b[2m\u001b[36m(DefaultActor pid=3417379)\u001b[0m this is the config {'server_round': 9, 'local_epochs': 3}\u001b[32m [repeated 4x across cluster]\u001b[0m\n",
      "\u001b[1m 4/18\u001b[0m \u001b[32m━━━━\u001b[0m\u001b[37m━━━━━━━━━━━━━━━━\u001b[0m \u001b[1m0s\u001b[0m 48ms/step - accuracy: 0.8054 - loss: 0.6306\n",
      "\u001b[2m\u001b[36m(DefaultActor pid=3417377)\u001b[0m Epoch 8/10\u001b[32m [repeated 29x across cluster]\u001b[0m\n",
      "\u001b[1m 1/18\u001b[0m \u001b[32m━\u001b[0m\u001b[37m━━━━━━━━━━━━━━━━━━━\u001b[0m \u001b[1m1s\u001b[0m 72ms/step - accuracy: 0.9100 - loss: 0.3949\u001b[32m [repeated 22x across cluster]\u001b[0m\n",
      "\u001b[1m18/18\u001b[0m \u001b[32m━━━━━━━━━━━━━━━━━━━━\u001b[0m\u001b[37m\u001b[0m \u001b[1m1s\u001b[0m 45ms/step - accuracy: 0.8701 - loss: 0.4619\u001b[32m [repeated 5x across cluster]\u001b[0m\n",
      "\u001b[1m18/18\u001b[0m \u001b[32m━━━━━━━━━━━━━━━━━━━━\u001b[0m\u001b[37m\u001b[0m \u001b[1m1s\u001b[0m 35ms/step - accuracy: 0.8282 - loss: 0.5667\u001b[32m [repeated 132x across cluster]\u001b[0m\n",
      "\u001b[1m 5/18\u001b[0m \u001b[32m━━━━━\u001b[0m\u001b[37m━━━━━━━━━━━━━━━\u001b[0m \u001b[1m0s\u001b[0m 30ms/step - accuracy: 0.8586 - loss: 0.4901\u001b[32m [repeated 73x across cluster]\u001b[0m\n",
      "\u001b[1m 3/18\u001b[0m \u001b[32m━━━\u001b[0m\u001b[37m━━━━━━━━━━━━━━━━━\u001b[0m \u001b[1m0s\u001b[0m 39ms/step - accuracy: 0.8561 - loss: 0.5384\u001b[32m [repeated 8x across cluster]\u001b[0m\n"
     ]
    },
    {
     "name": "stderr",
     "output_type": "stream",
     "text": [
      "DEBUG flwr 2024-03-14 19:45:24,005 | server.py:236 | fit_round 9 received 5 results and 0 failures\n",
      "DEBUG flwr 2024-03-14 19:45:24,009 | server.py:173 | evaluate_round 9: strategy sampled 2 clients (out of 5)\n"
     ]
    },
    {
     "name": "stdout",
     "output_type": "stream",
     "text": [
      "\u001b[2m\u001b[36m(DefaultActor pid=3417379)\u001b[0m [Client 1] evaluate, config: {}\n",
      "\u001b[1m7/7\u001b[0m \u001b[32m━━━━━━━━━━━━━━━━━━━━\u001b[0m\u001b[37m\u001b[0m \u001b[1m0s\u001b[0m 3ms/step - accuracy: 0.5258 - loss: 1.3793  \n",
      "\u001b[2m\u001b[36m(DefaultActor pid=3417379)\u001b[0m [Client 1] loss:1.380986213684082, Client 1 accuracy:0.5249999761581421\n"
     ]
    },
    {
     "name": "stderr",
     "output_type": "stream",
     "text": [
      "DEBUG flwr 2024-03-14 19:45:24,753 | server.py:187 | evaluate_round 9 received 2 results and 0 failures\n",
      "DEBUG flwr 2024-03-14 19:45:24,754 | server.py:222 | fit_round 10: strategy sampled 5 clients (out of 5)\n"
     ]
    },
    {
     "name": "stdout",
     "output_type": "stream",
     "text": [
      "\u001b[2m\u001b[36m(DefaultActor pid=3417375)\u001b[0m [Client 1] fit, config: {'server_round': 10, 'local_epochs': 3}\n",
      "\u001b[2m\u001b[36m(DefaultActor pid=3417375)\u001b[0m this is the config {'server_round': 10, 'local_epochs': 3}\n",
      "\u001b[1m 9/18\u001b[0m \u001b[32m━━━━━━━━━━\u001b[0m\u001b[37m━━━━━━━━━━\u001b[0m \u001b[1m0s\u001b[0m 16ms/step - accuracy: 0.6280 - loss: 1.0643 \n",
      "\u001b[1m 7/18\u001b[0m \u001b[32m━━━━━━━\u001b[0m\u001b[37m━━━━━━━━━━━━━\u001b[0m \u001b[1m0s\u001b[0m 22ms/step - accuracy: 0.6274 - loss: 1.1339\n",
      "\u001b[2m\u001b[36m(DefaultActor pid=3417375)\u001b[0m Epoch 2/10\u001b[32m [repeated 17x across cluster]\u001b[0m\n",
      "\u001b[1m 1/18\u001b[0m \u001b[32m━\u001b[0m\u001b[37m━━━━━━━━━━━━━━━━━━━\u001b[0m \u001b[1m0s\u001b[0m 56ms/step - accuracy: 0.7900 - loss: 0.7115\u001b[32m [repeated 9x across cluster]\u001b[0m\n",
      "\u001b[1m18/18\u001b[0m \u001b[32m━━━━━━━━━━━━━━━━━━━━\u001b[0m\u001b[37m\u001b[0m \u001b[1m1s\u001b[0m 29ms/step - accuracy: 0.7795 - loss: 0.6639\u001b[32m [repeated 4x across cluster]\u001b[0m\n",
      "\u001b[1m18/18\u001b[0m \u001b[32m━━━━━━━━━━━━━━━━━━━━\u001b[0m\u001b[37m\u001b[0m \u001b[1m1s\u001b[0m 30ms/step - accuracy: 0.7299 - loss: 0.7871\u001b[32m [repeated 27x across cluster]\u001b[0m\n",
      "\u001b[1m 7/18\u001b[0m \u001b[32m━━━━━━━\u001b[0m\u001b[37m━━━━━━━━━━━━━\u001b[0m \u001b[1m0s\u001b[0m 38ms/step - accuracy: 0.7780 - loss: 0.6790\u001b[32m [repeated 34x across cluster]\u001b[0m\n",
      "\u001b[1m 3/18\u001b[0m \u001b[32m━━━\u001b[0m\u001b[37m━━━━━━━━━━━━━━━━━\u001b[0m \u001b[1m0s\u001b[0m 28ms/step - accuracy: 0.8072 - loss: 0.5981\u001b[32m [repeated 6x across cluster]\u001b[0m\n",
      "\u001b[2m\u001b[36m(DefaultActor pid=3417375)\u001b[0m [Client 3] evaluate, config: {}\n",
      "\u001b[1m 3/18\u001b[0m \u001b[32m━━━\u001b[0m\u001b[37m━━━━━━━━━━━━━━━━━\u001b[0m \u001b[1m0s\u001b[0m 46ms/step - accuracy: 0.6167 - loss: 1.1619\n",
      "\u001b[2m\u001b[36m(DefaultActor pid=3417375)\u001b[0m [Client 3] loss:1.530112624168396, Client 3 accuracy:0.550000011920929\n",
      "\u001b[2m\u001b[36m(DefaultActor pid=3417378)\u001b[0m [Client 4] fit, config: {'server_round': 10, 'local_epochs': 3}\u001b[32m [repeated 4x across cluster]\u001b[0m\n",
      "\u001b[2m\u001b[36m(DefaultActor pid=3417378)\u001b[0m this is the config {'server_round': 10, 'local_epochs': 3}\u001b[32m [repeated 4x across cluster]\u001b[0m\n",
      "\u001b[1m 5/18\u001b[0m \u001b[32m━━━━━\u001b[0m\u001b[37m━━━━━━━━━━━━━━━\u001b[0m \u001b[1m0s\u001b[0m 38ms/step - accuracy: 0.6648 - loss: 0.9934\n",
      "\u001b[2m\u001b[36m(DefaultActor pid=3417379)\u001b[0m Epoch 9/10\u001b[32m [repeated 27x across cluster]\u001b[0m\n",
      "\u001b[1m 1/18\u001b[0m \u001b[32m━\u001b[0m\u001b[37m━━━━━━━━━━━━━━━━━━━\u001b[0m \u001b[1m1s\u001b[0m 79ms/step - accuracy: 0.8900 - loss: 0.3801\u001b[32m [repeated 26x across cluster]\u001b[0m\n",
      "\u001b[1m18/18\u001b[0m \u001b[32m━━━━━━━━━━━━━━━━━━━━\u001b[0m\u001b[37m\u001b[0m \u001b[1m1s\u001b[0m 45ms/step - accuracy: 0.7786 - loss: 0.6430\u001b[32m [repeated 2x across cluster]\u001b[0m\n",
      "\u001b[1m17/18\u001b[0m \u001b[32m━━━━━━━━━━━━━━━━━━\u001b[0m\u001b[37m━━\u001b[0m \u001b[1m0s\u001b[0m 48ms/step - accuracy: 0.8700 - loss: 0.4306\u001b[32m [repeated 136x across cluster]\u001b[0m\n",
      "\u001b[1m 5/18\u001b[0m \u001b[32m━━━━━\u001b[0m\u001b[37m━━━━━━━━━━━━━━━\u001b[0m \u001b[1m0s\u001b[0m 53ms/step - accuracy: 0.9116 - loss: 0.3915\u001b[32m [repeated 74x across cluster]\u001b[0m\n",
      "\u001b[1m 3/18\u001b[0m \u001b[32m━━━\u001b[0m\u001b[37m━━━━━━━━━━━━━━━━━\u001b[0m \u001b[1m0s\u001b[0m 39ms/step - accuracy: 0.8239 - loss: 0.6277\u001b[32m [repeated 4x across cluster]\u001b[0m\n"
     ]
    },
    {
     "name": "stderr",
     "output_type": "stream",
     "text": [
      "DEBUG flwr 2024-03-14 19:45:35,079 | server.py:236 | fit_round 10 received 5 results and 0 failures\n",
      "DEBUG flwr 2024-03-14 19:45:35,083 | server.py:173 | evaluate_round 10: strategy sampled 2 clients (out of 5)\n"
     ]
    },
    {
     "name": "stdout",
     "output_type": "stream",
     "text": [
      "\u001b[2m\u001b[36m(DefaultActor pid=3417378)\u001b[0m [Client 2] evaluate, config: {}\n",
      "\u001b[2m\u001b[36m(DefaultActor pid=3417378)\u001b[0m [Client 2] loss:2.097696304321289, Client 2 accuracy:0.47999998927116394\n"
     ]
    },
    {
     "name": "stderr",
     "output_type": "stream",
     "text": [
      "DEBUG flwr 2024-03-14 19:45:35,775 | server.py:187 | evaluate_round 10 received 2 results and 0 failures\n",
      "INFO flwr 2024-03-14 19:45:35,775 | server.py:153 | FL finished in 113.87713180098217\n",
      "INFO flwr 2024-03-14 19:45:35,776 | app.py:226 | app_fit: losses_distributed [(1, 1.7902809381484985), (2, 1.4459488987922668), (3, 1.4834538102149963), (4, 1.3314933776855469), (5, 1.3786522150039673), (6, 1.4523050785064697), (7, 1.4489492774009705), (8, 1.590196132659912), (9, 1.455549418926239), (10, 1.880920946598053)]\n",
      "INFO flwr 2024-03-14 19:45:35,776 | app.py:227 | app_fit: metrics_distributed_fit {}\n",
      "INFO flwr 2024-03-14 19:45:35,776 | app.py:228 | app_fit: metrics_distributed {'accuracy': [(1, 0.3475000113248825), (2, 0.47749999165534973), (3, 0.46000000834465027), (4, 0.5250000059604645), (5, 0.48499999940395355), (6, 0.502499982714653), (7, 0.5074999928474426), (8, 0.5), (9, 0.5374999940395355), (10, 0.5249999910593033)]}\n",
      "INFO flwr 2024-03-14 19:45:35,777 | app.py:229 | app_fit: losses_centralized []\n",
      "INFO flwr 2024-03-14 19:45:35,777 | app.py:230 | app_fit: metrics_centralized {}\n"
     ]
    }
   ],
   "source": [
    "NUM_ROUNDS = 10\n",
    "FRACTION_FIT = 0.6\n",
    "\n",
    "strategy = fl.server.strategy.FedAvg(\n",
    "    fraction_fit=FRACTION_FIT, \n",
    "    fraction_evaluate=0.5,  # Sample 50% of available clients for evaluation\n",
    "    min_fit_clients=NUM_CLIENTS,  # Never sample less than NUM_CLIENTS clients for training\n",
    "    min_evaluate_clients=NUM_CLIENTS//2,  # Never sample less than NUM_CLIENTS//2 clients for evaluation\n",
    "    min_available_clients=NUM_CLIENTS,  # Wait until all NUM_CLIENTS clients are available\n",
    "    initial_parameters=fl.common.ndarrays_to_parameters(params), # Initial parameters\n",
    "    on_fit_config_fn=fit_config,\n",
    "    evaluate_metrics_aggregation_fn=weighted_average\n",
    "\n",
    ")\n",
    "\n",
    "# Start simulation\n",
    "res = fl.simulation.start_simulation(\n",
    "    client_fn=client_fn,\n",
    "    num_clients=NUM_CLIENTS,\n",
    "    config=fl.server.ServerConfig(num_rounds=NUM_ROUNDS),\n",
    "    strategy=strategy,\n",
    ")"
   ]
  },
  {
   "cell_type": "code",
   "execution_count": 15,
   "id": "53f81aaf",
   "metadata": {},
   "outputs": [
    {
     "name": "stderr",
     "output_type": "stream",
     "text": [
      "INFO flwr 2024-03-14 19:53:50,398 | app.py:178 | Starting Flower simulation, config: ServerConfig(num_rounds=8, round_timeout=None)\n",
      "2024-03-14 19:53:53,623\tINFO worker.py:1621 -- Started a local Ray instance.\n",
      "INFO flwr 2024-03-14 19:53:54,495 | app.py:213 | Flower VCE: Ray initialized with resources: {'node:__internal_head__': 1.0, 'accelerator_type:G': 1.0, 'GPU': 2.0, 'object_store_memory': 15111106560.0, 'memory': 30222213120.0, 'node:10.68.58.17': 1.0, 'CPU': 20.0}\n",
      "INFO flwr 2024-03-14 19:53:54,496 | app.py:219 | Optimize your simulation with Flower VCE: https://flower.dev/docs/framework/how-to-run-simulations.html\n",
      "INFO flwr 2024-03-14 19:53:54,496 | app.py:227 | No `client_resources` specified. Using minimal resources for clients.\n",
      "INFO flwr 2024-03-14 19:53:54,497 | app.py:242 | Flower VCE: Resources for each Virtual Client: {'num_cpus': 1, 'num_gpus': 0.0}\n",
      "INFO flwr 2024-03-14 19:53:54,508 | app.py:288 | Flower VCE: Creating VirtualClientEngineActorPool with 20 actors\n",
      "INFO flwr 2024-03-14 19:53:54,509 | server.py:89 | Initializing global parameters\n",
      "INFO flwr 2024-03-14 19:53:54,509 | server.py:272 | Using initial parameters provided by strategy\n",
      "INFO flwr 2024-03-14 19:53:54,510 | server.py:91 | Evaluating initial parameters\n",
      "INFO flwr 2024-03-14 19:53:54,510 | server.py:104 | FL starting\n",
      "DEBUG flwr 2024-03-14 19:53:54,510 | server.py:222 | fit_round 1: strategy sampled 5 clients (out of 5)\n",
      "\u001b[2m\u001b[36m(pid=3459580)\u001b[0m 2024-03-14 19:53:55.695372: I tensorflow/core/util/port.cc:113] oneDNN custom operations are on. You may see slightly different numerical results due to floating-point round-off errors from different computation orders. To turn them off, set the environment variable `TF_ENABLE_ONEDNN_OPTS=0`.\n",
      "\u001b[2m\u001b[36m(pid=3459580)\u001b[0m 2024-03-14 19:53:55.695997: I external/local_tsl/tsl/cuda/cudart_stub.cc:32] Could not find cuda drivers on your machine, GPU will not be used.\n",
      "\u001b[2m\u001b[36m(pid=3459580)\u001b[0m 2024-03-14 19:53:55.699840: I external/local_tsl/tsl/cuda/cudart_stub.cc:32] Could not find cuda drivers on your machine, GPU will not be used.\n",
      "\u001b[2m\u001b[36m(pid=3459567)\u001b[0m 2024-03-14 19:53:55.749294: I tensorflow/core/platform/cpu_feature_guard.cc:210] This TensorFlow binary is optimized to use available CPU instructions in performance-critical operations.\n",
      "\u001b[2m\u001b[36m(pid=3459567)\u001b[0m To enable the following instructions: AVX2 AVX512F AVX512_VNNI FMA, in other operations, rebuild TensorFlow with the appropriate compiler flags.\n",
      "\u001b[2m\u001b[36m(pid=3459580)\u001b[0m 2024-03-14 19:53:56.870237: W tensorflow/compiler/tf2tensorrt/utils/py_utils.cc:38] TF-TRT Warning: Could not find TensorRT\n",
      "\u001b[2m\u001b[36m(DefaultActor pid=3459591)\u001b[0m /home/ana/Documents/ml2-labs/.venv/lib/python3.10/site-packages/keras/src/layers/convolutional/base_conv.py:99: UserWarning: Do not pass an `input_shape`/`input_dim` argument to a layer. When using Sequential models, prefer using an `Input(shape)` object as the first layer in the model instead.\n",
      "\u001b[2m\u001b[36m(DefaultActor pid=3459591)\u001b[0m   super().__init__(\n",
      "\u001b[2m\u001b[36m(DefaultActor pid=3459591)\u001b[0m 2024-03-14 19:53:57.962171: E external/local_xla/xla/stream_executor/cuda/cuda_driver.cc:282] failed call to cuInit: CUDA_ERROR_NO_DEVICE: no CUDA-capable device is detected\n",
      "\u001b[2m\u001b[36m(DefaultActor pid=3459591)\u001b[0m 2024-03-14 19:53:57.962208: I external/local_xla/xla/stream_executor/cuda/cuda_diagnostics.cc:134] retrieving CUDA diagnostic information for host: byte\n",
      "\u001b[2m\u001b[36m(DefaultActor pid=3459591)\u001b[0m 2024-03-14 19:53:57.962213: I external/local_xla/xla/stream_executor/cuda/cuda_diagnostics.cc:141] hostname: byte\n",
      "\u001b[2m\u001b[36m(DefaultActor pid=3459591)\u001b[0m 2024-03-14 19:53:57.962296: I external/local_xla/xla/stream_executor/cuda/cuda_diagnostics.cc:165] libcuda reported version is: 535.161.7\n",
      "\u001b[2m\u001b[36m(DefaultActor pid=3459591)\u001b[0m 2024-03-14 19:53:57.962314: I external/local_xla/xla/stream_executor/cuda/cuda_diagnostics.cc:169] kernel reported version is: 535.161.7\n",
      "\u001b[2m\u001b[36m(DefaultActor pid=3459591)\u001b[0m 2024-03-14 19:53:57.962318: I external/local_xla/xla/stream_executor/cuda/cuda_diagnostics.cc:248] kernel version seems to match DSO: 535.161.7\n",
      "\u001b[2m\u001b[36m(DefaultActor pid=3459591)\u001b[0m /home/ana/Documents/ml2-labs/.venv/lib/python3.10/site-packages/flwr/simulation/ray_transport/ray_actor.py:72: DeprecationWarning:  Ensure your client is of type `flwr.client.Client`. Please convert it using the `.to_client()` method before returning it in the `client_fn` you pass to `start_simulation`. We have applied this conversion on your behalf. Not returning a `Client` might trigger an error in future versions of Flower.\n",
      "\u001b[2m\u001b[36m(DefaultActor pid=3459591)\u001b[0m   client = check_clientfn_returns_client(client_fn(cid))\n"
     ]
    },
    {
     "name": "stdout",
     "output_type": "stream",
     "text": [
      "\u001b[2m\u001b[36m(DefaultActor pid=3459591)\u001b[0m [Client 1] fit, config: {'server_round': 1, 'local_epochs': 3}\n",
      "\u001b[2m\u001b[36m(DefaultActor pid=3459591)\u001b[0m this is the config {'server_round': 1, 'local_epochs': 3}\n",
      "\u001b[2m\u001b[36m(DefaultActor pid=3459591)\u001b[0m Epoch 1/10\n",
      "\u001b[1m 4/18\u001b[0m \u001b[32m━━━━\u001b[0m\u001b[37m━━━━━━━━━━━━━━━━\u001b[0m \u001b[1m0s\u001b[0m 19ms/step - accuracy: 0.1077 - loss: 2.3002  \n",
      "\u001b[1m 9/18\u001b[0m \u001b[32m━━━━━━━━━━\u001b[0m\u001b[37m━━━━━━━━━━\u001b[0m \u001b[1m0s\u001b[0m 20ms/step - accuracy: 0.1020 - loss: 2.3001\n",
      "\u001b[1m12/18\u001b[0m \u001b[32m━━━━━━━━━━━━━\u001b[0m\u001b[37m━━━━━━━\u001b[0m \u001b[1m0s\u001b[0m 22ms/step - accuracy: 0.1033 - loss: 2.2991\n",
      "\u001b[1m 1/18\u001b[0m \u001b[32m━\u001b[0m\u001b[37m━━━━━━━━━━━━━━━━━━━\u001b[0m \u001b[1m17s\u001b[0m 1s/step - accuracy: 0.1200 - loss: 2.2966\n",
      "\u001b[1m 4/18\u001b[0m \u001b[32m━━━━\u001b[0m\u001b[37m━━━━━━━━━━━━━━━━\u001b[0m \u001b[1m0s\u001b[0m 46ms/step - accuracy: 0.1267 - loss: 2.2942\n",
      "\u001b[1m18/18\u001b[0m \u001b[32m━━━━━━━━━━━━━━━━━━━━\u001b[0m\u001b[37m\u001b[0m \u001b[1m1s\u001b[0m 47ms/step - accuracy: 0.1643 - loss: 2.1981\n",
      "\u001b[2m\u001b[36m(DefaultActor pid=3459593)\u001b[0m [Client 4] fit, config: {'server_round': 1, 'local_epochs': 3}\u001b[32m [repeated 4x across cluster]\u001b[0m\n",
      "\u001b[2m\u001b[36m(DefaultActor pid=3459593)\u001b[0m this is the config {'server_round': 1, 'local_epochs': 3}\u001b[32m [repeated 4x across cluster]\u001b[0m\n",
      "\u001b[2m\u001b[36m(DefaultActor pid=3459591)\u001b[0m Epoch 6/10\u001b[32m [repeated 25x across cluster]\u001b[0m\n",
      "\u001b[1m 3/18\u001b[0m \u001b[32m━━━\u001b[0m\u001b[37m━━━━━━━━━━━━━━━━━\u001b[0m \u001b[1m0s\u001b[0m 43ms/step - accuracy: 0.3383 - loss: 1.8113\u001b[32m [repeated 7x across cluster]\u001b[0m\n",
      "\u001b[1m14/18\u001b[0m \u001b[32m━━━━━━━━━━━━━━━\u001b[0m\u001b[37m━━━━━\u001b[0m \u001b[1m0s\u001b[0m 46ms/step - accuracy: 0.3564 - loss: 1.7966\u001b[32m [repeated 69x across cluster]\u001b[0m\n",
      "\u001b[1m10/18\u001b[0m \u001b[32m━━━━━━━━━━━\u001b[0m\u001b[37m━━━━━━━━━\u001b[0m \u001b[1m0s\u001b[0m 45ms/step - accuracy: 0.3833 - loss: 1.6985\u001b[32m [repeated 142x across cluster]\u001b[0m\n",
      "\u001b[1m 1/18\u001b[0m \u001b[32m━\u001b[0m\u001b[37m━━━━━━━━━━━━━━━━━━━\u001b[0m \u001b[1m1s\u001b[0m 78ms/step - accuracy: 0.2500 - loss: 1.8716\u001b[32m [repeated 23x across cluster]\u001b[0m\n",
      "\u001b[1m 5/18\u001b[0m \u001b[32m━━━━━\u001b[0m\u001b[37m━━━━━━━━━━━━━━━\u001b[0m \u001b[1m0s\u001b[0m 44ms/step - accuracy: 0.1059 - loss: 2.3040\n",
      "\u001b[1m18/18\u001b[0m \u001b[32m━━━━━━━━━━━━━━━━━━━━\u001b[0m\u001b[37m\u001b[0m \u001b[1m1s\u001b[0m 46ms/step - accuracy: 0.3853 - loss: 1.6888\u001b[32m [repeated 5x across cluster]\u001b[0m\n"
     ]
    },
    {
     "name": "stderr",
     "output_type": "stream",
     "text": [
      "DEBUG flwr 2024-03-14 19:54:07,654 | server.py:236 | fit_round 1 received 5 results and 0 failures\n",
      "WARNING flwr 2024-03-14 19:54:07,662 | fedavg.py:250 | No fit_metrics_aggregation_fn provided\n",
      "DEBUG flwr 2024-03-14 19:54:07,662 | server.py:173 | evaluate_round 1: strategy sampled 2 clients (out of 5)\n"
     ]
    },
    {
     "name": "stdout",
     "output_type": "stream",
     "text": [
      "\u001b[2m\u001b[36m(DefaultActor pid=3459595)\u001b[0m [Client 2] evaluate, config: {}\n",
      "\u001b[2m\u001b[36m(DefaultActor pid=3459595)\u001b[0m [Client 2] loss:1.7876964807510376, Client 2 accuracy:0.4050000011920929\n",
      "\u001b[2m\u001b[36m(DefaultActor pid=3459595)\u001b[0m Epoch 10/10\u001b[32m [repeated 24x across cluster]\u001b[0m\n"
     ]
    },
    {
     "name": "stderr",
     "output_type": "stream",
     "text": [
      "DEBUG flwr 2024-03-14 19:54:08,565 | server.py:187 | evaluate_round 1 received 2 results and 0 failures\n",
      "DEBUG flwr 2024-03-14 19:54:08,566 | server.py:222 | fit_round 2: strategy sampled 5 clients (out of 5)\n"
     ]
    },
    {
     "name": "stdout",
     "output_type": "stream",
     "text": [
      "\u001b[2m\u001b[36m(DefaultActor pid=3459594)\u001b[0m [Client 2] fit, config: {'server_round': 2, 'local_epochs': 3}\n",
      "\u001b[2m\u001b[36m(DefaultActor pid=3459594)\u001b[0m this is the config {'server_round': 2, 'local_epochs': 3}\n",
      "\u001b[1m7/7\u001b[0m \u001b[32m━━━━━━━━━━━━━━━━━━━━\u001b[0m\u001b[37m\u001b[0m \u001b[1m0s\u001b[0m 3ms/step - accuracy: 0.3953 - loss: 1.6538  \u001b[32m [repeated 5x across cluster]\u001b[0m\n",
      "\u001b[1m18/18\u001b[0m \u001b[32m━━━━━━━━━━━━━━━━━━━━\u001b[0m\u001b[37m\u001b[0m \u001b[1m1s\u001b[0m 37ms/step - accuracy: 0.4281 - loss: 1.5517\u001b[32m [repeated 42x across cluster]\u001b[0m\n",
      "\u001b[1m18/18\u001b[0m \u001b[32m━━━━━━━━━━━━━━━━━━━━\u001b[0m\u001b[37m\u001b[0m \u001b[1m1s\u001b[0m 45ms/step - accuracy: 0.4338 - loss: 1.6025\u001b[32m [repeated 100x across cluster]\u001b[0m\n",
      "\u001b[1m 1/18\u001b[0m \u001b[32m━\u001b[0m\u001b[37m━━━━━━━━━━━━━━━━━━━\u001b[0m \u001b[1m1s\u001b[0m 87ms/step - accuracy: 0.4700 - loss: 1.6310\u001b[32m [repeated 15x across cluster]\u001b[0m\n",
      "\u001b[1m 9/18\u001b[0m \u001b[32m━━━━━━━━━━\u001b[0m\u001b[37m━━━━━━━━━━\u001b[0m \u001b[1m0s\u001b[0m 15ms/step - accuracy: 0.3023 - loss: 1.8729 \n",
      "\u001b[1m18/18\u001b[0m \u001b[32m━━━━━━━━━━━━━━━━━━━━\u001b[0m\u001b[37m\u001b[0m \u001b[1m1s\u001b[0m 29ms/step - accuracy: 0.4079 - loss: 1.6732\u001b[32m [repeated 4x across cluster]\u001b[0m\n",
      "\u001b[1m 3/18\u001b[0m \u001b[32m━━━\u001b[0m\u001b[37m━━━━━━━━━━━━━━━━━\u001b[0m \u001b[1m0s\u001b[0m 36ms/step - accuracy: 0.3256 - loss: 1.7647\n",
      "\u001b[2m\u001b[36m(DefaultActor pid=3459594)\u001b[0m [Client 0] evaluate, config: {}\n",
      "\u001b[2m\u001b[36m(DefaultActor pid=3459594)\u001b[0m [Client 0] loss:1.6778465509414673, Client 0 accuracy:0.4050000011920929\n",
      "\u001b[2m\u001b[36m(DefaultActor pid=3459594)\u001b[0m Epoch 7/10\u001b[32m [repeated 21x across cluster]\u001b[0m\n",
      "\u001b[2m\u001b[36m(DefaultActor pid=3459591)\u001b[0m [Client 4] fit, config: {'server_round': 2, 'local_epochs': 3}\u001b[32m [repeated 4x across cluster]\u001b[0m\n",
      "\u001b[2m\u001b[36m(DefaultActor pid=3459591)\u001b[0m this is the config {'server_round': 2, 'local_epochs': 3}\u001b[32m [repeated 4x across cluster]\u001b[0m\n",
      "\u001b[1m 2/18\u001b[0m \u001b[32m━━\u001b[0m\u001b[37m━━━━━━━━━━━━━━━━━━\u001b[0m \u001b[1m0s\u001b[0m 53ms/step - accuracy: 0.4725 - loss: 1.5234\u001b[32m [repeated 9x across cluster]\u001b[0m\n",
      "\u001b[1m17/18\u001b[0m \u001b[32m━━━━━━━━━━━━━━━━━━\u001b[0m\u001b[37m━━\u001b[0m \u001b[1m0s\u001b[0m 47ms/step - accuracy: 0.4003 - loss: 1.7023\u001b[32m [repeated 58x across cluster]\u001b[0m\n",
      "\u001b[1m18/18\u001b[0m \u001b[32m━━━━━━━━━━━━━━━━━━━━\u001b[0m\u001b[37m\u001b[0m \u001b[1m1s\u001b[0m 47ms/step - accuracy: 0.4006 - loss: 1.6988\u001b[32m [repeated 89x across cluster]\u001b[0m\n",
      "\u001b[1m 1/18\u001b[0m \u001b[32m━\u001b[0m\u001b[37m━━━━━━━━━━━━━━━━━━━\u001b[0m \u001b[1m1s\u001b[0m 70ms/step - accuracy: 0.4500 - loss: 1.5234\u001b[32m [repeated 17x across cluster]\u001b[0m\n",
      "\u001b[1m18/18\u001b[0m \u001b[32m━━━━━━━━━━━━━━━━━━━━\u001b[0m\u001b[37m\u001b[0m \u001b[1m1s\u001b[0m 45ms/step - accuracy: 0.4329 - loss: 1.5771\n",
      "\u001b[2m\u001b[36m(DefaultActor pid=3459591)\u001b[0m Epoch 9/10\u001b[32m [repeated 27x across cluster]\u001b[0m\n"
     ]
    },
    {
     "name": "stderr",
     "output_type": "stream",
     "text": [
      "DEBUG flwr 2024-03-14 19:54:18,968 | server.py:236 | fit_round 2 received 5 results and 0 failures\n",
      "DEBUG flwr 2024-03-14 19:54:18,973 | server.py:173 | evaluate_round 2: strategy sampled 2 clients (out of 5)\n"
     ]
    },
    {
     "name": "stdout",
     "output_type": "stream",
     "text": [
      "\u001b[2m\u001b[36m(DefaultActor pid=3459591)\u001b[0m [Client 2] evaluate, config: {}\n",
      "\u001b[1m 3/18\u001b[0m \u001b[32m━━━\u001b[0m\u001b[37m━━━━━━━━━━━━━━━━━\u001b[0m \u001b[1m0s\u001b[0m 30ms/step - accuracy: 0.5222 - loss: 1.4262\u001b[32m [repeated 9x across cluster]\u001b[0m\n",
      "\u001b[1m18/18\u001b[0m \u001b[32m━━━━━━━━━━━━━━━━━━━━\u001b[0m\u001b[37m\u001b[0m \u001b[1m0s\u001b[0m 12ms/step - accuracy: 0.5011 - loss: 1.3851\u001b[32m [repeated 77x across cluster]\u001b[0m\n"
     ]
    },
    {
     "name": "stderr",
     "output_type": "stream",
     "text": [
      "DEBUG flwr 2024-03-14 19:54:19,731 | server.py:187 | evaluate_round 2 received 2 results and 0 failures\n",
      "DEBUG flwr 2024-03-14 19:54:19,732 | server.py:222 | fit_round 3: strategy sampled 5 clients (out of 5)\n"
     ]
    },
    {
     "name": "stdout",
     "output_type": "stream",
     "text": [
      "\u001b[1m7/7\u001b[0m \u001b[32m━━━━━━━━━━━━━━━━━━━━\u001b[0m\u001b[37m\u001b[0m \u001b[1m0s\u001b[0m 3ms/step - accuracy: 0.4438 - loss: 1.5472  \n",
      "\u001b[2m\u001b[36m(DefaultActor pid=3459591)\u001b[0m [Client 2] loss:1.552259087562561, Client 2 accuracy:0.4399999976158142\n",
      "\u001b[1m18/18\u001b[0m \u001b[32m━━━━━━━━━━━━━━━━━━━━\u001b[0m\u001b[37m\u001b[0m \u001b[1m0s\u001b[0m 21ms/step - accuracy: 0.5074 - loss: 1.3892\u001b[32m [repeated 79x across cluster]\u001b[0m\n",
      "\u001b[1m1/7\u001b[0m \u001b[32m━━\u001b[0m\u001b[37m━━━━━━━━━━━━━━━━━━\u001b[0m \u001b[1m1s\u001b[0m 173ms/step - accuracy: 0.3750 - loss: 1.5106\u001b[32m [repeated 17x across cluster]\u001b[0m\n",
      "\u001b[2m\u001b[36m(DefaultActor pid=3459592)\u001b[0m [Client 3] fit, config: {'server_round': 3, 'local_epochs': 3}\n",
      "\u001b[2m\u001b[36m(DefaultActor pid=3459592)\u001b[0m this is the config {'server_round': 3, 'local_epochs': 3}\n",
      "\u001b[1m 7/18\u001b[0m \u001b[32m━━━━━━━\u001b[0m\u001b[37m━━━━━━━━━━━━━\u001b[0m \u001b[1m0s\u001b[0m 21ms/step - accuracy: 0.4208 - loss: 1.5691\n",
      "\u001b[1m18/18\u001b[0m \u001b[32m━━━━━━━━━━━━━━━━━━━━\u001b[0m\u001b[37m\u001b[0m \u001b[1m0s\u001b[0m 18ms/step - accuracy: 0.4459 - loss: 1.5548\n",
      "\u001b[2m\u001b[36m(DefaultActor pid=3459593)\u001b[0m Epoch 3/10\u001b[32m [repeated 18x across cluster]\u001b[0m\n",
      "\u001b[2m\u001b[36m(DefaultActor pid=3459592)\u001b[0m [Client 1] evaluate, config: {}\n",
      "\u001b[1m 2/18\u001b[0m \u001b[32m━━\u001b[0m\u001b[37m━━━━━━━━━━━━━━━━━━\u001b[0m \u001b[1m0s\u001b[0m 56ms/step - accuracy: 0.4725 - loss: 1.5149\u001b[32m [repeated 7x across cluster]\u001b[0m\n",
      "\u001b[1m16/18\u001b[0m \u001b[32m━━━━━━━━━━━━━━━━━\u001b[0m\u001b[37m━━━\u001b[0m \u001b[1m0s\u001b[0m 44ms/step - accuracy: 0.5192 - loss: 1.3093\u001b[32m [repeated 40x across cluster]\u001b[0m\n",
      "\u001b[1m 3/18\u001b[0m \u001b[32m━━━\u001b[0m\u001b[37m━━━━━━━━━━━━━━━━━\u001b[0m \u001b[1m0s\u001b[0m 41ms/step - accuracy: 0.4700 - loss: 1.4688\u001b[32m [repeated 3x across cluster]\u001b[0m\n",
      "\u001b[2m\u001b[36m(DefaultActor pid=3459592)\u001b[0m [Client 1] loss:1.488162875175476, Client 1 accuracy:0.48500001430511475\n",
      "\u001b[1m 3/18\u001b[0m \u001b[32m━━━\u001b[0m\u001b[37m━━━━━━━━━━━━━━━━━\u001b[0m \u001b[1m0s\u001b[0m 49ms/step - accuracy: 0.5594 - loss: 1.3195\u001b[32m [repeated 66x across cluster]\u001b[0m\n",
      "\u001b[1m 1/18\u001b[0m \u001b[32m━\u001b[0m\u001b[37m━━━━━━━━━━━━━━━━━━━\u001b[0m \u001b[1m1s\u001b[0m 92ms/step - accuracy: 0.5500 - loss: 1.3698\u001b[32m [repeated 15x across cluster]\u001b[0m\n",
      "\u001b[2m\u001b[36m(DefaultActor pid=3459594)\u001b[0m [Client 0] fit, config: {'server_round': 3, 'local_epochs': 3}\u001b[32m [repeated 4x across cluster]\u001b[0m\n",
      "\u001b[2m\u001b[36m(DefaultActor pid=3459594)\u001b[0m this is the config {'server_round': 3, 'local_epochs': 3}\u001b[32m [repeated 4x across cluster]\u001b[0m\n",
      "\u001b[1m18/18\u001b[0m \u001b[32m━━━━━━━━━━━━━━━━━━━━\u001b[0m\u001b[37m\u001b[0m \u001b[1m1s\u001b[0m 47ms/step - accuracy: 0.5337 - loss: 1.2841\u001b[32m [repeated 4x across cluster]\u001b[0m\n",
      "\u001b[2m\u001b[36m(DefaultActor pid=3459593)\u001b[0m Epoch 9/10\u001b[32m [repeated 28x across cluster]\u001b[0m\n",
      "\u001b[1m 3/18\u001b[0m \u001b[32m━━━\u001b[0m\u001b[37m━━━━━━━━━━━━━━━━━\u001b[0m \u001b[1m0s\u001b[0m 25ms/step - accuracy: 0.5489 - loss: 1.3008\u001b[32m [repeated 7x across cluster]\u001b[0m\n",
      "\u001b[1m 9/18\u001b[0m \u001b[32m━━━━━━━━━━\u001b[0m\u001b[37m━━━━━━━━━━\u001b[0m \u001b[1m0s\u001b[0m 20ms/step - accuracy: 0.5613 - loss: 1.2380\u001b[32m [repeated 76x across cluster]\u001b[0m\n"
     ]
    },
    {
     "name": "stderr",
     "output_type": "stream",
     "text": [
      "DEBUG flwr 2024-03-14 19:54:29,956 | server.py:236 | fit_round 3 received 5 results and 0 failures\n",
      "DEBUG flwr 2024-03-14 19:54:29,961 | server.py:173 | evaluate_round 3: strategy sampled 2 clients (out of 5)\n"
     ]
    },
    {
     "name": "stdout",
     "output_type": "stream",
     "text": [
      "\u001b[1m 9/18\u001b[0m \u001b[32m━━━━━━━━━━\u001b[0m\u001b[37m━━━━━━━━━━\u001b[0m \u001b[1m0s\u001b[0m 23ms/step - accuracy: 0.5788 - loss: 1.2234\u001b[32m [repeated 106x across cluster]\u001b[0m\n",
      "\u001b[1m 1/18\u001b[0m \u001b[32m━\u001b[0m\u001b[37m━━━━━━━━━━━━━━━━━━━\u001b[0m \u001b[1m1s\u001b[0m 65ms/step - accuracy: 0.5300 - loss: 1.2095\u001b[32m [repeated 20x across cluster]\u001b[0m\n",
      "\u001b[2m\u001b[36m(DefaultActor pid=3459594)\u001b[0m [Client 1] evaluate, config: {}\n",
      "\u001b[1m7/7\u001b[0m \u001b[32m━━━━━━━━━━━━━━━━━━━━\u001b[0m\u001b[37m\u001b[0m \u001b[1m0s\u001b[0m 3ms/step - accuracy: 0.4903 - loss: 1.3846  \n",
      "\u001b[2m\u001b[36m(DefaultActor pid=3459594)\u001b[0m [Client 1] loss:1.3631172180175781, Client 1 accuracy:0.5299999713897705\n"
     ]
    },
    {
     "name": "stderr",
     "output_type": "stream",
     "text": [
      "DEBUG flwr 2024-03-14 19:54:30,837 | server.py:187 | evaluate_round 3 received 2 results and 0 failures\n",
      "DEBUG flwr 2024-03-14 19:54:30,837 | server.py:222 | fit_round 4: strategy sampled 5 clients (out of 5)\n"
     ]
    },
    {
     "name": "stdout",
     "output_type": "stream",
     "text": [
      "\u001b[2m\u001b[36m(DefaultActor pid=3459595)\u001b[0m [Client 4] fit, config: {'server_round': 4, 'local_epochs': 3}\n",
      "\u001b[2m\u001b[36m(DefaultActor pid=3459595)\u001b[0m this is the config {'server_round': 4, 'local_epochs': 3}\n",
      "\u001b[1m18/18\u001b[0m \u001b[32m━━━━━━━━━━━━━━━━━━━━\u001b[0m\u001b[37m\u001b[0m \u001b[1m1s\u001b[0m 27ms/step - accuracy: 0.5630 - loss: 1.2203\u001b[32m [repeated 6x across cluster]\u001b[0m\n",
      "\u001b[1m 7/18\u001b[0m \u001b[32m━━━━━━━\u001b[0m\u001b[37m━━━━━━━━━━━━━\u001b[0m \u001b[1m0s\u001b[0m 23ms/step - accuracy: 0.4828 - loss: 1.4637\n",
      "\u001b[2m\u001b[36m(DefaultActor pid=3459595)\u001b[0m Epoch 5/10\u001b[32m [repeated 16x across cluster]\u001b[0m\n",
      "\u001b[1m 2/18\u001b[0m \u001b[32m━━\u001b[0m\u001b[37m━━━━━━━━━━━━━━━━━━\u001b[0m \u001b[1m0s\u001b[0m 51ms/step - accuracy: 0.4825 - loss: 1.4070\u001b[32m [repeated 7x across cluster]\u001b[0m\n",
      "\u001b[1m 5/18\u001b[0m \u001b[32m━━━━━\u001b[0m\u001b[37m━━━━━━━━━━━━━━━\u001b[0m \u001b[1m0s\u001b[0m 43ms/step - accuracy: 0.5969 - loss: 1.2056\u001b[32m [repeated 28x across cluster]\u001b[0m\n",
      "\u001b[1m 6/18\u001b[0m \u001b[32m━━━━━━\u001b[0m\u001b[37m━━━━━━━━━━━━━━\u001b[0m \u001b[1m0s\u001b[0m 49ms/step - accuracy: 0.4884 - loss: 1.3913\u001b[32m [repeated 39x across cluster]\u001b[0m\n",
      "\u001b[1m 1/18\u001b[0m \u001b[32m━\u001b[0m\u001b[37m━━━━━━━━━━━━━━━━━━━\u001b[0m \u001b[1m1s\u001b[0m 89ms/step - accuracy: 0.5500 - loss: 1.3749\u001b[32m [repeated 12x across cluster]\u001b[0m\n",
      "\u001b[2m\u001b[36m(DefaultActor pid=3459595)\u001b[0m [Client 4] evaluate, config: {}\n",
      "\u001b[1m 3/18\u001b[0m \u001b[32m━━━\u001b[0m\u001b[37m━━━━━━━━━━━━━━━━━\u001b[0m \u001b[1m0s\u001b[0m 45ms/step - accuracy: 0.5133 - loss: 1.4518\n",
      "\u001b[2m\u001b[36m(DefaultActor pid=3459595)\u001b[0m [Client 4] loss:1.4705699682235718, Client 4 accuracy:0.4350000023841858\n",
      "\u001b[2m\u001b[36m(DefaultActor pid=3459592)\u001b[0m [Client 1] fit, config: {'server_round': 4, 'local_epochs': 3}\u001b[32m [repeated 4x across cluster]\u001b[0m\n",
      "\u001b[2m\u001b[36m(DefaultActor pid=3459592)\u001b[0m this is the config {'server_round': 4, 'local_epochs': 3}\u001b[32m [repeated 4x across cluster]\u001b[0m\n",
      "\u001b[1m18/18\u001b[0m \u001b[32m━━━━━━━━━━━━━━━━━━━━\u001b[0m\u001b[37m\u001b[0m \u001b[1m3s\u001b[0m 46ms/step - accuracy: 0.4861 - loss: 1.4660\u001b[32m [repeated 4x across cluster]\u001b[0m\n",
      "\u001b[2m\u001b[36m(DefaultActor pid=3459594)\u001b[0m Epoch 9/10\u001b[32m [repeated 27x across cluster]\u001b[0m\n",
      "\u001b[1m 3/18\u001b[0m \u001b[32m━━━\u001b[0m\u001b[37m━━━━━━━━━━━━━━━━━\u001b[0m \u001b[1m0s\u001b[0m 28ms/step - accuracy: 0.5767 - loss: 1.1545\u001b[32m [repeated 4x across cluster]\u001b[0m\n",
      "\u001b[1m 7/18\u001b[0m \u001b[32m━━━━━━━\u001b[0m\u001b[37m━━━━━━━━━━━━━\u001b[0m \u001b[1m0s\u001b[0m 36ms/step - accuracy: 0.5762 - loss: 1.1831\u001b[32m [repeated 67x across cluster]\u001b[0m\n",
      "\u001b[1m15/18\u001b[0m \u001b[32m━━━━━━━━━━━━━━━━\u001b[0m\u001b[37m━━━━\u001b[0m \u001b[1m0s\u001b[0m 36ms/step - accuracy: 0.6673 - loss: 1.0130\u001b[32m [repeated 139x across cluster]\u001b[0m\n",
      "\u001b[1m 1/18\u001b[0m \u001b[32m━\u001b[0m\u001b[37m━━━━━━━━━━━━━━━━━━━\u001b[0m \u001b[1m1s\u001b[0m 70ms/step - accuracy: 0.6000 - loss: 1.1321\u001b[32m [repeated 24x across cluster]\u001b[0m\n"
     ]
    },
    {
     "name": "stderr",
     "output_type": "stream",
     "text": [
      "DEBUG flwr 2024-03-14 19:54:41,135 | server.py:236 | fit_round 4 received 5 results and 0 failures\n",
      "DEBUG flwr 2024-03-14 19:54:41,144 | server.py:173 | evaluate_round 4: strategy sampled 2 clients (out of 5)\n"
     ]
    },
    {
     "name": "stdout",
     "output_type": "stream",
     "text": [
      "\u001b[2m\u001b[36m(DefaultActor pid=3459592)\u001b[0m [Client 4] evaluate, config: {}\n",
      "\u001b[2m\u001b[36m(DefaultActor pid=3459592)\u001b[0m [Client 4] loss:1.4230791330337524, Client 4 accuracy:0.4749999940395355\n",
      "\u001b[1m18/18\u001b[0m \u001b[32m━━━━━━━━━━━━━━━━━━━━\u001b[0m\u001b[37m\u001b[0m \u001b[1m1s\u001b[0m 40ms/step - accuracy: 0.5745 - loss: 1.1872\u001b[32m [repeated 4x across cluster]\u001b[0m\n"
     ]
    },
    {
     "name": "stderr",
     "output_type": "stream",
     "text": [
      "DEBUG flwr 2024-03-14 19:54:42,000 | server.py:187 | evaluate_round 4 received 2 results and 0 failures\n",
      "DEBUG flwr 2024-03-14 19:54:42,000 | server.py:222 | fit_round 5: strategy sampled 5 clients (out of 5)\n"
     ]
    },
    {
     "name": "stdout",
     "output_type": "stream",
     "text": [
      "\u001b[2m\u001b[36m(DefaultActor pid=3459591)\u001b[0m [Client 2] fit, config: {'server_round': 5, 'local_epochs': 3}\n",
      "\u001b[2m\u001b[36m(DefaultActor pid=3459591)\u001b[0m this is the config {'server_round': 5, 'local_epochs': 3}\n",
      "\u001b[2m\u001b[36m(DefaultActor pid=3459591)\u001b[0m Epoch 2/10\u001b[32m [repeated 18x across cluster]\u001b[0m\n",
      "\u001b[1m 5/18\u001b[0m \u001b[32m━━━━━\u001b[0m\u001b[37m━━━━━━━━━━━━━━━\u001b[0m \u001b[1m0s\u001b[0m 31ms/step - accuracy: 0.4866 - loss: 1.5450\n",
      "\u001b[1m 4/18\u001b[0m \u001b[32m━━━━\u001b[0m\u001b[37m━━━━━━━━━━━━━━━━\u001b[0m \u001b[1m0s\u001b[0m 21ms/step - accuracy: 0.5235 - loss: 1.3973\u001b[32m [repeated 6x across cluster]\u001b[0m\n",
      "\u001b[1m17/18\u001b[0m \u001b[32m━━━━━━━━━━━━━━━━━━\u001b[0m\u001b[37m━━\u001b[0m \u001b[1m0s\u001b[0m 26ms/step - accuracy: 0.5997 - loss: 1.1307\u001b[32m [repeated 33x across cluster]\u001b[0m\n",
      "\u001b[1m 7/18\u001b[0m \u001b[32m━━━━━━━\u001b[0m\u001b[37m━━━━━━━━━━━━━\u001b[0m \u001b[1m0s\u001b[0m 34ms/step - accuracy: 0.5853 - loss: 1.1368\u001b[32m [repeated 31x across cluster]\u001b[0m\n",
      "\u001b[1m 1/18\u001b[0m \u001b[32m━\u001b[0m\u001b[37m━━━━━━━━━━━━━━━━━━━\u001b[0m \u001b[1m1s\u001b[0m 59ms/step - accuracy: 0.5100 - loss: 1.3111\u001b[32m [repeated 11x across cluster]\u001b[0m\n",
      "\u001b[1m 2/18\u001b[0m \u001b[32m━━\u001b[0m\u001b[37m━━━━━━━━━━━━━━━━━━\u001b[0m \u001b[1m0s\u001b[0m 58ms/step - accuracy: 0.5325 - loss: 1.3582\n",
      "\u001b[2m\u001b[36m(DefaultActor pid=3459591)\u001b[0m [Client 2] evaluate, config: {}\n",
      "\u001b[2m\u001b[36m(DefaultActor pid=3459591)\u001b[0m [Client 2] loss:1.537144660949707, Client 2 accuracy:0.49000000953674316\n",
      "\u001b[1m18/18\u001b[0m \u001b[32m━━━━━━━━━━━━━━━━━━━━\u001b[0m\u001b[37m\u001b[0m \u001b[1m1s\u001b[0m 28ms/step - accuracy: 0.5422 - loss: 1.2618\n",
      "\u001b[1m18/18\u001b[0m \u001b[32m━━━━━━━━━━━━━━━━━━━━\u001b[0m\u001b[37m\u001b[0m \u001b[1m1s\u001b[0m 44ms/step - accuracy: 0.6371 - loss: 1.0901\n",
      "\u001b[2m\u001b[36m(DefaultActor pid=3459595)\u001b[0m [Client 4] fit, config: {'server_round': 5, 'local_epochs': 3}\u001b[32m [repeated 4x across cluster]\u001b[0m\n",
      "\u001b[2m\u001b[36m(DefaultActor pid=3459595)\u001b[0m this is the config {'server_round': 5, 'local_epochs': 3}\u001b[32m [repeated 4x across cluster]\u001b[0m\n",
      "\u001b[2m\u001b[36m(DefaultActor pid=3459593)\u001b[0m Epoch 6/10\u001b[32m [repeated 26x across cluster]\u001b[0m\n",
      "\u001b[1m 5/18\u001b[0m \u001b[32m━━━━━\u001b[0m\u001b[37m━━━━━━━━━━━━━━━\u001b[0m \u001b[1m0s\u001b[0m 41ms/step - accuracy: 0.5152 - loss: 1.3586\n",
      "\u001b[1m 2/18\u001b[0m \u001b[32m━━\u001b[0m\u001b[37m━━━━━━━━━━━━━━━━━━\u001b[0m \u001b[1m0s\u001b[0m 52ms/step - accuracy: 0.6750 - loss: 0.9546\u001b[32m [repeated 7x across cluster]\u001b[0m\n",
      "\u001b[1m12/18\u001b[0m \u001b[32m━━━━━━━━━━━━━\u001b[0m\u001b[37m━━━━━━━\u001b[0m \u001b[1m0s\u001b[0m 46ms/step - accuracy: 0.6377 - loss: 1.0674\u001b[32m [repeated 77x across cluster]\u001b[0m\n",
      "\u001b[1m 7/18\u001b[0m \u001b[32m━━━━━━━\u001b[0m\u001b[37m━━━━━━━━━━━━━\u001b[0m \u001b[1m0s\u001b[0m 35ms/step - accuracy: 0.6422 - loss: 1.0529\u001b[32m [repeated 130x across cluster]\u001b[0m\n",
      "\u001b[1m 1/18\u001b[0m \u001b[32m━\u001b[0m\u001b[37m━━━━━━━━━━━━━━━━━━━\u001b[0m \u001b[1m1s\u001b[0m 90ms/step - accuracy: 0.6100 - loss: 1.1107\u001b[32m [repeated 22x across cluster]\u001b[0m\n"
     ]
    },
    {
     "name": "stderr",
     "output_type": "stream",
     "text": [
      "DEBUG flwr 2024-03-14 19:54:52,307 | server.py:236 | fit_round 5 received 5 results and 0 failures\n",
      "DEBUG flwr 2024-03-14 19:54:52,311 | server.py:173 | evaluate_round 5: strategy sampled 2 clients (out of 5)\n"
     ]
    },
    {
     "name": "stdout",
     "output_type": "stream",
     "text": [
      "\u001b[2m\u001b[36m(DefaultActor pid=3459595)\u001b[0m [Client 4] evaluate, config: {}\n",
      "\u001b[1m18/18\u001b[0m \u001b[32m━━━━━━━━━━━━━━━━━━━━\u001b[0m\u001b[37m\u001b[0m \u001b[1m0s\u001b[0m 12ms/step - accuracy: 0.6938 - loss: 0.8866\u001b[32m [repeated 6x across cluster]\u001b[0m\n",
      "\u001b[2m\u001b[36m(DefaultActor pid=3459595)\u001b[0m [Client 4] loss:1.4467906951904297, Client 4 accuracy:0.47999998927116394\n"
     ]
    },
    {
     "name": "stderr",
     "output_type": "stream",
     "text": [
      "DEBUG flwr 2024-03-14 19:54:53,135 | server.py:187 | evaluate_round 5 received 2 results and 0 failures\n",
      "DEBUG flwr 2024-03-14 19:54:53,136 | server.py:222 | fit_round 6: strategy sampled 5 clients (out of 5)\n"
     ]
    },
    {
     "name": "stdout",
     "output_type": "stream",
     "text": [
      "\u001b[2m\u001b[36m(DefaultActor pid=3459594)\u001b[0m [Client 2] fit, config: {'server_round': 6, 'local_epochs': 3}\n",
      "\u001b[2m\u001b[36m(DefaultActor pid=3459594)\u001b[0m this is the config {'server_round': 6, 'local_epochs': 3}\n",
      "\u001b[2m\u001b[36m(DefaultActor pid=3459595)\u001b[0m Epoch 1/10\u001b[32m [repeated 21x across cluster]\u001b[0m\n",
      "\u001b[1m 5/18\u001b[0m \u001b[32m━━━━━\u001b[0m\u001b[37m━━━━━━━━━━━━━━━\u001b[0m \u001b[1m0s\u001b[0m 15ms/step - accuracy: 0.5063 - loss: 1.4593\n",
      "\u001b[1m7/7\u001b[0m \u001b[32m━━━━━━━━━━━━━━━━━━━━\u001b[0m\u001b[37m\u001b[0m \u001b[1m0s\u001b[0m 3ms/step - accuracy: 0.5315 - loss: 1.3961  \u001b[32m [repeated 7x across cluster]\u001b[0m\n",
      "\u001b[1m18/18\u001b[0m \u001b[32m━━━━━━━━━━━━━━━━━━━━\u001b[0m\u001b[37m\u001b[0m \u001b[1m1s\u001b[0m 15ms/step - accuracy: 0.5169 - loss: 1.4058\u001b[32m [repeated 39x across cluster]\u001b[0m\n",
      "\u001b[1m13/18\u001b[0m \u001b[32m━━━━━━━━━━━━━━\u001b[0m\u001b[37m━━━━━━\u001b[0m \u001b[1m0s\u001b[0m 15ms/step - accuracy: 0.5913 - loss: 1.1953\u001b[32m [repeated 26x across cluster]\u001b[0m\n",
      "\u001b[1m 1/18\u001b[0m \u001b[32m━\u001b[0m\u001b[37m━━━━━━━━━━━━━━━━━━━\u001b[0m \u001b[1m0s\u001b[0m 32ms/step - accuracy: 0.6200 - loss: 1.1555\u001b[32m [repeated 9x across cluster]\u001b[0m\n",
      "\u001b[1m 5/18\u001b[0m \u001b[32m━━━━━\u001b[0m\u001b[37m━━━━━━━━━━━━━━━\u001b[0m \u001b[1m0s\u001b[0m 37ms/step - accuracy: 0.5289 - loss: 1.3164\n",
      "\u001b[2m\u001b[36m(DefaultActor pid=3459594)\u001b[0m [Client 3] evaluate, config: {}\n",
      "\u001b[1m18/18\u001b[0m \u001b[32m━━━━━━━━━━━━━━━━━━━━\u001b[0m\u001b[37m\u001b[0m \u001b[1m1s\u001b[0m 44ms/step - accuracy: 0.6338 - loss: 1.0316\u001b[32m [repeated 4x across cluster]\u001b[0m\n",
      "\u001b[2m\u001b[36m(DefaultActor pid=3459594)\u001b[0m [Client 3] loss:1.4177707433700562, Client 3 accuracy:0.5199999809265137\n",
      "\u001b[2m\u001b[36m(DefaultActor pid=3459591)\u001b[0m [Client 1] fit, config: {'server_round': 6, 'local_epochs': 3}\u001b[32m [repeated 4x across cluster]\u001b[0m\n",
      "\u001b[2m\u001b[36m(DefaultActor pid=3459591)\u001b[0m this is the config {'server_round': 6, 'local_epochs': 3}\u001b[32m [repeated 4x across cluster]\u001b[0m\n",
      "\u001b[2m\u001b[36m(DefaultActor pid=3459595)\u001b[0m Epoch 6/10\u001b[32m [repeated 24x across cluster]\u001b[0m\n",
      "\u001b[1m 3/18\u001b[0m \u001b[32m━━━\u001b[0m\u001b[37m━━━━━━━━━━━━━━━━━\u001b[0m \u001b[1m0s\u001b[0m 43ms/step - accuracy: 0.4944 - loss: 1.5556\u001b[32m [repeated 2x across cluster]\u001b[0m\n",
      "\u001b[1m 3/18\u001b[0m \u001b[32m━━━\u001b[0m\u001b[37m━━━━━━━━━━━━━━━━━\u001b[0m \u001b[1m0s\u001b[0m 45ms/step - accuracy: 0.6689 - loss: 0.9504\u001b[32m [repeated 7x across cluster]\u001b[0m\n",
      "\u001b[1m 7/18\u001b[0m \u001b[32m━━━━━━━\u001b[0m\u001b[37m━━━━━━━━━━━━━\u001b[0m \u001b[1m0s\u001b[0m 50ms/step - accuracy: 0.6571 - loss: 1.0049\u001b[32m [repeated 68x across cluster]\u001b[0m\n",
      "\u001b[1m15/18\u001b[0m \u001b[32m━━━━━━━━━━━━━━━━\u001b[0m\u001b[37m━━━━\u001b[0m \u001b[1m0s\u001b[0m 46ms/step - accuracy: 0.6583 - loss: 1.0007\u001b[32m [repeated 112x across cluster]\u001b[0m\n",
      "\u001b[1m 1/18\u001b[0m \u001b[32m━\u001b[0m\u001b[37m━━━━━━━━━━━━━━━━━━━\u001b[0m \u001b[1m1s\u001b[0m 77ms/step - accuracy: 0.6600 - loss: 0.8530\u001b[32m [repeated 23x across cluster]\u001b[0m\n",
      "\u001b[1m18/18\u001b[0m \u001b[32m━━━━━━━━━━━━━━━━━━━━\u001b[0m\u001b[37m\u001b[0m \u001b[1m1s\u001b[0m 41ms/step - accuracy: 0.6958 - loss: 0.8962\u001b[32m [repeated 2x across cluster]\u001b[0m\n"
     ]
    },
    {
     "name": "stderr",
     "output_type": "stream",
     "text": [
      "DEBUG flwr 2024-03-14 19:55:03,664 | server.py:236 | fit_round 6 received 5 results and 0 failures\n",
      "DEBUG flwr 2024-03-14 19:55:03,670 | server.py:173 | evaluate_round 6: strategy sampled 2 clients (out of 5)\n"
     ]
    },
    {
     "name": "stdout",
     "output_type": "stream",
     "text": [
      "\u001b[2m\u001b[36m(DefaultActor pid=3459591)\u001b[0m [Client 0] evaluate, config: {}\n",
      "\u001b[2m\u001b[36m(DefaultActor pid=3459591)\u001b[0m Epoch 10/10\u001b[32m [repeated 24x across cluster]\u001b[0m\n"
     ]
    },
    {
     "name": "stderr",
     "output_type": "stream",
     "text": [
      "DEBUG flwr 2024-03-14 19:55:04,457 | server.py:187 | evaluate_round 6 received 2 results and 0 failures\n",
      "DEBUG flwr 2024-03-14 19:55:04,458 | server.py:222 | fit_round 7: strategy sampled 5 clients (out of 5)\n"
     ]
    },
    {
     "name": "stdout",
     "output_type": "stream",
     "text": [
      "\u001b[2m\u001b[36m(DefaultActor pid=3459591)\u001b[0m [Client 0] loss:1.2427245378494263, Client 0 accuracy:0.550000011920929\n",
      "\u001b[2m\u001b[36m(DefaultActor pid=3459592)\u001b[0m [Client 0] fit, config: {'server_round': 7, 'local_epochs': 3}\n",
      "\u001b[2m\u001b[36m(DefaultActor pid=3459592)\u001b[0m this is the config {'server_round': 7, 'local_epochs': 3}\n",
      "\u001b[1m7/7\u001b[0m \u001b[32m━━━━━━━━━━━━━━━━━━━━\u001b[0m\u001b[37m\u001b[0m \u001b[1m0s\u001b[0m 3ms/step - accuracy: 0.5290 - loss: 1.3207  \n",
      "\u001b[1m7/7\u001b[0m \u001b[32m━━━━━━━━━━━━━━━━━━━━\u001b[0m\u001b[37m\u001b[0m \u001b[1m0s\u001b[0m 3ms/step - accuracy: 0.4986 - loss: 1.4748  \u001b[32m [repeated 5x across cluster]\u001b[0m\n",
      "\u001b[1m18/18\u001b[0m \u001b[32m━━━━━━━━━━━━━━━━━━━━\u001b[0m\u001b[37m\u001b[0m \u001b[1m0s\u001b[0m 20ms/step - accuracy: 0.7382 - loss: 0.7917\u001b[32m [repeated 57x across cluster]\u001b[0m\n",
      "\u001b[1m 6/18\u001b[0m \u001b[32m━━━━━━\u001b[0m\u001b[37m━━━━━━━━━━━━━━\u001b[0m \u001b[1m0s\u001b[0m 12ms/step - accuracy: 0.7546 - loss: 0.7826\u001b[32m [repeated 68x across cluster]\u001b[0m\n",
      "\u001b[1m1/7\u001b[0m \u001b[32m━━\u001b[0m\u001b[37m━━━━━━━━━━━━━━━━━━\u001b[0m \u001b[1m1s\u001b[0m 167ms/step - accuracy: 0.4688 - loss: 1.3599\u001b[32m [repeated 15x across cluster]\u001b[0m\n",
      "\u001b[1m 5/18\u001b[0m \u001b[32m━━━━━\u001b[0m\u001b[37m━━━━━━━━━━━━━━━\u001b[0m \u001b[1m0s\u001b[0m 15ms/step - accuracy: 0.5824 - loss: 1.2029  \n",
      "\u001b[1m 7/18\u001b[0m \u001b[32m━━━━━━━\u001b[0m\u001b[37m━━━━━━━━━━━━━\u001b[0m \u001b[1m0s\u001b[0m 21ms/step - accuracy: 0.5599 - loss: 1.3107\n",
      "\u001b[1m18/18\u001b[0m \u001b[32m━━━━━━━━━━━━━━━━━━━━\u001b[0m\u001b[37m\u001b[0m \u001b[1m2s\u001b[0m 30ms/step - accuracy: 0.5482 - loss: 1.3208\u001b[32m [repeated 3x across cluster]\u001b[0m\n",
      "\u001b[2m\u001b[36m(DefaultActor pid=3459592)\u001b[0m [Client 4] evaluate, config: {}\n",
      "\u001b[2m\u001b[36m(DefaultActor pid=3459592)\u001b[0m Epoch 7/10\u001b[32m [repeated 20x across cluster]\u001b[0m\n",
      "\u001b[2m\u001b[36m(DefaultActor pid=3459592)\u001b[0m [Client 4] loss:1.412306785583496, Client 4 accuracy:0.49000000953674316\n",
      "\u001b[2m\u001b[36m(DefaultActor pid=3459594)\u001b[0m [Client 3] fit, config: {'server_round': 7, 'local_epochs': 3}\u001b[32m [repeated 4x across cluster]\u001b[0m\n",
      "\u001b[2m\u001b[36m(DefaultActor pid=3459594)\u001b[0m this is the config {'server_round': 7, 'local_epochs': 3}\u001b[32m [repeated 4x across cluster]\u001b[0m\n",
      "\u001b[1m 2/18\u001b[0m \u001b[32m━━\u001b[0m\u001b[37m━━━━━━━━━━━━━━━━━━\u001b[0m \u001b[1m0s\u001b[0m 54ms/step - accuracy: 0.7775 - loss: 0.7114\u001b[32m [repeated 7x across cluster]\u001b[0m\n",
      "\u001b[1m16/18\u001b[0m \u001b[32m━━━━━━━━━━━━━━━━━\u001b[0m\u001b[37m━━━\u001b[0m \u001b[1m0s\u001b[0m 43ms/step - accuracy: 0.7307 - loss: 0.8215\u001b[32m [repeated 54x across cluster]\u001b[0m\n",
      "\u001b[1m11/18\u001b[0m \u001b[32m━━━━━━━━━━━━\u001b[0m\u001b[37m━━━━━━━━\u001b[0m \u001b[1m0s\u001b[0m 46ms/step - accuracy: 0.7813 - loss: 0.6894\u001b[32m [repeated 96x across cluster]\u001b[0m\n",
      "\u001b[1m 1/18\u001b[0m \u001b[32m━\u001b[0m\u001b[37m━━━━━━━━━━━━━━━━━━━\u001b[0m \u001b[1m1s\u001b[0m 95ms/step - accuracy: 0.7600 - loss: 0.8148\u001b[32m [repeated 19x across cluster]\u001b[0m\n",
      "\u001b[1m 5/18\u001b[0m \u001b[32m━━━━━\u001b[0m\u001b[37m━━━━━━━━━━━━━━━\u001b[0m \u001b[1m0s\u001b[0m 42ms/step - accuracy: 0.5226 - loss: 1.3677\n",
      "\u001b[1m18/18\u001b[0m \u001b[32m━━━━━━━━━━━━━━━━━━━━\u001b[0m\u001b[37m\u001b[0m \u001b[1m1s\u001b[0m 47ms/step - accuracy: 0.6696 - loss: 0.9771\u001b[32m [repeated 2x across cluster]\u001b[0m\n",
      "\u001b[2m\u001b[36m(DefaultActor pid=3459594)\u001b[0m Epoch 10/10\u001b[32m [repeated 29x across cluster]\u001b[0m\n"
     ]
    },
    {
     "name": "stderr",
     "output_type": "stream",
     "text": [
      "DEBUG flwr 2024-03-14 19:55:14,683 | server.py:236 | fit_round 7 received 5 results and 0 failures\n",
      "DEBUG flwr 2024-03-14 19:55:14,689 | server.py:173 | evaluate_round 7: strategy sampled 2 clients (out of 5)\n"
     ]
    },
    {
     "name": "stdout",
     "output_type": "stream",
     "text": [
      "\u001b[2m\u001b[36m(DefaultActor pid=3459593)\u001b[0m [Client 1] evaluate, config: {}\n",
      "\u001b[1m 4/18\u001b[0m \u001b[32m━━━━\u001b[0m\u001b[37m━━━━━━━━━━━━━━━━\u001b[0m \u001b[1m0s\u001b[0m 20ms/step - accuracy: 0.7581 - loss: 0.6898\u001b[32m [repeated 7x across cluster]\u001b[0m\n",
      "\u001b[1m18/18\u001b[0m \u001b[32m━━━━━━━━━━━━━━━━━━━━\u001b[0m\u001b[37m\u001b[0m \u001b[1m0s\u001b[0m 20ms/step - accuracy: 0.7421 - loss: 0.7177\u001b[32m [repeated 61x across cluster]\u001b[0m\n",
      "\u001b[2m\u001b[36m(DefaultActor pid=3459593)\u001b[0m [Client 1] loss:1.2613123655319214, Client 1 accuracy:0.5299999713897705\n"
     ]
    },
    {
     "name": "stderr",
     "output_type": "stream",
     "text": [
      "DEBUG flwr 2024-03-14 19:55:15,473 | server.py:187 | evaluate_round 7 received 2 results and 0 failures\n",
      "DEBUG flwr 2024-03-14 19:55:15,474 | server.py:222 | fit_round 8: strategy sampled 5 clients (out of 5)\n"
     ]
    },
    {
     "name": "stdout",
     "output_type": "stream",
     "text": [
      "\u001b[1m18/18\u001b[0m \u001b[32m━━━━━━━━━━━━━━━━━━━━\u001b[0m\u001b[37m\u001b[0m \u001b[1m0s\u001b[0m 16ms/step - accuracy: 0.7740 - loss: 0.6820\u001b[32m [repeated 100x across cluster]\u001b[0m\n",
      "\u001b[1m 1/18\u001b[0m \u001b[32m━\u001b[0m\u001b[37m━━━━━━━━━━━━━━━━━━━\u001b[0m \u001b[1m0s\u001b[0m 48ms/step - accuracy: 0.8300 - loss: 0.5617\u001b[32m [repeated 17x across cluster]\u001b[0m\n",
      "\u001b[2m\u001b[36m(DefaultActor pid=3459594)\u001b[0m [Client 1] fit, config: {'server_round': 8, 'local_epochs': 3}\n",
      "\u001b[2m\u001b[36m(DefaultActor pid=3459594)\u001b[0m this is the config {'server_round': 8, 'local_epochs': 3}\n",
      "\u001b[1m 7/18\u001b[0m \u001b[32m━━━━━━━\u001b[0m\u001b[37m━━━━━━━━━━━━━\u001b[0m \u001b[1m0s\u001b[0m 22ms/step - accuracy: 0.6083 - loss: 1.0871\n",
      "\u001b[1m 3/18\u001b[0m \u001b[32m━━━\u001b[0m\u001b[37m━━━━━━━━━━━━━━━━━\u001b[0m \u001b[1m0s\u001b[0m 31ms/step - accuracy: 0.6194 - loss: 1.2175\n",
      "\u001b[1m18/18\u001b[0m \u001b[32m━━━━━━━━━━━━━━━━━━━━\u001b[0m\u001b[37m\u001b[0m \u001b[1m0s\u001b[0m 23ms/step - accuracy: 0.7107 - loss: 0.8786\u001b[32m [repeated 2x across cluster]\u001b[0m\n",
      "\u001b[2m\u001b[36m(DefaultActor pid=3459594)\u001b[0m Epoch 6/10\u001b[32m [repeated 17x across cluster]\u001b[0m\n",
      "\u001b[2m\u001b[36m(DefaultActor pid=3459594)\u001b[0m [Client 0] evaluate, config: {}\n",
      "\u001b[1m 2/18\u001b[0m \u001b[32m━━\u001b[0m\u001b[37m━━━━━━━━━━━━━━━━━━\u001b[0m \u001b[1m1s\u001b[0m 64ms/step - accuracy: 0.6500 - loss: 1.0195\u001b[32m [repeated 7x across cluster]\u001b[0m\n",
      "\u001b[1m 7/18\u001b[0m \u001b[32m━━━━━━━\u001b[0m\u001b[37m━━━━━━━━━━━━━\u001b[0m \u001b[1m0s\u001b[0m 44ms/step - accuracy: 0.7515 - loss: 0.7775\u001b[32m [repeated 40x across cluster]\u001b[0m\n",
      "\u001b[2m\u001b[36m(DefaultActor pid=3459594)\u001b[0m [Client 0] loss:1.2621110677719116, Client 0 accuracy:0.5450000166893005\n",
      "\u001b[1m14/18\u001b[0m \u001b[32m━━━━━━━━━━━━━━━\u001b[0m\u001b[37m━━━━━\u001b[0m \u001b[1m0s\u001b[0m 44ms/step - accuracy: 0.7413 - loss: 0.7939\u001b[32m [repeated 71x across cluster]\u001b[0m\n",
      "\u001b[1m 1/18\u001b[0m \u001b[32m━\u001b[0m\u001b[37m━━━━━━━━━━━━━━━━━━━\u001b[0m \u001b[1m1s\u001b[0m 86ms/step - accuracy: 0.7100 - loss: 0.9139\u001b[32m [repeated 17x across cluster]\u001b[0m\n",
      "\u001b[2m\u001b[36m(DefaultActor pid=3459592)\u001b[0m [Client 4] fit, config: {'server_round': 8, 'local_epochs': 3}\u001b[32m [repeated 4x across cluster]\u001b[0m\n",
      "\u001b[2m\u001b[36m(DefaultActor pid=3459592)\u001b[0m this is the config {'server_round': 8, 'local_epochs': 3}\u001b[32m [repeated 4x across cluster]\u001b[0m\n",
      "\u001b[1m 5/18\u001b[0m \u001b[32m━━━━━\u001b[0m\u001b[37m━━━━━━━━━━━━━━━\u001b[0m \u001b[1m0s\u001b[0m 34ms/step - accuracy: 0.6010 - loss: 1.2590\n",
      "\u001b[1m 2/18\u001b[0m \u001b[32m━━\u001b[0m\u001b[37m━━━━━━━━━━━━━━━━━━\u001b[0m \u001b[1m0s\u001b[0m 54ms/step - accuracy: 0.6125 - loss: 1.1555\n",
      "\u001b[1m18/18\u001b[0m \u001b[32m━━━━━━━━━━━━━━━━━━━━\u001b[0m\u001b[37m\u001b[0m \u001b[1m1s\u001b[0m 47ms/step - accuracy: 0.7232 - loss: 0.8088\u001b[32m [repeated 5x across cluster]\u001b[0m\n",
      "\u001b[2m\u001b[36m(DefaultActor pid=3459592)\u001b[0m Epoch 8/10\u001b[32m [repeated 29x across cluster]\u001b[0m\n",
      "\u001b[1m 2/18\u001b[0m \u001b[32m━━\u001b[0m\u001b[37m━━━━━━━━━━━━━━━━━━\u001b[0m \u001b[1m0s\u001b[0m 55ms/step - accuracy: 0.8275 - loss: 0.6487\u001b[32m [repeated 6x across cluster]\u001b[0m\n",
      "\u001b[1m10/18\u001b[0m \u001b[32m━━━━━━━━━━━\u001b[0m\u001b[37m━━━━━━━━━\u001b[0m \u001b[1m0s\u001b[0m 27ms/step - accuracy: 0.8001 - loss: 0.6276\u001b[32m [repeated 80x across cluster]\u001b[0m\n"
     ]
    },
    {
     "name": "stderr",
     "output_type": "stream",
     "text": [
      "DEBUG flwr 2024-03-14 19:55:25,621 | server.py:236 | fit_round 8 received 5 results and 0 failures\n",
      "DEBUG flwr 2024-03-14 19:55:25,628 | server.py:173 | evaluate_round 8: strategy sampled 2 clients (out of 5)\n"
     ]
    },
    {
     "name": "stdout",
     "output_type": "stream",
     "text": [
      "\u001b[1m18/18\u001b[0m \u001b[32m━━━━━━━━━━━━━━━━━━━━\u001b[0m\u001b[37m\u001b[0m \u001b[1m0s\u001b[0m 20ms/step - accuracy: 0.7574 - loss: 0.7193\u001b[32m [repeated 119x across cluster]\u001b[0m\n",
      "\u001b[1m 1/18\u001b[0m \u001b[32m━\u001b[0m\u001b[37m━━━━━━━━━━━━━━━━━━━\u001b[0m \u001b[1m1s\u001b[0m 61ms/step - accuracy: 0.6300 - loss: 0.8736\u001b[32m [repeated 21x across cluster]\u001b[0m\n",
      "\u001b[2m\u001b[36m(DefaultActor pid=3459592)\u001b[0m [Client 0] evaluate, config: {}\n",
      "\u001b[2m\u001b[36m(DefaultActor pid=3459592)\u001b[0m [Client 0] loss:1.3061422109603882, Client 0 accuracy:0.5550000071525574\n"
     ]
    },
    {
     "name": "stderr",
     "output_type": "stream",
     "text": [
      "DEBUG flwr 2024-03-14 19:55:26,416 | server.py:187 | evaluate_round 8 received 2 results and 0 failures\n",
      "INFO flwr 2024-03-14 19:55:26,417 | server.py:153 | FL finished in 91.90661490400089\n",
      "INFO flwr 2024-03-14 19:55:26,423 | app.py:226 | app_fit: losses_distributed [(1, 1.7327715158462524), (2, 1.5202109813690186), (3, 1.416843593120575), (4, 1.4801118969917297), (5, 1.432280719280243), (6, 1.3275156617164612), (7, 1.2617117166519165), (8, 1.54569411277771)]\n",
      "INFO flwr 2024-03-14 19:55:26,423 | app.py:227 | app_fit: metrics_distributed_fit {}\n",
      "INFO flwr 2024-03-14 19:55:26,424 | app.py:228 | app_fit: metrics_distributed {'accuracy': [(1, 0.4050000011920929), (2, 0.4625000059604645), (3, 0.48249998688697815), (4, 0.48250000178813934), (5, 0.4999999850988388), (6, 0.5200000107288361), (7, 0.5374999940395355), (8, 0.5324999988079071)]}\n",
      "INFO flwr 2024-03-14 19:55:26,424 | app.py:229 | app_fit: losses_centralized []\n",
      "INFO flwr 2024-03-14 19:55:26,424 | app.py:230 | app_fit: metrics_centralized {}\n"
     ]
    },
    {
     "name": "stdout",
     "output_type": "stream",
     "text": [
      "\u001b[1m7/7\u001b[0m \u001b[32m━━━━━━━━━━━━━━━━━━━━\u001b[0m\u001b[37m\u001b[0m \u001b[1m0s\u001b[0m 3ms/step - accuracy: 0.5240 - loss: 1.7698  \n"
     ]
    }
   ],
   "source": [
    "NUM_ROUNDS = 8\n",
    "FRACTION_FIT = 1\n",
    "\n",
    "strategy = fl.server.strategy.FedAvg(\n",
    "    fraction_fit=FRACTION_FIT, \n",
    "    fraction_evaluate=0.5,  # Sample 50% of available clients for evaluation\n",
    "    min_fit_clients=NUM_CLIENTS,  # Never sample less than NUM_CLIENTS clients for training\n",
    "    min_evaluate_clients=NUM_CLIENTS//2,  # Never sample less than NUM_CLIENTS//2 clients for evaluation\n",
    "    min_available_clients=NUM_CLIENTS,  # Wait until all NUM_CLIENTS clients are available\n",
    "    initial_parameters=fl.common.ndarrays_to_parameters(params), # Initial parameters\n",
    "    on_fit_config_fn=fit_config,\n",
    "    evaluate_metrics_aggregation_fn=weighted_average\n",
    "\n",
    ")\n",
    "\n",
    "# Start simulation\n",
    "res = fl.simulation.start_simulation(\n",
    "    client_fn=client_fn,\n",
    "    num_clients=NUM_CLIENTS,\n",
    "    config=fl.server.ServerConfig(num_rounds=NUM_ROUNDS),\n",
    "    strategy=strategy,\n",
    ")"
   ]
  }
 ],
 "metadata": {
  "@webio": {
   "lastCommId": null,
   "lastKernelId": null
  },
  "kernelspec": {
   "display_name": "Python 3 (ipykernel)",
   "language": "python",
   "name": "python3"
  },
  "language_info": {
   "codemirror_mode": {
    "name": "ipython",
    "version": 3
   },
   "file_extension": ".py",
   "mimetype": "text/x-python",
   "name": "python",
   "nbconvert_exporter": "python",
   "pygments_lexer": "ipython3",
   "version": "3.10.12"
  }
 },
 "nbformat": 4,
 "nbformat_minor": 5
}
