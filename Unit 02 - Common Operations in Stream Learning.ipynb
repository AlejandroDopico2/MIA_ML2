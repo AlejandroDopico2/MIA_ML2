{
 "cells": [
  {
   "cell_type": "markdown",
   "id": "e0c68a0c",
   "metadata": {},
   "source": [
    "# Moving from standard to stream learning\n",
    "\n",
    "This tutorial is inspired by the [river library](https://riverml.xyz) examples and recipies. So, a closer look to those ones is encorage to any person who want to indepth on this particular topics.\n",
    "\n",
    "Generaly speaking, nearly any approach in machine learning can be summarize in the following steps:\n",
    "\n",
    "1. Defining the problem\n",
    "    1. Identify the kind of problem (supervised vs un supervised, classification vs regression, etc.)\n",
    "1. Loading the data\n",
    "2. Preprocessing that data\n",
    "    1. Feature extraction\n",
    "    2. Feature selection\n",
    "3. Fitting the model\n",
    "    1. Ajusted the hyperparameters\n",
    "4. Evaluate the model according certain measures\n",
    "\n",
    "Let's see a classical example which ticks all those steps **using the scikit-learn library**:"
   ]
  },
  {
   "cell_type": "code",
   "execution_count": 1,
   "id": "db20f47f",
   "metadata": {},
   "outputs": [
    {
     "data": {
      "text/html": [
       "<pre style=\"white-space:pre;overflow-x:auto;line-height:normal;font-family:Menlo,'DejaVu Sans Mono',consolas,'Courier New',monospace\">ROC AUC: <span style=\"color: #008080; text-decoration-color: #008080; font-weight: bold\">0.9776</span> <span style=\"font-weight: bold\">(</span>± <span style=\"color: #008080; text-decoration-color: #008080; font-weight: bold\">0.0165</span><span style=\"font-weight: bold\">)</span>\n",
       "</pre>\n"
      ],
      "text/plain": [
       "ROC AUC: \u001b[1;36m0.9776\u001b[0m \u001b[1m(\u001b[0m± \u001b[1;36m0.0165\u001b[0m\u001b[1m)\u001b[0m\n"
      ]
     },
     "metadata": {},
     "output_type": "display_data"
    }
   ],
   "source": [
    "from sklearn.datasets import load_breast_cancer\n",
    "from sklearn.linear_model import LogisticRegression\n",
    "from sklearn.metrics import make_scorer, roc_auc_score\n",
    "from sklearn.model_selection import cross_val_score, KFold\n",
    "from sklearn.pipeline import Pipeline\n",
    "from sklearn.preprocessing import StandardScaler\n",
    "from sklearn.decomposition import PCA\n",
    "from rich import print\n",
    "\n",
    "\n",
    "# Load the data\n",
    "dataset = load_breast_cancer()\n",
    "X, y = dataset.data, dataset.target\n",
    "\n",
    "# Prepare the pipeline with the preprocessing steps and the model to be used\n",
    "pipe = Pipeline([\n",
    "    ('scale', StandardScaler()),                       # Prepapare the data centered in avg 0 and std 1\n",
    "    ('extractor', PCA(0.95)),                          # Extract features that represents 0.95 of the variability\n",
    "    ('classifier', LogisticRegression(solver='lbfgs')) # Last step the model to perform the classificaction\n",
    "])\n",
    "\n",
    "# Define a determistic cross-validation procedure\n",
    "cv = KFold(n_splits=5, shuffle=True, random_state=42)\n",
    "\n",
    "# Calculate the performance for each fold of the cross validation\n",
    "scorer = make_scorer(roc_auc_score)\n",
    "scores = cross_val_score(pipe, X, y, scoring=scorer, cv=cv)\n",
    "\n",
    "# Display the average score and it's standard deviation\n",
    "print(f'ROC AUC: {scores.mean():.4f} (± {scores.std():.4f})')"
   ]
  },
  {
   "cell_type": "markdown",
   "id": "710c3771",
   "metadata": {},
   "source": [
    "So, what is the problem with this approach, it has no problem but some downsize can be detected. First and foremost, if the data returned by `load_breast_cancer` had been too big for the memory of your computer, the program would have crashed. Although some techniques can be applied to minimize this threat, such as optimizing the typing, or the use of sparse storage for the data there is a limit to the optimizations available. If your dataset potentially can have millions of samples which can weigh hundreds of gigabytes, you will need some special hardware for sure. One solution is to do out-of-core learning; that is, algorithms that can learn by being presented the data in chunks or mini-batches, but potential issues arise from these considering the order and the local minima of the search space.\n",
    "\n",
    "Another potential issue is the incorporation of new data into the model. Traditional approaches require starting from scratch with a new dataset result of the combination of the old data with the new samples available. This is particularly problematic in real-time applications where you have new data available now and then. In many real applications, the solution is to perform a continuous integration pipeline which can deploy a new model nearly several times per minute.\n",
    "\n",
    "Finally, another problem of the traditional approach is the availability of the features. Some features might not be accessible at the particular point in time you are at, for example, a particular state of an object or an amount at a warehouse is not available in a week or month because the data is updated."
   ]
  },
  {
   "cell_type": "markdown",
   "id": "1ebe261e",
   "metadata": {},
   "source": [
    "# Incremental learning"
   ]
  },
  {
   "cell_type": "markdown",
   "id": "9d754d3f",
   "metadata": {},
   "source": [
    "Incremental learning is also called online learning or stream learning, however, if you google \"online learning\", it is unlikely that the results are what you were looking for. Consequently, the terms \"incremental learning\" and \"stream learning\" are usually preferred. Behind incremental learning is a very clear idea which it is is to fit a model according to a continuous stream of data. In other words, the data isn't available in its entirety, but rather the observations are provided one by one. For example, imagine the previous classical example which, instead of the data set, we have a reference point providing one sample at a time. This can be simulated with a simple loop, such as:"
   ]
  },
  {
   "cell_type": "code",
   "execution_count": 2,
   "id": "ce1b9d34",
   "metadata": {},
   "outputs": [],
   "source": [
    "for xi, yi in zip(X, y):\n",
    "    pass"
   ]
  },
  {
   "cell_type": "markdown",
   "id": "04a256cb",
   "metadata": {},
   "source": [
    "Since the data is already in memory, this is not the ideal scenario to exemplify it. However, keep in mind that in this particular case we are using each sample a single time. This can also be used in the same way by iterating on the results from a CSV file, a Kafka stream, an SQL query, etc.\n",
    "\n",
    "One particular point to be aware of is the fact that in this example `xi` is an instance of `numpy.array` (data were loaded using scikit-learn library). By its design, the library that we are using for streaming learning, `river`, uses the class `dict` as the base of its behaviour. The authors of the library assume a point of view where each observation represents a single sample which could make sense from the point of view of a stream of data. It is no limitation but something to be aware of when performance is required. Remember that `dict` is implemented in **Python**, while the `numpy.array` is implemented at a low level in **C** and **Fortran**. One of the advantages of using `dict` is easy access to the features and a clearer program. It must be also noted that  **online processing is different to batch processing, in that vectorization doesn't bring any speedup**. However numeric processing libraries such as numpy actually bring too much overhead."
   ]
  },
  {
   "cell_type": "code",
   "execution_count": 3,
   "id": "d9133930",
   "metadata": {},
   "outputs": [
    {
     "data": {
      "text/html": [
       "<pre style=\"white-space:pre;overflow-x:auto;line-height:normal;font-family:Menlo,'DejaVu Sans Mono',consolas,'Courier New',monospace\">In numpy.array format:<span style=\"font-weight: bold\">[</span><span style=\"color: #008080; text-decoration-color: #008080; font-weight: bold\">7.760e+00</span> <span style=\"color: #008080; text-decoration-color: #008080; font-weight: bold\">2.454e+01</span> <span style=\"color: #008080; text-decoration-color: #008080; font-weight: bold\">4.792e+01</span> <span style=\"color: #008080; text-decoration-color: #008080; font-weight: bold\">1.810e+02</span> <span style=\"color: #008080; text-decoration-color: #008080; font-weight: bold\">5.263e-02</span> <span style=\"color: #008080; text-decoration-color: #008080; font-weight: bold\">4.362e-02</span> <span style=\"color: #008080; text-decoration-color: #008080; font-weight: bold\">0.000e+00</span>\n",
       " <span style=\"color: #008080; text-decoration-color: #008080; font-weight: bold\">0.000e+00</span> <span style=\"color: #008080; text-decoration-color: #008080; font-weight: bold\">1.587e-01</span> <span style=\"color: #008080; text-decoration-color: #008080; font-weight: bold\">5.884e-02</span> <span style=\"color: #008080; text-decoration-color: #008080; font-weight: bold\">3.857e-01</span> <span style=\"color: #008080; text-decoration-color: #008080; font-weight: bold\">1.428e+00</span> <span style=\"color: #008080; text-decoration-color: #008080; font-weight: bold\">2.548e+00</span> <span style=\"color: #008080; text-decoration-color: #008080; font-weight: bold\">1.915e+01</span>\n",
       " <span style=\"color: #008080; text-decoration-color: #008080; font-weight: bold\">7.189e-03</span> <span style=\"color: #008080; text-decoration-color: #008080; font-weight: bold\">4.660e-03</span> <span style=\"color: #008080; text-decoration-color: #008080; font-weight: bold\">0.000e+00</span> <span style=\"color: #008080; text-decoration-color: #008080; font-weight: bold\">0.000e+00</span> <span style=\"color: #008080; text-decoration-color: #008080; font-weight: bold\">2.676e-02</span> <span style=\"color: #008080; text-decoration-color: #008080; font-weight: bold\">2.783e-03</span> <span style=\"color: #008080; text-decoration-color: #008080; font-weight: bold\">9.456e+00</span>\n",
       " <span style=\"color: #008080; text-decoration-color: #008080; font-weight: bold\">3.037e+01</span> <span style=\"color: #008080; text-decoration-color: #008080; font-weight: bold\">5.916e+01</span> <span style=\"color: #008080; text-decoration-color: #008080; font-weight: bold\">2.686e+02</span> <span style=\"color: #008080; text-decoration-color: #008080; font-weight: bold\">8.996e-02</span> <span style=\"color: #008080; text-decoration-color: #008080; font-weight: bold\">6.444e-02</span> <span style=\"color: #008080; text-decoration-color: #008080; font-weight: bold\">0.000e+00</span> <span style=\"color: #008080; text-decoration-color: #008080; font-weight: bold\">0.000e+00</span>\n",
       " <span style=\"color: #008080; text-decoration-color: #008080; font-weight: bold\">2.871e-01</span> <span style=\"color: #008080; text-decoration-color: #008080; font-weight: bold\">7.039e-02</span><span style=\"font-weight: bold\">]</span>\n",
       "\n",
       "</pre>\n"
      ],
      "text/plain": [
       "In numpy.array format:\u001b[1m[\u001b[0m\u001b[1;36m7.760e+00\u001b[0m \u001b[1;36m2.454e+01\u001b[0m \u001b[1;36m4.792e+01\u001b[0m \u001b[1;36m1.810e+02\u001b[0m \u001b[1;36m5.263e-02\u001b[0m \u001b[1;36m4.362e-02\u001b[0m \u001b[1;36m0.000e+00\u001b[0m\n",
       " \u001b[1;36m0.000e+00\u001b[0m \u001b[1;36m1.587e-01\u001b[0m \u001b[1;36m5.884e-02\u001b[0m \u001b[1;36m3.857e-01\u001b[0m \u001b[1;36m1.428e+00\u001b[0m \u001b[1;36m2.548e+00\u001b[0m \u001b[1;36m1.915e+01\u001b[0m\n",
       " \u001b[1;36m7.189e-03\u001b[0m \u001b[1;36m4.660e-03\u001b[0m \u001b[1;36m0.000e+00\u001b[0m \u001b[1;36m0.000e+00\u001b[0m \u001b[1;36m2.676e-02\u001b[0m \u001b[1;36m2.783e-03\u001b[0m \u001b[1;36m9.456e+00\u001b[0m\n",
       " \u001b[1;36m3.037e+01\u001b[0m \u001b[1;36m5.916e+01\u001b[0m \u001b[1;36m2.686e+02\u001b[0m \u001b[1;36m8.996e-02\u001b[0m \u001b[1;36m6.444e-02\u001b[0m \u001b[1;36m0.000e+00\u001b[0m \u001b[1;36m0.000e+00\u001b[0m\n",
       " \u001b[1;36m2.871e-01\u001b[0m \u001b[1;36m7.039e-02\u001b[0m\u001b[1m]\u001b[0m\n",
       "\n"
      ]
     },
     "metadata": {},
     "output_type": "display_data"
    },
    {
     "data": {
      "text/html": [
       "<pre style=\"white-space:pre;overflow-x:auto;line-height:normal;font-family:Menlo,'DejaVu Sans Mono',consolas,'Courier New',monospace\">In dict format: <span style=\"font-weight: bold\">{</span><span style=\"color: #008000; text-decoration-color: #008000\">'mean radius'</span>: <span style=\"color: #008080; text-decoration-color: #008080; font-weight: bold\">7.76</span>, <span style=\"color: #008000; text-decoration-color: #008000\">'mean texture'</span>: <span style=\"color: #008080; text-decoration-color: #008080; font-weight: bold\">24.54</span>, <span style=\"color: #008000; text-decoration-color: #008000\">'mean perimeter'</span>: <span style=\"color: #008080; text-decoration-color: #008080; font-weight: bold\">47.92</span>, <span style=\"color: #008000; text-decoration-color: #008000\">'mean area'</span>: <span style=\"color: #008080; text-decoration-color: #008080; font-weight: bold\">181.0</span>, <span style=\"color: #008000; text-decoration-color: #008000\">'mean </span>\n",
       "<span style=\"color: #008000; text-decoration-color: #008000\">smoothness'</span>: <span style=\"color: #008080; text-decoration-color: #008080; font-weight: bold\">0.05263</span>, <span style=\"color: #008000; text-decoration-color: #008000\">'mean compactness'</span>: <span style=\"color: #008080; text-decoration-color: #008080; font-weight: bold\">0.04362</span>, <span style=\"color: #008000; text-decoration-color: #008000\">'mean concavity'</span>: <span style=\"color: #008080; text-decoration-color: #008080; font-weight: bold\">0.0</span>, <span style=\"color: #008000; text-decoration-color: #008000\">'mean concave points'</span>: <span style=\"color: #008080; text-decoration-color: #008080; font-weight: bold\">0.0</span>, <span style=\"color: #008000; text-decoration-color: #008000\">'mean </span>\n",
       "<span style=\"color: #008000; text-decoration-color: #008000\">symmetry'</span>: <span style=\"color: #008080; text-decoration-color: #008080; font-weight: bold\">0.1587</span>, <span style=\"color: #008000; text-decoration-color: #008000\">'mean fractal dimension'</span>: <span style=\"color: #008080; text-decoration-color: #008080; font-weight: bold\">0.05884</span>, <span style=\"color: #008000; text-decoration-color: #008000\">'radius error'</span>: <span style=\"color: #008080; text-decoration-color: #008080; font-weight: bold\">0.3857</span>, <span style=\"color: #008000; text-decoration-color: #008000\">'texture error'</span>: <span style=\"color: #008080; text-decoration-color: #008080; font-weight: bold\">1.428</span>, <span style=\"color: #008000; text-decoration-color: #008000\">'perimeter </span>\n",
       "<span style=\"color: #008000; text-decoration-color: #008000\">error'</span>: <span style=\"color: #008080; text-decoration-color: #008080; font-weight: bold\">2.548</span>, <span style=\"color: #008000; text-decoration-color: #008000\">'area error'</span>: <span style=\"color: #008080; text-decoration-color: #008080; font-weight: bold\">19.15</span>, <span style=\"color: #008000; text-decoration-color: #008000\">'smoothness error'</span>: <span style=\"color: #008080; text-decoration-color: #008080; font-weight: bold\">0.007189</span>, <span style=\"color: #008000; text-decoration-color: #008000\">'compactness error'</span>: <span style=\"color: #008080; text-decoration-color: #008080; font-weight: bold\">0.00466</span>, <span style=\"color: #008000; text-decoration-color: #008000\">'concavity error'</span>: \n",
       "<span style=\"color: #008080; text-decoration-color: #008080; font-weight: bold\">0.0</span>, <span style=\"color: #008000; text-decoration-color: #008000\">'concave points error'</span>: <span style=\"color: #008080; text-decoration-color: #008080; font-weight: bold\">0.0</span>, <span style=\"color: #008000; text-decoration-color: #008000\">'symmetry error'</span>: <span style=\"color: #008080; text-decoration-color: #008080; font-weight: bold\">0.02676</span>, <span style=\"color: #008000; text-decoration-color: #008000\">'fractal dimension error'</span>: <span style=\"color: #008080; text-decoration-color: #008080; font-weight: bold\">0.002783</span>, <span style=\"color: #008000; text-decoration-color: #008000\">'worst radius'</span>: \n",
       "<span style=\"color: #008080; text-decoration-color: #008080; font-weight: bold\">9.456</span>, <span style=\"color: #008000; text-decoration-color: #008000\">'worst texture'</span>: <span style=\"color: #008080; text-decoration-color: #008080; font-weight: bold\">30.37</span>, <span style=\"color: #008000; text-decoration-color: #008000\">'worst perimeter'</span>: <span style=\"color: #008080; text-decoration-color: #008080; font-weight: bold\">59.16</span>, <span style=\"color: #008000; text-decoration-color: #008000\">'worst area'</span>: <span style=\"color: #008080; text-decoration-color: #008080; font-weight: bold\">268.6</span>, <span style=\"color: #008000; text-decoration-color: #008000\">'worst smoothness'</span>: <span style=\"color: #008080; text-decoration-color: #008080; font-weight: bold\">0.08996</span>, <span style=\"color: #008000; text-decoration-color: #008000\">'worst </span>\n",
       "<span style=\"color: #008000; text-decoration-color: #008000\">compactness'</span>: <span style=\"color: #008080; text-decoration-color: #008080; font-weight: bold\">0.06444</span>, <span style=\"color: #008000; text-decoration-color: #008000\">'worst concavity'</span>: <span style=\"color: #008080; text-decoration-color: #008080; font-weight: bold\">0.0</span>, <span style=\"color: #008000; text-decoration-color: #008000\">'worst concave points'</span>: <span style=\"color: #008080; text-decoration-color: #008080; font-weight: bold\">0.0</span>, <span style=\"color: #008000; text-decoration-color: #008000\">'worst symmetry'</span>: <span style=\"color: #008080; text-decoration-color: #008080; font-weight: bold\">0.2871</span>, <span style=\"color: #008000; text-decoration-color: #008000\">'worst </span>\n",
       "<span style=\"color: #008000; text-decoration-color: #008000\">fractal dimension'</span>: <span style=\"color: #008080; text-decoration-color: #008080; font-weight: bold\">0.07039</span><span style=\"font-weight: bold\">}</span>\n",
       "</pre>\n"
      ],
      "text/plain": [
       "In dict format: \u001b[1m{\u001b[0m\u001b[32m'mean radius'\u001b[0m: \u001b[1;36m7.76\u001b[0m, \u001b[32m'mean texture'\u001b[0m: \u001b[1;36m24.54\u001b[0m, \u001b[32m'mean perimeter'\u001b[0m: \u001b[1;36m47.92\u001b[0m, \u001b[32m'mean area'\u001b[0m: \u001b[1;36m181.0\u001b[0m, \u001b[32m'mean \u001b[0m\n",
       "\u001b[32msmoothness'\u001b[0m: \u001b[1;36m0.05263\u001b[0m, \u001b[32m'mean compactness'\u001b[0m: \u001b[1;36m0.04362\u001b[0m, \u001b[32m'mean concavity'\u001b[0m: \u001b[1;36m0.0\u001b[0m, \u001b[32m'mean concave points'\u001b[0m: \u001b[1;36m0.0\u001b[0m, \u001b[32m'mean \u001b[0m\n",
       "\u001b[32msymmetry'\u001b[0m: \u001b[1;36m0.1587\u001b[0m, \u001b[32m'mean fractal dimension'\u001b[0m: \u001b[1;36m0.05884\u001b[0m, \u001b[32m'radius error'\u001b[0m: \u001b[1;36m0.3857\u001b[0m, \u001b[32m'texture error'\u001b[0m: \u001b[1;36m1.428\u001b[0m, \u001b[32m'perimeter \u001b[0m\n",
       "\u001b[32merror'\u001b[0m: \u001b[1;36m2.548\u001b[0m, \u001b[32m'area error'\u001b[0m: \u001b[1;36m19.15\u001b[0m, \u001b[32m'smoothness error'\u001b[0m: \u001b[1;36m0.007189\u001b[0m, \u001b[32m'compactness error'\u001b[0m: \u001b[1;36m0.00466\u001b[0m, \u001b[32m'concavity error'\u001b[0m: \n",
       "\u001b[1;36m0.0\u001b[0m, \u001b[32m'concave points error'\u001b[0m: \u001b[1;36m0.0\u001b[0m, \u001b[32m'symmetry error'\u001b[0m: \u001b[1;36m0.02676\u001b[0m, \u001b[32m'fractal dimension error'\u001b[0m: \u001b[1;36m0.002783\u001b[0m, \u001b[32m'worst radius'\u001b[0m: \n",
       "\u001b[1;36m9.456\u001b[0m, \u001b[32m'worst texture'\u001b[0m: \u001b[1;36m30.37\u001b[0m, \u001b[32m'worst perimeter'\u001b[0m: \u001b[1;36m59.16\u001b[0m, \u001b[32m'worst area'\u001b[0m: \u001b[1;36m268.6\u001b[0m, \u001b[32m'worst smoothness'\u001b[0m: \u001b[1;36m0.08996\u001b[0m, \u001b[32m'worst \u001b[0m\n",
       "\u001b[32mcompactness'\u001b[0m: \u001b[1;36m0.06444\u001b[0m, \u001b[32m'worst concavity'\u001b[0m: \u001b[1;36m0.0\u001b[0m, \u001b[32m'worst concave points'\u001b[0m: \u001b[1;36m0.0\u001b[0m, \u001b[32m'worst symmetry'\u001b[0m: \u001b[1;36m0.2871\u001b[0m, \u001b[32m'worst \u001b[0m\n",
       "\u001b[32mfractal dimension'\u001b[0m: \u001b[1;36m0.07039\u001b[0m\u001b[1m}\u001b[0m\n"
      ]
     },
     "metadata": {},
     "output_type": "display_data"
    }
   ],
   "source": [
    "print(f\"In numpy.array format:{xi}\\n\")\n",
    "print(f\"In dict format: {dict(zip(dataset.feature_names, xi))}\")"
   ]
  },
  {
   "cell_type": "markdown",
   "id": "8bb6196f",
   "metadata": {},
   "source": [
    "Although it is not complicated, `river` provides a convinient function to transform the datasets from `scikit-learn`to the required format. For the examples developed in this notebook, you can use the following"
   ]
  },
  {
   "cell_type": "code",
   "execution_count": 4,
   "id": "4af3f70d",
   "metadata": {},
   "outputs": [],
   "source": [
    "from river import stream\n",
    "for xi, yi in stream.iter_sklearn_dataset(load_breast_cancer()):\n",
    "    pass"
   ]
  },
  {
   "cell_type": "markdown",
   "id": "50aedc52",
   "metadata": {},
   "source": [
    "Therefore, the change in our code seems pretty focalized and not quite important. By simply changing our well-known batches by the stream of data a lot of things cannot be done in the same way. For example, something so trivial and commonly done such as the standardisation of the data, i.e. scaling the data to have mean 0 and variance 1. This simple operation in the batched approach changes into something more complicated in the stream data because we don't know the values of the mean and the standard deviation before actually going through all the data. For this problem, a possible approach is to perform the first pass over the data to compute the necessary values and then scale the values during a second pass. However, this approach goes against out objective of only looking at the data once and many times it is not possible. So, how we can solve this, the answer comes in the shape o what is called computing running statistics or moving statistics. By using those we do not use the exact mean and standard deviation but an estimation which can be updated with each new value. For example, denoting the mean as $\\mu_t$ and the count of element at any moment $n_t$, the mean can be easily updated at any moment by applying the following function:\n",
    "$$\n",
    "  n_{t+1} = n_t +1 \\\\    \n",
    "  \\mu_{t+1} = \\mu_t +\\frac{x - \\mu_t}{n_{t+1}}    \n",
    "$$"
   ]
  },
  {
   "cell_type": "markdown",
   "id": "615e6560",
   "metadata": {},
   "source": [
    "In the same way, for the variance($\\sigma$), the previous formula can be completed with:\n",
    "$$\n",
    "  s_{t+1} = s_t + (x-\\mu_t)\\times(x-\\mu_{t+1})\\\\\n",
    "  \\sigma_{t+1} = \\frac{s_{t+1}}{n_{t+1}}\n",
    "$$\n",
    "\n",
    "where $s_t$  is a running sum of squares and $\\sigma_t$ is the running variance at time $t$. These four formulae can be easily rewritten in Python for example, take the `mean radius` as our Guinea Pig:"
   ]
  },
  {
   "cell_type": "code",
   "execution_count": 5,
   "id": "f96b88ea",
   "metadata": {},
   "outputs": [
    {
     "data": {
      "text/html": [
       "<pre style=\"white-space:pre;overflow-x:auto;line-height:normal;font-family:Menlo,'DejaVu Sans Mono',consolas,'Courier New',monospace\">Running mean: <span style=\"color: #008080; text-decoration-color: #008080; font-weight: bold\">17.990</span> - Running variance: <span style=\"color: #008080; text-decoration-color: #008080; font-weight: bold\">0.000</span>\n",
       "</pre>\n"
      ],
      "text/plain": [
       "Running mean: \u001b[1;36m17.990\u001b[0m - Running variance: \u001b[1;36m0.000\u001b[0m\n"
      ]
     },
     "metadata": {},
     "output_type": "display_data"
    },
    {
     "data": {
      "text/html": [
       "<pre style=\"white-space:pre;overflow-x:auto;line-height:normal;font-family:Menlo,'DejaVu Sans Mono',consolas,'Courier New',monospace\">Running mean: <span style=\"color: #008080; text-decoration-color: #008080; font-weight: bold\">19.280</span> - Running variance: <span style=\"color: #008080; text-decoration-color: #008080; font-weight: bold\">1.664</span>\n",
       "</pre>\n"
      ],
      "text/plain": [
       "Running mean: \u001b[1;36m19.280\u001b[0m - Running variance: \u001b[1;36m1.664\u001b[0m\n"
      ]
     },
     "metadata": {},
     "output_type": "display_data"
    },
    {
     "data": {
      "text/html": [
       "<pre style=\"white-space:pre;overflow-x:auto;line-height:normal;font-family:Menlo,'DejaVu Sans Mono',consolas,'Courier New',monospace\">Running mean: <span style=\"color: #008080; text-decoration-color: #008080; font-weight: bold\">19.417</span> - Running variance: <span style=\"color: #008080; text-decoration-color: #008080; font-weight: bold\">1.147</span>\n",
       "</pre>\n"
      ],
      "text/plain": [
       "Running mean: \u001b[1;36m19.417\u001b[0m - Running variance: \u001b[1;36m1.147\u001b[0m\n"
      ]
     },
     "metadata": {},
     "output_type": "display_data"
    },
    {
     "data": {
      "text/html": [
       "<pre style=\"white-space:pre;overflow-x:auto;line-height:normal;font-family:Menlo,'DejaVu Sans Mono',consolas,'Courier New',monospace\">Running mean: <span style=\"color: #008080; text-decoration-color: #008080; font-weight: bold\">17.418</span> - Running variance: <span style=\"color: #008080; text-decoration-color: #008080; font-weight: bold\">12.850</span>\n",
       "</pre>\n"
      ],
      "text/plain": [
       "Running mean: \u001b[1;36m17.418\u001b[0m - Running variance: \u001b[1;36m12.850\u001b[0m\n"
      ]
     },
     "metadata": {},
     "output_type": "display_data"
    },
    {
     "data": {
      "text/html": [
       "<pre style=\"white-space:pre;overflow-x:auto;line-height:normal;font-family:Menlo,'DejaVu Sans Mono',consolas,'Courier New',monospace\">Running mean: <span style=\"color: #008080; text-decoration-color: #008080; font-weight: bold\">17.992</span> - Running variance: <span style=\"color: #008080; text-decoration-color: #008080; font-weight: bold\">11.600</span>\n",
       "</pre>\n"
      ],
      "text/plain": [
       "Running mean: \u001b[1;36m17.992\u001b[0m - Running variance: \u001b[1;36m11.600\u001b[0m\n"
      ]
     },
     "metadata": {},
     "output_type": "display_data"
    },
    {
     "data": {
      "text/html": [
       "<pre style=\"white-space:pre;overflow-x:auto;line-height:normal;font-family:Menlo,'DejaVu Sans Mono',consolas,'Courier New',monospace\">Running mean: <span style=\"color: #008080; text-decoration-color: #008080; font-weight: bold\">17.068</span> - Running variance: <span style=\"color: #008080; text-decoration-color: #008080; font-weight: bold\">13.933</span>\n",
       "</pre>\n"
      ],
      "text/plain": [
       "Running mean: \u001b[1;36m17.068\u001b[0m - Running variance: \u001b[1;36m13.933\u001b[0m\n"
      ]
     },
     "metadata": {},
     "output_type": "display_data"
    },
    {
     "data": {
      "text/html": [
       "<pre style=\"white-space:pre;overflow-x:auto;line-height:normal;font-family:Menlo,'DejaVu Sans Mono',consolas,'Courier New',monospace\">Running mean: <span style=\"color: #008080; text-decoration-color: #008080; font-weight: bold\">17.237</span> - Running variance: <span style=\"color: #008080; text-decoration-color: #008080; font-weight: bold\">12.113</span>\n",
       "</pre>\n"
      ],
      "text/plain": [
       "Running mean: \u001b[1;36m17.237\u001b[0m - Running variance: \u001b[1;36m12.113\u001b[0m\n"
      ]
     },
     "metadata": {},
     "output_type": "display_data"
    },
    {
     "data": {
      "text/html": [
       "<pre style=\"white-space:pre;overflow-x:auto;line-height:normal;font-family:Menlo,'DejaVu Sans Mono',consolas,'Courier New',monospace\">Running mean: <span style=\"color: #008080; text-decoration-color: #008080; font-weight: bold\">16.796</span> - Running variance: <span style=\"color: #008080; text-decoration-color: #008080; font-weight: bold\">11.960</span>\n",
       "</pre>\n"
      ],
      "text/plain": [
       "Running mean: \u001b[1;36m16.796\u001b[0m - Running variance: \u001b[1;36m11.960\u001b[0m\n"
      ]
     },
     "metadata": {},
     "output_type": "display_data"
    },
    {
     "data": {
      "text/html": [
       "<pre style=\"white-space:pre;overflow-x:auto;line-height:normal;font-family:Menlo,'DejaVu Sans Mono',consolas,'Courier New',monospace\">Running mean: <span style=\"color: #008080; text-decoration-color: #008080; font-weight: bold\">16.374</span> - Running variance: <span style=\"color: #008080; text-decoration-color: #008080; font-weight: bold\">12.054</span>\n",
       "</pre>\n"
      ],
      "text/plain": [
       "Running mean: \u001b[1;36m16.374\u001b[0m - Running variance: \u001b[1;36m12.054\u001b[0m\n"
      ]
     },
     "metadata": {},
     "output_type": "display_data"
    },
    {
     "data": {
      "text/html": [
       "<pre style=\"white-space:pre;overflow-x:auto;line-height:normal;font-family:Menlo,'DejaVu Sans Mono',consolas,'Courier New',monospace\">Running mean: <span style=\"color: #008080; text-decoration-color: #008080; font-weight: bold\">15.983</span> - Running variance: <span style=\"color: #008080; text-decoration-color: #008080; font-weight: bold\">12.228</span>\n",
       "</pre>\n"
      ],
      "text/plain": [
       "Running mean: \u001b[1;36m15.983\u001b[0m - Running variance: \u001b[1;36m12.228\u001b[0m\n"
      ]
     },
     "metadata": {},
     "output_type": "display_data"
    },
    {
     "data": {
      "text/html": [
       "<pre style=\"white-space:pre;overflow-x:auto;line-height:normal;font-family:Menlo,'DejaVu Sans Mono',consolas,'Courier New',monospace\">Running mean: <span style=\"color: #008080; text-decoration-color: #008080; font-weight: bold\">15.986</span> - Running variance: <span style=\"color: #008080; text-decoration-color: #008080; font-weight: bold\">11.116</span>\n",
       "</pre>\n"
      ],
      "text/plain": [
       "Running mean: \u001b[1;36m15.986\u001b[0m - Running variance: \u001b[1;36m11.116\u001b[0m\n"
      ]
     },
     "metadata": {},
     "output_type": "display_data"
    },
    {
     "data": {
      "text/html": [
       "<pre style=\"white-space:pre;overflow-x:auto;line-height:normal;font-family:Menlo,'DejaVu Sans Mono',consolas,'Courier New',monospace\">Running mean: <span style=\"color: #008080; text-decoration-color: #008080; font-weight: bold\">15.969</span> - Running variance: <span style=\"color: #008080; text-decoration-color: #008080; font-weight: bold\">10.193</span>\n",
       "</pre>\n"
      ],
      "text/plain": [
       "Running mean: \u001b[1;36m15.969\u001b[0m - Running variance: \u001b[1;36m10.193\u001b[0m\n"
      ]
     },
     "metadata": {},
     "output_type": "display_data"
    },
    {
     "data": {
      "text/html": [
       "<pre style=\"white-space:pre;overflow-x:auto;line-height:normal;font-family:Menlo,'DejaVu Sans Mono',consolas,'Courier New',monospace\">Running mean: <span style=\"color: #008080; text-decoration-color: #008080; font-weight: bold\">16.215</span> - Running variance: <span style=\"color: #008080; text-decoration-color: #008080; font-weight: bold\">10.137</span>\n",
       "</pre>\n"
      ],
      "text/plain": [
       "Running mean: \u001b[1;36m16.215\u001b[0m - Running variance: \u001b[1;36m10.137\u001b[0m\n"
      ]
     },
     "metadata": {},
     "output_type": "display_data"
    },
    {
     "data": {
      "text/html": [
       "<pre style=\"white-space:pre;overflow-x:auto;line-height:normal;font-family:Menlo,'DejaVu Sans Mono',consolas,'Courier New',monospace\">Running mean: <span style=\"color: #008080; text-decoration-color: #008080; font-weight: bold\">16.189</span> - Running variance: <span style=\"color: #008080; text-decoration-color: #008080; font-weight: bold\">9.421</span>\n",
       "</pre>\n"
      ],
      "text/plain": [
       "Running mean: \u001b[1;36m16.189\u001b[0m - Running variance: \u001b[1;36m9.421\u001b[0m\n"
      ]
     },
     "metadata": {},
     "output_type": "display_data"
    },
    {
     "data": {
      "text/html": [
       "<pre style=\"white-space:pre;overflow-x:auto;line-height:normal;font-family:Menlo,'DejaVu Sans Mono',consolas,'Courier New',monospace\">Running mean: <span style=\"color: #008080; text-decoration-color: #008080; font-weight: bold\">16.025</span> - Running variance: <span style=\"color: #008080; text-decoration-color: #008080; font-weight: bold\">9.170</span>\n",
       "</pre>\n"
      ],
      "text/plain": [
       "Running mean: \u001b[1;36m16.025\u001b[0m - Running variance: \u001b[1;36m9.170\u001b[0m\n"
      ]
     },
     "metadata": {},
     "output_type": "display_data"
    },
    {
     "data": {
      "text/html": [
       "<pre style=\"white-space:pre;overflow-x:auto;line-height:normal;font-family:Menlo,'DejaVu Sans Mono',consolas,'Courier New',monospace\">Running mean: <span style=\"color: #008080; text-decoration-color: #008080; font-weight: bold\">15.933</span> - Running variance: <span style=\"color: #008080; text-decoration-color: #008080; font-weight: bold\">8.726</span>\n",
       "</pre>\n"
      ],
      "text/plain": [
       "Running mean: \u001b[1;36m15.933\u001b[0m - Running variance: \u001b[1;36m8.726\u001b[0m\n"
      ]
     },
     "metadata": {},
     "output_type": "display_data"
    },
    {
     "data": {
      "text/html": [
       "<pre style=\"white-space:pre;overflow-x:auto;line-height:normal;font-family:Menlo,'DejaVu Sans Mono',consolas,'Courier New',monospace\">Running mean: <span style=\"color: #008080; text-decoration-color: #008080; font-weight: bold\">15.859</span> - Running variance: <span style=\"color: #008080; text-decoration-color: #008080; font-weight: bold\">8.299</span>\n",
       "</pre>\n"
      ],
      "text/plain": [
       "Running mean: \u001b[1;36m15.859\u001b[0m - Running variance: \u001b[1;36m8.299\u001b[0m\n"
      ]
     },
     "metadata": {},
     "output_type": "display_data"
    },
    {
     "data": {
      "text/html": [
       "<pre style=\"white-space:pre;overflow-x:auto;line-height:normal;font-family:Menlo,'DejaVu Sans Mono',consolas,'Courier New',monospace\">Running mean: <span style=\"color: #008080; text-decoration-color: #008080; font-weight: bold\">15.874</span> - Running variance: <span style=\"color: #008080; text-decoration-color: #008080; font-weight: bold\">7.842</span>\n",
       "</pre>\n"
      ],
      "text/plain": [
       "Running mean: \u001b[1;36m15.874\u001b[0m - Running variance: \u001b[1;36m7.842\u001b[0m\n"
      ]
     },
     "metadata": {},
     "output_type": "display_data"
    },
    {
     "data": {
      "text/html": [
       "<pre style=\"white-space:pre;overflow-x:auto;line-height:normal;font-family:Menlo,'DejaVu Sans Mono',consolas,'Courier New',monospace\">Running mean: <span style=\"color: #008080; text-decoration-color: #008080; font-weight: bold\">16.081</span> - Running variance: <span style=\"color: #008080; text-decoration-color: #008080; font-weight: bold\">8.202</span>\n",
       "</pre>\n"
      ],
      "text/plain": [
       "Running mean: \u001b[1;36m16.081\u001b[0m - Running variance: \u001b[1;36m8.202\u001b[0m\n"
      ]
     },
     "metadata": {},
     "output_type": "display_data"
    },
    {
     "data": {
      "text/html": [
       "<pre style=\"white-space:pre;overflow-x:auto;line-height:normal;font-family:Menlo,'DejaVu Sans Mono',consolas,'Courier New',monospace\">Running mean: <span style=\"color: #008080; text-decoration-color: #008080; font-weight: bold\">15.954</span> - Running variance: <span style=\"color: #008080; text-decoration-color: #008080; font-weight: bold\">8.099</span>\n",
       "</pre>\n"
      ],
      "text/plain": [
       "Running mean: \u001b[1;36m15.954\u001b[0m - Running variance: \u001b[1;36m8.099\u001b[0m\n"
      ]
     },
     "metadata": {},
     "output_type": "display_data"
    },
    {
     "data": {
      "text/html": [
       "<pre style=\"white-space:pre;overflow-x:auto;line-height:normal;font-family:Menlo,'DejaVu Sans Mono',consolas,'Courier New',monospace\">Running mean: <span style=\"color: #008080; text-decoration-color: #008080; font-weight: bold\">15.817</span> - Running variance: <span style=\"color: #008080; text-decoration-color: #008080; font-weight: bold\">8.088</span>\n",
       "</pre>\n"
      ],
      "text/plain": [
       "Running mean: \u001b[1;36m15.817\u001b[0m - Running variance: \u001b[1;36m8.088\u001b[0m\n"
      ]
     },
     "metadata": {},
     "output_type": "display_data"
    },
    {
     "data": {
      "text/html": [
       "<pre style=\"white-space:pre;overflow-x:auto;line-height:normal;font-family:Menlo,'DejaVu Sans Mono',consolas,'Courier New',monospace\">Running mean: <span style=\"color: #008080; text-decoration-color: #008080; font-weight: bold\">15.530</span> - Running variance: <span style=\"color: #008080; text-decoration-color: #008080; font-weight: bold\">9.449</span>\n",
       "</pre>\n"
      ],
      "text/plain": [
       "Running mean: \u001b[1;36m15.530\u001b[0m - Running variance: \u001b[1;36m9.449\u001b[0m\n"
      ]
     },
     "metadata": {},
     "output_type": "display_data"
    },
    {
     "data": {
      "text/html": [
       "<pre style=\"white-space:pre;overflow-x:auto;line-height:normal;font-family:Menlo,'DejaVu Sans Mono',consolas,'Courier New',monospace\">Running mean: <span style=\"color: #008080; text-decoration-color: #008080; font-weight: bold\">15.522</span> - Running variance: <span style=\"color: #008080; text-decoration-color: #008080; font-weight: bold\">9.040</span>\n",
       "</pre>\n"
      ],
      "text/plain": [
       "Running mean: \u001b[1;36m15.522\u001b[0m - Running variance: \u001b[1;36m9.040\u001b[0m\n"
      ]
     },
     "metadata": {},
     "output_type": "display_data"
    },
    {
     "data": {
      "text/html": [
       "<pre style=\"white-space:pre;overflow-x:auto;line-height:normal;font-family:Menlo,'DejaVu Sans Mono',consolas,'Courier New',monospace\">Running mean: <span style=\"color: #008080; text-decoration-color: #008080; font-weight: bold\">15.757</span> - Running variance: <span style=\"color: #008080; text-decoration-color: #008080; font-weight: bold\">9.933</span>\n",
       "</pre>\n"
      ],
      "text/plain": [
       "Running mean: \u001b[1;36m15.757\u001b[0m - Running variance: \u001b[1;36m9.933\u001b[0m\n"
      ]
     },
     "metadata": {},
     "output_type": "display_data"
    },
    {
     "data": {
      "text/html": [
       "<pre style=\"white-space:pre;overflow-x:auto;line-height:normal;font-family:Menlo,'DejaVu Sans Mono',consolas,'Courier New',monospace\">Running mean: <span style=\"color: #008080; text-decoration-color: #008080; font-weight: bold\">15.793</span> - Running variance: <span style=\"color: #008080; text-decoration-color: #008080; font-weight: bold\">9.566</span>\n",
       "</pre>\n"
      ],
      "text/plain": [
       "Running mean: \u001b[1;36m15.793\u001b[0m - Running variance: \u001b[1;36m9.566\u001b[0m\n"
      ]
     },
     "metadata": {},
     "output_type": "display_data"
    },
    {
     "data": {
      "text/html": [
       "<pre style=\"white-space:pre;overflow-x:auto;line-height:normal;font-family:Menlo,'DejaVu Sans Mono',consolas,'Courier New',monospace\">Running mean: <span style=\"color: #008080; text-decoration-color: #008080; font-weight: bold\">15.844</span> - Running variance: <span style=\"color: #008080; text-decoration-color: #008080; font-weight: bold\">9.265</span>\n",
       "</pre>\n"
      ],
      "text/plain": [
       "Running mean: \u001b[1;36m15.844\u001b[0m - Running variance: \u001b[1;36m9.265\u001b[0m\n"
      ]
     },
     "metadata": {},
     "output_type": "display_data"
    },
    {
     "data": {
      "text/html": [
       "<pre style=\"white-space:pre;overflow-x:auto;line-height:normal;font-family:Menlo,'DejaVu Sans Mono',consolas,'Courier New',monospace\">Running mean: <span style=\"color: #008080; text-decoration-color: #008080; font-weight: bold\">15.798</span> - Running variance: <span style=\"color: #008080; text-decoration-color: #008080; font-weight: bold\">8.979</span>\n",
       "</pre>\n"
      ],
      "text/plain": [
       "Running mean: \u001b[1;36m15.798\u001b[0m - Running variance: \u001b[1;36m8.979\u001b[0m\n"
      ]
     },
     "metadata": {},
     "output_type": "display_data"
    },
    {
     "data": {
      "text/html": [
       "<pre style=\"white-space:pre;overflow-x:auto;line-height:normal;font-family:Menlo,'DejaVu Sans Mono',consolas,'Courier New',monospace\">Running mean: <span style=\"color: #008080; text-decoration-color: #008080; font-weight: bold\">15.898</span> - Running variance: <span style=\"color: #008080; text-decoration-color: #008080; font-weight: bold\">8.931</span>\n",
       "</pre>\n"
      ],
      "text/plain": [
       "Running mean: \u001b[1;36m15.898\u001b[0m - Running variance: \u001b[1;36m8.931\u001b[0m\n"
      ]
     },
     "metadata": {},
     "output_type": "display_data"
    },
    {
     "data": {
      "text/html": [
       "<pre style=\"white-space:pre;overflow-x:auto;line-height:normal;font-family:Menlo,'DejaVu Sans Mono',consolas,'Courier New',monospace\">Running mean: <span style=\"color: #008080; text-decoration-color: #008080; font-weight: bold\">15.877</span> - Running variance: <span style=\"color: #008080; text-decoration-color: #008080; font-weight: bold\">8.635</span>\n",
       "</pre>\n"
      ],
      "text/plain": [
       "Running mean: \u001b[1;36m15.877\u001b[0m - Running variance: \u001b[1;36m8.635\u001b[0m\n"
      ]
     },
     "metadata": {},
     "output_type": "display_data"
    },
    {
     "data": {
      "text/html": [
       "<pre style=\"white-space:pre;overflow-x:auto;line-height:normal;font-family:Menlo,'DejaVu Sans Mono',consolas,'Courier New',monospace\">Running mean: <span style=\"color: #008080; text-decoration-color: #008080; font-weight: bold\">15.934</span> - Running variance: <span style=\"color: #008080; text-decoration-color: #008080; font-weight: bold\">8.439</span>\n",
       "</pre>\n"
      ],
      "text/plain": [
       "Running mean: \u001b[1;36m15.934\u001b[0m - Running variance: \u001b[1;36m8.439\u001b[0m\n"
      ]
     },
     "metadata": {},
     "output_type": "display_data"
    },
    {
     "data": {
      "text/html": [
       "<pre style=\"white-space:pre;overflow-x:auto;line-height:normal;font-family:Menlo,'DejaVu Sans Mono',consolas,'Courier New',monospace\">Running mean: <span style=\"color: #008080; text-decoration-color: #008080; font-weight: bold\">16.021</span> - Running variance: <span style=\"color: #008080; text-decoration-color: #008080; font-weight: bold\">8.394</span>\n",
       "</pre>\n"
      ],
      "text/plain": [
       "Running mean: \u001b[1;36m16.021\u001b[0m - Running variance: \u001b[1;36m8.394\u001b[0m\n"
      ]
     },
     "metadata": {},
     "output_type": "display_data"
    },
    {
     "data": {
      "text/html": [
       "<pre style=\"white-space:pre;overflow-x:auto;line-height:normal;font-family:Menlo,'DejaVu Sans Mono',consolas,'Courier New',monospace\">Running mean: <span style=\"color: #008080; text-decoration-color: #008080; font-weight: bold\">15.890</span> - Running variance: <span style=\"color: #008080; text-decoration-color: #008080; font-weight: bold\">8.661</span>\n",
       "</pre>\n"
      ],
      "text/plain": [
       "Running mean: \u001b[1;36m15.890\u001b[0m - Running variance: \u001b[1;36m8.661\u001b[0m\n"
      ]
     },
     "metadata": {},
     "output_type": "display_data"
    },
    {
     "data": {
      "text/html": [
       "<pre style=\"white-space:pre;overflow-x:auto;line-height:normal;font-family:Menlo,'DejaVu Sans Mono',consolas,'Courier New',monospace\">Running mean: <span style=\"color: #008080; text-decoration-color: #008080; font-weight: bold\">15.924</span> - Running variance: <span style=\"color: #008080; text-decoration-color: #008080; font-weight: bold\">8.436</span>\n",
       "</pre>\n"
      ],
      "text/plain": [
       "Running mean: \u001b[1;36m15.924\u001b[0m - Running variance: \u001b[1;36m8.436\u001b[0m\n"
      ]
     },
     "metadata": {},
     "output_type": "display_data"
    },
    {
     "data": {
      "text/html": [
       "<pre style=\"white-space:pre;overflow-x:auto;line-height:normal;font-family:Menlo,'DejaVu Sans Mono',consolas,'Courier New',monospace\">Running mean: <span style=\"color: #008080; text-decoration-color: #008080; font-weight: bold\">16.023</span> - Running variance: <span style=\"color: #008080; text-decoration-color: #008080; font-weight: bold\">8.507</span>\n",
       "</pre>\n"
      ],
      "text/plain": [
       "Running mean: \u001b[1;36m16.023\u001b[0m - Running variance: \u001b[1;36m8.507\u001b[0m\n"
      ]
     },
     "metadata": {},
     "output_type": "display_data"
    },
    {
     "data": {
      "text/html": [
       "<pre style=\"white-space:pre;overflow-x:auto;line-height:normal;font-family:Menlo,'DejaVu Sans Mono',consolas,'Courier New',monospace\">Running mean: <span style=\"color: #008080; text-decoration-color: #008080; font-weight: bold\">16.026</span> - Running variance: <span style=\"color: #008080; text-decoration-color: #008080; font-weight: bold\">8.264</span>\n",
       "</pre>\n"
      ],
      "text/plain": [
       "Running mean: \u001b[1;36m16.026\u001b[0m - Running variance: \u001b[1;36m8.264\u001b[0m\n"
      ]
     },
     "metadata": {},
     "output_type": "display_data"
    },
    {
     "data": {
      "text/html": [
       "<pre style=\"white-space:pre;overflow-x:auto;line-height:normal;font-family:Menlo,'DejaVu Sans Mono',consolas,'Courier New',monospace\">Running mean: <span style=\"color: #008080; text-decoration-color: #008080; font-weight: bold\">16.046</span> - Running variance: <span style=\"color: #008080; text-decoration-color: #008080; font-weight: bold\">8.049</span>\n",
       "</pre>\n"
      ],
      "text/plain": [
       "Running mean: \u001b[1;36m16.046\u001b[0m - Running variance: \u001b[1;36m8.049\u001b[0m\n"
      ]
     },
     "metadata": {},
     "output_type": "display_data"
    },
    {
     "data": {
      "text/html": [
       "<pre style=\"white-space:pre;overflow-x:auto;line-height:normal;font-family:Menlo,'DejaVu Sans Mono',consolas,'Courier New',monospace\">Running mean: <span style=\"color: #008080; text-decoration-color: #008080; font-weight: bold\">15.997</span> - Running variance: <span style=\"color: #008080; text-decoration-color: #008080; font-weight: bold\">7.916</span>\n",
       "</pre>\n"
      ],
      "text/plain": [
       "Running mean: \u001b[1;36m15.997\u001b[0m - Running variance: \u001b[1;36m7.916\u001b[0m\n"
      ]
     },
     "metadata": {},
     "output_type": "display_data"
    },
    {
     "data": {
      "text/html": [
       "<pre style=\"white-space:pre;overflow-x:auto;line-height:normal;font-family:Menlo,'DejaVu Sans Mono',consolas,'Courier New',monospace\">Running mean: <span style=\"color: #008080; text-decoration-color: #008080; font-weight: bold\">15.919</span> - Running variance: <span style=\"color: #008080; text-decoration-color: #008080; font-weight: bold\">7.933</span>\n",
       "</pre>\n"
      ],
      "text/plain": [
       "Running mean: \u001b[1;36m15.919\u001b[0m - Running variance: \u001b[1;36m7.933\u001b[0m\n"
      ]
     },
     "metadata": {},
     "output_type": "display_data"
    },
    {
     "data": {
      "text/html": [
       "<pre style=\"white-space:pre;overflow-x:auto;line-height:normal;font-family:Menlo,'DejaVu Sans Mono',consolas,'Courier New',monospace\">Running mean: <span style=\"color: #008080; text-decoration-color: #008080; font-weight: bold\">15.895</span> - Running variance: <span style=\"color: #008080; text-decoration-color: #008080; font-weight: bold\">7.751</span>\n",
       "</pre>\n"
      ],
      "text/plain": [
       "Running mean: \u001b[1;36m15.895\u001b[0m - Running variance: \u001b[1;36m7.751\u001b[0m\n"
      ]
     },
     "metadata": {},
     "output_type": "display_data"
    },
    {
     "data": {
      "text/html": [
       "<pre style=\"white-space:pre;overflow-x:auto;line-height:normal;font-family:Menlo,'DejaVu Sans Mono',consolas,'Courier New',monospace\">Running mean: <span style=\"color: #008080; text-decoration-color: #008080; font-weight: bold\">15.835</span> - Running variance: <span style=\"color: #008080; text-decoration-color: #008080; font-weight: bold\">7.700</span>\n",
       "</pre>\n"
      ],
      "text/plain": [
       "Running mean: \u001b[1;36m15.835\u001b[0m - Running variance: \u001b[1;36m7.700\u001b[0m\n"
      ]
     },
     "metadata": {},
     "output_type": "display_data"
    },
    {
     "data": {
      "text/html": [
       "<pre style=\"white-space:pre;overflow-x:auto;line-height:normal;font-family:Menlo,'DejaVu Sans Mono',consolas,'Courier New',monospace\">Running mean: <span style=\"color: #008080; text-decoration-color: #008080; font-weight: bold\">15.776</span> - Running variance: <span style=\"color: #008080; text-decoration-color: #008080; font-weight: bold\">7.648</span>\n",
       "</pre>\n"
      ],
      "text/plain": [
       "Running mean: \u001b[1;36m15.776\u001b[0m - Running variance: \u001b[1;36m7.648\u001b[0m\n"
      ]
     },
     "metadata": {},
     "output_type": "display_data"
    },
    {
     "data": {
      "text/html": [
       "<pre style=\"white-space:pre;overflow-x:auto;line-height:normal;font-family:Menlo,'DejaVu Sans Mono',consolas,'Courier New',monospace\">Running mean: <span style=\"color: #008080; text-decoration-color: #008080; font-weight: bold\">15.662</span> - Running variance: <span style=\"color: #008080; text-decoration-color: #008080; font-weight: bold\">8.008</span>\n",
       "</pre>\n"
      ],
      "text/plain": [
       "Running mean: \u001b[1;36m15.662\u001b[0m - Running variance: \u001b[1;36m8.008\u001b[0m\n"
      ]
     },
     "metadata": {},
     "output_type": "display_data"
    },
    {
     "data": {
      "text/html": [
       "<pre style=\"white-space:pre;overflow-x:auto;line-height:normal;font-family:Menlo,'DejaVu Sans Mono',consolas,'Courier New',monospace\">Running mean: <span style=\"color: #008080; text-decoration-color: #008080; font-weight: bold\">15.741</span> - Running variance: <span style=\"color: #008080; text-decoration-color: #008080; font-weight: bold\">8.085</span>\n",
       "</pre>\n"
      ],
      "text/plain": [
       "Running mean: \u001b[1;36m15.741\u001b[0m - Running variance: \u001b[1;36m8.085\u001b[0m\n"
      ]
     },
     "metadata": {},
     "output_type": "display_data"
    },
    {
     "data": {
      "text/html": [
       "<pre style=\"white-space:pre;overflow-x:auto;line-height:normal;font-family:Menlo,'DejaVu Sans Mono',consolas,'Courier New',monospace\">Running mean: <span style=\"color: #008080; text-decoration-color: #008080; font-weight: bold\">15.685</span> - Running variance: <span style=\"color: #008080; text-decoration-color: #008080; font-weight: bold\">8.036</span>\n",
       "</pre>\n"
      ],
      "text/plain": [
       "Running mean: \u001b[1;36m15.685\u001b[0m - Running variance: \u001b[1;36m8.036\u001b[0m\n"
      ]
     },
     "metadata": {},
     "output_type": "display_data"
    },
    {
     "data": {
      "text/html": [
       "<pre style=\"white-space:pre;overflow-x:auto;line-height:normal;font-family:Menlo,'DejaVu Sans Mono',consolas,'Courier New',monospace\">Running mean: <span style=\"color: #008080; text-decoration-color: #008080; font-weight: bold\">15.629</span> - Running variance: <span style=\"color: #008080; text-decoration-color: #008080; font-weight: bold\">7.995</span>\n",
       "</pre>\n"
      ],
      "text/plain": [
       "Running mean: \u001b[1;36m15.629\u001b[0m - Running variance: \u001b[1;36m7.995\u001b[0m\n"
      ]
     },
     "metadata": {},
     "output_type": "display_data"
    },
    {
     "data": {
      "text/html": [
       "<pre style=\"white-space:pre;overflow-x:auto;line-height:normal;font-family:Menlo,'DejaVu Sans Mono',consolas,'Courier New',monospace\">Running mean: <span style=\"color: #008080; text-decoration-color: #008080; font-weight: bold\">15.695</span> - Running variance: <span style=\"color: #008080; text-decoration-color: #008080; font-weight: bold\">8.015</span>\n",
       "</pre>\n"
      ],
      "text/plain": [
       "Running mean: \u001b[1;36m15.695\u001b[0m - Running variance: \u001b[1;36m8.015\u001b[0m\n"
      ]
     },
     "metadata": {},
     "output_type": "display_data"
    },
    {
     "data": {
      "text/html": [
       "<pre style=\"white-space:pre;overflow-x:auto;line-height:normal;font-family:Menlo,'DejaVu Sans Mono',consolas,'Courier New',monospace\">Running mean: <span style=\"color: #008080; text-decoration-color: #008080; font-weight: bold\">15.535</span> - Running variance: <span style=\"color: #008080; text-decoration-color: #008080; font-weight: bold\">9.016</span>\n",
       "</pre>\n"
      ],
      "text/plain": [
       "Running mean: \u001b[1;36m15.535\u001b[0m - Running variance: \u001b[1;36m9.016\u001b[0m\n"
      ]
     },
     "metadata": {},
     "output_type": "display_data"
    },
    {
     "data": {
      "text/html": [
       "<pre style=\"white-space:pre;overflow-x:auto;line-height:normal;font-family:Menlo,'DejaVu Sans Mono',consolas,'Courier New',monospace\">Running mean: <span style=\"color: #008080; text-decoration-color: #008080; font-weight: bold\">15.486</span> - Running variance: <span style=\"color: #008080; text-decoration-color: #008080; font-weight: bold\">8.942</span>\n",
       "</pre>\n"
      ],
      "text/plain": [
       "Running mean: \u001b[1;36m15.486\u001b[0m - Running variance: \u001b[1;36m8.942\u001b[0m\n"
      ]
     },
     "metadata": {},
     "output_type": "display_data"
    },
    {
     "data": {
      "text/html": [
       "<pre style=\"white-space:pre;overflow-x:auto;line-height:normal;font-family:Menlo,'DejaVu Sans Mono',consolas,'Courier New',monospace\">Running mean: <span style=\"color: #008080; text-decoration-color: #008080; font-weight: bold\">15.416</span> - Running variance: <span style=\"color: #008080; text-decoration-color: #008080; font-weight: bold\">8.995</span>\n",
       "</pre>\n"
      ],
      "text/plain": [
       "Running mean: \u001b[1;36m15.416\u001b[0m - Running variance: \u001b[1;36m8.995\u001b[0m\n"
      ]
     },
     "metadata": {},
     "output_type": "display_data"
    },
    {
     "data": {
      "text/html": [
       "<pre style=\"white-space:pre;overflow-x:auto;line-height:normal;font-family:Menlo,'DejaVu Sans Mono',consolas,'Courier New',monospace\">Running mean: <span style=\"color: #008080; text-decoration-color: #008080; font-weight: bold\">15.377</span> - Running variance: <span style=\"color: #008080; text-decoration-color: #008080; font-weight: bold\">8.888</span>\n",
       "</pre>\n"
      ],
      "text/plain": [
       "Running mean: \u001b[1;36m15.377\u001b[0m - Running variance: \u001b[1;36m8.888\u001b[0m\n"
      ]
     },
     "metadata": {},
     "output_type": "display_data"
    },
    {
     "data": {
      "text/html": [
       "<pre style=\"white-space:pre;overflow-x:auto;line-height:normal;font-family:Menlo,'DejaVu Sans Mono',consolas,'Courier New',monospace\">Running mean: <span style=\"color: #008080; text-decoration-color: #008080; font-weight: bold\">15.306</span> - Running variance: <span style=\"color: #008080; text-decoration-color: #008080; font-weight: bold\">8.965</span>\n",
       "</pre>\n"
      ],
      "text/plain": [
       "Running mean: \u001b[1;36m15.306\u001b[0m - Running variance: \u001b[1;36m8.965\u001b[0m\n"
      ]
     },
     "metadata": {},
     "output_type": "display_data"
    },
    {
     "data": {
      "text/html": [
       "<pre style=\"white-space:pre;overflow-x:auto;line-height:normal;font-family:Menlo,'DejaVu Sans Mono',consolas,'Courier New',monospace\">Running mean: <span style=\"color: #008080; text-decoration-color: #008080; font-weight: bold\">15.274</span> - Running variance: <span style=\"color: #008080; text-decoration-color: #008080; font-weight: bold\">8.845</span>\n",
       "</pre>\n"
      ],
      "text/plain": [
       "Running mean: \u001b[1;36m15.274\u001b[0m - Running variance: \u001b[1;36m8.845\u001b[0m\n"
      ]
     },
     "metadata": {},
     "output_type": "display_data"
    },
    {
     "data": {
      "text/html": [
       "<pre style=\"white-space:pre;overflow-x:auto;line-height:normal;font-family:Menlo,'DejaVu Sans Mono',consolas,'Courier New',monospace\">Running mean: <span style=\"color: #008080; text-decoration-color: #008080; font-weight: bold\">15.211</span> - Running variance: <span style=\"color: #008080; text-decoration-color: #008080; font-weight: bold\">8.884</span>\n",
       "</pre>\n"
      ],
      "text/plain": [
       "Running mean: \u001b[1;36m15.211\u001b[0m - Running variance: \u001b[1;36m8.884\u001b[0m\n"
      ]
     },
     "metadata": {},
     "output_type": "display_data"
    },
    {
     "data": {
      "text/html": [
       "<pre style=\"white-space:pre;overflow-x:auto;line-height:normal;font-family:Menlo,'DejaVu Sans Mono',consolas,'Courier New',monospace\">Running mean: <span style=\"color: #008080; text-decoration-color: #008080; font-weight: bold\">15.267</span> - Running variance: <span style=\"color: #008080; text-decoration-color: #008080; font-weight: bold\">8.884</span>\n",
       "</pre>\n"
      ],
      "text/plain": [
       "Running mean: \u001b[1;36m15.267\u001b[0m - Running variance: \u001b[1;36m8.884\u001b[0m\n"
      ]
     },
     "metadata": {},
     "output_type": "display_data"
    },
    {
     "data": {
      "text/html": [
       "<pre style=\"white-space:pre;overflow-x:auto;line-height:normal;font-family:Menlo,'DejaVu Sans Mono',consolas,'Courier New',monospace\">Running mean: <span style=\"color: #008080; text-decoration-color: #008080; font-weight: bold\">15.264</span> - Running variance: <span style=\"color: #008080; text-decoration-color: #008080; font-weight: bold\">8.723</span>\n",
       "</pre>\n"
      ],
      "text/plain": [
       "Running mean: \u001b[1;36m15.264\u001b[0m - Running variance: \u001b[1;36m8.723\u001b[0m\n"
      ]
     },
     "metadata": {},
     "output_type": "display_data"
    },
    {
     "data": {
      "text/html": [
       "<pre style=\"white-space:pre;overflow-x:auto;line-height:normal;font-family:Menlo,'DejaVu Sans Mono',consolas,'Courier New',monospace\">Running mean: <span style=\"color: #008080; text-decoration-color: #008080; font-weight: bold\">15.197</span> - Running variance: <span style=\"color: #008080; text-decoration-color: #008080; font-weight: bold\">8.813</span>\n",
       "</pre>\n"
      ],
      "text/plain": [
       "Running mean: \u001b[1;36m15.197\u001b[0m - Running variance: \u001b[1;36m8.813\u001b[0m\n"
      ]
     },
     "metadata": {},
     "output_type": "display_data"
    },
    {
     "data": {
      "text/html": [
       "<pre style=\"white-space:pre;overflow-x:auto;line-height:normal;font-family:Menlo,'DejaVu Sans Mono',consolas,'Courier New',monospace\">Running mean: <span style=\"color: #008080; text-decoration-color: #008080; font-weight: bold\">15.268</span> - Running variance: <span style=\"color: #008080; text-decoration-color: #008080; font-weight: bold\">8.936</span>\n",
       "</pre>\n"
      ],
      "text/plain": [
       "Running mean: \u001b[1;36m15.268\u001b[0m - Running variance: \u001b[1;36m8.936\u001b[0m\n"
      ]
     },
     "metadata": {},
     "output_type": "display_data"
    },
    {
     "data": {
      "text/html": [
       "<pre style=\"white-space:pre;overflow-x:auto;line-height:normal;font-family:Menlo,'DejaVu Sans Mono',consolas,'Courier New',monospace\">Running mean: <span style=\"color: #008080; text-decoration-color: #008080; font-weight: bold\">15.258</span> - Running variance: <span style=\"color: #008080; text-decoration-color: #008080; font-weight: bold\">8.787</span>\n",
       "</pre>\n"
      ],
      "text/plain": [
       "Running mean: \u001b[1;36m15.258\u001b[0m - Running variance: \u001b[1;36m8.787\u001b[0m\n"
      ]
     },
     "metadata": {},
     "output_type": "display_data"
    },
    {
     "data": {
      "text/html": [
       "<pre style=\"white-space:pre;overflow-x:auto;line-height:normal;font-family:Menlo,'DejaVu Sans Mono',consolas,'Courier New',monospace\">Running mean: <span style=\"color: #008080; text-decoration-color: #008080; font-weight: bold\">15.221</span> - Running variance: <span style=\"color: #008080; text-decoration-color: #008080; font-weight: bold\">8.720</span>\n",
       "</pre>\n"
      ],
      "text/plain": [
       "Running mean: \u001b[1;36m15.221\u001b[0m - Running variance: \u001b[1;36m8.720\u001b[0m\n"
      ]
     },
     "metadata": {},
     "output_type": "display_data"
    },
    {
     "data": {
      "text/html": [
       "<pre style=\"white-space:pre;overflow-x:auto;line-height:normal;font-family:Menlo,'DejaVu Sans Mono',consolas,'Courier New',monospace\">Running mean: <span style=\"color: #008080; text-decoration-color: #008080; font-weight: bold\">15.110</span> - Running variance: <span style=\"color: #008080; text-decoration-color: #008080; font-weight: bold\">9.289</span>\n",
       "</pre>\n"
      ],
      "text/plain": [
       "Running mean: \u001b[1;36m15.110\u001b[0m - Running variance: \u001b[1;36m9.289\u001b[0m\n"
      ]
     },
     "metadata": {},
     "output_type": "display_data"
    },
    {
     "data": {
      "text/html": [
       "<pre style=\"white-space:pre;overflow-x:auto;line-height:normal;font-family:Menlo,'DejaVu Sans Mono',consolas,'Courier New',monospace\">Running mean: <span style=\"color: #008080; text-decoration-color: #008080; font-weight: bold\">15.029</span> - Running variance: <span style=\"color: #008080; text-decoration-color: #008080; font-weight: bold\">9.530</span>\n",
       "</pre>\n"
      ],
      "text/plain": [
       "Running mean: \u001b[1;36m15.029\u001b[0m - Running variance: \u001b[1;36m9.530\u001b[0m\n"
      ]
     },
     "metadata": {},
     "output_type": "display_data"
    },
    {
     "data": {
      "text/html": [
       "<pre style=\"white-space:pre;overflow-x:auto;line-height:normal;font-family:Menlo,'DejaVu Sans Mono',consolas,'Courier New',monospace\">Running mean: <span style=\"color: #008080; text-decoration-color: #008080; font-weight: bold\">14.926</span> - Running variance: <span style=\"color: #008080; text-decoration-color: #008080; font-weight: bold\">10.033</span>\n",
       "</pre>\n"
      ],
      "text/plain": [
       "Running mean: \u001b[1;36m14.926\u001b[0m - Running variance: \u001b[1;36m10.033\u001b[0m\n"
      ]
     },
     "metadata": {},
     "output_type": "display_data"
    },
    {
     "data": {
      "text/html": [
       "<pre style=\"white-space:pre;overflow-x:auto;line-height:normal;font-family:Menlo,'DejaVu Sans Mono',consolas,'Courier New',monospace\">Running mean: <span style=\"color: #008080; text-decoration-color: #008080; font-weight: bold\">14.915</span> - Running variance: <span style=\"color: #008080; text-decoration-color: #008080; font-weight: bold\">9.881</span>\n",
       "</pre>\n"
      ],
      "text/plain": [
       "Running mean: \u001b[1;36m14.915\u001b[0m - Running variance: \u001b[1;36m9.881\u001b[0m\n"
      ]
     },
     "metadata": {},
     "output_type": "display_data"
    },
    {
     "data": {
      "text/html": [
       "<pre style=\"white-space:pre;overflow-x:auto;line-height:normal;font-family:Menlo,'DejaVu Sans Mono',consolas,'Courier New',monospace\">Running mean: <span style=\"color: #008080; text-decoration-color: #008080; font-weight: bold\">14.825</span> - Running variance: <span style=\"color: #008080; text-decoration-color: #008080; font-weight: bold\">10.233</span>\n",
       "</pre>\n"
      ],
      "text/plain": [
       "Running mean: \u001b[1;36m14.825\u001b[0m - Running variance: \u001b[1;36m10.233\u001b[0m\n"
      ]
     },
     "metadata": {},
     "output_type": "display_data"
    },
    {
     "data": {
      "text/html": [
       "<pre style=\"white-space:pre;overflow-x:auto;line-height:normal;font-family:Menlo,'DejaVu Sans Mono',consolas,'Courier New',monospace\">Running mean: <span style=\"color: #008080; text-decoration-color: #008080; font-weight: bold\">14.792</span> - Running variance: <span style=\"color: #008080; text-decoration-color: #008080; font-weight: bold\">10.146</span>\n",
       "</pre>\n"
      ],
      "text/plain": [
       "Running mean: \u001b[1;36m14.792\u001b[0m - Running variance: \u001b[1;36m10.146\u001b[0m\n"
      ]
     },
     "metadata": {},
     "output_type": "display_data"
    },
    {
     "data": {
      "text/html": [
       "<pre style=\"white-space:pre;overflow-x:auto;line-height:normal;font-family:Menlo,'DejaVu Sans Mono',consolas,'Courier New',monospace\">Running mean: <span style=\"color: #008080; text-decoration-color: #008080; font-weight: bold\">14.792</span> - Running variance: <span style=\"color: #008080; text-decoration-color: #008080; font-weight: bold\">9.992</span>\n",
       "</pre>\n"
      ],
      "text/plain": [
       "Running mean: \u001b[1;36m14.792\u001b[0m - Running variance: \u001b[1;36m9.992\u001b[0m\n"
      ]
     },
     "metadata": {},
     "output_type": "display_data"
    },
    {
     "data": {
      "text/html": [
       "<pre style=\"white-space:pre;overflow-x:auto;line-height:normal;font-family:Menlo,'DejaVu Sans Mono',consolas,'Courier New',monospace\">Running mean: <span style=\"color: #008080; text-decoration-color: #008080; font-weight: bold\">14.713</span> - Running variance: <span style=\"color: #008080; text-decoration-color: #008080; font-weight: bold\">10.260</span>\n",
       "</pre>\n"
      ],
      "text/plain": [
       "Running mean: \u001b[1;36m14.713\u001b[0m - Running variance: \u001b[1;36m10.260\u001b[0m\n"
      ]
     },
     "metadata": {},
     "output_type": "display_data"
    },
    {
     "data": {
      "text/html": [
       "<pre style=\"white-space:pre;overflow-x:auto;line-height:normal;font-family:Menlo,'DejaVu Sans Mono',consolas,'Courier New',monospace\">Running mean: <span style=\"color: #008080; text-decoration-color: #008080; font-weight: bold\">14.663</span> - Running variance: <span style=\"color: #008080; text-decoration-color: #008080; font-weight: bold\">10.277</span>\n",
       "</pre>\n"
      ],
      "text/plain": [
       "Running mean: \u001b[1;36m14.663\u001b[0m - Running variance: \u001b[1;36m10.277\u001b[0m\n"
      ]
     },
     "metadata": {},
     "output_type": "display_data"
    },
    {
     "data": {
      "text/html": [
       "<pre style=\"white-space:pre;overflow-x:auto;line-height:normal;font-family:Menlo,'DejaVu Sans Mono',consolas,'Courier New',monospace\">Running mean: <span style=\"color: #008080; text-decoration-color: #008080; font-weight: bold\">14.581</span> - Running variance: <span style=\"color: #008080; text-decoration-color: #008080; font-weight: bold\">10.581</span>\n",
       "</pre>\n"
      ],
      "text/plain": [
       "Running mean: \u001b[1;36m14.581\u001b[0m - Running variance: \u001b[1;36m10.581\u001b[0m\n"
      ]
     },
     "metadata": {},
     "output_type": "display_data"
    },
    {
     "data": {
      "text/html": [
       "<pre style=\"white-space:pre;overflow-x:auto;line-height:normal;font-family:Menlo,'DejaVu Sans Mono',consolas,'Courier New',monospace\">Running mean: <span style=\"color: #008080; text-decoration-color: #008080; font-weight: bold\">14.555</span> - Running variance: <span style=\"color: #008080; text-decoration-color: #008080; font-weight: bold\">10.476</span>\n",
       "</pre>\n"
      ],
      "text/plain": [
       "Running mean: \u001b[1;36m14.555\u001b[0m - Running variance: \u001b[1;36m10.476\u001b[0m\n"
      ]
     },
     "metadata": {},
     "output_type": "display_data"
    },
    {
     "data": {
      "text/html": [
       "<pre style=\"white-space:pre;overflow-x:auto;line-height:normal;font-family:Menlo,'DejaVu Sans Mono',consolas,'Courier New',monospace\">Running mean: <span style=\"color: #008080; text-decoration-color: #008080; font-weight: bold\">14.617</span> - Running variance: <span style=\"color: #008080; text-decoration-color: #008080; font-weight: bold\">10.595</span>\n",
       "</pre>\n"
      ],
      "text/plain": [
       "Running mean: \u001b[1;36m14.617\u001b[0m - Running variance: \u001b[1;36m10.595\u001b[0m\n"
      ]
     },
     "metadata": {},
     "output_type": "display_data"
    },
    {
     "data": {
      "text/html": [
       "<pre style=\"white-space:pre;overflow-x:auto;line-height:normal;font-family:Menlo,'DejaVu Sans Mono',consolas,'Courier New',monospace\">Running mean: <span style=\"color: #008080; text-decoration-color: #008080; font-weight: bold\">14.537</span> - Running variance: <span style=\"color: #008080; text-decoration-color: #008080; font-weight: bold\">10.898</span>\n",
       "</pre>\n"
      ],
      "text/plain": [
       "Running mean: \u001b[1;36m14.537\u001b[0m - Running variance: \u001b[1;36m10.898\u001b[0m\n"
      ]
     },
     "metadata": {},
     "output_type": "display_data"
    },
    {
     "data": {
      "text/html": [
       "<pre style=\"white-space:pre;overflow-x:auto;line-height:normal;font-family:Menlo,'DejaVu Sans Mono',consolas,'Courier New',monospace\">Running mean: <span style=\"color: #008080; text-decoration-color: #008080; font-weight: bold\">14.574</span> - Running variance: <span style=\"color: #008080; text-decoration-color: #008080; font-weight: bold\">10.844</span>\n",
       "</pre>\n"
      ],
      "text/plain": [
       "Running mean: \u001b[1;36m14.574\u001b[0m - Running variance: \u001b[1;36m10.844\u001b[0m\n"
      ]
     },
     "metadata": {},
     "output_type": "display_data"
    },
    {
     "data": {
      "text/html": [
       "<pre style=\"white-space:pre;overflow-x:auto;line-height:normal;font-family:Menlo,'DejaVu Sans Mono',consolas,'Courier New',monospace\">Running mean: <span style=\"color: #008080; text-decoration-color: #008080; font-weight: bold\">14.563</span> - Running variance: <span style=\"color: #008080; text-decoration-color: #008080; font-weight: bold\">10.706</span>\n",
       "</pre>\n"
      ],
      "text/plain": [
       "Running mean: \u001b[1;36m14.563\u001b[0m - Running variance: \u001b[1;36m10.706\u001b[0m\n"
      ]
     },
     "metadata": {},
     "output_type": "display_data"
    },
    {
     "data": {
      "text/html": [
       "<pre style=\"white-space:pre;overflow-x:auto;line-height:normal;font-family:Menlo,'DejaVu Sans Mono',consolas,'Courier New',monospace\">Running mean: <span style=\"color: #008080; text-decoration-color: #008080; font-weight: bold\">14.533</span> - Running variance: <span style=\"color: #008080; text-decoration-color: #008080; font-weight: bold\">10.630</span>\n",
       "</pre>\n"
      ],
      "text/plain": [
       "Running mean: \u001b[1;36m14.533\u001b[0m - Running variance: \u001b[1;36m10.630\u001b[0m\n"
      ]
     },
     "metadata": {},
     "output_type": "display_data"
    },
    {
     "data": {
      "text/html": [
       "<pre style=\"white-space:pre;overflow-x:auto;line-height:normal;font-family:Menlo,'DejaVu Sans Mono',consolas,'Courier New',monospace\">Running mean: <span style=\"color: #008080; text-decoration-color: #008080; font-weight: bold\">14.554</span> - Running variance: <span style=\"color: #008080; text-decoration-color: #008080; font-weight: bold\">10.520</span>\n",
       "</pre>\n"
      ],
      "text/plain": [
       "Running mean: \u001b[1;36m14.554\u001b[0m - Running variance: \u001b[1;36m10.520\u001b[0m\n"
      ]
     },
     "metadata": {},
     "output_type": "display_data"
    },
    {
     "data": {
      "text/html": [
       "<pre style=\"white-space:pre;overflow-x:auto;line-height:normal;font-family:Menlo,'DejaVu Sans Mono',consolas,'Courier New',monospace\">Running mean: <span style=\"color: #008080; text-decoration-color: #008080; font-weight: bold\">14.540</span> - Running variance: <span style=\"color: #008080; text-decoration-color: #008080; font-weight: bold\">10.397</span>\n",
       "</pre>\n"
      ],
      "text/plain": [
       "Running mean: \u001b[1;36m14.540\u001b[0m - Running variance: \u001b[1;36m10.397\u001b[0m\n"
      ]
     },
     "metadata": {},
     "output_type": "display_data"
    },
    {
     "data": {
      "text/html": [
       "<pre style=\"white-space:pre;overflow-x:auto;line-height:normal;font-family:Menlo,'DejaVu Sans Mono',consolas,'Courier New',monospace\">Running mean: <span style=\"color: #008080; text-decoration-color: #008080; font-weight: bold\">14.585</span> - Running variance: <span style=\"color: #008080; text-decoration-color: #008080; font-weight: bold\">10.420</span>\n",
       "</pre>\n"
      ],
      "text/plain": [
       "Running mean: \u001b[1;36m14.585\u001b[0m - Running variance: \u001b[1;36m10.420\u001b[0m\n"
      ]
     },
     "metadata": {},
     "output_type": "display_data"
    },
    {
     "data": {
      "text/html": [
       "<pre style=\"white-space:pre;overflow-x:auto;line-height:normal;font-family:Menlo,'DejaVu Sans Mono',consolas,'Courier New',monospace\">Running mean: <span style=\"color: #008080; text-decoration-color: #008080; font-weight: bold\">14.656</span> - Running variance: <span style=\"color: #008080; text-decoration-color: #008080; font-weight: bold\">10.679</span>\n",
       "</pre>\n"
      ],
      "text/plain": [
       "Running mean: \u001b[1;36m14.656\u001b[0m - Running variance: \u001b[1;36m10.679\u001b[0m\n"
      ]
     },
     "metadata": {},
     "output_type": "display_data"
    },
    {
     "data": {
      "text/html": [
       "<pre style=\"white-space:pre;overflow-x:auto;line-height:normal;font-family:Menlo,'DejaVu Sans Mono',consolas,'Courier New',monospace\">Running mean: <span style=\"color: #008080; text-decoration-color: #008080; font-weight: bold\">14.634</span> - Running variance: <span style=\"color: #008080; text-decoration-color: #008080; font-weight: bold\">10.585</span>\n",
       "</pre>\n"
      ],
      "text/plain": [
       "Running mean: \u001b[1;36m14.634\u001b[0m - Running variance: \u001b[1;36m10.585\u001b[0m\n"
      ]
     },
     "metadata": {},
     "output_type": "display_data"
    },
    {
     "data": {
      "text/html": [
       "<pre style=\"white-space:pre;overflow-x:auto;line-height:normal;font-family:Menlo,'DejaVu Sans Mono',consolas,'Courier New',monospace\">Running mean: <span style=\"color: #008080; text-decoration-color: #008080; font-weight: bold\">14.594</span> - Running variance: <span style=\"color: #008080; text-decoration-color: #008080; font-weight: bold\">10.578</span>\n",
       "</pre>\n"
      ],
      "text/plain": [
       "Running mean: \u001b[1;36m14.594\u001b[0m - Running variance: \u001b[1;36m10.578\u001b[0m\n"
      ]
     },
     "metadata": {},
     "output_type": "display_data"
    },
    {
     "data": {
      "text/html": [
       "<pre style=\"white-space:pre;overflow-x:auto;line-height:normal;font-family:Menlo,'DejaVu Sans Mono',consolas,'Courier New',monospace\">Running mean: <span style=\"color: #008080; text-decoration-color: #008080; font-weight: bold\">14.579</span> - Running variance: <span style=\"color: #008080; text-decoration-color: #008080; font-weight: bold\">10.468</span>\n",
       "</pre>\n"
      ],
      "text/plain": [
       "Running mean: \u001b[1;36m14.579\u001b[0m - Running variance: \u001b[1;36m10.468\u001b[0m\n"
      ]
     },
     "metadata": {},
     "output_type": "display_data"
    },
    {
     "data": {
      "text/html": [
       "<pre style=\"white-space:pre;overflow-x:auto;line-height:normal;font-family:Menlo,'DejaVu Sans Mono',consolas,'Courier New',monospace\">Running mean: <span style=\"color: #008080; text-decoration-color: #008080; font-weight: bold\">14.707</span> - Running variance: <span style=\"color: #008080; text-decoration-color: #008080; font-weight: bold\">11.690</span>\n",
       "</pre>\n"
      ],
      "text/plain": [
       "Running mean: \u001b[1;36m14.707\u001b[0m - Running variance: \u001b[1;36m11.690\u001b[0m\n"
      ]
     },
     "metadata": {},
     "output_type": "display_data"
    },
    {
     "data": {
      "text/html": [
       "<pre style=\"white-space:pre;overflow-x:auto;line-height:normal;font-family:Menlo,'DejaVu Sans Mono',consolas,'Courier New',monospace\">Running mean: <span style=\"color: #008080; text-decoration-color: #008080; font-weight: bold\">14.760</span> - Running variance: <span style=\"color: #008080; text-decoration-color: #008080; font-weight: bold\">11.778</span>\n",
       "</pre>\n"
      ],
      "text/plain": [
       "Running mean: \u001b[1;36m14.760\u001b[0m - Running variance: \u001b[1;36m11.778\u001b[0m\n"
      ]
     },
     "metadata": {},
     "output_type": "display_data"
    },
    {
     "data": {
      "text/html": [
       "<pre style=\"white-space:pre;overflow-x:auto;line-height:normal;font-family:Menlo,'DejaVu Sans Mono',consolas,'Courier New',monospace\">Running mean: <span style=\"color: #008080; text-decoration-color: #008080; font-weight: bold\">14.727</span> - Running variance: <span style=\"color: #008080; text-decoration-color: #008080; font-weight: bold\">11.728</span>\n",
       "</pre>\n"
      ],
      "text/plain": [
       "Running mean: \u001b[1;36m14.727\u001b[0m - Running variance: \u001b[1;36m11.728\u001b[0m\n"
      ]
     },
     "metadata": {},
     "output_type": "display_data"
    },
    {
     "data": {
      "text/html": [
       "<pre style=\"white-space:pre;overflow-x:auto;line-height:normal;font-family:Menlo,'DejaVu Sans Mono',consolas,'Courier New',monospace\">Running mean: <span style=\"color: #008080; text-decoration-color: #008080; font-weight: bold\">14.770</span> - Running variance: <span style=\"color: #008080; text-decoration-color: #008080; font-weight: bold\">11.752</span>\n",
       "</pre>\n"
      ],
      "text/plain": [
       "Running mean: \u001b[1;36m14.770\u001b[0m - Running variance: \u001b[1;36m11.752\u001b[0m\n"
      ]
     },
     "metadata": {},
     "output_type": "display_data"
    },
    {
     "data": {
      "text/html": [
       "<pre style=\"white-space:pre;overflow-x:auto;line-height:normal;font-family:Menlo,'DejaVu Sans Mono',consolas,'Courier New',monospace\">Running mean: <span style=\"color: #008080; text-decoration-color: #008080; font-weight: bold\">14.767</span> - Running variance: <span style=\"color: #008080; text-decoration-color: #008080; font-weight: bold\">11.617</span>\n",
       "</pre>\n"
      ],
      "text/plain": [
       "Running mean: \u001b[1;36m14.767\u001b[0m - Running variance: \u001b[1;36m11.617\u001b[0m\n"
      ]
     },
     "metadata": {},
     "output_type": "display_data"
    },
    {
     "data": {
      "text/html": [
       "<pre style=\"white-space:pre;overflow-x:auto;line-height:normal;font-family:Menlo,'DejaVu Sans Mono',consolas,'Courier New',monospace\">Running mean: <span style=\"color: #008080; text-decoration-color: #008080; font-weight: bold\">14.815</span> - Running variance: <span style=\"color: #008080; text-decoration-color: #008080; font-weight: bold\">11.689</span>\n",
       "</pre>\n"
      ],
      "text/plain": [
       "Running mean: \u001b[1;36m14.815\u001b[0m - Running variance: \u001b[1;36m11.689\u001b[0m\n"
      ]
     },
     "metadata": {},
     "output_type": "display_data"
    },
    {
     "data": {
      "text/html": [
       "<pre style=\"white-space:pre;overflow-x:auto;line-height:normal;font-family:Menlo,'DejaVu Sans Mono',consolas,'Courier New',monospace\">Running mean: <span style=\"color: #008080; text-decoration-color: #008080; font-weight: bold\">14.788</span> - Running variance: <span style=\"color: #008080; text-decoration-color: #008080; font-weight: bold\">11.624</span>\n",
       "</pre>\n"
      ],
      "text/plain": [
       "Running mean: \u001b[1;36m14.788\u001b[0m - Running variance: \u001b[1;36m11.624\u001b[0m\n"
      ]
     },
     "metadata": {},
     "output_type": "display_data"
    },
    {
     "data": {
      "text/html": [
       "<pre style=\"white-space:pre;overflow-x:auto;line-height:normal;font-family:Menlo,'DejaVu Sans Mono',consolas,'Courier New',monospace\">Running mean: <span style=\"color: #008080; text-decoration-color: #008080; font-weight: bold\">14.786</span> - Running variance: <span style=\"color: #008080; text-decoration-color: #008080; font-weight: bold\">11.495</span>\n",
       "</pre>\n"
      ],
      "text/plain": [
       "Running mean: \u001b[1;36m14.786\u001b[0m - Running variance: \u001b[1;36m11.495\u001b[0m\n"
      ]
     },
     "metadata": {},
     "output_type": "display_data"
    },
    {
     "data": {
      "text/html": [
       "<pre style=\"white-space:pre;overflow-x:auto;line-height:normal;font-family:Menlo,'DejaVu Sans Mono',consolas,'Courier New',monospace\">Running mean: <span style=\"color: #008080; text-decoration-color: #008080; font-weight: bold\">14.784</span> - Running variance: <span style=\"color: #008080; text-decoration-color: #008080; font-weight: bold\">11.369</span>\n",
       "</pre>\n"
      ],
      "text/plain": [
       "Running mean: \u001b[1;36m14.784\u001b[0m - Running variance: \u001b[1;36m11.369\u001b[0m\n"
      ]
     },
     "metadata": {},
     "output_type": "display_data"
    },
    {
     "data": {
      "text/html": [
       "<pre style=\"white-space:pre;overflow-x:auto;line-height:normal;font-family:Menlo,'DejaVu Sans Mono',consolas,'Courier New',monospace\">Running mean: <span style=\"color: #008080; text-decoration-color: #008080; font-weight: bold\">14.791</span> - Running variance: <span style=\"color: #008080; text-decoration-color: #008080; font-weight: bold\">11.249</span>\n",
       "</pre>\n"
      ],
      "text/plain": [
       "Running mean: \u001b[1;36m14.791\u001b[0m - Running variance: \u001b[1;36m11.249\u001b[0m\n"
      ]
     },
     "metadata": {},
     "output_type": "display_data"
    },
    {
     "data": {
      "text/html": [
       "<pre style=\"white-space:pre;overflow-x:auto;line-height:normal;font-family:Menlo,'DejaVu Sans Mono',consolas,'Courier New',monospace\">Running mean: <span style=\"color: #008080; text-decoration-color: #008080; font-weight: bold\">14.774</span> - Running variance: <span style=\"color: #008080; text-decoration-color: #008080; font-weight: bold\">11.153</span>\n",
       "</pre>\n"
      ],
      "text/plain": [
       "Running mean: \u001b[1;36m14.774\u001b[0m - Running variance: \u001b[1;36m11.153\u001b[0m\n"
      ]
     },
     "metadata": {},
     "output_type": "display_data"
    },
    {
     "data": {
      "text/html": [
       "<pre style=\"white-space:pre;overflow-x:auto;line-height:normal;font-family:Menlo,'DejaVu Sans Mono',consolas,'Courier New',monospace\">Running mean: <span style=\"color: #008080; text-decoration-color: #008080; font-weight: bold\">14.760</span> - Running variance: <span style=\"color: #008080; text-decoration-color: #008080; font-weight: bold\">11.053</span>\n",
       "</pre>\n"
      ],
      "text/plain": [
       "Running mean: \u001b[1;36m14.760\u001b[0m - Running variance: \u001b[1;36m11.053\u001b[0m\n"
      ]
     },
     "metadata": {},
     "output_type": "display_data"
    },
    {
     "data": {
      "text/html": [
       "<pre style=\"white-space:pre;overflow-x:auto;line-height:normal;font-family:Menlo,'DejaVu Sans Mono',consolas,'Courier New',monospace\">Running mean: <span style=\"color: #008080; text-decoration-color: #008080; font-weight: bold\">14.763</span> - Running variance: <span style=\"color: #008080; text-decoration-color: #008080; font-weight: bold\">10.937</span>\n",
       "</pre>\n"
      ],
      "text/plain": [
       "Running mean: \u001b[1;36m14.763\u001b[0m - Running variance: \u001b[1;36m10.937\u001b[0m\n"
      ]
     },
     "metadata": {},
     "output_type": "display_data"
    },
    {
     "data": {
      "text/html": [
       "<pre style=\"white-space:pre;overflow-x:auto;line-height:normal;font-family:Menlo,'DejaVu Sans Mono',consolas,'Courier New',monospace\">Running mean: <span style=\"color: #008080; text-decoration-color: #008080; font-weight: bold\">14.821</span> - Running variance: <span style=\"color: #008080; text-decoration-color: #008080; font-weight: bold\">11.135</span>\n",
       "</pre>\n"
      ],
      "text/plain": [
       "Running mean: \u001b[1;36m14.821\u001b[0m - Running variance: \u001b[1;36m11.135\u001b[0m\n"
      ]
     },
     "metadata": {},
     "output_type": "display_data"
    },
    {
     "data": {
      "text/html": [
       "<pre style=\"white-space:pre;overflow-x:auto;line-height:normal;font-family:Menlo,'DejaVu Sans Mono',consolas,'Courier New',monospace\">Running mean: <span style=\"color: #008080; text-decoration-color: #008080; font-weight: bold\">14.794</span> - Running variance: <span style=\"color: #008080; text-decoration-color: #008080; font-weight: bold\">11.091</span>\n",
       "</pre>\n"
      ],
      "text/plain": [
       "Running mean: \u001b[1;36m14.794\u001b[0m - Running variance: \u001b[1;36m11.091\u001b[0m\n"
      ]
     },
     "metadata": {},
     "output_type": "display_data"
    },
    {
     "data": {
      "text/html": [
       "<pre style=\"white-space:pre;overflow-x:auto;line-height:normal;font-family:Menlo,'DejaVu Sans Mono',consolas,'Courier New',monospace\">Running mean: <span style=\"color: #008080; text-decoration-color: #008080; font-weight: bold\">14.742</span> - Running variance: <span style=\"color: #008080; text-decoration-color: #008080; font-weight: bold\">11.231</span>\n",
       "</pre>\n"
      ],
      "text/plain": [
       "Running mean: \u001b[1;36m14.742\u001b[0m - Running variance: \u001b[1;36m11.231\u001b[0m\n"
      ]
     },
     "metadata": {},
     "output_type": "display_data"
    },
    {
     "data": {
      "text/html": [
       "<pre style=\"white-space:pre;overflow-x:auto;line-height:normal;font-family:Menlo,'DejaVu Sans Mono',consolas,'Courier New',monospace\">Running mean: <span style=\"color: #008080; text-decoration-color: #008080; font-weight: bold\">14.711</span> - Running variance: <span style=\"color: #008080; text-decoration-color: #008080; font-weight: bold\">11.217</span>\n",
       "</pre>\n"
      ],
      "text/plain": [
       "Running mean: \u001b[1;36m14.711\u001b[0m - Running variance: \u001b[1;36m11.217\u001b[0m\n"
      ]
     },
     "metadata": {},
     "output_type": "display_data"
    },
    {
     "data": {
      "text/html": [
       "<pre style=\"white-space:pre;overflow-x:auto;line-height:normal;font-family:Menlo,'DejaVu Sans Mono',consolas,'Courier New',monospace\">Running mean: <span style=\"color: #008080; text-decoration-color: #008080; font-weight: bold\">14.708</span> - Running variance: <span style=\"color: #008080; text-decoration-color: #008080; font-weight: bold\">11.105</span>\n",
       "</pre>\n"
      ],
      "text/plain": [
       "Running mean: \u001b[1;36m14.708\u001b[0m - Running variance: \u001b[1;36m11.105\u001b[0m\n"
      ]
     },
     "metadata": {},
     "output_type": "display_data"
    },
    {
     "data": {
      "text/html": [
       "<pre style=\"white-space:pre;overflow-x:auto;line-height:normal;font-family:Menlo,'DejaVu Sans Mono',consolas,'Courier New',monospace\">Running mean: <span style=\"color: #008080; text-decoration-color: #008080; font-weight: bold\">14.697</span> - Running variance: <span style=\"color: #008080; text-decoration-color: #008080; font-weight: bold\">11.007</span>\n",
       "</pre>\n"
      ],
      "text/plain": [
       "Running mean: \u001b[1;36m14.697\u001b[0m - Running variance: \u001b[1;36m11.007\u001b[0m\n"
      ]
     },
     "metadata": {},
     "output_type": "display_data"
    },
    {
     "data": {
      "text/html": [
       "<pre style=\"white-space:pre;overflow-x:auto;line-height:normal;font-family:Menlo,'DejaVu Sans Mono',consolas,'Courier New',monospace\">Running mean: <span style=\"color: #008080; text-decoration-color: #008080; font-weight: bold\">14.621</span> - Running variance: <span style=\"color: #008080; text-decoration-color: #008080; font-weight: bold\">11.477</span>\n",
       "</pre>\n"
      ],
      "text/plain": [
       "Running mean: \u001b[1;36m14.621\u001b[0m - Running variance: \u001b[1;36m11.477\u001b[0m\n"
      ]
     },
     "metadata": {},
     "output_type": "display_data"
    },
    {
     "data": {
      "text/html": [
       "<pre style=\"white-space:pre;overflow-x:auto;line-height:normal;font-family:Menlo,'DejaVu Sans Mono',consolas,'Courier New',monospace\">Running mean: <span style=\"color: #008080; text-decoration-color: #008080; font-weight: bold\">14.598</span> - Running variance: <span style=\"color: #008080; text-decoration-color: #008080; font-weight: bold\">11.423</span>\n",
       "</pre>\n"
      ],
      "text/plain": [
       "Running mean: \u001b[1;36m14.598\u001b[0m - Running variance: \u001b[1;36m11.423\u001b[0m\n"
      ]
     },
     "metadata": {},
     "output_type": "display_data"
    },
    {
     "data": {
      "text/html": [
       "<pre style=\"white-space:pre;overflow-x:auto;line-height:normal;font-family:Menlo,'DejaVu Sans Mono',consolas,'Courier New',monospace\">Running mean: <span style=\"color: #008080; text-decoration-color: #008080; font-weight: bold\">14.552</span> - Running variance: <span style=\"color: #008080; text-decoration-color: #008080; font-weight: bold\">11.526</span>\n",
       "</pre>\n"
      ],
      "text/plain": [
       "Running mean: \u001b[1;36m14.552\u001b[0m - Running variance: \u001b[1;36m11.526\u001b[0m\n"
      ]
     },
     "metadata": {},
     "output_type": "display_data"
    },
    {
     "data": {
      "text/html": [
       "<pre style=\"white-space:pre;overflow-x:auto;line-height:normal;font-family:Menlo,'DejaVu Sans Mono',consolas,'Courier New',monospace\">Running mean: <span style=\"color: #008080; text-decoration-color: #008080; font-weight: bold\">14.513</span> - Running variance: <span style=\"color: #008080; text-decoration-color: #008080; font-weight: bold\">11.571</span>\n",
       "</pre>\n"
      ],
      "text/plain": [
       "Running mean: \u001b[1;36m14.513\u001b[0m - Running variance: \u001b[1;36m11.571\u001b[0m\n"
      ]
     },
     "metadata": {},
     "output_type": "display_data"
    },
    {
     "data": {
      "text/html": [
       "<pre style=\"white-space:pre;overflow-x:auto;line-height:normal;font-family:Menlo,'DejaVu Sans Mono',consolas,'Courier New',monospace\">Running mean: <span style=\"color: #008080; text-decoration-color: #008080; font-weight: bold\">14.500</span> - Running variance: <span style=\"color: #008080; text-decoration-color: #008080; font-weight: bold\">11.481</span>\n",
       "</pre>\n"
      ],
      "text/plain": [
       "Running mean: \u001b[1;36m14.500\u001b[0m - Running variance: \u001b[1;36m11.481\u001b[0m\n"
      ]
     },
     "metadata": {},
     "output_type": "display_data"
    },
    {
     "data": {
      "text/html": [
       "<pre style=\"white-space:pre;overflow-x:auto;line-height:normal;font-family:Menlo,'DejaVu Sans Mono',consolas,'Courier New',monospace\">Running mean: <span style=\"color: #008080; text-decoration-color: #008080; font-weight: bold\">14.474</span> - Running variance: <span style=\"color: #008080; text-decoration-color: #008080; font-weight: bold\">11.449</span>\n",
       "</pre>\n"
      ],
      "text/plain": [
       "Running mean: \u001b[1;36m14.474\u001b[0m - Running variance: \u001b[1;36m11.449\u001b[0m\n"
      ]
     },
     "metadata": {},
     "output_type": "display_data"
    },
    {
     "data": {
      "text/html": [
       "<pre style=\"white-space:pre;overflow-x:auto;line-height:normal;font-family:Menlo,'DejaVu Sans Mono',consolas,'Courier New',monospace\">Running mean: <span style=\"color: #008080; text-decoration-color: #008080; font-weight: bold\">14.454</span> - Running variance: <span style=\"color: #008080; text-decoration-color: #008080; font-weight: bold\">11.384</span>\n",
       "</pre>\n"
      ],
      "text/plain": [
       "Running mean: \u001b[1;36m14.454\u001b[0m - Running variance: \u001b[1;36m11.384\u001b[0m\n"
      ]
     },
     "metadata": {},
     "output_type": "display_data"
    },
    {
     "data": {
      "text/html": [
       "<pre style=\"white-space:pre;overflow-x:auto;line-height:normal;font-family:Menlo,'DejaVu Sans Mono',consolas,'Courier New',monospace\">Running mean: <span style=\"color: #008080; text-decoration-color: #008080; font-weight: bold\">14.526</span> - Running variance: <span style=\"color: #008080; text-decoration-color: #008080; font-weight: bold\">11.835</span>\n",
       "</pre>\n"
      ],
      "text/plain": [
       "Running mean: \u001b[1;36m14.526\u001b[0m - Running variance: \u001b[1;36m11.835\u001b[0m\n"
      ]
     },
     "metadata": {},
     "output_type": "display_data"
    },
    {
     "data": {
      "text/html": [
       "<pre style=\"white-space:pre;overflow-x:auto;line-height:normal;font-family:Menlo,'DejaVu Sans Mono',consolas,'Courier New',monospace\">Running mean: <span style=\"color: #008080; text-decoration-color: #008080; font-weight: bold\">14.497</span> - Running variance: <span style=\"color: #008080; text-decoration-color: #008080; font-weight: bold\">11.819</span>\n",
       "</pre>\n"
      ],
      "text/plain": [
       "Running mean: \u001b[1;36m14.497\u001b[0m - Running variance: \u001b[1;36m11.819\u001b[0m\n"
      ]
     },
     "metadata": {},
     "output_type": "display_data"
    },
    {
     "data": {
      "text/html": [
       "<pre style=\"white-space:pre;overflow-x:auto;line-height:normal;font-family:Menlo,'DejaVu Sans Mono',consolas,'Courier New',monospace\">Running mean: <span style=\"color: #008080; text-decoration-color: #008080; font-weight: bold\">14.454</span> - Running variance: <span style=\"color: #008080; text-decoration-color: #008080; font-weight: bold\">11.911</span>\n",
       "</pre>\n"
      ],
      "text/plain": [
       "Running mean: \u001b[1;36m14.454\u001b[0m - Running variance: \u001b[1;36m11.911\u001b[0m\n"
      ]
     },
     "metadata": {},
     "output_type": "display_data"
    },
    {
     "data": {
      "text/html": [
       "<pre style=\"white-space:pre;overflow-x:auto;line-height:normal;font-family:Menlo,'DejaVu Sans Mono',consolas,'Courier New',monospace\">Running mean: <span style=\"color: #008080; text-decoration-color: #008080; font-weight: bold\">14.438</span> - Running variance: <span style=\"color: #008080; text-decoration-color: #008080; font-weight: bold\">11.834</span>\n",
       "</pre>\n"
      ],
      "text/plain": [
       "Running mean: \u001b[1;36m14.438\u001b[0m - Running variance: \u001b[1;36m11.834\u001b[0m\n"
      ]
     },
     "metadata": {},
     "output_type": "display_data"
    },
    {
     "data": {
      "text/html": [
       "<pre style=\"white-space:pre;overflow-x:auto;line-height:normal;font-family:Menlo,'DejaVu Sans Mono',consolas,'Courier New',monospace\">Running mean: <span style=\"color: #008080; text-decoration-color: #008080; font-weight: bold\">14.436</span> - Running variance: <span style=\"color: #008080; text-decoration-color: #008080; font-weight: bold\">11.730</span>\n",
       "</pre>\n"
      ],
      "text/plain": [
       "Running mean: \u001b[1;36m14.436\u001b[0m - Running variance: \u001b[1;36m11.730\u001b[0m\n"
      ]
     },
     "metadata": {},
     "output_type": "display_data"
    },
    {
     "data": {
      "text/html": [
       "<pre style=\"white-space:pre;overflow-x:auto;line-height:normal;font-family:Menlo,'DejaVu Sans Mono',consolas,'Courier New',monospace\">Running mean: <span style=\"color: #008080; text-decoration-color: #008080; font-weight: bold\">14.402</span> - Running variance: <span style=\"color: #008080; text-decoration-color: #008080; font-weight: bold\">11.761</span>\n",
       "</pre>\n"
      ],
      "text/plain": [
       "Running mean: \u001b[1;36m14.402\u001b[0m - Running variance: \u001b[1;36m11.761\u001b[0m\n"
      ]
     },
     "metadata": {},
     "output_type": "display_data"
    },
    {
     "data": {
      "text/html": [
       "<pre style=\"white-space:pre;overflow-x:auto;line-height:normal;font-family:Menlo,'DejaVu Sans Mono',consolas,'Courier New',monospace\">Running mean: <span style=\"color: #008080; text-decoration-color: #008080; font-weight: bold\">14.353</span> - Running variance: <span style=\"color: #008080; text-decoration-color: #008080; font-weight: bold\">11.936</span>\n",
       "</pre>\n"
      ],
      "text/plain": [
       "Running mean: \u001b[1;36m14.353\u001b[0m - Running variance: \u001b[1;36m11.936\u001b[0m\n"
      ]
     },
     "metadata": {},
     "output_type": "display_data"
    },
    {
     "data": {
      "text/html": [
       "<pre style=\"white-space:pre;overflow-x:auto;line-height:normal;font-family:Menlo,'DejaVu Sans Mono',consolas,'Courier New',monospace\">Running mean: <span style=\"color: #008080; text-decoration-color: #008080; font-weight: bold\">14.332</span> - Running variance: <span style=\"color: #008080; text-decoration-color: #008080; font-weight: bold\">11.884</span>\n",
       "</pre>\n"
      ],
      "text/plain": [
       "Running mean: \u001b[1;36m14.332\u001b[0m - Running variance: \u001b[1;36m11.884\u001b[0m\n"
      ]
     },
     "metadata": {},
     "output_type": "display_data"
    },
    {
     "data": {
      "text/html": [
       "<pre style=\"white-space:pre;overflow-x:auto;line-height:normal;font-family:Menlo,'DejaVu Sans Mono',consolas,'Courier New',monospace\">Running mean: <span style=\"color: #008080; text-decoration-color: #008080; font-weight: bold\">14.286</span> - Running variance: <span style=\"color: #008080; text-decoration-color: #008080; font-weight: bold\">12.027</span>\n",
       "</pre>\n"
      ],
      "text/plain": [
       "Running mean: \u001b[1;36m14.286\u001b[0m - Running variance: \u001b[1;36m12.027\u001b[0m\n"
      ]
     },
     "metadata": {},
     "output_type": "display_data"
    },
    {
     "data": {
      "text/html": [
       "<pre style=\"white-space:pre;overflow-x:auto;line-height:normal;font-family:Menlo,'DejaVu Sans Mono',consolas,'Courier New',monospace\">Running mean: <span style=\"color: #008080; text-decoration-color: #008080; font-weight: bold\">14.291</span> - Running variance: <span style=\"color: #008080; text-decoration-color: #008080; font-weight: bold\">11.928</span>\n",
       "</pre>\n"
      ],
      "text/plain": [
       "Running mean: \u001b[1;36m14.291\u001b[0m - Running variance: \u001b[1;36m11.928\u001b[0m\n"
      ]
     },
     "metadata": {},
     "output_type": "display_data"
    },
    {
     "data": {
      "text/html": [
       "<pre style=\"white-space:pre;overflow-x:auto;line-height:normal;font-family:Menlo,'DejaVu Sans Mono',consolas,'Courier New',monospace\">Running mean: <span style=\"color: #008080; text-decoration-color: #008080; font-weight: bold\">14.303</span> - Running variance: <span style=\"color: #008080; text-decoration-color: #008080; font-weight: bold\">11.847</span>\n",
       "</pre>\n"
      ],
      "text/plain": [
       "Running mean: \u001b[1;36m14.303\u001b[0m - Running variance: \u001b[1;36m11.847\u001b[0m\n"
      ]
     },
     "metadata": {},
     "output_type": "display_data"
    },
    {
     "data": {
      "text/html": [
       "<pre style=\"white-space:pre;overflow-x:auto;line-height:normal;font-family:Menlo,'DejaVu Sans Mono',consolas,'Courier New',monospace\">Running mean: <span style=\"color: #008080; text-decoration-color: #008080; font-weight: bold\">14.333</span> - Running variance: <span style=\"color: #008080; text-decoration-color: #008080; font-weight: bold\">11.858</span>\n",
       "</pre>\n"
      ],
      "text/plain": [
       "Running mean: \u001b[1;36m14.333\u001b[0m - Running variance: \u001b[1;36m11.858\u001b[0m\n"
      ]
     },
     "metadata": {},
     "output_type": "display_data"
    },
    {
     "data": {
      "text/html": [
       "<pre style=\"white-space:pre;overflow-x:auto;line-height:normal;font-family:Menlo,'DejaVu Sans Mono',consolas,'Courier New',monospace\">Running mean: <span style=\"color: #008080; text-decoration-color: #008080; font-weight: bold\">14.309</span> - Running variance: <span style=\"color: #008080; text-decoration-color: #008080; font-weight: bold\">11.830</span>\n",
       "</pre>\n"
      ],
      "text/plain": [
       "Running mean: \u001b[1;36m14.309\u001b[0m - Running variance: \u001b[1;36m11.830\u001b[0m\n"
      ]
     },
     "metadata": {},
     "output_type": "display_data"
    },
    {
     "data": {
      "text/html": [
       "<pre style=\"white-space:pre;overflow-x:auto;line-height:normal;font-family:Menlo,'DejaVu Sans Mono',consolas,'Courier New',monospace\">Running mean: <span style=\"color: #008080; text-decoration-color: #008080; font-weight: bold\">14.345</span> - Running variance: <span style=\"color: #008080; text-decoration-color: #008080; font-weight: bold\">11.887</span>\n",
       "</pre>\n"
      ],
      "text/plain": [
       "Running mean: \u001b[1;36m14.345\u001b[0m - Running variance: \u001b[1;36m11.887\u001b[0m\n"
      ]
     },
     "metadata": {},
     "output_type": "display_data"
    },
    {
     "data": {
      "text/html": [
       "<pre style=\"white-space:pre;overflow-x:auto;line-height:normal;font-family:Menlo,'DejaVu Sans Mono',consolas,'Courier New',monospace\">Running mean: <span style=\"color: #008080; text-decoration-color: #008080; font-weight: bold\">14.426</span> - Running variance: <span style=\"color: #008080; text-decoration-color: #008080; font-weight: bold\">12.581</span>\n",
       "</pre>\n"
      ],
      "text/plain": [
       "Running mean: \u001b[1;36m14.426\u001b[0m - Running variance: \u001b[1;36m12.581\u001b[0m\n"
      ]
     },
     "metadata": {},
     "output_type": "display_data"
    },
    {
     "data": {
      "text/html": [
       "<pre style=\"white-space:pre;overflow-x:auto;line-height:normal;font-family:Menlo,'DejaVu Sans Mono',consolas,'Courier New',monospace\">Running mean: <span style=\"color: #008080; text-decoration-color: #008080; font-weight: bold\">14.426</span> - Running variance: <span style=\"color: #008080; text-decoration-color: #008080; font-weight: bold\">12.480</span>\n",
       "</pre>\n"
      ],
      "text/plain": [
       "Running mean: \u001b[1;36m14.426\u001b[0m - Running variance: \u001b[1;36m12.480\u001b[0m\n"
      ]
     },
     "metadata": {},
     "output_type": "display_data"
    },
    {
     "data": {
      "text/html": [
       "<pre style=\"white-space:pre;overflow-x:auto;line-height:normal;font-family:Menlo,'DejaVu Sans Mono',consolas,'Courier New',monospace\">Running mean: <span style=\"color: #008080; text-decoration-color: #008080; font-weight: bold\">14.418</span> - Running variance: <span style=\"color: #008080; text-decoration-color: #008080; font-weight: bold\">12.389</span>\n",
       "</pre>\n"
      ],
      "text/plain": [
       "Running mean: \u001b[1;36m14.418\u001b[0m - Running variance: \u001b[1;36m12.389\u001b[0m\n"
      ]
     },
     "metadata": {},
     "output_type": "display_data"
    },
    {
     "data": {
      "text/html": [
       "<pre style=\"white-space:pre;overflow-x:auto;line-height:normal;font-family:Menlo,'DejaVu Sans Mono',consolas,'Courier New',monospace\">Running mean: <span style=\"color: #008080; text-decoration-color: #008080; font-weight: bold\">14.413</span> - Running variance: <span style=\"color: #008080; text-decoration-color: #008080; font-weight: bold\">12.293</span>\n",
       "</pre>\n"
      ],
      "text/plain": [
       "Running mean: \u001b[1;36m14.413\u001b[0m - Running variance: \u001b[1;36m12.293\u001b[0m\n"
      ]
     },
     "metadata": {},
     "output_type": "display_data"
    },
    {
     "data": {
      "text/html": [
       "<pre style=\"white-space:pre;overflow-x:auto;line-height:normal;font-family:Menlo,'DejaVu Sans Mono',consolas,'Courier New',monospace\">Running mean: <span style=\"color: #008080; text-decoration-color: #008080; font-weight: bold\">14.407</span> - Running variance: <span style=\"color: #008080; text-decoration-color: #008080; font-weight: bold\">12.201</span>\n",
       "</pre>\n"
      ],
      "text/plain": [
       "Running mean: \u001b[1;36m14.407\u001b[0m - Running variance: \u001b[1;36m12.201\u001b[0m\n"
      ]
     },
     "metadata": {},
     "output_type": "display_data"
    },
    {
     "data": {
      "text/html": [
       "<pre style=\"white-space:pre;overflow-x:auto;line-height:normal;font-family:Menlo,'DejaVu Sans Mono',consolas,'Courier New',monospace\">Running mean: <span style=\"color: #008080; text-decoration-color: #008080; font-weight: bold\">14.443</span> - Running variance: <span style=\"color: #008080; text-decoration-color: #008080; font-weight: bold\">12.270</span>\n",
       "</pre>\n"
      ],
      "text/plain": [
       "Running mean: \u001b[1;36m14.443\u001b[0m - Running variance: \u001b[1;36m12.270\u001b[0m\n"
      ]
     },
     "metadata": {},
     "output_type": "display_data"
    },
    {
     "data": {
      "text/html": [
       "<pre style=\"white-space:pre;overflow-x:auto;line-height:normal;font-family:Menlo,'DejaVu Sans Mono',consolas,'Courier New',monospace\">Running mean: <span style=\"color: #008080; text-decoration-color: #008080; font-weight: bold\">14.448</span> - Running variance: <span style=\"color: #008080; text-decoration-color: #008080; font-weight: bold\">12.178</span>\n",
       "</pre>\n"
      ],
      "text/plain": [
       "Running mean: \u001b[1;36m14.448\u001b[0m - Running variance: \u001b[1;36m12.178\u001b[0m\n"
      ]
     },
     "metadata": {},
     "output_type": "display_data"
    },
    {
     "data": {
      "text/html": [
       "<pre style=\"white-space:pre;overflow-x:auto;line-height:normal;font-family:Menlo,'DejaVu Sans Mono',consolas,'Courier New',monospace\">Running mean: <span style=\"color: #008080; text-decoration-color: #008080; font-weight: bold\">14.489</span> - Running variance: <span style=\"color: #008080; text-decoration-color: #008080; font-weight: bold\">12.302</span>\n",
       "</pre>\n"
      ],
      "text/plain": [
       "Running mean: \u001b[1;36m14.489\u001b[0m - Running variance: \u001b[1;36m12.302\u001b[0m\n"
      ]
     },
     "metadata": {},
     "output_type": "display_data"
    },
    {
     "data": {
      "text/html": [
       "<pre style=\"white-space:pre;overflow-x:auto;line-height:normal;font-family:Menlo,'DejaVu Sans Mono',consolas,'Courier New',monospace\">Running mean: <span style=\"color: #008080; text-decoration-color: #008080; font-weight: bold\">14.471</span> - Running variance: <span style=\"color: #008080; text-decoration-color: #008080; font-weight: bold\">12.248</span>\n",
       "</pre>\n"
      ],
      "text/plain": [
       "Running mean: \u001b[1;36m14.471\u001b[0m - Running variance: \u001b[1;36m12.248\u001b[0m\n"
      ]
     },
     "metadata": {},
     "output_type": "display_data"
    },
    {
     "data": {
      "text/html": [
       "<pre style=\"white-space:pre;overflow-x:auto;line-height:normal;font-family:Menlo,'DejaVu Sans Mono',consolas,'Courier New',monospace\">Running mean: <span style=\"color: #008080; text-decoration-color: #008080; font-weight: bold\">14.479</span> - Running variance: <span style=\"color: #008080; text-decoration-color: #008080; font-weight: bold\">12.163</span>\n",
       "</pre>\n"
      ],
      "text/plain": [
       "Running mean: \u001b[1;36m14.479\u001b[0m - Running variance: \u001b[1;36m12.163\u001b[0m\n"
      ]
     },
     "metadata": {},
     "output_type": "display_data"
    },
    {
     "data": {
      "text/html": [
       "<pre style=\"white-space:pre;overflow-x:auto;line-height:normal;font-family:Menlo,'DejaVu Sans Mono',consolas,'Courier New',monospace\">Running mean: <span style=\"color: #008080; text-decoration-color: #008080; font-weight: bold\">14.491</span> - Running variance: <span style=\"color: #008080; text-decoration-color: #008080; font-weight: bold\">12.092</span>\n",
       "</pre>\n"
      ],
      "text/plain": [
       "Running mean: \u001b[1;36m14.491\u001b[0m - Running variance: \u001b[1;36m12.092\u001b[0m\n"
      ]
     },
     "metadata": {},
     "output_type": "display_data"
    },
    {
     "data": {
      "text/html": [
       "<pre style=\"white-space:pre;overflow-x:auto;line-height:normal;font-family:Menlo,'DejaVu Sans Mono',consolas,'Courier New',monospace\">Running mean: <span style=\"color: #008080; text-decoration-color: #008080; font-weight: bold\">14.501</span> - Running variance: <span style=\"color: #008080; text-decoration-color: #008080; font-weight: bold\">12.013</span>\n",
       "</pre>\n"
      ],
      "text/plain": [
       "Running mean: \u001b[1;36m14.501\u001b[0m - Running variance: \u001b[1;36m12.013\u001b[0m\n"
      ]
     },
     "metadata": {},
     "output_type": "display_data"
    },
    {
     "data": {
      "text/html": [
       "<pre style=\"white-space:pre;overflow-x:auto;line-height:normal;font-family:Menlo,'DejaVu Sans Mono',consolas,'Courier New',monospace\">Running mean: <span style=\"color: #008080; text-decoration-color: #008080; font-weight: bold\">14.530</span> - Running variance: <span style=\"color: #008080; text-decoration-color: #008080; font-weight: bold\">12.039</span>\n",
       "</pre>\n"
      ],
      "text/plain": [
       "Running mean: \u001b[1;36m14.530\u001b[0m - Running variance: \u001b[1;36m12.039\u001b[0m\n"
      ]
     },
     "metadata": {},
     "output_type": "display_data"
    },
    {
     "data": {
      "text/html": [
       "<pre style=\"white-space:pre;overflow-x:auto;line-height:normal;font-family:Menlo,'DejaVu Sans Mono',consolas,'Courier New',monospace\">Running mean: <span style=\"color: #008080; text-decoration-color: #008080; font-weight: bold\">14.517</span> - Running variance: <span style=\"color: #008080; text-decoration-color: #008080; font-weight: bold\">11.973</span>\n",
       "</pre>\n"
      ],
      "text/plain": [
       "Running mean: \u001b[1;36m14.517\u001b[0m - Running variance: \u001b[1;36m11.973\u001b[0m\n"
      ]
     },
     "metadata": {},
     "output_type": "display_data"
    },
    {
     "data": {
      "text/html": [
       "<pre style=\"white-space:pre;overflow-x:auto;line-height:normal;font-family:Menlo,'DejaVu Sans Mono',consolas,'Courier New',monospace\">Running mean: <span style=\"color: #008080; text-decoration-color: #008080; font-weight: bold\">14.496</span> - Running variance: <span style=\"color: #008080; text-decoration-color: #008080; font-weight: bold\">11.943</span>\n",
       "</pre>\n"
      ],
      "text/plain": [
       "Running mean: \u001b[1;36m14.496\u001b[0m - Running variance: \u001b[1;36m11.943\u001b[0m\n"
      ]
     },
     "metadata": {},
     "output_type": "display_data"
    },
    {
     "data": {
      "text/html": [
       "<pre style=\"white-space:pre;overflow-x:auto;line-height:normal;font-family:Menlo,'DejaVu Sans Mono',consolas,'Courier New',monospace\">Running mean: <span style=\"color: #008080; text-decoration-color: #008080; font-weight: bold\">14.474</span> - Running variance: <span style=\"color: #008080; text-decoration-color: #008080; font-weight: bold\">11.924</span>\n",
       "</pre>\n"
      ],
      "text/plain": [
       "Running mean: \u001b[1;36m14.474\u001b[0m - Running variance: \u001b[1;36m11.924\u001b[0m\n"
      ]
     },
     "metadata": {},
     "output_type": "display_data"
    },
    {
     "data": {
      "text/html": [
       "<pre style=\"white-space:pre;overflow-x:auto;line-height:normal;font-family:Menlo,'DejaVu Sans Mono',consolas,'Courier New',monospace\">Running mean: <span style=\"color: #008080; text-decoration-color: #008080; font-weight: bold\">14.478</span> - Running variance: <span style=\"color: #008080; text-decoration-color: #008080; font-weight: bold\">11.839</span>\n",
       "</pre>\n"
      ],
      "text/plain": [
       "Running mean: \u001b[1;36m14.478\u001b[0m - Running variance: \u001b[1;36m11.839\u001b[0m\n"
      ]
     },
     "metadata": {},
     "output_type": "display_data"
    },
    {
     "data": {
      "text/html": [
       "<pre style=\"white-space:pre;overflow-x:auto;line-height:normal;font-family:Menlo,'DejaVu Sans Mono',consolas,'Courier New',monospace\">Running mean: <span style=\"color: #008080; text-decoration-color: #008080; font-weight: bold\">14.455</span> - Running variance: <span style=\"color: #008080; text-decoration-color: #008080; font-weight: bold\">11.827</span>\n",
       "</pre>\n"
      ],
      "text/plain": [
       "Running mean: \u001b[1;36m14.455\u001b[0m - Running variance: \u001b[1;36m11.827\u001b[0m\n"
      ]
     },
     "metadata": {},
     "output_type": "display_data"
    },
    {
     "data": {
      "text/html": [
       "<pre style=\"white-space:pre;overflow-x:auto;line-height:normal;font-family:Menlo,'DejaVu Sans Mono',consolas,'Courier New',monospace\">Running mean: <span style=\"color: #008080; text-decoration-color: #008080; font-weight: bold\">14.421</span> - Running variance: <span style=\"color: #008080; text-decoration-color: #008080; font-weight: bold\">11.900</span>\n",
       "</pre>\n"
      ],
      "text/plain": [
       "Running mean: \u001b[1;36m14.421\u001b[0m - Running variance: \u001b[1;36m11.900\u001b[0m\n"
      ]
     },
     "metadata": {},
     "output_type": "display_data"
    },
    {
     "data": {
      "text/html": [
       "<pre style=\"white-space:pre;overflow-x:auto;line-height:normal;font-family:Menlo,'DejaVu Sans Mono',consolas,'Courier New',monospace\">Running mean: <span style=\"color: #008080; text-decoration-color: #008080; font-weight: bold\">14.433</span> - Running variance: <span style=\"color: #008080; text-decoration-color: #008080; font-weight: bold\">11.836</span>\n",
       "</pre>\n"
      ],
      "text/plain": [
       "Running mean: \u001b[1;36m14.433\u001b[0m - Running variance: \u001b[1;36m11.836\u001b[0m\n"
      ]
     },
     "metadata": {},
     "output_type": "display_data"
    },
    {
     "data": {
      "text/html": [
       "<pre style=\"white-space:pre;overflow-x:auto;line-height:normal;font-family:Menlo,'DejaVu Sans Mono',consolas,'Courier New',monospace\">Running mean: <span style=\"color: #008080; text-decoration-color: #008080; font-weight: bold\">14.412</span> - Running variance: <span style=\"color: #008080; text-decoration-color: #008080; font-weight: bold\">11.816</span>\n",
       "</pre>\n"
      ],
      "text/plain": [
       "Running mean: \u001b[1;36m14.412\u001b[0m - Running variance: \u001b[1;36m11.816\u001b[0m\n"
      ]
     },
     "metadata": {},
     "output_type": "display_data"
    },
    {
     "data": {
      "text/html": [
       "<pre style=\"white-space:pre;overflow-x:auto;line-height:normal;font-family:Menlo,'DejaVu Sans Mono',consolas,'Courier New',monospace\">Running mean: <span style=\"color: #008080; text-decoration-color: #008080; font-weight: bold\">14.402</span> - Running variance: <span style=\"color: #008080; text-decoration-color: #008080; font-weight: bold\">11.750</span>\n",
       "</pre>\n"
      ],
      "text/plain": [
       "Running mean: \u001b[1;36m14.402\u001b[0m - Running variance: \u001b[1;36m11.750\u001b[0m\n"
      ]
     },
     "metadata": {},
     "output_type": "display_data"
    },
    {
     "data": {
      "text/html": [
       "<pre style=\"white-space:pre;overflow-x:auto;line-height:normal;font-family:Menlo,'DejaVu Sans Mono',consolas,'Courier New',monospace\">Running mean: <span style=\"color: #008080; text-decoration-color: #008080; font-weight: bold\">14.377</span> - Running variance: <span style=\"color: #008080; text-decoration-color: #008080; font-weight: bold\">11.760</span>\n",
       "</pre>\n"
      ],
      "text/plain": [
       "Running mean: \u001b[1;36m14.377\u001b[0m - Running variance: \u001b[1;36m11.760\u001b[0m\n"
      ]
     },
     "metadata": {},
     "output_type": "display_data"
    },
    {
     "data": {
      "text/html": [
       "<pre style=\"white-space:pre;overflow-x:auto;line-height:normal;font-family:Menlo,'DejaVu Sans Mono',consolas,'Courier New',monospace\">Running mean: <span style=\"color: #008080; text-decoration-color: #008080; font-weight: bold\">14.360</span> - Running variance: <span style=\"color: #008080; text-decoration-color: #008080; font-weight: bold\">11.721</span>\n",
       "</pre>\n"
      ],
      "text/plain": [
       "Running mean: \u001b[1;36m14.360\u001b[0m - Running variance: \u001b[1;36m11.721\u001b[0m\n"
      ]
     },
     "metadata": {},
     "output_type": "display_data"
    },
    {
     "data": {
      "text/html": [
       "<pre style=\"white-space:pre;overflow-x:auto;line-height:normal;font-family:Menlo,'DejaVu Sans Mono',consolas,'Courier New',monospace\">Running mean: <span style=\"color: #008080; text-decoration-color: #008080; font-weight: bold\">14.342</span> - Running variance: <span style=\"color: #008080; text-decoration-color: #008080; font-weight: bold\">11.686</span>\n",
       "</pre>\n"
      ],
      "text/plain": [
       "Running mean: \u001b[1;36m14.342\u001b[0m - Running variance: \u001b[1;36m11.686\u001b[0m\n"
      ]
     },
     "metadata": {},
     "output_type": "display_data"
    },
    {
     "data": {
      "text/html": [
       "<pre style=\"white-space:pre;overflow-x:auto;line-height:normal;font-family:Menlo,'DejaVu Sans Mono',consolas,'Courier New',monospace\">Running mean: <span style=\"color: #008080; text-decoration-color: #008080; font-weight: bold\">14.346</span> - Running variance: <span style=\"color: #008080; text-decoration-color: #008080; font-weight: bold\">11.609</span>\n",
       "</pre>\n"
      ],
      "text/plain": [
       "Running mean: \u001b[1;36m14.346\u001b[0m - Running variance: \u001b[1;36m11.609\u001b[0m\n"
      ]
     },
     "metadata": {},
     "output_type": "display_data"
    },
    {
     "data": {
      "text/html": [
       "<pre style=\"white-space:pre;overflow-x:auto;line-height:normal;font-family:Menlo,'DejaVu Sans Mono',consolas,'Courier New',monospace\">Running mean: <span style=\"color: #008080; text-decoration-color: #008080; font-weight: bold\">14.347</span> - Running variance: <span style=\"color: #008080; text-decoration-color: #008080; font-weight: bold\">11.532</span>\n",
       "</pre>\n"
      ],
      "text/plain": [
       "Running mean: \u001b[1;36m14.347\u001b[0m - Running variance: \u001b[1;36m11.532\u001b[0m\n"
      ]
     },
     "metadata": {},
     "output_type": "display_data"
    },
    {
     "data": {
      "text/html": [
       "<pre style=\"white-space:pre;overflow-x:auto;line-height:normal;font-family:Menlo,'DejaVu Sans Mono',consolas,'Courier New',monospace\">Running mean: <span style=\"color: #008080; text-decoration-color: #008080; font-weight: bold\">14.343</span> - Running variance: <span style=\"color: #008080; text-decoration-color: #008080; font-weight: bold\">11.457</span>\n",
       "</pre>\n"
      ],
      "text/plain": [
       "Running mean: \u001b[1;36m14.343\u001b[0m - Running variance: \u001b[1;36m11.457\u001b[0m\n"
      ]
     },
     "metadata": {},
     "output_type": "display_data"
    },
    {
     "data": {
      "text/html": [
       "<pre style=\"white-space:pre;overflow-x:auto;line-height:normal;font-family:Menlo,'DejaVu Sans Mono',consolas,'Courier New',monospace\">Running mean: <span style=\"color: #008080; text-decoration-color: #008080; font-weight: bold\">14.334</span> - Running variance: <span style=\"color: #008080; text-decoration-color: #008080; font-weight: bold\">11.393</span>\n",
       "</pre>\n"
      ],
      "text/plain": [
       "Running mean: \u001b[1;36m14.334\u001b[0m - Running variance: \u001b[1;36m11.393\u001b[0m\n"
      ]
     },
     "metadata": {},
     "output_type": "display_data"
    },
    {
     "data": {
      "text/html": [
       "<pre style=\"white-space:pre;overflow-x:auto;line-height:normal;font-family:Menlo,'DejaVu Sans Mono',consolas,'Courier New',monospace\">Running mean: <span style=\"color: #008080; text-decoration-color: #008080; font-weight: bold\">14.294</span> - Running variance: <span style=\"color: #008080; text-decoration-color: #008080; font-weight: bold\">11.563</span>\n",
       "</pre>\n"
      ],
      "text/plain": [
       "Running mean: \u001b[1;36m14.294\u001b[0m - Running variance: \u001b[1;36m11.563\u001b[0m\n"
      ]
     },
     "metadata": {},
     "output_type": "display_data"
    },
    {
     "data": {
      "text/html": [
       "<pre style=\"white-space:pre;overflow-x:auto;line-height:normal;font-family:Menlo,'DejaVu Sans Mono',consolas,'Courier New',monospace\">Running mean: <span style=\"color: #008080; text-decoration-color: #008080; font-weight: bold\">14.264</span> - Running variance: <span style=\"color: #008080; text-decoration-color: #008080; font-weight: bold\">11.622</span>\n",
       "</pre>\n"
      ],
      "text/plain": [
       "Running mean: \u001b[1;36m14.264\u001b[0m - Running variance: \u001b[1;36m11.622\u001b[0m\n"
      ]
     },
     "metadata": {},
     "output_type": "display_data"
    },
    {
     "data": {
      "text/html": [
       "<pre style=\"white-space:pre;overflow-x:auto;line-height:normal;font-family:Menlo,'DejaVu Sans Mono',consolas,'Courier New',monospace\">Running mean: <span style=\"color: #008080; text-decoration-color: #008080; font-weight: bold\">14.244</span> - Running variance: <span style=\"color: #008080; text-decoration-color: #008080; font-weight: bold\">11.609</span>\n",
       "</pre>\n"
      ],
      "text/plain": [
       "Running mean: \u001b[1;36m14.244\u001b[0m - Running variance: \u001b[1;36m11.609\u001b[0m\n"
      ]
     },
     "metadata": {},
     "output_type": "display_data"
    },
    {
     "data": {
      "text/html": [
       "<pre style=\"white-space:pre;overflow-x:auto;line-height:normal;font-family:Menlo,'DejaVu Sans Mono',consolas,'Courier New',monospace\">Running mean: <span style=\"color: #008080; text-decoration-color: #008080; font-weight: bold\">14.237</span> - Running variance: <span style=\"color: #008080; text-decoration-color: #008080; font-weight: bold\">11.542</span>\n",
       "</pre>\n"
      ],
      "text/plain": [
       "Running mean: \u001b[1;36m14.237\u001b[0m - Running variance: \u001b[1;36m11.542\u001b[0m\n"
      ]
     },
     "metadata": {},
     "output_type": "display_data"
    },
    {
     "data": {
      "text/html": [
       "<pre style=\"white-space:pre;overflow-x:auto;line-height:normal;font-family:Menlo,'DejaVu Sans Mono',consolas,'Courier New',monospace\">Running mean: <span style=\"color: #008080; text-decoration-color: #008080; font-weight: bold\">14.224</span> - Running variance: <span style=\"color: #008080; text-decoration-color: #008080; font-weight: bold\">11.493</span>\n",
       "</pre>\n"
      ],
      "text/plain": [
       "Running mean: \u001b[1;36m14.224\u001b[0m - Running variance: \u001b[1;36m11.493\u001b[0m\n"
      ]
     },
     "metadata": {},
     "output_type": "display_data"
    },
    {
     "data": {
      "text/html": [
       "<pre style=\"white-space:pre;overflow-x:auto;line-height:normal;font-family:Menlo,'DejaVu Sans Mono',consolas,'Courier New',monospace\">Running mean: <span style=\"color: #008080; text-decoration-color: #008080; font-weight: bold\">14.246</span> - Running variance: <span style=\"color: #008080; text-decoration-color: #008080; font-weight: bold\">11.496</span>\n",
       "</pre>\n"
      ],
      "text/plain": [
       "Running mean: \u001b[1;36m14.246\u001b[0m - Running variance: \u001b[1;36m11.496\u001b[0m\n"
      ]
     },
     "metadata": {},
     "output_type": "display_data"
    },
    {
     "data": {
      "text/html": [
       "<pre style=\"white-space:pre;overflow-x:auto;line-height:normal;font-family:Menlo,'DejaVu Sans Mono',consolas,'Courier New',monospace\">Running mean: <span style=\"color: #008080; text-decoration-color: #008080; font-weight: bold\">14.262</span> - Running variance: <span style=\"color: #008080; text-decoration-color: #008080; font-weight: bold\">11.465</span>\n",
       "</pre>\n"
      ],
      "text/plain": [
       "Running mean: \u001b[1;36m14.262\u001b[0m - Running variance: \u001b[1;36m11.465\u001b[0m\n"
      ]
     },
     "metadata": {},
     "output_type": "display_data"
    },
    {
     "data": {
      "text/html": [
       "<pre style=\"white-space:pre;overflow-x:auto;line-height:normal;font-family:Menlo,'DejaVu Sans Mono',consolas,'Courier New',monospace\">Running mean: <span style=\"color: #008080; text-decoration-color: #008080; font-weight: bold\">14.248</span> - Running variance: <span style=\"color: #008080; text-decoration-color: #008080; font-weight: bold\">11.423</span>\n",
       "</pre>\n"
      ],
      "text/plain": [
       "Running mean: \u001b[1;36m14.248\u001b[0m - Running variance: \u001b[1;36m11.423\u001b[0m\n"
      ]
     },
     "metadata": {},
     "output_type": "display_data"
    },
    {
     "data": {
      "text/html": [
       "<pre style=\"white-space:pre;overflow-x:auto;line-height:normal;font-family:Menlo,'DejaVu Sans Mono',consolas,'Courier New',monospace\">Running mean: <span style=\"color: #008080; text-decoration-color: #008080; font-weight: bold\">14.228</span> - Running variance: <span style=\"color: #008080; text-decoration-color: #008080; font-weight: bold\">11.422</span>\n",
       "</pre>\n"
      ],
      "text/plain": [
       "Running mean: \u001b[1;36m14.228\u001b[0m - Running variance: \u001b[1;36m11.422\u001b[0m\n"
      ]
     },
     "metadata": {},
     "output_type": "display_data"
    },
    {
     "data": {
      "text/html": [
       "<pre style=\"white-space:pre;overflow-x:auto;line-height:normal;font-family:Menlo,'DejaVu Sans Mono',consolas,'Courier New',monospace\">Running mean: <span style=\"color: #008080; text-decoration-color: #008080; font-weight: bold\">14.212</span> - Running variance: <span style=\"color: #008080; text-decoration-color: #008080; font-weight: bold\">11.389</span>\n",
       "</pre>\n"
      ],
      "text/plain": [
       "Running mean: \u001b[1;36m14.212\u001b[0m - Running variance: \u001b[1;36m11.389\u001b[0m\n"
      ]
     },
     "metadata": {},
     "output_type": "display_data"
    },
    {
     "data": {
      "text/html": [
       "<pre style=\"white-space:pre;overflow-x:auto;line-height:normal;font-family:Menlo,'DejaVu Sans Mono',consolas,'Courier New',monospace\">Running mean: <span style=\"color: #008080; text-decoration-color: #008080; font-weight: bold\">14.243</span> - Running variance: <span style=\"color: #008080; text-decoration-color: #008080; font-weight: bold\">11.470</span>\n",
       "</pre>\n"
      ],
      "text/plain": [
       "Running mean: \u001b[1;36m14.243\u001b[0m - Running variance: \u001b[1;36m11.470\u001b[0m\n"
      ]
     },
     "metadata": {},
     "output_type": "display_data"
    },
    {
     "data": {
      "text/html": [
       "<pre style=\"white-space:pre;overflow-x:auto;line-height:normal;font-family:Menlo,'DejaVu Sans Mono',consolas,'Courier New',monospace\">Running mean: <span style=\"color: #008080; text-decoration-color: #008080; font-weight: bold\">14.276</span> - Running variance: <span style=\"color: #008080; text-decoration-color: #008080; font-weight: bold\">11.574</span>\n",
       "</pre>\n"
      ],
      "text/plain": [
       "Running mean: \u001b[1;36m14.276\u001b[0m - Running variance: \u001b[1;36m11.574\u001b[0m\n"
      ]
     },
     "metadata": {},
     "output_type": "display_data"
    },
    {
     "data": {
      "text/html": [
       "<pre style=\"white-space:pre;overflow-x:auto;line-height:normal;font-family:Menlo,'DejaVu Sans Mono',consolas,'Courier New',monospace\">Running mean: <span style=\"color: #008080; text-decoration-color: #008080; font-weight: bold\">14.264</span> - Running variance: <span style=\"color: #008080; text-decoration-color: #008080; font-weight: bold\">11.526</span>\n",
       "</pre>\n"
      ],
      "text/plain": [
       "Running mean: \u001b[1;36m14.264\u001b[0m - Running variance: \u001b[1;36m11.526\u001b[0m\n"
      ]
     },
     "metadata": {},
     "output_type": "display_data"
    },
    {
     "data": {
      "text/html": [
       "<pre style=\"white-space:pre;overflow-x:auto;line-height:normal;font-family:Menlo,'DejaVu Sans Mono',consolas,'Courier New',monospace\">Running mean: <span style=\"color: #008080; text-decoration-color: #008080; font-weight: bold\">14.318</span> - Running variance: <span style=\"color: #008080; text-decoration-color: #008080; font-weight: bold\">11.945</span>\n",
       "</pre>\n"
      ],
      "text/plain": [
       "Running mean: \u001b[1;36m14.318\u001b[0m - Running variance: \u001b[1;36m11.945\u001b[0m\n"
      ]
     },
     "metadata": {},
     "output_type": "display_data"
    },
    {
     "data": {
      "text/html": [
       "<pre style=\"white-space:pre;overflow-x:auto;line-height:normal;font-family:Menlo,'DejaVu Sans Mono',consolas,'Courier New',monospace\">Running mean: <span style=\"color: #008080; text-decoration-color: #008080; font-weight: bold\">14.322</span> - Running variance: <span style=\"color: #008080; text-decoration-color: #008080; font-weight: bold\">11.876</span>\n",
       "</pre>\n"
      ],
      "text/plain": [
       "Running mean: \u001b[1;36m14.322\u001b[0m - Running variance: \u001b[1;36m11.876\u001b[0m\n"
      ]
     },
     "metadata": {},
     "output_type": "display_data"
    },
    {
     "data": {
      "text/html": [
       "<pre style=\"white-space:pre;overflow-x:auto;line-height:normal;font-family:Menlo,'DejaVu Sans Mono',consolas,'Courier New',monospace\">Running mean: <span style=\"color: #008080; text-decoration-color: #008080; font-weight: bold\">14.301</span> - Running variance: <span style=\"color: #008080; text-decoration-color: #008080; font-weight: bold\">11.878</span>\n",
       "</pre>\n"
      ],
      "text/plain": [
       "Running mean: \u001b[1;36m14.301\u001b[0m - Running variance: \u001b[1;36m11.878\u001b[0m\n"
      ]
     },
     "metadata": {},
     "output_type": "display_data"
    },
    {
     "data": {
      "text/html": [
       "<pre style=\"white-space:pre;overflow-x:auto;line-height:normal;font-family:Menlo,'DejaVu Sans Mono',consolas,'Courier New',monospace\">Running mean: <span style=\"color: #008080; text-decoration-color: #008080; font-weight: bold\">14.316</span> - Running variance: <span style=\"color: #008080; text-decoration-color: #008080; font-weight: bold\">11.844</span>\n",
       "</pre>\n"
      ],
      "text/plain": [
       "Running mean: \u001b[1;36m14.316\u001b[0m - Running variance: \u001b[1;36m11.844\u001b[0m\n"
      ]
     },
     "metadata": {},
     "output_type": "display_data"
    },
    {
     "data": {
      "text/html": [
       "<pre style=\"white-space:pre;overflow-x:auto;line-height:normal;font-family:Menlo,'DejaVu Sans Mono',consolas,'Courier New',monospace\">Running mean: <span style=\"color: #008080; text-decoration-color: #008080; font-weight: bold\">14.335</span> - Running variance: <span style=\"color: #008080; text-decoration-color: #008080; font-weight: bold\">11.832</span>\n",
       "</pre>\n"
      ],
      "text/plain": [
       "Running mean: \u001b[1;36m14.335\u001b[0m - Running variance: \u001b[1;36m11.832\u001b[0m\n"
      ]
     },
     "metadata": {},
     "output_type": "display_data"
    },
    {
     "data": {
      "text/html": [
       "<pre style=\"white-space:pre;overflow-x:auto;line-height:normal;font-family:Menlo,'DejaVu Sans Mono',consolas,'Courier New',monospace\">Running mean: <span style=\"color: #008080; text-decoration-color: #008080; font-weight: bold\">14.338</span> - Running variance: <span style=\"color: #008080; text-decoration-color: #008080; font-weight: bold\">11.765</span>\n",
       "</pre>\n"
      ],
      "text/plain": [
       "Running mean: \u001b[1;36m14.338\u001b[0m - Running variance: \u001b[1;36m11.765\u001b[0m\n"
      ]
     },
     "metadata": {},
     "output_type": "display_data"
    },
    {
     "data": {
      "text/html": [
       "<pre style=\"white-space:pre;overflow-x:auto;line-height:normal;font-family:Menlo,'DejaVu Sans Mono',consolas,'Courier New',monospace\">Running mean: <span style=\"color: #008080; text-decoration-color: #008080; font-weight: bold\">14.327</span> - Running variance: <span style=\"color: #008080; text-decoration-color: #008080; font-weight: bold\">11.720</span>\n",
       "</pre>\n"
      ],
      "text/plain": [
       "Running mean: \u001b[1;36m14.327\u001b[0m - Running variance: \u001b[1;36m11.720\u001b[0m\n"
      ]
     },
     "metadata": {},
     "output_type": "display_data"
    },
    {
     "data": {
      "text/html": [
       "<pre style=\"white-space:pre;overflow-x:auto;line-height:normal;font-family:Menlo,'DejaVu Sans Mono',consolas,'Courier New',monospace\">Running mean: <span style=\"color: #008080; text-decoration-color: #008080; font-weight: bold\">14.321</span> - Running variance: <span style=\"color: #008080; text-decoration-color: #008080; font-weight: bold\">11.657</span>\n",
       "</pre>\n"
      ],
      "text/plain": [
       "Running mean: \u001b[1;36m14.321\u001b[0m - Running variance: \u001b[1;36m11.657\u001b[0m\n"
      ]
     },
     "metadata": {},
     "output_type": "display_data"
    },
    {
     "data": {
      "text/html": [
       "<pre style=\"white-space:pre;overflow-x:auto;line-height:normal;font-family:Menlo,'DejaVu Sans Mono',consolas,'Courier New',monospace\">Running mean: <span style=\"color: #008080; text-decoration-color: #008080; font-weight: bold\">14.328</span> - Running variance: <span style=\"color: #008080; text-decoration-color: #008080; font-weight: bold\">11.597</span>\n",
       "</pre>\n"
      ],
      "text/plain": [
       "Running mean: \u001b[1;36m14.328\u001b[0m - Running variance: \u001b[1;36m11.597\u001b[0m\n"
      ]
     },
     "metadata": {},
     "output_type": "display_data"
    },
    {
     "data": {
      "text/html": [
       "<pre style=\"white-space:pre;overflow-x:auto;line-height:normal;font-family:Menlo,'DejaVu Sans Mono',consolas,'Courier New',monospace\">Running mean: <span style=\"color: #008080; text-decoration-color: #008080; font-weight: bold\">14.309</span> - Running variance: <span style=\"color: #008080; text-decoration-color: #008080; font-weight: bold\">11.590</span>\n",
       "</pre>\n"
      ],
      "text/plain": [
       "Running mean: \u001b[1;36m14.309\u001b[0m - Running variance: \u001b[1;36m11.590\u001b[0m\n"
      ]
     },
     "metadata": {},
     "output_type": "display_data"
    },
    {
     "data": {
      "text/html": [
       "<pre style=\"white-space:pre;overflow-x:auto;line-height:normal;font-family:Menlo,'DejaVu Sans Mono',consolas,'Courier New',monospace\">Running mean: <span style=\"color: #008080; text-decoration-color: #008080; font-weight: bold\">14.288</span> - Running variance: <span style=\"color: #008080; text-decoration-color: #008080; font-weight: bold\">11.600</span>\n",
       "</pre>\n"
      ],
      "text/plain": [
       "Running mean: \u001b[1;36m14.288\u001b[0m - Running variance: \u001b[1;36m11.600\u001b[0m\n"
      ]
     },
     "metadata": {},
     "output_type": "display_data"
    },
    {
     "data": {
      "text/html": [
       "<pre style=\"white-space:pre;overflow-x:auto;line-height:normal;font-family:Menlo,'DejaVu Sans Mono',consolas,'Courier New',monospace\">Running mean: <span style=\"color: #008080; text-decoration-color: #008080; font-weight: bold\">14.257</span> - Running variance: <span style=\"color: #008080; text-decoration-color: #008080; font-weight: bold\">11.712</span>\n",
       "</pre>\n"
      ],
      "text/plain": [
       "Running mean: \u001b[1;36m14.257\u001b[0m - Running variance: \u001b[1;36m11.712\u001b[0m\n"
      ]
     },
     "metadata": {},
     "output_type": "display_data"
    },
    {
     "data": {
      "text/html": [
       "<pre style=\"white-space:pre;overflow-x:auto;line-height:normal;font-family:Menlo,'DejaVu Sans Mono',consolas,'Courier New',monospace\">Running mean: <span style=\"color: #008080; text-decoration-color: #008080; font-weight: bold\">14.232</span> - Running variance: <span style=\"color: #008080; text-decoration-color: #008080; font-weight: bold\">11.752</span>\n",
       "</pre>\n"
      ],
      "text/plain": [
       "Running mean: \u001b[1;36m14.232\u001b[0m - Running variance: \u001b[1;36m11.752\u001b[0m\n"
      ]
     },
     "metadata": {},
     "output_type": "display_data"
    },
    {
     "data": {
      "text/html": [
       "<pre style=\"white-space:pre;overflow-x:auto;line-height:normal;font-family:Menlo,'DejaVu Sans Mono',consolas,'Courier New',monospace\">Running mean: <span style=\"color: #008080; text-decoration-color: #008080; font-weight: bold\">14.244</span> - Running variance: <span style=\"color: #008080; text-decoration-color: #008080; font-weight: bold\">11.714</span>\n",
       "</pre>\n"
      ],
      "text/plain": [
       "Running mean: \u001b[1;36m14.244\u001b[0m - Running variance: \u001b[1;36m11.714\u001b[0m\n"
      ]
     },
     "metadata": {},
     "output_type": "display_data"
    },
    {
     "data": {
      "text/html": [
       "<pre style=\"white-space:pre;overflow-x:auto;line-height:normal;font-family:Menlo,'DejaVu Sans Mono',consolas,'Courier New',monospace\">Running mean: <span style=\"color: #008080; text-decoration-color: #008080; font-weight: bold\">14.238</span> - Running variance: <span style=\"color: #008080; text-decoration-color: #008080; font-weight: bold\">11.657</span>\n",
       "</pre>\n"
      ],
      "text/plain": [
       "Running mean: \u001b[1;36m14.238\u001b[0m - Running variance: \u001b[1;36m11.657\u001b[0m\n"
      ]
     },
     "metadata": {},
     "output_type": "display_data"
    },
    {
     "data": {
      "text/html": [
       "<pre style=\"white-space:pre;overflow-x:auto;line-height:normal;font-family:Menlo,'DejaVu Sans Mono',consolas,'Courier New',monospace\">Running mean: <span style=\"color: #008080; text-decoration-color: #008080; font-weight: bold\">14.230</span> - Running variance: <span style=\"color: #008080; text-decoration-color: #008080; font-weight: bold\">11.604</span>\n",
       "</pre>\n"
      ],
      "text/plain": [
       "Running mean: \u001b[1;36m14.230\u001b[0m - Running variance: \u001b[1;36m11.604\u001b[0m\n"
      ]
     },
     "metadata": {},
     "output_type": "display_data"
    },
    {
     "data": {
      "text/html": [
       "<pre style=\"white-space:pre;overflow-x:auto;line-height:normal;font-family:Menlo,'DejaVu Sans Mono',consolas,'Courier New',monospace\">Running mean: <span style=\"color: #008080; text-decoration-color: #008080; font-weight: bold\">14.301</span> - Running variance: <span style=\"color: #008080; text-decoration-color: #008080; font-weight: bold\">12.467</span>\n",
       "</pre>\n"
      ],
      "text/plain": [
       "Running mean: \u001b[1;36m14.301\u001b[0m - Running variance: \u001b[1;36m12.467\u001b[0m\n"
      ]
     },
     "metadata": {},
     "output_type": "display_data"
    },
    {
     "data": {
      "text/html": [
       "<pre style=\"white-space:pre;overflow-x:auto;line-height:normal;font-family:Menlo,'DejaVu Sans Mono',consolas,'Courier New',monospace\">Running mean: <span style=\"color: #008080; text-decoration-color: #008080; font-weight: bold\">14.339</span> - Running variance: <span style=\"color: #008080; text-decoration-color: #008080; font-weight: bold\">12.650</span>\n",
       "</pre>\n"
      ],
      "text/plain": [
       "Running mean: \u001b[1;36m14.339\u001b[0m - Running variance: \u001b[1;36m12.650\u001b[0m\n"
      ]
     },
     "metadata": {},
     "output_type": "display_data"
    },
    {
     "data": {
      "text/html": [
       "<pre style=\"white-space:pre;overflow-x:auto;line-height:normal;font-family:Menlo,'DejaVu Sans Mono',consolas,'Courier New',monospace\">Running mean: <span style=\"color: #008080; text-decoration-color: #008080; font-weight: bold\">14.346</span> - Running variance: <span style=\"color: #008080; text-decoration-color: #008080; font-weight: bold\">12.591</span>\n",
       "</pre>\n"
      ],
      "text/plain": [
       "Running mean: \u001b[1;36m14.346\u001b[0m - Running variance: \u001b[1;36m12.591\u001b[0m\n"
      ]
     },
     "metadata": {},
     "output_type": "display_data"
    },
    {
     "data": {
      "text/html": [
       "<pre style=\"white-space:pre;overflow-x:auto;line-height:normal;font-family:Menlo,'DejaVu Sans Mono',consolas,'Courier New',monospace\">Running mean: <span style=\"color: #008080; text-decoration-color: #008080; font-weight: bold\">14.330</span> - Running variance: <span style=\"color: #008080; text-decoration-color: #008080; font-weight: bold\">12.569</span>\n",
       "</pre>\n"
      ],
      "text/plain": [
       "Running mean: \u001b[1;36m14.330\u001b[0m - Running variance: \u001b[1;36m12.569\u001b[0m\n"
      ]
     },
     "metadata": {},
     "output_type": "display_data"
    },
    {
     "data": {
      "text/html": [
       "<pre style=\"white-space:pre;overflow-x:auto;line-height:normal;font-family:Menlo,'DejaVu Sans Mono',consolas,'Courier New',monospace\">Running mean: <span style=\"color: #008080; text-decoration-color: #008080; font-weight: bold\">14.335</span> - Running variance: <span style=\"color: #008080; text-decoration-color: #008080; font-weight: bold\">12.506</span>\n",
       "</pre>\n"
      ],
      "text/plain": [
       "Running mean: \u001b[1;36m14.335\u001b[0m - Running variance: \u001b[1;36m12.506\u001b[0m\n"
      ]
     },
     "metadata": {},
     "output_type": "display_data"
    },
    {
     "data": {
      "text/html": [
       "<pre style=\"white-space:pre;overflow-x:auto;line-height:normal;font-family:Menlo,'DejaVu Sans Mono',consolas,'Courier New',monospace\">Running mean: <span style=\"color: #008080; text-decoration-color: #008080; font-weight: bold\">14.312</span> - Running variance: <span style=\"color: #008080; text-decoration-color: #008080; font-weight: bold\">12.536</span>\n",
       "</pre>\n"
      ],
      "text/plain": [
       "Running mean: \u001b[1;36m14.312\u001b[0m - Running variance: \u001b[1;36m12.536\u001b[0m\n"
      ]
     },
     "metadata": {},
     "output_type": "display_data"
    },
    {
     "data": {
      "text/html": [
       "<pre style=\"white-space:pre;overflow-x:auto;line-height:normal;font-family:Menlo,'DejaVu Sans Mono',consolas,'Courier New',monospace\">Running mean: <span style=\"color: #008080; text-decoration-color: #008080; font-weight: bold\">14.334</span> - Running variance: <span style=\"color: #008080; text-decoration-color: #008080; font-weight: bold\">12.554</span>\n",
       "</pre>\n"
      ],
      "text/plain": [
       "Running mean: \u001b[1;36m14.334\u001b[0m - Running variance: \u001b[1;36m12.554\u001b[0m\n"
      ]
     },
     "metadata": {},
     "output_type": "display_data"
    },
    {
     "data": {
      "text/html": [
       "<pre style=\"white-space:pre;overflow-x:auto;line-height:normal;font-family:Menlo,'DejaVu Sans Mono',consolas,'Courier New',monospace\">Running mean: <span style=\"color: #008080; text-decoration-color: #008080; font-weight: bold\">14.320</span> - Running variance: <span style=\"color: #008080; text-decoration-color: #008080; font-weight: bold\">12.523</span>\n",
       "</pre>\n"
      ],
      "text/plain": [
       "Running mean: \u001b[1;36m14.320\u001b[0m - Running variance: \u001b[1;36m12.523\u001b[0m\n"
      ]
     },
     "metadata": {},
     "output_type": "display_data"
    },
    {
     "data": {
      "text/html": [
       "<pre style=\"white-space:pre;overflow-x:auto;line-height:normal;font-family:Menlo,'DejaVu Sans Mono',consolas,'Courier New',monospace\">Running mean: <span style=\"color: #008080; text-decoration-color: #008080; font-weight: bold\">14.307</span> - Running variance: <span style=\"color: #008080; text-decoration-color: #008080; font-weight: bold\">12.490</span>\n",
       "</pre>\n"
      ],
      "text/plain": [
       "Running mean: \u001b[1;36m14.307\u001b[0m - Running variance: \u001b[1;36m12.490\u001b[0m\n"
      ]
     },
     "metadata": {},
     "output_type": "display_data"
    },
    {
     "data": {
      "text/html": [
       "<pre style=\"white-space:pre;overflow-x:auto;line-height:normal;font-family:Menlo,'DejaVu Sans Mono',consolas,'Courier New',monospace\">Running mean: <span style=\"color: #008080; text-decoration-color: #008080; font-weight: bold\">14.296</span> - Running variance: <span style=\"color: #008080; text-decoration-color: #008080; font-weight: bold\">12.445</span>\n",
       "</pre>\n"
      ],
      "text/plain": [
       "Running mean: \u001b[1;36m14.296\u001b[0m - Running variance: \u001b[1;36m12.445\u001b[0m\n"
      ]
     },
     "metadata": {},
     "output_type": "display_data"
    },
    {
     "data": {
      "text/html": [
       "<pre style=\"white-space:pre;overflow-x:auto;line-height:normal;font-family:Menlo,'DejaVu Sans Mono',consolas,'Courier New',monospace\">Running mean: <span style=\"color: #008080; text-decoration-color: #008080; font-weight: bold\">14.296</span> - Running variance: <span style=\"color: #008080; text-decoration-color: #008080; font-weight: bold\">12.380</span>\n",
       "</pre>\n"
      ],
      "text/plain": [
       "Running mean: \u001b[1;36m14.296\u001b[0m - Running variance: \u001b[1;36m12.380\u001b[0m\n"
      ]
     },
     "metadata": {},
     "output_type": "display_data"
    },
    {
     "data": {
      "text/html": [
       "<pre style=\"white-space:pre;overflow-x:auto;line-height:normal;font-family:Menlo,'DejaVu Sans Mono',consolas,'Courier New',monospace\">Running mean: <span style=\"color: #008080; text-decoration-color: #008080; font-weight: bold\">14.288</span> - Running variance: <span style=\"color: #008080; text-decoration-color: #008080; font-weight: bold\">12.328</span>\n",
       "</pre>\n"
      ],
      "text/plain": [
       "Running mean: \u001b[1;36m14.288\u001b[0m - Running variance: \u001b[1;36m12.328\u001b[0m\n"
      ]
     },
     "metadata": {},
     "output_type": "display_data"
    },
    {
     "data": {
      "text/html": [
       "<pre style=\"white-space:pre;overflow-x:auto;line-height:normal;font-family:Menlo,'DejaVu Sans Mono',consolas,'Courier New',monospace\">Running mean: <span style=\"color: #008080; text-decoration-color: #008080; font-weight: bold\">14.264</span> - Running variance: <span style=\"color: #008080; text-decoration-color: #008080; font-weight: bold\">12.372</span>\n",
       "</pre>\n"
      ],
      "text/plain": [
       "Running mean: \u001b[1;36m14.264\u001b[0m - Running variance: \u001b[1;36m12.372\u001b[0m\n"
      ]
     },
     "metadata": {},
     "output_type": "display_data"
    },
    {
     "data": {
      "text/html": [
       "<pre style=\"white-space:pre;overflow-x:auto;line-height:normal;font-family:Menlo,'DejaVu Sans Mono',consolas,'Courier New',monospace\">Running mean: <span style=\"color: #008080; text-decoration-color: #008080; font-weight: bold\">14.254</span> - Running variance: <span style=\"color: #008080; text-decoration-color: #008080; font-weight: bold\">12.327</span>\n",
       "</pre>\n"
      ],
      "text/plain": [
       "Running mean: \u001b[1;36m14.254\u001b[0m - Running variance: \u001b[1;36m12.327\u001b[0m\n"
      ]
     },
     "metadata": {},
     "output_type": "display_data"
    },
    {
     "data": {
      "text/html": [
       "<pre style=\"white-space:pre;overflow-x:auto;line-height:normal;font-family:Menlo,'DejaVu Sans Mono',consolas,'Courier New',monospace\">Running mean: <span style=\"color: #008080; text-decoration-color: #008080; font-weight: bold\">14.257</span> - Running variance: <span style=\"color: #008080; text-decoration-color: #008080; font-weight: bold\">12.265</span>\n",
       "</pre>\n"
      ],
      "text/plain": [
       "Running mean: \u001b[1;36m14.257\u001b[0m - Running variance: \u001b[1;36m12.265\u001b[0m\n"
      ]
     },
     "metadata": {},
     "output_type": "display_data"
    },
    {
     "data": {
      "text/html": [
       "<pre style=\"white-space:pre;overflow-x:auto;line-height:normal;font-family:Menlo,'DejaVu Sans Mono',consolas,'Courier New',monospace\">Running mean: <span style=\"color: #008080; text-decoration-color: #008080; font-weight: bold\">14.250</span> - Running variance: <span style=\"color: #008080; text-decoration-color: #008080; font-weight: bold\">12.212</span>\n",
       "</pre>\n"
      ],
      "text/plain": [
       "Running mean: \u001b[1;36m14.250\u001b[0m - Running variance: \u001b[1;36m12.212\u001b[0m\n"
      ]
     },
     "metadata": {},
     "output_type": "display_data"
    },
    {
     "data": {
      "text/html": [
       "<pre style=\"white-space:pre;overflow-x:auto;line-height:normal;font-family:Menlo,'DejaVu Sans Mono',consolas,'Courier New',monospace\">Running mean: <span style=\"color: #008080; text-decoration-color: #008080; font-weight: bold\">14.248</span> - Running variance: <span style=\"color: #008080; text-decoration-color: #008080; font-weight: bold\">12.151</span>\n",
       "</pre>\n"
      ],
      "text/plain": [
       "Running mean: \u001b[1;36m14.248\u001b[0m - Running variance: \u001b[1;36m12.151\u001b[0m\n"
      ]
     },
     "metadata": {},
     "output_type": "display_data"
    },
    {
     "data": {
      "text/html": [
       "<pre style=\"white-space:pre;overflow-x:auto;line-height:normal;font-family:Menlo,'DejaVu Sans Mono',consolas,'Courier New',monospace\">Running mean: <span style=\"color: #008080; text-decoration-color: #008080; font-weight: bold\">14.267</span> - Running variance: <span style=\"color: #008080; text-decoration-color: #008080; font-weight: bold\">12.164</span>\n",
       "</pre>\n"
      ],
      "text/plain": [
       "Running mean: \u001b[1;36m14.267\u001b[0m - Running variance: \u001b[1;36m12.164\u001b[0m\n"
      ]
     },
     "metadata": {},
     "output_type": "display_data"
    },
    {
     "data": {
      "text/html": [
       "<pre style=\"white-space:pre;overflow-x:auto;line-height:normal;font-family:Menlo,'DejaVu Sans Mono',consolas,'Courier New',monospace\">Running mean: <span style=\"color: #008080; text-decoration-color: #008080; font-weight: bold\">14.292</span> - Running variance: <span style=\"color: #008080; text-decoration-color: #008080; font-weight: bold\">12.223</span>\n",
       "</pre>\n"
      ],
      "text/plain": [
       "Running mean: \u001b[1;36m14.292\u001b[0m - Running variance: \u001b[1;36m12.223\u001b[0m\n"
      ]
     },
     "metadata": {},
     "output_type": "display_data"
    },
    {
     "data": {
      "text/html": [
       "<pre style=\"white-space:pre;overflow-x:auto;line-height:normal;font-family:Menlo,'DejaVu Sans Mono',consolas,'Courier New',monospace\">Running mean: <span style=\"color: #008080; text-decoration-color: #008080; font-weight: bold\">14.293</span> - Running variance: <span style=\"color: #008080; text-decoration-color: #008080; font-weight: bold\">12.162</span>\n",
       "</pre>\n"
      ],
      "text/plain": [
       "Running mean: \u001b[1;36m14.293\u001b[0m - Running variance: \u001b[1;36m12.162\u001b[0m\n"
      ]
     },
     "metadata": {},
     "output_type": "display_data"
    },
    {
     "data": {
      "text/html": [
       "<pre style=\"white-space:pre;overflow-x:auto;line-height:normal;font-family:Menlo,'DejaVu Sans Mono',consolas,'Courier New',monospace\">Running mean: <span style=\"color: #008080; text-decoration-color: #008080; font-weight: bold\">14.282</span> - Running variance: <span style=\"color: #008080; text-decoration-color: #008080; font-weight: bold\">12.123</span>\n",
       "</pre>\n"
      ],
      "text/plain": [
       "Running mean: \u001b[1;36m14.282\u001b[0m - Running variance: \u001b[1;36m12.123\u001b[0m\n"
      ]
     },
     "metadata": {},
     "output_type": "display_data"
    },
    {
     "data": {
      "text/html": [
       "<pre style=\"white-space:pre;overflow-x:auto;line-height:normal;font-family:Menlo,'DejaVu Sans Mono',consolas,'Courier New',monospace\">Running mean: <span style=\"color: #008080; text-decoration-color: #008080; font-weight: bold\">14.299</span> - Running variance: <span style=\"color: #008080; text-decoration-color: #008080; font-weight: bold\">12.115</span>\n",
       "</pre>\n"
      ],
      "text/plain": [
       "Running mean: \u001b[1;36m14.299\u001b[0m - Running variance: \u001b[1;36m12.115\u001b[0m\n"
      ]
     },
     "metadata": {},
     "output_type": "display_data"
    },
    {
     "data": {
      "text/html": [
       "<pre style=\"white-space:pre;overflow-x:auto;line-height:normal;font-family:Menlo,'DejaVu Sans Mono',consolas,'Courier New',monospace\">Running mean: <span style=\"color: #008080; text-decoration-color: #008080; font-weight: bold\">14.343</span> - Running variance: <span style=\"color: #008080; text-decoration-color: #008080; font-weight: bold\">12.452</span>\n",
       "</pre>\n"
      ],
      "text/plain": [
       "Running mean: \u001b[1;36m14.343\u001b[0m - Running variance: \u001b[1;36m12.452\u001b[0m\n"
      ]
     },
     "metadata": {},
     "output_type": "display_data"
    },
    {
     "data": {
      "text/html": [
       "<pre style=\"white-space:pre;overflow-x:auto;line-height:normal;font-family:Menlo,'DejaVu Sans Mono',consolas,'Courier New',monospace\">Running mean: <span style=\"color: #008080; text-decoration-color: #008080; font-weight: bold\">14.340</span> - Running variance: <span style=\"color: #008080; text-decoration-color: #008080; font-weight: bold\">12.392</span>\n",
       "</pre>\n"
      ],
      "text/plain": [
       "Running mean: \u001b[1;36m14.340\u001b[0m - Running variance: \u001b[1;36m12.392\u001b[0m\n"
      ]
     },
     "metadata": {},
     "output_type": "display_data"
    },
    {
     "data": {
      "text/html": [
       "<pre style=\"white-space:pre;overflow-x:auto;line-height:normal;font-family:Menlo,'DejaVu Sans Mono',consolas,'Courier New',monospace\">Running mean: <span style=\"color: #008080; text-decoration-color: #008080; font-weight: bold\">14.331</span> - Running variance: <span style=\"color: #008080; text-decoration-color: #008080; font-weight: bold\">12.349</span>\n",
       "</pre>\n"
      ],
      "text/plain": [
       "Running mean: \u001b[1;36m14.331\u001b[0m - Running variance: \u001b[1;36m12.349\u001b[0m\n"
      ]
     },
     "metadata": {},
     "output_type": "display_data"
    },
    {
     "data": {
      "text/html": [
       "<pre style=\"white-space:pre;overflow-x:auto;line-height:normal;font-family:Menlo,'DejaVu Sans Mono',consolas,'Courier New',monospace\">Running mean: <span style=\"color: #008080; text-decoration-color: #008080; font-weight: bold\">14.335</span> - Running variance: <span style=\"color: #008080; text-decoration-color: #008080; font-weight: bold\">12.292</span>\n",
       "</pre>\n"
      ],
      "text/plain": [
       "Running mean: \u001b[1;36m14.335\u001b[0m - Running variance: \u001b[1;36m12.292\u001b[0m\n"
      ]
     },
     "metadata": {},
     "output_type": "display_data"
    },
    {
     "data": {
      "text/html": [
       "<pre style=\"white-space:pre;overflow-x:auto;line-height:normal;font-family:Menlo,'DejaVu Sans Mono',consolas,'Courier New',monospace\">Running mean: <span style=\"color: #008080; text-decoration-color: #008080; font-weight: bold\">14.313</span> - Running variance: <span style=\"color: #008080; text-decoration-color: #008080; font-weight: bold\">12.328</span>\n",
       "</pre>\n"
      ],
      "text/plain": [
       "Running mean: \u001b[1;36m14.313\u001b[0m - Running variance: \u001b[1;36m12.328\u001b[0m\n"
      ]
     },
     "metadata": {},
     "output_type": "display_data"
    },
    {
     "data": {
      "text/html": [
       "<pre style=\"white-space:pre;overflow-x:auto;line-height:normal;font-family:Menlo,'DejaVu Sans Mono',consolas,'Courier New',monospace\">Running mean: <span style=\"color: #008080; text-decoration-color: #008080; font-weight: bold\">14.326</span> - Running variance: <span style=\"color: #008080; text-decoration-color: #008080; font-weight: bold\">12.303</span>\n",
       "</pre>\n"
      ],
      "text/plain": [
       "Running mean: \u001b[1;36m14.326\u001b[0m - Running variance: \u001b[1;36m12.303\u001b[0m\n"
      ]
     },
     "metadata": {},
     "output_type": "display_data"
    },
    {
     "data": {
      "text/html": [
       "<pre style=\"white-space:pre;overflow-x:auto;line-height:normal;font-family:Menlo,'DejaVu Sans Mono',consolas,'Courier New',monospace\">Running mean: <span style=\"color: #008080; text-decoration-color: #008080; font-weight: bold\">14.321</span> - Running variance: <span style=\"color: #008080; text-decoration-color: #008080; font-weight: bold\">12.252</span>\n",
       "</pre>\n"
      ],
      "text/plain": [
       "Running mean: \u001b[1;36m14.321\u001b[0m - Running variance: \u001b[1;36m12.252\u001b[0m\n"
      ]
     },
     "metadata": {},
     "output_type": "display_data"
    },
    {
     "data": {
      "text/html": [
       "<pre style=\"white-space:pre;overflow-x:auto;line-height:normal;font-family:Menlo,'DejaVu Sans Mono',consolas,'Courier New',monospace\">Running mean: <span style=\"color: #008080; text-decoration-color: #008080; font-weight: bold\">14.325</span> - Running variance: <span style=\"color: #008080; text-decoration-color: #008080; font-weight: bold\">12.197</span>\n",
       "</pre>\n"
      ],
      "text/plain": [
       "Running mean: \u001b[1;36m14.325\u001b[0m - Running variance: \u001b[1;36m12.197\u001b[0m\n"
      ]
     },
     "metadata": {},
     "output_type": "display_data"
    },
    {
     "data": {
      "text/html": [
       "<pre style=\"white-space:pre;overflow-x:auto;line-height:normal;font-family:Menlo,'DejaVu Sans Mono',consolas,'Courier New',monospace\">Running mean: <span style=\"color: #008080; text-decoration-color: #008080; font-weight: bold\">14.355</span> - Running variance: <span style=\"color: #008080; text-decoration-color: #008080; font-weight: bold\">12.324</span>\n",
       "</pre>\n"
      ],
      "text/plain": [
       "Running mean: \u001b[1;36m14.355\u001b[0m - Running variance: \u001b[1;36m12.324\u001b[0m\n"
      ]
     },
     "metadata": {},
     "output_type": "display_data"
    },
    {
     "data": {
      "text/html": [
       "<pre style=\"white-space:pre;overflow-x:auto;line-height:normal;font-family:Menlo,'DejaVu Sans Mono',consolas,'Courier New',monospace\">Running mean: <span style=\"color: #008080; text-decoration-color: #008080; font-weight: bold\">14.343</span> - Running variance: <span style=\"color: #008080; text-decoration-color: #008080; font-weight: bold\">12.296</span>\n",
       "</pre>\n"
      ],
      "text/plain": [
       "Running mean: \u001b[1;36m14.343\u001b[0m - Running variance: \u001b[1;36m12.296\u001b[0m\n"
      ]
     },
     "metadata": {},
     "output_type": "display_data"
    },
    {
     "data": {
      "text/html": [
       "<pre style=\"white-space:pre;overflow-x:auto;line-height:normal;font-family:Menlo,'DejaVu Sans Mono',consolas,'Courier New',monospace\">Running mean: <span style=\"color: #008080; text-decoration-color: #008080; font-weight: bold\">14.408</span> - Running variance: <span style=\"color: #008080; text-decoration-color: #008080; font-weight: bold\">13.124</span>\n",
       "</pre>\n"
      ],
      "text/plain": [
       "Running mean: \u001b[1;36m14.408\u001b[0m - Running variance: \u001b[1;36m13.124\u001b[0m\n"
      ]
     },
     "metadata": {},
     "output_type": "display_data"
    },
    {
     "data": {
      "text/html": [
       "<pre style=\"white-space:pre;overflow-x:auto;line-height:normal;font-family:Menlo,'DejaVu Sans Mono',consolas,'Courier New',monospace\">Running mean: <span style=\"color: #008080; text-decoration-color: #008080; font-weight: bold\">14.422</span> - Running variance: <span style=\"color: #008080; text-decoration-color: #008080; font-weight: bold\">13.105</span>\n",
       "</pre>\n"
      ],
      "text/plain": [
       "Running mean: \u001b[1;36m14.422\u001b[0m - Running variance: \u001b[1;36m13.105\u001b[0m\n"
      ]
     },
     "metadata": {},
     "output_type": "display_data"
    },
    {
     "data": {
      "text/html": [
       "<pre style=\"white-space:pre;overflow-x:auto;line-height:normal;font-family:Menlo,'DejaVu Sans Mono',consolas,'Courier New',monospace\">Running mean: <span style=\"color: #008080; text-decoration-color: #008080; font-weight: bold\">14.421</span> - Running variance: <span style=\"color: #008080; text-decoration-color: #008080; font-weight: bold\">13.044</span>\n",
       "</pre>\n"
      ],
      "text/plain": [
       "Running mean: \u001b[1;36m14.421\u001b[0m - Running variance: \u001b[1;36m13.044\u001b[0m\n"
      ]
     },
     "metadata": {},
     "output_type": "display_data"
    },
    {
     "data": {
      "text/html": [
       "<pre style=\"white-space:pre;overflow-x:auto;line-height:normal;font-family:Menlo,'DejaVu Sans Mono',consolas,'Courier New',monospace\">Running mean: <span style=\"color: #008080; text-decoration-color: #008080; font-weight: bold\">14.418</span> - Running variance: <span style=\"color: #008080; text-decoration-color: #008080; font-weight: bold\">12.985</span>\n",
       "</pre>\n"
      ],
      "text/plain": [
       "Running mean: \u001b[1;36m14.418\u001b[0m - Running variance: \u001b[1;36m12.985\u001b[0m\n"
      ]
     },
     "metadata": {},
     "output_type": "display_data"
    },
    {
     "data": {
      "text/html": [
       "<pre style=\"white-space:pre;overflow-x:auto;line-height:normal;font-family:Menlo,'DejaVu Sans Mono',consolas,'Courier New',monospace\">Running mean: <span style=\"color: #008080; text-decoration-color: #008080; font-weight: bold\">14.406</span> - Running variance: <span style=\"color: #008080; text-decoration-color: #008080; font-weight: bold\">12.954</span>\n",
       "</pre>\n"
      ],
      "text/plain": [
       "Running mean: \u001b[1;36m14.406\u001b[0m - Running variance: \u001b[1;36m12.954\u001b[0m\n"
      ]
     },
     "metadata": {},
     "output_type": "display_data"
    },
    {
     "data": {
      "text/html": [
       "<pre style=\"white-space:pre;overflow-x:auto;line-height:normal;font-family:Menlo,'DejaVu Sans Mono',consolas,'Courier New',monospace\">Running mean: <span style=\"color: #008080; text-decoration-color: #008080; font-weight: bold\">14.387</span> - Running variance: <span style=\"color: #008080; text-decoration-color: #008080; font-weight: bold\">12.976</span>\n",
       "</pre>\n"
      ],
      "text/plain": [
       "Running mean: \u001b[1;36m14.387\u001b[0m - Running variance: \u001b[1;36m12.976\u001b[0m\n"
      ]
     },
     "metadata": {},
     "output_type": "display_data"
    },
    {
     "data": {
      "text/html": [
       "<pre style=\"white-space:pre;overflow-x:auto;line-height:normal;font-family:Menlo,'DejaVu Sans Mono',consolas,'Courier New',monospace\">Running mean: <span style=\"color: #008080; text-decoration-color: #008080; font-weight: bold\">14.412</span> - Running variance: <span style=\"color: #008080; text-decoration-color: #008080; font-weight: bold\">13.050</span>\n",
       "</pre>\n"
      ],
      "text/plain": [
       "Running mean: \u001b[1;36m14.412\u001b[0m - Running variance: \u001b[1;36m13.050\u001b[0m\n"
      ]
     },
     "metadata": {},
     "output_type": "display_data"
    },
    {
     "data": {
      "text/html": [
       "<pre style=\"white-space:pre;overflow-x:auto;line-height:normal;font-family:Menlo,'DejaVu Sans Mono',consolas,'Courier New',monospace\">Running mean: <span style=\"color: #008080; text-decoration-color: #008080; font-weight: bold\">14.435</span> - Running variance: <span style=\"color: #008080; text-decoration-color: #008080; font-weight: bold\">13.109</span>\n",
       "</pre>\n"
      ],
      "text/plain": [
       "Running mean: \u001b[1;36m14.435\u001b[0m - Running variance: \u001b[1;36m13.109\u001b[0m\n"
      ]
     },
     "metadata": {},
     "output_type": "display_data"
    },
    {
     "data": {
      "text/html": [
       "<pre style=\"white-space:pre;overflow-x:auto;line-height:normal;font-family:Menlo,'DejaVu Sans Mono',consolas,'Courier New',monospace\">Running mean: <span style=\"color: #008080; text-decoration-color: #008080; font-weight: bold\">14.431</span> - Running variance: <span style=\"color: #008080; text-decoration-color: #008080; font-weight: bold\">13.052</span>\n",
       "</pre>\n"
      ],
      "text/plain": [
       "Running mean: \u001b[1;36m14.431\u001b[0m - Running variance: \u001b[1;36m13.052\u001b[0m\n"
      ]
     },
     "metadata": {},
     "output_type": "display_data"
    },
    {
     "data": {
      "text/html": [
       "<pre style=\"white-space:pre;overflow-x:auto;line-height:normal;font-family:Menlo,'DejaVu Sans Mono',consolas,'Courier New',monospace\">Running mean: <span style=\"color: #008080; text-decoration-color: #008080; font-weight: bold\">14.428</span> - Running variance: <span style=\"color: #008080; text-decoration-color: #008080; font-weight: bold\">12.997</span>\n",
       "</pre>\n"
      ],
      "text/plain": [
       "Running mean: \u001b[1;36m14.428\u001b[0m - Running variance: \u001b[1;36m12.997\u001b[0m\n"
      ]
     },
     "metadata": {},
     "output_type": "display_data"
    },
    {
     "data": {
      "text/html": [
       "<pre style=\"white-space:pre;overflow-x:auto;line-height:normal;font-family:Menlo,'DejaVu Sans Mono',consolas,'Courier New',monospace\">Running mean: <span style=\"color: #008080; text-decoration-color: #008080; font-weight: bold\">14.408</span> - Running variance: <span style=\"color: #008080; text-decoration-color: #008080; font-weight: bold\">13.019</span>\n",
       "</pre>\n"
      ],
      "text/plain": [
       "Running mean: \u001b[1;36m14.408\u001b[0m - Running variance: \u001b[1;36m13.019\u001b[0m\n"
      ]
     },
     "metadata": {},
     "output_type": "display_data"
    },
    {
     "data": {
      "text/html": [
       "<pre style=\"white-space:pre;overflow-x:auto;line-height:normal;font-family:Menlo,'DejaVu Sans Mono',consolas,'Courier New',monospace\">Running mean: <span style=\"color: #008080; text-decoration-color: #008080; font-weight: bold\">14.414</span> - Running variance: <span style=\"color: #008080; text-decoration-color: #008080; font-weight: bold\">12.969</span>\n",
       "</pre>\n"
      ],
      "text/plain": [
       "Running mean: \u001b[1;36m14.414\u001b[0m - Running variance: \u001b[1;36m12.969\u001b[0m\n"
      ]
     },
     "metadata": {},
     "output_type": "display_data"
    },
    {
     "data": {
      "text/html": [
       "<pre style=\"white-space:pre;overflow-x:auto;line-height:normal;font-family:Menlo,'DejaVu Sans Mono',consolas,'Courier New',monospace\">Running mean: <span style=\"color: #008080; text-decoration-color: #008080; font-weight: bold\">14.409</span> - Running variance: <span style=\"color: #008080; text-decoration-color: #008080; font-weight: bold\">12.917</span>\n",
       "</pre>\n"
      ],
      "text/plain": [
       "Running mean: \u001b[1;36m14.409\u001b[0m - Running variance: \u001b[1;36m12.917\u001b[0m\n"
      ]
     },
     "metadata": {},
     "output_type": "display_data"
    },
    {
     "data": {
      "text/html": [
       "<pre style=\"white-space:pre;overflow-x:auto;line-height:normal;font-family:Menlo,'DejaVu Sans Mono',consolas,'Courier New',monospace\">Running mean: <span style=\"color: #008080; text-decoration-color: #008080; font-weight: bold\">14.409</span> - Running variance: <span style=\"color: #008080; text-decoration-color: #008080; font-weight: bold\">12.860</span>\n",
       "</pre>\n"
      ],
      "text/plain": [
       "Running mean: \u001b[1;36m14.409\u001b[0m - Running variance: \u001b[1;36m12.860\u001b[0m\n"
      ]
     },
     "metadata": {},
     "output_type": "display_data"
    },
    {
     "data": {
      "text/html": [
       "<pre style=\"white-space:pre;overflow-x:auto;line-height:normal;font-family:Menlo,'DejaVu Sans Mono',consolas,'Courier New',monospace\">Running mean: <span style=\"color: #008080; text-decoration-color: #008080; font-weight: bold\">14.392</span> - Running variance: <span style=\"color: #008080; text-decoration-color: #008080; font-weight: bold\">12.873</span>\n",
       "</pre>\n"
      ],
      "text/plain": [
       "Running mean: \u001b[1;36m14.392\u001b[0m - Running variance: \u001b[1;36m12.873\u001b[0m\n"
      ]
     },
     "metadata": {},
     "output_type": "display_data"
    },
    {
     "data": {
      "text/html": [
       "<pre style=\"white-space:pre;overflow-x:auto;line-height:normal;font-family:Menlo,'DejaVu Sans Mono',consolas,'Courier New',monospace\">Running mean: <span style=\"color: #008080; text-decoration-color: #008080; font-weight: bold\">14.394</span> - Running variance: <span style=\"color: #008080; text-decoration-color: #008080; font-weight: bold\">12.818</span>\n",
       "</pre>\n"
      ],
      "text/plain": [
       "Running mean: \u001b[1;36m14.394\u001b[0m - Running variance: \u001b[1;36m12.818\u001b[0m\n"
      ]
     },
     "metadata": {},
     "output_type": "display_data"
    },
    {
     "data": {
      "text/html": [
       "<pre style=\"white-space:pre;overflow-x:auto;line-height:normal;font-family:Menlo,'DejaVu Sans Mono',consolas,'Courier New',monospace\">Running mean: <span style=\"color: #008080; text-decoration-color: #008080; font-weight: bold\">14.386</span> - Running variance: <span style=\"color: #008080; text-decoration-color: #008080; font-weight: bold\">12.775</span>\n",
       "</pre>\n"
      ],
      "text/plain": [
       "Running mean: \u001b[1;36m14.386\u001b[0m - Running variance: \u001b[1;36m12.775\u001b[0m\n"
      ]
     },
     "metadata": {},
     "output_type": "display_data"
    },
    {
     "data": {
      "text/html": [
       "<pre style=\"white-space:pre;overflow-x:auto;line-height:normal;font-family:Menlo,'DejaVu Sans Mono',consolas,'Courier New',monospace\">Running mean: <span style=\"color: #008080; text-decoration-color: #008080; font-weight: bold\">14.380</span> - Running variance: <span style=\"color: #008080; text-decoration-color: #008080; font-weight: bold\">12.730</span>\n",
       "</pre>\n"
      ],
      "text/plain": [
       "Running mean: \u001b[1;36m14.380\u001b[0m - Running variance: \u001b[1;36m12.730\u001b[0m\n"
      ]
     },
     "metadata": {},
     "output_type": "display_data"
    },
    {
     "data": {
      "text/html": [
       "<pre style=\"white-space:pre;overflow-x:auto;line-height:normal;font-family:Menlo,'DejaVu Sans Mono',consolas,'Courier New',monospace\">Running mean: <span style=\"color: #008080; text-decoration-color: #008080; font-weight: bold\">14.391</span> - Running variance: <span style=\"color: #008080; text-decoration-color: #008080; font-weight: bold\">12.706</span>\n",
       "</pre>\n"
      ],
      "text/plain": [
       "Running mean: \u001b[1;36m14.391\u001b[0m - Running variance: \u001b[1;36m12.706\u001b[0m\n"
      ]
     },
     "metadata": {},
     "output_type": "display_data"
    },
    {
     "data": {
      "text/html": [
       "<pre style=\"white-space:pre;overflow-x:auto;line-height:normal;font-family:Menlo,'DejaVu Sans Mono',consolas,'Courier New',monospace\">Running mean: <span style=\"color: #008080; text-decoration-color: #008080; font-weight: bold\">14.378</span> - Running variance: <span style=\"color: #008080; text-decoration-color: #008080; font-weight: bold\">12.692</span>\n",
       "</pre>\n"
      ],
      "text/plain": [
       "Running mean: \u001b[1;36m14.378\u001b[0m - Running variance: \u001b[1;36m12.692\u001b[0m\n"
      ]
     },
     "metadata": {},
     "output_type": "display_data"
    },
    {
     "data": {
      "text/html": [
       "<pre style=\"white-space:pre;overflow-x:auto;line-height:normal;font-family:Menlo,'DejaVu Sans Mono',consolas,'Courier New',monospace\">Running mean: <span style=\"color: #008080; text-decoration-color: #008080; font-weight: bold\">14.364</span> - Running variance: <span style=\"color: #008080; text-decoration-color: #008080; font-weight: bold\">12.680</span>\n",
       "</pre>\n"
      ],
      "text/plain": [
       "Running mean: \u001b[1;36m14.364\u001b[0m - Running variance: \u001b[1;36m12.680\u001b[0m\n"
      ]
     },
     "metadata": {},
     "output_type": "display_data"
    },
    {
     "data": {
      "text/html": [
       "<pre style=\"white-space:pre;overflow-x:auto;line-height:normal;font-family:Menlo,'DejaVu Sans Mono',consolas,'Courier New',monospace\">Running mean: <span style=\"color: #008080; text-decoration-color: #008080; font-weight: bold\">14.391</span> - Running variance: <span style=\"color: #008080; text-decoration-color: #008080; font-weight: bold\">12.786</span>\n",
       "</pre>\n"
      ],
      "text/plain": [
       "Running mean: \u001b[1;36m14.391\u001b[0m - Running variance: \u001b[1;36m12.786\u001b[0m\n"
      ]
     },
     "metadata": {},
     "output_type": "display_data"
    },
    {
     "data": {
      "text/html": [
       "<pre style=\"white-space:pre;overflow-x:auto;line-height:normal;font-family:Menlo,'DejaVu Sans Mono',consolas,'Courier New',monospace\">Running mean: <span style=\"color: #008080; text-decoration-color: #008080; font-weight: bold\">14.370</span> - Running variance: <span style=\"color: #008080; text-decoration-color: #008080; font-weight: bold\">12.831</span>\n",
       "</pre>\n"
      ],
      "text/plain": [
       "Running mean: \u001b[1;36m14.370\u001b[0m - Running variance: \u001b[1;36m12.831\u001b[0m\n"
      ]
     },
     "metadata": {},
     "output_type": "display_data"
    },
    {
     "data": {
      "text/html": [
       "<pre style=\"white-space:pre;overflow-x:auto;line-height:normal;font-family:Menlo,'DejaVu Sans Mono',consolas,'Courier New',monospace\">Running mean: <span style=\"color: #008080; text-decoration-color: #008080; font-weight: bold\">14.369</span> - Running variance: <span style=\"color: #008080; text-decoration-color: #008080; font-weight: bold\">12.777</span>\n",
       "</pre>\n"
      ],
      "text/plain": [
       "Running mean: \u001b[1;36m14.369\u001b[0m - Running variance: \u001b[1;36m12.777\u001b[0m\n"
      ]
     },
     "metadata": {},
     "output_type": "display_data"
    },
    {
     "data": {
      "text/html": [
       "<pre style=\"white-space:pre;overflow-x:auto;line-height:normal;font-family:Menlo,'DejaVu Sans Mono',consolas,'Courier New',monospace\">Running mean: <span style=\"color: #008080; text-decoration-color: #008080; font-weight: bold\">14.406</span> - Running variance: <span style=\"color: #008080; text-decoration-color: #008080; font-weight: bold\">13.051</span>\n",
       "</pre>\n"
      ],
      "text/plain": [
       "Running mean: \u001b[1;36m14.406\u001b[0m - Running variance: \u001b[1;36m13.051\u001b[0m\n"
      ]
     },
     "metadata": {},
     "output_type": "display_data"
    },
    {
     "data": {
      "text/html": [
       "<pre style=\"white-space:pre;overflow-x:auto;line-height:normal;font-family:Menlo,'DejaVu Sans Mono',consolas,'Courier New',monospace\">Running mean: <span style=\"color: #008080; text-decoration-color: #008080; font-weight: bold\">14.432</span> - Running variance: <span style=\"color: #008080; text-decoration-color: #008080; font-weight: bold\">13.151</span>\n",
       "</pre>\n"
      ],
      "text/plain": [
       "Running mean: \u001b[1;36m14.432\u001b[0m - Running variance: \u001b[1;36m13.151\u001b[0m\n"
      ]
     },
     "metadata": {},
     "output_type": "display_data"
    },
    {
     "data": {
      "text/html": [
       "<pre style=\"white-space:pre;overflow-x:auto;line-height:normal;font-family:Menlo,'DejaVu Sans Mono',consolas,'Courier New',monospace\">Running mean: <span style=\"color: #008080; text-decoration-color: #008080; font-weight: bold\">14.431</span> - Running variance: <span style=\"color: #008080; text-decoration-color: #008080; font-weight: bold\">13.096</span>\n",
       "</pre>\n"
      ],
      "text/plain": [
       "Running mean: \u001b[1;36m14.431\u001b[0m - Running variance: \u001b[1;36m13.096\u001b[0m\n"
      ]
     },
     "metadata": {},
     "output_type": "display_data"
    },
    {
     "data": {
      "text/html": [
       "<pre style=\"white-space:pre;overflow-x:auto;line-height:normal;font-family:Menlo,'DejaVu Sans Mono',consolas,'Courier New',monospace\">Running mean: <span style=\"color: #008080; text-decoration-color: #008080; font-weight: bold\">14.443</span> - Running variance: <span style=\"color: #008080; text-decoration-color: #008080; font-weight: bold\">13.079</span>\n",
       "</pre>\n"
      ],
      "text/plain": [
       "Running mean: \u001b[1;36m14.443\u001b[0m - Running variance: \u001b[1;36m13.079\u001b[0m\n"
      ]
     },
     "metadata": {},
     "output_type": "display_data"
    },
    {
     "data": {
      "text/html": [
       "<pre style=\"white-space:pre;overflow-x:auto;line-height:normal;font-family:Menlo,'DejaVu Sans Mono',consolas,'Courier New',monospace\">Running mean: <span style=\"color: #008080; text-decoration-color: #008080; font-weight: bold\">14.440</span> - Running variance: <span style=\"color: #008080; text-decoration-color: #008080; font-weight: bold\">13.028</span>\n",
       "</pre>\n"
      ],
      "text/plain": [
       "Running mean: \u001b[1;36m14.440\u001b[0m - Running variance: \u001b[1;36m13.028\u001b[0m\n"
      ]
     },
     "metadata": {},
     "output_type": "display_data"
    },
    {
     "data": {
      "text/html": [
       "<pre style=\"white-space:pre;overflow-x:auto;line-height:normal;font-family:Menlo,'DejaVu Sans Mono',consolas,'Courier New',monospace\">Running mean: <span style=\"color: #008080; text-decoration-color: #008080; font-weight: bold\">14.432</span> - Running variance: <span style=\"color: #008080; text-decoration-color: #008080; font-weight: bold\">12.991</span>\n",
       "</pre>\n"
      ],
      "text/plain": [
       "Running mean: \u001b[1;36m14.432\u001b[0m - Running variance: \u001b[1;36m12.991\u001b[0m\n"
      ]
     },
     "metadata": {},
     "output_type": "display_data"
    },
    {
     "data": {
      "text/html": [
       "<pre style=\"white-space:pre;overflow-x:auto;line-height:normal;font-family:Menlo,'DejaVu Sans Mono',consolas,'Courier New',monospace\">Running mean: <span style=\"color: #008080; text-decoration-color: #008080; font-weight: bold\">14.419</span> - Running variance: <span style=\"color: #008080; text-decoration-color: #008080; font-weight: bold\">12.977</span>\n",
       "</pre>\n"
      ],
      "text/plain": [
       "Running mean: \u001b[1;36m14.419\u001b[0m - Running variance: \u001b[1;36m12.977\u001b[0m\n"
      ]
     },
     "metadata": {},
     "output_type": "display_data"
    },
    {
     "data": {
      "text/html": [
       "<pre style=\"white-space:pre;overflow-x:auto;line-height:normal;font-family:Menlo,'DejaVu Sans Mono',consolas,'Courier New',monospace\">Running mean: <span style=\"color: #008080; text-decoration-color: #008080; font-weight: bold\">14.416</span> - Running variance: <span style=\"color: #008080; text-decoration-color: #008080; font-weight: bold\">12.926</span>\n",
       "</pre>\n"
      ],
      "text/plain": [
       "Running mean: \u001b[1;36m14.416\u001b[0m - Running variance: \u001b[1;36m12.926\u001b[0m\n"
      ]
     },
     "metadata": {},
     "output_type": "display_data"
    },
    {
     "data": {
      "text/html": [
       "<pre style=\"white-space:pre;overflow-x:auto;line-height:normal;font-family:Menlo,'DejaVu Sans Mono',consolas,'Courier New',monospace\">Running mean: <span style=\"color: #008080; text-decoration-color: #008080; font-weight: bold\">14.436</span> - Running variance: <span style=\"color: #008080; text-decoration-color: #008080; font-weight: bold\">12.974</span>\n",
       "</pre>\n"
      ],
      "text/plain": [
       "Running mean: \u001b[1;36m14.436\u001b[0m - Running variance: \u001b[1;36m12.974\u001b[0m\n"
      ]
     },
     "metadata": {},
     "output_type": "display_data"
    },
    {
     "data": {
      "text/html": [
       "<pre style=\"white-space:pre;overflow-x:auto;line-height:normal;font-family:Menlo,'DejaVu Sans Mono',consolas,'Courier New',monospace\">Running mean: <span style=\"color: #008080; text-decoration-color: #008080; font-weight: bold\">14.420</span> - Running variance: <span style=\"color: #008080; text-decoration-color: #008080; font-weight: bold\">12.985</span>\n",
       "</pre>\n"
      ],
      "text/plain": [
       "Running mean: \u001b[1;36m14.420\u001b[0m - Running variance: \u001b[1;36m12.985\u001b[0m\n"
      ]
     },
     "metadata": {},
     "output_type": "display_data"
    },
    {
     "data": {
      "text/html": [
       "<pre style=\"white-space:pre;overflow-x:auto;line-height:normal;font-family:Menlo,'DejaVu Sans Mono',consolas,'Courier New',monospace\">Running mean: <span style=\"color: #008080; text-decoration-color: #008080; font-weight: bold\">14.415</span> - Running variance: <span style=\"color: #008080; text-decoration-color: #008080; font-weight: bold\">12.938</span>\n",
       "</pre>\n"
      ],
      "text/plain": [
       "Running mean: \u001b[1;36m14.415\u001b[0m - Running variance: \u001b[1;36m12.938\u001b[0m\n"
      ]
     },
     "metadata": {},
     "output_type": "display_data"
    },
    {
     "data": {
      "text/html": [
       "<pre style=\"white-space:pre;overflow-x:auto;line-height:normal;font-family:Menlo,'DejaVu Sans Mono',consolas,'Courier New',monospace\">Running mean: <span style=\"color: #008080; text-decoration-color: #008080; font-weight: bold\">14.409</span> - Running variance: <span style=\"color: #008080; text-decoration-color: #008080; font-weight: bold\">12.896</span>\n",
       "</pre>\n"
      ],
      "text/plain": [
       "Running mean: \u001b[1;36m14.409\u001b[0m - Running variance: \u001b[1;36m12.896\u001b[0m\n"
      ]
     },
     "metadata": {},
     "output_type": "display_data"
    },
    {
     "data": {
      "text/html": [
       "<pre style=\"white-space:pre;overflow-x:auto;line-height:normal;font-family:Menlo,'DejaVu Sans Mono',consolas,'Courier New',monospace\">Running mean: <span style=\"color: #008080; text-decoration-color: #008080; font-weight: bold\">14.394</span> - Running variance: <span style=\"color: #008080; text-decoration-color: #008080; font-weight: bold\">12.900</span>\n",
       "</pre>\n"
      ],
      "text/plain": [
       "Running mean: \u001b[1;36m14.394\u001b[0m - Running variance: \u001b[1;36m12.900\u001b[0m\n"
      ]
     },
     "metadata": {},
     "output_type": "display_data"
    },
    {
     "data": {
      "text/html": [
       "<pre style=\"white-space:pre;overflow-x:auto;line-height:normal;font-family:Menlo,'DejaVu Sans Mono',consolas,'Courier New',monospace\">Running mean: <span style=\"color: #008080; text-decoration-color: #008080; font-weight: bold\">14.383</span> - Running variance: <span style=\"color: #008080; text-decoration-color: #008080; font-weight: bold\">12.882</span>\n",
       "</pre>\n"
      ],
      "text/plain": [
       "Running mean: \u001b[1;36m14.383\u001b[0m - Running variance: \u001b[1;36m12.882\u001b[0m\n"
      ]
     },
     "metadata": {},
     "output_type": "display_data"
    },
    {
     "data": {
      "text/html": [
       "<pre style=\"white-space:pre;overflow-x:auto;line-height:normal;font-family:Menlo,'DejaVu Sans Mono',consolas,'Courier New',monospace\">Running mean: <span style=\"color: #008080; text-decoration-color: #008080; font-weight: bold\">14.409</span> - Running variance: <span style=\"color: #008080; text-decoration-color: #008080; font-weight: bold\">13.001</span>\n",
       "</pre>\n"
      ],
      "text/plain": [
       "Running mean: \u001b[1;36m14.409\u001b[0m - Running variance: \u001b[1;36m13.001\u001b[0m\n"
      ]
     },
     "metadata": {},
     "output_type": "display_data"
    },
    {
     "data": {
      "text/html": [
       "<pre style=\"white-space:pre;overflow-x:auto;line-height:normal;font-family:Menlo,'DejaVu Sans Mono',consolas,'Courier New',monospace\">Running mean: <span style=\"color: #008080; text-decoration-color: #008080; font-weight: bold\">14.397</span> - Running variance: <span style=\"color: #008080; text-decoration-color: #008080; font-weight: bold\">12.983</span>\n",
       "</pre>\n"
      ],
      "text/plain": [
       "Running mean: \u001b[1;36m14.397\u001b[0m - Running variance: \u001b[1;36m12.983\u001b[0m\n"
      ]
     },
     "metadata": {},
     "output_type": "display_data"
    },
    {
     "data": {
      "text/html": [
       "<pre style=\"white-space:pre;overflow-x:auto;line-height:normal;font-family:Menlo,'DejaVu Sans Mono',consolas,'Courier New',monospace\">Running mean: <span style=\"color: #008080; text-decoration-color: #008080; font-weight: bold\">14.418</span> - Running variance: <span style=\"color: #008080; text-decoration-color: #008080; font-weight: bold\">13.043</span>\n",
       "</pre>\n"
      ],
      "text/plain": [
       "Running mean: \u001b[1;36m14.418\u001b[0m - Running variance: \u001b[1;36m13.043\u001b[0m\n"
      ]
     },
     "metadata": {},
     "output_type": "display_data"
    },
    {
     "data": {
      "text/html": [
       "<pre style=\"white-space:pre;overflow-x:auto;line-height:normal;font-family:Menlo,'DejaVu Sans Mono',consolas,'Courier New',monospace\">Running mean: <span style=\"color: #008080; text-decoration-color: #008080; font-weight: bold\">14.430</span> - Running variance: <span style=\"color: #008080; text-decoration-color: #008080; font-weight: bold\">13.025</span>\n",
       "</pre>\n"
      ],
      "text/plain": [
       "Running mean: \u001b[1;36m14.430\u001b[0m - Running variance: \u001b[1;36m13.025\u001b[0m\n"
      ]
     },
     "metadata": {},
     "output_type": "display_data"
    },
    {
     "data": {
      "text/html": [
       "<pre style=\"white-space:pre;overflow-x:auto;line-height:normal;font-family:Menlo,'DejaVu Sans Mono',consolas,'Courier New',monospace\">Running mean: <span style=\"color: #008080; text-decoration-color: #008080; font-weight: bold\">14.449</span> - Running variance: <span style=\"color: #008080; text-decoration-color: #008080; font-weight: bold\">13.072</span>\n",
       "</pre>\n"
      ],
      "text/plain": [
       "Running mean: \u001b[1;36m14.449\u001b[0m - Running variance: \u001b[1;36m13.072\u001b[0m\n"
      ]
     },
     "metadata": {},
     "output_type": "display_data"
    },
    {
     "data": {
      "text/html": [
       "<pre style=\"white-space:pre;overflow-x:auto;line-height:normal;font-family:Menlo,'DejaVu Sans Mono',consolas,'Courier New',monospace\">Running mean: <span style=\"color: #008080; text-decoration-color: #008080; font-weight: bold\">14.447</span> - Running variance: <span style=\"color: #008080; text-decoration-color: #008080; font-weight: bold\">13.022</span>\n",
       "</pre>\n"
      ],
      "text/plain": [
       "Running mean: \u001b[1;36m14.447\u001b[0m - Running variance: \u001b[1;36m13.022\u001b[0m\n"
      ]
     },
     "metadata": {},
     "output_type": "display_data"
    },
    {
     "data": {
      "text/html": [
       "<pre style=\"white-space:pre;overflow-x:auto;line-height:normal;font-family:Menlo,'DejaVu Sans Mono',consolas,'Courier New',monospace\">Running mean: <span style=\"color: #008080; text-decoration-color: #008080; font-weight: bold\">14.467</span> - Running variance: <span style=\"color: #008080; text-decoration-color: #008080; font-weight: bold\">13.072</span>\n",
       "</pre>\n"
      ],
      "text/plain": [
       "Running mean: \u001b[1;36m14.467\u001b[0m - Running variance: \u001b[1;36m13.072\u001b[0m\n"
      ]
     },
     "metadata": {},
     "output_type": "display_data"
    },
    {
     "data": {
      "text/html": [
       "<pre style=\"white-space:pre;overflow-x:auto;line-height:normal;font-family:Menlo,'DejaVu Sans Mono',consolas,'Courier New',monospace\">Running mean: <span style=\"color: #008080; text-decoration-color: #008080; font-weight: bold\">14.471</span> - Running variance: <span style=\"color: #008080; text-decoration-color: #008080; font-weight: bold\">13.024</span>\n",
       "</pre>\n"
      ],
      "text/plain": [
       "Running mean: \u001b[1;36m14.471\u001b[0m - Running variance: \u001b[1;36m13.024\u001b[0m\n"
      ]
     },
     "metadata": {},
     "output_type": "display_data"
    },
    {
     "data": {
      "text/html": [
       "<pre style=\"white-space:pre;overflow-x:auto;line-height:normal;font-family:Menlo,'DejaVu Sans Mono',consolas,'Courier New',monospace\">Running mean: <span style=\"color: #008080; text-decoration-color: #008080; font-weight: bold\">14.475</span> - Running variance: <span style=\"color: #008080; text-decoration-color: #008080; font-weight: bold\">12.979</span>\n",
       "</pre>\n"
      ],
      "text/plain": [
       "Running mean: \u001b[1;36m14.475\u001b[0m - Running variance: \u001b[1;36m12.979\u001b[0m\n"
      ]
     },
     "metadata": {},
     "output_type": "display_data"
    },
    {
     "data": {
      "text/html": [
       "<pre style=\"white-space:pre;overflow-x:auto;line-height:normal;font-family:Menlo,'DejaVu Sans Mono',consolas,'Courier New',monospace\">Running mean: <span style=\"color: #008080; text-decoration-color: #008080; font-weight: bold\">14.479</span> - Running variance: <span style=\"color: #008080; text-decoration-color: #008080; font-weight: bold\">12.934</span>\n",
       "</pre>\n"
      ],
      "text/plain": [
       "Running mean: \u001b[1;36m14.479\u001b[0m - Running variance: \u001b[1;36m12.934\u001b[0m\n"
      ]
     },
     "metadata": {},
     "output_type": "display_data"
    },
    {
     "data": {
      "text/html": [
       "<pre style=\"white-space:pre;overflow-x:auto;line-height:normal;font-family:Menlo,'DejaVu Sans Mono',consolas,'Courier New',monospace\">Running mean: <span style=\"color: #008080; text-decoration-color: #008080; font-weight: bold\">14.502</span> - Running variance: <span style=\"color: #008080; text-decoration-color: #008080; font-weight: bold\">13.014</span>\n",
       "</pre>\n"
      ],
      "text/plain": [
       "Running mean: \u001b[1;36m14.502\u001b[0m - Running variance: \u001b[1;36m13.014\u001b[0m\n"
      ]
     },
     "metadata": {},
     "output_type": "display_data"
    },
    {
     "data": {
      "text/html": [
       "<pre style=\"white-space:pre;overflow-x:auto;line-height:normal;font-family:Menlo,'DejaVu Sans Mono',consolas,'Courier New',monospace\">Running mean: <span style=\"color: #008080; text-decoration-color: #008080; font-weight: bold\">14.512</span> - Running variance: <span style=\"color: #008080; text-decoration-color: #008080; font-weight: bold\">12.995</span>\n",
       "</pre>\n"
      ],
      "text/plain": [
       "Running mean: \u001b[1;36m14.512\u001b[0m - Running variance: \u001b[1;36m12.995\u001b[0m\n"
      ]
     },
     "metadata": {},
     "output_type": "display_data"
    },
    {
     "data": {
      "text/html": [
       "<pre style=\"white-space:pre;overflow-x:auto;line-height:normal;font-family:Menlo,'DejaVu Sans Mono',consolas,'Courier New',monospace\">Running mean: <span style=\"color: #008080; text-decoration-color: #008080; font-weight: bold\">14.523</span> - Running variance: <span style=\"color: #008080; text-decoration-color: #008080; font-weight: bold\">12.975</span>\n",
       "</pre>\n"
      ],
      "text/plain": [
       "Running mean: \u001b[1;36m14.523\u001b[0m - Running variance: \u001b[1;36m12.975\u001b[0m\n"
      ]
     },
     "metadata": {},
     "output_type": "display_data"
    },
    {
     "data": {
      "text/html": [
       "<pre style=\"white-space:pre;overflow-x:auto;line-height:normal;font-family:Menlo,'DejaVu Sans Mono',consolas,'Courier New',monospace\">Running mean: <span style=\"color: #008080; text-decoration-color: #008080; font-weight: bold\">14.527</span> - Running variance: <span style=\"color: #008080; text-decoration-color: #008080; font-weight: bold\">12.930</span>\n",
       "</pre>\n"
      ],
      "text/plain": [
       "Running mean: \u001b[1;36m14.527\u001b[0m - Running variance: \u001b[1;36m12.930\u001b[0m\n"
      ]
     },
     "metadata": {},
     "output_type": "display_data"
    },
    {
     "data": {
      "text/html": [
       "<pre style=\"white-space:pre;overflow-x:auto;line-height:normal;font-family:Menlo,'DejaVu Sans Mono',consolas,'Courier New',monospace\">Running mean: <span style=\"color: #008080; text-decoration-color: #008080; font-weight: bold\">14.537</span> - Running variance: <span style=\"color: #008080; text-decoration-color: #008080; font-weight: bold\">12.908</span>\n",
       "</pre>\n"
      ],
      "text/plain": [
       "Running mean: \u001b[1;36m14.537\u001b[0m - Running variance: \u001b[1;36m12.908\u001b[0m\n"
      ]
     },
     "metadata": {},
     "output_type": "display_data"
    },
    {
     "data": {
      "text/html": [
       "<pre style=\"white-space:pre;overflow-x:auto;line-height:normal;font-family:Menlo,'DejaVu Sans Mono',consolas,'Courier New',monospace\">Running mean: <span style=\"color: #008080; text-decoration-color: #008080; font-weight: bold\">14.560</span> - Running variance: <span style=\"color: #008080; text-decoration-color: #008080; font-weight: bold\">13.003</span>\n",
       "</pre>\n"
      ],
      "text/plain": [
       "Running mean: \u001b[1;36m14.560\u001b[0m - Running variance: \u001b[1;36m13.003\u001b[0m\n"
      ]
     },
     "metadata": {},
     "output_type": "display_data"
    },
    {
     "data": {
      "text/html": [
       "<pre style=\"white-space:pre;overflow-x:auto;line-height:normal;font-family:Menlo,'DejaVu Sans Mono',consolas,'Courier New',monospace\">Running mean: <span style=\"color: #008080; text-decoration-color: #008080; font-weight: bold\">14.546</span> - Running variance: <span style=\"color: #008080; text-decoration-color: #008080; font-weight: bold\">13.013</span>\n",
       "</pre>\n"
      ],
      "text/plain": [
       "Running mean: \u001b[1;36m14.546\u001b[0m - Running variance: \u001b[1;36m13.013\u001b[0m\n"
      ]
     },
     "metadata": {},
     "output_type": "display_data"
    },
    {
     "data": {
      "text/html": [
       "<pre style=\"white-space:pre;overflow-x:auto;line-height:normal;font-family:Menlo,'DejaVu Sans Mono',consolas,'Courier New',monospace\">Running mean: <span style=\"color: #008080; text-decoration-color: #008080; font-weight: bold\">14.542</span> - Running variance: <span style=\"color: #008080; text-decoration-color: #008080; font-weight: bold\">12.968</span>\n",
       "</pre>\n"
      ],
      "text/plain": [
       "Running mean: \u001b[1;36m14.542\u001b[0m - Running variance: \u001b[1;36m12.968\u001b[0m\n"
      ]
     },
     "metadata": {},
     "output_type": "display_data"
    },
    {
     "data": {
      "text/html": [
       "<pre style=\"white-space:pre;overflow-x:auto;line-height:normal;font-family:Menlo,'DejaVu Sans Mono',consolas,'Courier New',monospace\">Running mean: <span style=\"color: #008080; text-decoration-color: #008080; font-weight: bold\">14.536</span> - Running variance: <span style=\"color: #008080; text-decoration-color: #008080; font-weight: bold\">12.930</span>\n",
       "</pre>\n"
      ],
      "text/plain": [
       "Running mean: \u001b[1;36m14.536\u001b[0m - Running variance: \u001b[1;36m12.930\u001b[0m\n"
      ]
     },
     "metadata": {},
     "output_type": "display_data"
    },
    {
     "data": {
      "text/html": [
       "<pre style=\"white-space:pre;overflow-x:auto;line-height:normal;font-family:Menlo,'DejaVu Sans Mono',consolas,'Courier New',monospace\">Running mean: <span style=\"color: #008080; text-decoration-color: #008080; font-weight: bold\">14.522</span> - Running variance: <span style=\"color: #008080; text-decoration-color: #008080; font-weight: bold\">12.936</span>\n",
       "</pre>\n"
      ],
      "text/plain": [
       "Running mean: \u001b[1;36m14.522\u001b[0m - Running variance: \u001b[1;36m12.936\u001b[0m\n"
      ]
     },
     "metadata": {},
     "output_type": "display_data"
    },
    {
     "data": {
      "text/html": [
       "<pre style=\"white-space:pre;overflow-x:auto;line-height:normal;font-family:Menlo,'DejaVu Sans Mono',consolas,'Courier New',monospace\">Running mean: <span style=\"color: #008080; text-decoration-color: #008080; font-weight: bold\">14.521</span> - Running variance: <span style=\"color: #008080; text-decoration-color: #008080; font-weight: bold\">12.889</span>\n",
       "</pre>\n"
      ],
      "text/plain": [
       "Running mean: \u001b[1;36m14.521\u001b[0m - Running variance: \u001b[1;36m12.889\u001b[0m\n"
      ]
     },
     "metadata": {},
     "output_type": "display_data"
    },
    {
     "data": {
      "text/html": [
       "<pre style=\"white-space:pre;overflow-x:auto;line-height:normal;font-family:Menlo,'DejaVu Sans Mono',consolas,'Courier New',monospace\">Running mean: <span style=\"color: #008080; text-decoration-color: #008080; font-weight: bold\">14.509</span> - Running variance: <span style=\"color: #008080; text-decoration-color: #008080; font-weight: bold\">12.879</span>\n",
       "</pre>\n"
      ],
      "text/plain": [
       "Running mean: \u001b[1;36m14.509\u001b[0m - Running variance: \u001b[1;36m12.879\u001b[0m\n"
      ]
     },
     "metadata": {},
     "output_type": "display_data"
    },
    {
     "data": {
      "text/html": [
       "<pre style=\"white-space:pre;overflow-x:auto;line-height:normal;font-family:Menlo,'DejaVu Sans Mono',consolas,'Courier New',monospace\">Running mean: <span style=\"color: #008080; text-decoration-color: #008080; font-weight: bold\">14.535</span> - Running variance: <span style=\"color: #008080; text-decoration-color: #008080; font-weight: bold\">13.024</span>\n",
       "</pre>\n"
      ],
      "text/plain": [
       "Running mean: \u001b[1;36m14.535\u001b[0m - Running variance: \u001b[1;36m13.024\u001b[0m\n"
      ]
     },
     "metadata": {},
     "output_type": "display_data"
    },
    {
     "data": {
      "text/html": [
       "<pre style=\"white-space:pre;overflow-x:auto;line-height:normal;font-family:Menlo,'DejaVu Sans Mono',consolas,'Courier New',monospace\">Running mean: <span style=\"color: #008080; text-decoration-color: #008080; font-weight: bold\">14.518</span> - Running variance: <span style=\"color: #008080; text-decoration-color: #008080; font-weight: bold\">13.060</span>\n",
       "</pre>\n"
      ],
      "text/plain": [
       "Running mean: \u001b[1;36m14.518\u001b[0m - Running variance: \u001b[1;36m13.060\u001b[0m\n"
      ]
     },
     "metadata": {},
     "output_type": "display_data"
    },
    {
     "data": {
      "text/html": [
       "<pre style=\"white-space:pre;overflow-x:auto;line-height:normal;font-family:Menlo,'DejaVu Sans Mono',consolas,'Courier New',monospace\">Running mean: <span style=\"color: #008080; text-decoration-color: #008080; font-weight: bold\">14.530</span> - Running variance: <span style=\"color: #008080; text-decoration-color: #008080; font-weight: bold\">13.054</span>\n",
       "</pre>\n"
      ],
      "text/plain": [
       "Running mean: \u001b[1;36m14.530\u001b[0m - Running variance: \u001b[1;36m13.054\u001b[0m\n"
      ]
     },
     "metadata": {},
     "output_type": "display_data"
    },
    {
     "data": {
      "text/html": [
       "<pre style=\"white-space:pre;overflow-x:auto;line-height:normal;font-family:Menlo,'DejaVu Sans Mono',consolas,'Courier New',monospace\">Running mean: <span style=\"color: #008080; text-decoration-color: #008080; font-weight: bold\">14.521</span> - Running variance: <span style=\"color: #008080; text-decoration-color: #008080; font-weight: bold\">13.032</span>\n",
       "</pre>\n"
      ],
      "text/plain": [
       "Running mean: \u001b[1;36m14.521\u001b[0m - Running variance: \u001b[1;36m13.032\u001b[0m\n"
      ]
     },
     "metadata": {},
     "output_type": "display_data"
    },
    {
     "data": {
      "text/html": [
       "<pre style=\"white-space:pre;overflow-x:auto;line-height:normal;font-family:Menlo,'DejaVu Sans Mono',consolas,'Courier New',monospace\">Running mean: <span style=\"color: #008080; text-decoration-color: #008080; font-weight: bold\">14.509</span> - Running variance: <span style=\"color: #008080; text-decoration-color: #008080; font-weight: bold\">13.022</span>\n",
       "</pre>\n"
      ],
      "text/plain": [
       "Running mean: \u001b[1;36m14.509\u001b[0m - Running variance: \u001b[1;36m13.022\u001b[0m\n"
      ]
     },
     "metadata": {},
     "output_type": "display_data"
    },
    {
     "data": {
      "text/html": [
       "<pre style=\"white-space:pre;overflow-x:auto;line-height:normal;font-family:Menlo,'DejaVu Sans Mono',consolas,'Courier New',monospace\">Running mean: <span style=\"color: #008080; text-decoration-color: #008080; font-weight: bold\">14.525</span> - Running variance: <span style=\"color: #008080; text-decoration-color: #008080; font-weight: bold\">13.041</span>\n",
       "</pre>\n"
      ],
      "text/plain": [
       "Running mean: \u001b[1;36m14.525\u001b[0m - Running variance: \u001b[1;36m13.041\u001b[0m\n"
      ]
     },
     "metadata": {},
     "output_type": "display_data"
    },
    {
     "data": {
      "text/html": [
       "<pre style=\"white-space:pre;overflow-x:auto;line-height:normal;font-family:Menlo,'DejaVu Sans Mono',consolas,'Courier New',monospace\">Running mean: <span style=\"color: #008080; text-decoration-color: #008080; font-weight: bold\">14.521</span> - Running variance: <span style=\"color: #008080; text-decoration-color: #008080; font-weight: bold\">12.998</span>\n",
       "</pre>\n"
      ],
      "text/plain": [
       "Running mean: \u001b[1;36m14.521\u001b[0m - Running variance: \u001b[1;36m12.998\u001b[0m\n"
      ]
     },
     "metadata": {},
     "output_type": "display_data"
    },
    {
     "data": {
      "text/html": [
       "<pre style=\"white-space:pre;overflow-x:auto;line-height:normal;font-family:Menlo,'DejaVu Sans Mono',consolas,'Courier New',monospace\">Running mean: <span style=\"color: #008080; text-decoration-color: #008080; font-weight: bold\">14.519</span> - Running variance: <span style=\"color: #008080; text-decoration-color: #008080; font-weight: bold\">12.953</span>\n",
       "</pre>\n"
      ],
      "text/plain": [
       "Running mean: \u001b[1;36m14.519\u001b[0m - Running variance: \u001b[1;36m12.953\u001b[0m\n"
      ]
     },
     "metadata": {},
     "output_type": "display_data"
    },
    {
     "data": {
      "text/html": [
       "<pre style=\"white-space:pre;overflow-x:auto;line-height:normal;font-family:Menlo,'DejaVu Sans Mono',consolas,'Courier New',monospace\">Running mean: <span style=\"color: #008080; text-decoration-color: #008080; font-weight: bold\">14.536</span> - Running variance: <span style=\"color: #008080; text-decoration-color: #008080; font-weight: bold\">12.983</span>\n",
       "</pre>\n"
      ],
      "text/plain": [
       "Running mean: \u001b[1;36m14.536\u001b[0m - Running variance: \u001b[1;36m12.983\u001b[0m\n"
      ]
     },
     "metadata": {},
     "output_type": "display_data"
    },
    {
     "data": {
      "text/html": [
       "<pre style=\"white-space:pre;overflow-x:auto;line-height:normal;font-family:Menlo,'DejaVu Sans Mono',consolas,'Courier New',monospace\">Running mean: <span style=\"color: #008080; text-decoration-color: #008080; font-weight: bold\">14.526</span> - Running variance: <span style=\"color: #008080; text-decoration-color: #008080; font-weight: bold\">12.965</span>\n",
       "</pre>\n"
      ],
      "text/plain": [
       "Running mean: \u001b[1;36m14.526\u001b[0m - Running variance: \u001b[1;36m12.965\u001b[0m\n"
      ]
     },
     "metadata": {},
     "output_type": "display_data"
    },
    {
     "data": {
      "text/html": [
       "<pre style=\"white-space:pre;overflow-x:auto;line-height:normal;font-family:Menlo,'DejaVu Sans Mono',consolas,'Courier New',monospace\">Running mean: <span style=\"color: #008080; text-decoration-color: #008080; font-weight: bold\">14.543</span> - Running variance: <span style=\"color: #008080; text-decoration-color: #008080; font-weight: bold\">13.003</span>\n",
       "</pre>\n"
      ],
      "text/plain": [
       "Running mean: \u001b[1;36m14.543\u001b[0m - Running variance: \u001b[1;36m13.003\u001b[0m\n"
      ]
     },
     "metadata": {},
     "output_type": "display_data"
    },
    {
     "data": {
      "text/html": [
       "<pre style=\"white-space:pre;overflow-x:auto;line-height:normal;font-family:Menlo,'DejaVu Sans Mono',consolas,'Courier New',monospace\">Running mean: <span style=\"color: #008080; text-decoration-color: #008080; font-weight: bold\">14.549</span> - Running variance: <span style=\"color: #008080; text-decoration-color: #008080; font-weight: bold\">12.967</span>\n",
       "</pre>\n"
      ],
      "text/plain": [
       "Running mean: \u001b[1;36m14.549\u001b[0m - Running variance: \u001b[1;36m12.967\u001b[0m\n"
      ]
     },
     "metadata": {},
     "output_type": "display_data"
    },
    {
     "data": {
      "text/html": [
       "<pre style=\"white-space:pre;overflow-x:auto;line-height:normal;font-family:Menlo,'DejaVu Sans Mono',consolas,'Courier New',monospace\">Running mean: <span style=\"color: #008080; text-decoration-color: #008080; font-weight: bold\">14.543</span> - Running variance: <span style=\"color: #008080; text-decoration-color: #008080; font-weight: bold\">12.931</span>\n",
       "</pre>\n"
      ],
      "text/plain": [
       "Running mean: \u001b[1;36m14.543\u001b[0m - Running variance: \u001b[1;36m12.931\u001b[0m\n"
      ]
     },
     "metadata": {},
     "output_type": "display_data"
    },
    {
     "data": {
      "text/html": [
       "<pre style=\"white-space:pre;overflow-x:auto;line-height:normal;font-family:Menlo,'DejaVu Sans Mono',consolas,'Courier New',monospace\">Running mean: <span style=\"color: #008080; text-decoration-color: #008080; font-weight: bold\">14.536</span> - Running variance: <span style=\"color: #008080; text-decoration-color: #008080; font-weight: bold\">12.899</span>\n",
       "</pre>\n"
      ],
      "text/plain": [
       "Running mean: \u001b[1;36m14.536\u001b[0m - Running variance: \u001b[1;36m12.899\u001b[0m\n"
      ]
     },
     "metadata": {},
     "output_type": "display_data"
    },
    {
     "data": {
      "text/html": [
       "<pre style=\"white-space:pre;overflow-x:auto;line-height:normal;font-family:Menlo,'DejaVu Sans Mono',consolas,'Courier New',monospace\">Running mean: <span style=\"color: #008080; text-decoration-color: #008080; font-weight: bold\">14.527</span> - Running variance: <span style=\"color: #008080; text-decoration-color: #008080; font-weight: bold\">12.878</span>\n",
       "</pre>\n"
      ],
      "text/plain": [
       "Running mean: \u001b[1;36m14.527\u001b[0m - Running variance: \u001b[1;36m12.878\u001b[0m\n"
      ]
     },
     "metadata": {},
     "output_type": "display_data"
    },
    {
     "data": {
      "text/html": [
       "<pre style=\"white-space:pre;overflow-x:auto;line-height:normal;font-family:Menlo,'DejaVu Sans Mono',consolas,'Courier New',monospace\">Running mean: <span style=\"color: #008080; text-decoration-color: #008080; font-weight: bold\">14.521</span> - Running variance: <span style=\"color: #008080; text-decoration-color: #008080; font-weight: bold\">12.842</span>\n",
       "</pre>\n"
      ],
      "text/plain": [
       "Running mean: \u001b[1;36m14.521\u001b[0m - Running variance: \u001b[1;36m12.842\u001b[0m\n"
      ]
     },
     "metadata": {},
     "output_type": "display_data"
    },
    {
     "data": {
      "text/html": [
       "<pre style=\"white-space:pre;overflow-x:auto;line-height:normal;font-family:Menlo,'DejaVu Sans Mono',consolas,'Courier New',monospace\">Running mean: <span style=\"color: #008080; text-decoration-color: #008080; font-weight: bold\">14.510</span> - Running variance: <span style=\"color: #008080; text-decoration-color: #008080; font-weight: bold\">12.834</span>\n",
       "</pre>\n"
      ],
      "text/plain": [
       "Running mean: \u001b[1;36m14.510\u001b[0m - Running variance: \u001b[1;36m12.834\u001b[0m\n"
      ]
     },
     "metadata": {},
     "output_type": "display_data"
    },
    {
     "data": {
      "text/html": [
       "<pre style=\"white-space:pre;overflow-x:auto;line-height:normal;font-family:Menlo,'DejaVu Sans Mono',consolas,'Courier New',monospace\">Running mean: <span style=\"color: #008080; text-decoration-color: #008080; font-weight: bold\">14.499</span> - Running variance: <span style=\"color: #008080; text-decoration-color: #008080; font-weight: bold\">12.824</span>\n",
       "</pre>\n"
      ],
      "text/plain": [
       "Running mean: \u001b[1;36m14.499\u001b[0m - Running variance: \u001b[1;36m12.824\u001b[0m\n"
      ]
     },
     "metadata": {},
     "output_type": "display_data"
    },
    {
     "data": {
      "text/html": [
       "<pre style=\"white-space:pre;overflow-x:auto;line-height:normal;font-family:Menlo,'DejaVu Sans Mono',consolas,'Courier New',monospace\">Running mean: <span style=\"color: #008080; text-decoration-color: #008080; font-weight: bold\">14.499</span> - Running variance: <span style=\"color: #008080; text-decoration-color: #008080; font-weight: bold\">12.780</span>\n",
       "</pre>\n"
      ],
      "text/plain": [
       "Running mean: \u001b[1;36m14.499\u001b[0m - Running variance: \u001b[1;36m12.780\u001b[0m\n"
      ]
     },
     "metadata": {},
     "output_type": "display_data"
    },
    {
     "data": {
      "text/html": [
       "<pre style=\"white-space:pre;overflow-x:auto;line-height:normal;font-family:Menlo,'DejaVu Sans Mono',consolas,'Courier New',monospace\">Running mean: <span style=\"color: #008080; text-decoration-color: #008080; font-weight: bold\">14.501</span> - Running variance: <span style=\"color: #008080; text-decoration-color: #008080; font-weight: bold\">12.737</span>\n",
       "</pre>\n"
      ],
      "text/plain": [
       "Running mean: \u001b[1;36m14.501\u001b[0m - Running variance: \u001b[1;36m12.737\u001b[0m\n"
      ]
     },
     "metadata": {},
     "output_type": "display_data"
    },
    {
     "data": {
      "text/html": [
       "<pre style=\"white-space:pre;overflow-x:auto;line-height:normal;font-family:Menlo,'DejaVu Sans Mono',consolas,'Courier New',monospace\">Running mean: <span style=\"color: #008080; text-decoration-color: #008080; font-weight: bold\">14.495</span> - Running variance: <span style=\"color: #008080; text-decoration-color: #008080; font-weight: bold\">12.702</span>\n",
       "</pre>\n"
      ],
      "text/plain": [
       "Running mean: \u001b[1;36m14.495\u001b[0m - Running variance: \u001b[1;36m12.702\u001b[0m\n"
      ]
     },
     "metadata": {},
     "output_type": "display_data"
    },
    {
     "data": {
      "text/html": [
       "<pre style=\"white-space:pre;overflow-x:auto;line-height:normal;font-family:Menlo,'DejaVu Sans Mono',consolas,'Courier New',monospace\">Running mean: <span style=\"color: #008080; text-decoration-color: #008080; font-weight: bold\">14.486</span> - Running variance: <span style=\"color: #008080; text-decoration-color: #008080; font-weight: bold\">12.682</span>\n",
       "</pre>\n"
      ],
      "text/plain": [
       "Running mean: \u001b[1;36m14.486\u001b[0m - Running variance: \u001b[1;36m12.682\u001b[0m\n"
      ]
     },
     "metadata": {},
     "output_type": "display_data"
    },
    {
     "data": {
      "text/html": [
       "<pre style=\"white-space:pre;overflow-x:auto;line-height:normal;font-family:Menlo,'DejaVu Sans Mono',consolas,'Courier New',monospace\">Running mean: <span style=\"color: #008080; text-decoration-color: #008080; font-weight: bold\">14.480</span> - Running variance: <span style=\"color: #008080; text-decoration-color: #008080; font-weight: bold\">12.650</span>\n",
       "</pre>\n"
      ],
      "text/plain": [
       "Running mean: \u001b[1;36m14.480\u001b[0m - Running variance: \u001b[1;36m12.650\u001b[0m\n"
      ]
     },
     "metadata": {},
     "output_type": "display_data"
    },
    {
     "data": {
      "text/html": [
       "<pre style=\"white-space:pre;overflow-x:auto;line-height:normal;font-family:Menlo,'DejaVu Sans Mono',consolas,'Courier New',monospace\">Running mean: <span style=\"color: #008080; text-decoration-color: #008080; font-weight: bold\">14.478</span> - Running variance: <span style=\"color: #008080; text-decoration-color: #008080; font-weight: bold\">12.609</span>\n",
       "</pre>\n"
      ],
      "text/plain": [
       "Running mean: \u001b[1;36m14.478\u001b[0m - Running variance: \u001b[1;36m12.609\u001b[0m\n"
      ]
     },
     "metadata": {},
     "output_type": "display_data"
    },
    {
     "data": {
      "text/html": [
       "<pre style=\"white-space:pre;overflow-x:auto;line-height:normal;font-family:Menlo,'DejaVu Sans Mono',consolas,'Courier New',monospace\">Running mean: <span style=\"color: #008080; text-decoration-color: #008080; font-weight: bold\">14.466</span> - Running variance: <span style=\"color: #008080; text-decoration-color: #008080; font-weight: bold\">12.609</span>\n",
       "</pre>\n"
      ],
      "text/plain": [
       "Running mean: \u001b[1;36m14.466\u001b[0m - Running variance: \u001b[1;36m12.609\u001b[0m\n"
      ]
     },
     "metadata": {},
     "output_type": "display_data"
    },
    {
     "data": {
      "text/html": [
       "<pre style=\"white-space:pre;overflow-x:auto;line-height:normal;font-family:Menlo,'DejaVu Sans Mono',consolas,'Courier New',monospace\">Running mean: <span style=\"color: #008080; text-decoration-color: #008080; font-weight: bold\">14.457</span> - Running variance: <span style=\"color: #008080; text-decoration-color: #008080; font-weight: bold\">12.591</span>\n",
       "</pre>\n"
      ],
      "text/plain": [
       "Running mean: \u001b[1;36m14.457\u001b[0m - Running variance: \u001b[1;36m12.591\u001b[0m\n"
      ]
     },
     "metadata": {},
     "output_type": "display_data"
    },
    {
     "data": {
      "text/html": [
       "<pre style=\"white-space:pre;overflow-x:auto;line-height:normal;font-family:Menlo,'DejaVu Sans Mono',consolas,'Courier New',monospace\">Running mean: <span style=\"color: #008080; text-decoration-color: #008080; font-weight: bold\">14.456</span> - Running variance: <span style=\"color: #008080; text-decoration-color: #008080; font-weight: bold\">12.549</span>\n",
       "</pre>\n"
      ],
      "text/plain": [
       "Running mean: \u001b[1;36m14.456\u001b[0m - Running variance: \u001b[1;36m12.549\u001b[0m\n"
      ]
     },
     "metadata": {},
     "output_type": "display_data"
    },
    {
     "data": {
      "text/html": [
       "<pre style=\"white-space:pre;overflow-x:auto;line-height:normal;font-family:Menlo,'DejaVu Sans Mono',consolas,'Courier New',monospace\">Running mean: <span style=\"color: #008080; text-decoration-color: #008080; font-weight: bold\">14.443</span> - Running variance: <span style=\"color: #008080; text-decoration-color: #008080; font-weight: bold\">12.559</span>\n",
       "</pre>\n"
      ],
      "text/plain": [
       "Running mean: \u001b[1;36m14.443\u001b[0m - Running variance: \u001b[1;36m12.559\u001b[0m\n"
      ]
     },
     "metadata": {},
     "output_type": "display_data"
    },
    {
     "data": {
      "text/html": [
       "<pre style=\"white-space:pre;overflow-x:auto;line-height:normal;font-family:Menlo,'DejaVu Sans Mono',consolas,'Courier New',monospace\">Running mean: <span style=\"color: #008080; text-decoration-color: #008080; font-weight: bold\">14.460</span> - Running variance: <span style=\"color: #008080; text-decoration-color: #008080; font-weight: bold\">12.603</span>\n",
       "</pre>\n"
      ],
      "text/plain": [
       "Running mean: \u001b[1;36m14.460\u001b[0m - Running variance: \u001b[1;36m12.603\u001b[0m\n"
      ]
     },
     "metadata": {},
     "output_type": "display_data"
    },
    {
     "data": {
      "text/html": [
       "<pre style=\"white-space:pre;overflow-x:auto;line-height:normal;font-family:Menlo,'DejaVu Sans Mono',consolas,'Courier New',monospace\">Running mean: <span style=\"color: #008080; text-decoration-color: #008080; font-weight: bold\">14.453</span> - Running variance: <span style=\"color: #008080; text-decoration-color: #008080; font-weight: bold\">12.575</span>\n",
       "</pre>\n"
      ],
      "text/plain": [
       "Running mean: \u001b[1;36m14.453\u001b[0m - Running variance: \u001b[1;36m12.575\u001b[0m\n"
      ]
     },
     "metadata": {},
     "output_type": "display_data"
    },
    {
     "data": {
      "text/html": [
       "<pre style=\"white-space:pre;overflow-x:auto;line-height:normal;font-family:Menlo,'DejaVu Sans Mono',consolas,'Courier New',monospace\">Running mean: <span style=\"color: #008080; text-decoration-color: #008080; font-weight: bold\">14.472</span> - Running variance: <span style=\"color: #008080; text-decoration-color: #008080; font-weight: bold\">12.638</span>\n",
       "</pre>\n"
      ],
      "text/plain": [
       "Running mean: \u001b[1;36m14.472\u001b[0m - Running variance: \u001b[1;36m12.638\u001b[0m\n"
      ]
     },
     "metadata": {},
     "output_type": "display_data"
    },
    {
     "data": {
      "text/html": [
       "<pre style=\"white-space:pre;overflow-x:auto;line-height:normal;font-family:Menlo,'DejaVu Sans Mono',consolas,'Courier New',monospace\">Running mean: <span style=\"color: #008080; text-decoration-color: #008080; font-weight: bold\">14.459</span> - Running variance: <span style=\"color: #008080; text-decoration-color: #008080; font-weight: bold\">12.648</span>\n",
       "</pre>\n"
      ],
      "text/plain": [
       "Running mean: \u001b[1;36m14.459\u001b[0m - Running variance: \u001b[1;36m12.648\u001b[0m\n"
      ]
     },
     "metadata": {},
     "output_type": "display_data"
    },
    {
     "data": {
      "text/html": [
       "<pre style=\"white-space:pre;overflow-x:auto;line-height:normal;font-family:Menlo,'DejaVu Sans Mono',consolas,'Courier New',monospace\">Running mean: <span style=\"color: #008080; text-decoration-color: #008080; font-weight: bold\">14.449</span> - Running variance: <span style=\"color: #008080; text-decoration-color: #008080; font-weight: bold\">12.636</span>\n",
       "</pre>\n"
      ],
      "text/plain": [
       "Running mean: \u001b[1;36m14.449\u001b[0m - Running variance: \u001b[1;36m12.636\u001b[0m\n"
      ]
     },
     "metadata": {},
     "output_type": "display_data"
    },
    {
     "data": {
      "text/html": [
       "<pre style=\"white-space:pre;overflow-x:auto;line-height:normal;font-family:Menlo,'DejaVu Sans Mono',consolas,'Courier New',monospace\">Running mean: <span style=\"color: #008080; text-decoration-color: #008080; font-weight: bold\">14.440</span> - Running variance: <span style=\"color: #008080; text-decoration-color: #008080; font-weight: bold\">12.621</span>\n",
       "</pre>\n"
      ],
      "text/plain": [
       "Running mean: \u001b[1;36m14.440\u001b[0m - Running variance: \u001b[1;36m12.621\u001b[0m\n"
      ]
     },
     "metadata": {},
     "output_type": "display_data"
    },
    {
     "data": {
      "text/html": [
       "<pre style=\"white-space:pre;overflow-x:auto;line-height:normal;font-family:Menlo,'DejaVu Sans Mono',consolas,'Courier New',monospace\">Running mean: <span style=\"color: #008080; text-decoration-color: #008080; font-weight: bold\">14.436</span> - Running variance: <span style=\"color: #008080; text-decoration-color: #008080; font-weight: bold\">12.585</span>\n",
       "</pre>\n"
      ],
      "text/plain": [
       "Running mean: \u001b[1;36m14.436\u001b[0m - Running variance: \u001b[1;36m12.585\u001b[0m\n"
      ]
     },
     "metadata": {},
     "output_type": "display_data"
    },
    {
     "data": {
      "text/html": [
       "<pre style=\"white-space:pre;overflow-x:auto;line-height:normal;font-family:Menlo,'DejaVu Sans Mono',consolas,'Courier New',monospace\">Running mean: <span style=\"color: #008080; text-decoration-color: #008080; font-weight: bold\">14.418</span> - Running variance: <span style=\"color: #008080; text-decoration-color: #008080; font-weight: bold\">12.640</span>\n",
       "</pre>\n"
      ],
      "text/plain": [
       "Running mean: \u001b[1;36m14.418\u001b[0m - Running variance: \u001b[1;36m12.640\u001b[0m\n"
      ]
     },
     "metadata": {},
     "output_type": "display_data"
    },
    {
     "data": {
      "text/html": [
       "<pre style=\"white-space:pre;overflow-x:auto;line-height:normal;font-family:Menlo,'DejaVu Sans Mono',consolas,'Courier New',monospace\">Running mean: <span style=\"color: #008080; text-decoration-color: #008080; font-weight: bold\">14.415</span> - Running variance: <span style=\"color: #008080; text-decoration-color: #008080; font-weight: bold\">12.601</span>\n",
       "</pre>\n"
      ],
      "text/plain": [
       "Running mean: \u001b[1;36m14.415\u001b[0m - Running variance: \u001b[1;36m12.601\u001b[0m\n"
      ]
     },
     "metadata": {},
     "output_type": "display_data"
    },
    {
     "data": {
      "text/html": [
       "<pre style=\"white-space:pre;overflow-x:auto;line-height:normal;font-family:Menlo,'DejaVu Sans Mono',consolas,'Courier New',monospace\">Running mean: <span style=\"color: #008080; text-decoration-color: #008080; font-weight: bold\">14.411</span> - Running variance: <span style=\"color: #008080; text-decoration-color: #008080; font-weight: bold\">12.567</span>\n",
       "</pre>\n"
      ],
      "text/plain": [
       "Running mean: \u001b[1;36m14.411\u001b[0m - Running variance: \u001b[1;36m12.567\u001b[0m\n"
      ]
     },
     "metadata": {},
     "output_type": "display_data"
    },
    {
     "data": {
      "text/html": [
       "<pre style=\"white-space:pre;overflow-x:auto;line-height:normal;font-family:Menlo,'DejaVu Sans Mono',consolas,'Courier New',monospace\">Running mean: <span style=\"color: #008080; text-decoration-color: #008080; font-weight: bold\">14.402</span> - Running variance: <span style=\"color: #008080; text-decoration-color: #008080; font-weight: bold\">12.550</span>\n",
       "</pre>\n"
      ],
      "text/plain": [
       "Running mean: \u001b[1;36m14.402\u001b[0m - Running variance: \u001b[1;36m12.550\u001b[0m\n"
      ]
     },
     "metadata": {},
     "output_type": "display_data"
    },
    {
     "data": {
      "text/html": [
       "<pre style=\"white-space:pre;overflow-x:auto;line-height:normal;font-family:Menlo,'DejaVu Sans Mono',consolas,'Courier New',monospace\">Running mean: <span style=\"color: #008080; text-decoration-color: #008080; font-weight: bold\">14.402</span> - Running variance: <span style=\"color: #008080; text-decoration-color: #008080; font-weight: bold\">12.510</span>\n",
       "</pre>\n"
      ],
      "text/plain": [
       "Running mean: \u001b[1;36m14.402\u001b[0m - Running variance: \u001b[1;36m12.510\u001b[0m\n"
      ]
     },
     "metadata": {},
     "output_type": "display_data"
    },
    {
     "data": {
      "text/html": [
       "<pre style=\"white-space:pre;overflow-x:auto;line-height:normal;font-family:Menlo,'DejaVu Sans Mono',consolas,'Courier New',monospace\">Running mean: <span style=\"color: #008080; text-decoration-color: #008080; font-weight: bold\">14.397</span> - Running variance: <span style=\"color: #008080; text-decoration-color: #008080; font-weight: bold\">12.478</span>\n",
       "</pre>\n"
      ],
      "text/plain": [
       "Running mean: \u001b[1;36m14.397\u001b[0m - Running variance: \u001b[1;36m12.478\u001b[0m\n"
      ]
     },
     "metadata": {},
     "output_type": "display_data"
    },
    {
     "data": {
      "text/html": [
       "<pre style=\"white-space:pre;overflow-x:auto;line-height:normal;font-family:Menlo,'DejaVu Sans Mono',consolas,'Courier New',monospace\">Running mean: <span style=\"color: #008080; text-decoration-color: #008080; font-weight: bold\">14.388</span> - Running variance: <span style=\"color: #008080; text-decoration-color: #008080; font-weight: bold\">12.465</span>\n",
       "</pre>\n"
      ],
      "text/plain": [
       "Running mean: \u001b[1;36m14.388\u001b[0m - Running variance: \u001b[1;36m12.465\u001b[0m\n"
      ]
     },
     "metadata": {},
     "output_type": "display_data"
    },
    {
     "data": {
      "text/html": [
       "<pre style=\"white-space:pre;overflow-x:auto;line-height:normal;font-family:Menlo,'DejaVu Sans Mono',consolas,'Courier New',monospace\">Running mean: <span style=\"color: #008080; text-decoration-color: #008080; font-weight: bold\">14.370</span> - Running variance: <span style=\"color: #008080; text-decoration-color: #008080; font-weight: bold\">12.531</span>\n",
       "</pre>\n"
      ],
      "text/plain": [
       "Running mean: \u001b[1;36m14.370\u001b[0m - Running variance: \u001b[1;36m12.531\u001b[0m\n"
      ]
     },
     "metadata": {},
     "output_type": "display_data"
    },
    {
     "data": {
      "text/html": [
       "<pre style=\"white-space:pre;overflow-x:auto;line-height:normal;font-family:Menlo,'DejaVu Sans Mono',consolas,'Courier New',monospace\">Running mean: <span style=\"color: #008080; text-decoration-color: #008080; font-weight: bold\">14.364</span> - Running variance: <span style=\"color: #008080; text-decoration-color: #008080; font-weight: bold\">12.503</span>\n",
       "</pre>\n"
      ],
      "text/plain": [
       "Running mean: \u001b[1;36m14.364\u001b[0m - Running variance: \u001b[1;36m12.503\u001b[0m\n"
      ]
     },
     "metadata": {},
     "output_type": "display_data"
    },
    {
     "data": {
      "text/html": [
       "<pre style=\"white-space:pre;overflow-x:auto;line-height:normal;font-family:Menlo,'DejaVu Sans Mono',consolas,'Courier New',monospace\">Running mean: <span style=\"color: #008080; text-decoration-color: #008080; font-weight: bold\">14.357</span> - Running variance: <span style=\"color: #008080; text-decoration-color: #008080; font-weight: bold\">12.478</span>\n",
       "</pre>\n"
      ],
      "text/plain": [
       "Running mean: \u001b[1;36m14.357\u001b[0m - Running variance: \u001b[1;36m12.478\u001b[0m\n"
      ]
     },
     "metadata": {},
     "output_type": "display_data"
    },
    {
     "data": {
      "text/html": [
       "<pre style=\"white-space:pre;overflow-x:auto;line-height:normal;font-family:Menlo,'DejaVu Sans Mono',consolas,'Courier New',monospace\">Running mean: <span style=\"color: #008080; text-decoration-color: #008080; font-weight: bold\">14.369</span> - Running variance: <span style=\"color: #008080; text-decoration-color: #008080; font-weight: bold\">12.486</span>\n",
       "</pre>\n"
      ],
      "text/plain": [
       "Running mean: \u001b[1;36m14.369\u001b[0m - Running variance: \u001b[1;36m12.486\u001b[0m\n"
      ]
     },
     "metadata": {},
     "output_type": "display_data"
    },
    {
     "data": {
      "text/html": [
       "<pre style=\"white-space:pre;overflow-x:auto;line-height:normal;font-family:Menlo,'DejaVu Sans Mono',consolas,'Courier New',monospace\">Running mean: <span style=\"color: #008080; text-decoration-color: #008080; font-weight: bold\">14.352</span> - Running variance: <span style=\"color: #008080; text-decoration-color: #008080; font-weight: bold\">12.535</span>\n",
       "</pre>\n"
      ],
      "text/plain": [
       "Running mean: \u001b[1;36m14.352\u001b[0m - Running variance: \u001b[1;36m12.535\u001b[0m\n"
      ]
     },
     "metadata": {},
     "output_type": "display_data"
    },
    {
     "data": {
      "text/html": [
       "<pre style=\"white-space:pre;overflow-x:auto;line-height:normal;font-family:Menlo,'DejaVu Sans Mono',consolas,'Courier New',monospace\">Running mean: <span style=\"color: #008080; text-decoration-color: #008080; font-weight: bold\">14.346</span> - Running variance: <span style=\"color: #008080; text-decoration-color: #008080; font-weight: bold\">12.508</span>\n",
       "</pre>\n"
      ],
      "text/plain": [
       "Running mean: \u001b[1;36m14.346\u001b[0m - Running variance: \u001b[1;36m12.508\u001b[0m\n"
      ]
     },
     "metadata": {},
     "output_type": "display_data"
    },
    {
     "data": {
      "text/html": [
       "<pre style=\"white-space:pre;overflow-x:auto;line-height:normal;font-family:Menlo,'DejaVu Sans Mono',consolas,'Courier New',monospace\">Running mean: <span style=\"color: #008080; text-decoration-color: #008080; font-weight: bold\">14.334</span> - Running variance: <span style=\"color: #008080; text-decoration-color: #008080; font-weight: bold\">12.521</span>\n",
       "</pre>\n"
      ],
      "text/plain": [
       "Running mean: \u001b[1;36m14.334\u001b[0m - Running variance: \u001b[1;36m12.521\u001b[0m\n"
      ]
     },
     "metadata": {},
     "output_type": "display_data"
    },
    {
     "data": {
      "text/html": [
       "<pre style=\"white-space:pre;overflow-x:auto;line-height:normal;font-family:Menlo,'DejaVu Sans Mono',consolas,'Courier New',monospace\">Running mean: <span style=\"color: #008080; text-decoration-color: #008080; font-weight: bold\">14.352</span> - Running variance: <span style=\"color: #008080; text-decoration-color: #008080; font-weight: bold\">12.587</span>\n",
       "</pre>\n"
      ],
      "text/plain": [
       "Running mean: \u001b[1;36m14.352\u001b[0m - Running variance: \u001b[1;36m12.587\u001b[0m\n"
      ]
     },
     "metadata": {},
     "output_type": "display_data"
    },
    {
     "data": {
      "text/html": [
       "<pre style=\"white-space:pre;overflow-x:auto;line-height:normal;font-family:Menlo,'DejaVu Sans Mono',consolas,'Courier New',monospace\">Running mean: <span style=\"color: #008080; text-decoration-color: #008080; font-weight: bold\">14.347</span> - Running variance: <span style=\"color: #008080; text-decoration-color: #008080; font-weight: bold\">12.555</span>\n",
       "</pre>\n"
      ],
      "text/plain": [
       "Running mean: \u001b[1;36m14.347\u001b[0m - Running variance: \u001b[1;36m12.555\u001b[0m\n"
      ]
     },
     "metadata": {},
     "output_type": "display_data"
    },
    {
     "data": {
      "text/html": [
       "<pre style=\"white-space:pre;overflow-x:auto;line-height:normal;font-family:Menlo,'DejaVu Sans Mono',consolas,'Courier New',monospace\">Running mean: <span style=\"color: #008080; text-decoration-color: #008080; font-weight: bold\">14.366</span> - Running variance: <span style=\"color: #008080; text-decoration-color: #008080; font-weight: bold\">12.627</span>\n",
       "</pre>\n"
      ],
      "text/plain": [
       "Running mean: \u001b[1;36m14.366\u001b[0m - Running variance: \u001b[1;36m12.627\u001b[0m\n"
      ]
     },
     "metadata": {},
     "output_type": "display_data"
    },
    {
     "data": {
      "text/html": [
       "<pre style=\"white-space:pre;overflow-x:auto;line-height:normal;font-family:Menlo,'DejaVu Sans Mono',consolas,'Courier New',monospace\">Running mean: <span style=\"color: #008080; text-decoration-color: #008080; font-weight: bold\">14.359</span> - Running variance: <span style=\"color: #008080; text-decoration-color: #008080; font-weight: bold\">12.602</span>\n",
       "</pre>\n"
      ],
      "text/plain": [
       "Running mean: \u001b[1;36m14.359\u001b[0m - Running variance: \u001b[1;36m12.602\u001b[0m\n"
      ]
     },
     "metadata": {},
     "output_type": "display_data"
    },
    {
     "data": {
      "text/html": [
       "<pre style=\"white-space:pre;overflow-x:auto;line-height:normal;font-family:Menlo,'DejaVu Sans Mono',consolas,'Courier New',monospace\">Running mean: <span style=\"color: #008080; text-decoration-color: #008080; font-weight: bold\">14.354</span> - Running variance: <span style=\"color: #008080; text-decoration-color: #008080; font-weight: bold\">12.572</span>\n",
       "</pre>\n"
      ],
      "text/plain": [
       "Running mean: \u001b[1;36m14.354\u001b[0m - Running variance: \u001b[1;36m12.572\u001b[0m\n"
      ]
     },
     "metadata": {},
     "output_type": "display_data"
    },
    {
     "data": {
      "text/html": [
       "<pre style=\"white-space:pre;overflow-x:auto;line-height:normal;font-family:Menlo,'DejaVu Sans Mono',consolas,'Courier New',monospace\">Running mean: <span style=\"color: #008080; text-decoration-color: #008080; font-weight: bold\">14.353</span> - Running variance: <span style=\"color: #008080; text-decoration-color: #008080; font-weight: bold\">12.534</span>\n",
       "</pre>\n"
      ],
      "text/plain": [
       "Running mean: \u001b[1;36m14.353\u001b[0m - Running variance: \u001b[1;36m12.534\u001b[0m\n"
      ]
     },
     "metadata": {},
     "output_type": "display_data"
    },
    {
     "data": {
      "text/html": [
       "<pre style=\"white-space:pre;overflow-x:auto;line-height:normal;font-family:Menlo,'DejaVu Sans Mono',consolas,'Courier New',monospace\">Running mean: <span style=\"color: #008080; text-decoration-color: #008080; font-weight: bold\">14.346</span> - Running variance: <span style=\"color: #008080; text-decoration-color: #008080; font-weight: bold\">12.512</span>\n",
       "</pre>\n"
      ],
      "text/plain": [
       "Running mean: \u001b[1;36m14.346\u001b[0m - Running variance: \u001b[1;36m12.512\u001b[0m\n"
      ]
     },
     "metadata": {},
     "output_type": "display_data"
    },
    {
     "data": {
      "text/html": [
       "<pre style=\"white-space:pre;overflow-x:auto;line-height:normal;font-family:Menlo,'DejaVu Sans Mono',consolas,'Courier New',monospace\">Running mean: <span style=\"color: #008080; text-decoration-color: #008080; font-weight: bold\">14.352</span> - Running variance: <span style=\"color: #008080; text-decoration-color: #008080; font-weight: bold\">12.485</span>\n",
       "</pre>\n"
      ],
      "text/plain": [
       "Running mean: \u001b[1;36m14.352\u001b[0m - Running variance: \u001b[1;36m12.485\u001b[0m\n"
      ]
     },
     "metadata": {},
     "output_type": "display_data"
    },
    {
     "data": {
      "text/html": [
       "<pre style=\"white-space:pre;overflow-x:auto;line-height:normal;font-family:Menlo,'DejaVu Sans Mono',consolas,'Courier New',monospace\">Running mean: <span style=\"color: #008080; text-decoration-color: #008080; font-weight: bold\">14.358</span> - Running variance: <span style=\"color: #008080; text-decoration-color: #008080; font-weight: bold\">12.459</span>\n",
       "</pre>\n"
      ],
      "text/plain": [
       "Running mean: \u001b[1;36m14.358\u001b[0m - Running variance: \u001b[1;36m12.459\u001b[0m\n"
      ]
     },
     "metadata": {},
     "output_type": "display_data"
    },
    {
     "data": {
      "text/html": [
       "<pre style=\"white-space:pre;overflow-x:auto;line-height:normal;font-family:Menlo,'DejaVu Sans Mono',consolas,'Courier New',monospace\">Running mean: <span style=\"color: #008080; text-decoration-color: #008080; font-weight: bold\">14.363</span> - Running variance: <span style=\"color: #008080; text-decoration-color: #008080; font-weight: bold\">12.429</span>\n",
       "</pre>\n"
      ],
      "text/plain": [
       "Running mean: \u001b[1;36m14.363\u001b[0m - Running variance: \u001b[1;36m12.429\u001b[0m\n"
      ]
     },
     "metadata": {},
     "output_type": "display_data"
    },
    {
     "data": {
      "text/html": [
       "<pre style=\"white-space:pre;overflow-x:auto;line-height:normal;font-family:Menlo,'DejaVu Sans Mono',consolas,'Courier New',monospace\">Running mean: <span style=\"color: #008080; text-decoration-color: #008080; font-weight: bold\">14.358</span> - Running variance: <span style=\"color: #008080; text-decoration-color: #008080; font-weight: bold\">12.398</span>\n",
       "</pre>\n"
      ],
      "text/plain": [
       "Running mean: \u001b[1;36m14.358\u001b[0m - Running variance: \u001b[1;36m12.398\u001b[0m\n"
      ]
     },
     "metadata": {},
     "output_type": "display_data"
    },
    {
     "data": {
      "text/html": [
       "<pre style=\"white-space:pre;overflow-x:auto;line-height:normal;font-family:Menlo,'DejaVu Sans Mono',consolas,'Courier New',monospace\">Running mean: <span style=\"color: #008080; text-decoration-color: #008080; font-weight: bold\">14.349</span> - Running variance: <span style=\"color: #008080; text-decoration-color: #008080; font-weight: bold\">12.390</span>\n",
       "</pre>\n"
      ],
      "text/plain": [
       "Running mean: \u001b[1;36m14.349\u001b[0m - Running variance: \u001b[1;36m12.390\u001b[0m\n"
      ]
     },
     "metadata": {},
     "output_type": "display_data"
    },
    {
     "data": {
      "text/html": [
       "<pre style=\"white-space:pre;overflow-x:auto;line-height:normal;font-family:Menlo,'DejaVu Sans Mono',consolas,'Courier New',monospace\">Running mean: <span style=\"color: #008080; text-decoration-color: #008080; font-weight: bold\">14.340</span> - Running variance: <span style=\"color: #008080; text-decoration-color: #008080; font-weight: bold\">12.381</span>\n",
       "</pre>\n"
      ],
      "text/plain": [
       "Running mean: \u001b[1;36m14.340\u001b[0m - Running variance: \u001b[1;36m12.381\u001b[0m\n"
      ]
     },
     "metadata": {},
     "output_type": "display_data"
    },
    {
     "data": {
      "text/html": [
       "<pre style=\"white-space:pre;overflow-x:auto;line-height:normal;font-family:Menlo,'DejaVu Sans Mono',consolas,'Courier New',monospace\">Running mean: <span style=\"color: #008080; text-decoration-color: #008080; font-weight: bold\">14.334</span> - Running variance: <span style=\"color: #008080; text-decoration-color: #008080; font-weight: bold\">12.357</span>\n",
       "</pre>\n"
      ],
      "text/plain": [
       "Running mean: \u001b[1;36m14.334\u001b[0m - Running variance: \u001b[1;36m12.357\u001b[0m\n"
      ]
     },
     "metadata": {},
     "output_type": "display_data"
    },
    {
     "data": {
      "text/html": [
       "<pre style=\"white-space:pre;overflow-x:auto;line-height:normal;font-family:Menlo,'DejaVu Sans Mono',consolas,'Courier New',monospace\">Running mean: <span style=\"color: #008080; text-decoration-color: #008080; font-weight: bold\">14.342</span> - Running variance: <span style=\"color: #008080; text-decoration-color: #008080; font-weight: bold\">12.342</span>\n",
       "</pre>\n"
      ],
      "text/plain": [
       "Running mean: \u001b[1;36m14.342\u001b[0m - Running variance: \u001b[1;36m12.342\u001b[0m\n"
      ]
     },
     "metadata": {},
     "output_type": "display_data"
    },
    {
     "data": {
      "text/html": [
       "<pre style=\"white-space:pre;overflow-x:auto;line-height:normal;font-family:Menlo,'DejaVu Sans Mono',consolas,'Courier New',monospace\">Running mean: <span style=\"color: #008080; text-decoration-color: #008080; font-weight: bold\">14.338</span> - Running variance: <span style=\"color: #008080; text-decoration-color: #008080; font-weight: bold\">12.311</span>\n",
       "</pre>\n"
      ],
      "text/plain": [
       "Running mean: \u001b[1;36m14.338\u001b[0m - Running variance: \u001b[1;36m12.311\u001b[0m\n"
      ]
     },
     "metadata": {},
     "output_type": "display_data"
    },
    {
     "data": {
      "text/html": [
       "<pre style=\"white-space:pre;overflow-x:auto;line-height:normal;font-family:Menlo,'DejaVu Sans Mono',consolas,'Courier New',monospace\">Running mean: <span style=\"color: #008080; text-decoration-color: #008080; font-weight: bold\">14.351</span> - Running variance: <span style=\"color: #008080; text-decoration-color: #008080; font-weight: bold\">12.332</span>\n",
       "</pre>\n"
      ],
      "text/plain": [
       "Running mean: \u001b[1;36m14.351\u001b[0m - Running variance: \u001b[1;36m12.332\u001b[0m\n"
      ]
     },
     "metadata": {},
     "output_type": "display_data"
    },
    {
     "data": {
      "text/html": [
       "<pre style=\"white-space:pre;overflow-x:auto;line-height:normal;font-family:Menlo,'DejaVu Sans Mono',consolas,'Courier New',monospace\">Running mean: <span style=\"color: #008080; text-decoration-color: #008080; font-weight: bold\">14.338</span> - Running variance: <span style=\"color: #008080; text-decoration-color: #008080; font-weight: bold\">12.351</span>\n",
       "</pre>\n"
      ],
      "text/plain": [
       "Running mean: \u001b[1;36m14.338\u001b[0m - Running variance: \u001b[1;36m12.351\u001b[0m\n"
      ]
     },
     "metadata": {},
     "output_type": "display_data"
    },
    {
     "data": {
      "text/html": [
       "<pre style=\"white-space:pre;overflow-x:auto;line-height:normal;font-family:Menlo,'DejaVu Sans Mono',consolas,'Courier New',monospace\">Running mean: <span style=\"color: #008080; text-decoration-color: #008080; font-weight: bold\">14.365</span> - Running variance: <span style=\"color: #008080; text-decoration-color: #008080; font-weight: bold\">12.561</span>\n",
       "</pre>\n"
      ],
      "text/plain": [
       "Running mean: \u001b[1;36m14.365\u001b[0m - Running variance: \u001b[1;36m12.561\u001b[0m\n"
      ]
     },
     "metadata": {},
     "output_type": "display_data"
    },
    {
     "data": {
      "text/html": [
       "<pre style=\"white-space:pre;overflow-x:auto;line-height:normal;font-family:Menlo,'DejaVu Sans Mono',consolas,'Courier New',monospace\">Running mean: <span style=\"color: #008080; text-decoration-color: #008080; font-weight: bold\">14.365</span> - Running variance: <span style=\"color: #008080; text-decoration-color: #008080; font-weight: bold\">12.524</span>\n",
       "</pre>\n"
      ],
      "text/plain": [
       "Running mean: \u001b[1;36m14.365\u001b[0m - Running variance: \u001b[1;36m12.524\u001b[0m\n"
      ]
     },
     "metadata": {},
     "output_type": "display_data"
    },
    {
     "data": {
      "text/html": [
       "<pre style=\"white-space:pre;overflow-x:auto;line-height:normal;font-family:Menlo,'DejaVu Sans Mono',consolas,'Courier New',monospace\">Running mean: <span style=\"color: #008080; text-decoration-color: #008080; font-weight: bold\">14.351</span> - Running variance: <span style=\"color: #008080; text-decoration-color: #008080; font-weight: bold\">12.553</span>\n",
       "</pre>\n"
      ],
      "text/plain": [
       "Running mean: \u001b[1;36m14.351\u001b[0m - Running variance: \u001b[1;36m12.553\u001b[0m\n"
      ]
     },
     "metadata": {},
     "output_type": "display_data"
    },
    {
     "data": {
      "text/html": [
       "<pre style=\"white-space:pre;overflow-x:auto;line-height:normal;font-family:Menlo,'DejaVu Sans Mono',consolas,'Courier New',monospace\">Running mean: <span style=\"color: #008080; text-decoration-color: #008080; font-weight: bold\">14.342</span> - Running variance: <span style=\"color: #008080; text-decoration-color: #008080; font-weight: bold\">12.548</span>\n",
       "</pre>\n"
      ],
      "text/plain": [
       "Running mean: \u001b[1;36m14.342\u001b[0m - Running variance: \u001b[1;36m12.548\u001b[0m\n"
      ]
     },
     "metadata": {},
     "output_type": "display_data"
    },
    {
     "data": {
      "text/html": [
       "<pre style=\"white-space:pre;overflow-x:auto;line-height:normal;font-family:Menlo,'DejaVu Sans Mono',consolas,'Courier New',monospace\">Running mean: <span style=\"color: #008080; text-decoration-color: #008080; font-weight: bold\">14.357</span> - Running variance: <span style=\"color: #008080; text-decoration-color: #008080; font-weight: bold\">12.594</span>\n",
       "</pre>\n"
      ],
      "text/plain": [
       "Running mean: \u001b[1;36m14.357\u001b[0m - Running variance: \u001b[1;36m12.594\u001b[0m\n"
      ]
     },
     "metadata": {},
     "output_type": "display_data"
    },
    {
     "data": {
      "text/html": [
       "<pre style=\"white-space:pre;overflow-x:auto;line-height:normal;font-family:Menlo,'DejaVu Sans Mono',consolas,'Courier New',monospace\">Running mean: <span style=\"color: #008080; text-decoration-color: #008080; font-weight: bold\">14.350</span> - Running variance: <span style=\"color: #008080; text-decoration-color: #008080; font-weight: bold\">12.578</span>\n",
       "</pre>\n"
      ],
      "text/plain": [
       "Running mean: \u001b[1;36m14.350\u001b[0m - Running variance: \u001b[1;36m12.578\u001b[0m\n"
      ]
     },
     "metadata": {},
     "output_type": "display_data"
    },
    {
     "data": {
      "text/html": [
       "<pre style=\"white-space:pre;overflow-x:auto;line-height:normal;font-family:Menlo,'DejaVu Sans Mono',consolas,'Courier New',monospace\">Running mean: <span style=\"color: #008080; text-decoration-color: #008080; font-weight: bold\">14.338</span> - Running variance: <span style=\"color: #008080; text-decoration-color: #008080; font-weight: bold\">12.590</span>\n",
       "</pre>\n"
      ],
      "text/plain": [
       "Running mean: \u001b[1;36m14.338\u001b[0m - Running variance: \u001b[1;36m12.590\u001b[0m\n"
      ]
     },
     "metadata": {},
     "output_type": "display_data"
    },
    {
     "data": {
      "text/html": [
       "<pre style=\"white-space:pre;overflow-x:auto;line-height:normal;font-family:Menlo,'DejaVu Sans Mono',consolas,'Courier New',monospace\">Running mean: <span style=\"color: #008080; text-decoration-color: #008080; font-weight: bold\">14.331</span> - Running variance: <span style=\"color: #008080; text-decoration-color: #008080; font-weight: bold\">12.569</span>\n",
       "</pre>\n"
      ],
      "text/plain": [
       "Running mean: \u001b[1;36m14.331\u001b[0m - Running variance: \u001b[1;36m12.569\u001b[0m\n"
      ]
     },
     "metadata": {},
     "output_type": "display_data"
    },
    {
     "data": {
      "text/html": [
       "<pre style=\"white-space:pre;overflow-x:auto;line-height:normal;font-family:Menlo,'DejaVu Sans Mono',consolas,'Courier New',monospace\">Running mean: <span style=\"color: #008080; text-decoration-color: #008080; font-weight: bold\">14.332</span> - Running variance: <span style=\"color: #008080; text-decoration-color: #008080; font-weight: bold\">12.533</span>\n",
       "</pre>\n"
      ],
      "text/plain": [
       "Running mean: \u001b[1;36m14.332\u001b[0m - Running variance: \u001b[1;36m12.533\u001b[0m\n"
      ]
     },
     "metadata": {},
     "output_type": "display_data"
    },
    {
     "data": {
      "text/html": [
       "<pre style=\"white-space:pre;overflow-x:auto;line-height:normal;font-family:Menlo,'DejaVu Sans Mono',consolas,'Courier New',monospace\">Running mean: <span style=\"color: #008080; text-decoration-color: #008080; font-weight: bold\">14.324</span> - Running variance: <span style=\"color: #008080; text-decoration-color: #008080; font-weight: bold\">12.521</span>\n",
       "</pre>\n"
      ],
      "text/plain": [
       "Running mean: \u001b[1;36m14.324\u001b[0m - Running variance: \u001b[1;36m12.521\u001b[0m\n"
      ]
     },
     "metadata": {},
     "output_type": "display_data"
    },
    {
     "data": {
      "text/html": [
       "<pre style=\"white-space:pre;overflow-x:auto;line-height:normal;font-family:Menlo,'DejaVu Sans Mono',consolas,'Courier New',monospace\">Running mean: <span style=\"color: #008080; text-decoration-color: #008080; font-weight: bold\">14.317</span> - Running variance: <span style=\"color: #008080; text-decoration-color: #008080; font-weight: bold\">12.501</span>\n",
       "</pre>\n"
      ],
      "text/plain": [
       "Running mean: \u001b[1;36m14.317\u001b[0m - Running variance: \u001b[1;36m12.501\u001b[0m\n"
      ]
     },
     "metadata": {},
     "output_type": "display_data"
    },
    {
     "data": {
      "text/html": [
       "<pre style=\"white-space:pre;overflow-x:auto;line-height:normal;font-family:Menlo,'DejaVu Sans Mono',consolas,'Courier New',monospace\">Running mean: <span style=\"color: #008080; text-decoration-color: #008080; font-weight: bold\">14.310</span> - Running variance: <span style=\"color: #008080; text-decoration-color: #008080; font-weight: bold\">12.485</span>\n",
       "</pre>\n"
      ],
      "text/plain": [
       "Running mean: \u001b[1;36m14.310\u001b[0m - Running variance: \u001b[1;36m12.485\u001b[0m\n"
      ]
     },
     "metadata": {},
     "output_type": "display_data"
    },
    {
     "data": {
      "text/html": [
       "<pre style=\"white-space:pre;overflow-x:auto;line-height:normal;font-family:Menlo,'DejaVu Sans Mono',consolas,'Courier New',monospace\">Running mean: <span style=\"color: #008080; text-decoration-color: #008080; font-weight: bold\">14.314</span> - Running variance: <span style=\"color: #008080; text-decoration-color: #008080; font-weight: bold\">12.456</span>\n",
       "</pre>\n"
      ],
      "text/plain": [
       "Running mean: \u001b[1;36m14.314\u001b[0m - Running variance: \u001b[1;36m12.456\u001b[0m\n"
      ]
     },
     "metadata": {},
     "output_type": "display_data"
    },
    {
     "data": {
      "text/html": [
       "<pre style=\"white-space:pre;overflow-x:auto;line-height:normal;font-family:Menlo,'DejaVu Sans Mono',consolas,'Courier New',monospace\">Running mean: <span style=\"color: #008080; text-decoration-color: #008080; font-weight: bold\">14.346</span> - Running variance: <span style=\"color: #008080; text-decoration-color: #008080; font-weight: bold\">12.789</span>\n",
       "</pre>\n"
      ],
      "text/plain": [
       "Running mean: \u001b[1;36m14.346\u001b[0m - Running variance: \u001b[1;36m12.789\u001b[0m\n"
      ]
     },
     "metadata": {},
     "output_type": "display_data"
    },
    {
     "data": {
      "text/html": [
       "<pre style=\"white-space:pre;overflow-x:auto;line-height:normal;font-family:Menlo,'DejaVu Sans Mono',consolas,'Courier New',monospace\">Running mean: <span style=\"color: #008080; text-decoration-color: #008080; font-weight: bold\">14.348</span> - Running variance: <span style=\"color: #008080; text-decoration-color: #008080; font-weight: bold\">12.754</span>\n",
       "</pre>\n"
      ],
      "text/plain": [
       "Running mean: \u001b[1;36m14.348\u001b[0m - Running variance: \u001b[1;36m12.754\u001b[0m\n"
      ]
     },
     "metadata": {},
     "output_type": "display_data"
    },
    {
     "data": {
      "text/html": [
       "<pre style=\"white-space:pre;overflow-x:auto;line-height:normal;font-family:Menlo,'DejaVu Sans Mono',consolas,'Courier New',monospace\">Running mean: <span style=\"color: #008080; text-decoration-color: #008080; font-weight: bold\">14.339</span> - Running variance: <span style=\"color: #008080; text-decoration-color: #008080; font-weight: bold\">12.747</span>\n",
       "</pre>\n"
      ],
      "text/plain": [
       "Running mean: \u001b[1;36m14.339\u001b[0m - Running variance: \u001b[1;36m12.747\u001b[0m\n"
      ]
     },
     "metadata": {},
     "output_type": "display_data"
    },
    {
     "data": {
      "text/html": [
       "<pre style=\"white-space:pre;overflow-x:auto;line-height:normal;font-family:Menlo,'DejaVu Sans Mono',consolas,'Courier New',monospace\">Running mean: <span style=\"color: #008080; text-decoration-color: #008080; font-weight: bold\">14.334</span> - Running variance: <span style=\"color: #008080; text-decoration-color: #008080; font-weight: bold\">12.720</span>\n",
       "</pre>\n"
      ],
      "text/plain": [
       "Running mean: \u001b[1;36m14.334\u001b[0m - Running variance: \u001b[1;36m12.720\u001b[0m\n"
      ]
     },
     "metadata": {},
     "output_type": "display_data"
    },
    {
     "data": {
      "text/html": [
       "<pre style=\"white-space:pre;overflow-x:auto;line-height:normal;font-family:Menlo,'DejaVu Sans Mono',consolas,'Courier New',monospace\">Running mean: <span style=\"color: #008080; text-decoration-color: #008080; font-weight: bold\">14.331</span> - Running variance: <span style=\"color: #008080; text-decoration-color: #008080; font-weight: bold\">12.689</span>\n",
       "</pre>\n"
      ],
      "text/plain": [
       "Running mean: \u001b[1;36m14.331\u001b[0m - Running variance: \u001b[1;36m12.689\u001b[0m\n"
      ]
     },
     "metadata": {},
     "output_type": "display_data"
    },
    {
     "data": {
      "text/html": [
       "<pre style=\"white-space:pre;overflow-x:auto;line-height:normal;font-family:Menlo,'DejaVu Sans Mono',consolas,'Courier New',monospace\">Running mean: <span style=\"color: #008080; text-decoration-color: #008080; font-weight: bold\">14.329</span> - Running variance: <span style=\"color: #008080; text-decoration-color: #008080; font-weight: bold\">12.654</span>\n",
       "</pre>\n"
      ],
      "text/plain": [
       "Running mean: \u001b[1;36m14.329\u001b[0m - Running variance: \u001b[1;36m12.654\u001b[0m\n"
      ]
     },
     "metadata": {},
     "output_type": "display_data"
    },
    {
     "data": {
      "text/html": [
       "<pre style=\"white-space:pre;overflow-x:auto;line-height:normal;font-family:Menlo,'DejaVu Sans Mono',consolas,'Courier New',monospace\">Running mean: <span style=\"color: #008080; text-decoration-color: #008080; font-weight: bold\">14.314</span> - Running variance: <span style=\"color: #008080; text-decoration-color: #008080; font-weight: bold\">12.701</span>\n",
       "</pre>\n"
      ],
      "text/plain": [
       "Running mean: \u001b[1;36m14.314\u001b[0m - Running variance: \u001b[1;36m12.701\u001b[0m\n"
      ]
     },
     "metadata": {},
     "output_type": "display_data"
    },
    {
     "data": {
      "text/html": [
       "<pre style=\"white-space:pre;overflow-x:auto;line-height:normal;font-family:Menlo,'DejaVu Sans Mono',consolas,'Courier New',monospace\">Running mean: <span style=\"color: #008080; text-decoration-color: #008080; font-weight: bold\">14.301</span> - Running variance: <span style=\"color: #008080; text-decoration-color: #008080; font-weight: bold\">12.732</span>\n",
       "</pre>\n"
      ],
      "text/plain": [
       "Running mean: \u001b[1;36m14.301\u001b[0m - Running variance: \u001b[1;36m12.732\u001b[0m\n"
      ]
     },
     "metadata": {},
     "output_type": "display_data"
    },
    {
     "data": {
      "text/html": [
       "<pre style=\"white-space:pre;overflow-x:auto;line-height:normal;font-family:Menlo,'DejaVu Sans Mono',consolas,'Courier New',monospace\">Running mean: <span style=\"color: #008080; text-decoration-color: #008080; font-weight: bold\">14.296</span> - Running variance: <span style=\"color: #008080; text-decoration-color: #008080; font-weight: bold\">12.705</span>\n",
       "</pre>\n"
      ],
      "text/plain": [
       "Running mean: \u001b[1;36m14.296\u001b[0m - Running variance: \u001b[1;36m12.705\u001b[0m\n"
      ]
     },
     "metadata": {},
     "output_type": "display_data"
    },
    {
     "data": {
      "text/html": [
       "<pre style=\"white-space:pre;overflow-x:auto;line-height:normal;font-family:Menlo,'DejaVu Sans Mono',consolas,'Courier New',monospace\">Running mean: <span style=\"color: #008080; text-decoration-color: #008080; font-weight: bold\">14.293</span> - Running variance: <span style=\"color: #008080; text-decoration-color: #008080; font-weight: bold\">12.673</span>\n",
       "</pre>\n"
      ],
      "text/plain": [
       "Running mean: \u001b[1;36m14.293\u001b[0m - Running variance: \u001b[1;36m12.673\u001b[0m\n"
      ]
     },
     "metadata": {},
     "output_type": "display_data"
    },
    {
     "data": {
      "text/html": [
       "<pre style=\"white-space:pre;overflow-x:auto;line-height:normal;font-family:Menlo,'DejaVu Sans Mono',consolas,'Courier New',monospace\">Running mean: <span style=\"color: #008080; text-decoration-color: #008080; font-weight: bold\">14.289</span> - Running variance: <span style=\"color: #008080; text-decoration-color: #008080; font-weight: bold\">12.645</span>\n",
       "</pre>\n"
      ],
      "text/plain": [
       "Running mean: \u001b[1;36m14.289\u001b[0m - Running variance: \u001b[1;36m12.645\u001b[0m\n"
      ]
     },
     "metadata": {},
     "output_type": "display_data"
    },
    {
     "data": {
      "text/html": [
       "<pre style=\"white-space:pre;overflow-x:auto;line-height:normal;font-family:Menlo,'DejaVu Sans Mono',consolas,'Courier New',monospace\">Running mean: <span style=\"color: #008080; text-decoration-color: #008080; font-weight: bold\">14.295</span> - Running variance: <span style=\"color: #008080; text-decoration-color: #008080; font-weight: bold\">12.623</span>\n",
       "</pre>\n"
      ],
      "text/plain": [
       "Running mean: \u001b[1;36m14.295\u001b[0m - Running variance: \u001b[1;36m12.623\u001b[0m\n"
      ]
     },
     "metadata": {},
     "output_type": "display_data"
    },
    {
     "data": {
      "text/html": [
       "<pre style=\"white-space:pre;overflow-x:auto;line-height:normal;font-family:Menlo,'DejaVu Sans Mono',consolas,'Courier New',monospace\">Running mean: <span style=\"color: #008080; text-decoration-color: #008080; font-weight: bold\">14.293</span> - Running variance: <span style=\"color: #008080; text-decoration-color: #008080; font-weight: bold\">12.591</span>\n",
       "</pre>\n"
      ],
      "text/plain": [
       "Running mean: \u001b[1;36m14.293\u001b[0m - Running variance: \u001b[1;36m12.591\u001b[0m\n"
      ]
     },
     "metadata": {},
     "output_type": "display_data"
    },
    {
     "data": {
      "text/html": [
       "<pre style=\"white-space:pre;overflow-x:auto;line-height:normal;font-family:Menlo,'DejaVu Sans Mono',consolas,'Courier New',monospace\">Running mean: <span style=\"color: #008080; text-decoration-color: #008080; font-weight: bold\">14.309</span> - Running variance: <span style=\"color: #008080; text-decoration-color: #008080; font-weight: bold\">12.659</span>\n",
       "</pre>\n"
      ],
      "text/plain": [
       "Running mean: \u001b[1;36m14.309\u001b[0m - Running variance: \u001b[1;36m12.659\u001b[0m\n"
      ]
     },
     "metadata": {},
     "output_type": "display_data"
    },
    {
     "data": {
      "text/html": [
       "<pre style=\"white-space:pre;overflow-x:auto;line-height:normal;font-family:Menlo,'DejaVu Sans Mono',consolas,'Courier New',monospace\">Running mean: <span style=\"color: #008080; text-decoration-color: #008080; font-weight: bold\">14.325</span> - Running variance: <span style=\"color: #008080; text-decoration-color: #008080; font-weight: bold\">12.719</span>\n",
       "</pre>\n"
      ],
      "text/plain": [
       "Running mean: \u001b[1;36m14.325\u001b[0m - Running variance: \u001b[1;36m12.719\u001b[0m\n"
      ]
     },
     "metadata": {},
     "output_type": "display_data"
    },
    {
     "data": {
      "text/html": [
       "<pre style=\"white-space:pre;overflow-x:auto;line-height:normal;font-family:Menlo,'DejaVu Sans Mono',consolas,'Courier New',monospace\">Running mean: <span style=\"color: #008080; text-decoration-color: #008080; font-weight: bold\">14.320</span> - Running variance: <span style=\"color: #008080; text-decoration-color: #008080; font-weight: bold\">12.697</span>\n",
       "</pre>\n"
      ],
      "text/plain": [
       "Running mean: \u001b[1;36m14.320\u001b[0m - Running variance: \u001b[1;36m12.697\u001b[0m\n"
      ]
     },
     "metadata": {},
     "output_type": "display_data"
    },
    {
     "data": {
      "text/html": [
       "<pre style=\"white-space:pre;overflow-x:auto;line-height:normal;font-family:Menlo,'DejaVu Sans Mono',consolas,'Courier New',monospace\">Running mean: <span style=\"color: #008080; text-decoration-color: #008080; font-weight: bold\">14.340</span> - Running variance: <span style=\"color: #008080; text-decoration-color: #008080; font-weight: bold\">12.810</span>\n",
       "</pre>\n"
      ],
      "text/plain": [
       "Running mean: \u001b[1;36m14.340\u001b[0m - Running variance: \u001b[1;36m12.810\u001b[0m\n"
      ]
     },
     "metadata": {},
     "output_type": "display_data"
    },
    {
     "data": {
      "text/html": [
       "<pre style=\"white-space:pre;overflow-x:auto;line-height:normal;font-family:Menlo,'DejaVu Sans Mono',consolas,'Courier New',monospace\">Running mean: <span style=\"color: #008080; text-decoration-color: #008080; font-weight: bold\">14.360</span> - Running variance: <span style=\"color: #008080; text-decoration-color: #008080; font-weight: bold\">12.934</span>\n",
       "</pre>\n"
      ],
      "text/plain": [
       "Running mean: \u001b[1;36m14.360\u001b[0m - Running variance: \u001b[1;36m12.934\u001b[0m\n"
      ]
     },
     "metadata": {},
     "output_type": "display_data"
    },
    {
     "data": {
      "text/html": [
       "<pre style=\"white-space:pre;overflow-x:auto;line-height:normal;font-family:Menlo,'DejaVu Sans Mono',consolas,'Courier New',monospace\">Running mean: <span style=\"color: #008080; text-decoration-color: #008080; font-weight: bold\">14.366</span> - Running variance: <span style=\"color: #008080; text-decoration-color: #008080; font-weight: bold\">12.910</span>\n",
       "</pre>\n"
      ],
      "text/plain": [
       "Running mean: \u001b[1;36m14.366\u001b[0m - Running variance: \u001b[1;36m12.910\u001b[0m\n"
      ]
     },
     "metadata": {},
     "output_type": "display_data"
    },
    {
     "data": {
      "text/html": [
       "<pre style=\"white-space:pre;overflow-x:auto;line-height:normal;font-family:Menlo,'DejaVu Sans Mono',consolas,'Courier New',monospace\">Running mean: <span style=\"color: #008080; text-decoration-color: #008080; font-weight: bold\">14.368</span> - Running variance: <span style=\"color: #008080; text-decoration-color: #008080; font-weight: bold\">12.877</span>\n",
       "</pre>\n"
      ],
      "text/plain": [
       "Running mean: \u001b[1;36m14.368\u001b[0m - Running variance: \u001b[1;36m12.877\u001b[0m\n"
      ]
     },
     "metadata": {},
     "output_type": "display_data"
    },
    {
     "data": {
      "text/html": [
       "<pre style=\"white-space:pre;overflow-x:auto;line-height:normal;font-family:Menlo,'DejaVu Sans Mono',consolas,'Courier New',monospace\">Running mean: <span style=\"color: #008080; text-decoration-color: #008080; font-weight: bold\">14.387</span> - Running variance: <span style=\"color: #008080; text-decoration-color: #008080; font-weight: bold\">12.973</span>\n",
       "</pre>\n"
      ],
      "text/plain": [
       "Running mean: \u001b[1;36m14.387\u001b[0m - Running variance: \u001b[1;36m12.973\u001b[0m\n"
      ]
     },
     "metadata": {},
     "output_type": "display_data"
    },
    {
     "data": {
      "text/html": [
       "<pre style=\"white-space:pre;overflow-x:auto;line-height:normal;font-family:Menlo,'DejaVu Sans Mono',consolas,'Courier New',monospace\">Running mean: <span style=\"color: #008080; text-decoration-color: #008080; font-weight: bold\">14.403</span> - Running variance: <span style=\"color: #008080; text-decoration-color: #008080; font-weight: bold\">13.043</span>\n",
       "</pre>\n"
      ],
      "text/plain": [
       "Running mean: \u001b[1;36m14.403\u001b[0m - Running variance: \u001b[1;36m13.043\u001b[0m\n"
      ]
     },
     "metadata": {},
     "output_type": "display_data"
    },
    {
     "data": {
      "text/html": [
       "<pre style=\"white-space:pre;overflow-x:auto;line-height:normal;font-family:Menlo,'DejaVu Sans Mono',consolas,'Courier New',monospace\">Running mean: <span style=\"color: #008080; text-decoration-color: #008080; font-weight: bold\">14.402</span> - Running variance: <span style=\"color: #008080; text-decoration-color: #008080; font-weight: bold\">13.010</span>\n",
       "</pre>\n"
      ],
      "text/plain": [
       "Running mean: \u001b[1;36m14.402\u001b[0m - Running variance: \u001b[1;36m13.010\u001b[0m\n"
      ]
     },
     "metadata": {},
     "output_type": "display_data"
    },
    {
     "data": {
      "text/html": [
       "<pre style=\"white-space:pre;overflow-x:auto;line-height:normal;font-family:Menlo,'DejaVu Sans Mono',consolas,'Courier New',monospace\">Running mean: <span style=\"color: #008080; text-decoration-color: #008080; font-weight: bold\">14.406</span> - Running variance: <span style=\"color: #008080; text-decoration-color: #008080; font-weight: bold\">12.983</span>\n",
       "</pre>\n"
      ],
      "text/plain": [
       "Running mean: \u001b[1;36m14.406\u001b[0m - Running variance: \u001b[1;36m12.983\u001b[0m\n"
      ]
     },
     "metadata": {},
     "output_type": "display_data"
    },
    {
     "data": {
      "text/html": [
       "<pre style=\"white-space:pre;overflow-x:auto;line-height:normal;font-family:Menlo,'DejaVu Sans Mono',consolas,'Courier New',monospace\">Running mean: <span style=\"color: #008080; text-decoration-color: #008080; font-weight: bold\">14.396</span> - Running variance: <span style=\"color: #008080; text-decoration-color: #008080; font-weight: bold\">12.988</span>\n",
       "</pre>\n"
      ],
      "text/plain": [
       "Running mean: \u001b[1;36m14.396\u001b[0m - Running variance: \u001b[1;36m12.988\u001b[0m\n"
      ]
     },
     "metadata": {},
     "output_type": "display_data"
    },
    {
     "data": {
      "text/html": [
       "<pre style=\"white-space:pre;overflow-x:auto;line-height:normal;font-family:Menlo,'DejaVu Sans Mono',consolas,'Courier New',monospace\">Running mean: <span style=\"color: #008080; text-decoration-color: #008080; font-weight: bold\">14.394</span> - Running variance: <span style=\"color: #008080; text-decoration-color: #008080; font-weight: bold\">12.956</span>\n",
       "</pre>\n"
      ],
      "text/plain": [
       "Running mean: \u001b[1;36m14.394\u001b[0m - Running variance: \u001b[1;36m12.956\u001b[0m\n"
      ]
     },
     "metadata": {},
     "output_type": "display_data"
    },
    {
     "data": {
      "text/html": [
       "<pre style=\"white-space:pre;overflow-x:auto;line-height:normal;font-family:Menlo,'DejaVu Sans Mono',consolas,'Courier New',monospace\">Running mean: <span style=\"color: #008080; text-decoration-color: #008080; font-weight: bold\">14.392</span> - Running variance: <span style=\"color: #008080; text-decoration-color: #008080; font-weight: bold\">12.923</span>\n",
       "</pre>\n"
      ],
      "text/plain": [
       "Running mean: \u001b[1;36m14.392\u001b[0m - Running variance: \u001b[1;36m12.923\u001b[0m\n"
      ]
     },
     "metadata": {},
     "output_type": "display_data"
    },
    {
     "data": {
      "text/html": [
       "<pre style=\"white-space:pre;overflow-x:auto;line-height:normal;font-family:Menlo,'DejaVu Sans Mono',consolas,'Courier New',monospace\">Running mean: <span style=\"color: #008080; text-decoration-color: #008080; font-weight: bold\">14.383</span> - Running variance: <span style=\"color: #008080; text-decoration-color: #008080; font-weight: bold\">12.918</span>\n",
       "</pre>\n"
      ],
      "text/plain": [
       "Running mean: \u001b[1;36m14.383\u001b[0m - Running variance: \u001b[1;36m12.918\u001b[0m\n"
      ]
     },
     "metadata": {},
     "output_type": "display_data"
    },
    {
     "data": {
      "text/html": [
       "<pre style=\"white-space:pre;overflow-x:auto;line-height:normal;font-family:Menlo,'DejaVu Sans Mono',consolas,'Courier New',monospace\">Running mean: <span style=\"color: #008080; text-decoration-color: #008080; font-weight: bold\">14.375</span> - Running variance: <span style=\"color: #008080; text-decoration-color: #008080; font-weight: bold\">12.909</span>\n",
       "</pre>\n"
      ],
      "text/plain": [
       "Running mean: \u001b[1;36m14.375\u001b[0m - Running variance: \u001b[1;36m12.909\u001b[0m\n"
      ]
     },
     "metadata": {},
     "output_type": "display_data"
    },
    {
     "data": {
      "text/html": [
       "<pre style=\"white-space:pre;overflow-x:auto;line-height:normal;font-family:Menlo,'DejaVu Sans Mono',consolas,'Courier New',monospace\">Running mean: <span style=\"color: #008080; text-decoration-color: #008080; font-weight: bold\">14.366</span> - Running variance: <span style=\"color: #008080; text-decoration-color: #008080; font-weight: bold\">12.904</span>\n",
       "</pre>\n"
      ],
      "text/plain": [
       "Running mean: \u001b[1;36m14.366\u001b[0m - Running variance: \u001b[1;36m12.904\u001b[0m\n"
      ]
     },
     "metadata": {},
     "output_type": "display_data"
    },
    {
     "data": {
      "text/html": [
       "<pre style=\"white-space:pre;overflow-x:auto;line-height:normal;font-family:Menlo,'DejaVu Sans Mono',consolas,'Courier New',monospace\">Running mean: <span style=\"color: #008080; text-decoration-color: #008080; font-weight: bold\">14.360</span> - Running variance: <span style=\"color: #008080; text-decoration-color: #008080; font-weight: bold\">12.885</span>\n",
       "</pre>\n"
      ],
      "text/plain": [
       "Running mean: \u001b[1;36m14.360\u001b[0m - Running variance: \u001b[1;36m12.885\u001b[0m\n"
      ]
     },
     "metadata": {},
     "output_type": "display_data"
    },
    {
     "data": {
      "text/html": [
       "<pre style=\"white-space:pre;overflow-x:auto;line-height:normal;font-family:Menlo,'DejaVu Sans Mono',consolas,'Courier New',monospace\">Running mean: <span style=\"color: #008080; text-decoration-color: #008080; font-weight: bold\">14.355</span> - Running variance: <span style=\"color: #008080; text-decoration-color: #008080; font-weight: bold\">12.861</span>\n",
       "</pre>\n"
      ],
      "text/plain": [
       "Running mean: \u001b[1;36m14.355\u001b[0m - Running variance: \u001b[1;36m12.861\u001b[0m\n"
      ]
     },
     "metadata": {},
     "output_type": "display_data"
    },
    {
     "data": {
      "text/html": [
       "<pre style=\"white-space:pre;overflow-x:auto;line-height:normal;font-family:Menlo,'DejaVu Sans Mono',consolas,'Courier New',monospace\">Running mean: <span style=\"color: #008080; text-decoration-color: #008080; font-weight: bold\">14.352</span> - Running variance: <span style=\"color: #008080; text-decoration-color: #008080; font-weight: bold\">12.831</span>\n",
       "</pre>\n"
      ],
      "text/plain": [
       "Running mean: \u001b[1;36m14.352\u001b[0m - Running variance: \u001b[1;36m12.831\u001b[0m\n"
      ]
     },
     "metadata": {},
     "output_type": "display_data"
    },
    {
     "data": {
      "text/html": [
       "<pre style=\"white-space:pre;overflow-x:auto;line-height:normal;font-family:Menlo,'DejaVu Sans Mono',consolas,'Courier New',monospace\">Running mean: <span style=\"color: #008080; text-decoration-color: #008080; font-weight: bold\">14.353</span> - Running variance: <span style=\"color: #008080; text-decoration-color: #008080; font-weight: bold\">12.798</span>\n",
       "</pre>\n"
      ],
      "text/plain": [
       "Running mean: \u001b[1;36m14.353\u001b[0m - Running variance: \u001b[1;36m12.798\u001b[0m\n"
      ]
     },
     "metadata": {},
     "output_type": "display_data"
    },
    {
     "data": {
      "text/html": [
       "<pre style=\"white-space:pre;overflow-x:auto;line-height:normal;font-family:Menlo,'DejaVu Sans Mono',consolas,'Courier New',monospace\">Running mean: <span style=\"color: #008080; text-decoration-color: #008080; font-weight: bold\">14.347</span> - Running variance: <span style=\"color: #008080; text-decoration-color: #008080; font-weight: bold\">12.777</span>\n",
       "</pre>\n"
      ],
      "text/plain": [
       "Running mean: \u001b[1;36m14.347\u001b[0m - Running variance: \u001b[1;36m12.777\u001b[0m\n"
      ]
     },
     "metadata": {},
     "output_type": "display_data"
    },
    {
     "data": {
      "text/html": [
       "<pre style=\"white-space:pre;overflow-x:auto;line-height:normal;font-family:Menlo,'DejaVu Sans Mono',consolas,'Courier New',monospace\">Running mean: <span style=\"color: #008080; text-decoration-color: #008080; font-weight: bold\">14.346</span> - Running variance: <span style=\"color: #008080; text-decoration-color: #008080; font-weight: bold\">12.744</span>\n",
       "</pre>\n"
      ],
      "text/plain": [
       "Running mean: \u001b[1;36m14.346\u001b[0m - Running variance: \u001b[1;36m12.744\u001b[0m\n"
      ]
     },
     "metadata": {},
     "output_type": "display_data"
    },
    {
     "data": {
      "text/html": [
       "<pre style=\"white-space:pre;overflow-x:auto;line-height:normal;font-family:Menlo,'DejaVu Sans Mono',consolas,'Courier New',monospace\">Running mean: <span style=\"color: #008080; text-decoration-color: #008080; font-weight: bold\">14.338</span> - Running variance: <span style=\"color: #008080; text-decoration-color: #008080; font-weight: bold\">12.736</span>\n",
       "</pre>\n"
      ],
      "text/plain": [
       "Running mean: \u001b[1;36m14.338\u001b[0m - Running variance: \u001b[1;36m12.736\u001b[0m\n"
      ]
     },
     "metadata": {},
     "output_type": "display_data"
    },
    {
     "data": {
      "text/html": [
       "<pre style=\"white-space:pre;overflow-x:auto;line-height:normal;font-family:Menlo,'DejaVu Sans Mono',consolas,'Courier New',monospace\">Running mean: <span style=\"color: #008080; text-decoration-color: #008080; font-weight: bold\">14.351</span> - Running variance: <span style=\"color: #008080; text-decoration-color: #008080; font-weight: bold\">12.772</span>\n",
       "</pre>\n"
      ],
      "text/plain": [
       "Running mean: \u001b[1;36m14.351\u001b[0m - Running variance: \u001b[1;36m12.772\u001b[0m\n"
      ]
     },
     "metadata": {},
     "output_type": "display_data"
    },
    {
     "data": {
      "text/html": [
       "<pre style=\"white-space:pre;overflow-x:auto;line-height:normal;font-family:Menlo,'DejaVu Sans Mono',consolas,'Courier New',monospace\">Running mean: <span style=\"color: #008080; text-decoration-color: #008080; font-weight: bold\">14.341</span> - Running variance: <span style=\"color: #008080; text-decoration-color: #008080; font-weight: bold\">12.783</span>\n",
       "</pre>\n"
      ],
      "text/plain": [
       "Running mean: \u001b[1;36m14.341\u001b[0m - Running variance: \u001b[1;36m12.783\u001b[0m\n"
      ]
     },
     "metadata": {},
     "output_type": "display_data"
    },
    {
     "data": {
      "text/html": [
       "<pre style=\"white-space:pre;overflow-x:auto;line-height:normal;font-family:Menlo,'DejaVu Sans Mono',consolas,'Courier New',monospace\">Running mean: <span style=\"color: #008080; text-decoration-color: #008080; font-weight: bold\">14.327</span> - Running variance: <span style=\"color: #008080; text-decoration-color: #008080; font-weight: bold\">12.830</span>\n",
       "</pre>\n"
      ],
      "text/plain": [
       "Running mean: \u001b[1;36m14.327\u001b[0m - Running variance: \u001b[1;36m12.830\u001b[0m\n"
      ]
     },
     "metadata": {},
     "output_type": "display_data"
    },
    {
     "data": {
      "text/html": [
       "<pre style=\"white-space:pre;overflow-x:auto;line-height:normal;font-family:Menlo,'DejaVu Sans Mono',consolas,'Courier New',monospace\">Running mean: <span style=\"color: #008080; text-decoration-color: #008080; font-weight: bold\">14.330</span> - Running variance: <span style=\"color: #008080; text-decoration-color: #008080; font-weight: bold\">12.801</span>\n",
       "</pre>\n"
      ],
      "text/plain": [
       "Running mean: \u001b[1;36m14.330\u001b[0m - Running variance: \u001b[1;36m12.801\u001b[0m\n"
      ]
     },
     "metadata": {},
     "output_type": "display_data"
    },
    {
     "data": {
      "text/html": [
       "<pre style=\"white-space:pre;overflow-x:auto;line-height:normal;font-family:Menlo,'DejaVu Sans Mono',consolas,'Courier New',monospace\">Running mean: <span style=\"color: #008080; text-decoration-color: #008080; font-weight: bold\">14.348</span> - Running variance: <span style=\"color: #008080; text-decoration-color: #008080; font-weight: bold\">12.902</span>\n",
       "</pre>\n"
      ],
      "text/plain": [
       "Running mean: \u001b[1;36m14.348\u001b[0m - Running variance: \u001b[1;36m12.902\u001b[0m\n"
      ]
     },
     "metadata": {},
     "output_type": "display_data"
    },
    {
     "data": {
      "text/html": [
       "<pre style=\"white-space:pre;overflow-x:auto;line-height:normal;font-family:Menlo,'DejaVu Sans Mono',consolas,'Courier New',monospace\">Running mean: <span style=\"color: #008080; text-decoration-color: #008080; font-weight: bold\">14.342</span> - Running variance: <span style=\"color: #008080; text-decoration-color: #008080; font-weight: bold\">12.882</span>\n",
       "</pre>\n"
      ],
      "text/plain": [
       "Running mean: \u001b[1;36m14.342\u001b[0m - Running variance: \u001b[1;36m12.882\u001b[0m\n"
      ]
     },
     "metadata": {},
     "output_type": "display_data"
    },
    {
     "data": {
      "text/html": [
       "<pre style=\"white-space:pre;overflow-x:auto;line-height:normal;font-family:Menlo,'DejaVu Sans Mono',consolas,'Courier New',monospace\">Running mean: <span style=\"color: #008080; text-decoration-color: #008080; font-weight: bold\">14.342</span> - Running variance: <span style=\"color: #008080; text-decoration-color: #008080; font-weight: bold\">12.850</span>\n",
       "</pre>\n"
      ],
      "text/plain": [
       "Running mean: \u001b[1;36m14.342\u001b[0m - Running variance: \u001b[1;36m12.850\u001b[0m\n"
      ]
     },
     "metadata": {},
     "output_type": "display_data"
    },
    {
     "data": {
      "text/html": [
       "<pre style=\"white-space:pre;overflow-x:auto;line-height:normal;font-family:Menlo,'DejaVu Sans Mono',consolas,'Courier New',monospace\">Running mean: <span style=\"color: #008080; text-decoration-color: #008080; font-weight: bold\">14.340</span> - Running variance: <span style=\"color: #008080; text-decoration-color: #008080; font-weight: bold\">12.820</span>\n",
       "</pre>\n"
      ],
      "text/plain": [
       "Running mean: \u001b[1;36m14.340\u001b[0m - Running variance: \u001b[1;36m12.820\u001b[0m\n"
      ]
     },
     "metadata": {},
     "output_type": "display_data"
    },
    {
     "data": {
      "text/html": [
       "<pre style=\"white-space:pre;overflow-x:auto;line-height:normal;font-family:Menlo,'DejaVu Sans Mono',consolas,'Courier New',monospace\">Running mean: <span style=\"color: #008080; text-decoration-color: #008080; font-weight: bold\">14.336</span> - Running variance: <span style=\"color: #008080; text-decoration-color: #008080; font-weight: bold\">12.793</span>\n",
       "</pre>\n"
      ],
      "text/plain": [
       "Running mean: \u001b[1;36m14.336\u001b[0m - Running variance: \u001b[1;36m12.793\u001b[0m\n"
      ]
     },
     "metadata": {},
     "output_type": "display_data"
    },
    {
     "data": {
      "text/html": [
       "<pre style=\"white-space:pre;overflow-x:auto;line-height:normal;font-family:Menlo,'DejaVu Sans Mono',consolas,'Courier New',monospace\">Running mean: <span style=\"color: #008080; text-decoration-color: #008080; font-weight: bold\">14.328</span> - Running variance: <span style=\"color: #008080; text-decoration-color: #008080; font-weight: bold\">12.788</span>\n",
       "</pre>\n"
      ],
      "text/plain": [
       "Running mean: \u001b[1;36m14.328\u001b[0m - Running variance: \u001b[1;36m12.788\u001b[0m\n"
      ]
     },
     "metadata": {},
     "output_type": "display_data"
    },
    {
     "data": {
      "text/html": [
       "<pre style=\"white-space:pre;overflow-x:auto;line-height:normal;font-family:Menlo,'DejaVu Sans Mono',consolas,'Courier New',monospace\">Running mean: <span style=\"color: #008080; text-decoration-color: #008080; font-weight: bold\">14.321</span> - Running variance: <span style=\"color: #008080; text-decoration-color: #008080; font-weight: bold\">12.772</span>\n",
       "</pre>\n"
      ],
      "text/plain": [
       "Running mean: \u001b[1;36m14.321\u001b[0m - Running variance: \u001b[1;36m12.772\u001b[0m\n"
      ]
     },
     "metadata": {},
     "output_type": "display_data"
    },
    {
     "data": {
      "text/html": [
       "<pre style=\"white-space:pre;overflow-x:auto;line-height:normal;font-family:Menlo,'DejaVu Sans Mono',consolas,'Courier New',monospace\">Running mean: <span style=\"color: #008080; text-decoration-color: #008080; font-weight: bold\">14.330</span> - Running variance: <span style=\"color: #008080; text-decoration-color: #008080; font-weight: bold\">12.772</span>\n",
       "</pre>\n"
      ],
      "text/plain": [
       "Running mean: \u001b[1;36m14.330\u001b[0m - Running variance: \u001b[1;36m12.772\u001b[0m\n"
      ]
     },
     "metadata": {},
     "output_type": "display_data"
    },
    {
     "data": {
      "text/html": [
       "<pre style=\"white-space:pre;overflow-x:auto;line-height:normal;font-family:Menlo,'DejaVu Sans Mono',consolas,'Courier New',monospace\">Running mean: <span style=\"color: #008080; text-decoration-color: #008080; font-weight: bold\">14.324</span> - Running variance: <span style=\"color: #008080; text-decoration-color: #008080; font-weight: bold\">12.755</span>\n",
       "</pre>\n"
      ],
      "text/plain": [
       "Running mean: \u001b[1;36m14.324\u001b[0m - Running variance: \u001b[1;36m12.755\u001b[0m\n"
      ]
     },
     "metadata": {},
     "output_type": "display_data"
    },
    {
     "data": {
      "text/html": [
       "<pre style=\"white-space:pre;overflow-x:auto;line-height:normal;font-family:Menlo,'DejaVu Sans Mono',consolas,'Courier New',monospace\">Running mean: <span style=\"color: #008080; text-decoration-color: #008080; font-weight: bold\">14.321</span> - Running variance: <span style=\"color: #008080; text-decoration-color: #008080; font-weight: bold\">12.728</span>\n",
       "</pre>\n"
      ],
      "text/plain": [
       "Running mean: \u001b[1;36m14.321\u001b[0m - Running variance: \u001b[1;36m12.728\u001b[0m\n"
      ]
     },
     "metadata": {},
     "output_type": "display_data"
    },
    {
     "data": {
      "text/html": [
       "<pre style=\"white-space:pre;overflow-x:auto;line-height:normal;font-family:Menlo,'DejaVu Sans Mono',consolas,'Courier New',monospace\">Running mean: <span style=\"color: #008080; text-decoration-color: #008080; font-weight: bold\">14.317</span> - Running variance: <span style=\"color: #008080; text-decoration-color: #008080; font-weight: bold\">12.701</span>\n",
       "</pre>\n"
      ],
      "text/plain": [
       "Running mean: \u001b[1;36m14.317\u001b[0m - Running variance: \u001b[1;36m12.701\u001b[0m\n"
      ]
     },
     "metadata": {},
     "output_type": "display_data"
    },
    {
     "data": {
      "text/html": [
       "<pre style=\"white-space:pre;overflow-x:auto;line-height:normal;font-family:Menlo,'DejaVu Sans Mono',consolas,'Courier New',monospace\">Running mean: <span style=\"color: #008080; text-decoration-color: #008080; font-weight: bold\">14.313</span> - Running variance: <span style=\"color: #008080; text-decoration-color: #008080; font-weight: bold\">12.679</span>\n",
       "</pre>\n"
      ],
      "text/plain": [
       "Running mean: \u001b[1;36m14.313\u001b[0m - Running variance: \u001b[1;36m12.679\u001b[0m\n"
      ]
     },
     "metadata": {},
     "output_type": "display_data"
    },
    {
     "data": {
      "text/html": [
       "<pre style=\"white-space:pre;overflow-x:auto;line-height:normal;font-family:Menlo,'DejaVu Sans Mono',consolas,'Courier New',monospace\">Running mean: <span style=\"color: #008080; text-decoration-color: #008080; font-weight: bold\">14.304</span> - Running variance: <span style=\"color: #008080; text-decoration-color: #008080; font-weight: bold\">12.676</span>\n",
       "</pre>\n"
      ],
      "text/plain": [
       "Running mean: \u001b[1;36m14.304\u001b[0m - Running variance: \u001b[1;36m12.676\u001b[0m\n"
      ]
     },
     "metadata": {},
     "output_type": "display_data"
    },
    {
     "data": {
      "text/html": [
       "<pre style=\"white-space:pre;overflow-x:auto;line-height:normal;font-family:Menlo,'DejaVu Sans Mono',consolas,'Courier New',monospace\">Running mean: <span style=\"color: #008080; text-decoration-color: #008080; font-weight: bold\">14.309</span> - Running variance: <span style=\"color: #008080; text-decoration-color: #008080; font-weight: bold\">12.653</span>\n",
       "</pre>\n"
      ],
      "text/plain": [
       "Running mean: \u001b[1;36m14.309\u001b[0m - Running variance: \u001b[1;36m12.653\u001b[0m\n"
      ]
     },
     "metadata": {},
     "output_type": "display_data"
    },
    {
     "data": {
      "text/html": [
       "<pre style=\"white-space:pre;overflow-x:auto;line-height:normal;font-family:Menlo,'DejaVu Sans Mono',consolas,'Courier New',monospace\">Running mean: <span style=\"color: #008080; text-decoration-color: #008080; font-weight: bold\">14.305</span> - Running variance: <span style=\"color: #008080; text-decoration-color: #008080; font-weight: bold\">12.627</span>\n",
       "</pre>\n"
      ],
      "text/plain": [
       "Running mean: \u001b[1;36m14.305\u001b[0m - Running variance: \u001b[1;36m12.627\u001b[0m\n"
      ]
     },
     "metadata": {},
     "output_type": "display_data"
    },
    {
     "data": {
      "text/html": [
       "<pre style=\"white-space:pre;overflow-x:auto;line-height:normal;font-family:Menlo,'DejaVu Sans Mono',consolas,'Courier New',monospace\">Running mean: <span style=\"color: #008080; text-decoration-color: #008080; font-weight: bold\">14.314</span> - Running variance: <span style=\"color: #008080; text-decoration-color: #008080; font-weight: bold\">12.629</span>\n",
       "</pre>\n"
      ],
      "text/plain": [
       "Running mean: \u001b[1;36m14.314\u001b[0m - Running variance: \u001b[1;36m12.629\u001b[0m\n"
      ]
     },
     "metadata": {},
     "output_type": "display_data"
    },
    {
     "data": {
      "text/html": [
       "<pre style=\"white-space:pre;overflow-x:auto;line-height:normal;font-family:Menlo,'DejaVu Sans Mono',consolas,'Courier New',monospace\">Running mean: <span style=\"color: #008080; text-decoration-color: #008080; font-weight: bold\">14.309</span> - Running variance: <span style=\"color: #008080; text-decoration-color: #008080; font-weight: bold\">12.609</span>\n",
       "</pre>\n"
      ],
      "text/plain": [
       "Running mean: \u001b[1;36m14.309\u001b[0m - Running variance: \u001b[1;36m12.609\u001b[0m\n"
      ]
     },
     "metadata": {},
     "output_type": "display_data"
    },
    {
     "data": {
      "text/html": [
       "<pre style=\"white-space:pre;overflow-x:auto;line-height:normal;font-family:Menlo,'DejaVu Sans Mono',consolas,'Courier New',monospace\">Running mean: <span style=\"color: #008080; text-decoration-color: #008080; font-weight: bold\">14.302</span> - Running variance: <span style=\"color: #008080; text-decoration-color: #008080; font-weight: bold\">12.599</span>\n",
       "</pre>\n"
      ],
      "text/plain": [
       "Running mean: \u001b[1;36m14.302\u001b[0m - Running variance: \u001b[1;36m12.599\u001b[0m\n"
      ]
     },
     "metadata": {},
     "output_type": "display_data"
    },
    {
     "data": {
      "text/html": [
       "<pre style=\"white-space:pre;overflow-x:auto;line-height:normal;font-family:Menlo,'DejaVu Sans Mono',consolas,'Courier New',monospace\">Running mean: <span style=\"color: #008080; text-decoration-color: #008080; font-weight: bold\">14.294</span> - Running variance: <span style=\"color: #008080; text-decoration-color: #008080; font-weight: bold\">12.594</span>\n",
       "</pre>\n"
      ],
      "text/plain": [
       "Running mean: \u001b[1;36m14.294\u001b[0m - Running variance: \u001b[1;36m12.594\u001b[0m\n"
      ]
     },
     "metadata": {},
     "output_type": "display_data"
    },
    {
     "data": {
      "text/html": [
       "<pre style=\"white-space:pre;overflow-x:auto;line-height:normal;font-family:Menlo,'DejaVu Sans Mono',consolas,'Courier New',monospace\">Running mean: <span style=\"color: #008080; text-decoration-color: #008080; font-weight: bold\">14.282</span> - Running variance: <span style=\"color: #008080; text-decoration-color: #008080; font-weight: bold\">12.622</span>\n",
       "</pre>\n"
      ],
      "text/plain": [
       "Running mean: \u001b[1;36m14.282\u001b[0m - Running variance: \u001b[1;36m12.622\u001b[0m\n"
      ]
     },
     "metadata": {},
     "output_type": "display_data"
    },
    {
     "data": {
      "text/html": [
       "<pre style=\"white-space:pre;overflow-x:auto;line-height:normal;font-family:Menlo,'DejaVu Sans Mono',consolas,'Courier New',monospace\">Running mean: <span style=\"color: #008080; text-decoration-color: #008080; font-weight: bold\">14.284</span> - Running variance: <span style=\"color: #008080; text-decoration-color: #008080; font-weight: bold\">12.593</span>\n",
       "</pre>\n"
      ],
      "text/plain": [
       "Running mean: \u001b[1;36m14.284\u001b[0m - Running variance: \u001b[1;36m12.593\u001b[0m\n"
      ]
     },
     "metadata": {},
     "output_type": "display_data"
    },
    {
     "data": {
      "text/html": [
       "<pre style=\"white-space:pre;overflow-x:auto;line-height:normal;font-family:Menlo,'DejaVu Sans Mono',consolas,'Courier New',monospace\">Running mean: <span style=\"color: #008080; text-decoration-color: #008080; font-weight: bold\">14.286</span> - Running variance: <span style=\"color: #008080; text-decoration-color: #008080; font-weight: bold\">12.564</span>\n",
       "</pre>\n"
      ],
      "text/plain": [
       "Running mean: \u001b[1;36m14.286\u001b[0m - Running variance: \u001b[1;36m12.564\u001b[0m\n"
      ]
     },
     "metadata": {},
     "output_type": "display_data"
    },
    {
     "data": {
      "text/html": [
       "<pre style=\"white-space:pre;overflow-x:auto;line-height:normal;font-family:Menlo,'DejaVu Sans Mono',consolas,'Courier New',monospace\">Running mean: <span style=\"color: #008080; text-decoration-color: #008080; font-weight: bold\">14.280</span> - Running variance: <span style=\"color: #008080; text-decoration-color: #008080; font-weight: bold\">12.547</span>\n",
       "</pre>\n"
      ],
      "text/plain": [
       "Running mean: \u001b[1;36m14.280\u001b[0m - Running variance: \u001b[1;36m12.547\u001b[0m\n"
      ]
     },
     "metadata": {},
     "output_type": "display_data"
    },
    {
     "data": {
      "text/html": [
       "<pre style=\"white-space:pre;overflow-x:auto;line-height:normal;font-family:Menlo,'DejaVu Sans Mono',consolas,'Courier New',monospace\">Running mean: <span style=\"color: #008080; text-decoration-color: #008080; font-weight: bold\">14.269</span> - Running variance: <span style=\"color: #008080; text-decoration-color: #008080; font-weight: bold\">12.574</span>\n",
       "</pre>\n"
      ],
      "text/plain": [
       "Running mean: \u001b[1;36m14.269\u001b[0m - Running variance: \u001b[1;36m12.574\u001b[0m\n"
      ]
     },
     "metadata": {},
     "output_type": "display_data"
    },
    {
     "data": {
      "text/html": [
       "<pre style=\"white-space:pre;overflow-x:auto;line-height:normal;font-family:Menlo,'DejaVu Sans Mono',consolas,'Courier New',monospace\">Running mean: <span style=\"color: #008080; text-decoration-color: #008080; font-weight: bold\">14.271</span> - Running variance: <span style=\"color: #008080; text-decoration-color: #008080; font-weight: bold\">12.548</span>\n",
       "</pre>\n"
      ],
      "text/plain": [
       "Running mean: \u001b[1;36m14.271\u001b[0m - Running variance: \u001b[1;36m12.548\u001b[0m\n"
      ]
     },
     "metadata": {},
     "output_type": "display_data"
    },
    {
     "data": {
      "text/html": [
       "<pre style=\"white-space:pre;overflow-x:auto;line-height:normal;font-family:Menlo,'DejaVu Sans Mono',consolas,'Courier New',monospace\">Running mean: <span style=\"color: #008080; text-decoration-color: #008080; font-weight: bold\">14.268</span> - Running variance: <span style=\"color: #008080; text-decoration-color: #008080; font-weight: bold\">12.524</span>\n",
       "</pre>\n"
      ],
      "text/plain": [
       "Running mean: \u001b[1;36m14.268\u001b[0m - Running variance: \u001b[1;36m12.524\u001b[0m\n"
      ]
     },
     "metadata": {},
     "output_type": "display_data"
    },
    {
     "data": {
      "text/html": [
       "<pre style=\"white-space:pre;overflow-x:auto;line-height:normal;font-family:Menlo,'DejaVu Sans Mono',consolas,'Courier New',monospace\">Running mean: <span style=\"color: #008080; text-decoration-color: #008080; font-weight: bold\">14.260</span> - Running variance: <span style=\"color: #008080; text-decoration-color: #008080; font-weight: bold\">12.517</span>\n",
       "</pre>\n"
      ],
      "text/plain": [
       "Running mean: \u001b[1;36m14.260\u001b[0m - Running variance: \u001b[1;36m12.517\u001b[0m\n"
      ]
     },
     "metadata": {},
     "output_type": "display_data"
    },
    {
     "data": {
      "text/html": [
       "<pre style=\"white-space:pre;overflow-x:auto;line-height:normal;font-family:Menlo,'DejaVu Sans Mono',consolas,'Courier New',monospace\">Running mean: <span style=\"color: #008080; text-decoration-color: #008080; font-weight: bold\">14.254</span> - Running variance: <span style=\"color: #008080; text-decoration-color: #008080; font-weight: bold\">12.504</span>\n",
       "</pre>\n"
      ],
      "text/plain": [
       "Running mean: \u001b[1;36m14.254\u001b[0m - Running variance: \u001b[1;36m12.504\u001b[0m\n"
      ]
     },
     "metadata": {},
     "output_type": "display_data"
    },
    {
     "data": {
      "text/html": [
       "<pre style=\"white-space:pre;overflow-x:auto;line-height:normal;font-family:Menlo,'DejaVu Sans Mono',consolas,'Courier New',monospace\">Running mean: <span style=\"color: #008080; text-decoration-color: #008080; font-weight: bold\">14.255</span> - Running variance: <span style=\"color: #008080; text-decoration-color: #008080; font-weight: bold\">12.475</span>\n",
       "</pre>\n"
      ],
      "text/plain": [
       "Running mean: \u001b[1;36m14.255\u001b[0m - Running variance: \u001b[1;36m12.475\u001b[0m\n"
      ]
     },
     "metadata": {},
     "output_type": "display_data"
    },
    {
     "data": {
      "text/html": [
       "<pre style=\"white-space:pre;overflow-x:auto;line-height:normal;font-family:Menlo,'DejaVu Sans Mono',consolas,'Courier New',monospace\">Running mean: <span style=\"color: #008080; text-decoration-color: #008080; font-weight: bold\">14.249</span> - Running variance: <span style=\"color: #008080; text-decoration-color: #008080; font-weight: bold\">12.462</span>\n",
       "</pre>\n"
      ],
      "text/plain": [
       "Running mean: \u001b[1;36m14.249\u001b[0m - Running variance: \u001b[1;36m12.462\u001b[0m\n"
      ]
     },
     "metadata": {},
     "output_type": "display_data"
    },
    {
     "data": {
      "text/html": [
       "<pre style=\"white-space:pre;overflow-x:auto;line-height:normal;font-family:Menlo,'DejaVu Sans Mono',consolas,'Courier New',monospace\">Running mean: <span style=\"color: #008080; text-decoration-color: #008080; font-weight: bold\">14.247</span> - Running variance: <span style=\"color: #008080; text-decoration-color: #008080; font-weight: bold\">12.433</span>\n",
       "</pre>\n"
      ],
      "text/plain": [
       "Running mean: \u001b[1;36m14.247\u001b[0m - Running variance: \u001b[1;36m12.433\u001b[0m\n"
      ]
     },
     "metadata": {},
     "output_type": "display_data"
    },
    {
     "data": {
      "text/html": [
       "<pre style=\"white-space:pre;overflow-x:auto;line-height:normal;font-family:Menlo,'DejaVu Sans Mono',consolas,'Courier New',monospace\">Running mean: <span style=\"color: #008080; text-decoration-color: #008080; font-weight: bold\">14.237</span> - Running variance: <span style=\"color: #008080; text-decoration-color: #008080; font-weight: bold\">12.452</span>\n",
       "</pre>\n"
      ],
      "text/plain": [
       "Running mean: \u001b[1;36m14.237\u001b[0m - Running variance: \u001b[1;36m12.452\u001b[0m\n"
      ]
     },
     "metadata": {},
     "output_type": "display_data"
    },
    {
     "data": {
      "text/html": [
       "<pre style=\"white-space:pre;overflow-x:auto;line-height:normal;font-family:Menlo,'DejaVu Sans Mono',consolas,'Courier New',monospace\">Running mean: <span style=\"color: #008080; text-decoration-color: #008080; font-weight: bold\">14.227</span> - Running variance: <span style=\"color: #008080; text-decoration-color: #008080; font-weight: bold\">12.464</span>\n",
       "</pre>\n"
      ],
      "text/plain": [
       "Running mean: \u001b[1;36m14.227\u001b[0m - Running variance: \u001b[1;36m12.464\u001b[0m\n"
      ]
     },
     "metadata": {},
     "output_type": "display_data"
    },
    {
     "data": {
      "text/html": [
       "<pre style=\"white-space:pre;overflow-x:auto;line-height:normal;font-family:Menlo,'DejaVu Sans Mono',consolas,'Courier New',monospace\">Running mean: <span style=\"color: #008080; text-decoration-color: #008080; font-weight: bold\">14.218</span> - Running variance: <span style=\"color: #008080; text-decoration-color: #008080; font-weight: bold\">12.468</span>\n",
       "</pre>\n"
      ],
      "text/plain": [
       "Running mean: \u001b[1;36m14.218\u001b[0m - Running variance: \u001b[1;36m12.468\u001b[0m\n"
      ]
     },
     "metadata": {},
     "output_type": "display_data"
    },
    {
     "data": {
      "text/html": [
       "<pre style=\"white-space:pre;overflow-x:auto;line-height:normal;font-family:Menlo,'DejaVu Sans Mono',consolas,'Courier New',monospace\">Running mean: <span style=\"color: #008080; text-decoration-color: #008080; font-weight: bold\">14.210</span> - Running variance: <span style=\"color: #008080; text-decoration-color: #008080; font-weight: bold\">12.466</span>\n",
       "</pre>\n"
      ],
      "text/plain": [
       "Running mean: \u001b[1;36m14.210\u001b[0m - Running variance: \u001b[1;36m12.466\u001b[0m\n"
      ]
     },
     "metadata": {},
     "output_type": "display_data"
    },
    {
     "data": {
      "text/html": [
       "<pre style=\"white-space:pre;overflow-x:auto;line-height:normal;font-family:Menlo,'DejaVu Sans Mono',consolas,'Courier New',monospace\">Running mean: <span style=\"color: #008080; text-decoration-color: #008080; font-weight: bold\">14.203</span> - Running variance: <span style=\"color: #008080; text-decoration-color: #008080; font-weight: bold\">12.459</span>\n",
       "</pre>\n"
      ],
      "text/plain": [
       "Running mean: \u001b[1;36m14.203\u001b[0m - Running variance: \u001b[1;36m12.459\u001b[0m\n"
      ]
     },
     "metadata": {},
     "output_type": "display_data"
    },
    {
     "data": {
      "text/html": [
       "<pre style=\"white-space:pre;overflow-x:auto;line-height:normal;font-family:Menlo,'DejaVu Sans Mono',consolas,'Courier New',monospace\">Running mean: <span style=\"color: #008080; text-decoration-color: #008080; font-weight: bold\">14.199</span> - Running variance: <span style=\"color: #008080; text-decoration-color: #008080; font-weight: bold\">12.435</span>\n",
       "</pre>\n"
      ],
      "text/plain": [
       "Running mean: \u001b[1;36m14.199\u001b[0m - Running variance: \u001b[1;36m12.435\u001b[0m\n"
      ]
     },
     "metadata": {},
     "output_type": "display_data"
    },
    {
     "data": {
      "text/html": [
       "<pre style=\"white-space:pre;overflow-x:auto;line-height:normal;font-family:Menlo,'DejaVu Sans Mono',consolas,'Courier New',monospace\">Running mean: <span style=\"color: #008080; text-decoration-color: #008080; font-weight: bold\">14.201</span> - Running variance: <span style=\"color: #008080; text-decoration-color: #008080; font-weight: bold\">12.407</span>\n",
       "</pre>\n"
      ],
      "text/plain": [
       "Running mean: \u001b[1;36m14.201\u001b[0m - Running variance: \u001b[1;36m12.407\u001b[0m\n"
      ]
     },
     "metadata": {},
     "output_type": "display_data"
    },
    {
     "data": {
      "text/html": [
       "<pre style=\"white-space:pre;overflow-x:auto;line-height:normal;font-family:Menlo,'DejaVu Sans Mono',consolas,'Courier New',monospace\">Running mean: <span style=\"color: #008080; text-decoration-color: #008080; font-weight: bold\">14.197</span> - Running variance: <span style=\"color: #008080; text-decoration-color: #008080; font-weight: bold\">12.386</span>\n",
       "</pre>\n"
      ],
      "text/plain": [
       "Running mean: \u001b[1;36m14.197\u001b[0m - Running variance: \u001b[1;36m12.386\u001b[0m\n"
      ]
     },
     "metadata": {},
     "output_type": "display_data"
    },
    {
     "data": {
      "text/html": [
       "<pre style=\"white-space:pre;overflow-x:auto;line-height:normal;font-family:Menlo,'DejaVu Sans Mono',consolas,'Courier New',monospace\">Running mean: <span style=\"color: #008080; text-decoration-color: #008080; font-weight: bold\">14.211</span> - Running variance: <span style=\"color: #008080; text-decoration-color: #008080; font-weight: bold\">12.440</span>\n",
       "</pre>\n"
      ],
      "text/plain": [
       "Running mean: \u001b[1;36m14.211\u001b[0m - Running variance: \u001b[1;36m12.440\u001b[0m\n"
      ]
     },
     "metadata": {},
     "output_type": "display_data"
    },
    {
     "data": {
      "text/html": [
       "<pre style=\"white-space:pre;overflow-x:auto;line-height:normal;font-family:Menlo,'DejaVu Sans Mono',consolas,'Courier New',monospace\">Running mean: <span style=\"color: #008080; text-decoration-color: #008080; font-weight: bold\">14.221</span> - Running variance: <span style=\"color: #008080; text-decoration-color: #008080; font-weight: bold\">12.460</span>\n",
       "</pre>\n"
      ],
      "text/plain": [
       "Running mean: \u001b[1;36m14.221\u001b[0m - Running variance: \u001b[1;36m12.460\u001b[0m\n"
      ]
     },
     "metadata": {},
     "output_type": "display_data"
    },
    {
     "data": {
      "text/html": [
       "<pre style=\"white-space:pre;overflow-x:auto;line-height:normal;font-family:Menlo,'DejaVu Sans Mono',consolas,'Courier New',monospace\">Running mean: <span style=\"color: #008080; text-decoration-color: #008080; font-weight: bold\">14.223</span> - Running variance: <span style=\"color: #008080; text-decoration-color: #008080; font-weight: bold\">12.432</span>\n",
       "</pre>\n"
      ],
      "text/plain": [
       "Running mean: \u001b[1;36m14.223\u001b[0m - Running variance: \u001b[1;36m12.432\u001b[0m\n"
      ]
     },
     "metadata": {},
     "output_type": "display_data"
    },
    {
     "data": {
      "text/html": [
       "<pre style=\"white-space:pre;overflow-x:auto;line-height:normal;font-family:Menlo,'DejaVu Sans Mono',consolas,'Courier New',monospace\">Running mean: <span style=\"color: #008080; text-decoration-color: #008080; font-weight: bold\">14.222</span> - Running variance: <span style=\"color: #008080; text-decoration-color: #008080; font-weight: bold\">12.404</span>\n",
       "</pre>\n"
      ],
      "text/plain": [
       "Running mean: \u001b[1;36m14.222\u001b[0m - Running variance: \u001b[1;36m12.404\u001b[0m\n"
      ]
     },
     "metadata": {},
     "output_type": "display_data"
    },
    {
     "data": {
      "text/html": [
       "<pre style=\"white-space:pre;overflow-x:auto;line-height:normal;font-family:Menlo,'DejaVu Sans Mono',consolas,'Courier New',monospace\">Running mean: <span style=\"color: #008080; text-decoration-color: #008080; font-weight: bold\">14.219</span> - Running variance: <span style=\"color: #008080; text-decoration-color: #008080; font-weight: bold\">12.380</span>\n",
       "</pre>\n"
      ],
      "text/plain": [
       "Running mean: \u001b[1;36m14.219\u001b[0m - Running variance: \u001b[1;36m12.380\u001b[0m\n"
      ]
     },
     "metadata": {},
     "output_type": "display_data"
    },
    {
     "data": {
      "text/html": [
       "<pre style=\"white-space:pre;overflow-x:auto;line-height:normal;font-family:Menlo,'DejaVu Sans Mono',consolas,'Courier New',monospace\">Running mean: <span style=\"color: #008080; text-decoration-color: #008080; font-weight: bold\">14.219</span> - Running variance: <span style=\"color: #008080; text-decoration-color: #008080; font-weight: bold\">12.352</span>\n",
       "</pre>\n"
      ],
      "text/plain": [
       "Running mean: \u001b[1;36m14.219\u001b[0m - Running variance: \u001b[1;36m12.352\u001b[0m\n"
      ]
     },
     "metadata": {},
     "output_type": "display_data"
    },
    {
     "data": {
      "text/html": [
       "<pre style=\"white-space:pre;overflow-x:auto;line-height:normal;font-family:Menlo,'DejaVu Sans Mono',consolas,'Courier New',monospace\">Running mean: <span style=\"color: #008080; text-decoration-color: #008080; font-weight: bold\">14.218</span> - Running variance: <span style=\"color: #008080; text-decoration-color: #008080; font-weight: bold\">12.324</span>\n",
       "</pre>\n"
      ],
      "text/plain": [
       "Running mean: \u001b[1;36m14.218\u001b[0m - Running variance: \u001b[1;36m12.324\u001b[0m\n"
      ]
     },
     "metadata": {},
     "output_type": "display_data"
    },
    {
     "data": {
      "text/html": [
       "<pre style=\"white-space:pre;overflow-x:auto;line-height:normal;font-family:Menlo,'DejaVu Sans Mono',consolas,'Courier New',monospace\">Running mean: <span style=\"color: #008080; text-decoration-color: #008080; font-weight: bold\">14.217</span> - Running variance: <span style=\"color: #008080; text-decoration-color: #008080; font-weight: bold\">12.296</span>\n",
       "</pre>\n"
      ],
      "text/plain": [
       "Running mean: \u001b[1;36m14.217\u001b[0m - Running variance: \u001b[1;36m12.296\u001b[0m\n"
      ]
     },
     "metadata": {},
     "output_type": "display_data"
    },
    {
     "data": {
      "text/html": [
       "<pre style=\"white-space:pre;overflow-x:auto;line-height:normal;font-family:Menlo,'DejaVu Sans Mono',consolas,'Courier New',monospace\">Running mean: <span style=\"color: #008080; text-decoration-color: #008080; font-weight: bold\">14.210</span> - Running variance: <span style=\"color: #008080; text-decoration-color: #008080; font-weight: bold\">12.292</span>\n",
       "</pre>\n"
      ],
      "text/plain": [
       "Running mean: \u001b[1;36m14.210\u001b[0m - Running variance: \u001b[1;36m12.292\u001b[0m\n"
      ]
     },
     "metadata": {},
     "output_type": "display_data"
    },
    {
     "data": {
      "text/html": [
       "<pre style=\"white-space:pre;overflow-x:auto;line-height:normal;font-family:Menlo,'DejaVu Sans Mono',consolas,'Courier New',monospace\">Running mean: <span style=\"color: #008080; text-decoration-color: #008080; font-weight: bold\">14.217</span> - Running variance: <span style=\"color: #008080; text-decoration-color: #008080; font-weight: bold\">12.285</span>\n",
       "</pre>\n"
      ],
      "text/plain": [
       "Running mean: \u001b[1;36m14.217\u001b[0m - Running variance: \u001b[1;36m12.285\u001b[0m\n"
      ]
     },
     "metadata": {},
     "output_type": "display_data"
    },
    {
     "data": {
      "text/html": [
       "<pre style=\"white-space:pre;overflow-x:auto;line-height:normal;font-family:Menlo,'DejaVu Sans Mono',consolas,'Courier New',monospace\">Running mean: <span style=\"color: #008080; text-decoration-color: #008080; font-weight: bold\">14.216</span> - Running variance: <span style=\"color: #008080; text-decoration-color: #008080; font-weight: bold\">12.258</span>\n",
       "</pre>\n"
      ],
      "text/plain": [
       "Running mean: \u001b[1;36m14.216\u001b[0m - Running variance: \u001b[1;36m12.258\u001b[0m\n"
      ]
     },
     "metadata": {},
     "output_type": "display_data"
    },
    {
     "data": {
      "text/html": [
       "<pre style=\"white-space:pre;overflow-x:auto;line-height:normal;font-family:Menlo,'DejaVu Sans Mono',consolas,'Courier New',monospace\">Running mean: <span style=\"color: #008080; text-decoration-color: #008080; font-weight: bold\">14.208</span> - Running variance: <span style=\"color: #008080; text-decoration-color: #008080; font-weight: bold\">12.260</span>\n",
       "</pre>\n"
      ],
      "text/plain": [
       "Running mean: \u001b[1;36m14.208\u001b[0m - Running variance: \u001b[1;36m12.260\u001b[0m\n"
      ]
     },
     "metadata": {},
     "output_type": "display_data"
    },
    {
     "data": {
      "text/html": [
       "<pre style=\"white-space:pre;overflow-x:auto;line-height:normal;font-family:Menlo,'DejaVu Sans Mono',consolas,'Courier New',monospace\">Running mean: <span style=\"color: #008080; text-decoration-color: #008080; font-weight: bold\">14.216</span> - Running variance: <span style=\"color: #008080; text-decoration-color: #008080; font-weight: bold\">12.265</span>\n",
       "</pre>\n"
      ],
      "text/plain": [
       "Running mean: \u001b[1;36m14.216\u001b[0m - Running variance: \u001b[1;36m12.265\u001b[0m\n"
      ]
     },
     "metadata": {},
     "output_type": "display_data"
    },
    {
     "data": {
      "text/html": [
       "<pre style=\"white-space:pre;overflow-x:auto;line-height:normal;font-family:Menlo,'DejaVu Sans Mono',consolas,'Courier New',monospace\">Running mean: <span style=\"color: #008080; text-decoration-color: #008080; font-weight: bold\">14.211</span> - Running variance: <span style=\"color: #008080; text-decoration-color: #008080; font-weight: bold\">12.249</span>\n",
       "</pre>\n"
      ],
      "text/plain": [
       "Running mean: \u001b[1;36m14.211\u001b[0m - Running variance: \u001b[1;36m12.249\u001b[0m\n"
      ]
     },
     "metadata": {},
     "output_type": "display_data"
    },
    {
     "data": {
      "text/html": [
       "<pre style=\"white-space:pre;overflow-x:auto;line-height:normal;font-family:Menlo,'DejaVu Sans Mono',consolas,'Courier New',monospace\">Running mean: <span style=\"color: #008080; text-decoration-color: #008080; font-weight: bold\">14.219</span> - Running variance: <span style=\"color: #008080; text-decoration-color: #008080; font-weight: bold\">12.249</span>\n",
       "</pre>\n"
      ],
      "text/plain": [
       "Running mean: \u001b[1;36m14.219\u001b[0m - Running variance: \u001b[1;36m12.249\u001b[0m\n"
      ]
     },
     "metadata": {},
     "output_type": "display_data"
    },
    {
     "data": {
      "text/html": [
       "<pre style=\"white-space:pre;overflow-x:auto;line-height:normal;font-family:Menlo,'DejaVu Sans Mono',consolas,'Courier New',monospace\">Running mean: <span style=\"color: #008080; text-decoration-color: #008080; font-weight: bold\">14.221</span> - Running variance: <span style=\"color: #008080; text-decoration-color: #008080; font-weight: bold\">12.223</span>\n",
       "</pre>\n"
      ],
      "text/plain": [
       "Running mean: \u001b[1;36m14.221\u001b[0m - Running variance: \u001b[1;36m12.223\u001b[0m\n"
      ]
     },
     "metadata": {},
     "output_type": "display_data"
    },
    {
     "data": {
      "text/html": [
       "<pre style=\"white-space:pre;overflow-x:auto;line-height:normal;font-family:Menlo,'DejaVu Sans Mono',consolas,'Courier New',monospace\">Running mean: <span style=\"color: #008080; text-decoration-color: #008080; font-weight: bold\">14.221</span> - Running variance: <span style=\"color: #008080; text-decoration-color: #008080; font-weight: bold\">12.196</span>\n",
       "</pre>\n"
      ],
      "text/plain": [
       "Running mean: \u001b[1;36m14.221\u001b[0m - Running variance: \u001b[1;36m12.196\u001b[0m\n"
      ]
     },
     "metadata": {},
     "output_type": "display_data"
    },
    {
     "data": {
      "text/html": [
       "<pre style=\"white-space:pre;overflow-x:auto;line-height:normal;font-family:Menlo,'DejaVu Sans Mono',consolas,'Courier New',monospace\">Running mean: <span style=\"color: #008080; text-decoration-color: #008080; font-weight: bold\">14.237</span> - Running variance: <span style=\"color: #008080; text-decoration-color: #008080; font-weight: bold\">12.274</span>\n",
       "</pre>\n"
      ],
      "text/plain": [
       "Running mean: \u001b[1;36m14.237\u001b[0m - Running variance: \u001b[1;36m12.274\u001b[0m\n"
      ]
     },
     "metadata": {},
     "output_type": "display_data"
    },
    {
     "data": {
      "text/html": [
       "<pre style=\"white-space:pre;overflow-x:auto;line-height:normal;font-family:Menlo,'DejaVu Sans Mono',consolas,'Courier New',monospace\">Running mean: <span style=\"color: #008080; text-decoration-color: #008080; font-weight: bold\">14.231</span> - Running variance: <span style=\"color: #008080; text-decoration-color: #008080; font-weight: bold\">12.259</span>\n",
       "</pre>\n"
      ],
      "text/plain": [
       "Running mean: \u001b[1;36m14.231\u001b[0m - Running variance: \u001b[1;36m12.259\u001b[0m\n"
      ]
     },
     "metadata": {},
     "output_type": "display_data"
    },
    {
     "data": {
      "text/html": [
       "<pre style=\"white-space:pre;overflow-x:auto;line-height:normal;font-family:Menlo,'DejaVu Sans Mono',consolas,'Courier New',monospace\">Running mean: <span style=\"color: #008080; text-decoration-color: #008080; font-weight: bold\">14.243</span> - Running variance: <span style=\"color: #008080; text-decoration-color: #008080; font-weight: bold\">12.295</span>\n",
       "</pre>\n"
      ],
      "text/plain": [
       "Running mean: \u001b[1;36m14.243\u001b[0m - Running variance: \u001b[1;36m12.295\u001b[0m\n"
      ]
     },
     "metadata": {},
     "output_type": "display_data"
    },
    {
     "data": {
      "text/html": [
       "<pre style=\"white-space:pre;overflow-x:auto;line-height:normal;font-family:Menlo,'DejaVu Sans Mono',consolas,'Courier New',monospace\">Running mean: <span style=\"color: #008080; text-decoration-color: #008080; font-weight: bold\">14.238</span> - Running variance: <span style=\"color: #008080; text-decoration-color: #008080; font-weight: bold\">12.279</span>\n",
       "</pre>\n"
      ],
      "text/plain": [
       "Running mean: \u001b[1;36m14.238\u001b[0m - Running variance: \u001b[1;36m12.279\u001b[0m\n"
      ]
     },
     "metadata": {},
     "output_type": "display_data"
    },
    {
     "data": {
      "text/html": [
       "<pre style=\"white-space:pre;overflow-x:auto;line-height:normal;font-family:Menlo,'DejaVu Sans Mono',consolas,'Courier New',monospace\">Running mean: <span style=\"color: #008080; text-decoration-color: #008080; font-weight: bold\">14.239</span> - Running variance: <span style=\"color: #008080; text-decoration-color: #008080; font-weight: bold\">12.252</span>\n",
       "</pre>\n"
      ],
      "text/plain": [
       "Running mean: \u001b[1;36m14.239\u001b[0m - Running variance: \u001b[1;36m12.252\u001b[0m\n"
      ]
     },
     "metadata": {},
     "output_type": "display_data"
    },
    {
     "data": {
      "text/html": [
       "<pre style=\"white-space:pre;overflow-x:auto;line-height:normal;font-family:Menlo,'DejaVu Sans Mono',consolas,'Courier New',monospace\">Running mean: <span style=\"color: #008080; text-decoration-color: #008080; font-weight: bold\">14.235</span> - Running variance: <span style=\"color: #008080; text-decoration-color: #008080; font-weight: bold\">12.231</span>\n",
       "</pre>\n"
      ],
      "text/plain": [
       "Running mean: \u001b[1;36m14.235\u001b[0m - Running variance: \u001b[1;36m12.231\u001b[0m\n"
      ]
     },
     "metadata": {},
     "output_type": "display_data"
    },
    {
     "data": {
      "text/html": [
       "<pre style=\"white-space:pre;overflow-x:auto;line-height:normal;font-family:Menlo,'DejaVu Sans Mono',consolas,'Courier New',monospace\">Running mean: <span style=\"color: #008080; text-decoration-color: #008080; font-weight: bold\">14.233</span> - Running variance: <span style=\"color: #008080; text-decoration-color: #008080; font-weight: bold\">12.206</span>\n",
       "</pre>\n"
      ],
      "text/plain": [
       "Running mean: \u001b[1;36m14.233\u001b[0m - Running variance: \u001b[1;36m12.206\u001b[0m\n"
      ]
     },
     "metadata": {},
     "output_type": "display_data"
    },
    {
     "data": {
      "text/html": [
       "<pre style=\"white-space:pre;overflow-x:auto;line-height:normal;font-family:Menlo,'DejaVu Sans Mono',consolas,'Courier New',monospace\">Running mean: <span style=\"color: #008080; text-decoration-color: #008080; font-weight: bold\">14.228</span> - Running variance: <span style=\"color: #008080; text-decoration-color: #008080; font-weight: bold\">12.194</span>\n",
       "</pre>\n"
      ],
      "text/plain": [
       "Running mean: \u001b[1;36m14.228\u001b[0m - Running variance: \u001b[1;36m12.194\u001b[0m\n"
      ]
     },
     "metadata": {},
     "output_type": "display_data"
    },
    {
     "data": {
      "text/html": [
       "<pre style=\"white-space:pre;overflow-x:auto;line-height:normal;font-family:Menlo,'DejaVu Sans Mono',consolas,'Courier New',monospace\">Running mean: <span style=\"color: #008080; text-decoration-color: #008080; font-weight: bold\">14.226</span> - Running variance: <span style=\"color: #008080; text-decoration-color: #008080; font-weight: bold\">12.169</span>\n",
       "</pre>\n"
      ],
      "text/plain": [
       "Running mean: \u001b[1;36m14.226\u001b[0m - Running variance: \u001b[1;36m12.169\u001b[0m\n"
      ]
     },
     "metadata": {},
     "output_type": "display_data"
    },
    {
     "data": {
      "text/html": [
       "<pre style=\"white-space:pre;overflow-x:auto;line-height:normal;font-family:Menlo,'DejaVu Sans Mono',consolas,'Courier New',monospace\">Running mean: <span style=\"color: #008080; text-decoration-color: #008080; font-weight: bold\">14.223</span> - Running variance: <span style=\"color: #008080; text-decoration-color: #008080; font-weight: bold\">12.146</span>\n",
       "</pre>\n"
      ],
      "text/plain": [
       "Running mean: \u001b[1;36m14.223\u001b[0m - Running variance: \u001b[1;36m12.146\u001b[0m\n"
      ]
     },
     "metadata": {},
     "output_type": "display_data"
    },
    {
     "data": {
      "text/html": [
       "<pre style=\"white-space:pre;overflow-x:auto;line-height:normal;font-family:Menlo,'DejaVu Sans Mono',consolas,'Courier New',monospace\">Running mean: <span style=\"color: #008080; text-decoration-color: #008080; font-weight: bold\">14.213</span> - Running variance: <span style=\"color: #008080; text-decoration-color: #008080; font-weight: bold\">12.163</span>\n",
       "</pre>\n"
      ],
      "text/plain": [
       "Running mean: \u001b[1;36m14.213\u001b[0m - Running variance: \u001b[1;36m12.163\u001b[0m\n"
      ]
     },
     "metadata": {},
     "output_type": "display_data"
    },
    {
     "data": {
      "text/html": [
       "<pre style=\"white-space:pre;overflow-x:auto;line-height:normal;font-family:Menlo,'DejaVu Sans Mono',consolas,'Courier New',monospace\">Running mean: <span style=\"color: #008080; text-decoration-color: #008080; font-weight: bold\">14.219</span> - Running variance: <span style=\"color: #008080; text-decoration-color: #008080; font-weight: bold\">12.155</span>\n",
       "</pre>\n"
      ],
      "text/plain": [
       "Running mean: \u001b[1;36m14.219\u001b[0m - Running variance: \u001b[1;36m12.155\u001b[0m\n"
      ]
     },
     "metadata": {},
     "output_type": "display_data"
    },
    {
     "data": {
      "text/html": [
       "<pre style=\"white-space:pre;overflow-x:auto;line-height:normal;font-family:Menlo,'DejaVu Sans Mono',consolas,'Courier New',monospace\">Running mean: <span style=\"color: #008080; text-decoration-color: #008080; font-weight: bold\">14.248</span> - Running variance: <span style=\"color: #008080; text-decoration-color: #008080; font-weight: bold\">12.505</span>\n",
       "</pre>\n"
      ],
      "text/plain": [
       "Running mean: \u001b[1;36m14.248\u001b[0m - Running variance: \u001b[1;36m12.505\u001b[0m\n"
      ]
     },
     "metadata": {},
     "output_type": "display_data"
    },
    {
     "data": {
      "text/html": [
       "<pre style=\"white-space:pre;overflow-x:auto;line-height:normal;font-family:Menlo,'DejaVu Sans Mono',consolas,'Courier New',monospace\">Running mean: <span style=\"color: #008080; text-decoration-color: #008080; font-weight: bold\">14.248</span> - Running variance: <span style=\"color: #008080; text-decoration-color: #008080; font-weight: bold\">12.478</span>\n",
       "</pre>\n"
      ],
      "text/plain": [
       "Running mean: \u001b[1;36m14.248\u001b[0m - Running variance: \u001b[1;36m12.478\u001b[0m\n"
      ]
     },
     "metadata": {},
     "output_type": "display_data"
    },
    {
     "data": {
      "text/html": [
       "<pre style=\"white-space:pre;overflow-x:auto;line-height:normal;font-family:Menlo,'DejaVu Sans Mono',consolas,'Courier New',monospace\">Running mean: <span style=\"color: #008080; text-decoration-color: #008080; font-weight: bold\">14.243</span> - Running variance: <span style=\"color: #008080; text-decoration-color: #008080; font-weight: bold\">12.466</span>\n",
       "</pre>\n"
      ],
      "text/plain": [
       "Running mean: \u001b[1;36m14.243\u001b[0m - Running variance: \u001b[1;36m12.466\u001b[0m\n"
      ]
     },
     "metadata": {},
     "output_type": "display_data"
    },
    {
     "data": {
      "text/html": [
       "<pre style=\"white-space:pre;overflow-x:auto;line-height:normal;font-family:Menlo,'DejaVu Sans Mono',consolas,'Courier New',monospace\">Running mean: <span style=\"color: #008080; text-decoration-color: #008080; font-weight: bold\">14.240</span> - Running variance: <span style=\"color: #008080; text-decoration-color: #008080; font-weight: bold\">12.441</span>\n",
       "</pre>\n"
      ],
      "text/plain": [
       "Running mean: \u001b[1;36m14.240\u001b[0m - Running variance: \u001b[1;36m12.441\u001b[0m\n"
      ]
     },
     "metadata": {},
     "output_type": "display_data"
    },
    {
     "data": {
      "text/html": [
       "<pre style=\"white-space:pre;overflow-x:auto;line-height:normal;font-family:Menlo,'DejaVu Sans Mono',consolas,'Courier New',monospace\">Running mean: <span style=\"color: #008080; text-decoration-color: #008080; font-weight: bold\">14.238</span> - Running variance: <span style=\"color: #008080; text-decoration-color: #008080; font-weight: bold\">12.417</span>\n",
       "</pre>\n"
      ],
      "text/plain": [
       "Running mean: \u001b[1;36m14.238\u001b[0m - Running variance: \u001b[1;36m12.417\u001b[0m\n"
      ]
     },
     "metadata": {},
     "output_type": "display_data"
    },
    {
     "data": {
      "text/html": [
       "<pre style=\"white-space:pre;overflow-x:auto;line-height:normal;font-family:Menlo,'DejaVu Sans Mono',consolas,'Courier New',monospace\">Running mean: <span style=\"color: #008080; text-decoration-color: #008080; font-weight: bold\">14.236</span> - Running variance: <span style=\"color: #008080; text-decoration-color: #008080; font-weight: bold\">12.393</span>\n",
       "</pre>\n"
      ],
      "text/plain": [
       "Running mean: \u001b[1;36m14.236\u001b[0m - Running variance: \u001b[1;36m12.393\u001b[0m\n"
      ]
     },
     "metadata": {},
     "output_type": "display_data"
    },
    {
     "data": {
      "text/html": [
       "<pre style=\"white-space:pre;overflow-x:auto;line-height:normal;font-family:Menlo,'DejaVu Sans Mono',consolas,'Courier New',monospace\">Running mean: <span style=\"color: #008080; text-decoration-color: #008080; font-weight: bold\">14.226</span> - Running variance: <span style=\"color: #008080; text-decoration-color: #008080; font-weight: bold\">12.411</span>\n",
       "</pre>\n"
      ],
      "text/plain": [
       "Running mean: \u001b[1;36m14.226\u001b[0m - Running variance: \u001b[1;36m12.411\u001b[0m\n"
      ]
     },
     "metadata": {},
     "output_type": "display_data"
    },
    {
     "data": {
      "text/html": [
       "<pre style=\"white-space:pre;overflow-x:auto;line-height:normal;font-family:Menlo,'DejaVu Sans Mono',consolas,'Courier New',monospace\">Running mean: <span style=\"color: #008080; text-decoration-color: #008080; font-weight: bold\">14.233</span> - Running variance: <span style=\"color: #008080; text-decoration-color: #008080; font-weight: bold\">12.409</span>\n",
       "</pre>\n"
      ],
      "text/plain": [
       "Running mean: \u001b[1;36m14.233\u001b[0m - Running variance: \u001b[1;36m12.409\u001b[0m\n"
      ]
     },
     "metadata": {},
     "output_type": "display_data"
    },
    {
     "data": {
      "text/html": [
       "<pre style=\"white-space:pre;overflow-x:auto;line-height:normal;font-family:Menlo,'DejaVu Sans Mono',consolas,'Courier New',monospace\">Running mean: <span style=\"color: #008080; text-decoration-color: #008080; font-weight: bold\">14.228</span> - Running variance: <span style=\"color: #008080; text-decoration-color: #008080; font-weight: bold\">12.397</span>\n",
       "</pre>\n"
      ],
      "text/plain": [
       "Running mean: \u001b[1;36m14.228\u001b[0m - Running variance: \u001b[1;36m12.397\u001b[0m\n"
      ]
     },
     "metadata": {},
     "output_type": "display_data"
    },
    {
     "data": {
      "text/html": [
       "<pre style=\"white-space:pre;overflow-x:auto;line-height:normal;font-family:Menlo,'DejaVu Sans Mono',consolas,'Courier New',monospace\">Running mean: <span style=\"color: #008080; text-decoration-color: #008080; font-weight: bold\">14.218</span> - Running variance: <span style=\"color: #008080; text-decoration-color: #008080; font-weight: bold\">12.415</span>\n",
       "</pre>\n"
      ],
      "text/plain": [
       "Running mean: \u001b[1;36m14.218\u001b[0m - Running variance: \u001b[1;36m12.415\u001b[0m\n"
      ]
     },
     "metadata": {},
     "output_type": "display_data"
    },
    {
     "data": {
      "text/html": [
       "<pre style=\"white-space:pre;overflow-x:auto;line-height:normal;font-family:Menlo,'DejaVu Sans Mono',consolas,'Courier New',monospace\">Running mean: <span style=\"color: #008080; text-decoration-color: #008080; font-weight: bold\">14.213</span> - Running variance: <span style=\"color: #008080; text-decoration-color: #008080; font-weight: bold\">12.398</span>\n",
       "</pre>\n"
      ],
      "text/plain": [
       "Running mean: \u001b[1;36m14.213\u001b[0m - Running variance: \u001b[1;36m12.398\u001b[0m\n"
      ]
     },
     "metadata": {},
     "output_type": "display_data"
    },
    {
     "data": {
      "text/html": [
       "<pre style=\"white-space:pre;overflow-x:auto;line-height:normal;font-family:Menlo,'DejaVu Sans Mono',consolas,'Courier New',monospace\">Running mean: <span style=\"color: #008080; text-decoration-color: #008080; font-weight: bold\">14.215</span> - Running variance: <span style=\"color: #008080; text-decoration-color: #008080; font-weight: bold\">12.373</span>\n",
       "</pre>\n"
      ],
      "text/plain": [
       "Running mean: \u001b[1;36m14.215\u001b[0m - Running variance: \u001b[1;36m12.373\u001b[0m\n"
      ]
     },
     "metadata": {},
     "output_type": "display_data"
    },
    {
     "data": {
      "text/html": [
       "<pre style=\"white-space:pre;overflow-x:auto;line-height:normal;font-family:Menlo,'DejaVu Sans Mono',consolas,'Courier New',monospace\">Running mean: <span style=\"color: #008080; text-decoration-color: #008080; font-weight: bold\">14.211</span> - Running variance: <span style=\"color: #008080; text-decoration-color: #008080; font-weight: bold\">12.355</span>\n",
       "</pre>\n"
      ],
      "text/plain": [
       "Running mean: \u001b[1;36m14.211\u001b[0m - Running variance: \u001b[1;36m12.355\u001b[0m\n"
      ]
     },
     "metadata": {},
     "output_type": "display_data"
    },
    {
     "data": {
      "text/html": [
       "<pre style=\"white-space:pre;overflow-x:auto;line-height:normal;font-family:Menlo,'DejaVu Sans Mono',consolas,'Courier New',monospace\">Running mean: <span style=\"color: #008080; text-decoration-color: #008080; font-weight: bold\">14.204</span> - Running variance: <span style=\"color: #008080; text-decoration-color: #008080; font-weight: bold\">12.352</span>\n",
       "</pre>\n"
      ],
      "text/plain": [
       "Running mean: \u001b[1;36m14.204\u001b[0m - Running variance: \u001b[1;36m12.352\u001b[0m\n"
      ]
     },
     "metadata": {},
     "output_type": "display_data"
    },
    {
     "data": {
      "text/html": [
       "<pre style=\"white-space:pre;overflow-x:auto;line-height:normal;font-family:Menlo,'DejaVu Sans Mono',consolas,'Courier New',monospace\">Running mean: <span style=\"color: #008080; text-decoration-color: #008080; font-weight: bold\">14.201</span> - Running variance: <span style=\"color: #008080; text-decoration-color: #008080; font-weight: bold\">12.330</span>\n",
       "</pre>\n"
      ],
      "text/plain": [
       "Running mean: \u001b[1;36m14.201\u001b[0m - Running variance: \u001b[1;36m12.330\u001b[0m\n"
      ]
     },
     "metadata": {},
     "output_type": "display_data"
    },
    {
     "data": {
      "text/html": [
       "<pre style=\"white-space:pre;overflow-x:auto;line-height:normal;font-family:Menlo,'DejaVu Sans Mono',consolas,'Courier New',monospace\">Running mean: <span style=\"color: #008080; text-decoration-color: #008080; font-weight: bold\">14.201</span> - Running variance: <span style=\"color: #008080; text-decoration-color: #008080; font-weight: bold\">12.304</span>\n",
       "</pre>\n"
      ],
      "text/plain": [
       "Running mean: \u001b[1;36m14.201\u001b[0m - Running variance: \u001b[1;36m12.304\u001b[0m\n"
      ]
     },
     "metadata": {},
     "output_type": "display_data"
    },
    {
     "data": {
      "text/html": [
       "<pre style=\"white-space:pre;overflow-x:auto;line-height:normal;font-family:Menlo,'DejaVu Sans Mono',consolas,'Courier New',monospace\">Running mean: <span style=\"color: #008080; text-decoration-color: #008080; font-weight: bold\">14.200</span> - Running variance: <span style=\"color: #008080; text-decoration-color: #008080; font-weight: bold\">12.279</span>\n",
       "</pre>\n"
      ],
      "text/plain": [
       "Running mean: \u001b[1;36m14.200\u001b[0m - Running variance: \u001b[1;36m12.279\u001b[0m\n"
      ]
     },
     "metadata": {},
     "output_type": "display_data"
    },
    {
     "data": {
      "text/html": [
       "<pre style=\"white-space:pre;overflow-x:auto;line-height:normal;font-family:Menlo,'DejaVu Sans Mono',consolas,'Courier New',monospace\">Running mean: <span style=\"color: #008080; text-decoration-color: #008080; font-weight: bold\">14.195</span> - Running variance: <span style=\"color: #008080; text-decoration-color: #008080; font-weight: bold\">12.269</span>\n",
       "</pre>\n"
      ],
      "text/plain": [
       "Running mean: \u001b[1;36m14.195\u001b[0m - Running variance: \u001b[1;36m12.269\u001b[0m\n"
      ]
     },
     "metadata": {},
     "output_type": "display_data"
    },
    {
     "data": {
      "text/html": [
       "<pre style=\"white-space:pre;overflow-x:auto;line-height:normal;font-family:Menlo,'DejaVu Sans Mono',consolas,'Courier New',monospace\">Running mean: <span style=\"color: #008080; text-decoration-color: #008080; font-weight: bold\">14.199</span> - Running variance: <span style=\"color: #008080; text-decoration-color: #008080; font-weight: bold\">12.252</span>\n",
       "</pre>\n"
      ],
      "text/plain": [
       "Running mean: \u001b[1;36m14.199\u001b[0m - Running variance: \u001b[1;36m12.252\u001b[0m\n"
      ]
     },
     "metadata": {},
     "output_type": "display_data"
    },
    {
     "data": {
      "text/html": [
       "<pre style=\"white-space:pre;overflow-x:auto;line-height:normal;font-family:Menlo,'DejaVu Sans Mono',consolas,'Courier New',monospace\">Running mean: <span style=\"color: #008080; text-decoration-color: #008080; font-weight: bold\">14.195</span> - Running variance: <span style=\"color: #008080; text-decoration-color: #008080; font-weight: bold\">12.235</span>\n",
       "</pre>\n"
      ],
      "text/plain": [
       "Running mean: \u001b[1;36m14.195\u001b[0m - Running variance: \u001b[1;36m12.235\u001b[0m\n"
      ]
     },
     "metadata": {},
     "output_type": "display_data"
    },
    {
     "data": {
      "text/html": [
       "<pre style=\"white-space:pre;overflow-x:auto;line-height:normal;font-family:Menlo,'DejaVu Sans Mono',consolas,'Courier New',monospace\">Running mean: <span style=\"color: #008080; text-decoration-color: #008080; font-weight: bold\">14.194</span> - Running variance: <span style=\"color: #008080; text-decoration-color: #008080; font-weight: bold\">12.210</span>\n",
       "</pre>\n"
      ],
      "text/plain": [
       "Running mean: \u001b[1;36m14.194\u001b[0m - Running variance: \u001b[1;36m12.210\u001b[0m\n"
      ]
     },
     "metadata": {},
     "output_type": "display_data"
    },
    {
     "data": {
      "text/html": [
       "<pre style=\"white-space:pre;overflow-x:auto;line-height:normal;font-family:Menlo,'DejaVu Sans Mono',consolas,'Courier New',monospace\">Running mean: <span style=\"color: #008080; text-decoration-color: #008080; font-weight: bold\">14.192</span> - Running variance: <span style=\"color: #008080; text-decoration-color: #008080; font-weight: bold\">12.185</span>\n",
       "</pre>\n"
      ],
      "text/plain": [
       "Running mean: \u001b[1;36m14.192\u001b[0m - Running variance: \u001b[1;36m12.185\u001b[0m\n"
      ]
     },
     "metadata": {},
     "output_type": "display_data"
    },
    {
     "data": {
      "text/html": [
       "<pre style=\"white-space:pre;overflow-x:auto;line-height:normal;font-family:Menlo,'DejaVu Sans Mono',consolas,'Courier New',monospace\">Running mean: <span style=\"color: #008080; text-decoration-color: #008080; font-weight: bold\">14.191</span> - Running variance: <span style=\"color: #008080; text-decoration-color: #008080; font-weight: bold\">12.161</span>\n",
       "</pre>\n"
      ],
      "text/plain": [
       "Running mean: \u001b[1;36m14.191\u001b[0m - Running variance: \u001b[1;36m12.161\u001b[0m\n"
      ]
     },
     "metadata": {},
     "output_type": "display_data"
    },
    {
     "data": {
      "text/html": [
       "<pre style=\"white-space:pre;overflow-x:auto;line-height:normal;font-family:Menlo,'DejaVu Sans Mono',consolas,'Courier New',monospace\">Running mean: <span style=\"color: #008080; text-decoration-color: #008080; font-weight: bold\">14.195</span> - Running variance: <span style=\"color: #008080; text-decoration-color: #008080; font-weight: bold\">12.141</span>\n",
       "</pre>\n"
      ],
      "text/plain": [
       "Running mean: \u001b[1;36m14.195\u001b[0m - Running variance: \u001b[1;36m12.141\u001b[0m\n"
      ]
     },
     "metadata": {},
     "output_type": "display_data"
    },
    {
     "data": {
      "text/html": [
       "<pre style=\"white-space:pre;overflow-x:auto;line-height:normal;font-family:Menlo,'DejaVu Sans Mono',consolas,'Courier New',monospace\">Running mean: <span style=\"color: #008080; text-decoration-color: #008080; font-weight: bold\">14.191</span> - Running variance: <span style=\"color: #008080; text-decoration-color: #008080; font-weight: bold\">12.122</span>\n",
       "</pre>\n"
      ],
      "text/plain": [
       "Running mean: \u001b[1;36m14.191\u001b[0m - Running variance: \u001b[1;36m12.122\u001b[0m\n"
      ]
     },
     "metadata": {},
     "output_type": "display_data"
    },
    {
     "data": {
      "text/html": [
       "<pre style=\"white-space:pre;overflow-x:auto;line-height:normal;font-family:Menlo,'DejaVu Sans Mono',consolas,'Courier New',monospace\">Running mean: <span style=\"color: #008080; text-decoration-color: #008080; font-weight: bold\">14.192</span> - Running variance: <span style=\"color: #008080; text-decoration-color: #008080; font-weight: bold\">12.097</span>\n",
       "</pre>\n"
      ],
      "text/plain": [
       "Running mean: \u001b[1;36m14.192\u001b[0m - Running variance: \u001b[1;36m12.097\u001b[0m\n"
      ]
     },
     "metadata": {},
     "output_type": "display_data"
    },
    {
     "data": {
      "text/html": [
       "<pre style=\"white-space:pre;overflow-x:auto;line-height:normal;font-family:Menlo,'DejaVu Sans Mono',consolas,'Courier New',monospace\">Running mean: <span style=\"color: #008080; text-decoration-color: #008080; font-weight: bold\">14.203</span> - Running variance: <span style=\"color: #008080; text-decoration-color: #008080; font-weight: bold\">12.129</span>\n",
       "</pre>\n"
      ],
      "text/plain": [
       "Running mean: \u001b[1;36m14.203\u001b[0m - Running variance: \u001b[1;36m12.129\u001b[0m\n"
      ]
     },
     "metadata": {},
     "output_type": "display_data"
    },
    {
     "data": {
      "text/html": [
       "<pre style=\"white-space:pre;overflow-x:auto;line-height:normal;font-family:Menlo,'DejaVu Sans Mono',consolas,'Courier New',monospace\">Running mean: <span style=\"color: #008080; text-decoration-color: #008080; font-weight: bold\">14.198</span> - Running variance: <span style=\"color: #008080; text-decoration-color: #008080; font-weight: bold\">12.117</span>\n",
       "</pre>\n"
      ],
      "text/plain": [
       "Running mean: \u001b[1;36m14.198\u001b[0m - Running variance: \u001b[1;36m12.117\u001b[0m\n"
      ]
     },
     "metadata": {},
     "output_type": "display_data"
    },
    {
     "data": {
      "text/html": [
       "<pre style=\"white-space:pre;overflow-x:auto;line-height:normal;font-family:Menlo,'DejaVu Sans Mono',consolas,'Courier New',monospace\">Running mean: <span style=\"color: #008080; text-decoration-color: #008080; font-weight: bold\">14.203</span> - Running variance: <span style=\"color: #008080; text-decoration-color: #008080; font-weight: bold\">12.105</span>\n",
       "</pre>\n"
      ],
      "text/plain": [
       "Running mean: \u001b[1;36m14.203\u001b[0m - Running variance: \u001b[1;36m12.105\u001b[0m\n"
      ]
     },
     "metadata": {},
     "output_type": "display_data"
    },
    {
     "data": {
      "text/html": [
       "<pre style=\"white-space:pre;overflow-x:auto;line-height:normal;font-family:Menlo,'DejaVu Sans Mono',consolas,'Courier New',monospace\">Running mean: <span style=\"color: #008080; text-decoration-color: #008080; font-weight: bold\">14.199</span> - Running variance: <span style=\"color: #008080; text-decoration-color: #008080; font-weight: bold\">12.088</span>\n",
       "</pre>\n"
      ],
      "text/plain": [
       "Running mean: \u001b[1;36m14.199\u001b[0m - Running variance: \u001b[1;36m12.088\u001b[0m\n"
      ]
     },
     "metadata": {},
     "output_type": "display_data"
    },
    {
     "data": {
      "text/html": [
       "<pre style=\"white-space:pre;overflow-x:auto;line-height:normal;font-family:Menlo,'DejaVu Sans Mono',consolas,'Courier New',monospace\">Running mean: <span style=\"color: #008080; text-decoration-color: #008080; font-weight: bold\">14.206</span> - Running variance: <span style=\"color: #008080; text-decoration-color: #008080; font-weight: bold\">12.091</span>\n",
       "</pre>\n"
      ],
      "text/plain": [
       "Running mean: \u001b[1;36m14.206\u001b[0m - Running variance: \u001b[1;36m12.091\u001b[0m\n"
      ]
     },
     "metadata": {},
     "output_type": "display_data"
    },
    {
     "data": {
      "text/html": [
       "<pre style=\"white-space:pre;overflow-x:auto;line-height:normal;font-family:Menlo,'DejaVu Sans Mono',consolas,'Courier New',monospace\">Running mean: <span style=\"color: #008080; text-decoration-color: #008080; font-weight: bold\">14.214</span> - Running variance: <span style=\"color: #008080; text-decoration-color: #008080; font-weight: bold\">12.095</span>\n",
       "</pre>\n"
      ],
      "text/plain": [
       "Running mean: \u001b[1;36m14.214\u001b[0m - Running variance: \u001b[1;36m12.095\u001b[0m\n"
      ]
     },
     "metadata": {},
     "output_type": "display_data"
    },
    {
     "data": {
      "text/html": [
       "<pre style=\"white-space:pre;overflow-x:auto;line-height:normal;font-family:Menlo,'DejaVu Sans Mono',consolas,'Courier New',monospace\">Running mean: <span style=\"color: #008080; text-decoration-color: #008080; font-weight: bold\">14.210</span> - Running variance: <span style=\"color: #008080; text-decoration-color: #008080; font-weight: bold\">12.077</span>\n",
       "</pre>\n"
      ],
      "text/plain": [
       "Running mean: \u001b[1;36m14.210\u001b[0m - Running variance: \u001b[1;36m12.077\u001b[0m\n"
      ]
     },
     "metadata": {},
     "output_type": "display_data"
    },
    {
     "data": {
      "text/html": [
       "<pre style=\"white-space:pre;overflow-x:auto;line-height:normal;font-family:Menlo,'DejaVu Sans Mono',consolas,'Courier New',monospace\">Running mean: <span style=\"color: #008080; text-decoration-color: #008080; font-weight: bold\">14.208</span> - Running variance: <span style=\"color: #008080; text-decoration-color: #008080; font-weight: bold\">12.055</span>\n",
       "</pre>\n"
      ],
      "text/plain": [
       "Running mean: \u001b[1;36m14.208\u001b[0m - Running variance: \u001b[1;36m12.055\u001b[0m\n"
      ]
     },
     "metadata": {},
     "output_type": "display_data"
    },
    {
     "data": {
      "text/html": [
       "<pre style=\"white-space:pre;overflow-x:auto;line-height:normal;font-family:Menlo,'DejaVu Sans Mono',consolas,'Courier New',monospace\">Running mean: <span style=\"color: #008080; text-decoration-color: #008080; font-weight: bold\">14.209</span> - Running variance: <span style=\"color: #008080; text-decoration-color: #008080; font-weight: bold\">12.032</span>\n",
       "</pre>\n"
      ],
      "text/plain": [
       "Running mean: \u001b[1;36m14.209\u001b[0m - Running variance: \u001b[1;36m12.032\u001b[0m\n"
      ]
     },
     "metadata": {},
     "output_type": "display_data"
    },
    {
     "data": {
      "text/html": [
       "<pre style=\"white-space:pre;overflow-x:auto;line-height:normal;font-family:Menlo,'DejaVu Sans Mono',consolas,'Courier New',monospace\">Running mean: <span style=\"color: #008080; text-decoration-color: #008080; font-weight: bold\">14.206</span> - Running variance: <span style=\"color: #008080; text-decoration-color: #008080; font-weight: bold\">12.012</span>\n",
       "</pre>\n"
      ],
      "text/plain": [
       "Running mean: \u001b[1;36m14.206\u001b[0m - Running variance: \u001b[1;36m12.012\u001b[0m\n"
      ]
     },
     "metadata": {},
     "output_type": "display_data"
    },
    {
     "data": {
      "text/html": [
       "<pre style=\"white-space:pre;overflow-x:auto;line-height:normal;font-family:Menlo,'DejaVu Sans Mono',consolas,'Courier New',monospace\">Running mean: <span style=\"color: #008080; text-decoration-color: #008080; font-weight: bold\">14.203</span> - Running variance: <span style=\"color: #008080; text-decoration-color: #008080; font-weight: bold\">11.994</span>\n",
       "</pre>\n"
      ],
      "text/plain": [
       "Running mean: \u001b[1;36m14.203\u001b[0m - Running variance: \u001b[1;36m11.994\u001b[0m\n"
      ]
     },
     "metadata": {},
     "output_type": "display_data"
    },
    {
     "data": {
      "text/html": [
       "<pre style=\"white-space:pre;overflow-x:auto;line-height:normal;font-family:Menlo,'DejaVu Sans Mono',consolas,'Courier New',monospace\">Running mean: <span style=\"color: #008080; text-decoration-color: #008080; font-weight: bold\">14.211</span> - Running variance: <span style=\"color: #008080; text-decoration-color: #008080; font-weight: bold\">12.007</span>\n",
       "</pre>\n"
      ],
      "text/plain": [
       "Running mean: \u001b[1;36m14.211\u001b[0m - Running variance: \u001b[1;36m12.007\u001b[0m\n"
      ]
     },
     "metadata": {},
     "output_type": "display_data"
    },
    {
     "data": {
      "text/html": [
       "<pre style=\"white-space:pre;overflow-x:auto;line-height:normal;font-family:Menlo,'DejaVu Sans Mono',consolas,'Courier New',monospace\">Running mean: <span style=\"color: #008080; text-decoration-color: #008080; font-weight: bold\">14.224</span> - Running variance: <span style=\"color: #008080; text-decoration-color: #008080; font-weight: bold\">12.064</span>\n",
       "</pre>\n"
      ],
      "text/plain": [
       "Running mean: \u001b[1;36m14.224\u001b[0m - Running variance: \u001b[1;36m12.064\u001b[0m\n"
      ]
     },
     "metadata": {},
     "output_type": "display_data"
    },
    {
     "data": {
      "text/html": [
       "<pre style=\"white-space:pre;overflow-x:auto;line-height:normal;font-family:Menlo,'DejaVu Sans Mono',consolas,'Courier New',monospace\">Running mean: <span style=\"color: #008080; text-decoration-color: #008080; font-weight: bold\">14.226</span> - Running variance: <span style=\"color: #008080; text-decoration-color: #008080; font-weight: bold\">12.041</span>\n",
       "</pre>\n"
      ],
      "text/plain": [
       "Running mean: \u001b[1;36m14.226\u001b[0m - Running variance: \u001b[1;36m12.041\u001b[0m\n"
      ]
     },
     "metadata": {},
     "output_type": "display_data"
    },
    {
     "data": {
      "text/html": [
       "<pre style=\"white-space:pre;overflow-x:auto;line-height:normal;font-family:Menlo,'DejaVu Sans Mono',consolas,'Courier New',monospace\">Running mean: <span style=\"color: #008080; text-decoration-color: #008080; font-weight: bold\">14.225</span> - Running variance: <span style=\"color: #008080; text-decoration-color: #008080; font-weight: bold\">12.018</span>\n",
       "</pre>\n"
      ],
      "text/plain": [
       "Running mean: \u001b[1;36m14.225\u001b[0m - Running variance: \u001b[1;36m12.018\u001b[0m\n"
      ]
     },
     "metadata": {},
     "output_type": "display_data"
    },
    {
     "data": {
      "text/html": [
       "<pre style=\"white-space:pre;overflow-x:auto;line-height:normal;font-family:Menlo,'DejaVu Sans Mono',consolas,'Courier New',monospace\">Running mean: <span style=\"color: #008080; text-decoration-color: #008080; font-weight: bold\">14.222</span> - Running variance: <span style=\"color: #008080; text-decoration-color: #008080; font-weight: bold\">11.999</span>\n",
       "</pre>\n"
      ],
      "text/plain": [
       "Running mean: \u001b[1;36m14.222\u001b[0m - Running variance: \u001b[1;36m11.999\u001b[0m\n"
      ]
     },
     "metadata": {},
     "output_type": "display_data"
    },
    {
     "data": {
      "text/html": [
       "<pre style=\"white-space:pre;overflow-x:auto;line-height:normal;font-family:Menlo,'DejaVu Sans Mono',consolas,'Courier New',monospace\">Running mean: <span style=\"color: #008080; text-decoration-color: #008080; font-weight: bold\">14.239</span> - Running variance: <span style=\"color: #008080; text-decoration-color: #008080; font-weight: bold\">12.131</span>\n",
       "</pre>\n"
      ],
      "text/plain": [
       "Running mean: \u001b[1;36m14.239\u001b[0m - Running variance: \u001b[1;36m12.131\u001b[0m\n"
      ]
     },
     "metadata": {},
     "output_type": "display_data"
    },
    {
     "data": {
      "text/html": [
       "<pre style=\"white-space:pre;overflow-x:auto;line-height:normal;font-family:Menlo,'DejaVu Sans Mono',consolas,'Courier New',monospace\">Running mean: <span style=\"color: #008080; text-decoration-color: #008080; font-weight: bold\">14.229</span> - Running variance: <span style=\"color: #008080; text-decoration-color: #008080; font-weight: bold\">12.156</span>\n",
       "</pre>\n"
      ],
      "text/plain": [
       "Running mean: \u001b[1;36m14.229\u001b[0m - Running variance: \u001b[1;36m12.156\u001b[0m\n"
      ]
     },
     "metadata": {},
     "output_type": "display_data"
    },
    {
     "data": {
      "text/html": [
       "<pre style=\"white-space:pre;overflow-x:auto;line-height:normal;font-family:Menlo,'DejaVu Sans Mono',consolas,'Courier New',monospace\">Running mean: <span style=\"color: #008080; text-decoration-color: #008080; font-weight: bold\">14.220</span> - Running variance: <span style=\"color: #008080; text-decoration-color: #008080; font-weight: bold\">12.173</span>\n",
       "</pre>\n"
      ],
      "text/plain": [
       "Running mean: \u001b[1;36m14.220\u001b[0m - Running variance: \u001b[1;36m12.173\u001b[0m\n"
      ]
     },
     "metadata": {},
     "output_type": "display_data"
    },
    {
     "data": {
      "text/html": [
       "<pre style=\"white-space:pre;overflow-x:auto;line-height:normal;font-family:Menlo,'DejaVu Sans Mono',consolas,'Courier New',monospace\">Running mean: <span style=\"color: #008080; text-decoration-color: #008080; font-weight: bold\">14.216</span> - Running variance: <span style=\"color: #008080; text-decoration-color: #008080; font-weight: bold\">12.157</span>\n",
       "</pre>\n"
      ],
      "text/plain": [
       "Running mean: \u001b[1;36m14.216\u001b[0m - Running variance: \u001b[1;36m12.157\u001b[0m\n"
      ]
     },
     "metadata": {},
     "output_type": "display_data"
    },
    {
     "data": {
      "text/html": [
       "<pre style=\"white-space:pre;overflow-x:auto;line-height:normal;font-family:Menlo,'DejaVu Sans Mono',consolas,'Courier New',monospace\">Running mean: <span style=\"color: #008080; text-decoration-color: #008080; font-weight: bold\">14.210</span> - Running variance: <span style=\"color: #008080; text-decoration-color: #008080; font-weight: bold\">12.152</span>\n",
       "</pre>\n"
      ],
      "text/plain": [
       "Running mean: \u001b[1;36m14.210\u001b[0m - Running variance: \u001b[1;36m12.152\u001b[0m\n"
      ]
     },
     "metadata": {},
     "output_type": "display_data"
    },
    {
     "data": {
      "text/html": [
       "<pre style=\"white-space:pre;overflow-x:auto;line-height:normal;font-family:Menlo,'DejaVu Sans Mono',consolas,'Courier New',monospace\">Running mean: <span style=\"color: #008080; text-decoration-color: #008080; font-weight: bold\">14.214</span> - Running variance: <span style=\"color: #008080; text-decoration-color: #008080; font-weight: bold\">12.137</span>\n",
       "</pre>\n"
      ],
      "text/plain": [
       "Running mean: \u001b[1;36m14.214\u001b[0m - Running variance: \u001b[1;36m12.137\u001b[0m\n"
      ]
     },
     "metadata": {},
     "output_type": "display_data"
    },
    {
     "data": {
      "text/html": [
       "<pre style=\"white-space:pre;overflow-x:auto;line-height:normal;font-family:Menlo,'DejaVu Sans Mono',consolas,'Courier New',monospace\">Running mean: <span style=\"color: #008080; text-decoration-color: #008080; font-weight: bold\">14.217</span> - Running variance: <span style=\"color: #008080; text-decoration-color: #008080; font-weight: bold\">12.116</span>\n",
       "</pre>\n"
      ],
      "text/plain": [
       "Running mean: \u001b[1;36m14.217\u001b[0m - Running variance: \u001b[1;36m12.116\u001b[0m\n"
      ]
     },
     "metadata": {},
     "output_type": "display_data"
    },
    {
     "data": {
      "text/html": [
       "<pre style=\"white-space:pre;overflow-x:auto;line-height:normal;font-family:Menlo,'DejaVu Sans Mono',consolas,'Courier New',monospace\">Running mean: <span style=\"color: #008080; text-decoration-color: #008080; font-weight: bold\">14.212</span> - Running variance: <span style=\"color: #008080; text-decoration-color: #008080; font-weight: bold\">12.105</span>\n",
       "</pre>\n"
      ],
      "text/plain": [
       "Running mean: \u001b[1;36m14.212\u001b[0m - Running variance: \u001b[1;36m12.105\u001b[0m\n"
      ]
     },
     "metadata": {},
     "output_type": "display_data"
    },
    {
     "data": {
      "text/html": [
       "<pre style=\"white-space:pre;overflow-x:auto;line-height:normal;font-family:Menlo,'DejaVu Sans Mono',consolas,'Courier New',monospace\">Running mean: <span style=\"color: #008080; text-decoration-color: #008080; font-weight: bold\">14.213</span> - Running variance: <span style=\"color: #008080; text-decoration-color: #008080; font-weight: bold\">12.082</span>\n",
       "</pre>\n"
      ],
      "text/plain": [
       "Running mean: \u001b[1;36m14.213\u001b[0m - Running variance: \u001b[1;36m12.082\u001b[0m\n"
      ]
     },
     "metadata": {},
     "output_type": "display_data"
    },
    {
     "data": {
      "text/html": [
       "<pre style=\"white-space:pre;overflow-x:auto;line-height:normal;font-family:Menlo,'DejaVu Sans Mono',consolas,'Courier New',monospace\">Running mean: <span style=\"color: #008080; text-decoration-color: #008080; font-weight: bold\">14.212</span> - Running variance: <span style=\"color: #008080; text-decoration-color: #008080; font-weight: bold\">12.059</span>\n",
       "</pre>\n"
      ],
      "text/plain": [
       "Running mean: \u001b[1;36m14.212\u001b[0m - Running variance: \u001b[1;36m12.059\u001b[0m\n"
      ]
     },
     "metadata": {},
     "output_type": "display_data"
    },
    {
     "data": {
      "text/html": [
       "<pre style=\"white-space:pre;overflow-x:auto;line-height:normal;font-family:Menlo,'DejaVu Sans Mono',consolas,'Courier New',monospace\">Running mean: <span style=\"color: #008080; text-decoration-color: #008080; font-weight: bold\">14.212</span> - Running variance: <span style=\"color: #008080; text-decoration-color: #008080; font-weight: bold\">12.036</span>\n",
       "</pre>\n"
      ],
      "text/plain": [
       "Running mean: \u001b[1;36m14.212\u001b[0m - Running variance: \u001b[1;36m12.036\u001b[0m\n"
      ]
     },
     "metadata": {},
     "output_type": "display_data"
    },
    {
     "data": {
      "text/html": [
       "<pre style=\"white-space:pre;overflow-x:auto;line-height:normal;font-family:Menlo,'DejaVu Sans Mono',consolas,'Courier New',monospace\">Running mean: <span style=\"color: #008080; text-decoration-color: #008080; font-weight: bold\">14.214</span> - Running variance: <span style=\"color: #008080; text-decoration-color: #008080; font-weight: bold\">12.014</span>\n",
       "</pre>\n"
      ],
      "text/plain": [
       "Running mean: \u001b[1;36m14.214\u001b[0m - Running variance: \u001b[1;36m12.014\u001b[0m\n"
      ]
     },
     "metadata": {},
     "output_type": "display_data"
    },
    {
     "data": {
      "text/html": [
       "<pre style=\"white-space:pre;overflow-x:auto;line-height:normal;font-family:Menlo,'DejaVu Sans Mono',consolas,'Courier New',monospace\">Running mean: <span style=\"color: #008080; text-decoration-color: #008080; font-weight: bold\">14.208</span> - Running variance: <span style=\"color: #008080; text-decoration-color: #008080; font-weight: bold\">12.007</span>\n",
       "</pre>\n"
      ],
      "text/plain": [
       "Running mean: \u001b[1;36m14.208\u001b[0m - Running variance: \u001b[1;36m12.007\u001b[0m\n"
      ]
     },
     "metadata": {},
     "output_type": "display_data"
    },
    {
     "data": {
      "text/html": [
       "<pre style=\"white-space:pre;overflow-x:auto;line-height:normal;font-family:Menlo,'DejaVu Sans Mono',consolas,'Courier New',monospace\">Running mean: <span style=\"color: #008080; text-decoration-color: #008080; font-weight: bold\">14.216</span> - Running variance: <span style=\"color: #008080; text-decoration-color: #008080; font-weight: bold\">12.016</span>\n",
       "</pre>\n"
      ],
      "text/plain": [
       "Running mean: \u001b[1;36m14.216\u001b[0m - Running variance: \u001b[1;36m12.016\u001b[0m\n"
      ]
     },
     "metadata": {},
     "output_type": "display_data"
    },
    {
     "data": {
      "text/html": [
       "<pre style=\"white-space:pre;overflow-x:auto;line-height:normal;font-family:Menlo,'DejaVu Sans Mono',consolas,'Courier New',monospace\">Running mean: <span style=\"color: #008080; text-decoration-color: #008080; font-weight: bold\">14.227</span> - Running variance: <span style=\"color: #008080; text-decoration-color: #008080; font-weight: bold\">12.055</span>\n",
       "</pre>\n"
      ],
      "text/plain": [
       "Running mean: \u001b[1;36m14.227\u001b[0m - Running variance: \u001b[1;36m12.055\u001b[0m\n"
      ]
     },
     "metadata": {},
     "output_type": "display_data"
    },
    {
     "data": {
      "text/html": [
       "<pre style=\"white-space:pre;overflow-x:auto;line-height:normal;font-family:Menlo,'DejaVu Sans Mono',consolas,'Courier New',monospace\">Running mean: <span style=\"color: #008080; text-decoration-color: #008080; font-weight: bold\">14.225</span> - Running variance: <span style=\"color: #008080; text-decoration-color: #008080; font-weight: bold\">12.035</span>\n",
       "</pre>\n"
      ],
      "text/plain": [
       "Running mean: \u001b[1;36m14.225\u001b[0m - Running variance: \u001b[1;36m12.035\u001b[0m\n"
      ]
     },
     "metadata": {},
     "output_type": "display_data"
    },
    {
     "data": {
      "text/html": [
       "<pre style=\"white-space:pre;overflow-x:auto;line-height:normal;font-family:Menlo,'DejaVu Sans Mono',consolas,'Courier New',monospace\">Running mean: <span style=\"color: #008080; text-decoration-color: #008080; font-weight: bold\">14.222</span> - Running variance: <span style=\"color: #008080; text-decoration-color: #008080; font-weight: bold\">12.016</span>\n",
       "</pre>\n"
      ],
      "text/plain": [
       "Running mean: \u001b[1;36m14.222\u001b[0m - Running variance: \u001b[1;36m12.016\u001b[0m\n"
      ]
     },
     "metadata": {},
     "output_type": "display_data"
    },
    {
     "data": {
      "text/html": [
       "<pre style=\"white-space:pre;overflow-x:auto;line-height:normal;font-family:Menlo,'DejaVu Sans Mono',consolas,'Courier New',monospace\">Running mean: <span style=\"color: #008080; text-decoration-color: #008080; font-weight: bold\">14.212</span> - Running variance: <span style=\"color: #008080; text-decoration-color: #008080; font-weight: bold\">12.040</span>\n",
       "</pre>\n"
      ],
      "text/plain": [
       "Running mean: \u001b[1;36m14.212\u001b[0m - Running variance: \u001b[1;36m12.040\u001b[0m\n"
      ]
     },
     "metadata": {},
     "output_type": "display_data"
    },
    {
     "data": {
      "text/html": [
       "<pre style=\"white-space:pre;overflow-x:auto;line-height:normal;font-family:Menlo,'DejaVu Sans Mono',consolas,'Courier New',monospace\">Running mean: <span style=\"color: #008080; text-decoration-color: #008080; font-weight: bold\">14.232</span> - Running variance: <span style=\"color: #008080; text-decoration-color: #008080; font-weight: bold\">12.224</span>\n",
       "</pre>\n"
      ],
      "text/plain": [
       "Running mean: \u001b[1;36m14.232\u001b[0m - Running variance: \u001b[1;36m12.224\u001b[0m\n"
      ]
     },
     "metadata": {},
     "output_type": "display_data"
    },
    {
     "data": {
      "text/html": [
       "<pre style=\"white-space:pre;overflow-x:auto;line-height:normal;font-family:Menlo,'DejaVu Sans Mono',consolas,'Courier New',monospace\">Running mean: <span style=\"color: #008080; text-decoration-color: #008080; font-weight: bold\">14.227</span> - Running variance: <span style=\"color: #008080; text-decoration-color: #008080; font-weight: bold\">12.218</span>\n",
       "</pre>\n"
      ],
      "text/plain": [
       "Running mean: \u001b[1;36m14.227\u001b[0m - Running variance: \u001b[1;36m12.218\u001b[0m\n"
      ]
     },
     "metadata": {},
     "output_type": "display_data"
    },
    {
     "data": {
      "text/html": [
       "<pre style=\"white-space:pre;overflow-x:auto;line-height:normal;font-family:Menlo,'DejaVu Sans Mono',consolas,'Courier New',monospace\">Running mean: <span style=\"color: #008080; text-decoration-color: #008080; font-weight: bold\">14.226</span> - Running variance: <span style=\"color: #008080; text-decoration-color: #008080; font-weight: bold\">12.195</span>\n",
       "</pre>\n"
      ],
      "text/plain": [
       "Running mean: \u001b[1;36m14.226\u001b[0m - Running variance: \u001b[1;36m12.195\u001b[0m\n"
      ]
     },
     "metadata": {},
     "output_type": "display_data"
    },
    {
     "data": {
      "text/html": [
       "<pre style=\"white-space:pre;overflow-x:auto;line-height:normal;font-family:Menlo,'DejaVu Sans Mono',consolas,'Courier New',monospace\">Running mean: <span style=\"color: #008080; text-decoration-color: #008080; font-weight: bold\">14.217</span> - Running variance: <span style=\"color: #008080; text-decoration-color: #008080; font-weight: bold\">12.208</span>\n",
       "</pre>\n"
      ],
      "text/plain": [
       "Running mean: \u001b[1;36m14.217\u001b[0m - Running variance: \u001b[1;36m12.208\u001b[0m\n"
      ]
     },
     "metadata": {},
     "output_type": "display_data"
    },
    {
     "data": {
      "text/html": [
       "<pre style=\"white-space:pre;overflow-x:auto;line-height:normal;font-family:Menlo,'DejaVu Sans Mono',consolas,'Courier New',monospace\">Running mean: <span style=\"color: #008080; text-decoration-color: #008080; font-weight: bold\">14.207</span> - Running variance: <span style=\"color: #008080; text-decoration-color: #008080; font-weight: bold\">12.245</span>\n",
       "</pre>\n"
      ],
      "text/plain": [
       "Running mean: \u001b[1;36m14.207\u001b[0m - Running variance: \u001b[1;36m12.245\u001b[0m\n"
      ]
     },
     "metadata": {},
     "output_type": "display_data"
    },
    {
     "data": {
      "text/html": [
       "<pre style=\"white-space:pre;overflow-x:auto;line-height:normal;font-family:Menlo,'DejaVu Sans Mono',consolas,'Courier New',monospace\">Running mean: <span style=\"color: #008080; text-decoration-color: #008080; font-weight: bold\">14.205</span> - Running variance: <span style=\"color: #008080; text-decoration-color: #008080; font-weight: bold\">12.223</span>\n",
       "</pre>\n"
      ],
      "text/plain": [
       "Running mean: \u001b[1;36m14.205\u001b[0m - Running variance: \u001b[1;36m12.223\u001b[0m\n"
      ]
     },
     "metadata": {},
     "output_type": "display_data"
    },
    {
     "data": {
      "text/html": [
       "<pre style=\"white-space:pre;overflow-x:auto;line-height:normal;font-family:Menlo,'DejaVu Sans Mono',consolas,'Courier New',monospace\">Running mean: <span style=\"color: #008080; text-decoration-color: #008080; font-weight: bold\">14.202</span> - Running variance: <span style=\"color: #008080; text-decoration-color: #008080; font-weight: bold\">12.207</span>\n",
       "</pre>\n"
      ],
      "text/plain": [
       "Running mean: \u001b[1;36m14.202\u001b[0m - Running variance: \u001b[1;36m12.207\u001b[0m\n"
      ]
     },
     "metadata": {},
     "output_type": "display_data"
    },
    {
     "data": {
      "text/html": [
       "<pre style=\"white-space:pre;overflow-x:auto;line-height:normal;font-family:Menlo,'DejaVu Sans Mono',consolas,'Courier New',monospace\">Running mean: <span style=\"color: #008080; text-decoration-color: #008080; font-weight: bold\">14.201</span> - Running variance: <span style=\"color: #008080; text-decoration-color: #008080; font-weight: bold\">12.184</span>\n",
       "</pre>\n"
      ],
      "text/plain": [
       "Running mean: \u001b[1;36m14.201\u001b[0m - Running variance: \u001b[1;36m12.184\u001b[0m\n"
      ]
     },
     "metadata": {},
     "output_type": "display_data"
    },
    {
     "data": {
      "text/html": [
       "<pre style=\"white-space:pre;overflow-x:auto;line-height:normal;font-family:Menlo,'DejaVu Sans Mono',consolas,'Courier New',monospace\">Running mean: <span style=\"color: #008080; text-decoration-color: #008080; font-weight: bold\">14.197</span> - Running variance: <span style=\"color: #008080; text-decoration-color: #008080; font-weight: bold\">12.169</span>\n",
       "</pre>\n"
      ],
      "text/plain": [
       "Running mean: \u001b[1;36m14.197\u001b[0m - Running variance: \u001b[1;36m12.169\u001b[0m\n"
      ]
     },
     "metadata": {},
     "output_type": "display_data"
    },
    {
     "data": {
      "text/html": [
       "<pre style=\"white-space:pre;overflow-x:auto;line-height:normal;font-family:Menlo,'DejaVu Sans Mono',consolas,'Courier New',monospace\">Running mean: <span style=\"color: #008080; text-decoration-color: #008080; font-weight: bold\">14.192</span> - Running variance: <span style=\"color: #008080; text-decoration-color: #008080; font-weight: bold\">12.158</span>\n",
       "</pre>\n"
      ],
      "text/plain": [
       "Running mean: \u001b[1;36m14.192\u001b[0m - Running variance: \u001b[1;36m12.158\u001b[0m\n"
      ]
     },
     "metadata": {},
     "output_type": "display_data"
    },
    {
     "data": {
      "text/html": [
       "<pre style=\"white-space:pre;overflow-x:auto;line-height:normal;font-family:Menlo,'DejaVu Sans Mono',consolas,'Courier New',monospace\">Running mean: <span style=\"color: #008080; text-decoration-color: #008080; font-weight: bold\">14.188</span> - Running variance: <span style=\"color: #008080; text-decoration-color: #008080; font-weight: bold\">12.147</span>\n",
       "</pre>\n"
      ],
      "text/plain": [
       "Running mean: \u001b[1;36m14.188\u001b[0m - Running variance: \u001b[1;36m12.147\u001b[0m\n"
      ]
     },
     "metadata": {},
     "output_type": "display_data"
    },
    {
     "data": {
      "text/html": [
       "<pre style=\"white-space:pre;overflow-x:auto;line-height:normal;font-family:Menlo,'DejaVu Sans Mono',consolas,'Courier New',monospace\">Running mean: <span style=\"color: #008080; text-decoration-color: #008080; font-weight: bold\">14.187</span> - Running variance: <span style=\"color: #008080; text-decoration-color: #008080; font-weight: bold\">12.124</span>\n",
       "</pre>\n"
      ],
      "text/plain": [
       "Running mean: \u001b[1;36m14.187\u001b[0m - Running variance: \u001b[1;36m12.124\u001b[0m\n"
      ]
     },
     "metadata": {},
     "output_type": "display_data"
    },
    {
     "data": {
      "text/html": [
       "<pre style=\"white-space:pre;overflow-x:auto;line-height:normal;font-family:Menlo,'DejaVu Sans Mono',consolas,'Courier New',monospace\">Running mean: <span style=\"color: #008080; text-decoration-color: #008080; font-weight: bold\">14.199</span> - Running variance: <span style=\"color: #008080; text-decoration-color: #008080; font-weight: bold\">12.175</span>\n",
       "</pre>\n"
      ],
      "text/plain": [
       "Running mean: \u001b[1;36m14.199\u001b[0m - Running variance: \u001b[1;36m12.175\u001b[0m\n"
      ]
     },
     "metadata": {},
     "output_type": "display_data"
    },
    {
     "data": {
      "text/html": [
       "<pre style=\"white-space:pre;overflow-x:auto;line-height:normal;font-family:Menlo,'DejaVu Sans Mono',consolas,'Courier New',monospace\">Running mean: <span style=\"color: #008080; text-decoration-color: #008080; font-weight: bold\">14.192</span> - Running variance: <span style=\"color: #008080; text-decoration-color: #008080; font-weight: bold\">12.172</span>\n",
       "</pre>\n"
      ],
      "text/plain": [
       "Running mean: \u001b[1;36m14.192\u001b[0m - Running variance: \u001b[1;36m12.172\u001b[0m\n"
      ]
     },
     "metadata": {},
     "output_type": "display_data"
    },
    {
     "data": {
      "text/html": [
       "<pre style=\"white-space:pre;overflow-x:auto;line-height:normal;font-family:Menlo,'DejaVu Sans Mono',consolas,'Courier New',monospace\">Running mean: <span style=\"color: #008080; text-decoration-color: #008080; font-weight: bold\">14.204</span> - Running variance: <span style=\"color: #008080; text-decoration-color: #008080; font-weight: bold\">12.225</span>\n",
       "</pre>\n"
      ],
      "text/plain": [
       "Running mean: \u001b[1;36m14.204\u001b[0m - Running variance: \u001b[1;36m12.225\u001b[0m\n"
      ]
     },
     "metadata": {},
     "output_type": "display_data"
    },
    {
     "data": {
      "text/html": [
       "<pre style=\"white-space:pre;overflow-x:auto;line-height:normal;font-family:Menlo,'DejaVu Sans Mono',consolas,'Courier New',monospace\">Running mean: <span style=\"color: #008080; text-decoration-color: #008080; font-weight: bold\">14.204</span> - Running variance: <span style=\"color: #008080; text-decoration-color: #008080; font-weight: bold\">12.202</span>\n",
       "</pre>\n"
      ],
      "text/plain": [
       "Running mean: \u001b[1;36m14.204\u001b[0m - Running variance: \u001b[1;36m12.202\u001b[0m\n"
      ]
     },
     "metadata": {},
     "output_type": "display_data"
    },
    {
     "data": {
      "text/html": [
       "<pre style=\"white-space:pre;overflow-x:auto;line-height:normal;font-family:Menlo,'DejaVu Sans Mono',consolas,'Courier New',monospace\">Running mean: <span style=\"color: #008080; text-decoration-color: #008080; font-weight: bold\">14.200</span> - Running variance: <span style=\"color: #008080; text-decoration-color: #008080; font-weight: bold\">12.191</span>\n",
       "</pre>\n"
      ],
      "text/plain": [
       "Running mean: \u001b[1;36m14.200\u001b[0m - Running variance: \u001b[1;36m12.191\u001b[0m\n"
      ]
     },
     "metadata": {},
     "output_type": "display_data"
    },
    {
     "data": {
      "text/html": [
       "<pre style=\"white-space:pre;overflow-x:auto;line-height:normal;font-family:Menlo,'DejaVu Sans Mono',consolas,'Courier New',monospace\">Running mean: <span style=\"color: #008080; text-decoration-color: #008080; font-weight: bold\">14.188</span> - Running variance: <span style=\"color: #008080; text-decoration-color: #008080; font-weight: bold\">12.246</span>\n",
       "</pre>\n"
      ],
      "text/plain": [
       "Running mean: \u001b[1;36m14.188\u001b[0m - Running variance: \u001b[1;36m12.246\u001b[0m\n"
      ]
     },
     "metadata": {},
     "output_type": "display_data"
    },
    {
     "data": {
      "text/html": [
       "<pre style=\"white-space:pre;overflow-x:auto;line-height:normal;font-family:Menlo,'DejaVu Sans Mono',consolas,'Courier New',monospace\">Running mean: <span style=\"color: #008080; text-decoration-color: #008080; font-weight: bold\">14.176</span> - Running variance: <span style=\"color: #008080; text-decoration-color: #008080; font-weight: bold\">12.301</span>\n",
       "</pre>\n"
      ],
      "text/plain": [
       "Running mean: \u001b[1;36m14.176\u001b[0m - Running variance: \u001b[1;36m12.301\u001b[0m\n"
      ]
     },
     "metadata": {},
     "output_type": "display_data"
    },
    {
     "data": {
      "text/html": [
       "<pre style=\"white-space:pre;overflow-x:auto;line-height:normal;font-family:Menlo,'DejaVu Sans Mono',consolas,'Courier New',monospace\">Running mean: <span style=\"color: #008080; text-decoration-color: #008080; font-weight: bold\">14.171</span> - Running variance: <span style=\"color: #008080; text-decoration-color: #008080; font-weight: bold\">12.291</span>\n",
       "</pre>\n"
      ],
      "text/plain": [
       "Running mean: \u001b[1;36m14.171\u001b[0m - Running variance: \u001b[1;36m12.291\u001b[0m\n"
      ]
     },
     "metadata": {},
     "output_type": "display_data"
    },
    {
     "data": {
      "text/html": [
       "<pre style=\"white-space:pre;overflow-x:auto;line-height:normal;font-family:Menlo,'DejaVu Sans Mono',consolas,'Courier New',monospace\">Running mean: <span style=\"color: #008080; text-decoration-color: #008080; font-weight: bold\">14.171</span> - Running variance: <span style=\"color: #008080; text-decoration-color: #008080; font-weight: bold\">12.269</span>\n",
       "</pre>\n"
      ],
      "text/plain": [
       "Running mean: \u001b[1;36m14.171\u001b[0m - Running variance: \u001b[1;36m12.269\u001b[0m\n"
      ]
     },
     "metadata": {},
     "output_type": "display_data"
    },
    {
     "data": {
      "text/html": [
       "<pre style=\"white-space:pre;overflow-x:auto;line-height:normal;font-family:Menlo,'DejaVu Sans Mono',consolas,'Courier New',monospace\">Running mean: <span style=\"color: #008080; text-decoration-color: #008080; font-weight: bold\">14.172</span> - Running variance: <span style=\"color: #008080; text-decoration-color: #008080; font-weight: bold\">12.247</span>\n",
       "</pre>\n"
      ],
      "text/plain": [
       "Running mean: \u001b[1;36m14.172\u001b[0m - Running variance: \u001b[1;36m12.247\u001b[0m\n"
      ]
     },
     "metadata": {},
     "output_type": "display_data"
    },
    {
     "data": {
      "text/html": [
       "<pre style=\"white-space:pre;overflow-x:auto;line-height:normal;font-family:Menlo,'DejaVu Sans Mono',consolas,'Courier New',monospace\">Running mean: <span style=\"color: #008080; text-decoration-color: #008080; font-weight: bold\">14.171</span> - Running variance: <span style=\"color: #008080; text-decoration-color: #008080; font-weight: bold\">12.226</span>\n",
       "</pre>\n"
      ],
      "text/plain": [
       "Running mean: \u001b[1;36m14.171\u001b[0m - Running variance: \u001b[1;36m12.226\u001b[0m\n"
      ]
     },
     "metadata": {},
     "output_type": "display_data"
    },
    {
     "data": {
      "text/html": [
       "<pre style=\"white-space:pre;overflow-x:auto;line-height:normal;font-family:Menlo,'DejaVu Sans Mono',consolas,'Courier New',monospace\">Running mean: <span style=\"color: #008080; text-decoration-color: #008080; font-weight: bold\">14.170</span> - Running variance: <span style=\"color: #008080; text-decoration-color: #008080; font-weight: bold\">12.204</span>\n",
       "</pre>\n"
      ],
      "text/plain": [
       "Running mean: \u001b[1;36m14.170\u001b[0m - Running variance: \u001b[1;36m12.204\u001b[0m\n"
      ]
     },
     "metadata": {},
     "output_type": "display_data"
    },
    {
     "data": {
      "text/html": [
       "<pre style=\"white-space:pre;overflow-x:auto;line-height:normal;font-family:Menlo,'DejaVu Sans Mono',consolas,'Courier New',monospace\">Running mean: <span style=\"color: #008080; text-decoration-color: #008080; font-weight: bold\">14.169</span> - Running variance: <span style=\"color: #008080; text-decoration-color: #008080; font-weight: bold\">12.182</span>\n",
       "</pre>\n"
      ],
      "text/plain": [
       "Running mean: \u001b[1;36m14.169\u001b[0m - Running variance: \u001b[1;36m12.182\u001b[0m\n"
      ]
     },
     "metadata": {},
     "output_type": "display_data"
    },
    {
     "data": {
      "text/html": [
       "<pre style=\"white-space:pre;overflow-x:auto;line-height:normal;font-family:Menlo,'DejaVu Sans Mono',consolas,'Courier New',monospace\">Running mean: <span style=\"color: #008080; text-decoration-color: #008080; font-weight: bold\">14.162</span> - Running variance: <span style=\"color: #008080; text-decoration-color: #008080; font-weight: bold\">12.187</span>\n",
       "</pre>\n"
      ],
      "text/plain": [
       "Running mean: \u001b[1;36m14.162\u001b[0m - Running variance: \u001b[1;36m12.187\u001b[0m\n"
      ]
     },
     "metadata": {},
     "output_type": "display_data"
    },
    {
     "data": {
      "text/html": [
       "<pre style=\"white-space:pre;overflow-x:auto;line-height:normal;font-family:Menlo,'DejaVu Sans Mono',consolas,'Courier New',monospace\">Running mean: <span style=\"color: #008080; text-decoration-color: #008080; font-weight: bold\">14.155</span> - Running variance: <span style=\"color: #008080; text-decoration-color: #008080; font-weight: bold\">12.192</span>\n",
       "</pre>\n"
      ],
      "text/plain": [
       "Running mean: \u001b[1;36m14.155\u001b[0m - Running variance: \u001b[1;36m12.192\u001b[0m\n"
      ]
     },
     "metadata": {},
     "output_type": "display_data"
    },
    {
     "data": {
      "text/html": [
       "<pre style=\"white-space:pre;overflow-x:auto;line-height:normal;font-family:Menlo,'DejaVu Sans Mono',consolas,'Courier New',monospace\">Running mean: <span style=\"color: #008080; text-decoration-color: #008080; font-weight: bold\">14.147</span> - Running variance: <span style=\"color: #008080; text-decoration-color: #008080; font-weight: bold\">12.206</span>\n",
       "</pre>\n"
      ],
      "text/plain": [
       "Running mean: \u001b[1;36m14.147\u001b[0m - Running variance: \u001b[1;36m12.206\u001b[0m\n"
      ]
     },
     "metadata": {},
     "output_type": "display_data"
    },
    {
     "data": {
      "text/html": [
       "<pre style=\"white-space:pre;overflow-x:auto;line-height:normal;font-family:Menlo,'DejaVu Sans Mono',consolas,'Courier New',monospace\">Running mean: <span style=\"color: #008080; text-decoration-color: #008080; font-weight: bold\">14.141</span> - Running variance: <span style=\"color: #008080; text-decoration-color: #008080; font-weight: bold\">12.204</span>\n",
       "</pre>\n"
      ],
      "text/plain": [
       "Running mean: \u001b[1;36m14.141\u001b[0m - Running variance: \u001b[1;36m12.204\u001b[0m\n"
      ]
     },
     "metadata": {},
     "output_type": "display_data"
    },
    {
     "data": {
      "text/html": [
       "<pre style=\"white-space:pre;overflow-x:auto;line-height:normal;font-family:Menlo,'DejaVu Sans Mono',consolas,'Courier New',monospace\">Running mean: <span style=\"color: #008080; text-decoration-color: #008080; font-weight: bold\">14.135</span> - Running variance: <span style=\"color: #008080; text-decoration-color: #008080; font-weight: bold\">12.202</span>\n",
       "</pre>\n"
      ],
      "text/plain": [
       "Running mean: \u001b[1;36m14.135\u001b[0m - Running variance: \u001b[1;36m12.202\u001b[0m\n"
      ]
     },
     "metadata": {},
     "output_type": "display_data"
    },
    {
     "data": {
      "text/html": [
       "<pre style=\"white-space:pre;overflow-x:auto;line-height:normal;font-family:Menlo,'DejaVu Sans Mono',consolas,'Courier New',monospace\">Running mean: <span style=\"color: #008080; text-decoration-color: #008080; font-weight: bold\">14.129</span> - Running variance: <span style=\"color: #008080; text-decoration-color: #008080; font-weight: bold\">12.196</span>\n",
       "</pre>\n"
      ],
      "text/plain": [
       "Running mean: \u001b[1;36m14.129\u001b[0m - Running variance: \u001b[1;36m12.196\u001b[0m\n"
      ]
     },
     "metadata": {},
     "output_type": "display_data"
    },
    {
     "data": {
      "text/html": [
       "<pre style=\"white-space:pre;overflow-x:auto;line-height:normal;font-family:Menlo,'DejaVu Sans Mono',consolas,'Courier New',monospace\">Running mean: <span style=\"color: #008080; text-decoration-color: #008080; font-weight: bold\">14.127</span> - Running variance: <span style=\"color: #008080; text-decoration-color: #008080; font-weight: bold\">12.177</span>\n",
       "</pre>\n"
      ],
      "text/plain": [
       "Running mean: \u001b[1;36m14.127\u001b[0m - Running variance: \u001b[1;36m12.177\u001b[0m\n"
      ]
     },
     "metadata": {},
     "output_type": "display_data"
    },
    {
     "data": {
      "text/html": [
       "<pre style=\"white-space:pre;overflow-x:auto;line-height:normal;font-family:Menlo,'DejaVu Sans Mono',consolas,'Courier New',monospace\">Running mean: <span style=\"color: #008080; text-decoration-color: #008080; font-weight: bold\">14.118</span> - Running variance: <span style=\"color: #008080; text-decoration-color: #008080; font-weight: bold\">12.197</span>\n",
       "</pre>\n"
      ],
      "text/plain": [
       "Running mean: \u001b[1;36m14.118\u001b[0m - Running variance: \u001b[1;36m12.197\u001b[0m\n"
      ]
     },
     "metadata": {},
     "output_type": "display_data"
    },
    {
     "data": {
      "text/html": [
       "<pre style=\"white-space:pre;overflow-x:auto;line-height:normal;font-family:Menlo,'DejaVu Sans Mono',consolas,'Courier New',monospace\">Running mean: <span style=\"color: #008080; text-decoration-color: #008080; font-weight: bold\">14.116</span> - Running variance: <span style=\"color: #008080; text-decoration-color: #008080; font-weight: bold\">12.177</span>\n",
       "</pre>\n"
      ],
      "text/plain": [
       "Running mean: \u001b[1;36m14.116\u001b[0m - Running variance: \u001b[1;36m12.177\u001b[0m\n"
      ]
     },
     "metadata": {},
     "output_type": "display_data"
    },
    {
     "data": {
      "text/html": [
       "<pre style=\"white-space:pre;overflow-x:auto;line-height:normal;font-family:Menlo,'DejaVu Sans Mono',consolas,'Courier New',monospace\">Running mean: <span style=\"color: #008080; text-decoration-color: #008080; font-weight: bold\">14.109</span> - Running variance: <span style=\"color: #008080; text-decoration-color: #008080; font-weight: bold\">12.182</span>\n",
       "</pre>\n"
      ],
      "text/plain": [
       "Running mean: \u001b[1;36m14.109\u001b[0m - Running variance: \u001b[1;36m12.182\u001b[0m\n"
      ]
     },
     "metadata": {},
     "output_type": "display_data"
    },
    {
     "data": {
      "text/html": [
       "<pre style=\"white-space:pre;overflow-x:auto;line-height:normal;font-family:Menlo,'DejaVu Sans Mono',consolas,'Courier New',monospace\">Running mean: <span style=\"color: #008080; text-decoration-color: #008080; font-weight: bold\">14.102</span> - Running variance: <span style=\"color: #008080; text-decoration-color: #008080; font-weight: bold\">12.188</span>\n",
       "</pre>\n"
      ],
      "text/plain": [
       "Running mean: \u001b[1;36m14.102\u001b[0m - Running variance: \u001b[1;36m12.188\u001b[0m\n"
      ]
     },
     "metadata": {},
     "output_type": "display_data"
    },
    {
     "data": {
      "text/html": [
       "<pre style=\"white-space:pre;overflow-x:auto;line-height:normal;font-family:Menlo,'DejaVu Sans Mono',consolas,'Courier New',monospace\">Running mean: <span style=\"color: #008080; text-decoration-color: #008080; font-weight: bold\">14.094</span> - Running variance: <span style=\"color: #008080; text-decoration-color: #008080; font-weight: bold\">12.205</span>\n",
       "</pre>\n"
      ],
      "text/plain": [
       "Running mean: \u001b[1;36m14.094\u001b[0m - Running variance: \u001b[1;36m12.205\u001b[0m\n"
      ]
     },
     "metadata": {},
     "output_type": "display_data"
    },
    {
     "data": {
      "text/html": [
       "<pre style=\"white-space:pre;overflow-x:auto;line-height:normal;font-family:Menlo,'DejaVu Sans Mono',consolas,'Courier New',monospace\">Running mean: <span style=\"color: #008080; text-decoration-color: #008080; font-weight: bold\">14.095</span> - Running variance: <span style=\"color: #008080; text-decoration-color: #008080; font-weight: bold\">12.184</span>\n",
       "</pre>\n"
      ],
      "text/plain": [
       "Running mean: \u001b[1;36m14.095\u001b[0m - Running variance: \u001b[1;36m12.184\u001b[0m\n"
      ]
     },
     "metadata": {},
     "output_type": "display_data"
    },
    {
     "data": {
      "text/html": [
       "<pre style=\"white-space:pre;overflow-x:auto;line-height:normal;font-family:Menlo,'DejaVu Sans Mono',consolas,'Courier New',monospace\">Running mean: <span style=\"color: #008080; text-decoration-color: #008080; font-weight: bold\">14.090</span> - Running variance: <span style=\"color: #008080; text-decoration-color: #008080; font-weight: bold\">12.174</span>\n",
       "</pre>\n"
      ],
      "text/plain": [
       "Running mean: \u001b[1;36m14.090\u001b[0m - Running variance: \u001b[1;36m12.174\u001b[0m\n"
      ]
     },
     "metadata": {},
     "output_type": "display_data"
    },
    {
     "data": {
      "text/html": [
       "<pre style=\"white-space:pre;overflow-x:auto;line-height:normal;font-family:Menlo,'DejaVu Sans Mono',consolas,'Courier New',monospace\">Running mean: <span style=\"color: #008080; text-decoration-color: #008080; font-weight: bold\">14.090</span> - Running variance: <span style=\"color: #008080; text-decoration-color: #008080; font-weight: bold\">12.152</span>\n",
       "</pre>\n"
      ],
      "text/plain": [
       "Running mean: \u001b[1;36m14.090\u001b[0m - Running variance: \u001b[1;36m12.152\u001b[0m\n"
      ]
     },
     "metadata": {},
     "output_type": "display_data"
    },
    {
     "data": {
      "text/html": [
       "<pre style=\"white-space:pre;overflow-x:auto;line-height:normal;font-family:Menlo,'DejaVu Sans Mono',consolas,'Courier New',monospace\">Running mean: <span style=\"color: #008080; text-decoration-color: #008080; font-weight: bold\">14.085</span> - Running variance: <span style=\"color: #008080; text-decoration-color: #008080; font-weight: bold\">12.145</span>\n",
       "</pre>\n"
      ],
      "text/plain": [
       "Running mean: \u001b[1;36m14.085\u001b[0m - Running variance: \u001b[1;36m12.145\u001b[0m\n"
      ]
     },
     "metadata": {},
     "output_type": "display_data"
    },
    {
     "data": {
      "text/html": [
       "<pre style=\"white-space:pre;overflow-x:auto;line-height:normal;font-family:Menlo,'DejaVu Sans Mono',consolas,'Courier New',monospace\">Running mean: <span style=\"color: #008080; text-decoration-color: #008080; font-weight: bold\">14.087</span> - Running variance: <span style=\"color: #008080; text-decoration-color: #008080; font-weight: bold\">12.126</span>\n",
       "</pre>\n"
      ],
      "text/plain": [
       "Running mean: \u001b[1;36m14.087\u001b[0m - Running variance: \u001b[1;36m12.126\u001b[0m\n"
      ]
     },
     "metadata": {},
     "output_type": "display_data"
    },
    {
     "data": {
      "text/html": [
       "<pre style=\"white-space:pre;overflow-x:auto;line-height:normal;font-family:Menlo,'DejaVu Sans Mono',consolas,'Courier New',monospace\">Running mean: <span style=\"color: #008080; text-decoration-color: #008080; font-weight: bold\">14.099</span> - Running variance: <span style=\"color: #008080; text-decoration-color: #008080; font-weight: bold\">12.187</span>\n",
       "</pre>\n"
      ],
      "text/plain": [
       "Running mean: \u001b[1;36m14.099\u001b[0m - Running variance: \u001b[1;36m12.187\u001b[0m\n"
      ]
     },
     "metadata": {},
     "output_type": "display_data"
    },
    {
     "data": {
      "text/html": [
       "<pre style=\"white-space:pre;overflow-x:auto;line-height:normal;font-family:Menlo,'DejaVu Sans Mono',consolas,'Courier New',monospace\">Running mean: <span style=\"color: #008080; text-decoration-color: #008080; font-weight: bold\">14.112</span> - Running variance: <span style=\"color: #008080; text-decoration-color: #008080; font-weight: bold\">12.264</span>\n",
       "</pre>\n"
      ],
      "text/plain": [
       "Running mean: \u001b[1;36m14.112\u001b[0m - Running variance: \u001b[1;36m12.264\u001b[0m\n"
      ]
     },
     "metadata": {},
     "output_type": "display_data"
    },
    {
     "data": {
      "text/html": [
       "<pre style=\"white-space:pre;overflow-x:auto;line-height:normal;font-family:Menlo,'DejaVu Sans Mono',consolas,'Courier New',monospace\">Running mean: <span style=\"color: #008080; text-decoration-color: #008080; font-weight: bold\">14.123</span> - Running variance: <span style=\"color: #008080; text-decoration-color: #008080; font-weight: bold\">12.306</span>\n",
       "</pre>\n"
      ],
      "text/plain": [
       "Running mean: \u001b[1;36m14.123\u001b[0m - Running variance: \u001b[1;36m12.306\u001b[0m\n"
      ]
     },
     "metadata": {},
     "output_type": "display_data"
    },
    {
     "data": {
      "text/html": [
       "<pre style=\"white-space:pre;overflow-x:auto;line-height:normal;font-family:Menlo,'DejaVu Sans Mono',consolas,'Courier New',monospace\">Running mean: <span style=\"color: #008080; text-decoration-color: #008080; font-weight: bold\">14.127</span> - Running variance: <span style=\"color: #008080; text-decoration-color: #008080; font-weight: bold\">12.295</span>\n",
       "</pre>\n"
      ],
      "text/plain": [
       "Running mean: \u001b[1;36m14.127\u001b[0m - Running variance: \u001b[1;36m12.295\u001b[0m\n"
      ]
     },
     "metadata": {},
     "output_type": "display_data"
    },
    {
     "data": {
      "text/html": [
       "<pre style=\"white-space:pre;overflow-x:auto;line-height:normal;font-family:Menlo,'DejaVu Sans Mono',consolas,'Courier New',monospace\">Running mean: <span style=\"color: #008080; text-decoration-color: #008080; font-weight: bold\">14.139</span> - Running variance: <span style=\"color: #008080; text-decoration-color: #008080; font-weight: bold\">12.347</span>\n",
       "</pre>\n"
      ],
      "text/plain": [
       "Running mean: \u001b[1;36m14.139\u001b[0m - Running variance: \u001b[1;36m12.347\u001b[0m\n"
      ]
     },
     "metadata": {},
     "output_type": "display_data"
    },
    {
     "data": {
      "text/html": [
       "<pre style=\"white-space:pre;overflow-x:auto;line-height:normal;font-family:Menlo,'DejaVu Sans Mono',consolas,'Courier New',monospace\">Running mean: <span style=\"color: #008080; text-decoration-color: #008080; font-weight: bold\">14.127</span> - Running variance: <span style=\"color: #008080; text-decoration-color: #008080; font-weight: bold\">12.397</span>\n",
       "</pre>\n"
      ],
      "text/plain": [
       "Running mean: \u001b[1;36m14.127\u001b[0m - Running variance: \u001b[1;36m12.397\u001b[0m\n"
      ]
     },
     "metadata": {},
     "output_type": "display_data"
    },
    {
     "data": {
      "text/html": [
       "<pre style=\"white-space:pre;overflow-x:auto;line-height:normal;font-family:Menlo,'DejaVu Sans Mono',consolas,'Courier New',monospace\">Mean: <span style=\"color: #008080; text-decoration-color: #008080; font-weight: bold\">14.127</span> - Variance: <span style=\"color: #008080; text-decoration-color: #008080; font-weight: bold\">12.397</span>\n",
       "</pre>\n"
      ],
      "text/plain": [
       "Mean: \u001b[1;36m14.127\u001b[0m - Variance: \u001b[1;36m12.397\u001b[0m\n"
      ]
     },
     "metadata": {},
     "output_type": "display_data"
    }
   ],
   "source": [
    "#Let's inicialize the variables before any rolling calculation\n",
    "n, mean, s, variance = 0, 0, 0, 0\n",
    "\n",
    "for xi, yi in stream.iter_sklearn_dataset(load_breast_cancer()):\n",
    "    n += 1\n",
    "    mean_t = mean\n",
    "    mean += (xi['mean radius'] - mean_t) / n\n",
    "    s += (xi['mean radius'] - mean_t) * (xi['mean radius'] - mean)\n",
    "    variance = s / n\n",
    "\n",
    "    print(f'Running mean: {mean:.3f} - Running variance: {variance:.3f}')\n",
    "    \n",
    "print(f'Mean: {mean:.3f} - Variance: {variance:.3f}')"
   ]
  },
  {
   "cell_type": "markdown",
   "id": "2047a5fd",
   "metadata": {},
   "source": [
    "Now, compare the results with the ones implementations of `numpy`. "
   ]
  },
  {
   "cell_type": "code",
   "execution_count": 6,
   "id": "2c4b5123",
   "metadata": {},
   "outputs": [
    {
     "data": {
      "text/html": [
       "<pre style=\"white-space:pre;overflow-x:auto;line-height:normal;font-family:Menlo,'DejaVu Sans Mono',consolas,'Courier New',monospace\"><span style=\"color: #00ff00; text-decoration-color: #00ff00; font-style: italic\">True</span> mean: <span style=\"color: #008080; text-decoration-color: #008080; font-weight: bold\">14.127</span>\n",
       "</pre>\n"
      ],
      "text/plain": [
       "\u001b[3;92mTrue\u001b[0m mean: \u001b[1;36m14.127\u001b[0m\n"
      ]
     },
     "metadata": {},
     "output_type": "display_data"
    },
    {
     "data": {
      "text/html": [
       "<pre style=\"white-space:pre;overflow-x:auto;line-height:normal;font-family:Menlo,'DejaVu Sans Mono',consolas,'Courier New',monospace\"><span style=\"color: #00ff00; text-decoration-color: #00ff00; font-style: italic\">True</span> variance: <span style=\"color: #008080; text-decoration-color: #008080; font-weight: bold\">12.397</span>\n",
       "</pre>\n"
      ],
      "text/plain": [
       "\u001b[3;92mTrue\u001b[0m variance: \u001b[1;36m12.397\u001b[0m\n"
      ]
     },
     "metadata": {},
     "output_type": "display_data"
    }
   ],
   "source": [
    "import numpy as np\n",
    "i = list(dataset.feature_names).index('mean radius')\n",
    "print(f'True mean: {np.mean(X[:, i]):.3f}')\n",
    "print(f'True variance: {np.var(X[:, i]):.3f}')"
   ]
  },
  {
   "cell_type": "markdown",
   "id": "6e3af056",
   "metadata": {},
   "source": [
    "The results are identical with a key difference, the `numpy`implementation requires all data to be available for the calculation while the another is calculated as the problem progress in its development. Therefore, we should keep in mind that the results with a few instances are not going to be very accurate. \n",
    "\n",
    "So, once we can calculate different statistics on the data, the next step is to use those in order to normalize or standarize the data in a similar way as the batched approach. In `river`, several functions has been implemented in this sense in the `preprocessing` module. For example, to standarize all the features of the previous example we can perform:"
   ]
  },
  {
   "cell_type": "code",
   "execution_count": 7,
   "id": "5d2928b6",
   "metadata": {},
   "outputs": [],
   "source": [
    "from river.preprocessing import StandardScaler\n",
    "\n",
    "scaler = StandardScaler()\n",
    "\n",
    "for xi, yi in stream.iter_sklearn_dataset(load_breast_cancer()):\n",
    "    scaler = scaler.learn_one(xi)"
   ]
  },
  {
   "cell_type": "markdown",
   "id": "8dc7ab89",
   "metadata": {},
   "source": [
    "So, now that we are scaling the data, we can step forward and perform some machine learning approach. In this example, we are going to implement a linear regression based on an *stochastic gradient descent (SGD)*. The idea behind it is to optimize the output of the linear regression based on the maximum variance of the error made between the prediction and the true output. In this particular case, the *Squared Error* is the loss function in order to elude possible compensations due to signal change."
   ]
  },
  {
   "cell_type": "code",
   "execution_count": 8,
   "id": "b3298b4f",
   "metadata": {},
   "outputs": [
    {
     "data": {
      "text/html": [
       "<pre style=\"white-space:pre;overflow-x:auto;line-height:normal;font-family:Menlo,'DejaVu Sans Mono',consolas,'Courier New',monospace\">ROC AUC: <span style=\"color: #008080; text-decoration-color: #008080; font-weight: bold\">0.9896</span>\n",
       "</pre>\n"
      ],
      "text/plain": [
       "ROC AUC: \u001b[1;36m0.9896\u001b[0m\n"
      ]
     },
     "metadata": {},
     "output_type": "display_data"
    }
   ],
   "source": [
    "from river.linear_model import LogisticRegression\n",
    "from river.optim import SGD\n",
    "\n",
    "scaler = StandardScaler()\n",
    "optimizer = SGD(lr=0.01)\n",
    "log_reg = LogisticRegression(optimizer)\n",
    "\n",
    "y_true = []\n",
    "y_pred = []\n",
    "\n",
    "for xi, yi in stream.iter_sklearn_dataset(load_breast_cancer(), shuffle=True, seed=42):\n",
    "\n",
    "    # Scale the features\n",
    "    xi_scaled = scaler.learn_one(xi).transform_one(xi)\n",
    "\n",
    "    # Test the current model on the new \"unobserved\" sample\n",
    "    yi_pred = log_reg.predict_proba_one(xi_scaled)\n",
    "    # Train the model with the new sample\n",
    "    log_reg.learn_one(xi_scaled, yi)\n",
    "\n",
    "    # Store the truth and the prediction\n",
    "    y_true.append(yi)\n",
    "    y_pred.append(yi_pred[True])\n",
    "\n",
    "print(f'ROC AUC: {roc_auc_score(y_true, y_pred):.4f}')"
   ]
  },
  {
   "cell_type": "markdown",
   "id": "93c805e6",
   "metadata": {},
   "source": [
    "The results seem to be a little better than the ones from `scikit-learn`. Let's make a proper comparison, to do that, we should use the same CV folds for each approach and compare the results. Although, we could define the same process quite easily, in order to make them completely comparable, `river` provides a module called `compat` which improves the compatibility with other Python libraries such as sklearn. So, we can use the function `convert_river_to_sklearn` to obtain an object perfectly compatible with the functions of `scikit-learn`."
   ]
  },
  {
   "cell_type": "code",
   "execution_count": 9,
   "id": "b7b732fa",
   "metadata": {},
   "outputs": [
    {
     "data": {
      "text/html": [
       "<pre style=\"white-space:pre;overflow-x:auto;line-height:normal;font-family:Menlo,'DejaVu Sans Mono',consolas,'Courier New',monospace\">ROC AUC: <span style=\"color: #008080; text-decoration-color: #008080; font-weight: bold\">0.9639</span> <span style=\"font-weight: bold\">(</span>± <span style=\"color: #008080; text-decoration-color: #008080; font-weight: bold\">0.0158</span><span style=\"font-weight: bold\">)</span>\n",
       "</pre>\n"
      ],
      "text/plain": [
       "ROC AUC: \u001b[1;36m0.9639\u001b[0m \u001b[1m(\u001b[0m± \u001b[1;36m0.0158\u001b[0m\u001b[1m)\u001b[0m\n"
      ]
     },
     "metadata": {},
     "output_type": "display_data"
    }
   ],
   "source": [
    "from river.compose import Pipeline\n",
    "from river.compat import convert_river_to_sklearn\n",
    "\n",
    "\n",
    "# We define a Pipeline, becasuse we need a single object \n",
    "model = Pipeline(\n",
    "    ('scale', StandardScaler()),\n",
    "    ('ml_model', LogisticRegression())\n",
    ")\n",
    "\n",
    "# This funtion returns an object of type SKLRegressorWrapper \n",
    "# which is compatible with the signature of sklearn\n",
    "model = convert_river_to_sklearn(model)\n",
    "\n",
    "# Now, we can proceed using the cross_val_score from \n",
    "# sklearn with the River wrapped model\n",
    "scores = cross_val_score(model, X, y, scoring=scorer, cv=cv)\n",
    "\n",
    "# Let's compare the results\n",
    "print(f'ROC AUC: {scores.mean():.4f} (± {scores.std():.4f})')"
   ]
  },
  {
   "cell_type": "markdown",
   "id": "4ab62582",
   "metadata": {},
   "source": [
    "Although they are lower than the previous test, the results are comparable to the batch learning approach. "
   ]
  },
  {
   "cell_type": "markdown",
   "id": "49dcecff",
   "metadata": {},
   "source": [
    "# Pipelines\n",
    "\n",
    "Although it has been barely introduce in the previous section, many times the \"flow\" of information in a machine learning approach can be modeled as a sequence of steps. In order to perform this operation, some libreries such as `scikit=learn` or `pandas` have the definition of objects to contain this type of definition. \n",
    "\n",
    "However, in practice, you are going to see very few use of the pipes because, for most developers, it is easier to think their workflows in a procedural way instead of a declarative one. The main reason is due to the mayority of batch machine learning, however, when we talk about online learning, pipelines seems the more natural way to reason. Let's compare the same process perform with a procedural approach and with a declarative one which is based on pipelines.\n",
    "\n",
    "Now we are going to change the problem for one of Kaggle Competitions. "
   ]
  },
  {
   "cell_type": "code",
   "execution_count": 10,
   "id": "75f1207e",
   "metadata": {},
   "outputs": [
    {
     "data": {
      "text/html": [
       "<pre style=\"white-space:pre;overflow-x:auto;line-height:normal;font-family:Menlo,'DejaVu Sans Mono',consolas,'Courier New',monospace\">Data from the Kaggle Recruit Restaurants challenge.\n",
       "\n",
       "The goal is to predict the number of visitors in each of <span style=\"color: #008080; text-decoration-color: #008080; font-weight: bold\">829</span> Japanese restaurants over a priod\n",
       "of roughly <span style=\"color: #008080; text-decoration-color: #008080; font-weight: bold\">16</span> weeks. The data is ordered by date and then by restaurant ID.\n",
       "\n",
       "      Name  Restaurants                                                               \n",
       "      Task  Regression                                                                \n",
       "   Samples  <span style=\"color: #008080; text-decoration-color: #008080; font-weight: bold\">252</span>,<span style=\"color: #008080; text-decoration-color: #008080; font-weight: bold\">108</span>                                                                   \n",
       "  Features  <span style=\"color: #008080; text-decoration-color: #008080; font-weight: bold\">7</span>                                                                         \n",
       "    Sparse  <span style=\"color: #ff0000; text-decoration-color: #ff0000; font-style: italic\">False</span>                                                                     \n",
       "      Path  <span style=\"color: #800080; text-decoration-color: #800080\">/home/david/river_data/Restaurants/</span><span style=\"color: #ff00ff; text-decoration-color: #ff00ff\">kaggle_recruit_restaurants.csv</span>         \n",
       "       URL  <span style=\"color: #0000ff; text-decoration-color: #0000ff; text-decoration: underline\">https://maxhalford.github.io/files/datasets/kaggle_recruit_restaurants.zip</span>\n",
       "      Size  <span style=\"color: #008080; text-decoration-color: #008080; font-weight: bold\">27.54</span> MB                                                                  \n",
       "Downloaded  <span style=\"color: #00ff00; text-decoration-color: #00ff00; font-style: italic\">True</span>                                                                      \n",
       "</pre>\n"
      ],
      "text/plain": [
       "Data from the Kaggle Recruit Restaurants challenge.\n",
       "\n",
       "The goal is to predict the number of visitors in each of \u001b[1;36m829\u001b[0m Japanese restaurants over a priod\n",
       "of roughly \u001b[1;36m16\u001b[0m weeks. The data is ordered by date and then by restaurant ID.\n",
       "\n",
       "      Name  Restaurants                                                               \n",
       "      Task  Regression                                                                \n",
       "   Samples  \u001b[1;36m252\u001b[0m,\u001b[1;36m108\u001b[0m                                                                   \n",
       "  Features  \u001b[1;36m7\u001b[0m                                                                         \n",
       "    Sparse  \u001b[3;91mFalse\u001b[0m                                                                     \n",
       "      Path  \u001b[35m/home/david/river_data/Restaurants/\u001b[0m\u001b[95mkaggle_recruit_restaurants.csv\u001b[0m         \n",
       "       URL  \u001b[4;94mhttps://maxhalford.github.io/files/datasets/kaggle_recruit_restaurants.zip\u001b[0m\n",
       "      Size  \u001b[1;36m27.54\u001b[0m MB                                                                  \n",
       "Downloaded  \u001b[3;92mTrue\u001b[0m                                                                      \n"
      ]
     },
     "metadata": {},
     "output_type": "display_data"
    }
   ],
   "source": [
    "from rich import print\n",
    "from river.datasets import Restaurants\n",
    "\n",
    "data = Restaurants()\n",
    "\n",
    "print(data)"
   ]
  },
  {
   "cell_type": "markdown",
   "id": "caf71766",
   "metadata": {},
   "source": [
    "Lets check the structure of the data:"
   ]
  },
  {
   "cell_type": "code",
   "execution_count": 11,
   "id": "72a9e508",
   "metadata": {},
   "outputs": [
    {
     "data": {
      "text/html": [
       "<pre style=\"white-space:pre;overflow-x:auto;line-height:normal;font-family:Menlo,'DejaVu Sans Mono',consolas,'Courier New',monospace\"><span style=\"font-weight: bold\">(</span>\n",
       "    <span style=\"font-weight: bold\">{</span>\n",
       "        <span style=\"color: #008000; text-decoration-color: #008000\">'store_id'</span>: <span style=\"color: #008000; text-decoration-color: #008000\">'air_04341b588bde96cd'</span>,\n",
       "        <span style=\"color: #008000; text-decoration-color: #008000\">'date'</span>: <span style=\"color: #800080; text-decoration-color: #800080; font-weight: bold\">datetime.datetime</span><span style=\"font-weight: bold\">(</span><span style=\"color: #008080; text-decoration-color: #008080; font-weight: bold\">2016</span>, <span style=\"color: #008080; text-decoration-color: #008080; font-weight: bold\">1</span>, <span style=\"color: #008080; text-decoration-color: #008080; font-weight: bold\">1</span>, <span style=\"color: #008080; text-decoration-color: #008080; font-weight: bold\">0</span>, <span style=\"color: #008080; text-decoration-color: #008080; font-weight: bold\">0</span><span style=\"font-weight: bold\">)</span>,\n",
       "        <span style=\"color: #008000; text-decoration-color: #008000\">'is_holiday'</span>: <span style=\"color: #00ff00; text-decoration-color: #00ff00; font-style: italic\">True</span>,\n",
       "        <span style=\"color: #008000; text-decoration-color: #008000\">'genre_name'</span>: <span style=\"color: #008000; text-decoration-color: #008000\">'Izakaya'</span>,\n",
       "        <span style=\"color: #008000; text-decoration-color: #008000\">'area_name'</span>: <span style=\"color: #008000; text-decoration-color: #008000\">'Tōkyō-to Nerima-ku Toyotamakita'</span>,\n",
       "        <span style=\"color: #008000; text-decoration-color: #008000\">'latitude'</span>: <span style=\"color: #008080; text-decoration-color: #008080; font-weight: bold\">35.7356234</span>,\n",
       "        <span style=\"color: #008000; text-decoration-color: #008000\">'longitude'</span>: <span style=\"color: #008080; text-decoration-color: #008080; font-weight: bold\">139.6516577</span>\n",
       "    <span style=\"font-weight: bold\">}</span>,\n",
       "    <span style=\"color: #008080; text-decoration-color: #008080; font-weight: bold\">10</span>\n",
       "<span style=\"font-weight: bold\">)</span>\n",
       "</pre>\n"
      ],
      "text/plain": [
       "\u001b[1m(\u001b[0m\n",
       "    \u001b[1m{\u001b[0m\n",
       "        \u001b[32m'store_id'\u001b[0m: \u001b[32m'air_04341b588bde96cd'\u001b[0m,\n",
       "        \u001b[32m'date'\u001b[0m: \u001b[1;35mdatetime.datetime\u001b[0m\u001b[1m(\u001b[0m\u001b[1;36m2016\u001b[0m, \u001b[1;36m1\u001b[0m, \u001b[1;36m1\u001b[0m, \u001b[1;36m0\u001b[0m, \u001b[1;36m0\u001b[0m\u001b[1m)\u001b[0m,\n",
       "        \u001b[32m'is_holiday'\u001b[0m: \u001b[3;92mTrue\u001b[0m,\n",
       "        \u001b[32m'genre_name'\u001b[0m: \u001b[32m'Izakaya'\u001b[0m,\n",
       "        \u001b[32m'area_name'\u001b[0m: \u001b[32m'Tōkyō-to Nerima-ku Toyotamakita'\u001b[0m,\n",
       "        \u001b[32m'latitude'\u001b[0m: \u001b[1;36m35.7356234\u001b[0m,\n",
       "        \u001b[32m'longitude'\u001b[0m: \u001b[1;36m139.6516577\u001b[0m\n",
       "    \u001b[1m}\u001b[0m,\n",
       "    \u001b[1;36m10\u001b[0m\n",
       "\u001b[1m)\u001b[0m\n"
      ]
     },
     "metadata": {},
     "output_type": "display_data"
    }
   ],
   "source": [
    "print(next(iter(data)))"
   ]
  },
  {
   "cell_type": "markdown",
   "id": "e62b8c26",
   "metadata": {},
   "source": [
    "Lets begging with the procedural approach "
   ]
  },
  {
   "cell_type": "code",
   "execution_count": 12,
   "id": "a71f8440",
   "metadata": {},
   "outputs": [
    {
     "data": {
      "text/html": [
       "<pre style=\"white-space:pre;overflow-x:auto;line-height:normal;font-family:Menlo,'DejaVu Sans Mono',consolas,'Courier New',monospace\">MAE: <span style=\"color: #008080; text-decoration-color: #008080; font-weight: bold\">8.465114</span>\n",
       "</pre>\n"
      ],
      "text/plain": [
       "MAE: \u001b[1;36m8.465114\u001b[0m\n"
      ]
     },
     "metadata": {},
     "output_type": "display_data"
    }
   ],
   "source": [
    "from river import feature_extraction, linear_model, metrics, preprocessing, stats, utils\n",
    "\n",
    "# Let's create the average of the last 7, 14 and 21 days\n",
    "#TargetAgg: Computes a streaming aggregate of the target values\n",
    "features = (\n",
    "    feature_extraction.TargetAgg(by='store_id', how=utils.Rolling(stats.Mean(), 7),target_name=\"last_7_mean\"),\n",
    "    feature_extraction.TargetAgg(by='store_id', how=utils.Rolling(stats.Mean(), 14),target_name=\"last_14_mean\"),\n",
    "    feature_extraction.TargetAgg(by='store_id', how=utils.Rolling(stats.Mean(), 21),target_name=\"last_21_mean\")\n",
    ")\n",
    "\n",
    "scaler = preprocessing.StandardScaler()\n",
    "model = linear_model.LinearRegression()\n",
    "metric = metrics.MAE()\n",
    "\n",
    "for x, y in data:\n",
    "\n",
    "    # Derive date features\n",
    "    x['weekday'] = x['date'].weekday()\n",
    "    x['is_weekend'] = x['date'].weekday() in (5, 6)\n",
    "\n",
    "    # Process the rolling means of the target  \n",
    "    for mean_f in features:\n",
    "        \n",
    "        x = {**x, **mean_f.transform_one(x)}#** unzip a dictionary. In this way, it is concatenating two dicts   \n",
    "        mean_f.learn_one(x, y)\n",
    "   \n",
    "    # Remove the key/value pairs that aren't features\n",
    "    for key in ['store_id', 'date', 'genre_name', 'area_name', 'latitude', 'longitude']:\n",
    "        x.pop(key)\n",
    "\n",
    "    # Rescale the data\n",
    "    x = scaler.learn_one(x).transform_one(x)\n",
    "\n",
    "    # Fit the linear regression\n",
    "    y_pred = model.predict_one(x)\n",
    "    model.learn_one(x, y)\n",
    "\n",
    "    # Update the metric using the out-of-fold prediction\n",
    "    metric.update(y, y_pred)\n",
    "\n",
    "print(metric)"
   ]
  },
  {
   "cell_type": "code",
   "execution_count": 13,
   "id": "8c238cb7",
   "metadata": {},
   "outputs": [
    {
     "data": {
      "text/html": [
       "<pre style=\"white-space:pre;overflow-x:auto;line-height:normal;font-family:Menlo,'DejaVu Sans Mono',consolas,'Courier New',monospace\"><span style=\"font-weight: bold\">{</span>\n",
       "    <span style=\"color: #008000; text-decoration-color: #008000\">'is_holiday'</span>: <span style=\"color: #008080; text-decoration-color: #008080; font-weight: bold\">-0.23103573677646685</span>,\n",
       "    <span style=\"color: #008000; text-decoration-color: #008000\">'weekday'</span>: <span style=\"color: #008080; text-decoration-color: #008080; font-weight: bold\">1.0292832579142892</span>,\n",
       "    <span style=\"color: #008000; text-decoration-color: #008000\">'is_weekend'</span>: <span style=\"color: #008080; text-decoration-color: #008080; font-weight: bold\">1.6249280076334165</span>,\n",
       "    <span style=\"color: #008000; text-decoration-color: #008000\">'last_7_mean_mean_by_store_id'</span>: <span style=\"color: #008080; text-decoration-color: #008080; font-weight: bold\">-1.350231449980909</span>,\n",
       "    <span style=\"color: #008000; text-decoration-color: #008000\">'last_14_mean_mean_by_store_id'</span>: <span style=\"color: #008080; text-decoration-color: #008080; font-weight: bold\">-1.4125913815779152</span>,\n",
       "    <span style=\"color: #008000; text-decoration-color: #008000\">'last_21_mean_mean_by_store_id'</span>: <span style=\"color: #008080; text-decoration-color: #008080; font-weight: bold\">-1.3980979075298516</span>\n",
       "<span style=\"font-weight: bold\">}</span>\n",
       "</pre>\n"
      ],
      "text/plain": [
       "\u001b[1m{\u001b[0m\n",
       "    \u001b[32m'is_holiday'\u001b[0m: \u001b[1;36m-0.23103573677646685\u001b[0m,\n",
       "    \u001b[32m'weekday'\u001b[0m: \u001b[1;36m1.0292832579142892\u001b[0m,\n",
       "    \u001b[32m'is_weekend'\u001b[0m: \u001b[1;36m1.6249280076334165\u001b[0m,\n",
       "    \u001b[32m'last_7_mean_mean_by_store_id'\u001b[0m: \u001b[1;36m-1.350231449980909\u001b[0m,\n",
       "    \u001b[32m'last_14_mean_mean_by_store_id'\u001b[0m: \u001b[1;36m-1.4125913815779152\u001b[0m,\n",
       "    \u001b[32m'last_21_mean_mean_by_store_id'\u001b[0m: \u001b[1;36m-1.3980979075298516\u001b[0m\n",
       "\u001b[1m}\u001b[0m\n"
      ]
     },
     "metadata": {},
     "output_type": "display_data"
    }
   ],
   "source": [
    "#check the last sample\n",
    "print(x)"
   ]
  },
  {
   "cell_type": "markdown",
   "id": "31f347fb",
   "metadata": {},
   "source": [
    "Now, lets rewrite the same code but with an approach more declarative based on the steps od the pipeline"
   ]
  },
  {
   "cell_type": "code",
   "execution_count": 14,
   "id": "9e257728",
   "metadata": {},
   "outputs": [
    {
     "data": {
      "text/html": [
       "<pre style=\"white-space:pre;overflow-x:auto;line-height:normal;font-family:Menlo,'DejaVu Sans Mono',consolas,'Courier New',monospace\"><span style=\"font-weight: bold\">{</span>\n",
       "    <span style=\"color: #008000; text-decoration-color: #008000\">'store_id'</span>: <span style=\"color: #008000; text-decoration-color: #008000\">'air_fff68b929994bfbd'</span>,\n",
       "    <span style=\"color: #008000; text-decoration-color: #008000\">'date'</span>: <span style=\"color: #800080; text-decoration-color: #800080; font-weight: bold\">datetime.datetime</span><span style=\"font-weight: bold\">(</span><span style=\"color: #008080; text-decoration-color: #008080; font-weight: bold\">2017</span>, <span style=\"color: #008080; text-decoration-color: #008080; font-weight: bold\">4</span>, <span style=\"color: #008080; text-decoration-color: #008080; font-weight: bold\">22</span>, <span style=\"color: #008080; text-decoration-color: #008080; font-weight: bold\">0</span>, <span style=\"color: #008080; text-decoration-color: #008080; font-weight: bold\">0</span><span style=\"font-weight: bold\">)</span>,\n",
       "    <span style=\"color: #008000; text-decoration-color: #008000\">'is_holiday'</span>: <span style=\"color: #ff0000; text-decoration-color: #ff0000; font-style: italic\">False</span>,\n",
       "    <span style=\"color: #008000; text-decoration-color: #008000\">'genre_name'</span>: <span style=\"color: #008000; text-decoration-color: #008000\">'Bar/Cocktail'</span>,\n",
       "    <span style=\"color: #008000; text-decoration-color: #008000\">'area_name'</span>: <span style=\"color: #008000; text-decoration-color: #008000\">'Tōkyō-to Nakano-ku Nakano'</span>,\n",
       "    <span style=\"color: #008000; text-decoration-color: #008000\">'latitude'</span>: <span style=\"color: #008080; text-decoration-color: #008080; font-weight: bold\">35.7081457</span>,\n",
       "    <span style=\"color: #008000; text-decoration-color: #008000\">'longitude'</span>: <span style=\"color: #008080; text-decoration-color: #008080; font-weight: bold\">139.66628799999998</span>\n",
       "<span style=\"font-weight: bold\">}</span>\n",
       "</pre>\n"
      ],
      "text/plain": [
       "\u001b[1m{\u001b[0m\n",
       "    \u001b[32m'store_id'\u001b[0m: \u001b[32m'air_fff68b929994bfbd'\u001b[0m,\n",
       "    \u001b[32m'date'\u001b[0m: \u001b[1;35mdatetime.datetime\u001b[0m\u001b[1m(\u001b[0m\u001b[1;36m2017\u001b[0m, \u001b[1;36m4\u001b[0m, \u001b[1;36m22\u001b[0m, \u001b[1;36m0\u001b[0m, \u001b[1;36m0\u001b[0m\u001b[1m)\u001b[0m,\n",
       "    \u001b[32m'is_holiday'\u001b[0m: \u001b[3;91mFalse\u001b[0m,\n",
       "    \u001b[32m'genre_name'\u001b[0m: \u001b[32m'Bar/Cocktail'\u001b[0m,\n",
       "    \u001b[32m'area_name'\u001b[0m: \u001b[32m'Tōkyō-to Nakano-ku Nakano'\u001b[0m,\n",
       "    \u001b[32m'latitude'\u001b[0m: \u001b[1;36m35.7081457\u001b[0m,\n",
       "    \u001b[32m'longitude'\u001b[0m: \u001b[1;36m139.66628799999998\u001b[0m\n",
       "\u001b[1m}\u001b[0m\n"
      ]
     },
     "metadata": {},
     "output_type": "display_data"
    },
    {
     "data": {
      "text/html": [
       "<pre style=\"white-space:pre;overflow-x:auto;line-height:normal;font-family:Menlo,'DejaVu Sans Mono',consolas,'Courier New',monospace\">MAE: <span style=\"color: #008080; text-decoration-color: #008080; font-weight: bold\">8.38533</span>\n",
       "</pre>\n"
      ],
      "text/plain": [
       "MAE: \u001b[1;36m8.38533\u001b[0m\n"
      ]
     },
     "metadata": {},
     "output_type": "display_data"
    }
   ],
   "source": [
    "from river import compose\n",
    "\n",
    "# funtion to transform the data in the same features used previously\n",
    "def get_date_features(x):\n",
    "    weekday =  x['date'].weekday()\n",
    "    return {'weekday': weekday, 'is_weekend': weekday in (5, 6)}\n",
    "\n",
    "# Build the pipeline with the same steps that has been previously done\n",
    "model = compose.Pipeline(\n",
    "    ('features', compose.TransformerUnion(\n",
    "        ('date_features', compose.FuncTransformer(get_date_features)),\n",
    "        ('last_7_mean', feature_extraction.TargetAgg(by='store_id', how=utils.Rolling(stats.Mean(),7),target_name=\"last_7_mean\")),\n",
    "        ('last_14_mean', feature_extraction.TargetAgg(by='store_id', how=utils.Rolling(stats.Mean(),14), target_name=\"last_14_mean\")),\n",
    "        ('last_21_mean', feature_extraction.TargetAgg(by='store_id', how=utils.Rolling(stats.Mean(),21), target_name=\"last_21_mean\"))\n",
    "    )),\n",
    "    ('drop_non_features', compose.Discard('store_id', 'date', 'genre_name', 'area_name', 'latitude', 'longitude')),\n",
    "    ('scale', preprocessing.StandardScaler()),\n",
    "    ('lin_reg', linear_model.LinearRegression())\n",
    ")\n",
    "\n",
    "metric = metrics.MAE()\n",
    "\n",
    "for x, y in data:\n",
    "\n",
    "    # Make a prediction without using the target\n",
    "    y_pred = model.predict_one(x)\n",
    "\n",
    "    # Update the model using the target\n",
    "    model.learn_one(x, y)\n",
    "\n",
    "    # Update the metric using the out-of-fold prediction\n",
    "    metric.update(y, y_pred)\n",
    "\n",
    "print(x)\n",
    "print(metric)\n"
   ]
  },
  {
   "cell_type": "markdown",
   "id": "0a1dcb03",
   "metadata": {},
   "source": [
    "As you can see we have arrange all the feature calculation and transform in an object `TransformerUnion`. The idea is to been able to calculate all features in parallel for each element that is passed to this step. Additionaly, the `for-loop` has become an image of the typical steps inside a online learning system and, therefore, the built-in evaluation function can be used to simplify, evenmore, the code."
   ]
  },
  {
   "cell_type": "code",
   "execution_count": 15,
   "id": "d86d5f9b",
   "metadata": {},
   "outputs": [
    {
     "data": {
      "text/plain": [
       "MAE: 8.38533"
      ]
     },
     "execution_count": 15,
     "metadata": {},
     "output_type": "execute_result"
    }
   ],
   "source": [
    "from river import evaluate\n",
    "\n",
    "model = compose.Pipeline(\n",
    "    ('features', compose.TransformerUnion(\n",
    "        ('date_features', compose.FuncTransformer(get_date_features)),\n",
    "        ('last_7_mean', feature_extraction.TargetAgg(by='store_id', how=utils.Rolling(stats.Mean(), 7),target_name=\"last_7_mean\" )),\n",
    "        ('last_14_mean', feature_extraction.TargetAgg(by='store_id', how=utils.Rolling(stats.Mean(), 14),target_name=\"last_14_mean\")),\n",
    "        ('last_21_mean', feature_extraction.TargetAgg(by='store_id', how=utils.Rolling(stats.Mean(), 21),target_name=\"last_21_mean\"))\n",
    "    )),\n",
    "    ('drop_non_features', compose.Discard('store_id', 'date', 'genre_name', 'area_name', 'latitude', 'longitude')),\n",
    "    ('scale', preprocessing.StandardScaler()),\n",
    "    ('lin_reg', linear_model.LinearRegression())\n",
    ")\n",
    "\n",
    "evaluate.progressive_val_score(dataset=data, model=model, metric=metrics.MAE())"
   ]
  },
  {
   "cell_type": "markdown",
   "id": "67b64cec",
   "metadata": {},
   "source": [
    "Although the code is perfectly fine like this, because now we can use the built-in functions of the library. Some additional simplifications can be done. First, and opposite to the pipelines in `scikit-learn`, the name of the steps is not necessary."
   ]
  },
  {
   "cell_type": "code",
   "execution_count": 16,
   "id": "7c9738f2",
   "metadata": {},
   "outputs": [
    {
     "data": {
      "text/plain": [
       "MAE: 8.38533"
      ]
     },
     "execution_count": 16,
     "metadata": {},
     "output_type": "execute_result"
    }
   ],
   "source": [
    "model = compose.Pipeline(\n",
    "    compose.TransformerUnion(\n",
    "        compose.FuncTransformer(get_date_features),\n",
    "        feature_extraction.TargetAgg(by='store_id', how=utils.Rolling(stats.Mean(), 7),target_name=\"last_7_mean\"),\n",
    "        feature_extraction.TargetAgg(by='store_id', how=utils.Rolling(stats.Mean(), 14),target_name=\"last_14_mean\"),\n",
    "        feature_extraction.TargetAgg(by='store_id', how=utils.Rolling(stats.Mean(), 21),target_name=\"last_21_mean\")\n",
    "    ),\n",
    "    compose.Discard('store_id', 'date', 'genre_name', 'area_name', 'latitude', 'longitude'),\n",
    "    preprocessing.StandardScaler(),\n",
    "    linear_model.LinearRegression()\n",
    ")\n",
    "\n",
    "evaluate.progressive_val_score(dataset=data, model=model, metric=metrics.MAE())\n"
   ]
  },
  {
   "cell_type": "markdown",
   "id": "67392efd",
   "metadata": {},
   "source": [
    "In this case the library will infer one based on the order of the operations provided.\n",
    "\n",
    "The next simplification comes from the fact that the pipeline can be declare with mathematical operations. Fist, use `+` to declare a `TransformerUnion` object."
   ]
  },
  {
   "cell_type": "code",
   "execution_count": 17,
   "id": "fdd6ceca",
   "metadata": {},
   "outputs": [
    {
     "data": {
      "text/plain": [
       "MAE: 8.38533"
      ]
     },
     "execution_count": 17,
     "metadata": {},
     "output_type": "execute_result"
    }
   ],
   "source": [
    "model = compose.Pipeline(\n",
    "    compose.FuncTransformer(get_date_features) + \\\n",
    "    feature_extraction.TargetAgg(by='store_id', how=utils.Rolling(stats.Mean(), 7),target_name=\"last_7_mean\") + \\\n",
    "    feature_extraction.TargetAgg(by='store_id', how=utils.Rolling(stats.Mean(), 14),target_name=\"last_14_mean\") + \\\n",
    "    feature_extraction.TargetAgg(by='store_id', how=utils.Rolling(stats.Mean(), 21),target_name=\"last_21_mean\"),\n",
    "\n",
    "    compose.Discard('store_id', 'date', 'genre_name', 'area_name', 'latitude', 'longitude'),\n",
    "    preprocessing.StandardScaler(),\n",
    "    linear_model.LinearRegression()\n",
    ")\n",
    "\n",
    "evaluate.progressive_val_score(dataset=data, model=model, metric=metrics.MAE())\n"
   ]
  },
  {
   "cell_type": "markdown",
   "id": "8d3f88a0",
   "metadata": {},
   "source": [
    "Likewhise we can use the `|` operator to assemble steps into a `Pipeline`."
   ]
  },
  {
   "cell_type": "code",
   "execution_count": 18,
   "id": "8eed5648",
   "metadata": {},
   "outputs": [
    {
     "data": {
      "text/plain": [
       "MAE: 8.38533"
      ]
     },
     "execution_count": 18,
     "metadata": {},
     "output_type": "execute_result"
    }
   ],
   "source": [
    "model = (\n",
    "    compose.FuncTransformer(get_date_features) +\n",
    "    feature_extraction.TargetAgg(by='store_id', how=utils.Rolling(stats.Mean(), 7),target_name=\"last_7_mean\") +\n",
    "    feature_extraction.TargetAgg(by='store_id', how=utils.Rolling(stats.Mean(), 14),target_name=\"last_14_mean\") +\n",
    "    feature_extraction.TargetAgg(by='store_id', how=utils.Rolling(stats.Mean(), 21),target_name=\"last_21_mean\")\n",
    ")\n",
    "\n",
    "to_discard = ['store_id', 'date', 'genre_name', 'area_name', 'latitude', 'longitude']\n",
    "\n",
    "model = model | compose.Discard(*to_discard)\n",
    "model |= preprocessing.StandardScaler()\n",
    "model |= linear_model.LinearRegression()\n",
    "\n",
    "evaluate.progressive_val_score(dataset=data, model=model, metric=metrics.MAE())\n"
   ]
  },
  {
   "cell_type": "markdown",
   "id": "25a7746f",
   "metadata": {},
   "source": [
    "One final simplyfication comes from the fact that `river`automatically encapsulates functions in the `FuncTransform` so the final declarative model could be something like:"
   ]
  },
  {
   "cell_type": "code",
   "execution_count": 19,
   "id": "6042777f",
   "metadata": {},
   "outputs": [
    {
     "name": "stdout",
     "output_type": "stream",
     "text": [
      "[20,000] MAE: 8.751958\n",
      "[40,000] MAE: 8.905389\n",
      "[60,000] MAE: 8.928629\n",
      "[80,000] MAE: 8.648981\n",
      "[100,000] MAE: 8.491317\n",
      "[120,000] MAE: 8.421815\n",
      "[140,000] MAE: 8.347086\n",
      "[160,000] MAE: 8.332035\n",
      "[180,000] MAE: 8.441779\n",
      "[200,000] MAE: 8.359055\n",
      "[220,000] MAE: 8.316414\n",
      "[240,000] MAE: 8.369178\n"
     ]
    },
    {
     "data": {
      "text/plain": [
       "MAE: 8.38533"
      ]
     },
     "execution_count": 19,
     "metadata": {},
     "output_type": "execute_result"
    }
   ],
   "source": [
    "model = get_date_features\n",
    "\n",
    "for n in [7, 14, 21]:\n",
    "    model += feature_extraction.TargetAgg(by='store_id', how=utils.Rolling(stats.Mean(), n),target_name=\"last_\"+str(n)+\"_mean\")\n",
    "\n",
    "model |= compose.Discard(*to_discard)\n",
    "model |= preprocessing.StandardScaler()\n",
    "model |= linear_model.LinearRegression()\n",
    "\n",
    "evaluate.progressive_val_score(dataset=data, model=model, metric=metrics.MAE(), print_every=20_000)"
   ]
  },
  {
   "cell_type": "markdown",
   "id": "5b40c1dc",
   "metadata": {},
   "source": [
    "We have include an additional argument to see how the evaluation changes over time. It must be said that here we are not talking about perfomance but declaration and the way we think in the model. Both models, procedural and this one are perfectly fine. As final point in the pipelines, it should be mentioned that we can graphicaly explore the pipeline when it is made based on pipes"
   ]
  },
  {
   "cell_type": "code",
   "execution_count": 20,
   "id": "f44053b9",
   "metadata": {},
   "outputs": [
    {
     "data": {
      "text/html": [
       "<div><div class=\"river-component river-pipeline\"><div class=\"river-component river-union\"><details class=\"river-component river-estimator\"><summary class=\"river-summary\"><pre class=\"river-estimator-name\">get_date_features</pre></summary><code class=\"river-estimator-params\">\n",
       "def get_date_features(x):\n",
       "    weekday =  x['date'].weekday()\n",
       "    return {'weekday': weekday, 'is_weekend': weekday in (5, 6)}\n",
       "\n",
       "</code></details><details class=\"river-component river-estimator\"><summary class=\"river-summary\"><pre class=\"river-estimator-name\">last_7_mean_mean_by_store_id</pre></summary><code class=\"river-estimator-params\">(\n",
       "  by=['store_id']\n",
       "  how=Rolling (\n",
       "    obj=Mean ()\n",
       "    window_size=7\n",
       "  )\n",
       "  target_name=\"last_7_mean\"\n",
       ")\n",
       "\n",
       "</code></details><details class=\"river-component river-estimator\"><summary class=\"river-summary\"><pre class=\"river-estimator-name\">last_14_mean_mean_by_store_id</pre></summary><code class=\"river-estimator-params\">(\n",
       "  by=['store_id']\n",
       "  how=Rolling (\n",
       "    obj=Mean ()\n",
       "    window_size=14\n",
       "  )\n",
       "  target_name=\"last_14_mean\"\n",
       ")\n",
       "\n",
       "</code></details><details class=\"river-component river-estimator\"><summary class=\"river-summary\"><pre class=\"river-estimator-name\">last_21_mean_mean_by_store_id</pre></summary><code class=\"river-estimator-params\">(\n",
       "  by=['store_id']\n",
       "  how=Rolling (\n",
       "    obj=Mean ()\n",
       "    window_size=21\n",
       "  )\n",
       "  target_name=\"last_21_mean\"\n",
       ")\n",
       "\n",
       "</code></details></div><details class=\"river-component river-estimator\"><summary class=\"river-summary\"><pre class=\"river-estimator-name\">~['area_name', 'date', 'genre_name', 'latitude', 'longitude', 'store_id']</pre></summary><code class=\"river-estimator-params\">(\n",
       "  area_name\n",
       "  date\n",
       "  genre_name\n",
       "  latitude\n",
       "  longitude\n",
       "  store_id\n",
       ")\n",
       "\n",
       "</code></details><details class=\"river-component river-estimator\"><summary class=\"river-summary\"><pre class=\"river-estimator-name\">StandardScaler</pre></summary><code class=\"river-estimator-params\">(\n",
       "  with_std=True\n",
       ")\n",
       "\n",
       "</code></details><details class=\"river-component river-estimator\"><summary class=\"river-summary\"><pre class=\"river-estimator-name\">LinearRegression</pre></summary><code class=\"river-estimator-params\">(\n",
       "  optimizer=SGD (\n",
       "    lr=Constant (\n",
       "      learning_rate=0.01\n",
       "    )\n",
       "  )\n",
       "  loss=Squared ()\n",
       "  l2=0.\n",
       "  l1=0.\n",
       "  intercept_init=0.\n",
       "  intercept_lr=Constant (\n",
       "    learning_rate=0.01\n",
       "  )\n",
       "  clip_gradient=1e+12\n",
       "  initializer=Zeros ()\n",
       ")\n",
       "\n",
       "</code></details></div><style scoped>\n",
       ".river-estimator {\n",
       "    padding: 1em;\n",
       "    border-style: solid;\n",
       "    background: white;\n",
       "}\n",
       "\n",
       ".river-pipeline {\n",
       "    display: flex;\n",
       "    flex-direction: column;\n",
       "    align-items: center;\n",
       "    background: linear-gradient(#000, #000) no-repeat center / 3px 100%;\n",
       "}\n",
       "\n",
       ".river-union {\n",
       "    display: flex;\n",
       "    flex-direction: row;\n",
       "    align-items: center;\n",
       "    justify-content: center;\n",
       "    padding: 1em;\n",
       "    border-style: solid;\n",
       "    background: white;\n",
       "}\n",
       "\n",
       ".river-wrapper {\n",
       "    display: flex;\n",
       "    flex-direction: column;\n",
       "    align-items: center;\n",
       "    justify-content: center;\n",
       "    padding: 1em;\n",
       "    border-style: solid;\n",
       "    background: white;\n",
       "}\n",
       "\n",
       ".river-wrapper > .river-estimator {\n",
       "    margin-top: 1em;\n",
       "}\n",
       "\n",
       "/* Vertical spacing between steps */\n",
       "\n",
       ".river-component + .river-component {\n",
       "    margin-top: 2em;\n",
       "}\n",
       "\n",
       ".river-union > .river-estimator {\n",
       "    margin-top: 0;\n",
       "}\n",
       "\n",
       ".river-union > .pipeline {\n",
       "    margin-top: 0;\n",
       "}\n",
       "\n",
       "/* Spacing within a union of estimators */\n",
       "\n",
       ".river-union > .river-component + .river-component {\n",
       "    margin-left: 1em;\n",
       "}\n",
       "\n",
       "/* Typography */\n",
       "\n",
       ".river-estimator-params {\n",
       "    display: block;\n",
       "    white-space: pre-wrap;\n",
       "    font-size: 120%;\n",
       "    margin-bottom: -1em;\n",
       "}\n",
       "\n",
       ".river-estimator > .river-estimator-params,\n",
       ".river-wrapper > .river-details > river-estimator-params {\n",
       "    background-color: white !important;\n",
       "}\n",
       "\n",
       ".river-estimator-name {\n",
       "    display: inline;\n",
       "    margin: 0;\n",
       "    font-size: 130%;\n",
       "}\n",
       "\n",
       "/* Toggle */\n",
       "\n",
       ".river-summary {\n",
       "    display: flex;\n",
       "    align-items:center;\n",
       "    cursor: pointer;\n",
       "}\n",
       "\n",
       ".river-summary > div {\n",
       "    width: 100%;\n",
       "}\n",
       "</style></div>"
      ],
      "text/plain": [
       "Pipeline (\n",
       "  TransformerUnion (\n",
       "    FuncTransformer (\n",
       "      func=\"get_date_features\"\n",
       "    ),\n",
       "    TargetAgg (\n",
       "      by=['store_id']\n",
       "      how=Rolling (\n",
       "        obj=Mean ()\n",
       "        window_size=7\n",
       "      )\n",
       "      target_name=\"last_7_mean\"\n",
       "    ),\n",
       "    TargetAgg (\n",
       "      by=['store_id']\n",
       "      how=Rolling (\n",
       "        obj=Mean ()\n",
       "        window_size=14\n",
       "      )\n",
       "      target_name=\"last_14_mean\"\n",
       "    ),\n",
       "    TargetAgg (\n",
       "      by=['store_id']\n",
       "      how=Rolling (\n",
       "        obj=Mean ()\n",
       "        window_size=21\n",
       "      )\n",
       "      target_name=\"last_21_mean\"\n",
       "    )\n",
       "  ),\n",
       "  Discard (\n",
       "    area_name\n",
       "    date\n",
       "    genre_name\n",
       "    latitude\n",
       "    longitude\n",
       "    store_id\n",
       "  ),\n",
       "  StandardScaler (\n",
       "    with_std=True\n",
       "  ),\n",
       "  LinearRegression (\n",
       "    optimizer=SGD (\n",
       "      lr=Constant (\n",
       "        learning_rate=0.01\n",
       "      )\n",
       "    )\n",
       "    loss=Squared ()\n",
       "    l2=0.\n",
       "    l1=0.\n",
       "    intercept_init=0.\n",
       "    intercept_lr=Constant (\n",
       "      learning_rate=0.01\n",
       "    )\n",
       "    clip_gradient=1e+12\n",
       "    initializer=Zeros ()\n",
       "  )\n",
       ")"
      ]
     },
     "execution_count": 20,
     "metadata": {},
     "output_type": "execute_result"
    }
   ],
   "source": [
    "model"
   ]
  },
  {
   "cell_type": "markdown",
   "id": "41a0354f",
   "metadata": {},
   "source": [
    "One important additional point to highlight is the fact that, in order to debug the behavior of the different steps the function `debug_one`can be used. Imagine that, in this case we train the model with the first 120,000 examples and we want to know what happens with the following one. The next piece of code made the trick:"
   ]
  },
  {
   "cell_type": "code",
   "execution_count": 21,
   "id": "4a1ccdc5",
   "metadata": {},
   "outputs": [
    {
     "data": {
      "text/html": [
       "<pre style=\"white-space:pre;overflow-x:auto;line-height:normal;font-family:Menlo,'DejaVu Sans Mono',consolas,'Courier New',monospace\"><span style=\"color: #008080; text-decoration-color: #008080; font-weight: bold\">0</span>. Input\n",
       "--------\n",
       "area_name: Tōkyō-to Nerima-ku Toyotamakita <span style=\"font-weight: bold\">(</span>str<span style=\"font-weight: bold\">)</span>\n",
       "date: <span style=\"color: #008080; text-decoration-color: #008080; font-weight: bold\">2016</span>-<span style=\"color: #008080; text-decoration-color: #008080; font-weight: bold\">01</span>-<span style=\"color: #008080; text-decoration-color: #008080; font-weight: bold\">01</span> <span style=\"color: #00ff00; text-decoration-color: #00ff00; font-weight: bold\">00:00:00</span> <span style=\"font-weight: bold\">(</span>datetime<span style=\"font-weight: bold\">)</span>\n",
       "genre_name: Izakaya <span style=\"font-weight: bold\">(</span>str<span style=\"font-weight: bold\">)</span>\n",
       "is_holiday: <span style=\"color: #00ff00; text-decoration-color: #00ff00; font-style: italic\">True</span> <span style=\"font-weight: bold\">(</span>bool<span style=\"font-weight: bold\">)</span>\n",
       "latitude: <span style=\"color: #008080; text-decoration-color: #008080; font-weight: bold\">35.73562</span> <span style=\"font-weight: bold\">(</span>float<span style=\"font-weight: bold\">)</span>\n",
       "longitude: <span style=\"color: #008080; text-decoration-color: #008080; font-weight: bold\">139.65166</span> <span style=\"font-weight: bold\">(</span>float<span style=\"font-weight: bold\">)</span>\n",
       "store_id: air_04341b588bde96cd <span style=\"font-weight: bold\">(</span>str<span style=\"font-weight: bold\">)</span>\n",
       "\n",
       "<span style=\"color: #008080; text-decoration-color: #008080; font-weight: bold\">1</span>. Transformer union\n",
       "--------------------\n",
       "    <span style=\"color: #008080; text-decoration-color: #008080; font-weight: bold\">1.0</span> get_date_features\n",
       "    ---------------------\n",
       "    is_weekend: <span style=\"color: #ff0000; text-decoration-color: #ff0000; font-style: italic\">False</span> <span style=\"font-weight: bold\">(</span>bool<span style=\"font-weight: bold\">)</span>\n",
       "    weekday: <span style=\"color: #008080; text-decoration-color: #008080; font-weight: bold\">4</span> <span style=\"font-weight: bold\">(</span>int<span style=\"font-weight: bold\">)</span>\n",
       "\n",
       "    <span style=\"color: #008080; text-decoration-color: #008080; font-weight: bold\">1.1</span> TargetAgg\n",
       "    -------------\n",
       "    last_7_mean_mean_by_store_id: <span style=\"color: #008080; text-decoration-color: #008080; font-weight: bold\">36.28571</span> <span style=\"font-weight: bold\">(</span>float<span style=\"font-weight: bold\">)</span>\n",
       "\n",
       "    <span style=\"color: #008080; text-decoration-color: #008080; font-weight: bold\">1.2</span> TargetAgg1\n",
       "    --------------\n",
       "    last_14_mean_mean_by_store_id: <span style=\"color: #008080; text-decoration-color: #008080; font-weight: bold\">36.07143</span> <span style=\"font-weight: bold\">(</span>float<span style=\"font-weight: bold\">)</span>\n",
       "\n",
       "    <span style=\"color: #008080; text-decoration-color: #008080; font-weight: bold\">1.3</span> TargetAgg2\n",
       "    --------------\n",
       "    last_21_mean_mean_by_store_id: <span style=\"color: #008080; text-decoration-color: #008080; font-weight: bold\">36.23810</span> <span style=\"font-weight: bold\">(</span>float<span style=\"font-weight: bold\">)</span>\n",
       "\n",
       "is_weekend: <span style=\"color: #ff0000; text-decoration-color: #ff0000; font-style: italic\">False</span> <span style=\"font-weight: bold\">(</span>bool<span style=\"font-weight: bold\">)</span>\n",
       "last_14_mean_mean_by_store_id: <span style=\"color: #008080; text-decoration-color: #008080; font-weight: bold\">36.07143</span> <span style=\"font-weight: bold\">(</span>float<span style=\"font-weight: bold\">)</span>\n",
       "last_21_mean_mean_by_store_id: <span style=\"color: #008080; text-decoration-color: #008080; font-weight: bold\">36.23810</span> <span style=\"font-weight: bold\">(</span>float<span style=\"font-weight: bold\">)</span>\n",
       "last_7_mean_mean_by_store_id: <span style=\"color: #008080; text-decoration-color: #008080; font-weight: bold\">36.28571</span> <span style=\"font-weight: bold\">(</span>float<span style=\"font-weight: bold\">)</span>\n",
       "weekday: <span style=\"color: #008080; text-decoration-color: #008080; font-weight: bold\">4</span> <span style=\"font-weight: bold\">(</span>int<span style=\"font-weight: bold\">)</span>\n",
       "\n",
       "<span style=\"color: #008080; text-decoration-color: #008080; font-weight: bold\">2</span>. ~<span style=\"font-weight: bold\">[</span><span style=\"color: #008000; text-decoration-color: #008000\">'area_name'</span>, <span style=\"color: #008000; text-decoration-color: #008000\">'date'</span>, <span style=\"color: #008000; text-decoration-color: #008000\">'genre_name'</span>, <span style=\"color: #008000; text-decoration-color: #008000\">'latitude'</span>, <span style=\"color: #008000; text-decoration-color: #008000\">'longitude'</span>, <span style=\"color: #008000; text-decoration-color: #008000\">'store_id'</span><span style=\"font-weight: bold\">]</span>\n",
       "----------------------------------------------------------------------------\n",
       "is_weekend: <span style=\"color: #ff0000; text-decoration-color: #ff0000; font-style: italic\">False</span> <span style=\"font-weight: bold\">(</span>bool<span style=\"font-weight: bold\">)</span>\n",
       "last_14_mean_mean_by_store_id: <span style=\"color: #008080; text-decoration-color: #008080; font-weight: bold\">36.07143</span> <span style=\"font-weight: bold\">(</span>float<span style=\"font-weight: bold\">)</span>\n",
       "last_21_mean_mean_by_store_id: <span style=\"color: #008080; text-decoration-color: #008080; font-weight: bold\">36.23810</span> <span style=\"font-weight: bold\">(</span>float<span style=\"font-weight: bold\">)</span>\n",
       "last_7_mean_mean_by_store_id: <span style=\"color: #008080; text-decoration-color: #008080; font-weight: bold\">36.28571</span> <span style=\"font-weight: bold\">(</span>float<span style=\"font-weight: bold\">)</span>\n",
       "weekday: <span style=\"color: #008080; text-decoration-color: #008080; font-weight: bold\">4</span> <span style=\"font-weight: bold\">(</span>int<span style=\"font-weight: bold\">)</span>\n",
       "\n",
       "<span style=\"color: #008080; text-decoration-color: #008080; font-weight: bold\">3</span>. StandardScaler\n",
       "-----------------\n",
       "is_weekend: <span style=\"color: #008080; text-decoration-color: #008080; font-weight: bold\">-0.61171</span> <span style=\"font-weight: bold\">(</span>float<span style=\"font-weight: bold\">)</span>\n",
       "last_14_mean_mean_by_store_id: <span style=\"color: #008080; text-decoration-color: #008080; font-weight: bold\">1.30097</span> <span style=\"font-weight: bold\">(</span>float<span style=\"font-weight: bold\">)</span>\n",
       "last_21_mean_mean_by_store_id: <span style=\"color: #008080; text-decoration-color: #008080; font-weight: bold\">1.32644</span> <span style=\"font-weight: bold\">(</span>float<span style=\"font-weight: bold\">)</span>\n",
       "last_7_mean_mean_by_store_id: <span style=\"color: #008080; text-decoration-color: #008080; font-weight: bold\">1.28498</span> <span style=\"font-weight: bold\">(</span>float<span style=\"font-weight: bold\">)</span>\n",
       "weekday: <span style=\"color: #008080; text-decoration-color: #008080; font-weight: bold\">0.51168</span> <span style=\"font-weight: bold\">(</span>float<span style=\"font-weight: bold\">)</span>\n",
       "\n",
       "<span style=\"color: #008080; text-decoration-color: #008080; font-weight: bold\">4</span>. LinearRegression\n",
       "-------------------\n",
       "Name                            Value      Weight      Contribution  \n",
       "                    Intercept    <span style=\"color: #008080; text-decoration-color: #008080; font-weight: bold\">1.00000</span>    <span style=\"color: #008080; text-decoration-color: #008080; font-weight: bold\">18.99682</span>       <span style=\"color: #008080; text-decoration-color: #008080; font-weight: bold\">18.99682</span>  \n",
       "last_21_mean_mean_by_store_id    <span style=\"color: #008080; text-decoration-color: #008080; font-weight: bold\">1.32644</span>     <span style=\"color: #008080; text-decoration-color: #008080; font-weight: bold\">9.48096</span>       <span style=\"color: #008080; text-decoration-color: #008080; font-weight: bold\">12.57591</span>  \n",
       "last_14_mean_mean_by_store_id    <span style=\"color: #008080; text-decoration-color: #008080; font-weight: bold\">1.30097</span>     <span style=\"color: #008080; text-decoration-color: #008080; font-weight: bold\">2.72577</span>        <span style=\"color: #008080; text-decoration-color: #008080; font-weight: bold\">3.54615</span>  \n",
       "                      weekday    <span style=\"color: #008080; text-decoration-color: #008080; font-weight: bold\">0.51168</span>     <span style=\"color: #008080; text-decoration-color: #008080; font-weight: bold\">5.61055</span>        <span style=\"color: #008080; text-decoration-color: #008080; font-weight: bold\">2.87078</span>  \n",
       " last_7_mean_mean_by_store_id    <span style=\"color: #008080; text-decoration-color: #008080; font-weight: bold\">1.28498</span>     <span style=\"color: #008080; text-decoration-color: #008080; font-weight: bold\">1.23553</span>        <span style=\"color: #008080; text-decoration-color: #008080; font-weight: bold\">1.58763</span>  \n",
       "                   is_weekend   <span style=\"color: #008080; text-decoration-color: #008080; font-weight: bold\">-0.61171</span>    <span style=\"color: #008080; text-decoration-color: #008080; font-weight: bold\">-1.96213</span>        <span style=\"color: #008080; text-decoration-color: #008080; font-weight: bold\">1.20026</span>  \n",
       "\n",
       "Prediction: <span style=\"color: #008080; text-decoration-color: #008080; font-weight: bold\">40.77756</span>\n",
       "</pre>\n"
      ],
      "text/plain": [
       "\u001b[1;36m0\u001b[0m. Input\n",
       "--------\n",
       "area_name: Tōkyō-to Nerima-ku Toyotamakita \u001b[1m(\u001b[0mstr\u001b[1m)\u001b[0m\n",
       "date: \u001b[1;36m2016\u001b[0m-\u001b[1;36m01\u001b[0m-\u001b[1;36m01\u001b[0m \u001b[1;92m00:00:00\u001b[0m \u001b[1m(\u001b[0mdatetime\u001b[1m)\u001b[0m\n",
       "genre_name: Izakaya \u001b[1m(\u001b[0mstr\u001b[1m)\u001b[0m\n",
       "is_holiday: \u001b[3;92mTrue\u001b[0m \u001b[1m(\u001b[0mbool\u001b[1m)\u001b[0m\n",
       "latitude: \u001b[1;36m35.73562\u001b[0m \u001b[1m(\u001b[0mfloat\u001b[1m)\u001b[0m\n",
       "longitude: \u001b[1;36m139.65166\u001b[0m \u001b[1m(\u001b[0mfloat\u001b[1m)\u001b[0m\n",
       "store_id: air_04341b588bde96cd \u001b[1m(\u001b[0mstr\u001b[1m)\u001b[0m\n",
       "\n",
       "\u001b[1;36m1\u001b[0m. Transformer union\n",
       "--------------------\n",
       "    \u001b[1;36m1.0\u001b[0m get_date_features\n",
       "    ---------------------\n",
       "    is_weekend: \u001b[3;91mFalse\u001b[0m \u001b[1m(\u001b[0mbool\u001b[1m)\u001b[0m\n",
       "    weekday: \u001b[1;36m4\u001b[0m \u001b[1m(\u001b[0mint\u001b[1m)\u001b[0m\n",
       "\n",
       "    \u001b[1;36m1.1\u001b[0m TargetAgg\n",
       "    -------------\n",
       "    last_7_mean_mean_by_store_id: \u001b[1;36m36.28571\u001b[0m \u001b[1m(\u001b[0mfloat\u001b[1m)\u001b[0m\n",
       "\n",
       "    \u001b[1;36m1.2\u001b[0m TargetAgg1\n",
       "    --------------\n",
       "    last_14_mean_mean_by_store_id: \u001b[1;36m36.07143\u001b[0m \u001b[1m(\u001b[0mfloat\u001b[1m)\u001b[0m\n",
       "\n",
       "    \u001b[1;36m1.3\u001b[0m TargetAgg2\n",
       "    --------------\n",
       "    last_21_mean_mean_by_store_id: \u001b[1;36m36.23810\u001b[0m \u001b[1m(\u001b[0mfloat\u001b[1m)\u001b[0m\n",
       "\n",
       "is_weekend: \u001b[3;91mFalse\u001b[0m \u001b[1m(\u001b[0mbool\u001b[1m)\u001b[0m\n",
       "last_14_mean_mean_by_store_id: \u001b[1;36m36.07143\u001b[0m \u001b[1m(\u001b[0mfloat\u001b[1m)\u001b[0m\n",
       "last_21_mean_mean_by_store_id: \u001b[1;36m36.23810\u001b[0m \u001b[1m(\u001b[0mfloat\u001b[1m)\u001b[0m\n",
       "last_7_mean_mean_by_store_id: \u001b[1;36m36.28571\u001b[0m \u001b[1m(\u001b[0mfloat\u001b[1m)\u001b[0m\n",
       "weekday: \u001b[1;36m4\u001b[0m \u001b[1m(\u001b[0mint\u001b[1m)\u001b[0m\n",
       "\n",
       "\u001b[1;36m2\u001b[0m. ~\u001b[1m[\u001b[0m\u001b[32m'area_name'\u001b[0m, \u001b[32m'date'\u001b[0m, \u001b[32m'genre_name'\u001b[0m, \u001b[32m'latitude'\u001b[0m, \u001b[32m'longitude'\u001b[0m, \u001b[32m'store_id'\u001b[0m\u001b[1m]\u001b[0m\n",
       "----------------------------------------------------------------------------\n",
       "is_weekend: \u001b[3;91mFalse\u001b[0m \u001b[1m(\u001b[0mbool\u001b[1m)\u001b[0m\n",
       "last_14_mean_mean_by_store_id: \u001b[1;36m36.07143\u001b[0m \u001b[1m(\u001b[0mfloat\u001b[1m)\u001b[0m\n",
       "last_21_mean_mean_by_store_id: \u001b[1;36m36.23810\u001b[0m \u001b[1m(\u001b[0mfloat\u001b[1m)\u001b[0m\n",
       "last_7_mean_mean_by_store_id: \u001b[1;36m36.28571\u001b[0m \u001b[1m(\u001b[0mfloat\u001b[1m)\u001b[0m\n",
       "weekday: \u001b[1;36m4\u001b[0m \u001b[1m(\u001b[0mint\u001b[1m)\u001b[0m\n",
       "\n",
       "\u001b[1;36m3\u001b[0m. StandardScaler\n",
       "-----------------\n",
       "is_weekend: \u001b[1;36m-0.61171\u001b[0m \u001b[1m(\u001b[0mfloat\u001b[1m)\u001b[0m\n",
       "last_14_mean_mean_by_store_id: \u001b[1;36m1.30097\u001b[0m \u001b[1m(\u001b[0mfloat\u001b[1m)\u001b[0m\n",
       "last_21_mean_mean_by_store_id: \u001b[1;36m1.32644\u001b[0m \u001b[1m(\u001b[0mfloat\u001b[1m)\u001b[0m\n",
       "last_7_mean_mean_by_store_id: \u001b[1;36m1.28498\u001b[0m \u001b[1m(\u001b[0mfloat\u001b[1m)\u001b[0m\n",
       "weekday: \u001b[1;36m0.51168\u001b[0m \u001b[1m(\u001b[0mfloat\u001b[1m)\u001b[0m\n",
       "\n",
       "\u001b[1;36m4\u001b[0m. LinearRegression\n",
       "-------------------\n",
       "Name                            Value      Weight      Contribution  \n",
       "                    Intercept    \u001b[1;36m1.00000\u001b[0m    \u001b[1;36m18.99682\u001b[0m       \u001b[1;36m18.99682\u001b[0m  \n",
       "last_21_mean_mean_by_store_id    \u001b[1;36m1.32644\u001b[0m     \u001b[1;36m9.48096\u001b[0m       \u001b[1;36m12.57591\u001b[0m  \n",
       "last_14_mean_mean_by_store_id    \u001b[1;36m1.30097\u001b[0m     \u001b[1;36m2.72577\u001b[0m        \u001b[1;36m3.54615\u001b[0m  \n",
       "                      weekday    \u001b[1;36m0.51168\u001b[0m     \u001b[1;36m5.61055\u001b[0m        \u001b[1;36m2.87078\u001b[0m  \n",
       " last_7_mean_mean_by_store_id    \u001b[1;36m1.28498\u001b[0m     \u001b[1;36m1.23553\u001b[0m        \u001b[1;36m1.58763\u001b[0m  \n",
       "                   is_weekend   \u001b[1;36m-0.61171\u001b[0m    \u001b[1;36m-1.96213\u001b[0m        \u001b[1;36m1.20026\u001b[0m  \n",
       "\n",
       "Prediction: \u001b[1;36m40.77756\u001b[0m\n"
      ]
     },
     "metadata": {},
     "output_type": "display_data"
    }
   ],
   "source": [
    "import itertools\n",
    "\n",
    "model = get_date_features\n",
    "\n",
    "for n in [7, 14, 21]:\n",
    "    model += feature_extraction.TargetAgg(by='store_id', how=utils.Rolling(stats.Mean(), n),target_name=\"last_\"+str(n)+\"_mean\")\n",
    "\n",
    "\n",
    "model |= compose.Discard(*to_discard)\n",
    "model |= preprocessing.StandardScaler()\n",
    "model |= linear_model.LinearRegression()\n",
    "\n",
    "for x, y in itertools.islice(data, 120_000):\n",
    "    y_pred = model.predict_one(x)\n",
    "    model.learn_one(x, y)\n",
    "\n",
    "x, y = next(iter(data))\n",
    "print(model.debug_one(x))"
   ]
  },
  {
   "cell_type": "markdown",
   "id": "065d88b7",
   "metadata": {},
   "source": [
    "# The incremental learning with decision trees\n",
    "\n",
    "Until this point we have focussed on techniques that can be used in a seamessly way with the incremental learning, such as the lineal or logistic regression. However, there are other techniques that can be adapted to follow this approach, although they require a bit more effort. \n",
    "\n",
    "For example, a very important family amoung the machine learning techniques is all Decision Tree related ones. Over the years, epecially when used in a aggregation, this kind of techniques have proven their versatility, flexibility and simplicity. However, the the biggest part of those techniques, the approach requieres several iterations over the data making them unsuitable for incremental learning. Due to this problem, several alternative approaches have arisen in order to take this kind of methodology to the stream learning. \n",
    "\n",
    "One of the most popular adaptations is Hoeffding Trees (HT) due to their properties similar to batched approaches, such as (C4.5/J48, CART, M5, etc.):\n",
    "* Only require a single pass over the data\n",
    "* (Theoretical) guarantees the convergency with their batch counterpart with enough observations and a stationary data distribution\n",
    "* It can operate on scarce resources of memory and computation time.\n",
    "* Some of their variations can deal with non-stationary distributions\n",
    "In fact, when the spotlight is over the Explanaible Artificial Intelligence (XAI) this kind of techniques take the head over other approaches for its easier interpretation.\n",
    "\n",
    "Lets take a look to an example of the use of this kind of technique. For this example, let's use same Restaurant problem that you have already downloaded in the previous section to analyse the result of a single tree.  "
   ]
  },
  {
   "cell_type": "code",
   "execution_count": null,
   "id": "bf02e83f",
   "metadata": {},
   "outputs": [],
   "source": [
    "%%time\n",
    "\n",
    "from river import evaluate, metrics, stats, utils, feature_extraction, preprocessing, compose\n",
    "from river.tree import HoeffdingTreeRegressor\n",
    "import itertools\n",
    "\n",
    "data = Restaurants()\n",
    "to_discard = ['store_id', 'date', 'genre_name', 'area_name', 'latitude', 'longitude']\n",
    "def get_date_features(x):\n",
    "    weekday =  x['date'].weekday()\n",
    "    return {'weekday': weekday, 'is_weekend': weekday in (5, 6)}\n",
    "\n",
    "model = get_date_features\n",
    "\n",
    "for n in [7, 14, 21]:\n",
    "    model += feature_extraction.TargetAgg(by='store_id', how=utils.Rolling(stats.Mean(), n),target_name=\"last_\"+str(n)+\"_mean\")\n",
    "\n",
    "model |= compose.Discard(*to_discard)\n",
    "model |= preprocessing.StandardScaler()\n",
    "model |= HoeffdingTreeRegressor(grace_period=250) #Number of instances a leaf should observe between split attempts\n",
    "\n",
    "for x, y in data:\n",
    "    model.learn_one(x, y)\n"
   ]
  },
  {
   "cell_type": "markdown",
   "id": "bfbb63e5",
   "metadata": {},
   "source": [
    "From this point we can now analyse the resulting model in different ways"
   ]
  },
  {
   "cell_type": "code",
   "execution_count": null,
   "id": "18a2b594",
   "metadata": {},
   "outputs": [],
   "source": [
    "#object analysing\n",
    "model['HoeffdingTreeRegressor']"
   ]
  },
  {
   "cell_type": "markdown",
   "id": "3aeb89c3",
   "metadata": {},
   "source": [
    "That gives an idea of the internal parameters of the object, although we can ask for a summary"
   ]
  },
  {
   "cell_type": "code",
   "execution_count": null,
   "id": "c3b4fbda",
   "metadata": {},
   "outputs": [],
   "source": [
    "#summary of the tree\n",
    "model['HoeffdingTreeRegressor'].summary"
   ]
  },
  {
   "cell_type": "code",
   "execution_count": null,
   "id": "2902c95b",
   "metadata": {},
   "outputs": [],
   "source": [
    "#Pandas data frame \n",
    "(model['HoeffdingTreeRegressor']).to_dataframe()"
   ]
  },
  {
   "cell_type": "markdown",
   "id": "39853b71",
   "metadata": {},
   "source": [
    "Last one could be interesting in a classification approach due to the ability to analyse the internal decision of the model and check the thresholds and weights given, however, in regression it is not useful, lets see an example with the classification"
   ]
  },
  {
   "cell_type": "code",
   "execution_count": null,
   "id": "b7f499b2",
   "metadata": {},
   "outputs": [],
   "source": [
    "\n",
    "from river import evaluate, metrics, stats, utils, feature_extraction, preprocessing, compose\n",
    "from river.tree import HoeffdingTreeClassifier\n",
    "from river.datasets import Phishing #\n",
    "import itertools\n",
    "\n",
    "data = Phishing()\n",
    "\n",
    "model = HoeffdingTreeClassifier(grace_period=50)\n",
    "\n",
    "for x, y in data:\n",
    "    model.learn_one(x, y)\n",
    "    \n",
    "    \n",
    "#summary of the tree\n",
    "print(model.summary)\n",
    "    \n",
    "model.to_dataframe()"
   ]
  },
  {
   "cell_type": "markdown",
   "id": "fb384886",
   "metadata": {},
   "source": [
    "As it can be seen much useful than the output of the regression problem. The same can be said for the plotting of the tree."
   ]
  },
  {
   "cell_type": "code",
   "execution_count": null,
   "id": "50f30a79",
   "metadata": {},
   "outputs": [],
   "source": [
    "#plot like a tree\n",
    "#be aware to have graphviz installed on the system\n",
    "model.draw()"
   ]
  },
  {
   "cell_type": "markdown",
   "id": "9c3591a7",
   "metadata": {},
   "source": [
    "`River`has many implementatrions of the tree but as the authors of the library remember on their [page](https://riverml.xyz/0.14.0/recipes/on-hoeffding-trees/#1-trees-trees-everywhere-gardening-101-with-river), most of them can be organized in the following table.\n",
    "\n",
    "| Name | Acronym | Task | Non-stationary data? | Comments | Source |\n",
    "| :- | :-: | :- | :-: | :- | :-: |\n",
    "| Hoeffding Tree Classifier | HTC | Classification | No | Basic HT for classification tasks | [[1]](https://dl.acm.org/doi/pdf/10.1145/347090.347107)\n",
    "| Hoeffding Adaptive Tree Classifier | HATC | Classification | Yes | Modifies HTC by adding an instance of ADWIN to each node to detect and react to drift detection | [[2]](https://link.springer.com/chapter/10.1007/978-3-642-03915-7_22)\n",
    "| Extremely Fast Decision Tree Classifier | EFDT | Classification | No | Deploys split decisions as soon as possible and periodically revisit decisions and redo them if necessary. Not as fast in practice as the name implies, but it tends to converge faster than HTC to the model generated by a batch DT | [[3]](https://dl.acm.org/doi/abs/10.1145/3219819.3220005)\n",
    "| Hoeffding Tree Regressor | HTR | Regression | No | Basic HT for regression tasks. It is an adaptation of the [FIRT/FIMT](https://link.springer.com/article/10.1007/s10618-010-0201-y) algorithm that bears some semblance to HTC | [[4]](https://link.springer.com/article/10.1007/s10618-010-0201-y)\n",
    "| Hoeffding Adaptive Tree Regressor | HATR | Regression | Yes | Modifies HTR by adding an instance of ADWIN to each node to detect and react to drift detection |\n",
    "| incremental Structured-Output Prediction Tree Regressor| iSOUPT | Multi-target regression | No | Multi-target version of HTR | [[5]](https://link.springer.com/article/10.1007/s10844-017-0462-7)\n",
    "| Label Combination Hoeffding Tree Classifier | LCHTC | Multi-label classification | No | Creates a numerical code for each combination of the binary labels and uses HTC to learn from this encoded representation. At prediction time, decodes the modified representation to obtain the original label set |  -\n",
    "\n",
    "\n",
    "As we can see each variant has a very specific target in mind, although they might overlap sometimes."
   ]
  },
  {
   "cell_type": "markdown",
   "id": "c30360f5",
   "metadata": {},
   "source": [
    "# Reading data from  a file\n",
    "\n",
    "\n",
    "By working with online learning, we expect to obtain data from a stream of data in order to feed our model. However, we typically use saved datasets to develop our basis model before deploying it in a on-line production  environment. So far, the examples we have seen used datasets already contained in the libraries we are studying. These datasets are provided by the library developers, so they fit very well with the shown examples. However,  we will usually need to load our own datasets. River provides different connectors to get data from different  data sources including csv files. River connectors generate iterators over datasets in order to create data streams to feed our online models.\n",
    "\n",
    "In this example we are going to get data from a csv file to analyze the different problems we can get in this process. We are using the very well-know Titanic dataset downloaded from [Kaggle](https://www.kaggle.com/c/titanic/data). It must be noted that this example is focused only on reading and processing data from a file. The model used and its performance is secondary.\n",
    "\n",
    "Despite the online learning scenario differs from the batch learning one, we still need to know the input data structure in order to adapt it to our model. We encourage the readers to check the data dictionary from the [Kaggle web page](https://www.kaggle.com/c/titanic/data).\n",
    "\n",
    "\n",
    "First of all, we load the dataset with Pandas to check data characteristics"
   ]
  },
  {
   "cell_type": "code",
   "execution_count": null,
   "id": "f8b623e8",
   "metadata": {},
   "outputs": [],
   "source": [
    "import pandas as pd\n",
    "dataset_path=\"./datasets/titanic.csv\" #you must change this var whether the dataset is in another path\n",
    "data=pd.read_csv(dataset_path)\n",
    "print(data.head())\n",
    "print(data.dtypes)\n",
    "print(data.describe())\n"
   ]
  },
  {
   "cell_type": "markdown",
   "id": "d306b1cf",
   "metadata": {},
   "source": [
    "Despite the fact River already has a connector to iterate from Pandas DataFrame, in this example we are going to use the [one](https://riverml.xyz/0.14.0/api/stream/iter-csv/)  linked to csv files.\n",
    "\n",
    "<code>iter_csv</code> creates a Python iterator. Each time we use `next` we get a new observation consisting  of a set of both inputs and outputs"
   ]
  },
  {
   "cell_type": "code",
   "execution_count": null,
   "id": "52d59078",
   "metadata": {},
   "outputs": [],
   "source": [
    "from river import stream\n",
    "from rich import print\n",
    "titanic = stream.iter_csv(dataset_path)\n",
    "sample, target = next(titanic)\n",
    "print(sample)\n",
    "print(target)"
   ]
  },
  {
   "cell_type": "markdown",
   "id": "a717e469",
   "metadata": {},
   "source": [
    "There is no way to know which sample attributes are targets, so every one is loaded as an input. We must specify the target attribute names"
   ]
  },
  {
   "cell_type": "code",
   "execution_count": null,
   "id": "43e4adb1",
   "metadata": {},
   "outputs": [],
   "source": [
    "titanic = stream.iter_csv(dataset_path, target=\"Survived\")\n",
    "sample, target = next(titanic)\n",
    "print(\"###Inputs###\")\n",
    "for key, value in sample.items():\n",
    "    print(f\"{key}={value}\")\n",
    "print(\"###Targets###\")\n",
    "print(f\"Survived: {target} - {'yes' if target==1 else 'no'}\")"
   ]
  },
  {
   "cell_type": "markdown",
   "id": "55582b95",
   "metadata": {},
   "source": [
    "## Numerical and categorical (nominal) attributes\n",
    "Using  a River connector, all the loaded attributes are interpreted as strings by default (categorical attributes). We must use the `converters` parameter to modify this behaviour and assign the specific type to each attribute. We are also able to use  (lambda) functions to *convert* the value of the attributes\n",
    "\n",
    "\n",
    "* converters (dict) – defaults to None\n",
    "\n",
    "    All values in the CSV are interpreted as strings by default. You can use this parameter to cast values to the desired type. This should be a dict mapping feature names to callables used to parse their associated values. Note that a callable may be a type, such as float and int.\n",
    "    \n",
    "It must be noted that `convert` functions are executed for each iterator call. If some problem occurs during the data conversion of an specific attribute, we will get an exception. Taking into account that data are not loaded at the beginning, but are loaded one by one by the iterator, exceptions are be able to be thrown in any loop moment. An example can be observed using a `float` converter to assign the type of the *Age* attribute. There are some observations without *Age* information, so a ValueError exception will be throw when an empty *Age* value appears.  In this specific example, we used a function (`float_converter`) for dealing with bad type conversions. Moreover, we can use the `drop_nones` parameter to remove the attributes with None values that we inserted during the data type conversion process.\n",
    "\n",
    "\n",
    "We should also realize that some attributes do not contain valuable information to improve a model. We can drop them when the dataset is loaded or removed in future pipeline steps.\n",
    "\n",
    "\n",
    "* drop (List[str]) – defaults to None\n",
    "\n",
    "    Fields to ignore.\n"
   ]
  },
  {
   "cell_type": "code",
   "execution_count": null,
   "id": "bf202598",
   "metadata": {},
   "outputs": [],
   "source": [
    "removed_attributes=['PassengerId', 'Name', 'Ticket','Fare',]\n",
    "sex=lambda  g: 0 if g==\"male\" else 1\n",
    "def float_converter(a):\n",
    "    try:\n",
    "        a=float(a)\n",
    "    except ValueError:\n",
    "        a=None\n",
    "    return a\n",
    "\n",
    "cabin=lambda  g: 1 if g!=\"\" else 0 #return 1 if the passenger had a cabin. Otherwise 0\n",
    "    \n",
    "\n",
    "\n",
    "titanic = stream.iter_csv(dataset_path, target=\"Survived\", drop_nones=True,\\\n",
    "                          converters={'Survived':int,'Pclass':int, 'Age':float_converter, 'SibSp':int,'Parch':int, 'Sex':sex, 'Cabin':cabin},\\\n",
    "                          drop=removed_attributes)\n",
    "\n",
    "\n",
    "\n",
    "for sample, target in titanic:\n",
    "    print(sample, 'Survived' if target==1 else 'Deceased')\n"
   ]
  },
  {
   "cell_type": "markdown",
   "id": "46b8ccc5",
   "metadata": {},
   "source": [
    "### One hot encoding\n",
    "\n",
    "Different models can be used to deal with the same type of ML problem. However, not all the models can deal with categorical attributes. A typical solution is the one-hot attribute encoding. Rivers provides a preprocessing function to online encode categorical attributes. It must be highlighted that this method does not need to know all the categories in advance. They are added on the fly.\n",
    "\n",
    "Let's check this one-hot encoding funcion with the *Embarked* attribute"
   ]
  },
  {
   "cell_type": "code",
   "execution_count": null,
   "id": "323cccaa",
   "metadata": {},
   "outputs": [],
   "source": [
    "from river import stream, compose, preprocessing\n",
    "titanic = stream.iter_csv(dataset_path, target=\"Survived\", drop_nones=True,\\\n",
    "                          converters={'Survived':int,'Pclass':int, 'Age':float_converter, 'SibSp':int,'Parch':int, 'Sex':sex, 'Cabin':cabin},\\\n",
    "                          drop=removed_attributes)\n",
    "\n",
    "\n",
    "\n",
    "pp = compose.Select('Embarked') | preprocessing.OneHotEncoder(sparse=False)\n",
    "for sample, target in titanic:\n",
    "    pp = pp.learn_one(sample)\n",
    "    print(pp.transform_one(sample))\n",
    "    "
   ]
  },
  {
   "cell_type": "markdown",
   "id": "866be991",
   "metadata": {},
   "source": [
    "#### Adding preprocessing operations to the pipeline\n",
    "We can create a River pipeline with different preprocessing operations for preparing the observations for developing the model. We are able to include feature engineering, one-hot encoding, feature removing, etc."
   ]
  },
  {
   "cell_type": "code",
   "execution_count": null,
   "id": "0775c04f",
   "metadata": {},
   "outputs": [],
   "source": [
    "from river import stream, compose, preprocessing\n",
    "removed_attributes=['PassengerId', 'Name', 'Ticket','Fare',]\n",
    "sex=lambda  g: 0 if g==\"male\" else 1\n",
    "def float_converter(a):\n",
    "    try:\n",
    "        a=float(a)\n",
    "    except ValueError:\n",
    "        a=None\n",
    "    return a\n",
    "\n",
    "cabin=lambda  g: 1 if g!=\"\" else 0 #return 1 if the passenger had a cabin. Otherwise 0\n",
    "\n",
    "def generate_new_attributes(x):#feature enginnering\n",
    "    x[\"FirstClass\"]=1 if x[\"Pclass\"]==1 else 0\n",
    "    x[\"FamilyMembers\"]=x[\"SibSp\"]+x[\"Parch\"]+1\n",
    "    return x\n",
    "\n",
    "titanic = stream.iter_csv(dataset_path, target=\"Survived\", drop_nones=True,\\\n",
    "                          converters={'Survived':int,'Pclass':int, 'Age':float_converter, 'SibSp':int,'Parch':int, 'Sex':sex, 'Cabin':cabin},\\\n",
    "                          drop=removed_attributes)\n",
    "\n",
    "to_discard=['SibSp','Parch','Embarked',\"FirstClass\"]#feature removing\n",
    "\n",
    "pp=compose.FuncTransformer(generate_new_attributes)\\\n",
    "            +(compose.Select('Embarked') | preprocessing.OneHotEncoder(sparse=False))\\\n",
    "            |compose.Discard(*to_discard)\n",
    "                            \n",
    "    \n",
    "\n",
    "for sample, target in titanic:\n",
    "    pp = pp.learn_one(sample)\n",
    "    print(pp.transform_one(sample), 'Survived' if target==1 else 'Deceased')\n",
    "    "
   ]
  },
  {
   "cell_type": "markdown",
   "id": "f1d71dbc",
   "metadata": {},
   "source": [
    "#### Wrapping up\n",
    "Finally, we are able to include every step in a pipeline with a model as we shown in previous examples. Just remember that this example is focused on reading and processing data from a file. The model used and its performance is secondary."
   ]
  },
  {
   "cell_type": "code",
   "execution_count": null,
   "id": "e5a9032c",
   "metadata": {},
   "outputs": [],
   "source": [
    "from river import stream, compose, preprocessing, evaluate, metrics\n",
    "from river.tree import HoeffdingTreeClassifier\n",
    "removed_attributes=['PassengerId', 'Name', 'Ticket','Fare',]\n",
    "sex=lambda  g: 0 if g==\"male\" else 1\n",
    "def float_converter(a):\n",
    "    try:\n",
    "        a=float(a)\n",
    "    except ValueError:\n",
    "        a=None\n",
    "    return a\n",
    "\n",
    "cabin=lambda  g: 1 if g!=\"\" else 0 #return 1 if the passenger had a cabin. Otherwise 0\n",
    "\n",
    "def generate_new_attributes(x):#feature enginnering\n",
    "    x[\"FirstClass\"]=1 if x[\"Pclass\"]==1 else 0\n",
    "    x[\"FamilyMembers\"]=x[\"SibSp\"]+x[\"Parch\"]+1\n",
    "    return x\n",
    "\n",
    "titanic = stream.iter_csv(dataset_path, target=\"Survived\", drop_nones=True,\\\n",
    "                          converters={'Survived':int,'Pclass':int, 'Age':float_converter, 'SibSp':int,'Parch':int, 'Sex':sex, 'Cabin':cabin},\\\n",
    "                          drop=removed_attributes)\n",
    "\n",
    "to_discard=['SibSp','Parch','Embarked',\"FirstClass\"]#feature removing\n",
    "\n",
    "model=compose.FuncTransformer(generate_new_attributes)\\\n",
    "            +(compose.Select('Embarked') | preprocessing.OneHotEncoder(sparse=False))\\\n",
    "            |compose.Discard(*to_discard)\n",
    "\n",
    "model|= HoeffdingTreeClassifier(grace_period=50)\n",
    "\n",
    "\n",
    "print(evaluate.progressive_val_score(dataset=titanic, model=model, metric=metrics.Accuracy()))\n",
    "model['HoeffdingTreeClassifier'].draw()\n",
    "                            "
   ]
  }
 ],
 "metadata": {
  "kernelspec": {
   "display_name": "Python 3 (ipykernel)",
   "language": "python",
   "name": "python3"
  },
  "language_info": {
   "codemirror_mode": {
    "name": "ipython",
    "version": 3
   },
   "file_extension": ".py",
   "mimetype": "text/x-python",
   "name": "python",
   "nbconvert_exporter": "python",
   "pygments_lexer": "ipython3",
   "version": "3.8.15"
  }
 },
 "nbformat": 4,
 "nbformat_minor": 5
}
